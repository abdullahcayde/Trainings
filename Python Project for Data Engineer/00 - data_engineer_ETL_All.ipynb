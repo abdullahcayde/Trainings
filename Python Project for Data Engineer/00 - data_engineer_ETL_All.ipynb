{
 "cells": [
  {
   "cell_type": "code",
   "execution_count": 48,
   "id": "ac1f767a-5a8e-42de-8a64-869ad75c5910",
   "metadata": {},
   "outputs": [],
   "source": [
    "import pandas as pd\n",
    "\n",
    "import glob                        \n",
    "import pandas as pd                \n",
    "import xml.etree.ElementTree as ET \n",
    "from datetime import datetime\n",
    "import requests\n",
    "\n",
    "import warnings\n",
    "warnings.simplefilter(action='ignore')"
   ]
  },
  {
   "cell_type": "markdown",
   "id": "96337fa3-7a31-4231-a9e6-0fe160aa33af",
   "metadata": {},
   "source": [
    "# Unzip Files"
   ]
  },
  {
   "cell_type": "code",
   "execution_count": 2,
   "id": "6fc7c2f3-eeb2-49b0-ae16-2dbb078cf6d1",
   "metadata": {},
   "outputs": [
    {
     "name": "stdout",
     "output_type": "stream",
     "text": [
      "Archive:  datasource.zip\n",
      "  inflating: dealership_data/used_car_prices1.csv  \n",
      "  inflating: dealership_data/used_car_prices2.csv  \n",
      "  inflating: dealership_data/used_car_prices3.csv  \n",
      "  inflating: dealership_data/used_car_prices1.json  \n",
      "  inflating: dealership_data/used_car_prices2.json  \n",
      "  inflating: dealership_data/used_car_prices3.json  \n",
      "  inflating: dealership_data/used_car_prices1.xml  \n",
      "  inflating: dealership_data/used_car_prices2.xml  \n",
      "  inflating: dealership_data/used_car_prices3.xml  \n"
     ]
    }
   ],
   "source": [
    "!unzip datasource.zip -d dealership_data"
   ]
  },
  {
   "cell_type": "markdown",
   "id": "4a9b386d-0780-4baf-9106-c5c3ab7a61b3",
   "metadata": {},
   "source": [
    "# About the Data \n",
    "\n",
    "The file `dealership_data` contains CSV, JSON, and XML files for used car data which contain features named `car_model`, `year_of_manufacture`, `price`, and `fuel`.\n"
   ]
  },
  {
   "cell_type": "markdown",
   "id": "2b5ae080-284e-403d-bfc4-6e9084f5fed6",
   "metadata": {},
   "source": [
    "# Set Paths"
   ]
  },
  {
   "cell_type": "code",
   "execution_count": 3,
   "id": "b54164c9-c547-48a1-9156-a4486e3b24fe",
   "metadata": {},
   "outputs": [],
   "source": [
    "tmpfile = 'dealership_temp.tmp'\n",
    "logfile = 'dealership_log.txt'\n",
    "targetfile = 'dealership_transformed_data.csv'"
   ]
  },
  {
   "cell_type": "markdown",
   "id": "efde7c21-08a7-4606-9c21-ba7406df74f3",
   "metadata": {},
   "source": [
    "# Extract "
   ]
  },
  {
   "cell_type": "markdown",
   "id": "a0882e8b-932c-426e-a005-e9b1364f130f",
   "metadata": {},
   "source": [
    "## Extract csv"
   ]
  },
  {
   "cell_type": "code",
   "execution_count": 4,
   "id": "6a9c181d-cb2a-4d6b-8ed2-075eb1652d88",
   "metadata": {},
   "outputs": [],
   "source": [
    "def extract_csv(data):\n",
    "    df_csv = pd.read_csv(data)\n",
    "    return df_csv"
   ]
  },
  {
   "cell_type": "markdown",
   "id": "6ffc34f7-8b17-4ffd-ac9b-64068c898841",
   "metadata": {},
   "source": [
    "## Extract Json"
   ]
  },
  {
   "cell_type": "code",
   "execution_count": 7,
   "id": "7e44e9fa-220a-4097-a6c8-60bc85c56402",
   "metadata": {},
   "outputs": [],
   "source": [
    "def extract_json(data):\n",
    "    df_json = pd.read_json(data, lines=True)\n",
    "    return df_json"
   ]
  },
  {
   "cell_type": "markdown",
   "id": "0fce2100-59a3-42df-94d8-a5c6d53c623b",
   "metadata": {},
   "source": [
    "## Extract Xml"
   ]
  },
  {
   "cell_type": "code",
   "execution_count": 23,
   "id": "cafad944-72e8-4ccb-a794-5ce43d97f5be",
   "metadata": {},
   "outputs": [],
   "source": [
    "def extract_from_xml(data):\n",
    "    df_xml = pd.DataFrame(columns=[\"car_model\", \"year_of_manufacture\", \"price\", \"fuel\"])\n",
    "    tree = ET.parse(data)\n",
    "    root = tree.getroot()\n",
    "    for car in root:\n",
    "        car_model = car.find(\"car_model\").text\n",
    "        year_of_manufacture = float(car.find(\"year_of_manufacture\").text)\n",
    "        price = float(car.find(\"price\").text)\n",
    "        fuel = str(car.find(\"fuel\").text)\n",
    "        df_xml = df_xml.append({\"car_model\":car_model, \"year_of_manufacture\":year_of_manufacture, \"price\":price, \"fuel\":fuel}, ignore_index=True)\n",
    "    return df_xml"
   ]
  },
  {
   "cell_type": "markdown",
   "id": "09aa261b-2aa1-4ed1-8737-18a46121b1f1",
   "metadata": {},
   "source": [
    "## Extract Function"
   ]
  },
  {
   "cell_type": "code",
   "execution_count": 10,
   "id": "a89cea6b-b83b-4153-9212-73195d1d87b2",
   "metadata": {},
   "outputs": [],
   "source": [
    "def extract():\n",
    "    extracted_data = pd.DataFrame(columns=['car_model','year_of_manufacture','price', 'fuel']) # create an empty data frame to hold extracted data\n",
    "    \n",
    "    #process all csv files\n",
    "    for csvfile in glob.glob(\"dealership_data/*.csv\"):\n",
    "        extracted_data = extracted_data.append(extract_csv(csvfile), ignore_index=True)\n",
    "        \n",
    "    #process all json files\n",
    "    for jsonfile in glob.glob(\"dealership_data/*.json\"):\n",
    "        extracted_data = extracted_data.append(extract_json(jsonfile), ignore_index=True)\n",
    "    \n",
    "    #process all xml files\n",
    "    for xmlfile in glob.glob(\"dealership_data/*.xml\"):\n",
    "        extracted_data = extracted_data.append(extract_from_xml(xmlfile), ignore_index=True)\n",
    "        \n",
    "    return extracted_data"
   ]
  },
  {
   "cell_type": "markdown",
   "id": "2feaa80a-19f4-4ad3-bb8d-ffc7e13c2837",
   "metadata": {},
   "source": [
    "# Transform"
   ]
  },
  {
   "cell_type": "markdown",
   "id": "27c42f3a-33bf-4e6f-b250-c59c02fe67a8",
   "metadata": {},
   "source": [
    "## Round the Price columns to 2 decimal places"
   ]
  },
  {
   "cell_type": "code",
   "execution_count": 41,
   "id": "c203b54a-7446-4d71-9d92-9625daacf5ab",
   "metadata": {},
   "outputs": [],
   "source": [
    "def transform_two_decimal(data):\n",
    "    data.price = data.price.apply(lambda x: round(x, 2))\n",
    "    data.year_of_manufacture = data.year_of_manufacture.apply(lambda x: int(x))\n",
    "    return data"
   ]
  },
  {
   "cell_type": "markdown",
   "id": "4c4f5004-8c00-4178-87c1-f07470b95c1b",
   "metadata": {},
   "source": [
    "# Load"
   ]
  },
  {
   "cell_type": "code",
   "execution_count": 14,
   "id": "c1b54b4d-1869-43cd-ae8d-0a9251e2ea88",
   "metadata": {},
   "outputs": [],
   "source": [
    "def load(targetfile, data):\n",
    "    data.to_csv(targetfile)"
   ]
  },
  {
   "cell_type": "markdown",
   "id": "b007f313-2d05-411f-a5d6-a185d784acfe",
   "metadata": {},
   "source": [
    "# Logging"
   ]
  },
  {
   "cell_type": "code",
   "execution_count": 16,
   "id": "4bf1319e-b8ec-4b99-a129-7e9c88cf3373",
   "metadata": {},
   "outputs": [],
   "source": [
    "def log(message):\n",
    "    timestamp_format = '%Y-%h-%d-%H:%M:%S' # Year-Monthname-Day-Hour-Minute-Second\n",
    "    now = datetime.now() # get current timestamp\n",
    "    timestamp = now.strftime(timestamp_format)\n",
    "    with open(\"logfile.txt\",\"a\") as f:\n",
    "        f.write(timestamp + ',' + message + '\\n')"
   ]
  },
  {
   "cell_type": "markdown",
   "id": "75eaed46-0124-4a31-bdeb-c23657c91474",
   "metadata": {},
   "source": [
    "# Running ETL Process"
   ]
  },
  {
   "cell_type": "code",
   "execution_count": 44,
   "id": "0715eeb9-9784-4108-8b4b-fda6107e126d",
   "metadata": {},
   "outputs": [
    {
     "data": {
      "text/html": [
       "<div>\n",
       "<style scoped>\n",
       "    .dataframe tbody tr th:only-of-type {\n",
       "        vertical-align: middle;\n",
       "    }\n",
       "\n",
       "    .dataframe tbody tr th {\n",
       "        vertical-align: top;\n",
       "    }\n",
       "\n",
       "    .dataframe thead th {\n",
       "        text-align: right;\n",
       "    }\n",
       "</style>\n",
       "<table border=\"1\" class=\"dataframe\">\n",
       "  <thead>\n",
       "    <tr style=\"text-align: right;\">\n",
       "      <th></th>\n",
       "      <th>car_model</th>\n",
       "      <th>year_of_manufacture</th>\n",
       "      <th>price</th>\n",
       "      <th>fuel</th>\n",
       "    </tr>\n",
       "  </thead>\n",
       "  <tbody>\n",
       "    <tr>\n",
       "      <th>0</th>\n",
       "      <td>ritz</td>\n",
       "      <td>2014</td>\n",
       "      <td>5000.00</td>\n",
       "      <td>Petrol</td>\n",
       "    </tr>\n",
       "    <tr>\n",
       "      <th>1</th>\n",
       "      <td>sx4</td>\n",
       "      <td>2013</td>\n",
       "      <td>7089.55</td>\n",
       "      <td>Diesel</td>\n",
       "    </tr>\n",
       "    <tr>\n",
       "      <th>2</th>\n",
       "      <td>ciaz</td>\n",
       "      <td>2017</td>\n",
       "      <td>10820.90</td>\n",
       "      <td>Petrol</td>\n",
       "    </tr>\n",
       "    <tr>\n",
       "      <th>3</th>\n",
       "      <td>wagon r</td>\n",
       "      <td>2011</td>\n",
       "      <td>4253.73</td>\n",
       "      <td>Petrol</td>\n",
       "    </tr>\n",
       "    <tr>\n",
       "      <th>4</th>\n",
       "      <td>swift</td>\n",
       "      <td>2014</td>\n",
       "      <td>6865.67</td>\n",
       "      <td>Diesel</td>\n",
       "    </tr>\n",
       "    <tr>\n",
       "      <th>...</th>\n",
       "      <td>...</td>\n",
       "      <td>...</td>\n",
       "      <td>...</td>\n",
       "      <td>...</td>\n",
       "    </tr>\n",
       "    <tr>\n",
       "      <th>85</th>\n",
       "      <td>etios liva</td>\n",
       "      <td>2014</td>\n",
       "      <td>7089.55</td>\n",
       "      <td>Diesel</td>\n",
       "    </tr>\n",
       "    <tr>\n",
       "      <th>86</th>\n",
       "      <td>innova</td>\n",
       "      <td>2017</td>\n",
       "      <td>29477.61</td>\n",
       "      <td>Petrol</td>\n",
       "    </tr>\n",
       "    <tr>\n",
       "      <th>87</th>\n",
       "      <td>fortuner</td>\n",
       "      <td>2010</td>\n",
       "      <td>13805.97</td>\n",
       "      <td>Diesel</td>\n",
       "    </tr>\n",
       "    <tr>\n",
       "      <th>88</th>\n",
       "      <td>corolla altis</td>\n",
       "      <td>2011</td>\n",
       "      <td>6492.54</td>\n",
       "      <td>Petrol</td>\n",
       "    </tr>\n",
       "    <tr>\n",
       "      <th>89</th>\n",
       "      <td>corolla altis</td>\n",
       "      <td>2016</td>\n",
       "      <td>21268.66</td>\n",
       "      <td>Petrol</td>\n",
       "    </tr>\n",
       "  </tbody>\n",
       "</table>\n",
       "<p>90 rows × 4 columns</p>\n",
       "</div>"
      ],
      "text/plain": [
       "        car_model  year_of_manufacture     price    fuel\n",
       "0            ritz                 2014   5000.00  Petrol\n",
       "1             sx4                 2013   7089.55  Diesel\n",
       "2            ciaz                 2017  10820.90  Petrol\n",
       "3         wagon r                 2011   4253.73  Petrol\n",
       "4           swift                 2014   6865.67  Diesel\n",
       "..            ...                  ...       ...     ...\n",
       "85     etios liva                 2014   7089.55  Diesel\n",
       "86         innova                 2017  29477.61  Petrol\n",
       "87       fortuner                 2010  13805.97  Diesel\n",
       "88  corolla altis                 2011   6492.54  Petrol\n",
       "89  corolla altis                 2016  21268.66  Petrol\n",
       "\n",
       "[90 rows x 4 columns]"
      ]
     },
     "execution_count": 44,
     "metadata": {},
     "output_type": "execute_result"
    }
   ],
   "source": [
    "log('ETL started')\n",
    "\n",
    "log(\"Extract phase Started\")\n",
    "extracted_data = extract()\n",
    "log(\"Extract phase Ended\")\n",
    "extracted_data\n",
    "\n",
    "log(\"Transform phase Started\")\n",
    "transformed_data = transform_two_decimal(extracted_data)\n",
    "log(\"Transform phase Ended\")\n",
    "transformed_data "
   ]
  },
  {
   "cell_type": "markdown",
   "id": "8a1f8070-8522-49da-9d3e-d54805ff031c",
   "metadata": {},
   "source": [
    "# Data Engineer Web Scraping"
   ]
  },
  {
   "cell_type": "code",
   "execution_count": 45,
   "id": "2a811c34-9e82-4280-b540-9f3591cb5320",
   "metadata": {},
   "outputs": [],
   "source": [
    "link = 'https://en.wikipedia.org/wiki/List_of_largest_banks'"
   ]
  },
  {
   "cell_type": "code",
   "execution_count": null,
   "id": "938a65b8-06ed-437b-8d5b-f781400cd02a",
   "metadata": {},
   "outputs": [],
   "source": []
  },
  {
   "cell_type": "code",
   "execution_count": null,
   "id": "84a193b7-da2c-4188-b23c-3382d64f8f95",
   "metadata": {},
   "outputs": [],
   "source": []
  },
  {
   "cell_type": "markdown",
   "id": "d383dbb7-c442-4313-9de2-e73f9316fcfb",
   "metadata": {},
   "source": [
    "# Peer Review Assignment - Data Engineer - Extract API Data"
   ]
  },
  {
   "cell_type": "code",
   "execution_count": 70,
   "id": "15354412-56d2-40f5-b5f1-67258d15846d",
   "metadata": {
    "tags": []
   },
   "outputs": [
    {
     "name": "stdout",
     "output_type": "stream",
     "text": [
      "{\n",
      "    \"success\": true,\n",
      "    \"timestamp\": 1676733243,\n",
      "    \"base\": \"EUR\",\n",
      "    \"date\": \"2023-02-18\",\n",
      "   \n"
     ]
    }
   ],
   "source": [
    "# Write your code here\n",
    "website = 'https://exchangeratesapi.io'\n",
    "url = \"https://api.apilayer.com/exchangerates_data/latest?base=EUR&apikey=fJbgOoOeI0uJgk3yvRhoLLk91KdGWsw7\" #Make sure to change ******* to your API key.\n",
    "\n",
    "payload = {}\n",
    "headers= {\n",
    "  \"apikey\": \"fJbgOoOeI0uJgk3yvRhoLLk91KdGWsw7\"\n",
    "}\n",
    "\n",
    "response = requests.request(\"GET\", url, headers=headers, data = payload)\n",
    "\n",
    "status_code = response.status_code\n",
    "result = response.text\n",
    "print(result[:100])"
   ]
  },
  {
   "cell_type": "code",
   "execution_count": 67,
   "id": "fd32c4c3-98f7-4615-accc-247b95d194c3",
   "metadata": {
    "collapsed": true,
    "jupyter": {
     "outputs_hidden": true
    },
    "tags": []
   },
   "outputs": [
    {
     "name": "stdout",
     "output_type": "stream",
     "text": [
      "<class 'dict'>\n"
     ]
    },
    {
     "data": {
      "text/plain": [
       "{'success': True,\n",
       " 'timestamp': 1676703604,\n",
       " 'base': 'EUR',\n",
       " 'date': '2023-02-18',\n",
       " 'rates': {'AED': 3.937634,\n",
       "  'AFN': 95.411639,\n",
       "  'ALL': 116.048378,\n",
       "  'AMD': 421.647183,\n",
       "  'ANG': 1.932588,\n",
       "  'AOA': 542.990728,\n",
       "  'ARS': 206.499627,\n",
       "  'AUD': 1.558424,\n",
       "  'AWG': 1.929666,\n",
       "  'AZN': 1.826718,\n",
       "  'BAM': 1.973858,\n",
       "  'BBD': 2.165125,\n",
       "  'BDT': 113.45455,\n",
       "  'BGN': 1.960316,\n",
       "  'BHD': 0.403996,\n",
       "  'BIF': 2219.115448,\n",
       "  'BMD': 1.072036,\n",
       "  'BND': 1.437308,\n",
       "  'BOB': 7.409975,\n",
       "  'BRL': 5.540328,\n",
       "  'BSD': 1.072369,\n",
       "  'BTC': 4.3522112e-05,\n",
       "  'BTN': 88.79537,\n",
       "  'BWP': 14.184423,\n",
       "  'BYN': 2.706722,\n",
       "  'BYR': 21011.914385,\n",
       "  'BZD': 2.161492,\n",
       "  'CAD': 1.444516,\n",
       "  'CDF': 2194.458997,\n",
       "  'CHF': 0.991571,\n",
       "  'CLF': 0.030668,\n",
       "  'CLP': 846.212395,\n",
       "  'CNY': 7.362322,\n",
       "  'COP': 5252.882113,\n",
       "  'CRC': 599.703408,\n",
       "  'CUC': 1.072036,\n",
       "  'CUP': 28.408966,\n",
       "  'CVE': 111.08982,\n",
       "  'CZK': 23.755796,\n",
       "  'DJF': 190.52274,\n",
       "  'DKK': 7.463629,\n",
       "  'DOP': 60.013022,\n",
       "  'DZD': 146.428102,\n",
       "  'EGP': 32.673539,\n",
       "  'ERN': 16.080547,\n",
       "  'ETB': 57.515176,\n",
       "  'EUR': 1,\n",
       "  'FJD': 2.367861,\n",
       "  'FKP': 0.892301,\n",
       "  'GBP': 0.8901,\n",
       "  'GEL': 2.835579,\n",
       "  'GGP': 0.892301,\n",
       "  'GHS': 13.480901,\n",
       "  'GIP': 0.892301,\n",
       "  'GMD': 65.555447,\n",
       "  'GNF': 9433.921126,\n",
       "  'GTQ': 8.390965,\n",
       "  'GYD': 226.261282,\n",
       "  'HKD': 8.411466,\n",
       "  'HNL': 26.483418,\n",
       "  'HRK': 7.562996,\n",
       "  'HTG': 160.711108,\n",
       "  'HUF': 384.636373,\n",
       "  'IDR': 16258.504774,\n",
       "  'ILS': 3.807235,\n",
       "  'IMP': 0.892301,\n",
       "  'INR': 88.78086,\n",
       "  'IQD': 1565.709233,\n",
       "  'IRR': 45293.540316,\n",
       "  'ISK': 154.502307,\n",
       "  'JEP': 0.892301,\n",
       "  'JMD': 165.501291,\n",
       "  'JOD': 0.761559,\n",
       "  'JPY': 143.76549,\n",
       "  'KES': 134.973467,\n",
       "  'KGS': 93.717839,\n",
       "  'KHR': 4374.981121,\n",
       "  'KMF': 493.784058,\n",
       "  'KPW': 964.818866,\n",
       "  'KRW': 1389.256098,\n",
       "  'KWD': 0.32844,\n",
       "  'KYD': 0.89354,\n",
       "  'KZT': 481.113028,\n",
       "  'LAK': 18152.261214,\n",
       "  'LBP': 16301.211915,\n",
       "  'LKR': 391.943735,\n",
       "  'LRD': 168.63538,\n",
       "  'LSL': 19.329226,\n",
       "  'LTL': 3.165445,\n",
       "  'LVL': 0.648465,\n",
       "  'LYD': 5.149811,\n",
       "  'MAD': 11.077893,\n",
       "  'MDL': 20.080001,\n",
       "  'MGA': 4623.161211,\n",
       "  'MKD': 61.948887,\n",
       "  'MMK': 2251.933735,\n",
       "  'MNT': 3775.519,\n",
       "  'MOP': 8.664415,\n",
       "  'MRO': 382.716828,\n",
       "  'MUR': 49.367684,\n",
       "  'MVR': 16.466886,\n",
       "  'MWK': 1098.305349,\n",
       "  'MXN': 19.68388,\n",
       "  'MYR': 4.751307,\n",
       "  'MZN': 67.6495,\n",
       "  'NAD': 19.329222,\n",
       "  'NGN': 493.71607,\n",
       "  'NIO': 39.027528,\n",
       "  'NOK': 11.071869,\n",
       "  'NPR': 142.072633,\n",
       "  'NZD': 1.716632,\n",
       "  'OMR': 0.411935,\n",
       "  'PAB': 1.072269,\n",
       "  'PEN': 4.116088,\n",
       "  'PGK': 3.77397,\n",
       "  'PHP': 59.310458,\n",
       "  'PKR': 281.892386,\n",
       "  'PLN': 4.769866,\n",
       "  'PYG': 7819.739256,\n",
       "  'QAR': 3.903326,\n",
       "  'RON': 4.920115,\n",
       "  'RSD': 117.64568,\n",
       "  'RUB': 79.331062,\n",
       "  'RWF': 1168.519729,\n",
       "  'SAR': 4.018639,\n",
       "  'SBD': 8.861167,\n",
       "  'SCR': 14.02067,\n",
       "  'SDG': 627.681284,\n",
       "  'SEK': 11.200369,\n",
       "  'SGD': 1.433424,\n",
       "  'SHP': 1.304401,\n",
       "  'SLE': 21.268849,\n",
       "  'SLL': 21172.720215,\n",
       "  'SOS': 610.528686,\n",
       "  'SRD': 35.357947,\n",
       "  'STD': 22188.990045,\n",
       "  'SVC': 9.382476,\n",
       "  'SYP': 2692.754345,\n",
       "  'SZL': 19.329213,\n",
       "  'THB': 36.846289,\n",
       "  'TJS': 11.275623,\n",
       "  'TMT': 3.762848,\n",
       "  'TND': 3.323853,\n",
       "  'TOP': 2.50932,\n",
       "  'TRY': 20.185271,\n",
       "  'TTD': 7.276692,\n",
       "  'TWD': 32.577905,\n",
       "  'TZS': 2508.565648,\n",
       "  'UAH': 39.403997,\n",
       "  'UGX': 3935.452694,\n",
       "  'USD': 1.072036,\n",
       "  'UYU': 42.207121,\n",
       "  'UZS': 12167.614046,\n",
       "  'VEF': 2608217.223938,\n",
       "  'VES': 26.111512,\n",
       "  'VND': 25535.908197,\n",
       "  'VUV': 126.533645,\n",
       "  'WST': 2.895381,\n",
       "  'XAF': 661.994062,\n",
       "  'XAG': 0.049295,\n",
       "  'XAU': 0.000582,\n",
       "  'XCD': 2.897233,\n",
       "  'XDR': 0.802216,\n",
       "  'XOF': 659.84229,\n",
       "  'XPF': 120.17914,\n",
       "  'YER': 268.384714,\n",
       "  'ZAR': 19.352274,\n",
       "  'ZMK': 9649.618325,\n",
       "  'ZMW': 20.830167,\n",
       "  'ZWL': 345.195299}}"
      ]
     },
     "execution_count": 67,
     "metadata": {},
     "output_type": "execute_result"
    }
   ],
   "source": [
    "import json\n",
    "result_json = response.json()\n",
    "print(type(result_json))\n",
    "result_json"
   ]
  },
  {
   "cell_type": "code",
   "execution_count": 68,
   "id": "b3203604-3396-45c1-a7c6-0d86b92d5aa9",
   "metadata": {},
   "outputs": [
    {
     "data": {
      "text/html": [
       "<div>\n",
       "<style scoped>\n",
       "    .dataframe tbody tr th:only-of-type {\n",
       "        vertical-align: middle;\n",
       "    }\n",
       "\n",
       "    .dataframe tbody tr th {\n",
       "        vertical-align: top;\n",
       "    }\n",
       "\n",
       "    .dataframe thead th {\n",
       "        text-align: right;\n",
       "    }\n",
       "</style>\n",
       "<table border=\"1\" class=\"dataframe\">\n",
       "  <thead>\n",
       "    <tr style=\"text-align: right;\">\n",
       "      <th></th>\n",
       "      <th>rates</th>\n",
       "    </tr>\n",
       "  </thead>\n",
       "  <tbody>\n",
       "    <tr>\n",
       "      <th>AED</th>\n",
       "      <td>3.937634</td>\n",
       "    </tr>\n",
       "    <tr>\n",
       "      <th>AFN</th>\n",
       "      <td>95.411639</td>\n",
       "    </tr>\n",
       "    <tr>\n",
       "      <th>ALL</th>\n",
       "      <td>116.048378</td>\n",
       "    </tr>\n",
       "    <tr>\n",
       "      <th>AMD</th>\n",
       "      <td>421.647183</td>\n",
       "    </tr>\n",
       "    <tr>\n",
       "      <th>ANG</th>\n",
       "      <td>1.932588</td>\n",
       "    </tr>\n",
       "  </tbody>\n",
       "</table>\n",
       "</div>"
      ],
      "text/plain": [
       "          rates\n",
       "AED    3.937634\n",
       "AFN   95.411639\n",
       "ALL  116.048378\n",
       "AMD  421.647183\n",
       "ANG    1.932588"
      ]
     },
     "execution_count": 68,
     "metadata": {},
     "output_type": "execute_result"
    }
   ],
   "source": [
    "# Turn the data into a dataframe\n",
    "df = pd.DataFrame(result_json)\n",
    "\n",
    "# Drop unnescessary columns\n",
    "df = df.drop(columns=['success', 'timestamp', 'base', 'date'])\n",
    "df.head()"
   ]
  },
  {
   "cell_type": "code",
   "execution_count": 69,
   "id": "26311d83-fb65-4eea-9150-42e5cb490590",
   "metadata": {},
   "outputs": [],
   "source": [
    "# Save the Dataframe\n",
    "df.to_csv('exchange_rates_1.csv')"
   ]
  },
  {
   "cell_type": "markdown",
   "id": "c693b843-1a62-46ff-9056-c8bcb3aa2603",
   "metadata": {},
   "source": [
    "# Peer Review Assignment - Data Engineer - ETL"
   ]
  },
  {
   "cell_type": "markdown",
   "id": "1d1b8d74-898d-46d6-be1b-b76465af8e54",
   "metadata": {},
   "source": [
    "## Imports\n",
    "\n",
    "Import any additional libraries you may need here."
   ]
  },
  {
   "cell_type": "code",
   "execution_count": 72,
   "id": "17393056-1674-4af8-8252-b88b46c2e41b",
   "metadata": {},
   "outputs": [],
   "source": [
    "import glob\n",
    "import pandas as pd\n",
    "import json\n",
    "from datetime import datetime"
   ]
  },
  {
   "cell_type": "markdown",
   "id": "7b7804c6-6869-441d-a366-cfb19ad4837d",
   "metadata": {},
   "source": [
    "## Extract\n",
    "\n",
    "### Json Extract\n",
    "This function will extract JSON files."
   ]
  },
  {
   "cell_type": "code",
   "execution_count": 73,
   "id": "0994748b-b845-4d7d-8874-01c522617a33",
   "metadata": {},
   "outputs": [],
   "source": [
    "def extract_from_json(file_to_process):\n",
    "    dataframe = pd.read_json(file_to_process)\n",
    "    return dataframe"
   ]
  },
  {
   "cell_type": "code",
   "execution_count": 90,
   "id": "99021c38-15a1-4d08-aa19-7b892cb2aceb",
   "metadata": {},
   "outputs": [],
   "source": [
    "columns=['Name','Market Cap (US$ Billion)']\n",
    "\n",
    "def extract():\n",
    "    # Write your code here\n",
    "    extracted_data = pd.DataFrame(columns=columns)\n",
    "\n",
    "    # process json file\n",
    "    extracted_data = extract_from_json('bank_market_cap_1.json')\n",
    "    \n",
    "    return extracted_data"
   ]
  },
  {
   "cell_type": "code",
   "execution_count": 80,
   "id": "9b2a7eda-ac85-4423-bfd2-185a48802dc5",
   "metadata": {},
   "outputs": [
    {
     "data": {
      "text/html": [
       "<div>\n",
       "<style scoped>\n",
       "    .dataframe tbody tr th:only-of-type {\n",
       "        vertical-align: middle;\n",
       "    }\n",
       "\n",
       "    .dataframe tbody tr th {\n",
       "        vertical-align: top;\n",
       "    }\n",
       "\n",
       "    .dataframe thead th {\n",
       "        text-align: right;\n",
       "    }\n",
       "</style>\n",
       "<table border=\"1\" class=\"dataframe\">\n",
       "  <thead>\n",
       "    <tr style=\"text-align: right;\">\n",
       "      <th></th>\n",
       "      <th>symbol</th>\n",
       "      <th>rates</th>\n",
       "    </tr>\n",
       "  </thead>\n",
       "  <tbody>\n",
       "    <tr>\n",
       "      <th>0</th>\n",
       "      <td>AUD</td>\n",
       "      <td>1.297088</td>\n",
       "    </tr>\n",
       "    <tr>\n",
       "      <th>1</th>\n",
       "      <td>BGN</td>\n",
       "      <td>1.608653</td>\n",
       "    </tr>\n",
       "    <tr>\n",
       "      <th>2</th>\n",
       "      <td>BRL</td>\n",
       "      <td>5.409196</td>\n",
       "    </tr>\n",
       "    <tr>\n",
       "      <th>3</th>\n",
       "      <td>CAD</td>\n",
       "      <td>1.271426</td>\n",
       "    </tr>\n",
       "    <tr>\n",
       "      <th>4</th>\n",
       "      <td>CHF</td>\n",
       "      <td>0.886083</td>\n",
       "    </tr>\n",
       "  </tbody>\n",
       "</table>\n",
       "</div>"
      ],
      "text/plain": [
       "  symbol     rates\n",
       "0    AUD  1.297088\n",
       "1    BGN  1.608653\n",
       "2    BRL  5.409196\n",
       "3    CAD  1.271426\n",
       "4    CHF  0.886083"
      ]
     },
     "execution_count": 80,
     "metadata": {},
     "output_type": "execute_result"
    }
   ],
   "source": [
    "df_rate = pd.read_csv('exchange_rates.csv')\n",
    "df_rate.columns = ['symbol', 'rates']\n",
    "df_rate.head()"
   ]
  },
  {
   "cell_type": "code",
   "execution_count": 81,
   "id": "a654dce8-eb77-43e3-8dc5-1a2b0f17e20e",
   "metadata": {},
   "outputs": [
    {
     "data": {
      "text/html": [
       "<div>\n",
       "<style scoped>\n",
       "    .dataframe tbody tr th:only-of-type {\n",
       "        vertical-align: middle;\n",
       "    }\n",
       "\n",
       "    .dataframe tbody tr th {\n",
       "        vertical-align: top;\n",
       "    }\n",
       "\n",
       "    .dataframe thead th {\n",
       "        text-align: right;\n",
       "    }\n",
       "</style>\n",
       "<table border=\"1\" class=\"dataframe\">\n",
       "  <thead>\n",
       "    <tr style=\"text-align: right;\">\n",
       "      <th></th>\n",
       "      <th>symbol</th>\n",
       "      <th>rates</th>\n",
       "    </tr>\n",
       "  </thead>\n",
       "  <tbody>\n",
       "    <tr>\n",
       "      <th>9</th>\n",
       "      <td>GBP</td>\n",
       "      <td>0.732398</td>\n",
       "    </tr>\n",
       "  </tbody>\n",
       "</table>\n",
       "</div>"
      ],
      "text/plain": [
       "  symbol     rates\n",
       "9    GBP  0.732398"
      ]
     },
     "execution_count": 81,
     "metadata": {},
     "output_type": "execute_result"
    }
   ],
   "source": [
    "df_rate.loc[df_rate.symbol == 'GBP']"
   ]
  },
  {
   "cell_type": "code",
   "execution_count": 98,
   "id": "8acd07d2-1f9f-4910-bef1-33a7323c14ad",
   "metadata": {},
   "outputs": [
    {
     "data": {
      "text/plain": [
       "0.7323984208000001"
      ]
     },
     "execution_count": 98,
     "metadata": {},
     "output_type": "execute_result"
    }
   ],
   "source": [
    "exchange_rate = float(df_rate.loc[df_rate.symbol == 'GBP'].rates.values)\n",
    "exchange_rate"
   ]
  },
  {
   "cell_type": "code",
   "execution_count": 83,
   "id": "25af24ad-2015-411f-891a-382bd65494bd",
   "metadata": {},
   "outputs": [],
   "source": [
    "def transform(data):\n",
    "    # Write your code here\n",
    "    data['Market Cap (US$ Billion)'] = data['Market Cap (US$ Billion)'].apply(lambda x : round((x * exchange_rate), 3))\n",
    "    data.columns = ['Name', 'Market Cap (GBP$ Billion)']\n",
    "    return data"
   ]
  },
  {
   "cell_type": "code",
   "execution_count": 84,
   "id": "c8b274fa-e151-46a7-b916-7544eb44e2d1",
   "metadata": {},
   "outputs": [],
   "source": [
    "def load(target_file, data):\n",
    "    data.to_csv(target_file)"
   ]
  },
  {
   "cell_type": "code",
   "execution_count": 85,
   "id": "45eb7d6e-87c1-41db-b91f-570f3279e998",
   "metadata": {},
   "outputs": [],
   "source": [
    "def log(message):\n",
    "    # Write your code here\n",
    "    timestamp_format = '%Y-%h-%d-%H:%M:%S' # Year-Monthname-Day-Hour-Minute-Second\n",
    "    now = datetime.now() # get current timestamp\n",
    "    timestamp = now.strftime(timestamp_format)\n",
    "    with open(\"logfile2.txt\",\"a\") as f:\n",
    "        f.write(timestamp + ',' + message + '\\n')"
   ]
  },
  {
   "cell_type": "code",
   "execution_count": 91,
   "id": "61fbf9cb-24df-4904-8bb1-872a8f8db3b6",
   "metadata": {},
   "outputs": [
    {
     "name": "stdout",
     "output_type": "stream",
     "text": [
      "                                      Name  Market Cap (US$ Billion)\n",
      "0                           JPMorgan Chase                   390.934\n",
      "1  Industrial and Commercial Bank of China                   345.214\n",
      "2                          Bank of America                   325.331\n",
      "3                              Wells Fargo                   308.013\n",
      "4                  China Construction Bank                   257.399\n",
      "                                      Name  Market Cap (GBP$ Billion)\n",
      "0                           JPMorgan Chase                    286.319\n",
      "1  Industrial and Commercial Bank of China                    252.834\n",
      "2                          Bank of America                    238.272\n",
      "3                              Wells Fargo                    225.588\n",
      "4                  China Construction Bank                    188.519\n"
     ]
    }
   ],
   "source": [
    "log('ETL started')\n",
    "\n",
    "log(\"Extract phase Started\")\n",
    "extracted_data = extract()\n",
    "log(\"Extract phase Ended\")\n",
    "print(extracted_data.head())\n",
    "\n",
    "log(\"Transform phase Started\")\n",
    "transformed_data = transform(extracted_data)\n",
    "log(\"Transform phase Ended\")\n",
    "print(transformed_data.head())\n",
    "\n",
    "log(\"Load phase Started\")\n",
    "load('target.csv', transformed_data)\n",
    "log(\"Load phase Ended\")"
   ]
  },
  {
   "cell_type": "code",
   "execution_count": null,
   "id": "b2863499-4824-4a75-bb86-b755aeeba080",
   "metadata": {},
   "outputs": [],
   "source": []
  }
 ],
 "metadata": {
  "kernelspec": {
   "display_name": "Python 3 (ipykernel)",
   "language": "python",
   "name": "python3"
  },
  "language_info": {
   "codemirror_mode": {
    "name": "ipython",
    "version": 3
   },
   "file_extension": ".py",
   "mimetype": "text/x-python",
   "name": "python",
   "nbconvert_exporter": "python",
   "pygments_lexer": "ipython3",
   "version": "3.9.12"
  }
 },
 "nbformat": 4,
 "nbformat_minor": 5
}

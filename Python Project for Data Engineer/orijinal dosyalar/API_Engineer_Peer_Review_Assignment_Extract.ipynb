{
 "cells": [
  {
   "cell_type": "markdown",
   "metadata": {},
   "source": [
    "<p style=\"text-align:center\">\n",
    "    <a href=\"https://skills.network/?utm_medium=Exinfluencer&utm_source=Exinfluencer&utm_content=000026UJ&utm_term=10006555&utm_id=NA-SkillsNetwork-Channel-SkillsNetworkCoursesIBMDeveloperSkillsNetworkPY0221ENSkillsNetwork23455645-2022-01-01\" target=\"_blank\">\n",
    "    <img src=\"https://cf-courses-data.s3.us.cloud-object-storage.appdomain.cloud/assets/logos/SN_web_lightmode.png\" width=\"200\" alt=\"Skills Network Logo\"  />\n",
    "    </a>\n",
    "</p>\n"
   ]
  },
  {
   "cell_type": "markdown",
   "metadata": {},
   "source": [
    "# Peer Review Assignment - Data Engineer - Extract API Data\n"
   ]
  },
  {
   "cell_type": "markdown",
   "metadata": {},
   "source": [
    "Estimated time needed: **20** minutes\n"
   ]
  },
  {
   "cell_type": "markdown",
   "metadata": {},
   "source": [
    "## Objectives\n",
    "\n",
    "In this part you will:\n",
    "\n",
    "*   Collect exchange rate data using an API\n",
    "*   Store the data as a CSV\n"
   ]
  },
  {
   "cell_type": "markdown",
   "metadata": {},
   "source": [
    "For this lab, we are going to be using Python and several Python libraries. Some of these libraries might be installed in your lab environment or in SN Labs. Others may need to be installed by you. The cells below will install these libraries when executed.\n"
   ]
  },
  {
   "cell_type": "code",
   "execution_count": null,
   "metadata": {},
   "outputs": [],
   "source": [
    "#!mamba install pandas==1.3.3 -y\n",
    "#!mamba install requests==2.26.0 -y"
   ]
  },
  {
   "cell_type": "markdown",
   "metadata": {},
   "source": [
    "## Imports\n",
    "\n",
    "Import any additional libraries you may need here.\n"
   ]
  },
  {
   "cell_type": "code",
   "execution_count": 1,
   "metadata": {},
   "outputs": [],
   "source": [
    "import requests\n",
    "import pandas as pd"
   ]
  },
  {
   "cell_type": "markdown",
   "metadata": {},
   "source": [
    "## Extract Data Using an API\n"
   ]
  },
  {
   "cell_type": "markdown",
   "metadata": {},
   "source": [
    "Using ExchangeRate-API we will extract currency exchange rate data. Use the below steps to get the access key and to get the data.\n",
    "\n",
    "1.  Open the url : [https://exchangeratesapi.io/](https://exchangeratesapi.io/?utm_medium=Exinfluencer&utm_source=Exinfluencer&utm_content=000026UJ&utm_term=10006555&utm_id=NA-SkillsNetwork-Channel-SkillsNetworkCoursesIBMDeveloperSkillsNetworkPY0221ENSkillsNetwork23455645-2022-01-01) and click on **Get Free API Key**.\n",
    "2.  Subscribe for Free plan and Sign-in with the Google Account.\n",
    "3.  Once the account is created you will be redirected to [https://apilayer.com](https://apilayer.com/?utm_medium=Exinfluencer&utm_source=Exinfluencer&utm_content=000026UJ&utm_term=10006555&utm_id=NA-SkillsNetwork-Channel-SkillsNetworkCoursesIBMDeveloperSkillsNetworkPY0221ENSkillsNetwork23455645-2022-01-01) website.\n",
    "4.  Now, click on the **user icon** and click **Account** as shown below:\n",
    "\n",
    "<img src=\"https://cf-courses-data.s3.us.cloud-object-storage.appdomain.cloud/IBMDeveloperSkillsNetwork-PY0221EN-SkillsNetwork/labs/module%206/Final%20Assignment/Images/account.png\"/>\n",
    "\n",
    "3.  Scroll down and you will get the API Key section. Copy the API key and use in the url in Question 1.\n"
   ]
  },
  {
   "cell_type": "markdown",
   "metadata": {},
   "source": [
    "### Call the API\n",
    "\n",
    "<b> Question 1</b> Using the `requests` library call the endpoint given above and save the text, remember the first few characters of the output:\n"
   ]
  },
  {
   "cell_type": "code",
   "execution_count": 18,
   "metadata": {
    "collapsed": true,
    "jupyter": {
     "outputs_hidden": true
    },
    "tags": []
   },
   "outputs": [
    {
     "data": {
      "text/plain": [
       "'{\\n    \"success\": true,\\n    \"timestamp\": 1676671443,\\n    \"base\": \"EUR\",\\n    \"date\": \"2023-02-17\",\\n    \"rates\": {\\n        \"AED\": 3.930697,\\n        \"AFN\": 95.243543,\\n        \"ALL\": 115.843924,\\n        \"AMD\": 420.904325,\\n        \"ANG\": 1.929183,\\n        \"AOA\": 542.034088,\\n        \"ARS\": 206.492068,\\n        \"AUD\": 1.555447,\\n        \"AWG\": 1.926266,\\n        \"AZN\": 1.8235,\\n        \"BAM\": 1.970381,\\n        \"BBD\": 2.16131,\\n        \"BDT\": 113.254666,\\n        \"BGN\": 1.956984,\\n        \"BHD\": 0.403284,\\n        \"BIF\": 2215.205814,\\n        \"BMD\": 1.070148,\\n        \"BND\": 1.434775,\\n        \"BOB\": 7.39692,\\n        \"BRL\": 5.530567,\\n        \"BSD\": 1.07048,\\n        \"BTC\": 4.3981985e-05,\\n        \"BTN\": 88.638931,\\n        \"BWP\": 14.159433,\\n        \"BYN\": 2.701953,\\n        \"BYR\": 20974.895634,\\n        \"BZD\": 2.157683,\\n        \"CAD\": 1.441511,\\n        \"CDF\": 2190.592804,\\n        \"CHF\": 0.990105,\\n        \"CLF\": 0.030614,\\n        \"CLP\": 844.721539,\\n        \"CNY\": 7.349458,\\n        \"COP\": 5243.627595,\\n        \"CRC\": 598.646851,\\n        \"CUC\": 1.070148,\\n        \"CUP\": 28.358915,\\n        \"CVE\": 110.894103,\\n        \"CZK\": 23.713447,\\n        \"DJF\": 190.187077,\\n        \"DKK\": 7.450908,\\n        \"DOP\": 59.907291,\\n        \"DZD\": 146.445377,\\n        \"EGP\": 32.672899,\\n        \"ERN\": 16.052216,\\n        \"ETB\": 57.413846,\\n        \"EUR\": 1,\\n        \"FJD\": 2.363689,\\n        \"FKP\": 0.890518,\\n        \"GBP\": 0.888532,\\n        \"GEL\": 2.830584,\\n        \"GGP\": 0.890518,\\n        \"GHS\": 13.457151,\\n        \"GIP\": 0.890518,\\n        \"GMD\": 65.439951,\\n        \"GNF\": 9417.300461,\\n        \"GTQ\": 8.376182,\\n        \"GYD\": 225.862655,\\n        \"HKD\": 8.396219,\\n        \"HNL\": 26.436759,\\n        \"HRK\": 7.549672,\\n        \"HTG\": 160.427967,\\n        \"HUF\": 383.97311,\\n        \"IDR\": 16229.860571,\\n        \"ILS\": 3.800527,\\n        \"IMP\": 0.890518,\\n        \"INR\": 88.622841,\\n        \"IQD\": 1562.950769,\\n        \"IRR\": 45213.742242,\\n        \"ISK\": 154.230105,\\n        \"JEP\": 0.890518,\\n        \"JMD\": 165.209711,\\n        \"JOD\": 0.759167,\\n        \"JPY\": 143.501503,\\n        \"KES\": 134.735671,\\n        \"KGS\": 93.552727,\\n        \"KHR\": 4367.273288,\\n        \"KMF\": 492.91411,\\n        \"KPW\": 963.031775,\\n        \"KRW\": 1386.56943,\\n        \"KWD\": 0.327851,\\n        \"KYD\": 0.891966,\\n        \"KZT\": 480.265404,\\n        \"LAK\": 18120.280594,\\n        \"LBP\": 16272.49247,\\n        \"LKR\": 391.253209,\\n        \"LRD\": 168.338278,\\n        \"LSL\": 19.295172,\\n        \"LTL\": 3.159868,\\n        \"LVL\": 0.647322,\\n        \"LYD\": 5.140738,\\n        \"MAD\": 11.058376,\\n        \"MDL\": 20.044624,\\n        \"MGA\": 4615.016135,\\n        \"MKD\": 61.839746,\\n        \"MMK\": 2247.966282,\\n        \"MNT\": 3768.885915,\\n        \"MOP\": 8.64915,\\n        \"MRO\": 382.042558,\\n        \"MUR\": 49.285127,\\n        \"MVR\": 16.437874,\\n        \"MWK\": 1096.370357,\\n        \"MXN\": 19.653488,\\n        \"MYR\": 4.742936,\\n        \"MZN\": 67.530316,\\n        \"NAD\": 19.295167,\\n        \"NGN\": 492.268327,\\n        \"NIO\": 38.95877,\\n        \"NOK\": 10.942496,\\n        \"NPR\": 141.82233,\\n        \"NZD\": 1.713608,\\n        \"OMR\": 0.41192,\\n        \"PAB\": 1.070379,\\n        \"PEN\": 4.108836,\\n        \"PGK\": 3.767321,\\n        \"PHP\": 59.161019,\\n        \"PKR\": 281.395748,\\n        \"PLN\": 4.761686,\\n        \"PYG\": 7805.962454,\\n        \"QAR\": 3.896449,\\n        \"RON\": 4.913266,\\n        \"RSD\": 117.438412,\\n        \"RUB\": 79.191297,\\n        \"RWF\": 1166.461033,\\n        \"SAR\": 4.011027,\\n        \"SBD\": 8.845556,\\n        \"SCR\": 14.283645,\\n        \"SDG\": 626.575436,\\n        \"SEK\": 11.188556,\\n        \"SGD\": 1.431006,\\n        \"SHP\": 1.302103,\\n        \"SLE\": 21.343367,\\n        \"SLL\": 21135.418157,\\n        \"SOS\": 609.453057,\\n        \"SRD\": 35.295653,\\n        \"STD\": 22149.897525,\\n        \"SVC\": 9.365946,\\n        \"SYP\": 2688.73752,\\n        \"SZL\": 19.295159,\\n        \"THB\": 36.866985,\\n        \"TJS\": 11.255758,\\n        \"TMT\": 3.756219,\\n        \"TND\": 3.317997,\\n        \"TOP\": 2.504899,\\n        \"TRY\": 20.150137,\\n        \"TTD\": 7.263872,\\n        \"TWD\": 32.515694,\\n        \"TZS\": 2504.146062,\\n        \"UAH\": 39.334575,\\n        \"UGX\": 3928.519221,\\n        \"USD\": 1.070148,\\n        \"UYU\": 42.13276,\\n        \"UZS\": 12146.177166,\\n        \"VEF\": 2601391.451903,\\n        \"VES\": 26.065509,\\n        \"VND\": 25490.919082,\\n        \"VUV\": 126.374777,\\n        \"WST\": 2.888313,\\n        \"XAF\": 660.827762,\\n        \"XAG\": 0.049208,\\n        \"XAU\": 0.000581,\\n        \"XCD\": 2.892128,\\n        \"XDR\": 0.800802,\\n        \"XOF\": 658.679782,\\n        \"XPF\": 119.967409,\\n        \"YER\": 267.911875,\\n        \"ZAR\": 19.317954,\\n        \"ZMK\": 9632.617646,\\n        \"ZMW\": 20.793468,\\n        \"ZWL\": 344.587135\\n    }\\n}\\n'"
      ]
     },
     "execution_count": 18,
     "metadata": {},
     "output_type": "execute_result"
    }
   ],
   "source": [
    "# Write your code here\n",
    "url = \"https://api.apilayer.com/exchangerates_data/latest?base=EUR&apikey=fJbgOoOeI0uJgk3yvRhoLLk91KdGWsw7\" #Make sure to change ******* to your API key.\n",
    "\n",
    "page = requests.get(url)\n",
    "dict01 = page.text"
   ]
  },
  {
   "cell_type": "code",
   "execution_count": 21,
   "metadata": {
    "collapsed": true,
    "jupyter": {
     "outputs_hidden": true
    },
    "tags": []
   },
   "outputs": [
    {
     "name": "stdout",
     "output_type": "stream",
     "text": [
      "<class 'str'>\n",
      "{\n",
      "    \"success\": true,\n",
      "    \"timestamp\": 1676671443,\n",
      "    \"base\": \"EUR\",\n",
      "    \"date\": \"2023-02-17\",\n",
      "    \"rates\": {\n",
      "        \"AED\": 3.930697,\n",
      "        \"AFN\": 95.243543,\n",
      "        \"ALL\": 115.843924,\n",
      "        \"AMD\": 420.904325,\n",
      "        \"ANG\": 1.929183,\n",
      "        \"AOA\": 542.034088,\n",
      "        \"ARS\": 206.492068,\n",
      "        \"AUD\": 1.555447,\n",
      "        \"AWG\": 1.926266,\n",
      "        \"AZN\": 1.8235,\n",
      "        \"BAM\": 1.970381,\n",
      "        \"BBD\": 2.16131,\n",
      "        \"BDT\": 113.254666,\n",
      "        \"BGN\": 1.956984,\n",
      "        \"BHD\": 0.403284,\n",
      "        \"BIF\": 2215.205814,\n",
      "        \"BMD\": 1.070148,\n",
      "        \"BND\": 1.434775,\n",
      "        \"BOB\": 7.39692,\n",
      "        \"BRL\": 5.530567,\n",
      "        \"BSD\": 1.07048,\n",
      "        \"BTC\": 4.3981985e-05,\n",
      "        \"BTN\": 88.638931,\n",
      "        \"BWP\": 14.159433,\n",
      "        \"BYN\": 2.701953,\n",
      "        \"BYR\": 20974.895634,\n",
      "        \"BZD\": 2.157683,\n",
      "        \"CAD\": 1.441511,\n",
      "        \"CDF\": 2190.592804,\n",
      "        \"CHF\": 0.990105,\n",
      "        \"CLF\": 0.030614,\n",
      "        \"CLP\": 844.721539,\n",
      "        \"CNY\": 7.349458,\n",
      "        \"COP\": 5243.627595,\n",
      "        \"CRC\": 598.646851,\n",
      "        \"CUC\": 1.070148,\n",
      "        \"CUP\": 28.358915,\n",
      "        \"CVE\": 110.894103,\n",
      "        \"CZK\": 23.713447,\n",
      "        \"DJF\": 190.187077,\n",
      "        \"DKK\": 7.450908,\n",
      "        \"DOP\": 59.907291,\n",
      "        \"DZD\": 146.445377,\n",
      "        \"EGP\": 32.672899,\n",
      "        \"ERN\": 16.052216,\n",
      "        \"ETB\": 57.413846,\n",
      "        \"EUR\": 1,\n",
      "        \"FJD\": 2.363689,\n",
      "        \"FKP\": 0.890518,\n",
      "        \"GBP\": 0.888532,\n",
      "        \"GEL\": 2.830584,\n",
      "        \"GGP\": 0.890518,\n",
      "        \"GHS\": 13.457151,\n",
      "        \"GIP\": 0.890518,\n",
      "        \"GMD\": 65.439951,\n",
      "        \"GNF\": 9417.300461,\n",
      "        \"GTQ\": 8.376182,\n",
      "        \"GYD\": 225.862655,\n",
      "        \"HKD\": 8.396219,\n",
      "        \"HNL\": 26.436759,\n",
      "        \"HRK\": 7.549672,\n",
      "        \"HTG\": 160.427967,\n",
      "        \"HUF\": 383.97311,\n",
      "        \"IDR\": 16229.860571,\n",
      "        \"ILS\": 3.800527,\n",
      "        \"IMP\": 0.890518,\n",
      "        \"INR\": 88.622841,\n",
      "        \"IQD\": 1562.950769,\n",
      "        \"IRR\": 45213.742242,\n",
      "        \"ISK\": 154.230105,\n",
      "        \"JEP\": 0.890518,\n",
      "        \"JMD\": 165.209711,\n",
      "        \"JOD\": 0.759167,\n",
      "        \"JPY\": 143.501503,\n",
      "        \"KES\": 134.735671,\n",
      "        \"KGS\": 93.552727,\n",
      "        \"KHR\": 4367.273288,\n",
      "        \"KMF\": 492.91411,\n",
      "        \"KPW\": 963.031775,\n",
      "        \"KRW\": 1386.56943,\n",
      "        \"KWD\": 0.327851,\n",
      "        \"KYD\": 0.891966,\n",
      "        \"KZT\": 480.265404,\n",
      "        \"LAK\": 18120.280594,\n",
      "        \"LBP\": 16272.49247,\n",
      "        \"LKR\": 391.253209,\n",
      "        \"LRD\": 168.338278,\n",
      "        \"LSL\": 19.295172,\n",
      "        \"LTL\": 3.159868,\n",
      "        \"LVL\": 0.647322,\n",
      "        \"LYD\": 5.140738,\n",
      "        \"MAD\": 11.058376,\n",
      "        \"MDL\": 20.044624,\n",
      "        \"MGA\": 4615.016135,\n",
      "        \"MKD\": 61.839746,\n",
      "        \"MMK\": 2247.966282,\n",
      "        \"MNT\": 3768.885915,\n",
      "        \"MOP\": 8.64915,\n",
      "        \"MRO\": 382.042558,\n",
      "        \"MUR\": 49.285127,\n",
      "        \"MVR\": 16.437874,\n",
      "        \"MWK\": 1096.370357,\n",
      "        \"MXN\": 19.653488,\n",
      "        \"MYR\": 4.742936,\n",
      "        \"MZN\": 67.530316,\n",
      "        \"NAD\": 19.295167,\n",
      "        \"NGN\": 492.268327,\n",
      "        \"NIO\": 38.95877,\n",
      "        \"NOK\": 10.942496,\n",
      "        \"NPR\": 141.82233,\n",
      "        \"NZD\": 1.713608,\n",
      "        \"OMR\": 0.41192,\n",
      "        \"PAB\": 1.070379,\n",
      "        \"PEN\": 4.108836,\n",
      "        \"PGK\": 3.767321,\n",
      "        \"PHP\": 59.161019,\n",
      "        \"PKR\": 281.395748,\n",
      "        \"PLN\": 4.761686,\n",
      "        \"PYG\": 7805.962454,\n",
      "        \"QAR\": 3.896449,\n",
      "        \"RON\": 4.913266,\n",
      "        \"RSD\": 117.438412,\n",
      "        \"RUB\": 79.191297,\n",
      "        \"RWF\": 1166.461033,\n",
      "        \"SAR\": 4.011027,\n",
      "        \"SBD\": 8.845556,\n",
      "        \"SCR\": 14.283645,\n",
      "        \"SDG\": 626.575436,\n",
      "        \"SEK\": 11.188556,\n",
      "        \"SGD\": 1.431006,\n",
      "        \"SHP\": 1.302103,\n",
      "        \"SLE\": 21.343367,\n",
      "        \"SLL\": 21135.418157,\n",
      "        \"SOS\": 609.453057,\n",
      "        \"SRD\": 35.295653,\n",
      "        \"STD\": 22149.897525,\n",
      "        \"SVC\": 9.365946,\n",
      "        \"SYP\": 2688.73752,\n",
      "        \"SZL\": 19.295159,\n",
      "        \"THB\": 36.866985,\n",
      "        \"TJS\": 11.255758,\n",
      "        \"TMT\": 3.756219,\n",
      "        \"TND\": 3.317997,\n",
      "        \"TOP\": 2.504899,\n",
      "        \"TRY\": 20.150137,\n",
      "        \"TTD\": 7.263872,\n",
      "        \"TWD\": 32.515694,\n",
      "        \"TZS\": 2504.146062,\n",
      "        \"UAH\": 39.334575,\n",
      "        \"UGX\": 3928.519221,\n",
      "        \"USD\": 1.070148,\n",
      "        \"UYU\": 42.13276,\n",
      "        \"UZS\": 12146.177166,\n",
      "        \"VEF\": 2601391.451903,\n",
      "        \"VES\": 26.065509,\n",
      "        \"VND\": 25490.919082,\n",
      "        \"VUV\": 126.374777,\n",
      "        \"WST\": 2.888313,\n",
      "        \"XAF\": 660.827762,\n",
      "        \"XAG\": 0.049208,\n",
      "        \"XAU\": 0.000581,\n",
      "        \"XCD\": 2.892128,\n",
      "        \"XDR\": 0.800802,\n",
      "        \"XOF\": 658.679782,\n",
      "        \"XPF\": 119.967409,\n",
      "        \"YER\": 267.911875,\n",
      "        \"ZAR\": 19.317954,\n",
      "        \"ZMK\": 9632.617646,\n",
      "        \"ZMW\": 20.793468,\n",
      "        \"ZWL\": 344.587135\n",
      "    }\n",
      "}\n",
      "\n"
     ]
    }
   ],
   "source": [
    "print(type(page.text))\n",
    "print(page.text)"
   ]
  },
  {
   "cell_type": "markdown",
   "metadata": {},
   "source": [
    "### Save as DataFrame\n",
    "\n",
    "<b> Question 2</b>  Using the data gathered turn it into a `pandas` dataframe. The dataframe should have the Currency as the index and `Rate` as their columns. Make sure to drop unnecessary columns.\n"
   ]
  },
  {
   "cell_type": "code",
   "execution_count": 23,
   "metadata": {},
   "outputs": [
    {
     "data": {
      "text/plain": [
       "'{\\n    \"success\": true,\\n    \"timestamp\": 1676671443,\\n    \"base\": \"EUR\",\\n    \"date\": \"2023-02-17\",\\n    \"rates\": {\\n        \"AED\": 3.930697,\\n        \"AFN\": 95.243543,\\n        \"ALL\": 115.843924,\\n        \"AMD\": 420.904325,\\n        \"ANG\": 1.929183,\\n        \"AOA\": 542.034088,\\n        \"ARS\": 206.492068,\\n        \"AUD\": 1.555447,\\n        \"AWG\": 1.926266,\\n        \"AZN\": 1.8235,\\n        \"BAM\": 1.970381,\\n        \"BBD\": 2.16131,\\n        \"BDT\": 113.254666,\\n        \"BGN\": 1.956984,\\n        \"BHD\": 0.403284,\\n        \"BIF\": 2215.205814,\\n        \"BMD\": 1.070148,\\n        \"BND\": 1.434775,\\n        \"BOB\": 7.39692,\\n        \"BRL\": 5.530567,\\n        \"BSD\": 1.07048,\\n        \"BTC\": 4.3981985e-05,\\n        \"BTN\": 88.638931,\\n        \"BWP\": 14.159433,\\n        \"BYN\": 2.701953,\\n        \"BYR\": 20974.895634,\\n        \"BZD\": 2.157683,\\n        \"CAD\": 1.441511,\\n        \"CDF\": 2190.592804,\\n        \"CHF\": 0.990105,\\n        \"CLF\": 0.030614,\\n        \"CLP\": 844.721539,\\n        \"CNY\": 7.349458,\\n        \"COP\": 5243.627595,\\n        \"CRC\": 598.646851,\\n        \"CUC\": 1.070148,\\n        \"CUP\": 28.358915,\\n        \"CVE\": 110.894103,\\n        \"CZK\": 23.713447,\\n        \"DJF\": 190.187077,\\n        \"DKK\": 7.450908,\\n        \"DOP\": 59.907291,\\n        \"DZD\": 146.445377,\\n        \"EGP\": 32.672899,\\n        \"ERN\": 16.052216,\\n        \"ETB\": 57.413846,\\n        \"EUR\": 1,\\n        \"FJD\": 2.363689,\\n        \"FKP\": 0.890518,\\n        \"GBP\": 0.888532,\\n        \"GEL\": 2.830584,\\n        \"GGP\": 0.890518,\\n        \"GHS\": 13.457151,\\n        \"GIP\": 0.890518,\\n        \"GMD\": 65.439951,\\n        \"GNF\": 9417.300461,\\n        \"GTQ\": 8.376182,\\n        \"GYD\": 225.862655,\\n        \"HKD\": 8.396219,\\n        \"HNL\": 26.436759,\\n        \"HRK\": 7.549672,\\n        \"HTG\": 160.427967,\\n        \"HUF\": 383.97311,\\n        \"IDR\": 16229.860571,\\n        \"ILS\": 3.800527,\\n        \"IMP\": 0.890518,\\n        \"INR\": 88.622841,\\n        \"IQD\": 1562.950769,\\n        \"IRR\": 45213.742242,\\n        \"ISK\": 154.230105,\\n        \"JEP\": 0.890518,\\n        \"JMD\": 165.209711,\\n        \"JOD\": 0.759167,\\n        \"JPY\": 143.501503,\\n        \"KES\": 134.735671,\\n        \"KGS\": 93.552727,\\n        \"KHR\": 4367.273288,\\n        \"KMF\": 492.91411,\\n        \"KPW\": 963.031775,\\n        \"KRW\": 1386.56943,\\n        \"KWD\": 0.327851,\\n        \"KYD\": 0.891966,\\n        \"KZT\": 480.265404,\\n        \"LAK\": 18120.280594,\\n        \"LBP\": 16272.49247,\\n        \"LKR\": 391.253209,\\n        \"LRD\": 168.338278,\\n        \"LSL\": 19.295172,\\n        \"LTL\": 3.159868,\\n        \"LVL\": 0.647322,\\n        \"LYD\": 5.140738,\\n        \"MAD\": 11.058376,\\n        \"MDL\": 20.044624,\\n        \"MGA\": 4615.016135,\\n        \"MKD\": 61.839746,\\n        \"MMK\": 2247.966282,\\n        \"MNT\": 3768.885915,\\n        \"MOP\": 8.64915,\\n        \"MRO\": 382.042558,\\n        \"MUR\": 49.285127,\\n        \"MVR\": 16.437874,\\n        \"MWK\": 1096.370357,\\n        \"MXN\": 19.653488,\\n        \"MYR\": 4.742936,\\n        \"MZN\": 67.530316,\\n        \"NAD\": 19.295167,\\n        \"NGN\": 492.268327,\\n        \"NIO\": 38.95877,\\n        \"NOK\": 10.942496,\\n        \"NPR\": 141.82233,\\n        \"NZD\": 1.713608,\\n        \"OMR\": 0.41192,\\n        \"PAB\": 1.070379,\\n        \"PEN\": 4.108836,\\n        \"PGK\": 3.767321,\\n        \"PHP\": 59.161019,\\n        \"PKR\": 281.395748,\\n        \"PLN\": 4.761686,\\n        \"PYG\": 7805.962454,\\n        \"QAR\": 3.896449,\\n        \"RON\": 4.913266,\\n        \"RSD\": 117.438412,\\n        \"RUB\": 79.191297,\\n        \"RWF\": 1166.461033,\\n        \"SAR\": 4.011027,\\n        \"SBD\": 8.845556,\\n        \"SCR\": 14.283645,\\n        \"SDG\": 626.575436,\\n        \"SEK\": 11.188556,\\n        \"SGD\": 1.431006,\\n        \"SHP\": 1.302103,\\n        \"SLE\": 21.343367,\\n        \"SLL\": 21135.418157,\\n        \"SOS\": 609.453057,\\n        \"SRD\": 35.295653,\\n        \"STD\": 22149.897525,\\n        \"SVC\": 9.365946,\\n        \"SYP\": 2688.73752,\\n        \"SZL\": 19.295159,\\n        \"THB\": 36.866985,\\n        \"TJS\": 11.255758,\\n        \"TMT\": 3.756219,\\n        \"TND\": 3.317997,\\n        \"TOP\": 2.504899,\\n        \"TRY\": 20.150137,\\n        \"TTD\": 7.263872,\\n        \"TWD\": 32.515694,\\n        \"TZS\": 2504.146062,\\n        \"UAH\": 39.334575,\\n        \"UGX\": 3928.519221,\\n        \"USD\": 1.070148,\\n        \"UYU\": 42.13276,\\n        \"UZS\": 12146.177166,\\n        \"VEF\": 2601391.451903,\\n        \"VES\": 26.065509,\\n        \"VND\": 25490.919082,\\n        \"VUV\": 126.374777,\\n        \"WST\": 2.888313,\\n        \"XAF\": 660.827762,\\n        \"XAG\": 0.049208,\\n        \"XAU\": 0.000581,\\n        \"XCD\": 2.892128,\\n        \"XDR\": 0.800802,\\n        \"XOF\": 658.679782,\\n        \"XPF\": 119.967409,\\n        \"YER\": 267.911875,\\n        \"ZAR\": 19.317954,\\n        \"ZMK\": 9632.617646,\\n        \"ZMW\": 20.793468,\\n        \"ZWL\": 344.587135\\n    }\\n}\\n'"
      ]
     },
     "execution_count": 23,
     "metadata": {},
     "output_type": "execute_result"
    }
   ],
   "source": [
    "# Turn the data into a dataframe\n",
    "page.text"
   ]
  },
  {
   "cell_type": "code",
   "execution_count": null,
   "metadata": {},
   "outputs": [],
   "source": [
    "# Drop unnescessary columns\n"
   ]
  },
  {
   "cell_type": "markdown",
   "metadata": {},
   "source": [
    "### Load the Data\n",
    "\n",
    "Using the dataframe save it as a CSV names `exchange_rates_1.csv`.\n"
   ]
  },
  {
   "cell_type": "code",
   "execution_count": null,
   "metadata": {},
   "outputs": [],
   "source": [
    "# Save the Dataframe\n"
   ]
  },
  {
   "cell_type": "markdown",
   "metadata": {},
   "source": [
    "Your CSV should be in this format with more currencies\n",
    "\n",
    "|     | Rates      |\n",
    "| --- | ---------- |\n",
    "| AED | 4.398618   |\n",
    "| AFN | 92.917693  |\n",
    "| ALL | 123.099093 |\n",
    "| AMD | 621.935674 |\n",
    "| ANG | 2.149648   |\n"
   ]
  },
  {
   "cell_type": "markdown",
   "metadata": {},
   "source": [
    "## Authors\n"
   ]
  },
  {
   "cell_type": "markdown",
   "metadata": {},
   "source": [
    "Ramesh Sannareddy, Joseph Santarcangelo and Azim Hirjani\n"
   ]
  },
  {
   "cell_type": "markdown",
   "metadata": {},
   "source": [
    "### Other Contributors\n"
   ]
  },
  {
   "cell_type": "markdown",
   "metadata": {},
   "source": [
    "Rav Ahuja\n"
   ]
  },
  {
   "cell_type": "markdown",
   "metadata": {},
   "source": [
    "## Change Log\n"
   ]
  },
  {
   "cell_type": "markdown",
   "metadata": {},
   "source": [
    "| Date (YYYY-MM-DD) | Version | Changed By        | Change Description                              |\n",
    "| ----------------- | ------- | ----------------- | ----------------------------------------------- |\n",
    "| 2022-05-06        | 0.3     | Malika            | Updated instructions to get the API and the url |\n",
    "| 2021-04-15        | 0.2     | Malika            | Updated the lab from USD to EUR                 |\n",
    "| 2020-11-25        | 0.1     | Ramesh Sannareddy | Created initial version of the lab              |\n"
   ]
  },
  {
   "cell_type": "markdown",
   "metadata": {},
   "source": [
    "Copyright © 2020 IBM Corporation. This notebook and its source code are released under the terms of the [MIT License](https://cognitiveclass.ai/mit-license?utm_medium=Exinfluencer&utm_source=Exinfluencer&utm_content=000026UJ&utm_term=10006555&utm_id=NA-SkillsNetwork-Channel-SkillsNetworkCoursesIBMDeveloperSkillsNetworkPY0221ENSkillsNetwork23455645-2022-01-01&cm_mmc=Email_Newsletter-\\_-Developer_Ed%2BTech-\\_-WW_WW-\\_-SkillsNetwork-Courses-IBM-DA0321EN-SkillsNetwork-21426264&cm_mmca1=000026UJ&cm_mmca2=10006555&cm_mmca3=M12345678&cvosrc=email.Newsletter.M12345678&cvo_campaign=000026UJ).\n"
   ]
  }
 ],
 "metadata": {
  "kernelspec": {
   "display_name": "Python",
   "language": "python",
   "name": "conda-env-python-py"
  },
  "language_info": {
   "codemirror_mode": {
    "name": "ipython",
    "version": 3
   },
   "file_extension": ".py",
   "mimetype": "text/x-python",
   "name": "python",
   "nbconvert_exporter": "python",
   "pygments_lexer": "ipython3",
   "version": "3.7.12"
  }
 },
 "nbformat": 4,
 "nbformat_minor": 4
}

{
 "cells": [
  {
   "cell_type": "code",
   "execution_count": 1,
   "id": "9756c88c-eba7-48b4-8735-8a5b4b55dc55",
   "metadata": {
    "collapsed": true,
    "jupyter": {
     "outputs_hidden": true
    },
    "tags": []
   },
   "outputs": [
    {
     "data": {
      "text/plain": [
       "['Collecting ipython-sql',\n",
       " '  Downloading ipython_sql-0.4.1-py3-none-any.whl (21 kB)',\n",
       " 'Requirement already satisfied: ipython-genutils>=0.1.0 in /Users/macbook/opt/anaconda3/lib/python3.8/site-packages (from ipython-sql) (0.2.0)',\n",
       " 'Collecting prettytable<1',\n",
       " '  Downloading prettytable-0.7.2.zip (28 kB)',\n",
       " 'Requirement already satisfied: ipython>=1.0 in /Users/macbook/opt/anaconda3/lib/python3.8/site-packages (from ipython-sql) (7.27.0)',\n",
       " 'Collecting sqlparse',\n",
       " '  Downloading sqlparse-0.4.2-py3-none-any.whl (42 kB)',\n",
       " 'Requirement already satisfied: sqlalchemy>=0.6.7 in /Users/macbook/opt/anaconda3/lib/python3.8/site-packages (from ipython-sql) (1.4.22)',\n",
       " 'Requirement already satisfied: six in /Users/macbook/opt/anaconda3/lib/python3.8/site-packages (from ipython-sql) (1.16.0)',\n",
       " 'Requirement already satisfied: setuptools>=18.5 in /Users/macbook/opt/anaconda3/lib/python3.8/site-packages (from ipython>=1.0->ipython-sql) (58.0.4)',\n",
       " 'Requirement already satisfied: matplotlib-inline in /Users/macbook/opt/anaconda3/lib/python3.8/site-packages (from ipython>=1.0->ipython-sql) (0.1.2)',\n",
       " 'Requirement already satisfied: backcall in /Users/macbook/opt/anaconda3/lib/python3.8/site-packages (from ipython>=1.0->ipython-sql) (0.2.0)',\n",
       " 'Requirement already satisfied: traitlets>=4.2 in /Users/macbook/opt/anaconda3/lib/python3.8/site-packages (from ipython>=1.0->ipython-sql) (5.1.0)',\n",
       " 'Requirement already satisfied: prompt-toolkit!=3.0.0,!=3.0.1,<3.1.0,>=2.0.0 in /Users/macbook/opt/anaconda3/lib/python3.8/site-packages (from ipython>=1.0->ipython-sql) (3.0.20)',\n",
       " 'Requirement already satisfied: appnope in /Users/macbook/opt/anaconda3/lib/python3.8/site-packages (from ipython>=1.0->ipython-sql) (0.1.2)',\n",
       " 'Requirement already satisfied: pickleshare in /Users/macbook/opt/anaconda3/lib/python3.8/site-packages (from ipython>=1.0->ipython-sql) (0.7.5)',\n",
       " 'Requirement already satisfied: pexpect>4.3 in /Users/macbook/opt/anaconda3/lib/python3.8/site-packages (from ipython>=1.0->ipython-sql) (4.8.0)',\n",
       " 'Requirement already satisfied: decorator in /Users/macbook/opt/anaconda3/lib/python3.8/site-packages (from ipython>=1.0->ipython-sql) (5.1.0)',\n",
       " 'Requirement already satisfied: pygments in /Users/macbook/opt/anaconda3/lib/python3.8/site-packages (from ipython>=1.0->ipython-sql) (2.10.0)',\n",
       " 'Requirement already satisfied: jedi>=0.16 in /Users/macbook/opt/anaconda3/lib/python3.8/site-packages (from ipython>=1.0->ipython-sql) (0.17.2)',\n",
       " 'Requirement already satisfied: parso<0.8.0,>=0.7.0 in /Users/macbook/opt/anaconda3/lib/python3.8/site-packages (from jedi>=0.16->ipython>=1.0->ipython-sql) (0.7.0)',\n",
       " 'Requirement already satisfied: ptyprocess>=0.5 in /Users/macbook/opt/anaconda3/lib/python3.8/site-packages (from pexpect>4.3->ipython>=1.0->ipython-sql) (0.7.0)',\n",
       " 'Requirement already satisfied: wcwidth in /Users/macbook/opt/anaconda3/lib/python3.8/site-packages (from prompt-toolkit!=3.0.0,!=3.0.1,<3.1.0,>=2.0.0->ipython>=1.0->ipython-sql) (0.2.5)',\n",
       " 'Requirement already satisfied: greenlet!=0.4.17 in /Users/macbook/opt/anaconda3/lib/python3.8/site-packages (from sqlalchemy>=0.6.7->ipython-sql) (1.1.1)',\n",
       " 'Building wheels for collected packages: prettytable',\n",
       " '  Building wheel for prettytable (setup.py): started',\n",
       " \"  Building wheel for prettytable (setup.py): finished with status 'done'\",\n",
       " '  Created wheel for prettytable: filename=prettytable-0.7.2-py3-none-any.whl size=13714 sha256=7a23462b9483cba7b6915827b959ecf0268a582d80e62382707010a66487d9fd',\n",
       " '  Stored in directory: /Users/macbook/Library/Caches/pip/wheels/48/6d/77/9517cb933af254f51a446f1a5ec9c2be3e45f17384940bce68',\n",
       " 'Successfully built prettytable',\n",
       " 'Installing collected packages: sqlparse, prettytable, ipython-sql',\n",
       " 'Successfully installed ipython-sql-0.4.1 prettytable-0.7.2 sqlparse-0.4.2']"
      ]
     },
     "execution_count": 1,
     "metadata": {},
     "output_type": "execute_result"
    }
   ],
   "source": [
    "%%!\n",
    "pip install --trusted-host pypi.org ipython-sql"
   ]
  },
  {
   "cell_type": "code",
   "execution_count": 2,
   "id": "cf03a95b-818a-4b18-ac24-181be545f1ce",
   "metadata": {},
   "outputs": [],
   "source": [
    "%load_ext sql"
   ]
  },
  {
   "cell_type": "code",
   "execution_count": 4,
   "id": "40b6c3c0-42e5-44d0-9a01-31ec221bbb15",
   "metadata": {},
   "outputs": [],
   "source": [
    "%sql sqlite:///vbo.db"
   ]
  },
  {
   "cell_type": "code",
   "execution_count": 10,
   "id": "6463b261-a8be-48c0-bbb6-0f4bc4db210b",
   "metadata": {},
   "outputs": [
    {
     "name": "stdout",
     "output_type": "stream",
     "text": [
      " * sqlite:///vbo.db\n",
      "Done.\n"
     ]
    },
    {
     "data": {
      "text/html": [
       "<table>\n",
       "    <tr>\n",
       "        <th>OrderID</th>\n",
       "        <th>CustomerID</th>\n",
       "        <th>EmployeeID</th>\n",
       "        <th>OrderDate</th>\n",
       "        <th>ShipperID</th>\n",
       "    </tr>\n",
       "    <tr>\n",
       "        <td>10248</td>\n",
       "        <td>90</td>\n",
       "        <td>5</td>\n",
       "        <td>4.07.1996</td>\n",
       "        <td>3</td>\n",
       "    </tr>\n",
       "    <tr>\n",
       "        <td>10249</td>\n",
       "        <td>81</td>\n",
       "        <td>6</td>\n",
       "        <td>5.07.1996</td>\n",
       "        <td>1</td>\n",
       "    </tr>\n",
       "    <tr>\n",
       "        <td>10250</td>\n",
       "        <td>34</td>\n",
       "        <td>4</td>\n",
       "        <td>8.07.1996</td>\n",
       "        <td>2</td>\n",
       "    </tr>\n",
       "</table>"
      ],
      "text/plain": [
       "[(10248, 90, 5, '4.07.1996', 3),\n",
       " (10249, 81, 6, '5.07.1996', 1),\n",
       " (10250, 34, 4, '8.07.1996', 2)]"
      ]
     },
     "execution_count": 10,
     "metadata": {},
     "output_type": "execute_result"
    }
   ],
   "source": [
    "%%sql\n",
    "SELECT * FROM Orders LIMIT 3;"
   ]
  },
  {
   "cell_type": "markdown",
   "id": "fb62ac24-2613-46e3-885d-e82d90f3a60c",
   "metadata": {},
   "source": [
    "# Manuel Tablo Olusturmak"
   ]
  },
  {
   "cell_type": "code",
   "execution_count": 11,
   "id": "842a184d-23ab-485c-b81d-f901b79f8879",
   "metadata": {},
   "outputs": [
    {
     "name": "stdout",
     "output_type": "stream",
     "text": [
      " * sqlite:///vbo.db\n",
      "Done.\n"
     ]
    },
    {
     "data": {
      "text/plain": [
       "[]"
      ]
     },
     "execution_count": 11,
     "metadata": {},
     "output_type": "execute_result"
    }
   ],
   "source": [
    "%%sql\n",
    "CREATE TABLE yeni_tablo(firstname varcahr(20),\n",
    "                       lastname varcahr(20))"
   ]
  },
  {
   "cell_type": "markdown",
   "id": "e893776d-a715-4fa6-a94e-fc61a63d69fd",
   "metadata": {},
   "source": [
    "## Tabloya Deger Eklemek"
   ]
  },
  {
   "cell_type": "code",
   "execution_count": 12,
   "id": "d6f59f24-f404-4dfe-a5db-083afedb138e",
   "metadata": {},
   "outputs": [
    {
     "name": "stdout",
     "output_type": "stream",
     "text": [
      " * sqlite:///vbo.db\n",
      "1 rows affected.\n"
     ]
    },
    {
     "data": {
      "text/plain": [
       "[]"
      ]
     },
     "execution_count": 12,
     "metadata": {},
     "output_type": "execute_result"
    }
   ],
   "source": [
    "%%sql\n",
    "INSERT INTO yeni_tablo VALUES('Ali', 'Uzaya_Git')"
   ]
  },
  {
   "cell_type": "code",
   "execution_count": 16,
   "id": "5b23c216-7e66-4823-a567-5520d0f41112",
   "metadata": {},
   "outputs": [
    {
     "name": "stdout",
     "output_type": "stream",
     "text": [
      " * sqlite:///vbo.db\n",
      "Done.\n"
     ]
    },
    {
     "data": {
      "text/html": [
       "<table>\n",
       "    <tr>\n",
       "        <th>firstname</th>\n",
       "        <th>lastname</th>\n",
       "    </tr>\n",
       "    <tr>\n",
       "        <td>Mehmet</td>\n",
       "        <td>Cevik</td>\n",
       "    </tr>\n",
       "    <tr>\n",
       "        <td>Ali</td>\n",
       "        <td>Uzaya_Git</td>\n",
       "    </tr>\n",
       "    <tr>\n",
       "        <td>Abdullah</td>\n",
       "        <td>SQL_Ogren</td>\n",
       "    </tr>\n",
       "</table>"
      ],
      "text/plain": [
       "[('Mehmet', 'Cevik'), ('Ali', 'Uzaya_Git'), ('Abdullah', 'SQL_Ogren')]"
      ]
     },
     "execution_count": 16,
     "metadata": {},
     "output_type": "execute_result"
    }
   ],
   "source": [
    "%sql SELECT * FROM yeni_tablo;"
   ]
  },
  {
   "cell_type": "markdown",
   "id": "137aaae5-ea52-4f06-90a8-6756c38aed2e",
   "metadata": {},
   "source": [
    "# SELECT islemleri"
   ]
  },
  {
   "cell_type": "code",
   "execution_count": 17,
   "id": "5bc476fa-36a2-4adf-926f-6043adb4bb31",
   "metadata": {},
   "outputs": [
    {
     "name": "stdout",
     "output_type": "stream",
     "text": [
      " * sqlite:///vbo.db\n",
      "Done.\n"
     ]
    },
    {
     "data": {
      "text/html": [
       "<table>\n",
       "    <tr>\n",
       "        <th>ProductID</th>\n",
       "        <th>ProductName</th>\n",
       "        <th>SupplierID</th>\n",
       "        <th>CategoryID</th>\n",
       "        <th>Unit</th>\n",
       "        <th>Price</th>\n",
       "    </tr>\n",
       "    <tr>\n",
       "        <td>1</td>\n",
       "        <td>Chais</td>\n",
       "        <td>1</td>\n",
       "        <td>1</td>\n",
       "        <td>10 boxes x 20 bags</td>\n",
       "        <td>18</td>\n",
       "    </tr>\n",
       "    <tr>\n",
       "        <td>2</td>\n",
       "        <td>Chang</td>\n",
       "        <td>1</td>\n",
       "        <td>1</td>\n",
       "        <td>24 - 12 oz bottles</td>\n",
       "        <td>19</td>\n",
       "    </tr>\n",
       "    <tr>\n",
       "        <td>3</td>\n",
       "        <td>Aniseed Syrup</td>\n",
       "        <td>1</td>\n",
       "        <td>2</td>\n",
       "        <td>12 - 550 ml bottles</td>\n",
       "        <td>10</td>\n",
       "    </tr>\n",
       "</table>"
      ],
      "text/plain": [
       "[(1, 'Chais', 1, 1, '10 boxes x 20 bags', 18),\n",
       " (2, 'Chang', 1, 1, '24 - 12 oz bottles', 19),\n",
       " (3, 'Aniseed Syrup', 1, 2, '12 - 550 ml bottles', 10)]"
      ]
     },
     "execution_count": 17,
     "metadata": {},
     "output_type": "execute_result"
    }
   ],
   "source": [
    "%%sql\n",
    "SELECT * FROM Products Limit 3;"
   ]
  },
  {
   "cell_type": "code",
   "execution_count": 34,
   "id": "c44b1576-ae3b-481e-a879-fc9096df6cd7",
   "metadata": {},
   "outputs": [
    {
     "name": "stdout",
     "output_type": "stream",
     "text": [
      " * sqlite:///vbo.db\n",
      "Done.\n"
     ]
    },
    {
     "data": {
      "text/html": [
       "<table>\n",
       "    <tr>\n",
       "        <th>name</th>\n",
       "    </tr>\n",
       "    <tr>\n",
       "        <td>Categories</td>\n",
       "    </tr>\n",
       "    <tr>\n",
       "        <td>Customers</td>\n",
       "    </tr>\n",
       "    <tr>\n",
       "        <td>Employees</td>\n",
       "    </tr>\n",
       "    <tr>\n",
       "        <td>OrderDetails</td>\n",
       "    </tr>\n",
       "    <tr>\n",
       "        <td>Orders</td>\n",
       "    </tr>\n",
       "    <tr>\n",
       "        <td>Products</td>\n",
       "    </tr>\n",
       "    <tr>\n",
       "        <td>Shippers</td>\n",
       "    </tr>\n",
       "    <tr>\n",
       "        <td>Suppliers</td>\n",
       "    </tr>\n",
       "    <tr>\n",
       "        <td>yeni_tablo</td>\n",
       "    </tr>\n",
       "</table>"
      ],
      "text/plain": [
       "[('Categories',),\n",
       " ('Customers',),\n",
       " ('Employees',),\n",
       " ('OrderDetails',),\n",
       " ('Orders',),\n",
       " ('Products',),\n",
       " ('Shippers',),\n",
       " ('Suppliers',),\n",
       " ('yeni_tablo',)]"
      ]
     },
     "execution_count": 34,
     "metadata": {},
     "output_type": "execute_result"
    }
   ],
   "source": [
    "# Veri Tabanindaki tum tablolari secme\n",
    "\n",
    "%sql SELECT name FROM sqlite_master WHERE type = 'table';"
   ]
  },
  {
   "cell_type": "code",
   "execution_count": 24,
   "id": "e5a82437-8d66-4480-8af9-62537252af7d",
   "metadata": {},
   "outputs": [
    {
     "name": "stdout",
     "output_type": "stream",
     "text": [
      " * sqlite:///vbo.db\n",
      "Done.\n"
     ]
    },
    {
     "data": {
      "text/html": [
       "<table>\n",
       "    <tr>\n",
       "        <th>CustomerID</th>\n",
       "        <th>CustomerName</th>\n",
       "        <th>ContactName</th>\n",
       "        <th>Address</th>\n",
       "        <th>City</th>\n",
       "        <th>PostalCode</th>\n",
       "        <th>Country</th>\n",
       "    </tr>\n",
       "</table>"
      ],
      "text/plain": [
       "[]"
      ]
     },
     "execution_count": 24,
     "metadata": {},
     "output_type": "execute_result"
    }
   ],
   "source": [
    "# Bir Tabloda degisken isimlerine ulasmak\n",
    "\n",
    "%%sql\n",
    "SELECT * FROM Customers WHERE 1=0;"
   ]
  },
  {
   "cell_type": "code",
   "execution_count": 35,
   "id": "ac58e2e5-b6b2-471f-82f6-67ab1117b775",
   "metadata": {},
   "outputs": [
    {
     "name": "stdout",
     "output_type": "stream",
     "text": [
      " * sqlite:///vbo.db\n",
      "Done.\n"
     ]
    },
    {
     "data": {
      "text/html": [
       "<table>\n",
       "    <tr>\n",
       "        <th>CustomerName</th>\n",
       "        <th>City</th>\n",
       "    </tr>\n",
       "    <tr>\n",
       "        <td>Alfreds Futterkiste</td>\n",
       "        <td>Berlin</td>\n",
       "    </tr>\n",
       "    <tr>\n",
       "        <td>Ana Trujillo Emparedados y helados</td>\n",
       "        <td>México D.F.</td>\n",
       "    </tr>\n",
       "    <tr>\n",
       "        <td>Antonio Moreno Taquería</td>\n",
       "        <td>México D.F.</td>\n",
       "    </tr>\n",
       "</table>"
      ],
      "text/plain": [
       "[('Alfreds Futterkiste', 'Berlin'),\n",
       " ('Ana Trujillo Emparedados y helados', 'México D.F.'),\n",
       " ('Antonio Moreno Taquería', 'México D.F.')]"
      ]
     },
     "execution_count": 35,
     "metadata": {},
     "output_type": "execute_result"
    }
   ],
   "source": [
    "# Bir Tabloda istedigin kolonlari secmek\n",
    "\n",
    "%sql SELECT CustomerName, City FROM Customers LIMIT 3;"
   ]
  },
  {
   "cell_type": "code",
   "execution_count": null,
   "id": "14e4c2e2-9f85-4fe8-ad80-da038f2a1e41",
   "metadata": {},
   "outputs": [],
   "source": []
  }
 ],
 "metadata": {
  "kernelspec": {
   "display_name": "Python 3 (ipykernel)",
   "language": "python",
   "name": "python3"
  },
  "language_info": {
   "codemirror_mode": {
    "name": "ipython",
    "version": 3
   },
   "file_extension": ".py",
   "mimetype": "text/x-python",
   "name": "python",
   "nbconvert_exporter": "python",
   "pygments_lexer": "ipython3",
   "version": "3.8.8"
  }
 },
 "nbformat": 4,
 "nbformat_minor": 5
}

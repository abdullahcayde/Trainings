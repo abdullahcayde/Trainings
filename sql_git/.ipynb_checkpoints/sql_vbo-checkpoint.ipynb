{
 "cells": [
  {
   "cell_type": "code",
   "execution_count": 1,
   "id": "9756c88c-eba7-48b4-8735-8a5b4b55dc55",
   "metadata": {
    "tags": []
   },
   "outputs": [
    {
     "data": {
      "text/plain": [
       "'\\n%%!\\npip install --trusted-host pypi.org ipython-sql\\n'"
      ]
     },
     "execution_count": 1,
     "metadata": {},
     "output_type": "execute_result"
    }
   ],
   "source": [
    "# Yikleme islemi (install)\n",
    "'''\n",
    "%%!\n",
    "pip install --trusted-host pypi.org ipython-sql\n",
    "'''"
   ]
  },
  {
   "cell_type": "code",
   "execution_count": 2,
   "id": "cf03a95b-818a-4b18-ac24-181be545f1ce",
   "metadata": {},
   "outputs": [],
   "source": [
    "%load_ext sql"
   ]
  },
  {
   "cell_type": "code",
   "execution_count": 3,
   "id": "40b6c3c0-42e5-44d0-9a01-31ec221bbb15",
   "metadata": {},
   "outputs": [],
   "source": [
    "# Baglanti islemi (Connect)\n",
    "\n",
    "%sql sqlite:///vbo.db"
   ]
  },
  {
   "cell_type": "code",
   "execution_count": 4,
   "id": "6463b261-a8be-48c0-bbb6-0f4bc4db210b",
   "metadata": {},
   "outputs": [
    {
     "name": "stdout",
     "output_type": "stream",
     "text": [
      " * sqlite:///vbo.db\n",
      "Done.\n"
     ]
    },
    {
     "data": {
      "text/html": [
       "<table>\n",
       "    <tr>\n",
       "        <th>OrderID</th>\n",
       "        <th>CustomerID</th>\n",
       "        <th>EmployeeID</th>\n",
       "        <th>OrderDate</th>\n",
       "        <th>ShipperID</th>\n",
       "    </tr>\n",
       "    <tr>\n",
       "        <td>10248</td>\n",
       "        <td>90</td>\n",
       "        <td>5</td>\n",
       "        <td>4.07.1996</td>\n",
       "        <td>3</td>\n",
       "    </tr>\n",
       "    <tr>\n",
       "        <td>10249</td>\n",
       "        <td>81</td>\n",
       "        <td>6</td>\n",
       "        <td>5.07.1996</td>\n",
       "        <td>1</td>\n",
       "    </tr>\n",
       "    <tr>\n",
       "        <td>10250</td>\n",
       "        <td>34</td>\n",
       "        <td>4</td>\n",
       "        <td>8.07.1996</td>\n",
       "        <td>2</td>\n",
       "    </tr>\n",
       "</table>"
      ],
      "text/plain": [
       "[(10248, 90, 5, '4.07.1996', 3),\n",
       " (10249, 81, 6, '5.07.1996', 1),\n",
       " (10250, 34, 4, '8.07.1996', 2)]"
      ]
     },
     "execution_count": 4,
     "metadata": {},
     "output_type": "execute_result"
    }
   ],
   "source": [
    "%%sql\n",
    "SELECT * FROM Orders LIMIT 3;"
   ]
  },
  {
   "cell_type": "markdown",
   "id": "fb62ac24-2613-46e3-885d-e82d90f3a60c",
   "metadata": {},
   "source": [
    "# Manuel Tablo Olusturmak"
   ]
  },
  {
   "cell_type": "code",
   "execution_count": 5,
   "id": "842a184d-23ab-485c-b81d-f901b79f8879",
   "metadata": {},
   "outputs": [
    {
     "name": "stdout",
     "output_type": "stream",
     "text": [
      " * sqlite:///vbo.db\n",
      "(sqlite3.OperationalError) table yeni_tablo already exists\n",
      "[SQL: CREATE TABLE yeni_tablo(firstname varcahr(20),\n",
      "                       lastname varcahr(20))]\n",
      "(Background on this error at: https://sqlalche.me/e/14/e3q8)\n"
     ]
    }
   ],
   "source": [
    "%%sql\n",
    "CREATE TABLE yeni_tablo(firstname varcahr(20),\n",
    "                       lastname varcahr(20))"
   ]
  },
  {
   "cell_type": "markdown",
   "id": "e893776d-a715-4fa6-a94e-fc61a63d69fd",
   "metadata": {},
   "source": [
    "## Tabloya Deger Eklemek"
   ]
  },
  {
   "cell_type": "code",
   "execution_count": 6,
   "id": "d6f59f24-f404-4dfe-a5db-083afedb138e",
   "metadata": {},
   "outputs": [
    {
     "name": "stdout",
     "output_type": "stream",
     "text": [
      " * sqlite:///vbo.db\n",
      "1 rows affected.\n"
     ]
    },
    {
     "data": {
      "text/plain": [
       "[]"
      ]
     },
     "execution_count": 6,
     "metadata": {},
     "output_type": "execute_result"
    }
   ],
   "source": [
    "%%sql\n",
    "INSERT INTO yeni_tablo VALUES('Ali', 'Uzaya_Git')"
   ]
  },
  {
   "cell_type": "code",
   "execution_count": 7,
   "id": "5b23c216-7e66-4823-a567-5520d0f41112",
   "metadata": {},
   "outputs": [
    {
     "name": "stdout",
     "output_type": "stream",
     "text": [
      " * sqlite:///vbo.db\n",
      "Done.\n"
     ]
    },
    {
     "data": {
      "text/html": [
       "<table>\n",
       "    <tr>\n",
       "        <th>firstname</th>\n",
       "        <th>lastname</th>\n",
       "    </tr>\n",
       "    <tr>\n",
       "        <td>Mehmet</td>\n",
       "        <td>Cevik</td>\n",
       "    </tr>\n",
       "    <tr>\n",
       "        <td>Ali</td>\n",
       "        <td>Uzaya_Git</td>\n",
       "    </tr>\n",
       "    <tr>\n",
       "        <td>Abdullah</td>\n",
       "        <td>SQL_Ogren</td>\n",
       "    </tr>\n",
       "    <tr>\n",
       "        <td>Ali</td>\n",
       "        <td>Uzaya_Git</td>\n",
       "    </tr>\n",
       "    <tr>\n",
       "        <td>Ali</td>\n",
       "        <td>Uzaya_Git</td>\n",
       "    </tr>\n",
       "    <tr>\n",
       "        <td>Ali</td>\n",
       "        <td>Uzaya_Git</td>\n",
       "    </tr>\n",
       "</table>"
      ],
      "text/plain": [
       "[('Mehmet', 'Cevik'),\n",
       " ('Ali', 'Uzaya_Git'),\n",
       " ('Abdullah', 'SQL_Ogren'),\n",
       " ('Ali', 'Uzaya_Git'),\n",
       " ('Ali', 'Uzaya_Git'),\n",
       " ('Ali', 'Uzaya_Git')]"
      ]
     },
     "execution_count": 7,
     "metadata": {},
     "output_type": "execute_result"
    }
   ],
   "source": [
    "%sql SELECT * FROM yeni_tablo;"
   ]
  },
  {
   "cell_type": "markdown",
   "id": "137aaae5-ea52-4f06-90a8-6756c38aed2e",
   "metadata": {},
   "source": [
    "# SELECT islemleri"
   ]
  },
  {
   "cell_type": "code",
   "execution_count": 8,
   "id": "5bc476fa-36a2-4adf-926f-6043adb4bb31",
   "metadata": {},
   "outputs": [
    {
     "name": "stdout",
     "output_type": "stream",
     "text": [
      " * sqlite:///vbo.db\n",
      "Done.\n"
     ]
    },
    {
     "data": {
      "text/html": [
       "<table>\n",
       "    <tr>\n",
       "        <th>ProductID</th>\n",
       "        <th>ProductName</th>\n",
       "        <th>SupplierID</th>\n",
       "        <th>CategoryID</th>\n",
       "        <th>Unit</th>\n",
       "        <th>Price</th>\n",
       "    </tr>\n",
       "    <tr>\n",
       "        <td>1</td>\n",
       "        <td>Chais</td>\n",
       "        <td>1</td>\n",
       "        <td>1</td>\n",
       "        <td>10 boxes x 20 bags</td>\n",
       "        <td>18</td>\n",
       "    </tr>\n",
       "    <tr>\n",
       "        <td>2</td>\n",
       "        <td>Chang</td>\n",
       "        <td>1</td>\n",
       "        <td>1</td>\n",
       "        <td>24 - 12 oz bottles</td>\n",
       "        <td>19</td>\n",
       "    </tr>\n",
       "    <tr>\n",
       "        <td>3</td>\n",
       "        <td>Aniseed Syrup</td>\n",
       "        <td>1</td>\n",
       "        <td>2</td>\n",
       "        <td>12 - 550 ml bottles</td>\n",
       "        <td>10</td>\n",
       "    </tr>\n",
       "</table>"
      ],
      "text/plain": [
       "[(1, 'Chais', 1, 1, '10 boxes x 20 bags', 18),\n",
       " (2, 'Chang', 1, 1, '24 - 12 oz bottles', 19),\n",
       " (3, 'Aniseed Syrup', 1, 2, '12 - 550 ml bottles', 10)]"
      ]
     },
     "execution_count": 8,
     "metadata": {},
     "output_type": "execute_result"
    }
   ],
   "source": [
    "%%sql\n",
    "SELECT * FROM Products Limit 3;"
   ]
  },
  {
   "cell_type": "code",
   "execution_count": 9,
   "id": "c44b1576-ae3b-481e-a879-fc9096df6cd7",
   "metadata": {},
   "outputs": [
    {
     "name": "stdout",
     "output_type": "stream",
     "text": [
      " * sqlite:///vbo.db\n",
      "Done.\n"
     ]
    },
    {
     "data": {
      "text/html": [
       "<table>\n",
       "    <tr>\n",
       "        <th>name</th>\n",
       "    </tr>\n",
       "    <tr>\n",
       "        <td>Categories</td>\n",
       "    </tr>\n",
       "    <tr>\n",
       "        <td>Customers</td>\n",
       "    </tr>\n",
       "    <tr>\n",
       "        <td>Employees</td>\n",
       "    </tr>\n",
       "    <tr>\n",
       "        <td>OrderDetails</td>\n",
       "    </tr>\n",
       "    <tr>\n",
       "        <td>Orders</td>\n",
       "    </tr>\n",
       "    <tr>\n",
       "        <td>Products</td>\n",
       "    </tr>\n",
       "    <tr>\n",
       "        <td>Shippers</td>\n",
       "    </tr>\n",
       "    <tr>\n",
       "        <td>Suppliers</td>\n",
       "    </tr>\n",
       "    <tr>\n",
       "        <td>yeni_tablo</td>\n",
       "    </tr>\n",
       "</table>"
      ],
      "text/plain": [
       "[('Categories',),\n",
       " ('Customers',),\n",
       " ('Employees',),\n",
       " ('OrderDetails',),\n",
       " ('Orders',),\n",
       " ('Products',),\n",
       " ('Shippers',),\n",
       " ('Suppliers',),\n",
       " ('yeni_tablo',)]"
      ]
     },
     "execution_count": 9,
     "metadata": {},
     "output_type": "execute_result"
    }
   ],
   "source": [
    "# Veri Tabanindaki tum tablolari secme\n",
    "\n",
    "%sql SELECT name FROM sqlite_master WHERE type = 'table';"
   ]
  },
  {
   "cell_type": "code",
   "execution_count": 10,
   "id": "e5a82437-8d66-4480-8af9-62537252af7d",
   "metadata": {},
   "outputs": [
    {
     "name": "stdout",
     "output_type": "stream",
     "text": [
      " * sqlite:///vbo.db\n",
      "Done.\n"
     ]
    },
    {
     "data": {
      "text/html": [
       "<table>\n",
       "    <tr>\n",
       "        <th>CustomerID</th>\n",
       "        <th>CustomerName</th>\n",
       "        <th>ContactName</th>\n",
       "        <th>Address</th>\n",
       "        <th>City</th>\n",
       "        <th>PostalCode</th>\n",
       "        <th>Country</th>\n",
       "    </tr>\n",
       "</table>"
      ],
      "text/plain": [
       "[]"
      ]
     },
     "execution_count": 10,
     "metadata": {},
     "output_type": "execute_result"
    }
   ],
   "source": [
    "# Bir Tabloda degisken isimlerine ulasmak\n",
    "\n",
    "%sql SELECT * FROM Customers WHERE 1=0;"
   ]
  },
  {
   "cell_type": "code",
   "execution_count": 11,
   "id": "ac58e2e5-b6b2-471f-82f6-67ab1117b775",
   "metadata": {},
   "outputs": [
    {
     "name": "stdout",
     "output_type": "stream",
     "text": [
      " * sqlite:///vbo.db\n",
      "Done.\n"
     ]
    },
    {
     "data": {
      "text/html": [
       "<table>\n",
       "    <tr>\n",
       "        <th>CustomerName</th>\n",
       "        <th>City</th>\n",
       "    </tr>\n",
       "    <tr>\n",
       "        <td>Alfreds Futterkiste</td>\n",
       "        <td>Berlin</td>\n",
       "    </tr>\n",
       "    <tr>\n",
       "        <td>Ana Trujillo Emparedados y helados</td>\n",
       "        <td>México D.F.</td>\n",
       "    </tr>\n",
       "    <tr>\n",
       "        <td>Antonio Moreno Taquería</td>\n",
       "        <td>México D.F.</td>\n",
       "    </tr>\n",
       "</table>"
      ],
      "text/plain": [
       "[('Alfreds Futterkiste', 'Berlin'),\n",
       " ('Ana Trujillo Emparedados y helados', 'México D.F.'),\n",
       " ('Antonio Moreno Taquería', 'México D.F.')]"
      ]
     },
     "execution_count": 11,
     "metadata": {},
     "output_type": "execute_result"
    }
   ],
   "source": [
    "# Bir Tabloda istedigin kolonlari secmek\n",
    "\n",
    "%sql SELECT CustomerName, City FROM Customers LIMIT 3;"
   ]
  },
  {
   "cell_type": "code",
   "execution_count": null,
   "id": "14e4c2e2-9f85-4fe8-ad80-da038f2a1e41",
   "metadata": {},
   "outputs": [],
   "source": []
  },
  {
   "cell_type": "code",
   "execution_count": null,
   "id": "aa30e5bf-d05e-4659-a928-3899e61ca461",
   "metadata": {},
   "outputs": [],
   "source": []
  }
 ],
 "metadata": {
  "kernelspec": {
   "display_name": "Python 3 (ipykernel)",
   "language": "python",
   "name": "python3"
  },
  "language_info": {
   "codemirror_mode": {
    "name": "ipython",
    "version": 3
   },
   "file_extension": ".py",
   "mimetype": "text/x-python",
   "name": "python",
   "nbconvert_exporter": "python",
   "pygments_lexer": "ipython3",
   "version": "3.8.8"
  }
 },
 "nbformat": 4,
 "nbformat_minor": 5
}

{
 "cells": [
  {
   "cell_type": "code",
   "execution_count": 1,
   "id": "20d6d32b-bf71-45d0-8629-3409004829c2",
   "metadata": {},
   "outputs": [],
   "source": [
    "import numpy as np\n",
    "import pandas as pd\n",
    "import seaborn as sns"
   ]
  },
  {
   "cell_type": "code",
   "execution_count": 2,
   "id": "74df2e58-586a-4306-aa99-d8b2a9a59a9e",
   "metadata": {},
   "outputs": [],
   "source": [
    "import warnings\n",
    "warnings.simplefilter(action='ignore')"
   ]
  },
  {
   "cell_type": "code",
   "execution_count": 3,
   "id": "8774d94f-4126-4210-a608-92adaae4bc6f",
   "metadata": {},
   "outputs": [
    {
     "data": {
      "text/html": [
       "<div>\n",
       "<style scoped>\n",
       "    .dataframe tbody tr th:only-of-type {\n",
       "        vertical-align: middle;\n",
       "    }\n",
       "\n",
       "    .dataframe tbody tr th {\n",
       "        vertical-align: top;\n",
       "    }\n",
       "\n",
       "    .dataframe thead th {\n",
       "        text-align: right;\n",
       "    }\n",
       "</style>\n",
       "<table border=\"1\" class=\"dataframe\">\n",
       "  <thead>\n",
       "    <tr style=\"text-align: right;\">\n",
       "      <th></th>\n",
       "      <th>total_bill</th>\n",
       "      <th>tip</th>\n",
       "      <th>sex</th>\n",
       "      <th>smoker</th>\n",
       "      <th>day</th>\n",
       "      <th>time</th>\n",
       "      <th>size</th>\n",
       "    </tr>\n",
       "  </thead>\n",
       "  <tbody>\n",
       "    <tr>\n",
       "      <th>0</th>\n",
       "      <td>16.99</td>\n",
       "      <td>1.01</td>\n",
       "      <td>Female</td>\n",
       "      <td>No</td>\n",
       "      <td>Sun</td>\n",
       "      <td>Dinner</td>\n",
       "      <td>2</td>\n",
       "    </tr>\n",
       "    <tr>\n",
       "      <th>1</th>\n",
       "      <td>10.34</td>\n",
       "      <td>1.66</td>\n",
       "      <td>Male</td>\n",
       "      <td>No</td>\n",
       "      <td>Sun</td>\n",
       "      <td>Dinner</td>\n",
       "      <td>3</td>\n",
       "    </tr>\n",
       "    <tr>\n",
       "      <th>2</th>\n",
       "      <td>21.01</td>\n",
       "      <td>3.50</td>\n",
       "      <td>Male</td>\n",
       "      <td>No</td>\n",
       "      <td>Sun</td>\n",
       "      <td>Dinner</td>\n",
       "      <td>3</td>\n",
       "    </tr>\n",
       "    <tr>\n",
       "      <th>3</th>\n",
       "      <td>23.68</td>\n",
       "      <td>3.31</td>\n",
       "      <td>Male</td>\n",
       "      <td>No</td>\n",
       "      <td>Sun</td>\n",
       "      <td>Dinner</td>\n",
       "      <td>2</td>\n",
       "    </tr>\n",
       "    <tr>\n",
       "      <th>4</th>\n",
       "      <td>24.59</td>\n",
       "      <td>3.61</td>\n",
       "      <td>Female</td>\n",
       "      <td>No</td>\n",
       "      <td>Sun</td>\n",
       "      <td>Dinner</td>\n",
       "      <td>4</td>\n",
       "    </tr>\n",
       "  </tbody>\n",
       "</table>\n",
       "</div>"
      ],
      "text/plain": [
       "   total_bill   tip     sex smoker  day    time  size\n",
       "0       16.99  1.01  Female     No  Sun  Dinner     2\n",
       "1       10.34  1.66    Male     No  Sun  Dinner     3\n",
       "2       21.01  3.50    Male     No  Sun  Dinner     3\n",
       "3       23.68  3.31    Male     No  Sun  Dinner     2\n",
       "4       24.59  3.61  Female     No  Sun  Dinner     4"
      ]
     },
     "execution_count": 3,
     "metadata": {},
     "output_type": "execute_result"
    }
   ],
   "source": [
    "tips = sns.load_dataset('tips')\n",
    "df = tips.copy()\n",
    "df.head()"
   ]
  },
  {
   "cell_type": "code",
   "execution_count": 4,
   "id": "3ba5833d-010a-4214-99f4-d3d589f45cc0",
   "metadata": {},
   "outputs": [
    {
     "name": "stdout",
     "output_type": "stream",
     "text": [
      "<class 'pandas.core.frame.DataFrame'>\n",
      "RangeIndex: 244 entries, 0 to 243\n",
      "Data columns (total 7 columns):\n",
      " #   Column      Non-Null Count  Dtype   \n",
      "---  ------      --------------  -----   \n",
      " 0   total_bill  244 non-null    float64 \n",
      " 1   tip         244 non-null    float64 \n",
      " 2   sex         244 non-null    category\n",
      " 3   smoker      244 non-null    category\n",
      " 4   day         244 non-null    category\n",
      " 5   time        244 non-null    category\n",
      " 6   size        244 non-null    int64   \n",
      "dtypes: category(4), float64(2), int64(1)\n",
      "memory usage: 7.4 KB\n"
     ]
    }
   ],
   "source": [
    "df.info()"
   ]
  },
  {
   "cell_type": "code",
   "execution_count": 5,
   "id": "97156cce-ca98-4889-b013-f9926832b508",
   "metadata": {},
   "outputs": [
    {
     "data": {
      "text/plain": [
       "(244, 7)"
      ]
     },
     "execution_count": 5,
     "metadata": {},
     "output_type": "execute_result"
    }
   ],
   "source": [
    "df.shape"
   ]
  },
  {
   "cell_type": "code",
   "execution_count": 6,
   "id": "2b3db640-b778-4668-be18-2aaa09ec38f9",
   "metadata": {},
   "outputs": [
    {
     "data": {
      "text/html": [
       "<div>\n",
       "<style scoped>\n",
       "    .dataframe tbody tr th:only-of-type {\n",
       "        vertical-align: middle;\n",
       "    }\n",
       "\n",
       "    .dataframe tbody tr th {\n",
       "        vertical-align: top;\n",
       "    }\n",
       "\n",
       "    .dataframe thead th {\n",
       "        text-align: right;\n",
       "    }\n",
       "</style>\n",
       "<table border=\"1\" class=\"dataframe\">\n",
       "  <thead>\n",
       "    <tr style=\"text-align: right;\">\n",
       "      <th></th>\n",
       "      <th>count</th>\n",
       "      <th>mean</th>\n",
       "      <th>std</th>\n",
       "      <th>min</th>\n",
       "      <th>25%</th>\n",
       "      <th>50%</th>\n",
       "      <th>75%</th>\n",
       "      <th>max</th>\n",
       "    </tr>\n",
       "  </thead>\n",
       "  <tbody>\n",
       "    <tr>\n",
       "      <th>total_bill</th>\n",
       "      <td>244.0</td>\n",
       "      <td>19.785943</td>\n",
       "      <td>8.902412</td>\n",
       "      <td>3.07</td>\n",
       "      <td>13.3475</td>\n",
       "      <td>17.795</td>\n",
       "      <td>24.1275</td>\n",
       "      <td>50.81</td>\n",
       "    </tr>\n",
       "    <tr>\n",
       "      <th>tip</th>\n",
       "      <td>244.0</td>\n",
       "      <td>2.998279</td>\n",
       "      <td>1.383638</td>\n",
       "      <td>1.00</td>\n",
       "      <td>2.0000</td>\n",
       "      <td>2.900</td>\n",
       "      <td>3.5625</td>\n",
       "      <td>10.00</td>\n",
       "    </tr>\n",
       "    <tr>\n",
       "      <th>size</th>\n",
       "      <td>244.0</td>\n",
       "      <td>2.569672</td>\n",
       "      <td>0.951100</td>\n",
       "      <td>1.00</td>\n",
       "      <td>2.0000</td>\n",
       "      <td>2.000</td>\n",
       "      <td>3.0000</td>\n",
       "      <td>6.00</td>\n",
       "    </tr>\n",
       "  </tbody>\n",
       "</table>\n",
       "</div>"
      ],
      "text/plain": [
       "            count       mean       std   min      25%     50%      75%    max\n",
       "total_bill  244.0  19.785943  8.902412  3.07  13.3475  17.795  24.1275  50.81\n",
       "tip         244.0   2.998279  1.383638  1.00   2.0000   2.900   3.5625  10.00\n",
       "size        244.0   2.569672  0.951100  1.00   2.0000   2.000   3.0000   6.00"
      ]
     },
     "execution_count": 6,
     "metadata": {},
     "output_type": "execute_result"
    }
   ],
   "source": [
    "df.describe().T"
   ]
  },
  {
   "cell_type": "markdown",
   "id": "6c83f1a9-7ad5-4208-bcce-9906fefd1632",
   "metadata": {},
   "source": [
    "## One Sample T Test (Tek Orneklem T Testi)(for total_bill)"
   ]
  },
  {
   "cell_type": "code",
   "execution_count": 7,
   "id": "29c7eb4e-7ae5-4d34-b6b3-025f126649ae",
   "metadata": {},
   "outputs": [
    {
     "data": {
      "text/plain": [
       "0    16.99\n",
       "1    10.34\n",
       "2    21.01\n",
       "3    23.68\n",
       "4    24.59\n",
       "Name: total_bill, dtype: float64"
      ]
     },
     "execution_count": 7,
     "metadata": {},
     "output_type": "execute_result"
    }
   ],
   "source": [
    "# Select First Column (ilk kolunu secmek)\n",
    "df.iloc[:,0:1]\n",
    "\n",
    "df.loc[:, 'total_bill']\n",
    "\n",
    "df['total_bill'].head()"
   ]
  },
  {
   "cell_type": "code",
   "execution_count": 8,
   "id": "7c3b6e37-91fe-4100-a1d1-0fc3b2412d10",
   "metadata": {},
   "outputs": [
    {
     "data": {
      "text/html": [
       "<div>\n",
       "<style scoped>\n",
       "    .dataframe tbody tr th:only-of-type {\n",
       "        vertical-align: middle;\n",
       "    }\n",
       "\n",
       "    .dataframe tbody tr th {\n",
       "        vertical-align: top;\n",
       "    }\n",
       "\n",
       "    .dataframe thead th {\n",
       "        text-align: right;\n",
       "    }\n",
       "</style>\n",
       "<table border=\"1\" class=\"dataframe\">\n",
       "  <thead>\n",
       "    <tr style=\"text-align: right;\">\n",
       "      <th></th>\n",
       "      <th>total_bill</th>\n",
       "    </tr>\n",
       "  </thead>\n",
       "  <tbody>\n",
       "    <tr>\n",
       "      <th>0</th>\n",
       "      <td>16.99</td>\n",
       "    </tr>\n",
       "    <tr>\n",
       "      <th>1</th>\n",
       "      <td>10.34</td>\n",
       "    </tr>\n",
       "    <tr>\n",
       "      <th>2</th>\n",
       "      <td>21.01</td>\n",
       "    </tr>\n",
       "    <tr>\n",
       "      <th>3</th>\n",
       "      <td>23.68</td>\n",
       "    </tr>\n",
       "    <tr>\n",
       "      <th>4</th>\n",
       "      <td>24.59</td>\n",
       "    </tr>\n",
       "  </tbody>\n",
       "</table>\n",
       "</div>"
      ],
      "text/plain": [
       "   total_bill\n",
       "0       16.99\n",
       "1       10.34\n",
       "2       21.01\n",
       "3       23.68\n",
       "4       24.59"
      ]
     },
     "execution_count": 8,
     "metadata": {},
     "output_type": "execute_result"
    }
   ],
   "source": [
    "df.iloc[:,0:1].head()"
   ]
  },
  {
   "cell_type": "code",
   "execution_count": 9,
   "id": "12a92b18-1790-47d5-a3f3-3baf70fe0a91",
   "metadata": {},
   "outputs": [
    {
     "data": {
      "text/plain": [
       "0    16.99\n",
       "1    10.34\n",
       "2    21.01\n",
       "3    23.68\n",
       "4    24.59\n",
       "Name: total_bill, dtype: float64"
      ]
     },
     "execution_count": 9,
     "metadata": {},
     "output_type": "execute_result"
    }
   ],
   "source": [
    "df.loc[:, 'total_bill'].head()"
   ]
  },
  {
   "cell_type": "code",
   "execution_count": 10,
   "id": "dbdd38dc-c3f9-4328-bff5-2c5d554dc7d9",
   "metadata": {},
   "outputs": [
    {
     "data": {
      "text/plain": [
       "array([109, 126,  66, 220,  98, 230,  17,  83, 106, 123,  57, 214, 225,\n",
       "        96, 113, 126,  47,  73,  32, 174, 224, 111, 153,  83,  78, 164,\n",
       "        96, 208,  68,  49])"
      ]
     },
     "execution_count": 10,
     "metadata": {},
     "output_type": "execute_result"
    }
   ],
   "source": [
    "#Selecet random 50 index (ilk kolondan rastgele 50 deger secmek)\n",
    "\n",
    "np.random.seed(123)\n",
    "r1 = np.random.randint(0,243, 30)\n",
    "r1"
   ]
  },
  {
   "cell_type": "code",
   "execution_count": 11,
   "id": "58b8373f-bbd3-4f56-b3c7-eaf766f0443f",
   "metadata": {},
   "outputs": [
    {
     "data": {
      "text/plain": [
       "118.96666666666667"
      ]
     },
     "execution_count": 11,
     "metadata": {},
     "output_type": "execute_result"
    }
   ],
   "source": [
    "r1.mean()"
   ]
  },
  {
   "cell_type": "code",
   "execution_count": 12,
   "id": "67c28e6c-c2e1-470f-b7a0-9fef80753d7a",
   "metadata": {},
   "outputs": [
    {
     "data": {
      "text/plain": [
       "30"
      ]
     },
     "execution_count": 12,
     "metadata": {},
     "output_type": "execute_result"
    }
   ],
   "source": [
    "r1.size"
   ]
  },
  {
   "cell_type": "code",
   "execution_count": 13,
   "id": "6b533fd8-f889-4258-a3ee-258dc20d08f3",
   "metadata": {},
   "outputs": [
    {
     "data": {
      "text/plain": [
       "array([ 17,  32,  47,  49,  57,  66,  68,  73,  78,  83,  83,  96,  96,\n",
       "        98, 106, 109, 111, 113, 123, 126, 126, 153, 164, 174, 208, 214,\n",
       "       220, 224, 225, 230])"
      ]
     },
     "execution_count": 13,
     "metadata": {},
     "output_type": "execute_result"
    }
   ],
   "source": [
    "r1.sort()\n",
    "r1"
   ]
  },
  {
   "cell_type": "code",
   "execution_count": 14,
   "id": "2d584499-73d5-4441-a9f2-4bceaf8a3a9c",
   "metadata": {},
   "outputs": [
    {
     "name": "stdout",
     "output_type": "stream",
     "text": [
      "27\n"
     ]
    },
    {
     "data": {
      "text/plain": [
       "array([ 17,  32,  47,  49,  57,  66,  68,  73,  78,  83,  96,  98, 106,\n",
       "       109, 111, 113, 123, 126, 153, 164, 174, 208, 214, 220, 224, 225,\n",
       "       230])"
      ]
     },
     "execution_count": 14,
     "metadata": {},
     "output_type": "execute_result"
    }
   ],
   "source": [
    "# Duplicate Values Droped (Ayni degerler silindi)\n",
    "r1 = np.unique(r1)\n",
    "print(r1.size)\n",
    "r1"
   ]
  },
  {
   "cell_type": "code",
   "execution_count": 15,
   "id": "8318038e-2109-421f-9426-57cf2b324205",
   "metadata": {},
   "outputs": [
    {
     "data": {
      "text/plain": [
       "17    16.29\n",
       "32    15.06\n",
       "47    32.40\n",
       "49    18.04\n",
       "57    26.41\n",
       "Name: total_bill, dtype: float64"
      ]
     },
     "execution_count": 15,
     "metadata": {},
     "output_type": "execute_result"
    }
   ],
   "source": [
    "# ilk kolondan listedeki indexleri secmek\n",
    "\n",
    "olcumler = df['total_bill'][r1]\n",
    "olcumler.head()"
   ]
  },
  {
   "cell_type": "code",
   "execution_count": 16,
   "id": "bf261c18-f344-4f66-96ed-d6a4c25ee9dc",
   "metadata": {},
   "outputs": [
    {
     "data": {
      "text/plain": [
       "count    27.000000\n",
       "mean     20.057037\n",
       "std       6.549949\n",
       "min       7.250000\n",
       "25%      16.110000\n",
       "50%      20.230000\n",
       "75%      24.410000\n",
       "max      32.680000\n",
       "Name: total_bill, dtype: float64"
      ]
     },
     "execution_count": 16,
     "metadata": {},
     "output_type": "execute_result"
    }
   ],
   "source": [
    "olcumler.describe()"
   ]
  },
  {
   "cell_type": "code",
   "execution_count": 17,
   "id": "f9b253c9-9be0-4dbe-a31a-c6f22b17bfe4",
   "metadata": {},
   "outputs": [
    {
     "data": {
      "image/png": "[encoded data removed]",
      "text/plain": [
       "<Figure size 432x288 with 1 Axes>"
      ]
     },
     "metadata": {
      "needs_background": "light"
     },
     "output_type": "display_data"
    }
   ],
   "source": [
    "# Normallik Varsayimi\n",
    "\n",
    "# histogram\n",
    "\n",
    "pd.DataFrame(olcumler).plot.hist();"
   ]
  },
  {
   "cell_type": "code",
   "execution_count": 18,
   "id": "cee76402-0ec2-44a7-8532-a2c39c933344",
   "metadata": {},
   "outputs": [
    {
     "data": {
      "image/png": "[encoded data removed]",
      "text/plain": [
       "<Figure size 432x288 with 1 Axes>"
      ]
     },
     "metadata": {
      "needs_background": "light"
     },
     "output_type": "display_data"
    }
   ],
   "source": [
    "#qqplot\n",
    "import scipy.stats as stats\n",
    "import pylab\n",
    "stats.probplot(olcumler, dist=\"norm\", plot=pylab)\n",
    "pylab.show()"
   ]
  },
  {
   "cell_type": "code",
   "execution_count": 19,
   "id": "07e3e3f1-e109-429e-a375-e84622d42d86",
   "metadata": {},
   "outputs": [],
   "source": [
    "# Varsayimlar\n",
    "\n",
    "# 1 - Normallik\n",
    "\n",
    "# Shapiro Testi \n",
    "\n",
    "from scipy.stats import shapiro"
   ]
  },
  {
   "cell_type": "code",
   "execution_count": 20,
   "id": "a3cadef2-e1d9-493b-8ec4-06e66c9d714b",
   "metadata": {},
   "outputs": [],
   "source": [
    "# H0: Örnek dağılımı ile teorik normal dağılım arasında istatistiksel olarak anlanmli bir farklilik yoktur\n",
    "\n",
    "# H1: ... fark vardır"
   ]
  },
  {
   "cell_type": "code",
   "execution_count": 21,
   "id": "6c1001d2-c698-4dbf-a7b5-44f1b9a1b36f",
   "metadata": {},
   "outputs": [
    {
     "data": {
      "text/plain": [
       "ShapiroResult(statistic=0.9780264496803284, pvalue=0.8153059482574463)"
      ]
     },
     "execution_count": 21,
     "metadata": {},
     "output_type": "execute_result"
    }
   ],
   "source": [
    "shapiro(olcumler)"
   ]
  },
  {
   "cell_type": "code",
   "execution_count": 22,
   "id": "d38a8ad5-bb51-4433-89a4-2668979b5043",
   "metadata": {},
   "outputs": [
    {
     "name": "stdout",
     "output_type": "stream",
     "text": [
      "istatstistk Deger = 0.9780 , P-Value = 0.8153\n"
     ]
    }
   ],
   "source": [
    "ista , p = shapiro(olcumler)\n",
    "print('istatstistk Deger = %.4f , P-Value = %.4f' % (ista, p))"
   ]
  },
  {
   "cell_type": "markdown",
   "id": "c293b28b-a9b4-4afb-90dc-950d041a7803",
   "metadata": {},
   "source": [
    "Sonuc : p > 0.05"
   ]
  },
  {
   "cell_type": "code",
   "execution_count": 23,
   "id": "3791c468-224d-4690-80a3-468e917e6761",
   "metadata": {},
   "outputs": [
    {
     "data": {
      "text/plain": [
       "Ttest_1sampResult(statistic=-63.41969927114395, pvalue=4.920658405580595e-30)"
      ]
     },
     "execution_count": 23,
     "metadata": {},
     "output_type": "execute_result"
    }
   ],
   "source": [
    "# Varsayimlar\n",
    "\n",
    "# 2 - Varyans Homejenligi\n",
    "\n",
    "stats.ttest_1samp(olcumler, popmean= 100)"
   ]
  },
  {
   "cell_type": "code",
   "execution_count": 90,
   "id": "6e7de0ea-a77b-4e9e-9a0b-66cb8cfcbce8",
   "metadata": {},
   "outputs": [
    {
     "data": {
      "text/plain": [
       "array([ 1,  2,  3,  4,  5,  6,  7,  8,  9, 10, 11, 12, 13, 14, 15, 16, 17,\n",
       "       18, 19, 20, 21, 22, 23, 24, 25, 26, 27, 28, 29, 30, 31, 32, 33, 34,\n",
       "       35, 36, 37, 38, 39, 40, 41, 42, 43, 44, 45, 46, 47, 48, 49, 50, 51,\n",
       "       52, 53, 54, 55, 56, 57, 58, 59, 60, 61, 62, 63, 64, 65, 66, 67, 68,\n",
       "       69, 70, 71, 72, 73, 74, 75, 76, 77, 78, 79, 80, 81, 82, 83, 84, 85,\n",
       "       86, 87, 88, 89, 90, 91, 92, 93, 94, 95, 96, 97, 98, 99])"
      ]
     },
     "execution_count": 90,
     "metadata": {},
     "output_type": "execute_result"
    }
   ],
   "source": [
    "n1 = np.arange(1,100)\n",
    "n1"
   ]
  },
  {
   "cell_type": "code",
   "execution_count": 27,
   "id": "ccee8194-cf70-43d1-9b12-e8865cd9bece",
   "metadata": {},
   "outputs": [
    {
     "name": "stdout",
     "output_type": "stream",
     "text": [
      "Fatura = 18.00, P = 0.1148\n",
      "Fatura = 19.00, P = 0.4094\n",
      "Fatura = 20.00, P = 0.9643\n",
      "Fatura = 21.00, P = 0.4611\n",
      "Fatura = 22.00, P = 0.1353\n"
     ]
    }
   ],
   "source": [
    "for i in n1:\n",
    "    a = stats.ttest_1samp(olcumler, popmean=i)[1] \n",
    "    if a > 0.05 :\n",
    "        print ('Fatura = %.2f, P = %.4f' % (i, a))"
   ]
  },
  {
   "cell_type": "markdown",
   "id": "08340536-db44-4419-8406-2a8a2ddbff1a",
   "metadata": {},
   "source": [
    "## 2. One Sample T Testi (for Tips)"
   ]
  },
  {
   "cell_type": "code",
   "execution_count": 29,
   "id": "0e332bc6-ee05-4360-b8d2-3e17d5de2d06",
   "metadata": {},
   "outputs": [
    {
     "data": {
      "text/html": [
       "<div>\n",
       "<style scoped>\n",
       "    .dataframe tbody tr th:only-of-type {\n",
       "        vertical-align: middle;\n",
       "    }\n",
       "\n",
       "    .dataframe tbody tr th {\n",
       "        vertical-align: top;\n",
       "    }\n",
       "\n",
       "    .dataframe thead th {\n",
       "        text-align: right;\n",
       "    }\n",
       "</style>\n",
       "<table border=\"1\" class=\"dataframe\">\n",
       "  <thead>\n",
       "    <tr style=\"text-align: right;\">\n",
       "      <th></th>\n",
       "      <th>total_bill</th>\n",
       "      <th>tip</th>\n",
       "      <th>sex</th>\n",
       "      <th>smoker</th>\n",
       "      <th>day</th>\n",
       "      <th>time</th>\n",
       "      <th>size</th>\n",
       "    </tr>\n",
       "  </thead>\n",
       "  <tbody>\n",
       "    <tr>\n",
       "      <th>0</th>\n",
       "      <td>16.99</td>\n",
       "      <td>1.01</td>\n",
       "      <td>Female</td>\n",
       "      <td>No</td>\n",
       "      <td>Sun</td>\n",
       "      <td>Dinner</td>\n",
       "      <td>2</td>\n",
       "    </tr>\n",
       "    <tr>\n",
       "      <th>1</th>\n",
       "      <td>10.34</td>\n",
       "      <td>1.66</td>\n",
       "      <td>Male</td>\n",
       "      <td>No</td>\n",
       "      <td>Sun</td>\n",
       "      <td>Dinner</td>\n",
       "      <td>3</td>\n",
       "    </tr>\n",
       "    <tr>\n",
       "      <th>2</th>\n",
       "      <td>21.01</td>\n",
       "      <td>3.50</td>\n",
       "      <td>Male</td>\n",
       "      <td>No</td>\n",
       "      <td>Sun</td>\n",
       "      <td>Dinner</td>\n",
       "      <td>3</td>\n",
       "    </tr>\n",
       "  </tbody>\n",
       "</table>\n",
       "</div>"
      ],
      "text/plain": [
       "   total_bill   tip     sex smoker  day    time  size\n",
       "0       16.99  1.01  Female     No  Sun  Dinner     2\n",
       "1       10.34  1.66    Male     No  Sun  Dinner     3\n",
       "2       21.01  3.50    Male     No  Sun  Dinner     3"
      ]
     },
     "execution_count": 29,
     "metadata": {},
     "output_type": "execute_result"
    }
   ],
   "source": [
    "df.head(3)"
   ]
  },
  {
   "cell_type": "code",
   "execution_count": 81,
   "id": "b0cc2760-e248-4622-ab20-b36634b26d43",
   "metadata": {},
   "outputs": [
    {
     "data": {
      "text/plain": [
       "156    5.00\n",
       "10     1.71\n",
       "7      3.12\n",
       "107    4.29\n",
       "26     2.00\n",
       "Name: tip, dtype: float64"
      ]
     },
     "execution_count": 81,
     "metadata": {},
     "output_type": "execute_result"
    }
   ],
   "source": [
    "olcumler2 = df.loc[:, 'tip'].sample(n=50, random_state=756)\n",
    "olcumler2.head()"
   ]
  },
  {
   "cell_type": "code",
   "execution_count": 82,
   "id": "0e2a78f5-63c0-4965-bc4b-fa391b950b7f",
   "metadata": {},
   "outputs": [
    {
     "data": {
      "text/plain": [
       "ShapiroResult(statistic=0.9540871381759644, pvalue=0.050334375351667404)"
      ]
     },
     "execution_count": 82,
     "metadata": {},
     "output_type": "execute_result"
    }
   ],
   "source": [
    "shapiro(olcumler2)"
   ]
  },
  {
   "cell_type": "code",
   "execution_count": 83,
   "id": "204d389e-0b15-4b6b-b4f2-d3805036da59",
   "metadata": {},
   "outputs": [
    {
     "data": {
      "text/plain": [
       "2.6746"
      ]
     },
     "execution_count": 83,
     "metadata": {},
     "output_type": "execute_result"
    }
   ],
   "source": [
    "olcumler2.mean()"
   ]
  },
  {
   "cell_type": "code",
   "execution_count": 84,
   "id": "59d22f88-48c6-4a94-906c-6f03d05af6aa",
   "metadata": {},
   "outputs": [
    {
     "data": {
      "text/plain": [
       "2.9982786885245902"
      ]
     },
     "execution_count": 84,
     "metadata": {},
     "output_type": "execute_result"
    }
   ],
   "source": [
    "df['tip'].mean()"
   ]
  },
  {
   "cell_type": "code",
   "execution_count": 151,
   "id": "2f0272c6-91a8-49e5-9915-4b00e17e8908",
   "metadata": {},
   "outputs": [
    {
     "name": "stdout",
     "output_type": "stream",
     "text": [
      "Bahsis = 2.40, P = 0.0594\n",
      "Bahsis = 2.50, P = 0.2257\n",
      "Bahsis = 2.60, P = 0.6025\n",
      "Bahsis = 2.70, P = 0.8591\n",
      "Bahsis = 2.80, P = 0.3825\n",
      "Bahsis = 2.90, P = 0.1196\n"
     ]
    },
    {
     "data": {
      "text/html": [
       "<div>\n",
       "<style scoped>\n",
       "    .dataframe tbody tr th:only-of-type {\n",
       "        vertical-align: middle;\n",
       "    }\n",
       "\n",
       "    .dataframe tbody tr th {\n",
       "        vertical-align: top;\n",
       "    }\n",
       "\n",
       "    .dataframe thead th {\n",
       "        text-align: right;\n",
       "    }\n",
       "</style>\n",
       "<table border=\"1\" class=\"dataframe\">\n",
       "  <thead>\n",
       "    <tr style=\"text-align: right;\">\n",
       "      <th></th>\n",
       "      <th>tip</th>\n",
       "      <th>P-Value</th>\n",
       "    </tr>\n",
       "  </thead>\n",
       "  <tbody>\n",
       "    <tr>\n",
       "      <th>0</th>\n",
       "      <td>2.4</td>\n",
       "      <td>0.059436</td>\n",
       "    </tr>\n",
       "    <tr>\n",
       "      <th>1</th>\n",
       "      <td>2.5</td>\n",
       "      <td>0.225682</td>\n",
       "    </tr>\n",
       "    <tr>\n",
       "      <th>2</th>\n",
       "      <td>2.6</td>\n",
       "      <td>0.602465</td>\n",
       "    </tr>\n",
       "    <tr>\n",
       "      <th>3</th>\n",
       "      <td>2.7</td>\n",
       "      <td>0.859067</td>\n",
       "    </tr>\n",
       "    <tr>\n",
       "      <th>4</th>\n",
       "      <td>2.8</td>\n",
       "      <td>0.382483</td>\n",
       "    </tr>\n",
       "    <tr>\n",
       "      <th>5</th>\n",
       "      <td>2.9</td>\n",
       "      <td>0.119625</td>\n",
       "    </tr>\n",
       "  </tbody>\n",
       "</table>\n",
       "</div>"
      ],
      "text/plain": [
       "   tip   P-Value\n",
       "0  2.4  0.059436\n",
       "1  2.5  0.225682\n",
       "2  2.6  0.602465\n",
       "3  2.7  0.859067\n",
       "4  2.8  0.382483\n",
       "5  2.9  0.119625"
      ]
     },
     "execution_count": 151,
     "metadata": {},
     "output_type": "execute_result"
    }
   ],
   "source": [
    "# Testin Uygulanmasi\n",
    "\n",
    "df2 = pd.DataFrame(columns=['tip', 'P-Value'])\n",
    "for i in (np.arange(1,5, 0.1)):\n",
    "    b = stats.ttest_1samp(olcumler2, popmean=i)[1] \n",
    "    if b > 0.05 :\n",
    "        print ('Bahsis = %.2f, P = %.4f' % (i, b))\n",
    "        df2 = df2.append({'tip':i, 'P-Value':b}, ignore_index=True)\n",
    "df2"
   ]
  },
  {
   "cell_type": "markdown",
   "id": "f81f865f-b0c8-41d8-b847-c3e2ddd6d79d",
   "metadata": {},
   "source": [
    "# Append\n",
    "\n",
    "Signature:\n",
    "df.append(\n",
    "    other,\n",
    "    ignore_index: 'bool' = False,\n",
    "    verify_integrity: 'bool' = False,\n",
    "    sort: 'bool' = False,\n",
    ") -> 'DataFrame'\n",
    "Docstring:\n",
    "Append rows of `other` to the end of caller, returning a new object.\n",
    "\n",
    "Columns in `other` that are not in the caller are added as new columns.\n",
    "\n",
    "Parameters\n",
    "----------\n",
    "other : DataFrame or Series/dict-like object, or list of these\n",
    "    The data to append.\n",
    "ignore_index : bool, default False\n",
    "    If True, the resulting axis will be labeled 0, 1, …, n - 1.\n",
    "verify_integrity : bool, default False\n",
    "    If True, raise ValueError on creating index with duplicates.\n",
    "sort : bool, default False\n",
    "    Sort columns if the columns of `self` and `other` are not aligned."
   ]
  }
 ],
 "metadata": {
  "kernelspec": {
   "display_name": "Python 3 (ipykernel)",
   "language": "python",
   "name": "python3"
  },
  "language_info": {
   "codemirror_mode": {
    "name": "ipython",
    "version": 3
   },
   "file_extension": ".py",
   "mimetype": "text/x-python",
   "name": "python",
   "nbconvert_exporter": "python",
   "pygments_lexer": "ipython3",
   "version": "3.8.8"
  }
 },
 "nbformat": 4,
 "nbformat_minor": 5
}

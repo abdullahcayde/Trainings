{
 "cells": [
  {
   "cell_type": "code",
   "execution_count": 17,
   "id": "4d93066f-cc23-4d60-805c-86123ae28cc7",
   "metadata": {},
   "outputs": [],
   "source": [
    "import requests\n",
    "from bs4 import BeautifulSoup   "
   ]
  },
  {
   "cell_type": "code",
   "execution_count": 28,
   "id": "248392c2-6e24-4a34-a264-e0ad31ca0c42",
   "metadata": {
    "collapsed": true,
    "jupyter": {
     "outputs_hidden": true
    },
    "tags": []
   },
   "outputs": [
    {
     "name": "stdout",
     "output_type": "stream",
     "text": [
      "Python is a high-level, general-purpose and a very popular programming language. Python programming language (latest Python 3) is being used in web development, Machine Learning applications, along with all cutting edge technology in Software Industry. Python Programming Language is very well suited for Beginners, also for experienced programmers with other programming languages like C++ and Java.\n",
      "This specially designed Python tutorial will help you learn Python Programming Language in most efficient way, with the topics from basics to advanced (like Web-scraping, Django, Deep-Learning, etc.) with examples.\n",
      "\n",
      "Below are some facts about Python Programming Language:\n",
      "Recent Articles on Python !Python Programming ExamplesPython Output & Multiple Choice Questions \n",
      "Basics, Input/Output, Data Types, Variables, Operators, Control Flow, Functions, Object Oriented Concepts, Exception Handling, Python Collections, Django Framework, Data Analysis, Numpy, Pandas, Machine Learning with Python, Python GUI, Modules in Python, Working with Database, Misc, Applications and Projects, Multiple Choice Questions\n",
      "\n",
      "\n",
      "\n",
      "\n",
      "\n",
      "\n",
      "\n",
      "\n",
      "\n",
      "\n",
      "\n",
      "\n",
      "\n",
      "\n",
      "\n",
      "\n",
      "\n",
      "\n",
      "\n",
      "\n",
      "\n",
      "\n",
      "\n",
      "\n",
      "\n",
      "\n",
      "\n",
      "\n",
      "\n",
      "\n",
      "\n",
      "\n",
      "\n",
      "\n",
      "\n",
      "\n",
      "\n"
     ]
    }
   ],
   "source": [
    "# Making a GET request\n",
    "r = requests.get('https://www.geeksforgeeks.org/python-programming-language/')\n",
    " \n",
    "# Parsing the HTML\n",
    "soup01 = BeautifulSoup(r.content, 'html.parser')\n",
    " \n",
    "s = soup01.find('div', class_='page_content')\n",
    " \n",
    "lines = s.find_all('p')\n",
    " \n",
    "for line in lines:\n",
    "    print(line.text)"
   ]
  },
  {
   "cell_type": "code",
   "execution_count": 75,
   "id": "4563b58d-0a8c-43a8-b73c-b449d3e2a2c7",
   "metadata": {
    "tags": []
   },
   "outputs": [],
   "source": [
    "# Making a GET request\n",
    "r = requests.get('https://www.tasteatlas.com/jeon')\n",
    " \n",
    "# Parsing the HTML\n",
    "soup = BeautifulSoup(r.content, 'html.parser')"
   ]
  },
  {
   "cell_type": "code",
   "execution_count": 66,
   "id": "597631e6-fbfa-445f-aab8-1c1d25ea59e4",
   "metadata": {
    "collapsed": true,
    "jupyter": {
     "outputs_hidden": true
    },
    "tags": []
   },
   "outputs": [
    {
     "data": {
      "text/plain": [
       "'<!DOCTYPE html>\\n<html>\\n <head>\\n  <link as=\"script\" rel=\"preload\"/>\\n  <link as=\"style\" href=\"/Content/Styles/font-awesome.min.css\" rel=\"preload\"/>\\n  <link as=\"style\" href=\"/Content/Styles/swiper.min.css\" rel=\"preload\"/>\\n  <link as=\"style\" href=\"/Content/layout/style.css?v=e4287324-7353-4f5a-af31-e69434d599ad\" rel=\"preload\"/>\\n  <link as=\"font\" crossorigin=\"anonymous\" href=\"/Content/layout-shared/layout/fonts/muli/Muli-Bold.ttf\" rel=\"preload\" type=\"font/ttf\"/>\\n  <link as=\"font\" crossorigin=\"anonymous\" href=\"/Content/layout-shared/layout/fonts/muli/Muli-Italic.ttf\" rel=\"preload\" type=\"font/ttf\"/>\\n  <link as=\"font\" crossorigin=\"anonymous\" href=\"/Content/layout-shared/layout/fonts/muli/Muli-Light.ttf\" rel=\"preload\" type=\"font/ttf\"/>\\n  <link as=\"font\" crossorigin=\"anonymous\" href=\"/Content/layout-shared/layout/fonts/muli/Muli-Regular.ttf\" rel=\"preload\" type=\"font/ttf\"/>\\n  <link as=\"font\" crossorigin=\"anonymous\" href=\"/Content/layout-shared/layout/fonts/muli/Muli-SemiBold.ttf\" rel=\"preload\" type=\"font/ttf\"/>\\n  <link as=\"font\" crossorigin=\"anonymous\" href=\"/Content/layout-shared/layout/fonts/playfairdisplay/PlayfairDisplay-Regular.ttf\" rel=\"preload\" type=\"font/ttf\"/>\\n  <link as=\"font\" crossorigin=\"anonymous\" href=\"/Content/layout-shared/layout/fonts/playfairdisplay/PlayfairDisplay-Italic.ttf\" rel=\"preload\" type=\"font/ttf\"/>\\n  <link as=\"font\" crossorigin=\"anonymous\" href=\"/Content/layout-shared/layout/fonts/playfairdisplay/PlayfairDisplay-Bold.ttf\" rel=\"preload\" type=\"font/ttf\"/>\\n  <link as=\"image\" imagesrcset=\"/Content/layout-shared/layout/icons/ta-logo-tamni.svg\" rel=\"preload\"/>\\n  <link as=\"image\" imagesrcset=\"/Content/layout-shared/layout/icons/search-black.svg\" rel=\"preload\"/>\\n  <link as=\"image\" imagesrcset=\"/Content/layout-shared/layout/icons/profile.svg\" rel=\"preload\"/>\\n  <base href=\"/\"/>\\n  <meta charset=\"utf-8\"/>\\n  <meta content=\"IE=edge\" http-equiv=\"X-UA-Compatible\"/>\\n  <meta content=\"width=device-width, initial-scale=1.0, maximum-scale=1.0, minimum-scale=1.0, user-scalable=0\" name=\"viewport\"/>\\n  <script type=\"text/javascript\">\\n   window.gdprAppliesGlobally = false; (function () {\\r\\n                function a(e) {\\r\\n                    if (!window.frames[e]) {\\r\\n                        if (document.body && document.body.firstChild) { var t = document.body; var n = document.createElement(\"iframe\"); n.style.display = \"none\"; n.name = e; n.title = e; t.insertBefore(n, t.firstChild) }\\r\\n                        else { setTimeout(function () { a(e) }, 5) }\\r\\n                    }\\r\\n                } function e(n, r, o, c, s) {\\r\\n                    function e(e, t, n, a) { if (typeof n !== \"function\") { return } if (!window[r]) { window[r] = [] } var i = false; if (s) { i = s(e, t, n) } if (!i) { window[r].push({ command: e, parameter: t, callback: n, version: a }) } } e.stub = true; function t(a) {\\r\\n                        if (!window[n] || window[n].stub !== true) { return } if (!a.data) { return }\\r\\n                        var i = typeof a.data === \"string\"; var e; try { e = i ? JSON.parse(a.data) : a.data } catch (t) { return } if (e[o]) { var r = e[o]; window[n](r.command, r.parameter, function (e, t) { var n = {}; n[c] = { returnValue: e, success: t, callId: r.callId }; a.source.postMessage(i ? JSON.stringify(n) : n, \"*\") }, r.version) }\\r\\n                    }\\r\\n                    if (typeof window[n] !== \"function\") { window[n] = e; if (window.addEventListener) { window.addEventListener(\"message\", t, false) } else { window.attachEvent(\"onmessage\", t) } }\\r\\n                } e(\"__tcfapi\", \"__tcfapiBuffer\", \"__tcfapiCall\", \"__tcfapiReturn\"); a(\"__tcfapiLocator\"); (function (e, tgt) {\\r\\n                    var t = document.createElement(\"script\"); t.id = \"spcloader\"; t.type = \"text/javascript\"; t.async = true; t.src = \"https://sdk.privacy-center.org/\" + e + \"/loader.js?target_type=notice&target=\" + tgt; t.charset = \"utf-8\"; var n = document.getElementsByTagName(\"script\")[0]; n.parentNode.insertBefore(t, n)\\r\\n                })(\"02757520-ed8b-4c54-8bfd-4a5f5548de98\", \"xBkfx6iZ\")\\r\\n            })();\\n  </script>\\n  <meta content=\"1827944954195705\" property=\"fb:app_id\"/>\\n  <meta content=\"max-image-preview:large\" name=\"robots\"/>\\n  <meta content=\"website\" property=\"og:type\"/>\\n  <meta content=\"summary_large_image\" name=\"twitter:card\"/>\\n  <title>\\n   Jeon | Traditional Pancake From South Korea | TasteAtlas\\n  </title>\\n  <meta content=\"Jeon | Traditional Pancake From South Korea | TasteAtlas\" property=\"og:title\"/>\\n  <meta content=\"Jeon | Traditional Pancake From South Korea | TasteAtlas\" name=\"twitter:title\">\\n   <link href=\"https://www.tasteatlas.com/jeon\" rel=\"canonical\">\\n    <meta content=\"https://cdn.tasteatlas.com/images/dishes/85969320cd7a4b66b98eaa607f2a7fa7.jpg\" property=\"og:image\"/>\\n    <meta content=\"https://cdn.tasteatlas.com/images/dishes/85969320cd7a4b66b98eaa607f2a7fa7.jpg\" name=\"twitter:image\">\\n     <meta content=\"0\" property=\"og:image:width\"/>\\n     <meta content=\"0\" property=\"og:image:height\"/>\\n     <meta content=\" Jeon, also known as Korean pancakes, represents a number of pancake-like dishes in Korean cuisine that are often served as appetizers, side dishes, or consumed as snacks. Although jeon are typically prepared in savory versions, there are also some sweet varieties of these flavorful pancakes\" property=\"og:description\"/>\\n     <meta content=\" Jeon, also known as Korean pancakes, represents a number of pancake-like dishes in Korean cuisine that are often served as appetizers, side dishes, or consumed as snacks. Although jeon are typically prepared in savory versions, there are also some sweet varieties of these flavorful pancakes\" name=\"twitter:description\">\\n      <meta content=\"Jeon, also known as Korean pancakes, represents a number of pancake-like dishes in Korean cuisine that are often served as appetizers, side dishes, or consumed as snacks. Although jeon are typically prepared in savory versions, there are also some sweet varieties of these flavorful pancakes\" name=\"description\"/>\\n      <script type=\"application/ld+json\">\\n       {\"@context\":\"http://schema.org\",\"@type\":\"NewsArticle\",\"name\":null,\"description\":null,\"additionalType\":null,\"alternateName\":null,\"disambiguatingDescription\":null,\"image\":[\"https://www.tasteatlas.com/images/dishes/85969320cd7a4b66b98eaa607f2a7fa7.jpg\",\"https://www.tasteatlas.com/Images/Dishes/0565d9753459430186e2d8380c879574.jpg\",\"https://www.tasteatlas.com/Images/Dishes/1816225bcb004488b4103d1f0baf385f.jpg\",\"https://www.tasteatlas.com/Images/Dishes/1c3ea657fa2040b88773c8ad6516865a.jpg\"],\"potentialAction\":null,\"sameAs\":null,\"url\":null,\"about\":null,\"accessibilityAPI\":null,\"accessibilityControl\":null,\"accessibilityFeature\":null,\"accessibilityHazard\":null,\"accessibilitySummary\":null,\"accessMode\":null,\"accessModeSufficient\":null,\"accountablePerson\":null,\"aggregateRating\":null,\"alternativeHeadline\":null,\"associatedMedia\":null,\"audience\":null,\"author\":{\"@context\":\"http://schema.org\",\"@type\":\"Organization\",\"name\":\"TasteAtlas\",\"description\":null,\"additionalType\":null,\"alternateName\":null,\"disambiguatingDescription\":null,\"potentialAction\":null,\"sameAs\":null,\"url\":null,\"aggregateRating\":null,\"alumni\":null,\"award\":null,\"contactPoint\":null,\"department\":null,\"duns\":null,\"email\":null,\"employee\":null,\"event\":null,\"faxNumber\":null,\"founder\":null,\"foundingLocation\":null,\"globalLocationNumber\":null,\"hasOfferCatalog\":null,\"hasPOS\":null,\"isicV4\":null,\"legalName\":null,\"leiCode\":null,\"makesOffer\":null,\"naics\":null,\"numberOfEmployees\":null,\"parentOrganization\":null,\"review\":null,\"seeks\":null,\"slogan\":null,\"subOrganization\":null,\"taxID\":null,\"telephone\":null,\"vatID\":null},\"award\":null,\"character\":null,\"comment\":null,\"commentCount\":null,\"contentLocation\":null,\"contentReferenceTime\":null,\"copyrightYear\":null,\"dateModified\":\"2016-06-28\",\"datePublished\":\"2016-06-28\",\"discussionUrl\":null,\"editor\":null,\"educationalAlignment\":null,\"educationalUse\":null,\"encoding\":null,\"exampleOfWork\":null,\"hasPart\":null,\"headline\":\"Jeon | Traditional Pancake From South Korea | TasteAtlas\",\"interactionStatistic\":null,\"interactivityType\":null,\"isAccessibleForFree\":null,\"isFamilyFriendly\":null,\"isPartOf\":null,\"keywords\":null,\"learningResourceType\":null,\"locationCreated\":null,\"mainEntity\":null,\"mentions\":null,\"offers\":null,\"publication\":null,\"publisher\":{\"@context\":\"http://schema.org\",\"@type\":\"Organization\",\"name\":\"TasteAtlas\",\"description\":null,\"additionalType\":null,\"alternateName\":null,\"disambiguatingDescription\":null,\"potentialAction\":null,\"sameAs\":null,\"url\":null,\"aggregateRating\":null,\"alumni\":null,\"award\":null,\"contactPoint\":null,\"department\":null,\"duns\":null,\"email\":null,\"employee\":null,\"event\":null,\"faxNumber\":null,\"founder\":null,\"foundingLocation\":null,\"globalLocationNumber\":null,\"hasOfferCatalog\":null,\"hasPOS\":null,\"isicV4\":null,\"legalName\":null,\"leiCode\":null,\"logo\":{\"@context\":\"http://schema.org\",\"@type\":\"ImageObject\",\"name\":null,\"description\":null,\"additionalType\":null,\"alternateName\":null,\"disambiguatingDescription\":null,\"potentialAction\":null,\"sameAs\":null,\"url\":\"https://www.tasteatlas.com/content/images/publisher_logo.png\",\"about\":null,\"accessibilityAPI\":null,\"accessibilityControl\":null,\"accessibilityFeature\":null,\"accessibilityHazard\":null,\"accessibilitySummary\":null,\"accessMode\":null,\"accessModeSufficient\":null,\"accountablePerson\":null,\"aggregateRating\":null,\"alternativeHeadline\":null,\"associatedMedia\":null,\"audience\":null,\"award\":null,\"character\":null,\"comment\":null,\"commentCount\":null,\"contentLocation\":null,\"contentReferenceTime\":null,\"copyrightYear\":null,\"discussionUrl\":null,\"editor\":null,\"educationalAlignment\":null,\"educationalUse\":null,\"encoding\":null,\"exampleOfWork\":null,\"hasPart\":null,\"headline\":null,\"interactionStatistic\":null,\"interactivityType\":null,\"isAccessibleForFree\":null,\"isFamilyFriendly\":null,\"isPartOf\":null,\"keywords\":null,\"learningResourceType\":null,\"locationCreated\":null,\"mainEntity\":null,\"mentions\":null,\"offers\":null,\"publication\":null,\"publisherImprint\":null,\"recordedAt\":null,\"releasedEvent\":null,\"review\":null,\"sourceOrganization\":null,\"spatial\":null,\"spatialCoverage\":null,\"text\":null,\"thumbnailUrl\":null,\"timeRequired\":null,\"translationOfWork\":null,\"typicalAgeRange\":null,\"workExample\":null,\"workTranslation\":null,\"associatedArticle\":null,\"bitrate\":null,\"contentSize\":null,\"contentUrl\":null,\"duration\":null,\"embedUrl\":null,\"encodesCreativeWork\":null,\"endTime\":null,\"playerType\":null,\"productionCompany\":null,\"regionsAllowed\":null,\"startTime\":null,\"representativeOfPage\":null,\"thumbnail\":null},\"makesOffer\":null,\"naics\":null,\"numberOfEmployees\":null,\"parentOrganization\":null,\"review\":null,\"seeks\":null,\"slogan\":null,\"subOrganization\":null,\"taxID\":null,\"telephone\":null,\"vatID\":null},\"publisherImprint\":null,\"recordedAt\":null,\"releasedEvent\":null,\"review\":null,\"sourceOrganization\":null,\"spatial\":null,\"spatialCoverage\":null,\"text\":null,\"thumbnailUrl\":null,\"timeRequired\":null,\"translationOfWork\":null,\"typicalAgeRange\":null,\"workExample\":null,\"workTranslation\":null,\"articleBody\":null,\"articleSection\":null,\"pagination\":null,\"wordCount\":null,\"dateline\":null,\"printColumn\":null,\"printEdition\":null,\"printPage\":null,\"printSection\":null}\\n      </script>\\n      <script type=\"application/ld+json\">\\n       {\"@context\":\"http://schema.org\",\"@type\":\"QAPage\",\"name\":null,\"description\":null,\"additionalType\":null,\"alternateName\":null,\"disambiguatingDescription\":null,\"potentialAction\":null,\"sameAs\":null,\"url\":null,\"about\":null,\"accessibilityAPI\":null,\"accessibilityControl\":null,\"accessibilityFeature\":null,\"accessibilityHazard\":null,\"accessibilitySummary\":null,\"accessMode\":null,\"accessModeSufficient\":null,\"accountablePerson\":null,\"aggregateRating\":null,\"alternativeHeadline\":null,\"associatedMedia\":null,\"audience\":null,\"award\":null,\"character\":null,\"comment\":null,\"commentCount\":null,\"contentLocation\":null,\"contentReferenceTime\":null,\"copyrightYear\":null,\"discussionUrl\":null,\"editor\":null,\"educationalAlignment\":null,\"educationalUse\":null,\"encoding\":null,\"exampleOfWork\":null,\"hasPart\":null,\"headline\":null,\"interactionStatistic\":null,\"interactivityType\":null,\"isAccessibleForFree\":null,\"isFamilyFriendly\":null,\"isPartOf\":null,\"keywords\":null,\"learningResourceType\":null,\"locationCreated\":null,\"mainEntity\":{\"@context\":\"http://schema.org\",\"@type\":\"Question\",\"name\":\"What is Jeon?\",\"description\":null,\"additionalType\":null,\"alternateName\":null,\"disambiguatingDescription\":null,\"potentialAction\":null,\"sameAs\":null,\"url\":null,\"about\":null,\"accessibilityAPI\":null,\"accessibilityControl\":null,\"accessibilityFeature\":null,\"accessibilityHazard\":null,\"accessibilitySummary\":null,\"accessMode\":null,\"accessModeSufficient\":null,\"accountablePerson\":null,\"aggregateRating\":null,\"alternativeHeadline\":null,\"associatedMedia\":null,\"audience\":null,\"author\":{\"@context\":\"http://schema.org\",\"@type\":\"Person\",\"name\":\"TasteAtlas\",\"description\":null,\"additionalType\":null,\"alternateName\":null,\"disambiguatingDescription\":null,\"potentialAction\":null,\"sameAs\":null,\"url\":null,\"additionalName\":null,\"affiliation\":null,\"award\":null,\"birthPlace\":null,\"children\":null,\"contactPoint\":null,\"deathPlace\":null,\"duns\":null,\"email\":null,\"familyName\":null,\"faxNumber\":null,\"follows\":null,\"givenName\":null,\"globalLocationNumber\":null,\"hasOccupation\":null,\"hasOfferCatalog\":null,\"hasPOS\":null,\"honorificPrefix\":null,\"honorificSuffix\":null,\"isicV4\":null,\"jobTitle\":null,\"knows\":null,\"makesOffer\":null,\"naics\":null,\"nationality\":null,\"parent\":null,\"performerIn\":null,\"relatedTo\":null,\"seeks\":null,\"sibling\":null,\"spouse\":null,\"taxID\":null,\"telephone\":null,\"vatID\":null,\"weight\":null,\"worksFor\":null},\"award\":null,\"character\":null,\"comment\":null,\"commentCount\":null,\"contentLocation\":null,\"contentReferenceTime\":null,\"copyrightYear\":null,\"dateCreated\":\"2016-06-28\",\"discussionUrl\":null,\"editor\":null,\"educationalAlignment\":null,\"educationalUse\":null,\"encoding\":null,\"exampleOfWork\":null,\"hasPart\":null,\"headline\":null,\"interactionStatistic\":null,\"interactivityType\":null,\"isAccessibleForFree\":null,\"isFamilyFriendly\":null,\"isPartOf\":null,\"keywords\":null,\"learningResourceType\":null,\"locationCreated\":null,\"mainEntity\":null,\"mentions\":null,\"offers\":null,\"publication\":null,\"publisherImprint\":null,\"recordedAt\":null,\"releasedEvent\":null,\"review\":null,\"sourceOrganization\":null,\"spatial\":null,\"spatialCoverage\":null,\"text\":\"What is Jeon?\",\"thumbnailUrl\":null,\"timeRequired\":null,\"translationOfWork\":null,\"typicalAgeRange\":null,\"workExample\":null,\"workTranslation\":null,\"acceptedAnswer\":{\"@context\":\"http://schema.org\",\"@type\":\"Answer\",\"name\":null,\"description\":null,\"additionalType\":null,\"alternateName\":null,\"disambiguatingDescription\":null,\"potentialAction\":null,\"sameAs\":null,\"url\":\"https://www.tasteatlas.com/jeon\",\"about\":null,\"accessibilityAPI\":null,\"accessibilityControl\":null,\"accessibilityFeature\":null,\"accessibilityHazard\":null,\"accessibilitySummary\":null,\"accessMode\":null,\"accessModeSufficient\":null,\"accountablePerson\":null,\"aggregateRating\":null,\"alternativeHeadline\":null,\"associatedMedia\":null,\"audience\":null,\"author\":{\"@context\":\"http://schema.org\",\"@type\":\"Person\",\"name\":\"TasteAtlas\",\"description\":null,\"additionalType\":null,\"alternateName\":null,\"disambiguatingDescription\":null,\"potentialAction\":null,\"sameAs\":null,\"url\":null,\"additionalName\":null,\"affiliation\":null,\"award\":null,\"birthPlace\":null,\"children\":null,\"contactPoint\":null,\"deathPlace\":null,\"duns\":null,\"email\":null,\"familyName\":null,\"faxNumber\":null,\"follows\":null,\"givenName\":null,\"globalLocationNumber\":null,\"hasOccupation\":null,\"hasOfferCatalog\":null,\"hasPOS\":null,\"honorificPrefix\":null,\"honorificSuffix\":null,\"isicV4\":null,\"jobTitle\":null,\"knows\":null,\"makesOffer\":null,\"naics\":null,\"nationality\":null,\"parent\":null,\"performerIn\":null,\"relatedTo\":null,\"seeks\":null,\"sibling\":null,\"spouse\":null,\"taxID\":null,\"telephone\":null,\"vatID\":null,\"weight\":null,\"worksFor\":null},\"award\":null,\"character\":null,\"comment\":null,\"commentCount\":null,\"contentLocation\":null,\"contentReferenceTime\":null,\"copyrightYear\":null,\"dateCreated\":\"2016-06-28\",\"discussionUrl\":null,\"editor\":null,\"educationalAlignment\":null,\"educationalUse\":null,\"encoding\":null,\"exampleOfWork\":null,\"hasPart\":null,\"headline\":null,\"interactionStatistic\":null,\"interactivityType\":null,\"isAccessibleForFree\":null,\"isFamilyFriendly\":null,\"isPartOf\":null,\"keywords\":null,\"learningResourceType\":null,\"locationCreated\":null,\"mainEntity\":null,\"mentions\":null,\"offers\":null,\"publication\":null,\"publisherImprint\":null,\"recordedAt\":null,\"releasedEvent\":null,\"review\":null,\"sourceOrganization\":null,\"spatial\":null,\"spatialCoverage\":null,\"text\":\"<p>Jeon, also known as <em>Korean pancakes</em>, represents a number of pancake-like dishes in Korean cuisine that are often served as appetizers, side dishes, or consumed as snacks. Although jeon are typically prepared in savory versions, there are also some sweet varieties of these flavorful pancakes. At their simplest, it is food that is first coated in flour and eggs, then pan-fried in oil. Jeon incorporates ingredients such as thinly sliced meat, poultry, seafood, and various vegetables. The pancakes are traditionally prepared every year during the Korean Lunar New Year and Korean Harvest Festival, although they are eaten daily throughout the year. Some of the more popular varieties of jeon are made with shredded beef (<em>yukjeon</em>), oysters (<em>guljeon</em>), kimchi (<em>kimchijeon</em>), and green onions (<em>pajeon</em>). It is recommended to serve jeon with a spicy soy-based dipping sauce or a refreshing cucumber salad.</p>\",\"thumbnailUrl\":null,\"timeRequired\":null,\"translationOfWork\":null,\"typicalAgeRange\":null,\"workExample\":null,\"workTranslation\":null,\"downvoteCount\":null,\"parentItem\":null,\"upvoteCount\":53},\"answerCount\":1,\"downvoteCount\":null,\"upvoteCount\":null},\"mentions\":null,\"offers\":null,\"publication\":null,\"publisherImprint\":null,\"recordedAt\":null,\"releasedEvent\":null,\"review\":null,\"sourceOrganization\":null,\"spatial\":null,\"spatialCoverage\":null,\"text\":null,\"thumbnailUrl\":null,\"timeRequired\":null,\"translationOfWork\":null,\"typicalAgeRange\":null,\"workExample\":null,\"workTranslation\":null,\"mainContentOfPage\":null,\"primaryImageOfPage\":null,\"relatedLink\":null,\"significantLink\":null,\"specialty\":null}\\n      </script>\\n      <link as=\"image\" imagesrcset=\"https://cdn.tasteatlas.com/images/dishes/85969320cd7a4b66b98eaa607f2a7fa7.jpg?mw=1300\" rel=\"preload\"/>\\n      <link href=\"/Content/Styles/font-awesome.min.css\" rel=\"stylesheet\">\\n       <link href=\"/Content/Styles/swiper.min.css\" rel=\"stylesheet\">\\n        <link href=\"/Content/layout/style.css?v=e4287324-7353-4f5a-af31-e69434d599ad\" rel=\"stylesheet\">\\n         <script src=\"/bundles/ngappDesktop?v=v87bzIKc3_gr6RxXUcMTgEZQZ6pdu6X0G3Xf-2WR0GQ1\">\\n         </script>\\n        </link>\\n       </link>\\n      </link>\\n     </meta>\\n    </meta>\\n   </link>\\n  </meta>\\n </head>\\n <body ng-app=\"tasteatlas\">\\n  <!--[if lt IE 8]>\\r\\n        <p class=\"browsehappy\">\\r\\n            You are using an <strong>outdated</strong> browser.\\r\\n            Please <a href=\"http://www.browsehappy.com/\">upgrade your browser</a> to improve your experience.\\r\\n        </p>\\r\\n    <![endif]-->\\n  <ta2-entity-comment>\\n  </ta2-entity-comment>\\n  <ta-home-loader>\\n  </ta-home-loader>\\n  <div class=\"desktop-viewport\">\\n   <div class=\"popup-overlay\">\\n   </div>\\n   <ta-header-desktop>\\n   </ta-header-desktop>\\n   <div id=\"bodyDiv\">\\n    <script>\\n     window.ta = window.ta || {};\\r\\n        window.ta.details = {\"EntityId\":1293,\"EntityUrlLink\":\"jeon\",\"EntityType\":1,\"PreviewImage\":{\"Image\":\"/images/dishes/85969320cd7a4b66b98eaa607f2a7fa7.jpg\",\"ImageSource\":\"shutterstock\",\"ImageAuthorUrl\":null},\"Images\":[{\"Image\":\"/images/dishes/85969320cd7a4b66b98eaa607f2a7fa7.jpg\",\"ImageSource\":\"shutterstock\",\"ImageAuthorUrl\":null},{\"Image\":\"/Images/Dishes/0565d9753459430186e2d8380c879574.jpg\",\"ImageSource\":\"shutterstock\",\"ImageAuthorUrl\":null},{\"Image\":\"/Images/Dishes/1816225bcb004488b4103d1f0baf385f.jpg\",\"ImageSource\":\"shutterstock\",\"ImageAuthorUrl\":null},{\"Image\":\"/Images/Dishes/1c3ea657fa2040b88773c8ad6516865a.jpg\",\"ImageSource\":\"shutterstock\",\"ImageAuthorUrl\":null}],\"MobileImages\":[],\"Region\":{\"Current\":{\"RegionId\":105,\"Prefix\":null,\"Name\":\"South Korea\",\"MaterializedPath\":\"/1/105/\",\"Adjective\":\"Korean\",\"RegionLevel\":7,\"EmblemImage\":\"/images/emblems/f0fea72913c343568f3421172794774c.png\",\"UrlLink\":\"korea\",\"CoverImage\":{\"Image\":\"/Images/Regions/d3868dbbcc1146c793fd26f701419768.jpg\",\"Source\":\"shutterstock\",\"SourceUrl\":null},\"IsContinent\":false},\"Parent\":{\"RegionId\":1,\"Prefix\":null,\"Name\":\"Asia\",\"MaterializedPath\":\"/1/\",\"Adjective\":\"Asian\",\"RegionLevel\":9,\"EmblemImage\":null,\"UrlLink\":\"asia\",\"CoverImage\":{\"Image\":null,\"Source\":null,\"SourceUrl\":null},\"IsContinent\":true}},\"AdditionalRegions\":[],\"Group\":{\"Id\":78,\"UrlLink\":\"pancakes\",\"Name\":\"Pancake\",\"PluralName\":\"Pancakes\",\"MaterializedPath\":\"/78/\"},\"AdditionalGroups\":[{\"Id\":3,\"UrlLink\":\"Appetizers\",\"Name\":\"Appetizer\",\"PluralName\":\"Appetizers\",\"MaterializedPath\":\"/3/\"},{\"Id\":14,\"UrlLink\":\"Sides\",\"Name\":\"Side Dish\",\"PluralName\":\"Side Dishes\",\"MaterializedPath\":\"/14/\"},{\"Id\":19,\"UrlLink\":\"Snacks\",\"Name\":\"Snack\",\"PluralName\":\"Snacks\",\"MaterializedPath\":\"/19/\"},{\"Id\":35,\"UrlLink\":\"Street-food\",\"Name\":\"Street Food\",\"PluralName\":\"Street Foods\",\"MaterializedPath\":\"/35/\"}],\"Name\":\"Jeon\",\"EnglishName\":null,\"OtherNames\":\"Korean Pizza, Jeonyueo, Jeonyuhwa, Chŏn, 전, Buchimgae, 부침개, Jijimgae, 지짐, Jijim, 지짐개, Korean Pancake\",\"Description\":\"<p>Jeon, also known as <em>Korean pancakes</em>, represents a number of pancake-like dishes in Korean cuisine that are often served as appetizers, side dishes, or consumed as snacks. Although jeon are typically prepared in savory versions, there are also some sweet varieties of these flavorful pancakes. At their simplest, it is food that is first coated in flour and eggs, then pan-fried in oil. Jeon incorporates ingredients such as thinly sliced meat, poultry, seafood, and various vegetables. The pancakes are traditionally prepared every year during the Korean Lunar New Year and Korean Harvest Festival, although they are eaten daily throughout the year. Some of the more popular varieties of jeon are made with shredded beef (<em>yukjeon</em>), oysters (<em>guljeon</em>), kimchi (<em>kimchijeon</em>), and green onions (<em>pajeon</em>). It is recommended to serve jeon with a spicy soy-based dipping sauce or a refreshing cucumber salad.</p>\",\"FoodIngredients\":[{\"FoodIngredientId\":35027,\"Image\":{\"Image\":\"/images/ingredientgroups/cc2384e25f3c4d52be5abe779ef2ad9b.png\",\"ImageSource\":null,\"ImageAuthorUrl\":null},\"Name\":\"Chicken\",\"UrlLink\":\"Chicken\",\"Order\":0,\"EntityId\":28,\"EntityType\":9,\"MaterializedPath\":\"/1/3/28/\",\"EntityGroupMaterializedPath\":null,\"HostEntityId\":null,\"HostEntityType\":0},{\"FoodIngredientId\":35027,\"Image\":{\"Image\":\"/images/ingredientgroups/d102532d0d3842a49e8c81d499ffc6b1.png\",\"ImageSource\":null,\"ImageAuthorUrl\":null},\"Name\":\"Seafood\",\"UrlLink\":\"Seafoods\",\"Order\":0,\"EntityId\":6,\"EntityType\":9,\"MaterializedPath\":\"/6/\",\"EntityGroupMaterializedPath\":null,\"HostEntityId\":null,\"HostEntityType\":0},{\"FoodIngredientId\":35027,\"Image\":{\"Image\":\"/images/ingredientgroups/23c55ec12d924df3af23cca250689036.png\",\"ImageSource\":null,\"ImageAuthorUrl\":null},\"Name\":\"Vegetables\",\"UrlLink\":\"Vegetables\",\"Order\":0,\"EntityId\":12,\"EntityType\":9,\"MaterializedPath\":\"/12/\",\"EntityGroupMaterializedPath\":null,\"HostEntityId\":null,\"HostEntityType\":0},{\"FoodIngredientId\":35029,\"Image\":{\"Image\":\"/images/ingredientgroups/6980492bc1fb48d292831ababd8816c3.png\",\"ImageSource\":null,\"ImageAuthorUrl\":null},\"Name\":\"Flour\",\"UrlLink\":\"Flour\",\"Order\":1,\"EntityId\":193,\"EntityType\":9,\"MaterializedPath\":\"/193/\",\"EntityGroupMaterializedPath\":null,\"HostEntityId\":null,\"HostEntityType\":0},{\"FoodIngredientId\":35028,\"Image\":{\"Image\":\"/images/ingredientgroups/68062afe91e64f1ba087f7caf87a7fdb.png\",\"ImageSource\":null,\"ImageAuthorUrl\":null},\"Name\":\"Eggs\",\"UrlLink\":\"Eggs\",\"Order\":2,\"EntityId\":41,\"EntityType\":9,\"MaterializedPath\":\"/41/\",\"EntityGroupMaterializedPath\":null,\"HostEntityId\":null,\"HostEntityType\":0}],\"Score\":{\"Score\":8.86,\"DividedScore\":4.4,\"ScoreCount\":53,\"ValidScoreCount\":45},\"Certificates\":[],\"AdditionalRegionText\":\"\",\"HasRecipes\":false,\"HasRestaurants\":false,\"InfographicImage\":{\"Image\":null,\"Source\":null,\"SourceUrl\":null},\"IsGroup\":true};\\n    </script>\\n    <ta-dish-desktop-main active-page=\\'\"\"\\' additional-region-id=\"null\" id=\"1293\" name=\"null\" recipe-variation-id=\"null\" where-to-eat-region-id=\"null\">\\n    </ta-dish-desktop-main>\\n   </div>\\n   <div id=\"entity-restaurant-modal\">\\n   </div>\\n   <ta-back-to-top>\\n   </ta-back-to-top>\\n   <div class=\"page-load\" id=\"ta-main-page-loader\">\\n    <i>\\n    </i>\\n   </div>\\n  </div>\\n  <div id=\"fb-root\">\\n  </div>\\n  <script>\\n   (function (window) {\\r\\n        window.__env = window.__env || {};\\r\\n        window.__env.enableDebug = false;\\r\\n    }(this));\\n  </script>\\n  <link href=\"/Content/Styles/ng-sortable.min.css\" rel=\"stylesheet\">\\n   <link href=\"/Content/Styles/ol.css\" rel=\"stylesheet\">\\n    <script>\\n     var didScroll;\\r\\n    // on scroll, let the interval function know the user has scrolled\\r\\n    $(window).scroll(function (event) {\\r\\n        didScroll = true;\\r\\n    });\\r\\n    $(window).load(function () {\\r\\n        hasScrolled();\\r\\n    })\\r\\n    // run hasScrolled() and reset didScroll status\\r\\n    setInterval(function () {\\r\\n        if (didScroll) {\\r\\n            hasScrolled();\\r\\n            didScroll = false;\\r\\n        }\\r\\n    }, 250);\\r\\n\\r\\n    var lastScrollTop = 0;\\r\\n    var delta = 0;\\r\\n\\r\\n    function hasScrolled() {\\r\\n        var headerElem = $(\\'#header-id\\');\\r\\n        var regionFloatingFilter = $(\\'.search-results__floating-filter\\');//floating filter on regions\\r\\n        var hamburgerOpen = document.querySelector(\\'.offcanvas--active\\');\\r\\n        var navbarHeight = headerElem.outerHeight();\\r\\n        var st = $(this).scrollTop();\\r\\n\\r\\n        if (Math.abs(lastScrollTop - st) <= delta)\\r\\n            return;\\r\\n        \\r\\n        // If current position > last position AND scrolled past navbar... // Scroll Down\\r\\n        if (st > lastScrollTop && st > navbarHeight && hamburgerOpen == null ) {\\r\\n            headerElem.css(\\'top\\', \\'-125px\\'); // If we height login popup will not be displayed\\r\\n            regionFloatingFilter.css(\\'top\\', \\'\\');\\r\\n        }\\r\\n        else { //scrolling up\\r\\n\\r\\n            if (st + $(window).height() < $(document).height()) {\\r\\n                headerElem.css(\\'top\\', 0);\\r\\n                regionFloatingFilter.css(\\'top\\', navbarHeight + \\'px\\');\\r\\n            }\\r\\n        }\\r\\n\\r\\n        lastScrollTop = st;\\r\\n    }\\n    </script>\\n    <script src=\"/Scripts/autotrack.js\">\\n    </script>\\n    <script>\\n     (function (i, s, o, g, r, a, m) {\\r\\n        i[\\'GoogleAnalyticsObject\\'] = r; i[r] = i[r] || function () {\\r\\n            (i[r].q = i[r].q || []).push(arguments)\\r\\n        }, i[r].l = 1 * new Date(); a = s.createElement(o),\\r\\n            m = s.getElementsByTagName(o)[0]; a.async = 1; a.src = g; m.parentNode.insertBefore(a, m)\\r\\n    })(window, document, \\'script\\', \\'https://www.google-analytics.com/analytics.js\\', \\'ga\\');\\r\\n\\r\\n    ga(\\'create\\', \\'UA-97940741-1\\', \\'auto\\');\\n    </script>\\n    <script>\\n     ga(\\'set\\', \\'dimension1\\', \\'Dish\\');\\n    </script>\\n    <script>\\n     ga(\\'send\\', \\'pageview\\');\\r\\n    ga(\\'require\\', \\'urlChangeTracker\\');\\n    </script>\\n    <script crossorigin=\"anonymous\" data-cf-beacon=\\'{\"rayId\":\"78c0b8597d2f7276\",\"token\":\"3d9eee7291f8462ebb0bba306d13758e\",\"version\":\"2022.11.3\",\"si\":100}\\' defer=\"\" integrity=\"sha512-0ahDYl866UMhKuYcW078ScMalXqtFJggm7TmlUtp0UlD4eQk0Ixfnm5ykXKvGJNFjLMoortdseTfsRT8oCfgGA==\" src=\"https://static.cloudflareinsights.com/beacon.min.js/vaafb692b2aea4879b33c060e79fe94621666317369993\">\\n    </script>\\n   </link>\\n  </link>\\n </body>\\n</html>\\n'"
      ]
     },
     "execution_count": 66,
     "metadata": {},
     "output_type": "execute_result"
    }
   ],
   "source": [
    "soup.prettify()"
   ]
  },
  {
   "cell_type": "code",
   "execution_count": 76,
   "id": "4fa45b76-f82a-4a02-8384-10eee09dc715",
   "metadata": {},
   "outputs": [
    {
     "name": "stdout",
     "output_type": "stream",
     "text": [
      "{'popup-overlay', 'page-load', 'desktop-viewport'}\n"
     ]
    }
   ],
   "source": [
    "# class list set\n",
    "class_list = set()\n",
    "\n",
    "tags = {tag.name for tag in soup.find_all()}\n",
    "  \n",
    "# iterate all tags\n",
    "for tag in tags:\n",
    "  \n",
    "    # find all element of tag\n",
    "    for i in soup.find_all( tag ):\n",
    "  \n",
    "        # if tag has attribute of class\n",
    "        if i.has_attr( \"class\" ):\n",
    "  \n",
    "            if len( i['class'] ) != 0:\n",
    "                class_list.add(\" \".join( i['class']))\n",
    "  \n",
    "print( class_list )"
   ]
  },
  {
   "cell_type": "code",
   "execution_count": 77,
   "id": "1fbce404-1c01-4866-800d-f09e5867808d",
   "metadata": {},
   "outputs": [
    {
     "data": {
      "text/plain": [
       "'head'"
      ]
     },
     "execution_count": 77,
     "metadata": {},
     "output_type": "execute_result"
    }
   ],
   "source": [
    "soup.title.parent.name"
   ]
  },
  {
   "cell_type": "code",
   "execution_count": 78,
   "id": "ab502df6-77f1-47d4-9c6f-2b8ea0a77f5b",
   "metadata": {},
   "outputs": [
    {
     "data": {
      "text/plain": [
       "'Jeon | Traditional Pancake From South Korea | TasteAtlas'"
      ]
     },
     "execution_count": 78,
     "metadata": {},
     "output_type": "execute_result"
    }
   ],
   "source": [
    "soup.title.string"
   ]
  },
  {
   "cell_type": "code",
   "execution_count": 79,
   "id": "5345a737-fa92-4f40-8fd2-584bab9c1a60",
   "metadata": {},
   "outputs": [],
   "source": [
    "soup.b"
   ]
  },
  {
   "cell_type": "code",
   "execution_count": 80,
   "id": "eb6123fd-4206-4f0c-ad3d-c31f0e63be21",
   "metadata": {},
   "outputs": [],
   "source": [
    "for tag in soup.find_all('p'):\n",
    "    print(repr((tag.sourceline, tag.sourcepos, tag.string)))"
   ]
  },
  {
   "cell_type": "code",
   "execution_count": 86,
   "id": "cd387519-e862-4d5e-9910-2840ecd19a6b",
   "metadata": {},
   "outputs": [
    {
     "name": "stdout",
     "output_type": "stream",
     "text": [
      "<div id=\"bodyDiv\">\n",
      "<script>\n",
      "        window.ta = window.ta || {};\n",
      "        window.ta.details = {\"EntityId\":1293,\"EntityUrlLink\":\"jeon\",\"EntityType\":1,\"PreviewImage\":{\"Image\":\"/images/dishes/85969320cd7a4b66b98eaa607f2a7fa7.jpg\",\"ImageSource\":\"shutterstock\",\"ImageAuthorUrl\":null},\"Images\":[{\"Image\":\"/images/dishes/85969320cd7a4b66b98eaa607f2a7fa7.jpg\",\"ImageSource\":\"shutterstock\",\"ImageAuthorUrl\":null},{\"Image\":\"/Images/Dishes/0565d9753459430186e2d8380c879574.jpg\",\"ImageSource\":\"shutterstock\",\"ImageAuthorUrl\":null},{\"Image\":\"/Images/Dishes/1816225bcb004488b4103d1f0baf385f.jpg\",\"ImageSource\":\"shutterstock\",\"ImageAuthorUrl\":null},{\"Image\":\"/Images/Dishes/1c3ea657fa2040b88773c8ad6516865a.jpg\",\"ImageSource\":\"shutterstock\",\"ImageAuthorUrl\":null}],\"MobileImages\":[],\"Region\":{\"Current\":{\"RegionId\":105,\"Prefix\":null,\"Name\":\"South Korea\",\"MaterializedPath\":\"/1/105/\",\"Adjective\":\"Korean\",\"RegionLevel\":7,\"EmblemImage\":\"/images/emblems/f0fea72913c343568f3421172794774c.png\",\"UrlLink\":\"korea\",\"CoverImage\":{\"Image\":\"/Images/Regions/d3868dbbcc1146c793fd26f701419768.jpg\",\"Source\":\"shutterstock\",\"SourceUrl\":null},\"IsContinent\":false},\"Parent\":{\"RegionId\":1,\"Prefix\":null,\"Name\":\"Asia\",\"MaterializedPath\":\"/1/\",\"Adjective\":\"Asian\",\"RegionLevel\":9,\"EmblemImage\":null,\"UrlLink\":\"asia\",\"CoverImage\":{\"Image\":null,\"Source\":null,\"SourceUrl\":null},\"IsContinent\":true}},\"AdditionalRegions\":[],\"Group\":{\"Id\":78,\"UrlLink\":\"pancakes\",\"Name\":\"Pancake\",\"PluralName\":\"Pancakes\",\"MaterializedPath\":\"/78/\"},\"AdditionalGroups\":[{\"Id\":3,\"UrlLink\":\"Appetizers\",\"Name\":\"Appetizer\",\"PluralName\":\"Appetizers\",\"MaterializedPath\":\"/3/\"},{\"Id\":14,\"UrlLink\":\"Sides\",\"Name\":\"Side Dish\",\"PluralName\":\"Side Dishes\",\"MaterializedPath\":\"/14/\"},{\"Id\":19,\"UrlLink\":\"Snacks\",\"Name\":\"Snack\",\"PluralName\":\"Snacks\",\"MaterializedPath\":\"/19/\"},{\"Id\":35,\"UrlLink\":\"Street-food\",\"Name\":\"Street Food\",\"PluralName\":\"Street Foods\",\"MaterializedPath\":\"/35/\"}],\"Name\":\"Jeon\",\"EnglishName\":null,\"OtherNames\":\"Korean Pizza, Jeonyueo, Jeonyuhwa, Chŏn, 전, Buchimgae, 부침개, Jijimgae, 지짐, Jijim, 지짐개, Korean Pancake\",\"Description\":\"<p>Jeon, also known as <em>Korean pancakes</em>, represents a number of pancake-like dishes in Korean cuisine that are often served as appetizers, side dishes, or consumed as snacks. Although jeon are typically prepared in savory versions, there are also some sweet varieties of these flavorful pancakes. At their simplest, it is food that is first coated in flour and eggs, then pan-fried in oil. Jeon incorporates ingredients such as thinly sliced meat, poultry, seafood, and various vegetables. The pancakes are traditionally prepared every year during the Korean Lunar New Year and Korean Harvest Festival, although they are eaten daily throughout the year. Some of the more popular varieties of jeon are made with shredded beef (<em>yukjeon</em>), oysters (<em>guljeon</em>), kimchi (<em>kimchijeon</em>), and green onions (<em>pajeon</em>). It is recommended to serve jeon with a spicy soy-based dipping sauce or a refreshing cucumber salad.</p>\",\"FoodIngredients\":[{\"FoodIngredientId\":35027,\"Image\":{\"Image\":\"/images/ingredientgroups/cc2384e25f3c4d52be5abe779ef2ad9b.png\",\"ImageSource\":null,\"ImageAuthorUrl\":null},\"Name\":\"Chicken\",\"UrlLink\":\"Chicken\",\"Order\":0,\"EntityId\":28,\"EntityType\":9,\"MaterializedPath\":\"/1/3/28/\",\"EntityGroupMaterializedPath\":null,\"HostEntityId\":null,\"HostEntityType\":0},{\"FoodIngredientId\":35027,\"Image\":{\"Image\":\"/images/ingredientgroups/d102532d0d3842a49e8c81d499ffc6b1.png\",\"ImageSource\":null,\"ImageAuthorUrl\":null},\"Name\":\"Seafood\",\"UrlLink\":\"Seafoods\",\"Order\":0,\"EntityId\":6,\"EntityType\":9,\"MaterializedPath\":\"/6/\",\"EntityGroupMaterializedPath\":null,\"HostEntityId\":null,\"HostEntityType\":0},{\"FoodIngredientId\":35027,\"Image\":{\"Image\":\"/images/ingredientgroups/23c55ec12d924df3af23cca250689036.png\",\"ImageSource\":null,\"ImageAuthorUrl\":null},\"Name\":\"Vegetables\",\"UrlLink\":\"Vegetables\",\"Order\":0,\"EntityId\":12,\"EntityType\":9,\"MaterializedPath\":\"/12/\",\"EntityGroupMaterializedPath\":null,\"HostEntityId\":null,\"HostEntityType\":0},{\"FoodIngredientId\":35029,\"Image\":{\"Image\":\"/images/ingredientgroups/6980492bc1fb48d292831ababd8816c3.png\",\"ImageSource\":null,\"ImageAuthorUrl\":null},\"Name\":\"Flour\",\"UrlLink\":\"Flour\",\"Order\":1,\"EntityId\":193,\"EntityType\":9,\"MaterializedPath\":\"/193/\",\"EntityGroupMaterializedPath\":null,\"HostEntityId\":null,\"HostEntityType\":0},{\"FoodIngredientId\":35028,\"Image\":{\"Image\":\"/images/ingredientgroups/68062afe91e64f1ba087f7caf87a7fdb.png\",\"ImageSource\":null,\"ImageAuthorUrl\":null},\"Name\":\"Eggs\",\"UrlLink\":\"Eggs\",\"Order\":2,\"EntityId\":41,\"EntityType\":9,\"MaterializedPath\":\"/41/\",\"EntityGroupMaterializedPath\":null,\"HostEntityId\":null,\"HostEntityType\":0}],\"Score\":{\"Score\":8.86,\"DividedScore\":4.4,\"ScoreCount\":53,\"ValidScoreCount\":45},\"Certificates\":[],\"AdditionalRegionText\":\"\",\"HasRecipes\":false,\"HasRestaurants\":false,\"InfographicImage\":{\"Image\":null,\"Source\":null,\"SourceUrl\":null},\"IsGroup\":true};\n",
      "</script>\n",
      "<ta-dish-desktop-main active-page='\"\"' additional-region-id=\"null\" id=\"1293\" name=\"null\" recipe-variation-id=\"null\" where-to-eat-region-id=\"null\">\n",
      "</ta-dish-desktop-main>\n",
      "</div>\n",
      "******************************\n",
      "[<script>\n",
      "        window.ta = window.ta || {};\n",
      "        window.ta.details = {\"EntityId\":1293,\"EntityUrlLink\":\"jeon\",\"EntityType\":1,\"PreviewImage\":{\"Image\":\"/images/dishes/85969320cd7a4b66b98eaa607f2a7fa7.jpg\",\"ImageSource\":\"shutterstock\",\"ImageAuthorUrl\":null},\"Images\":[{\"Image\":\"/images/dishes/85969320cd7a4b66b98eaa607f2a7fa7.jpg\",\"ImageSource\":\"shutterstock\",\"ImageAuthorUrl\":null},{\"Image\":\"/Images/Dishes/0565d9753459430186e2d8380c879574.jpg\",\"ImageSource\":\"shutterstock\",\"ImageAuthorUrl\":null},{\"Image\":\"/Images/Dishes/1816225bcb004488b4103d1f0baf385f.jpg\",\"ImageSource\":\"shutterstock\",\"ImageAuthorUrl\":null},{\"Image\":\"/Images/Dishes/1c3ea657fa2040b88773c8ad6516865a.jpg\",\"ImageSource\":\"shutterstock\",\"ImageAuthorUrl\":null}],\"MobileImages\":[],\"Region\":{\"Current\":{\"RegionId\":105,\"Prefix\":null,\"Name\":\"South Korea\",\"MaterializedPath\":\"/1/105/\",\"Adjective\":\"Korean\",\"RegionLevel\":7,\"EmblemImage\":\"/images/emblems/f0fea72913c343568f3421172794774c.png\",\"UrlLink\":\"korea\",\"CoverImage\":{\"Image\":\"/Images/Regions/d3868dbbcc1146c793fd26f701419768.jpg\",\"Source\":\"shutterstock\",\"SourceUrl\":null},\"IsContinent\":false},\"Parent\":{\"RegionId\":1,\"Prefix\":null,\"Name\":\"Asia\",\"MaterializedPath\":\"/1/\",\"Adjective\":\"Asian\",\"RegionLevel\":9,\"EmblemImage\":null,\"UrlLink\":\"asia\",\"CoverImage\":{\"Image\":null,\"Source\":null,\"SourceUrl\":null},\"IsContinent\":true}},\"AdditionalRegions\":[],\"Group\":{\"Id\":78,\"UrlLink\":\"pancakes\",\"Name\":\"Pancake\",\"PluralName\":\"Pancakes\",\"MaterializedPath\":\"/78/\"},\"AdditionalGroups\":[{\"Id\":3,\"UrlLink\":\"Appetizers\",\"Name\":\"Appetizer\",\"PluralName\":\"Appetizers\",\"MaterializedPath\":\"/3/\"},{\"Id\":14,\"UrlLink\":\"Sides\",\"Name\":\"Side Dish\",\"PluralName\":\"Side Dishes\",\"MaterializedPath\":\"/14/\"},{\"Id\":19,\"UrlLink\":\"Snacks\",\"Name\":\"Snack\",\"PluralName\":\"Snacks\",\"MaterializedPath\":\"/19/\"},{\"Id\":35,\"UrlLink\":\"Street-food\",\"Name\":\"Street Food\",\"PluralName\":\"Street Foods\",\"MaterializedPath\":\"/35/\"}],\"Name\":\"Jeon\",\"EnglishName\":null,\"OtherNames\":\"Korean Pizza, Jeonyueo, Jeonyuhwa, Chŏn, 전, Buchimgae, 부침개, Jijimgae, 지짐, Jijim, 지짐개, Korean Pancake\",\"Description\":\"<p>Jeon, also known as <em>Korean pancakes</em>, represents a number of pancake-like dishes in Korean cuisine that are often served as appetizers, side dishes, or consumed as snacks. Although jeon are typically prepared in savory versions, there are also some sweet varieties of these flavorful pancakes. At their simplest, it is food that is first coated in flour and eggs, then pan-fried in oil. Jeon incorporates ingredients such as thinly sliced meat, poultry, seafood, and various vegetables. The pancakes are traditionally prepared every year during the Korean Lunar New Year and Korean Harvest Festival, although they are eaten daily throughout the year. Some of the more popular varieties of jeon are made with shredded beef (<em>yukjeon</em>), oysters (<em>guljeon</em>), kimchi (<em>kimchijeon</em>), and green onions (<em>pajeon</em>). It is recommended to serve jeon with a spicy soy-based dipping sauce or a refreshing cucumber salad.</p>\",\"FoodIngredients\":[{\"FoodIngredientId\":35027,\"Image\":{\"Image\":\"/images/ingredientgroups/cc2384e25f3c4d52be5abe779ef2ad9b.png\",\"ImageSource\":null,\"ImageAuthorUrl\":null},\"Name\":\"Chicken\",\"UrlLink\":\"Chicken\",\"Order\":0,\"EntityId\":28,\"EntityType\":9,\"MaterializedPath\":\"/1/3/28/\",\"EntityGroupMaterializedPath\":null,\"HostEntityId\":null,\"HostEntityType\":0},{\"FoodIngredientId\":35027,\"Image\":{\"Image\":\"/images/ingredientgroups/d102532d0d3842a49e8c81d499ffc6b1.png\",\"ImageSource\":null,\"ImageAuthorUrl\":null},\"Name\":\"Seafood\",\"UrlLink\":\"Seafoods\",\"Order\":0,\"EntityId\":6,\"EntityType\":9,\"MaterializedPath\":\"/6/\",\"EntityGroupMaterializedPath\":null,\"HostEntityId\":null,\"HostEntityType\":0},{\"FoodIngredientId\":35027,\"Image\":{\"Image\":\"/images/ingredientgroups/23c55ec12d924df3af23cca250689036.png\",\"ImageSource\":null,\"ImageAuthorUrl\":null},\"Name\":\"Vegetables\",\"UrlLink\":\"Vegetables\",\"Order\":0,\"EntityId\":12,\"EntityType\":9,\"MaterializedPath\":\"/12/\",\"EntityGroupMaterializedPath\":null,\"HostEntityId\":null,\"HostEntityType\":0},{\"FoodIngredientId\":35029,\"Image\":{\"Image\":\"/images/ingredientgroups/6980492bc1fb48d292831ababd8816c3.png\",\"ImageSource\":null,\"ImageAuthorUrl\":null},\"Name\":\"Flour\",\"UrlLink\":\"Flour\",\"Order\":1,\"EntityId\":193,\"EntityType\":9,\"MaterializedPath\":\"/193/\",\"EntityGroupMaterializedPath\":null,\"HostEntityId\":null,\"HostEntityType\":0},{\"FoodIngredientId\":35028,\"Image\":{\"Image\":\"/images/ingredientgroups/68062afe91e64f1ba087f7caf87a7fdb.png\",\"ImageSource\":null,\"ImageAuthorUrl\":null},\"Name\":\"Eggs\",\"UrlLink\":\"Eggs\",\"Order\":2,\"EntityId\":41,\"EntityType\":9,\"MaterializedPath\":\"/41/\",\"EntityGroupMaterializedPath\":null,\"HostEntityId\":null,\"HostEntityType\":0}],\"Score\":{\"Score\":8.86,\"DividedScore\":4.4,\"ScoreCount\":53,\"ValidScoreCount\":45},\"Certificates\":[],\"AdditionalRegionText\":\"\",\"HasRecipes\":false,\"HasRestaurants\":false,\"InfographicImage\":{\"Image\":null,\"Source\":null,\"SourceUrl\":null},\"IsGroup\":true};\n",
      "</script>]\n",
      "******************************\n",
      "<class 'bs4.element.Tag'>\n",
      "1 \n",
      "        window.ta = window.ta || {};\n",
      "        window.ta.details = {\"EntityId\":1293,\"EntityUrlLink\":\"jeon\",\"EntityType\":1,\"PreviewImage\":{\"Image\":\"/images/dishes/85969320cd7a4b66b98eaa607f2a7fa7.jpg\",\"ImageSource\":\"shutterstock\",\"ImageAuthorUrl\":null},\"Images\":[{\"Image\":\"/images/dishes/85969320cd7a4b66b98eaa607f2a7fa7.jpg\",\"ImageSource\":\"shutterstock\",\"ImageAuthorUrl\":null},{\"Image\":\"/Images/Dishes/0565d9753459430186e2d8380c879574.jpg\",\"ImageSource\":\"shutterstock\",\"ImageAuthorUrl\":null},{\"Image\":\"/Images/Dishes/1816225bcb004488b4103d1f0baf385f.jpg\",\"ImageSource\":\"shutterstock\",\"ImageAuthorUrl\":null},{\"Image\":\"/Images/Dishes/1c3ea657fa2040b88773c8ad6516865a.jpg\",\"ImageSource\":\"shutterstock\",\"ImageAuthorUrl\":null}],\"MobileImages\":[],\"Region\":{\"Current\":{\"RegionId\":105,\"Prefix\":null,\"Name\":\"South Korea\",\"MaterializedPath\":\"/1/105/\",\"Adjective\":\"Korean\",\"RegionLevel\":7,\"EmblemImage\":\"/images/emblems/f0fea72913c343568f3421172794774c.png\",\"UrlLink\":\"korea\",\"CoverImage\":{\"Image\":\"/Images/Regions/d3868dbbcc1146c793fd26f701419768.jpg\",\"Source\":\"shutterstock\",\"SourceUrl\":null},\"IsContinent\":false},\"Parent\":{\"RegionId\":1,\"Prefix\":null,\"Name\":\"Asia\",\"MaterializedPath\":\"/1/\",\"Adjective\":\"Asian\",\"RegionLevel\":9,\"EmblemImage\":null,\"UrlLink\":\"asia\",\"CoverImage\":{\"Image\":null,\"Source\":null,\"SourceUrl\":null},\"IsContinent\":true}},\"AdditionalRegions\":[],\"Group\":{\"Id\":78,\"UrlLink\":\"pancakes\",\"Name\":\"Pancake\",\"PluralName\":\"Pancakes\",\"MaterializedPath\":\"/78/\"},\"AdditionalGroups\":[{\"Id\":3,\"UrlLink\":\"Appetizers\",\"Name\":\"Appetizer\",\"PluralName\":\"Appetizers\",\"MaterializedPath\":\"/3/\"},{\"Id\":14,\"UrlLink\":\"Sides\",\"Name\":\"Side Dish\",\"PluralName\":\"Side Dishes\",\"MaterializedPath\":\"/14/\"},{\"Id\":19,\"UrlLink\":\"Snacks\",\"Name\":\"Snack\",\"PluralName\":\"Snacks\",\"MaterializedPath\":\"/19/\"},{\"Id\":35,\"UrlLink\":\"Street-food\",\"Name\":\"Street Food\",\"PluralName\":\"Street Foods\",\"MaterializedPath\":\"/35/\"}],\"Name\":\"Jeon\",\"EnglishName\":null,\"OtherNames\":\"Korean Pizza, Jeonyueo, Jeonyuhwa, Chŏn, 전, Buchimgae, 부침개, Jijimgae, 지짐, Jijim, 지짐개, Korean Pancake\",\"Description\":\"<p>Jeon, also known as <em>Korean pancakes</em>, represents a number of pancake-like dishes in Korean cuisine that are often served as appetizers, side dishes, or consumed as snacks. Although jeon are typically prepared in savory versions, there are also some sweet varieties of these flavorful pancakes. At their simplest, it is food that is first coated in flour and eggs, then pan-fried in oil. Jeon incorporates ingredients such as thinly sliced meat, poultry, seafood, and various vegetables. The pancakes are traditionally prepared every year during the Korean Lunar New Year and Korean Harvest Festival, although they are eaten daily throughout the year. Some of the more popular varieties of jeon are made with shredded beef (<em>yukjeon</em>), oysters (<em>guljeon</em>), kimchi (<em>kimchijeon</em>), and green onions (<em>pajeon</em>). It is recommended to serve jeon with a spicy soy-based dipping sauce or a refreshing cucumber salad.</p>\",\"FoodIngredients\":[{\"FoodIngredientId\":35027,\"Image\":{\"Image\":\"/images/ingredientgroups/cc2384e25f3c4d52be5abe779ef2ad9b.png\",\"ImageSource\":null,\"ImageAuthorUrl\":null},\"Name\":\"Chicken\",\"UrlLink\":\"Chicken\",\"Order\":0,\"EntityId\":28,\"EntityType\":9,\"MaterializedPath\":\"/1/3/28/\",\"EntityGroupMaterializedPath\":null,\"HostEntityId\":null,\"HostEntityType\":0},{\"FoodIngredientId\":35027,\"Image\":{\"Image\":\"/images/ingredientgroups/d102532d0d3842a49e8c81d499ffc6b1.png\",\"ImageSource\":null,\"ImageAuthorUrl\":null},\"Name\":\"Seafood\",\"UrlLink\":\"Seafoods\",\"Order\":0,\"EntityId\":6,\"EntityType\":9,\"MaterializedPath\":\"/6/\",\"EntityGroupMaterializedPath\":null,\"HostEntityId\":null,\"HostEntityType\":0},{\"FoodIngredientId\":35027,\"Image\":{\"Image\":\"/images/ingredientgroups/23c55ec12d924df3af23cca250689036.png\",\"ImageSource\":null,\"ImageAuthorUrl\":null},\"Name\":\"Vegetables\",\"UrlLink\":\"Vegetables\",\"Order\":0,\"EntityId\":12,\"EntityType\":9,\"MaterializedPath\":\"/12/\",\"EntityGroupMaterializedPath\":null,\"HostEntityId\":null,\"HostEntityType\":0},{\"FoodIngredientId\":35029,\"Image\":{\"Image\":\"/images/ingredientgroups/6980492bc1fb48d292831ababd8816c3.png\",\"ImageSource\":null,\"ImageAuthorUrl\":null},\"Name\":\"Flour\",\"UrlLink\":\"Flour\",\"Order\":1,\"EntityId\":193,\"EntityType\":9,\"MaterializedPath\":\"/193/\",\"EntityGroupMaterializedPath\":null,\"HostEntityId\":null,\"HostEntityType\":0},{\"FoodIngredientId\":35028,\"Image\":{\"Image\":\"/images/ingredientgroups/68062afe91e64f1ba087f7caf87a7fdb.png\",\"ImageSource\":null,\"ImageAuthorUrl\":null},\"Name\":\"Eggs\",\"UrlLink\":\"Eggs\",\"Order\":2,\"EntityId\":41,\"EntityType\":9,\"MaterializedPath\":\"/41/\",\"EntityGroupMaterializedPath\":null,\"HostEntityId\":null,\"HostEntityType\":0}],\"Score\":{\"Score\":8.86,\"DividedScore\":4.4,\"ScoreCount\":53,\"ValidScoreCount\":45},\"Certificates\":[],\"AdditionalRegionText\":\"\",\"HasRecipes\":false,\"HasRestaurants\":false,\"InfographicImage\":{\"Image\":null,\"Source\":null,\"SourceUrl\":null},\"IsGroup\":true};\n",
      "\n"
     ]
    }
   ],
   "source": [
    "s = soup.find(\"div\", {\"id\": \"bodyDiv\"})\n",
    "\n",
    "print(s)\n",
    "print(30*\"*\")\n",
    "\n",
    "lines = s.find_all('script')\n",
    "print(lines)\n",
    "print(30*\"*\")\n",
    "\n",
    "for line in lines:\n",
    "    print(type(line))\n",
    "    print(\"1\",line.text)\n",
    "    "
   ]
  },
  {
   "cell_type": "code",
   "execution_count": 87,
   "id": "ca9c1ec3-d0b1-4bbe-b358-8a5eb697e00c",
   "metadata": {},
   "outputs": [],
   "source": [
    "def has_class_but_no_id(tag):\n",
    "    return tag.has_attr('class') and not tag.has_attr('id')"
   ]
  },
  {
   "cell_type": "code",
   "execution_count": 89,
   "id": "6f6f2c24-df79-45ad-ae0a-bc24532a8ec9",
   "metadata": {},
   "outputs": [
    {
     "data": {
      "text/plain": [
       "[<div class=\"desktop-viewport\">\n",
       " <div class=\"popup-overlay\"></div>\n",
       " <ta-header-desktop></ta-header-desktop>\n",
       " <div id=\"bodyDiv\">\n",
       " <script>\n",
       "         window.ta = window.ta || {};\n",
       "         window.ta.details = {\"EntityId\":1293,\"EntityUrlLink\":\"jeon\",\"EntityType\":1,\"PreviewImage\":{\"Image\":\"/images/dishes/85969320cd7a4b66b98eaa607f2a7fa7.jpg\",\"ImageSource\":\"shutterstock\",\"ImageAuthorUrl\":null},\"Images\":[{\"Image\":\"/images/dishes/85969320cd7a4b66b98eaa607f2a7fa7.jpg\",\"ImageSource\":\"shutterstock\",\"ImageAuthorUrl\":null},{\"Image\":\"/Images/Dishes/0565d9753459430186e2d8380c879574.jpg\",\"ImageSource\":\"shutterstock\",\"ImageAuthorUrl\":null},{\"Image\":\"/Images/Dishes/1816225bcb004488b4103d1f0baf385f.jpg\",\"ImageSource\":\"shutterstock\",\"ImageAuthorUrl\":null},{\"Image\":\"/Images/Dishes/1c3ea657fa2040b88773c8ad6516865a.jpg\",\"ImageSource\":\"shutterstock\",\"ImageAuthorUrl\":null}],\"MobileImages\":[],\"Region\":{\"Current\":{\"RegionId\":105,\"Prefix\":null,\"Name\":\"South Korea\",\"MaterializedPath\":\"/1/105/\",\"Adjective\":\"Korean\",\"RegionLevel\":7,\"EmblemImage\":\"/images/emblems/f0fea72913c343568f3421172794774c.png\",\"UrlLink\":\"korea\",\"CoverImage\":{\"Image\":\"/Images/Regions/d3868dbbcc1146c793fd26f701419768.jpg\",\"Source\":\"shutterstock\",\"SourceUrl\":null},\"IsContinent\":false},\"Parent\":{\"RegionId\":1,\"Prefix\":null,\"Name\":\"Asia\",\"MaterializedPath\":\"/1/\",\"Adjective\":\"Asian\",\"RegionLevel\":9,\"EmblemImage\":null,\"UrlLink\":\"asia\",\"CoverImage\":{\"Image\":null,\"Source\":null,\"SourceUrl\":null},\"IsContinent\":true}},\"AdditionalRegions\":[],\"Group\":{\"Id\":78,\"UrlLink\":\"pancakes\",\"Name\":\"Pancake\",\"PluralName\":\"Pancakes\",\"MaterializedPath\":\"/78/\"},\"AdditionalGroups\":[{\"Id\":3,\"UrlLink\":\"Appetizers\",\"Name\":\"Appetizer\",\"PluralName\":\"Appetizers\",\"MaterializedPath\":\"/3/\"},{\"Id\":14,\"UrlLink\":\"Sides\",\"Name\":\"Side Dish\",\"PluralName\":\"Side Dishes\",\"MaterializedPath\":\"/14/\"},{\"Id\":19,\"UrlLink\":\"Snacks\",\"Name\":\"Snack\",\"PluralName\":\"Snacks\",\"MaterializedPath\":\"/19/\"},{\"Id\":35,\"UrlLink\":\"Street-food\",\"Name\":\"Street Food\",\"PluralName\":\"Street Foods\",\"MaterializedPath\":\"/35/\"}],\"Name\":\"Jeon\",\"EnglishName\":null,\"OtherNames\":\"Korean Pizza, Jeonyueo, Jeonyuhwa, Chŏn, 전, Buchimgae, 부침개, Jijimgae, 지짐, Jijim, 지짐개, Korean Pancake\",\"Description\":\"<p>Jeon, also known as <em>Korean pancakes</em>, represents a number of pancake-like dishes in Korean cuisine that are often served as appetizers, side dishes, or consumed as snacks. Although jeon are typically prepared in savory versions, there are also some sweet varieties of these flavorful pancakes. At their simplest, it is food that is first coated in flour and eggs, then pan-fried in oil. Jeon incorporates ingredients such as thinly sliced meat, poultry, seafood, and various vegetables. The pancakes are traditionally prepared every year during the Korean Lunar New Year and Korean Harvest Festival, although they are eaten daily throughout the year. Some of the more popular varieties of jeon are made with shredded beef (<em>yukjeon</em>), oysters (<em>guljeon</em>), kimchi (<em>kimchijeon</em>), and green onions (<em>pajeon</em>). It is recommended to serve jeon with a spicy soy-based dipping sauce or a refreshing cucumber salad.</p>\",\"FoodIngredients\":[{\"FoodIngredientId\":35027,\"Image\":{\"Image\":\"/images/ingredientgroups/cc2384e25f3c4d52be5abe779ef2ad9b.png\",\"ImageSource\":null,\"ImageAuthorUrl\":null},\"Name\":\"Chicken\",\"UrlLink\":\"Chicken\",\"Order\":0,\"EntityId\":28,\"EntityType\":9,\"MaterializedPath\":\"/1/3/28/\",\"EntityGroupMaterializedPath\":null,\"HostEntityId\":null,\"HostEntityType\":0},{\"FoodIngredientId\":35027,\"Image\":{\"Image\":\"/images/ingredientgroups/d102532d0d3842a49e8c81d499ffc6b1.png\",\"ImageSource\":null,\"ImageAuthorUrl\":null},\"Name\":\"Seafood\",\"UrlLink\":\"Seafoods\",\"Order\":0,\"EntityId\":6,\"EntityType\":9,\"MaterializedPath\":\"/6/\",\"EntityGroupMaterializedPath\":null,\"HostEntityId\":null,\"HostEntityType\":0},{\"FoodIngredientId\":35027,\"Image\":{\"Image\":\"/images/ingredientgroups/23c55ec12d924df3af23cca250689036.png\",\"ImageSource\":null,\"ImageAuthorUrl\":null},\"Name\":\"Vegetables\",\"UrlLink\":\"Vegetables\",\"Order\":0,\"EntityId\":12,\"EntityType\":9,\"MaterializedPath\":\"/12/\",\"EntityGroupMaterializedPath\":null,\"HostEntityId\":null,\"HostEntityType\":0},{\"FoodIngredientId\":35029,\"Image\":{\"Image\":\"/images/ingredientgroups/6980492bc1fb48d292831ababd8816c3.png\",\"ImageSource\":null,\"ImageAuthorUrl\":null},\"Name\":\"Flour\",\"UrlLink\":\"Flour\",\"Order\":1,\"EntityId\":193,\"EntityType\":9,\"MaterializedPath\":\"/193/\",\"EntityGroupMaterializedPath\":null,\"HostEntityId\":null,\"HostEntityType\":0},{\"FoodIngredientId\":35028,\"Image\":{\"Image\":\"/images/ingredientgroups/68062afe91e64f1ba087f7caf87a7fdb.png\",\"ImageSource\":null,\"ImageAuthorUrl\":null},\"Name\":\"Eggs\",\"UrlLink\":\"Eggs\",\"Order\":2,\"EntityId\":41,\"EntityType\":9,\"MaterializedPath\":\"/41/\",\"EntityGroupMaterializedPath\":null,\"HostEntityId\":null,\"HostEntityType\":0}],\"Score\":{\"Score\":8.86,\"DividedScore\":4.4,\"ScoreCount\":53,\"ValidScoreCount\":45},\"Certificates\":[],\"AdditionalRegionText\":\"\",\"HasRecipes\":false,\"HasRestaurants\":false,\"InfographicImage\":{\"Image\":null,\"Source\":null,\"SourceUrl\":null},\"IsGroup\":true};\n",
       " </script>\n",
       " <ta-dish-desktop-main active-page='\"\"' additional-region-id=\"null\" id=\"1293\" name=\"null\" recipe-variation-id=\"null\" where-to-eat-region-id=\"null\">\n",
       " </ta-dish-desktop-main>\n",
       " </div>\n",
       " <div id=\"entity-restaurant-modal\"></div>\n",
       " <ta-back-to-top></ta-back-to-top>\n",
       " <div class=\"page-load\" id=\"ta-main-page-loader\">\n",
       " <i></i>\n",
       " </div>\n",
       " </div>,\n",
       " <div class=\"popup-overlay\"></div>]"
      ]
     },
     "execution_count": 89,
     "metadata": {},
     "output_type": "execute_result"
    }
   ],
   "source": [
    "soup.find_all(has_class_but_no_id)"
   ]
  },
  {
   "cell_type": "code",
   "execution_count": 65,
   "id": "efcda413-bb5a-4c32-99f8-90fafe75d7a2",
   "metadata": {},
   "outputs": [
    {
     "name": "stdout",
     "output_type": "stream",
     "text": [
      "None\n",
      "******************************\n"
     ]
    },
    {
     "ename": "AttributeError",
     "evalue": "'NoneType' object has no attribute 'find_all'",
     "output_type": "error",
     "traceback": [
      "\u001b[0;31m---------------------------------------------------------------------------\u001b[0m",
      "\u001b[0;31mAttributeError\u001b[0m                            Traceback (most recent call last)",
      "Input \u001b[0;32mIn [65]\u001b[0m, in \u001b[0;36m<cell line: 5>\u001b[0;34m()\u001b[0m\n\u001b[1;32m      2\u001b[0m \u001b[38;5;28mprint\u001b[39m(s)\n\u001b[1;32m      3\u001b[0m \u001b[38;5;28mprint\u001b[39m(\u001b[38;5;241m30\u001b[39m\u001b[38;5;241m*\u001b[39m\u001b[38;5;124m\"\u001b[39m\u001b[38;5;124m*\u001b[39m\u001b[38;5;124m\"\u001b[39m)\n\u001b[0;32m----> 5\u001b[0m lines \u001b[38;5;241m=\u001b[39m \u001b[43ms\u001b[49m\u001b[38;5;241;43m.\u001b[39;49m\u001b[43mfind_all\u001b[49m(\u001b[38;5;124m'\u001b[39m\u001b[38;5;124mp\u001b[39m\u001b[38;5;124m'\u001b[39m)\n\u001b[1;32m      6\u001b[0m \u001b[38;5;28mprint\u001b[39m(lines)\n\u001b[1;32m      7\u001b[0m \u001b[38;5;28mprint\u001b[39m(\u001b[38;5;241m30\u001b[39m\u001b[38;5;241m*\u001b[39m\u001b[38;5;124m\"\u001b[39m\u001b[38;5;124m*\u001b[39m\u001b[38;5;124m\"\u001b[39m)\n",
      "\u001b[0;31mAttributeError\u001b[0m: 'NoneType' object has no attribute 'find_all'"
     ]
    }
   ],
   "source": [
    "s = soup.find(\"div\", {\"class\": \"card__main\"})\n",
    "print(s)\n",
    "print(30*\"*\")\n",
    "\n",
    "lines = s.find_all('p')\n",
    "print(lines)\n",
    "print(30*\"*\")\n",
    "\n",
    "for line in lines:\n",
    "    print(\"1\",line.text)"
   ]
  },
  {
   "cell_type": "code",
   "execution_count": 90,
   "id": "dad1245f-0652-4165-a889-0e68c762bf79",
   "metadata": {},
   "outputs": [
    {
     "data": {
      "text/plain": [
       "<!DOCTYPE html>\n",
       "\n",
       "<html>\n",
       "<head>\n",
       "<link as=\"script\" rel=\"preload\"/>\n",
       "<link as=\"style\" href=\"/Content/Styles/font-awesome.min.css\" rel=\"preload\"/>\n",
       "<link as=\"style\" href=\"/Content/Styles/swiper.min.css\" rel=\"preload\"/>\n",
       "<link as=\"style\" href=\"/Content/layout/style.css?v=e4287324-7353-4f5a-af31-e69434d599ad\" rel=\"preload\"/>\n",
       "<link as=\"font\" crossorigin=\"anonymous\" href=\"/Content/layout-shared/layout/fonts/muli/Muli-Bold.ttf\" rel=\"preload\" type=\"font/ttf\"/>\n",
       "<link as=\"font\" crossorigin=\"anonymous\" href=\"/Content/layout-shared/layout/fonts/muli/Muli-Italic.ttf\" rel=\"preload\" type=\"font/ttf\"/>\n",
       "<link as=\"font\" crossorigin=\"anonymous\" href=\"/Content/layout-shared/layout/fonts/muli/Muli-Light.ttf\" rel=\"preload\" type=\"font/ttf\"/>\n",
       "<link as=\"font\" crossorigin=\"anonymous\" href=\"/Content/layout-shared/layout/fonts/muli/Muli-Regular.ttf\" rel=\"preload\" type=\"font/ttf\"/>\n",
       "<link as=\"font\" crossorigin=\"anonymous\" href=\"/Content/layout-shared/layout/fonts/muli/Muli-SemiBold.ttf\" rel=\"preload\" type=\"font/ttf\"/>\n",
       "<link as=\"font\" crossorigin=\"anonymous\" href=\"/Content/layout-shared/layout/fonts/playfairdisplay/PlayfairDisplay-Regular.ttf\" rel=\"preload\" type=\"font/ttf\"/>\n",
       "<link as=\"font\" crossorigin=\"anonymous\" href=\"/Content/layout-shared/layout/fonts/playfairdisplay/PlayfairDisplay-Italic.ttf\" rel=\"preload\" type=\"font/ttf\"/>\n",
       "<link as=\"font\" crossorigin=\"anonymous\" href=\"/Content/layout-shared/layout/fonts/playfairdisplay/PlayfairDisplay-Bold.ttf\" rel=\"preload\" type=\"font/ttf\"/>\n",
       "<link as=\"image\" imagesrcset=\"/Content/layout-shared/layout/icons/ta-logo-tamni.svg\" rel=\"preload\"/>\n",
       "<link as=\"image\" imagesrcset=\"/Content/layout-shared/layout/icons/search-black.svg\" rel=\"preload\"/>\n",
       "<link as=\"image\" imagesrcset=\"/Content/layout-shared/layout/icons/profile.svg\" rel=\"preload\"/>\n",
       "<base href=\"/\"/>\n",
       "<meta charset=\"utf-8\"/>\n",
       "<meta content=\"IE=edge\" http-equiv=\"X-UA-Compatible\"/>\n",
       "<meta content=\"width=device-width, initial-scale=1.0, maximum-scale=1.0, minimum-scale=1.0, user-scalable=0\" name=\"viewport\"/>\n",
       "<script type=\"text/javascript\">\n",
       "\n",
       "            window.gdprAppliesGlobally = false; (function () {\n",
       "                function a(e) {\n",
       "                    if (!window.frames[e]) {\n",
       "                        if (document.body && document.body.firstChild) { var t = document.body; var n = document.createElement(\"iframe\"); n.style.display = \"none\"; n.name = e; n.title = e; t.insertBefore(n, t.firstChild) }\n",
       "                        else { setTimeout(function () { a(e) }, 5) }\n",
       "                    }\n",
       "                } function e(n, r, o, c, s) {\n",
       "                    function e(e, t, n, a) { if (typeof n !== \"function\") { return } if (!window[r]) { window[r] = [] } var i = false; if (s) { i = s(e, t, n) } if (!i) { window[r].push({ command: e, parameter: t, callback: n, version: a }) } } e.stub = true; function t(a) {\n",
       "                        if (!window[n] || window[n].stub !== true) { return } if (!a.data) { return }\n",
       "                        var i = typeof a.data === \"string\"; var e; try { e = i ? JSON.parse(a.data) : a.data } catch (t) { return } if (e[o]) { var r = e[o]; window[n](r.command, r.parameter, function (e, t) { var n = {}; n[c] = { returnValue: e, success: t, callId: r.callId }; a.source.postMessage(i ? JSON.stringify(n) : n, \"*\") }, r.version) }\n",
       "                    }\n",
       "                    if (typeof window[n] !== \"function\") { window[n] = e; if (window.addEventListener) { window.addEventListener(\"message\", t, false) } else { window.attachEvent(\"onmessage\", t) } }\n",
       "                } e(\"__tcfapi\", \"__tcfapiBuffer\", \"__tcfapiCall\", \"__tcfapiReturn\"); a(\"__tcfapiLocator\"); (function (e, tgt) {\n",
       "                    var t = document.createElement(\"script\"); t.id = \"spcloader\"; t.type = \"text/javascript\"; t.async = true; t.src = \"https://sdk.privacy-center.org/\" + e + \"/loader.js?target_type=notice&target=\" + tgt; t.charset = \"utf-8\"; var n = document.getElementsByTagName(\"script\")[0]; n.parentNode.insertBefore(t, n)\n",
       "                })(\"02757520-ed8b-4c54-8bfd-4a5f5548de98\", \"xBkfx6iZ\")\n",
       "            })();</script>\n",
       "<meta content=\"1827944954195705\" property=\"fb:app_id\"/>\n",
       "<meta content=\"max-image-preview:large\" name=\"robots\"/>\n",
       "<meta content=\"website\" property=\"og:type\"/>\n",
       "<meta content=\"summary_large_image\" name=\"twitter:card\"/>\n",
       "<title>Jeon | Traditional Pancake From South Korea | TasteAtlas</title>\n",
       "<meta content=\"Jeon | Traditional Pancake From South Korea | TasteAtlas\" property=\"og:title\"/>\n",
       "<meta content=\"Jeon | Traditional Pancake From South Korea | TasteAtlas\" name=\"twitter:title\">\n",
       "<link href=\"https://www.tasteatlas.com/jeon\" rel=\"canonical\">\n",
       "<meta content=\"https://cdn.tasteatlas.com/images/dishes/85969320cd7a4b66b98eaa607f2a7fa7.jpg\" property=\"og:image\"/>\n",
       "<meta content=\"https://cdn.tasteatlas.com/images/dishes/85969320cd7a4b66b98eaa607f2a7fa7.jpg\" name=\"twitter:image\">\n",
       "<meta content=\"0\" property=\"og:image:width\"/>\n",
       "<meta content=\"0\" property=\"og:image:height\"/>\n",
       "<meta content=\" Jeon, also known as Korean pancakes, represents a number of pancake-like dishes in Korean cuisine that are often served as appetizers, side dishes, or consumed as snacks. Although jeon are typically prepared in savory versions, there are also some sweet varieties of these flavorful pancakes\" property=\"og:description\"/>\n",
       "<meta content=\" Jeon, also known as Korean pancakes, represents a number of pancake-like dishes in Korean cuisine that are often served as appetizers, side dishes, or consumed as snacks. Although jeon are typically prepared in savory versions, there are also some sweet varieties of these flavorful pancakes\" name=\"twitter:description\">\n",
       "<meta content=\"Jeon, also known as Korean pancakes, represents a number of pancake-like dishes in Korean cuisine that are often served as appetizers, side dishes, or consumed as snacks. Although jeon are typically prepared in savory versions, there are also some sweet varieties of these flavorful pancakes\" name=\"description\"/>\n",
       "<script type=\"application/ld+json\">\n",
       "                {\"@context\":\"http://schema.org\",\"@type\":\"NewsArticle\",\"name\":null,\"description\":null,\"additionalType\":null,\"alternateName\":null,\"disambiguatingDescription\":null,\"image\":[\"https://www.tasteatlas.com/images/dishes/85969320cd7a4b66b98eaa607f2a7fa7.jpg\",\"https://www.tasteatlas.com/Images/Dishes/0565d9753459430186e2d8380c879574.jpg\",\"https://www.tasteatlas.com/Images/Dishes/1816225bcb004488b4103d1f0baf385f.jpg\",\"https://www.tasteatlas.com/Images/Dishes/1c3ea657fa2040b88773c8ad6516865a.jpg\"],\"potentialAction\":null,\"sameAs\":null,\"url\":null,\"about\":null,\"accessibilityAPI\":null,\"accessibilityControl\":null,\"accessibilityFeature\":null,\"accessibilityHazard\":null,\"accessibilitySummary\":null,\"accessMode\":null,\"accessModeSufficient\":null,\"accountablePerson\":null,\"aggregateRating\":null,\"alternativeHeadline\":null,\"associatedMedia\":null,\"audience\":null,\"author\":{\"@context\":\"http://schema.org\",\"@type\":\"Organization\",\"name\":\"TasteAtlas\",\"description\":null,\"additionalType\":null,\"alternateName\":null,\"disambiguatingDescription\":null,\"potentialAction\":null,\"sameAs\":null,\"url\":null,\"aggregateRating\":null,\"alumni\":null,\"award\":null,\"contactPoint\":null,\"department\":null,\"duns\":null,\"email\":null,\"employee\":null,\"event\":null,\"faxNumber\":null,\"founder\":null,\"foundingLocation\":null,\"globalLocationNumber\":null,\"hasOfferCatalog\":null,\"hasPOS\":null,\"isicV4\":null,\"legalName\":null,\"leiCode\":null,\"makesOffer\":null,\"naics\":null,\"numberOfEmployees\":null,\"parentOrganization\":null,\"review\":null,\"seeks\":null,\"slogan\":null,\"subOrganization\":null,\"taxID\":null,\"telephone\":null,\"vatID\":null},\"award\":null,\"character\":null,\"comment\":null,\"commentCount\":null,\"contentLocation\":null,\"contentReferenceTime\":null,\"copyrightYear\":null,\"dateModified\":\"2016-06-28\",\"datePublished\":\"2016-06-28\",\"discussionUrl\":null,\"editor\":null,\"educationalAlignment\":null,\"educationalUse\":null,\"encoding\":null,\"exampleOfWork\":null,\"hasPart\":null,\"headline\":\"Jeon | Traditional Pancake From South Korea | TasteAtlas\",\"interactionStatistic\":null,\"interactivityType\":null,\"isAccessibleForFree\":null,\"isFamilyFriendly\":null,\"isPartOf\":null,\"keywords\":null,\"learningResourceType\":null,\"locationCreated\":null,\"mainEntity\":null,\"mentions\":null,\"offers\":null,\"publication\":null,\"publisher\":{\"@context\":\"http://schema.org\",\"@type\":\"Organization\",\"name\":\"TasteAtlas\",\"description\":null,\"additionalType\":null,\"alternateName\":null,\"disambiguatingDescription\":null,\"potentialAction\":null,\"sameAs\":null,\"url\":null,\"aggregateRating\":null,\"alumni\":null,\"award\":null,\"contactPoint\":null,\"department\":null,\"duns\":null,\"email\":null,\"employee\":null,\"event\":null,\"faxNumber\":null,\"founder\":null,\"foundingLocation\":null,\"globalLocationNumber\":null,\"hasOfferCatalog\":null,\"hasPOS\":null,\"isicV4\":null,\"legalName\":null,\"leiCode\":null,\"logo\":{\"@context\":\"http://schema.org\",\"@type\":\"ImageObject\",\"name\":null,\"description\":null,\"additionalType\":null,\"alternateName\":null,\"disambiguatingDescription\":null,\"potentialAction\":null,\"sameAs\":null,\"url\":\"https://www.tasteatlas.com/content/images/publisher_logo.png\",\"about\":null,\"accessibilityAPI\":null,\"accessibilityControl\":null,\"accessibilityFeature\":null,\"accessibilityHazard\":null,\"accessibilitySummary\":null,\"accessMode\":null,\"accessModeSufficient\":null,\"accountablePerson\":null,\"aggregateRating\":null,\"alternativeHeadline\":null,\"associatedMedia\":null,\"audience\":null,\"award\":null,\"character\":null,\"comment\":null,\"commentCount\":null,\"contentLocation\":null,\"contentReferenceTime\":null,\"copyrightYear\":null,\"discussionUrl\":null,\"editor\":null,\"educationalAlignment\":null,\"educationalUse\":null,\"encoding\":null,\"exampleOfWork\":null,\"hasPart\":null,\"headline\":null,\"interactionStatistic\":null,\"interactivityType\":null,\"isAccessibleForFree\":null,\"isFamilyFriendly\":null,\"isPartOf\":null,\"keywords\":null,\"learningResourceType\":null,\"locationCreated\":null,\"mainEntity\":null,\"mentions\":null,\"offers\":null,\"publication\":null,\"publisherImprint\":null,\"recordedAt\":null,\"releasedEvent\":null,\"review\":null,\"sourceOrganization\":null,\"spatial\":null,\"spatialCoverage\":null,\"text\":null,\"thumbnailUrl\":null,\"timeRequired\":null,\"translationOfWork\":null,\"typicalAgeRange\":null,\"workExample\":null,\"workTranslation\":null,\"associatedArticle\":null,\"bitrate\":null,\"contentSize\":null,\"contentUrl\":null,\"duration\":null,\"embedUrl\":null,\"encodesCreativeWork\":null,\"endTime\":null,\"playerType\":null,\"productionCompany\":null,\"regionsAllowed\":null,\"startTime\":null,\"representativeOfPage\":null,\"thumbnail\":null},\"makesOffer\":null,\"naics\":null,\"numberOfEmployees\":null,\"parentOrganization\":null,\"review\":null,\"seeks\":null,\"slogan\":null,\"subOrganization\":null,\"taxID\":null,\"telephone\":null,\"vatID\":null},\"publisherImprint\":null,\"recordedAt\":null,\"releasedEvent\":null,\"review\":null,\"sourceOrganization\":null,\"spatial\":null,\"spatialCoverage\":null,\"text\":null,\"thumbnailUrl\":null,\"timeRequired\":null,\"translationOfWork\":null,\"typicalAgeRange\":null,\"workExample\":null,\"workTranslation\":null,\"articleBody\":null,\"articleSection\":null,\"pagination\":null,\"wordCount\":null,\"dateline\":null,\"printColumn\":null,\"printEdition\":null,\"printPage\":null,\"printSection\":null}\n",
       "            </script>\n",
       "<script type=\"application/ld+json\">\n",
       "                {\"@context\":\"http://schema.org\",\"@type\":\"QAPage\",\"name\":null,\"description\":null,\"additionalType\":null,\"alternateName\":null,\"disambiguatingDescription\":null,\"potentialAction\":null,\"sameAs\":null,\"url\":null,\"about\":null,\"accessibilityAPI\":null,\"accessibilityControl\":null,\"accessibilityFeature\":null,\"accessibilityHazard\":null,\"accessibilitySummary\":null,\"accessMode\":null,\"accessModeSufficient\":null,\"accountablePerson\":null,\"aggregateRating\":null,\"alternativeHeadline\":null,\"associatedMedia\":null,\"audience\":null,\"award\":null,\"character\":null,\"comment\":null,\"commentCount\":null,\"contentLocation\":null,\"contentReferenceTime\":null,\"copyrightYear\":null,\"discussionUrl\":null,\"editor\":null,\"educationalAlignment\":null,\"educationalUse\":null,\"encoding\":null,\"exampleOfWork\":null,\"hasPart\":null,\"headline\":null,\"interactionStatistic\":null,\"interactivityType\":null,\"isAccessibleForFree\":null,\"isFamilyFriendly\":null,\"isPartOf\":null,\"keywords\":null,\"learningResourceType\":null,\"locationCreated\":null,\"mainEntity\":{\"@context\":\"http://schema.org\",\"@type\":\"Question\",\"name\":\"What is Jeon?\",\"description\":null,\"additionalType\":null,\"alternateName\":null,\"disambiguatingDescription\":null,\"potentialAction\":null,\"sameAs\":null,\"url\":null,\"about\":null,\"accessibilityAPI\":null,\"accessibilityControl\":null,\"accessibilityFeature\":null,\"accessibilityHazard\":null,\"accessibilitySummary\":null,\"accessMode\":null,\"accessModeSufficient\":null,\"accountablePerson\":null,\"aggregateRating\":null,\"alternativeHeadline\":null,\"associatedMedia\":null,\"audience\":null,\"author\":{\"@context\":\"http://schema.org\",\"@type\":\"Person\",\"name\":\"TasteAtlas\",\"description\":null,\"additionalType\":null,\"alternateName\":null,\"disambiguatingDescription\":null,\"potentialAction\":null,\"sameAs\":null,\"url\":null,\"additionalName\":null,\"affiliation\":null,\"award\":null,\"birthPlace\":null,\"children\":null,\"contactPoint\":null,\"deathPlace\":null,\"duns\":null,\"email\":null,\"familyName\":null,\"faxNumber\":null,\"follows\":null,\"givenName\":null,\"globalLocationNumber\":null,\"hasOccupation\":null,\"hasOfferCatalog\":null,\"hasPOS\":null,\"honorificPrefix\":null,\"honorificSuffix\":null,\"isicV4\":null,\"jobTitle\":null,\"knows\":null,\"makesOffer\":null,\"naics\":null,\"nationality\":null,\"parent\":null,\"performerIn\":null,\"relatedTo\":null,\"seeks\":null,\"sibling\":null,\"spouse\":null,\"taxID\":null,\"telephone\":null,\"vatID\":null,\"weight\":null,\"worksFor\":null},\"award\":null,\"character\":null,\"comment\":null,\"commentCount\":null,\"contentLocation\":null,\"contentReferenceTime\":null,\"copyrightYear\":null,\"dateCreated\":\"2016-06-28\",\"discussionUrl\":null,\"editor\":null,\"educationalAlignment\":null,\"educationalUse\":null,\"encoding\":null,\"exampleOfWork\":null,\"hasPart\":null,\"headline\":null,\"interactionStatistic\":null,\"interactivityType\":null,\"isAccessibleForFree\":null,\"isFamilyFriendly\":null,\"isPartOf\":null,\"keywords\":null,\"learningResourceType\":null,\"locationCreated\":null,\"mainEntity\":null,\"mentions\":null,\"offers\":null,\"publication\":null,\"publisherImprint\":null,\"recordedAt\":null,\"releasedEvent\":null,\"review\":null,\"sourceOrganization\":null,\"spatial\":null,\"spatialCoverage\":null,\"text\":\"What is Jeon?\",\"thumbnailUrl\":null,\"timeRequired\":null,\"translationOfWork\":null,\"typicalAgeRange\":null,\"workExample\":null,\"workTranslation\":null,\"acceptedAnswer\":{\"@context\":\"http://schema.org\",\"@type\":\"Answer\",\"name\":null,\"description\":null,\"additionalType\":null,\"alternateName\":null,\"disambiguatingDescription\":null,\"potentialAction\":null,\"sameAs\":null,\"url\":\"https://www.tasteatlas.com/jeon\",\"about\":null,\"accessibilityAPI\":null,\"accessibilityControl\":null,\"accessibilityFeature\":null,\"accessibilityHazard\":null,\"accessibilitySummary\":null,\"accessMode\":null,\"accessModeSufficient\":null,\"accountablePerson\":null,\"aggregateRating\":null,\"alternativeHeadline\":null,\"associatedMedia\":null,\"audience\":null,\"author\":{\"@context\":\"http://schema.org\",\"@type\":\"Person\",\"name\":\"TasteAtlas\",\"description\":null,\"additionalType\":null,\"alternateName\":null,\"disambiguatingDescription\":null,\"potentialAction\":null,\"sameAs\":null,\"url\":null,\"additionalName\":null,\"affiliation\":null,\"award\":null,\"birthPlace\":null,\"children\":null,\"contactPoint\":null,\"deathPlace\":null,\"duns\":null,\"email\":null,\"familyName\":null,\"faxNumber\":null,\"follows\":null,\"givenName\":null,\"globalLocationNumber\":null,\"hasOccupation\":null,\"hasOfferCatalog\":null,\"hasPOS\":null,\"honorificPrefix\":null,\"honorificSuffix\":null,\"isicV4\":null,\"jobTitle\":null,\"knows\":null,\"makesOffer\":null,\"naics\":null,\"nationality\":null,\"parent\":null,\"performerIn\":null,\"relatedTo\":null,\"seeks\":null,\"sibling\":null,\"spouse\":null,\"taxID\":null,\"telephone\":null,\"vatID\":null,\"weight\":null,\"worksFor\":null},\"award\":null,\"character\":null,\"comment\":null,\"commentCount\":null,\"contentLocation\":null,\"contentReferenceTime\":null,\"copyrightYear\":null,\"dateCreated\":\"2016-06-28\",\"discussionUrl\":null,\"editor\":null,\"educationalAlignment\":null,\"educationalUse\":null,\"encoding\":null,\"exampleOfWork\":null,\"hasPart\":null,\"headline\":null,\"interactionStatistic\":null,\"interactivityType\":null,\"isAccessibleForFree\":null,\"isFamilyFriendly\":null,\"isPartOf\":null,\"keywords\":null,\"learningResourceType\":null,\"locationCreated\":null,\"mainEntity\":null,\"mentions\":null,\"offers\":null,\"publication\":null,\"publisherImprint\":null,\"recordedAt\":null,\"releasedEvent\":null,\"review\":null,\"sourceOrganization\":null,\"spatial\":null,\"spatialCoverage\":null,\"text\":\"<p>Jeon, also known as <em>Korean pancakes</em>, represents a number of pancake-like dishes in Korean cuisine that are often served as appetizers, side dishes, or consumed as snacks. Although jeon are typically prepared in savory versions, there are also some sweet varieties of these flavorful pancakes. At their simplest, it is food that is first coated in flour and eggs, then pan-fried in oil. Jeon incorporates ingredients such as thinly sliced meat, poultry, seafood, and various vegetables. The pancakes are traditionally prepared every year during the Korean Lunar New Year and Korean Harvest Festival, although they are eaten daily throughout the year. Some of the more popular varieties of jeon are made with shredded beef (<em>yukjeon</em>), oysters (<em>guljeon</em>), kimchi (<em>kimchijeon</em>), and green onions (<em>pajeon</em>). It is recommended to serve jeon with a spicy soy-based dipping sauce or a refreshing cucumber salad.</p>\",\"thumbnailUrl\":null,\"timeRequired\":null,\"translationOfWork\":null,\"typicalAgeRange\":null,\"workExample\":null,\"workTranslation\":null,\"downvoteCount\":null,\"parentItem\":null,\"upvoteCount\":53},\"answerCount\":1,\"downvoteCount\":null,\"upvoteCount\":null},\"mentions\":null,\"offers\":null,\"publication\":null,\"publisherImprint\":null,\"recordedAt\":null,\"releasedEvent\":null,\"review\":null,\"sourceOrganization\":null,\"spatial\":null,\"spatialCoverage\":null,\"text\":null,\"thumbnailUrl\":null,\"timeRequired\":null,\"translationOfWork\":null,\"typicalAgeRange\":null,\"workExample\":null,\"workTranslation\":null,\"mainContentOfPage\":null,\"primaryImageOfPage\":null,\"relatedLink\":null,\"significantLink\":null,\"specialty\":null}\n",
       "            </script>\n",
       "<link as=\"image\" imagesrcset=\"https://cdn.tasteatlas.com/images/dishes/85969320cd7a4b66b98eaa607f2a7fa7.jpg?mw=1300\" rel=\"preload\"/>\n",
       "<link href=\"/Content/Styles/font-awesome.min.css\" rel=\"stylesheet\">\n",
       "<link href=\"/Content/Styles/swiper.min.css\" rel=\"stylesheet\">\n",
       "<link href=\"/Content/layout/style.css?v=e4287324-7353-4f5a-af31-e69434d599ad\" rel=\"stylesheet\">\n",
       "<script src=\"/bundles/ngappDesktop?v=v87bzIKc3_gr6RxXUcMTgEZQZ6pdu6X0G3Xf-2WR0GQ1\"></script>\n",
       "</link></link></link></meta></meta></link></meta></head>\n",
       "<body ng-app=\"tasteatlas\">\n",
       "<!--[if lt IE 8]>\n",
       "        <p class=\"browsehappy\">\n",
       "            You are using an <strong>outdated</strong> browser.\n",
       "            Please <a href=\"http://www.browsehappy.com/\">upgrade your browser</a> to improve your experience.\n",
       "        </p>\n",
       "    <![endif]-->\n",
       "<ta2-entity-comment></ta2-entity-comment>\n",
       "<ta-home-loader></ta-home-loader>\n",
       "<div class=\"desktop-viewport\">\n",
       "<div class=\"popup-overlay\"></div>\n",
       "<ta-header-desktop></ta-header-desktop>\n",
       "<div id=\"bodyDiv\">\n",
       "<script>\n",
       "        window.ta = window.ta || {};\n",
       "        window.ta.details = {\"EntityId\":1293,\"EntityUrlLink\":\"jeon\",\"EntityType\":1,\"PreviewImage\":{\"Image\":\"/images/dishes/85969320cd7a4b66b98eaa607f2a7fa7.jpg\",\"ImageSource\":\"shutterstock\",\"ImageAuthorUrl\":null},\"Images\":[{\"Image\":\"/images/dishes/85969320cd7a4b66b98eaa607f2a7fa7.jpg\",\"ImageSource\":\"shutterstock\",\"ImageAuthorUrl\":null},{\"Image\":\"/Images/Dishes/0565d9753459430186e2d8380c879574.jpg\",\"ImageSource\":\"shutterstock\",\"ImageAuthorUrl\":null},{\"Image\":\"/Images/Dishes/1816225bcb004488b4103d1f0baf385f.jpg\",\"ImageSource\":\"shutterstock\",\"ImageAuthorUrl\":null},{\"Image\":\"/Images/Dishes/1c3ea657fa2040b88773c8ad6516865a.jpg\",\"ImageSource\":\"shutterstock\",\"ImageAuthorUrl\":null}],\"MobileImages\":[],\"Region\":{\"Current\":{\"RegionId\":105,\"Prefix\":null,\"Name\":\"South Korea\",\"MaterializedPath\":\"/1/105/\",\"Adjective\":\"Korean\",\"RegionLevel\":7,\"EmblemImage\":\"/images/emblems/f0fea72913c343568f3421172794774c.png\",\"UrlLink\":\"korea\",\"CoverImage\":{\"Image\":\"/Images/Regions/d3868dbbcc1146c793fd26f701419768.jpg\",\"Source\":\"shutterstock\",\"SourceUrl\":null},\"IsContinent\":false},\"Parent\":{\"RegionId\":1,\"Prefix\":null,\"Name\":\"Asia\",\"MaterializedPath\":\"/1/\",\"Adjective\":\"Asian\",\"RegionLevel\":9,\"EmblemImage\":null,\"UrlLink\":\"asia\",\"CoverImage\":{\"Image\":null,\"Source\":null,\"SourceUrl\":null},\"IsContinent\":true}},\"AdditionalRegions\":[],\"Group\":{\"Id\":78,\"UrlLink\":\"pancakes\",\"Name\":\"Pancake\",\"PluralName\":\"Pancakes\",\"MaterializedPath\":\"/78/\"},\"AdditionalGroups\":[{\"Id\":3,\"UrlLink\":\"Appetizers\",\"Name\":\"Appetizer\",\"PluralName\":\"Appetizers\",\"MaterializedPath\":\"/3/\"},{\"Id\":14,\"UrlLink\":\"Sides\",\"Name\":\"Side Dish\",\"PluralName\":\"Side Dishes\",\"MaterializedPath\":\"/14/\"},{\"Id\":19,\"UrlLink\":\"Snacks\",\"Name\":\"Snack\",\"PluralName\":\"Snacks\",\"MaterializedPath\":\"/19/\"},{\"Id\":35,\"UrlLink\":\"Street-food\",\"Name\":\"Street Food\",\"PluralName\":\"Street Foods\",\"MaterializedPath\":\"/35/\"}],\"Name\":\"Jeon\",\"EnglishName\":null,\"OtherNames\":\"Korean Pizza, Jeonyueo, Jeonyuhwa, Chŏn, 전, Buchimgae, 부침개, Jijimgae, 지짐, Jijim, 지짐개, Korean Pancake\",\"Description\":\"<p>Jeon, also known as <em>Korean pancakes</em>, represents a number of pancake-like dishes in Korean cuisine that are often served as appetizers, side dishes, or consumed as snacks. Although jeon are typically prepared in savory versions, there are also some sweet varieties of these flavorful pancakes. At their simplest, it is food that is first coated in flour and eggs, then pan-fried in oil. Jeon incorporates ingredients such as thinly sliced meat, poultry, seafood, and various vegetables. The pancakes are traditionally prepared every year during the Korean Lunar New Year and Korean Harvest Festival, although they are eaten daily throughout the year. Some of the more popular varieties of jeon are made with shredded beef (<em>yukjeon</em>), oysters (<em>guljeon</em>), kimchi (<em>kimchijeon</em>), and green onions (<em>pajeon</em>). It is recommended to serve jeon with a spicy soy-based dipping sauce or a refreshing cucumber salad.</p>\",\"FoodIngredients\":[{\"FoodIngredientId\":35027,\"Image\":{\"Image\":\"/images/ingredientgroups/cc2384e25f3c4d52be5abe779ef2ad9b.png\",\"ImageSource\":null,\"ImageAuthorUrl\":null},\"Name\":\"Chicken\",\"UrlLink\":\"Chicken\",\"Order\":0,\"EntityId\":28,\"EntityType\":9,\"MaterializedPath\":\"/1/3/28/\",\"EntityGroupMaterializedPath\":null,\"HostEntityId\":null,\"HostEntityType\":0},{\"FoodIngredientId\":35027,\"Image\":{\"Image\":\"/images/ingredientgroups/d102532d0d3842a49e8c81d499ffc6b1.png\",\"ImageSource\":null,\"ImageAuthorUrl\":null},\"Name\":\"Seafood\",\"UrlLink\":\"Seafoods\",\"Order\":0,\"EntityId\":6,\"EntityType\":9,\"MaterializedPath\":\"/6/\",\"EntityGroupMaterializedPath\":null,\"HostEntityId\":null,\"HostEntityType\":0},{\"FoodIngredientId\":35027,\"Image\":{\"Image\":\"/images/ingredientgroups/23c55ec12d924df3af23cca250689036.png\",\"ImageSource\":null,\"ImageAuthorUrl\":null},\"Name\":\"Vegetables\",\"UrlLink\":\"Vegetables\",\"Order\":0,\"EntityId\":12,\"EntityType\":9,\"MaterializedPath\":\"/12/\",\"EntityGroupMaterializedPath\":null,\"HostEntityId\":null,\"HostEntityType\":0},{\"FoodIngredientId\":35029,\"Image\":{\"Image\":\"/images/ingredientgroups/6980492bc1fb48d292831ababd8816c3.png\",\"ImageSource\":null,\"ImageAuthorUrl\":null},\"Name\":\"Flour\",\"UrlLink\":\"Flour\",\"Order\":1,\"EntityId\":193,\"EntityType\":9,\"MaterializedPath\":\"/193/\",\"EntityGroupMaterializedPath\":null,\"HostEntityId\":null,\"HostEntityType\":0},{\"FoodIngredientId\":35028,\"Image\":{\"Image\":\"/images/ingredientgroups/68062afe91e64f1ba087f7caf87a7fdb.png\",\"ImageSource\":null,\"ImageAuthorUrl\":null},\"Name\":\"Eggs\",\"UrlLink\":\"Eggs\",\"Order\":2,\"EntityId\":41,\"EntityType\":9,\"MaterializedPath\":\"/41/\",\"EntityGroupMaterializedPath\":null,\"HostEntityId\":null,\"HostEntityType\":0}],\"Score\":{\"Score\":8.86,\"DividedScore\":4.4,\"ScoreCount\":53,\"ValidScoreCount\":45},\"Certificates\":[],\"AdditionalRegionText\":\"\",\"HasRecipes\":false,\"HasRestaurants\":false,\"InfographicImage\":{\"Image\":null,\"Source\":null,\"SourceUrl\":null},\"IsGroup\":true};\n",
       "</script>\n",
       "<ta-dish-desktop-main active-page='\"\"' additional-region-id=\"null\" id=\"1293\" name=\"null\" recipe-variation-id=\"null\" where-to-eat-region-id=\"null\">\n",
       "</ta-dish-desktop-main>\n",
       "</div>\n",
       "<div id=\"entity-restaurant-modal\"></div>\n",
       "<ta-back-to-top></ta-back-to-top>\n",
       "<div class=\"page-load\" id=\"ta-main-page-loader\">\n",
       "<i></i>\n",
       "</div>\n",
       "</div>\n",
       "<div id=\"fb-root\"></div>\n",
       "<script>\n",
       "    (function (window) {\n",
       "        window.__env = window.__env || {};\n",
       "        window.__env.enableDebug = false;\n",
       "    }(this));\n",
       "</script>\n",
       "<link href=\"/Content/Styles/ng-sortable.min.css\" rel=\"stylesheet\">\n",
       "<link href=\"/Content/Styles/ol.css\" rel=\"stylesheet\">\n",
       "<script>\n",
       "\n",
       "    var didScroll;\n",
       "    // on scroll, let the interval function know the user has scrolled\n",
       "    $(window).scroll(function (event) {\n",
       "        didScroll = true;\n",
       "    });\n",
       "    $(window).load(function () {\n",
       "        hasScrolled();\n",
       "    })\n",
       "    // run hasScrolled() and reset didScroll status\n",
       "    setInterval(function () {\n",
       "        if (didScroll) {\n",
       "            hasScrolled();\n",
       "            didScroll = false;\n",
       "        }\n",
       "    }, 250);\n",
       "\n",
       "    var lastScrollTop = 0;\n",
       "    var delta = 0;\n",
       "\n",
       "    function hasScrolled() {\n",
       "        var headerElem = $('#header-id');\n",
       "        var regionFloatingFilter = $('.search-results__floating-filter');//floating filter on regions\n",
       "        var hamburgerOpen = document.querySelector('.offcanvas--active');\n",
       "        var navbarHeight = headerElem.outerHeight();\n",
       "        var st = $(this).scrollTop();\n",
       "\n",
       "        if (Math.abs(lastScrollTop - st) <= delta)\n",
       "            return;\n",
       "        \n",
       "        // If current position > last position AND scrolled past navbar... // Scroll Down\n",
       "        if (st > lastScrollTop && st > navbarHeight && hamburgerOpen == null ) {\n",
       "            headerElem.css('top', '-125px'); // If we height login popup will not be displayed\n",
       "            regionFloatingFilter.css('top', '');\n",
       "        }\n",
       "        else { //scrolling up\n",
       "\n",
       "            if (st + $(window).height() < $(document).height()) {\n",
       "                headerElem.css('top', 0);\n",
       "                regionFloatingFilter.css('top', navbarHeight + 'px');\n",
       "            }\n",
       "        }\n",
       "\n",
       "        lastScrollTop = st;\n",
       "    }\n",
       "\n",
       "\n",
       "\n",
       "</script>\n",
       "<script src=\"/Scripts/autotrack.js\"></script>\n",
       "<script>\n",
       "    (function (i, s, o, g, r, a, m) {\n",
       "        i['GoogleAnalyticsObject'] = r; i[r] = i[r] || function () {\n",
       "            (i[r].q = i[r].q || []).push(arguments)\n",
       "        }, i[r].l = 1 * new Date(); a = s.createElement(o),\n",
       "            m = s.getElementsByTagName(o)[0]; a.async = 1; a.src = g; m.parentNode.insertBefore(a, m)\n",
       "    })(window, document, 'script', 'https://www.google-analytics.com/analytics.js', 'ga');\n",
       "\n",
       "    ga('create', 'UA-97940741-1', 'auto');\n",
       "</script>\n",
       "<script>\n",
       "            ga('set', 'dimension1', 'Dish');\n",
       "        </script>\n",
       "<script>\n",
       "    ga('send', 'pageview');\n",
       "    ga('require', 'urlChangeTracker');\n",
       "</script>\n",
       "<script crossorigin=\"anonymous\" data-cf-beacon='{\"rayId\":\"78c109770e4bca91\",\"token\":\"3d9eee7291f8462ebb0bba306d13758e\",\"version\":\"2022.11.3\",\"si\":100}' defer=\"\" integrity=\"sha512-0ahDYl866UMhKuYcW078ScMalXqtFJggm7TmlUtp0UlD4eQk0Ixfnm5ykXKvGJNFjLMoortdseTfsRT8oCfgGA==\" src=\"https://static.cloudflareinsights.com/beacon.min.js/vaafb692b2aea4879b33c060e79fe94621666317369993\"></script>\n",
       "</link></link></body>\n",
       "</html>"
      ]
     },
     "execution_count": 90,
     "metadata": {},
     "output_type": "execute_result"
    }
   ],
   "source": [
    "soup"
   ]
  },
  {
   "cell_type": "code",
   "execution_count": null,
   "id": "20b9081b-94c6-4d42-ad47-b9543e8c53f6",
   "metadata": {},
   "outputs": [],
   "source": []
  }
 ],
 "metadata": {
  "kernelspec": {
   "display_name": "Python 3 (ipykernel)",
   "language": "python",
   "name": "python3"
  },
  "language_info": {
   "codemirror_mode": {
    "name": "ipython",
    "version": 3
   },
   "file_extension": ".py",
   "mimetype": "text/x-python",
   "name": "python",
   "nbconvert_exporter": "python",
   "pygments_lexer": "ipython3",
   "version": "3.9.12"
  }
 },
 "nbformat": 4,
 "nbformat_minor": 5
}

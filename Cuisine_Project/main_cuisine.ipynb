{
 "cells": [
  {
   "cell_type": "code",
   "execution_count": 1,
   "id": "421ac2d7-706a-4073-858b-2714eaafb68e",
   "metadata": {},
   "outputs": [],
   "source": [
    "import pandas as pd\n",
    "\n",
    "import warnings\n",
    "warnings.simplefilter(action= 'ignore')"
   ]
  },
  {
   "cell_type": "code",
   "execution_count": 2,
   "id": "4c352acb-2db9-48cb-97eb-1ea71a7c960e",
   "metadata": {
    "collapsed": true,
    "jupyter": {
     "outputs_hidden": true
    },
    "tags": []
   },
   "outputs": [
    {
     "name": "stderr",
     "output_type": "stream",
     "text": [
      "/opt/anaconda3/lib/python3.9/site-packages/_distutils_hack/__init__.py:30: UserWarning: Setuptools is replacing distutils.\n",
      "  warnings.warn(\"Setuptools is replacing distutils.\")\n"
     ]
    },
    {
     "name": "stdout",
     "output_type": "stream",
     "text": [
      "\n",
      "INSTALLED VERSIONS\n",
      "------------------\n",
      "commit           : 4bfe3d07b4858144c219b9346329027024102ab6\n",
      "python           : 3.9.12.final.0\n",
      "python-bits      : 64\n",
      "OS               : Darwin\n",
      "OS-release       : 20.3.0\n",
      "Version          : Darwin Kernel Version 20.3.0: Thu Jan 21 00:07:06 PST 2021; root:xnu-7195.81.3~1/RELEASE_X86_64\n",
      "machine          : x86_64\n",
      "processor        : i386\n",
      "byteorder        : little\n",
      "LC_ALL           : None\n",
      "LANG             : None\n",
      "LOCALE           : None.UTF-8\n",
      "\n",
      "pandas           : 1.4.2\n",
      "numpy            : 1.22.4\n",
      "pytz             : 2021.3\n",
      "dateutil         : 2.8.2\n",
      "pip              : 21.2.4\n",
      "setuptools       : 61.2.0\n",
      "Cython           : 0.29.28\n",
      "pytest           : 7.1.1\n",
      "hypothesis       : None\n",
      "sphinx           : 4.4.0\n",
      "blosc            : None\n",
      "feather          : None\n",
      "xlsxwriter       : 3.0.2\n",
      "lxml.etree       : 4.8.0\n",
      "html5lib         : 1.1\n",
      "pymysql          : None\n",
      "psycopg2         : None\n",
      "jinja2           : 2.11.3\n",
      "IPython          : 8.2.0\n",
      "pandas_datareader: None\n",
      "bs4              : 4.11.1\n",
      "bottleneck       : 1.3.4\n",
      "brotli           : \n",
      "fastparquet      : None\n",
      "fsspec           : 2022.02.0\n",
      "gcsfs            : None\n",
      "markupsafe       : 2.0.1\n",
      "matplotlib       : 3.5.1\n",
      "numba            : None\n",
      "numexpr          : 2.8.1\n",
      "odfpy            : None\n",
      "openpyxl         : 3.0.9\n",
      "pandas_gbq       : None\n",
      "pyarrow          : None\n",
      "pyreadstat       : None\n",
      "pyxlsb           : None\n",
      "s3fs             : None\n",
      "scipy            : 1.7.3\n",
      "snappy           : \n",
      "sqlalchemy       : 1.4.32\n",
      "tables           : 3.6.1\n",
      "tabulate         : 0.8.9\n",
      "xarray           : 0.20.1\n",
      "xlrd             : 2.0.1\n",
      "xlwt             : None\n",
      "zstandard        : None\n"
     ]
    }
   ],
   "source": [
    "pd.show_versions()\n",
    "\n",
    "import sys\n",
    "!{sys.executable} -m pip install scapy\n",
    "!{sys.executable} -m pip install pipenv\n",
    "\n",
    "path = '/Users/macbook/Desktop/projects/Github_Repositories/Trainings/Cuisine_Project'\n",
    "\n",
    "'''\n",
    "01 - Terminali ac \n",
    "scrapy startproject cuisine   =====> cuisien dosya adi istedigini yaz\n",
    "\n",
    "02 - sipders adli klasor icine git \n",
    "python dosyasi olustur (benim doya web_spiders adinda)\n",
    "name , start_url , parse ===> bunlarin isimleri degismiyor !!!\n",
    "\n",
    "03 - termilde ana klasore git 'cuisine'\n",
    "scrapy crawl web_cuisines    === > name yaziliyor web_cuisinies \n",
    "eger hata alirsan \"Win32Api\" hatasi\n",
    "install pywin32\n",
    "\n",
    "04 -  scrapy SHELL\n",
    "scrapy shell https://www.allrecipes.com/cuisine-a-z-6740455 ====> response 200 gorelbilirsin\n",
    "daha sonra terminale asagidakini yaz\n",
    "response.css('title::text').extract()\n",
    "response.css('title::text')[0].extract()\n",
    "response.css('title::text').extract_first()\n",
    "\n",
    "\n",
    "05 - Google Chrome Extention\n",
    "google chrome selector gadget =====> bunu yukle\n",
    "\n",
    "06 - secme secenekleri\n",
    "    6.1 - response.css('span.title::text').extract() ====> CSS selector\n",
    "    6.2 - response.xpath(\"//span[@class='title']/text\").extract() ====> XPATH selector\n",
    "    6.3 - response.css('form input::')\n",
    "    \n",
    "    \n",
    "07 - butun isimleri bulmak icin\n",
    "response.css('a.type--dog-link::text').extract()\n",
    "\n",
    "08- items a git\n",
    "\n",
    "\n",
    "\n",
    "\n",
    "10 - to csv , json\n",
    "scrapy crawl cuisine -o items.csv"
   ]
  },
  {
   "cell_type": "code",
   "execution_count": null,
   "id": "29ee9ae7-30ce-4a80-9499-4c540dec8a94",
   "metadata": {},
   "outputs": [],
   "source": []
  }
 ],
 "metadata": {
  "kernelspec": {
   "display_name": "Python 3 (ipykernel)",
   "language": "python",
   "name": "python3"
  },
  "language_info": {
   "codemirror_mode": {
    "name": "ipython",
    "version": 3
   },
   "file_extension": ".py",
   "mimetype": "text/x-python",
   "name": "python",
   "nbconvert_exporter": "python",
   "pygments_lexer": "ipython3",
   "version": "3.9.12"
  }
 },
 "nbformat": 4,
 "nbformat_minor": 5
}

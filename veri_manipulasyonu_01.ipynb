{
 "cells": [
  {
   "cell_type": "markdown",
   "id": "ea1ee793-d05f-4eb7-9ffc-33b2f4e2b030",
   "metadata": {},
   "source": [
    "# Neden Numpy ? (One #)"
   ]
  },
  {
   "cell_type": "markdown",
   "id": "04d479c2-20f3-411f-a232-ca9f9cd80f8c",
   "metadata": {},
   "source": [
    "## Alt baslik (Double ##) "
   ]
  },
  {
   "cell_type": "markdown",
   "id": "f1d67cf4-ff53-4348-82a7-ac8abb38278b",
   "metadata": {
    "tags": []
   },
   "source": [
    "## Hucreler bazinda islemler\n",
    "\n",
    "    b alta satir ekler\n",
    "    c kopyalar\n",
    "    x siler \n",
    "    v yapistirir"
   ]
  },
  {
   "cell_type": "code",
   "execution_count": 8,
   "id": "9a45d5ba-862b-413f-abe3-5eb9c9d0e550",
   "metadata": {},
   "outputs": [
    {
     "data": {
      "text/plain": [
       "[5, 6, 7, 8]"
      ]
     },
     "execution_count": 8,
     "metadata": {},
     "output_type": "execute_result"
    }
   ],
   "source": [
    "a = [1,2,3,4]\n",
    "b = [5,6,7,8]\n",
    "a\n",
    "b # sadece en son satir calisir"
   ]
  },
  {
   "cell_type": "code",
   "execution_count": 7,
   "id": "5bff0e5a-9a5a-4636-9ba9-7eccc630fb5b",
   "metadata": {},
   "outputs": [
    {
     "data": {
      "text/plain": [
       "[1, 2, 3, 4]"
      ]
     },
     "execution_count": 7,
     "metadata": {},
     "output_type": "execute_result"
    }
   ],
   "source": [
    "a"
   ]
  },
  {
   "cell_type": "code",
   "execution_count": 10,
   "id": "1d36a173-3a33-4665-87e1-0a48b6911a74",
   "metadata": {},
   "outputs": [],
   "source": [
    "import numpy as np"
   ]
  },
  {
   "cell_type": "code",
   "execution_count": 20,
   "id": "2c04dd66-db44-49e3-a30d-d481ff9cbf92",
   "metadata": {},
   "outputs": [],
   "source": [
    "a = np.array([1,2,3,4])\n",
    "b = np.array([5,3,9,10])"
   ]
  },
  {
   "cell_type": "code",
   "execution_count": 21,
   "id": "871dcdd8-f8c1-44dc-9513-805a92f31989",
   "metadata": {},
   "outputs": [
    {
     "data": {
      "text/plain": [
       "array([ 5,  6, 27, 40])"
      ]
     },
     "execution_count": 21,
     "metadata": {},
     "output_type": "execute_result"
    }
   ],
   "source": [
    "a*b"
   ]
  },
  {
   "cell_type": "code",
   "execution_count": 22,
   "id": "20f12e41-9e58-4a09-b5c2-41fbb4bd810b",
   "metadata": {},
   "outputs": [
    {
     "data": {
      "text/plain": [
       "array([-4, -1, -6, -6])"
      ]
     },
     "execution_count": 22,
     "metadata": {},
     "output_type": "execute_result"
    }
   ],
   "source": [
    "a-b"
   ]
  },
  {
   "cell_type": "code",
   "execution_count": 23,
   "id": "c95db94a-6971-4d26-be27-4da07d95feab",
   "metadata": {},
   "outputs": [
    {
     "data": {
      "text/plain": [
       "array([4, 1, 6, 6])"
      ]
     },
     "execution_count": 23,
     "metadata": {},
     "output_type": "execute_result"
    }
   ],
   "source": [
    "b-a"
   ]
  },
  {
   "cell_type": "code",
   "execution_count": 24,
   "id": "b159bf33-49b1-4d39-89b7-4c6e720b87ea",
   "metadata": {},
   "outputs": [
    {
     "data": {
      "text/plain": [
       "array([0.2       , 0.66666667, 0.33333333, 0.4       ])"
      ]
     },
     "execution_count": 24,
     "metadata": {},
     "output_type": "execute_result"
    }
   ],
   "source": [
    "a/b"
   ]
  },
  {
   "cell_type": "code",
   "execution_count": 25,
   "id": "6b905d8d-8f3a-4f99-896a-ec326b220f9c",
   "metadata": {},
   "outputs": [
    {
     "data": {
      "text/plain": [
       "array([      1,       8,   19683, 1048576])"
      ]
     },
     "execution_count": 25,
     "metadata": {},
     "output_type": "execute_result"
    }
   ],
   "source": [
    "a**b"
   ]
  },
  {
   "cell_type": "code",
   "execution_count": 26,
   "id": "299118cc-f082-4449-9bd6-4a22e038b819",
   "metadata": {},
   "outputs": [
    {
     "data": {
      "text/plain": [
       "numpy.ndarray"
      ]
     },
     "execution_count": 26,
     "metadata": {},
     "output_type": "execute_result"
    }
   ],
   "source": [
    "type(a)"
   ]
  },
  {
   "cell_type": "code",
   "execution_count": 28,
   "id": "7a275a00-2365-482c-ab47-5697866d6763",
   "metadata": {},
   "outputs": [
    {
     "data": {
      "text/plain": [
       "array([ 3.14,  4.  ,  2.  , 13.  ])"
      ]
     },
     "execution_count": 28,
     "metadata": {},
     "output_type": "execute_result"
    }
   ],
   "source": [
    "np.array([3.14, 4, 2, 13])"
   ]
  },
  {
   "cell_type": "markdown",
   "id": "5b77a75a-a7bd-41bc-9ddd-5c9c48aa7f37",
   "metadata": {},
   "source": [
    "## np.array([1,2,3], dtype = 'float32')\n",
    "\n",
    "dtye = 'float32' , dtype = 'int'"
   ]
  },
  {
   "cell_type": "code",
   "execution_count": 30,
   "id": "626b4fe6-bca0-4218-b012-383e4ea94a5d",
   "metadata": {},
   "outputs": [
    {
     "data": {
      "text/plain": [
       "array([ 3.14,  4.  ,  2.  , 13.  ], dtype=float32)"
      ]
     },
     "execution_count": 30,
     "metadata": {},
     "output_type": "execute_result"
    }
   ],
   "source": [
    "np.array([3.14, 4, 2, 13], dtype = 'float32')"
   ]
  },
  {
   "cell_type": "code",
   "execution_count": 32,
   "id": "bede5d32-dd17-4962-a473-60945b84e005",
   "metadata": {},
   "outputs": [
    {
     "data": {
      "text/plain": [
       "array([ 3,  4,  2, 13])"
      ]
     },
     "execution_count": 32,
     "metadata": {},
     "output_type": "execute_result"
    }
   ],
   "source": [
    "np.array([3.14, 4, 2, 13], dtype = int)"
   ]
  },
  {
   "cell_type": "code",
   "execution_count": 65,
   "id": "12689e63-452f-4075-aa5c-2321dd7c562a",
   "metadata": {},
   "outputs": [
    {
     "data": {
      "text/plain": [
       "array(['3.14', '2'], dtype='<U4')"
      ]
     },
     "execution_count": 65,
     "metadata": {},
     "output_type": "execute_result"
    }
   ],
   "source": [
    "np.array([3.14, 2], dtype = str)"
   ]
  },
  {
   "cell_type": "code",
   "execution_count": 33,
   "id": "97136561-73ad-42bb-af01-e502d6458e95",
   "metadata": {},
   "outputs": [],
   "source": [
    "# Sifirdan array olusturma"
   ]
  },
  {
   "cell_type": "code",
   "execution_count": 35,
   "id": "04a6b103-c3d3-4f8f-bfc7-0660372d06c5",
   "metadata": {},
   "outputs": [
    {
     "data": {
      "text/plain": [
       "array([0, 0, 0, 0, 0, 0, 0, 0, 0, 0])"
      ]
     },
     "execution_count": 35,
     "metadata": {},
     "output_type": "execute_result"
    }
   ],
   "source": [
    "np.zeros(10, dtype = int)"
   ]
  },
  {
   "cell_type": "code",
   "execution_count": 36,
   "id": "12abad0d-fc78-40f9-ab96-b5dcddf2ada7",
   "metadata": {},
   "outputs": [
    {
     "data": {
      "text/plain": [
       "array([[1, 1, 1, 1, 1],\n",
       "       [1, 1, 1, 1, 1],\n",
       "       [1, 1, 1, 1, 1]])"
      ]
     },
     "execution_count": 36,
     "metadata": {},
     "output_type": "execute_result"
    }
   ],
   "source": [
    "np.ones((3,5), dtype = int)"
   ]
  },
  {
   "cell_type": "code",
   "execution_count": 38,
   "id": "3292d79c-617a-459d-9d14-95451b1c3239",
   "metadata": {},
   "outputs": [
    {
     "data": {
      "text/plain": [
       "array([[3., 3., 3., 3., 3., 3.],\n",
       "       [3., 3., 3., 3., 3., 3.],\n",
       "       [3., 3., 3., 3., 3., 3.]], dtype=float32)"
      ]
     },
     "execution_count": 38,
     "metadata": {},
     "output_type": "execute_result"
    }
   ],
   "source": [
    "np.full((3,6), 3, dtype = 'float32')"
   ]
  },
  {
   "cell_type": "code",
   "execution_count": 47,
   "id": "06320f6f-c229-4c33-a7ea-6ecece0c8f27",
   "metadata": {},
   "outputs": [
    {
     "data": {
      "text/plain": [
       "array([[3.4, 3.4, 3.4, 3.4, 3.4, 3.4],\n",
       "       [3.4, 3.4, 3.4, 3.4, 3.4, 3.4]])"
      ]
     },
     "execution_count": 47,
     "metadata": {},
     "output_type": "execute_result"
    }
   ],
   "source": [
    "np.full((2,6), 3.4)"
   ]
  },
  {
   "cell_type": "code",
   "execution_count": 50,
   "id": "69e17e75-a828-4729-bb61-15f4182c17c7",
   "metadata": {},
   "outputs": [
    {
     "data": {
      "text/plain": [
       "array([ 0,  4,  8, 12, 16, 20, 24, 28])"
      ]
     },
     "execution_count": 50,
     "metadata": {},
     "output_type": "execute_result"
    }
   ],
   "source": [
    "np.arange(0,30, 4) # 0 dan 30 kadar 4 er 4 er dogrusal dizi olusur"
   ]
  },
  {
   "cell_type": "code",
   "execution_count": 51,
   "id": "34f6e105-4be3-4781-b277-f96729abfdd3",
   "metadata": {},
   "outputs": [
    {
     "data": {
      "text/plain": [
       "array([0.        , 0.11111111, 0.22222222, 0.33333333, 0.44444444,\n",
       "       0.55555556, 0.66666667, 0.77777778, 0.88888889, 1.        ])"
      ]
     },
     "execution_count": 51,
     "metadata": {},
     "output_type": "execute_result"
    }
   ],
   "source": [
    "np.linspace(0,1, 10) #0 ile 1 arasini 10 esit parcaya bolen dograsl dizi"
   ]
  },
  {
   "cell_type": "code",
   "execution_count": 52,
   "id": "8cbc23f5-e34b-4f6a-a9a2-756235ab30cf",
   "metadata": {},
   "outputs": [],
   "source": [
    "ln1 = np.linspace(0,1, 10) #0 ile 1 arasini 10 esit parcaya bolen dograsl dizi"
   ]
  },
  {
   "cell_type": "code",
   "execution_count": 53,
   "id": "3160efb3-0a09-41c2-af37-6559c729c74d",
   "metadata": {},
   "outputs": [
    {
     "data": {
      "text/plain": [
       "numpy.ndarray"
      ]
     },
     "execution_count": 53,
     "metadata": {},
     "output_type": "execute_result"
    }
   ],
   "source": [
    "type(ln1)"
   ]
  },
  {
   "cell_type": "code",
   "execution_count": 55,
   "id": "3a97be67-3612-4ef5-963c-079484b5306f",
   "metadata": {},
   "outputs": [],
   "source": [
    "ar01 = np.ones((3,5), dtype = int)"
   ]
  },
  {
   "cell_type": "code",
   "execution_count": 56,
   "id": "4c2a4543-8e8f-4777-9172-69230a4b73e2",
   "metadata": {},
   "outputs": [
    {
     "data": {
      "text/plain": [
       "array([[1, 1, 1, 1, 1],\n",
       "       [1, 1, 1, 1, 1],\n",
       "       [1, 1, 1, 1, 1]])"
      ]
     },
     "execution_count": 56,
     "metadata": {},
     "output_type": "execute_result"
    }
   ],
   "source": [
    "ar01"
   ]
  },
  {
   "cell_type": "code",
   "execution_count": 57,
   "id": "bdcb8d24-9b49-4609-8015-a6be0e661def",
   "metadata": {},
   "outputs": [
    {
     "data": {
      "text/plain": [
       "numpy.ndarray"
      ]
     },
     "execution_count": 57,
     "metadata": {},
     "output_type": "execute_result"
    }
   ],
   "source": [
    "type(ar01)"
   ]
  },
  {
   "cell_type": "code",
   "execution_count": 58,
   "id": "ef255dcb-d10c-4fb6-a7a5-1a1f3a691607",
   "metadata": {},
   "outputs": [],
   "source": [
    "# tek boyutlu array = Vektor\n",
    "# 2 boyutlu array = matris"
   ]
  },
  {
   "cell_type": "code",
   "execution_count": 59,
   "id": "d3dcdf32-494b-4f0e-a859-f2346dccf500",
   "metadata": {},
   "outputs": [
    {
     "data": {
      "text/plain": [
       "array([[11.27721022,  9.72255407,  7.82698843,  6.6349811 ],\n",
       "       [11.66131088, 12.66209187,  6.4169959 , 10.59090116],\n",
       "       [ 8.52984072,  8.01139976, 14.7891896 ,  8.43135898]])"
      ]
     },
     "execution_count": 59,
     "metadata": {},
     "output_type": "execute_result"
    }
   ],
   "source": [
    "np.random.normal(10, 4, (3,4)) # ortalamasi 10 standart sapmasi 4 olan 3,4 Matris "
   ]
  },
  {
   "cell_type": "code",
   "execution_count": 61,
   "id": "34429463-4411-4117-84c9-14b944a831a8",
   "metadata": {},
   "outputs": [
    {
     "data": {
      "text/plain": [
       "array([[ 4, 15, 13],\n",
       "       [14,  2, 18],\n",
       "       [ 1,  3,  2]])"
      ]
     },
     "execution_count": 61,
     "metadata": {},
     "output_type": "execute_result"
    }
   ],
   "source": [
    "np.random.randint(0,20, (3,3)) #RandomInteger #0-20 arasindan Random 3,3 Matris olustur"
   ]
  },
  {
   "cell_type": "code",
   "execution_count": null,
   "id": "a31b00d5-a48d-4689-aaf8-424a3a76c611",
   "metadata": {},
   "outputs": [],
   "source": []
  },
  {
   "cell_type": "code",
   "execution_count": null,
   "id": "ef0722a7-bee2-4932-a239-bd67e64185b1",
   "metadata": {},
   "outputs": [],
   "source": []
  }
 ],
 "metadata": {
  "kernelspec": {
   "display_name": "Python 3 (ipykernel)",
   "language": "python",
   "name": "python3"
  },
  "language_info": {
   "codemirror_mode": {
    "name": "ipython",
    "version": 3
   },
   "file_extension": ".py",
   "mimetype": "text/x-python",
   "name": "python",
   "nbconvert_exporter": "python",
   "pygments_lexer": "ipython3",
   "version": "3.8.8"
  }
 },
 "nbformat": 4,
 "nbformat_minor": 5
}

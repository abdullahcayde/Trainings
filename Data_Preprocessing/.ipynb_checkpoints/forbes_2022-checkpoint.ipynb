{
 "cells": [
  {
   "cell_type": "code",
   "execution_count": 1,
   "id": "ed521266-02a3-4749-a57f-bfaa49a2dfd0",
   "metadata": {},
   "outputs": [],
   "source": [
    "import numpy as np\n",
    "import pandas as pd\n",
    "import seaborn as sns\n",
    "\n",
    "import warnings\n",
    "warnings.simplefilter(action='ignore')\n",
    "\n",
    "# Grafik Ayarlari\n",
    "# Arka tarf cizgili olur\n",
    "sns.set_theme(style=\"whitegrid\")"
   ]
  },
  {
   "cell_type": "markdown",
   "id": "9657c7a5-c690-4d07-a913-d60651f5f217",
   "metadata": {
    "tags": []
   },
   "source": [
    "## <font color='red'>Ozel Ayarlar</font>"
   ]
  },
  {
   "cell_type": "code",
   "execution_count": 137,
   "id": "0d2c5c48-cd07-490a-a96a-eeb729b023a7",
   "metadata": {
    "tags": []
   },
   "outputs": [],
   "source": [
    "import warnings\n",
    "warnings.simplefilter(action='ignore')\n",
    "\n",
    "#Butun kolon ve satirlari gormek icin\n",
    "pd.set_option('display.max_columns', None)\n",
    "#pd.set_option('display.max_rows', None)\n",
    "\n",
    "#virgulden sonra gösterilecek olan sayı 2 basamak olarak ayarlanıyor.\n",
    "pd.set_option('display.float_format', lambda x: '%.2f' % x)\n",
    "\n",
    "# Grafik Ayarlari\n",
    "# Arka tarf cizgili olur\n",
    "sns.set_theme(style=\"whitegrid\")"
   ]
  },
  {
   "cell_type": "code",
   "execution_count": 2,
   "id": "67daffa0-3fab-49cf-8bad-80a763a1928a",
   "metadata": {},
   "outputs": [
    {
     "data": {
      "text/html": [
       "<div>\n",
       "<style scoped>\n",
       "    .dataframe tbody tr th:only-of-type {\n",
       "        vertical-align: middle;\n",
       "    }\n",
       "\n",
       "    .dataframe tbody tr th {\n",
       "        vertical-align: top;\n",
       "    }\n",
       "\n",
       "    .dataframe thead th {\n",
       "        text-align: right;\n",
       "    }\n",
       "</style>\n",
       "<table border=\"1\" class=\"dataframe\">\n",
       "  <thead>\n",
       "    <tr style=\"text-align: right;\">\n",
       "      <th></th>\n",
       "      <th>rank</th>\n",
       "      <th>personName</th>\n",
       "      <th>age</th>\n",
       "      <th>finalWorth</th>\n",
       "      <th>year</th>\n",
       "      <th>month</th>\n",
       "      <th>category</th>\n",
       "      <th>source</th>\n",
       "      <th>country</th>\n",
       "      <th>state</th>\n",
       "      <th>...</th>\n",
       "      <th>organization</th>\n",
       "      <th>selfMade</th>\n",
       "      <th>gender</th>\n",
       "      <th>birthDate</th>\n",
       "      <th>title</th>\n",
       "      <th>philanthropyScore</th>\n",
       "      <th>residenceMsa</th>\n",
       "      <th>numberOfSiblings</th>\n",
       "      <th>bio</th>\n",
       "      <th>about</th>\n",
       "    </tr>\n",
       "  </thead>\n",
       "  <tbody>\n",
       "    <tr>\n",
       "      <th>0</th>\n",
       "      <td>1</td>\n",
       "      <td>Elon Musk</td>\n",
       "      <td>50.0</td>\n",
       "      <td>219000.0</td>\n",
       "      <td>2022</td>\n",
       "      <td>4</td>\n",
       "      <td>Automotive</td>\n",
       "      <td>Tesla, SpaceX</td>\n",
       "      <td>United States</td>\n",
       "      <td>Texas</td>\n",
       "      <td>...</td>\n",
       "      <td>Tesla</td>\n",
       "      <td>True</td>\n",
       "      <td>M</td>\n",
       "      <td>1971-06-28</td>\n",
       "      <td>CEO</td>\n",
       "      <td>1.0</td>\n",
       "      <td>NaN</td>\n",
       "      <td>NaN</td>\n",
       "      <td>Elon Musk is working to revolutionize transpor...</td>\n",
       "      <td>Musk was accepted to a graduate program at Sta...</td>\n",
       "    </tr>\n",
       "    <tr>\n",
       "      <th>1</th>\n",
       "      <td>2</td>\n",
       "      <td>Jeff Bezos</td>\n",
       "      <td>58.0</td>\n",
       "      <td>171000.0</td>\n",
       "      <td>2022</td>\n",
       "      <td>4</td>\n",
       "      <td>Technology</td>\n",
       "      <td>Amazon</td>\n",
       "      <td>United States</td>\n",
       "      <td>Washington</td>\n",
       "      <td>...</td>\n",
       "      <td>Amazon</td>\n",
       "      <td>True</td>\n",
       "      <td>M</td>\n",
       "      <td>1964-01-12</td>\n",
       "      <td>Entrepreneur</td>\n",
       "      <td>1.0</td>\n",
       "      <td>Seattle-Tacoma-Bellevue, WA</td>\n",
       "      <td>NaN</td>\n",
       "      <td>Jeff Bezos founded e-commerce giant Amazon in ...</td>\n",
       "      <td>Growing up, Jeff Bezos worked summers on his g...</td>\n",
       "    </tr>\n",
       "    <tr>\n",
       "      <th>2</th>\n",
       "      <td>3</td>\n",
       "      <td>Bernard Arnault &amp; family</td>\n",
       "      <td>73.0</td>\n",
       "      <td>158000.0</td>\n",
       "      <td>2022</td>\n",
       "      <td>4</td>\n",
       "      <td>Fashion &amp; Retail</td>\n",
       "      <td>LVMH</td>\n",
       "      <td>France</td>\n",
       "      <td>NaN</td>\n",
       "      <td>...</td>\n",
       "      <td>LVMH Moët Hennessy Louis Vuitton</td>\n",
       "      <td>False</td>\n",
       "      <td>M</td>\n",
       "      <td>1949-03-05</td>\n",
       "      <td>Chairman and CEO</td>\n",
       "      <td>NaN</td>\n",
       "      <td>NaN</td>\n",
       "      <td>NaN</td>\n",
       "      <td>Bernard Arnault oversees the LVMH empire of so...</td>\n",
       "      <td>Arnault apparently wooed his wife, Helene Merc...</td>\n",
       "    </tr>\n",
       "    <tr>\n",
       "      <th>3</th>\n",
       "      <td>4</td>\n",
       "      <td>Bill Gates</td>\n",
       "      <td>66.0</td>\n",
       "      <td>129000.0</td>\n",
       "      <td>2022</td>\n",
       "      <td>4</td>\n",
       "      <td>Technology</td>\n",
       "      <td>Microsoft</td>\n",
       "      <td>United States</td>\n",
       "      <td>Washington</td>\n",
       "      <td>...</td>\n",
       "      <td>Bill &amp; Melinda Gates Foundation</td>\n",
       "      <td>True</td>\n",
       "      <td>M</td>\n",
       "      <td>1955-10-28</td>\n",
       "      <td>Cofounder</td>\n",
       "      <td>4.0</td>\n",
       "      <td>Seattle-Tacoma-Bellevue, WA</td>\n",
       "      <td>NaN</td>\n",
       "      <td>Bill Gates turned his fortune from software fi...</td>\n",
       "      <td>When Gates was a kid, he spent so much time re...</td>\n",
       "    </tr>\n",
       "    <tr>\n",
       "      <th>4</th>\n",
       "      <td>5</td>\n",
       "      <td>Warren Buffett</td>\n",
       "      <td>91.0</td>\n",
       "      <td>118000.0</td>\n",
       "      <td>2022</td>\n",
       "      <td>4</td>\n",
       "      <td>Finance &amp; Investments</td>\n",
       "      <td>Berkshire Hathaway</td>\n",
       "      <td>United States</td>\n",
       "      <td>Nebraska</td>\n",
       "      <td>...</td>\n",
       "      <td>Berkshire Hathaway</td>\n",
       "      <td>True</td>\n",
       "      <td>M</td>\n",
       "      <td>1930-08-30</td>\n",
       "      <td>CEO</td>\n",
       "      <td>5.0</td>\n",
       "      <td>Omaha, NE</td>\n",
       "      <td>NaN</td>\n",
       "      <td>Known as the \"Oracle of Omaha,\" Warren Buffett...</td>\n",
       "      <td>Buffett still lives in the same Omaha, Nebrask...</td>\n",
       "    </tr>\n",
       "  </tbody>\n",
       "</table>\n",
       "<p>5 rows × 22 columns</p>\n",
       "</div>"
      ],
      "text/plain": [
       "   rank                personName   age  finalWorth  year  month  \\\n",
       "0     1                 Elon Musk  50.0    219000.0  2022      4   \n",
       "1     2                Jeff Bezos  58.0    171000.0  2022      4   \n",
       "2     3  Bernard Arnault & family  73.0    158000.0  2022      4   \n",
       "3     4                Bill Gates  66.0    129000.0  2022      4   \n",
       "4     5            Warren Buffett  91.0    118000.0  2022      4   \n",
       "\n",
       "                category              source        country       state  ...  \\\n",
       "0             Automotive       Tesla, SpaceX  United States       Texas  ...   \n",
       "1             Technology              Amazon  United States  Washington  ...   \n",
       "2       Fashion & Retail                LVMH         France         NaN  ...   \n",
       "3             Technology           Microsoft  United States  Washington  ...   \n",
       "4  Finance & Investments  Berkshire Hathaway  United States    Nebraska  ...   \n",
       "\n",
       "                       organization selfMade gender   birthDate  \\\n",
       "0                             Tesla     True      M  1971-06-28   \n",
       "1                            Amazon     True      M  1964-01-12   \n",
       "2  LVMH Moët Hennessy Louis Vuitton    False      M  1949-03-05   \n",
       "3   Bill & Melinda Gates Foundation     True      M  1955-10-28   \n",
       "4                Berkshire Hathaway     True      M  1930-08-30   \n",
       "\n",
       "              title philanthropyScore                 residenceMsa  \\\n",
       "0               CEO               1.0                          NaN   \n",
       "1      Entrepreneur               1.0  Seattle-Tacoma-Bellevue, WA   \n",
       "2  Chairman and CEO               NaN                          NaN   \n",
       "3         Cofounder               4.0  Seattle-Tacoma-Bellevue, WA   \n",
       "4               CEO               5.0                    Omaha, NE   \n",
       "\n",
       "   numberOfSiblings                                                bio  \\\n",
       "0               NaN  Elon Musk is working to revolutionize transpor...   \n",
       "1               NaN  Jeff Bezos founded e-commerce giant Amazon in ...   \n",
       "2               NaN  Bernard Arnault oversees the LVMH empire of so...   \n",
       "3               NaN  Bill Gates turned his fortune from software fi...   \n",
       "4               NaN  Known as the \"Oracle of Omaha,\" Warren Buffett...   \n",
       "\n",
       "                                               about  \n",
       "0  Musk was accepted to a graduate program at Sta...  \n",
       "1  Growing up, Jeff Bezos worked summers on his g...  \n",
       "2  Arnault apparently wooed his wife, Helene Merc...  \n",
       "3  When Gates was a kid, he spent so much time re...  \n",
       "4  Buffett still lives in the same Omaha, Nebrask...  \n",
       "\n",
       "[5 rows x 22 columns]"
      ]
     },
     "execution_count": 2,
     "metadata": {},
     "output_type": "execute_result"
    }
   ],
   "source": [
    "df = pd.read_csv('/Users/macbook/Desktop/projects/Github_Repositories/Trainings/Data_Preprocessing/forbes_2022_billionaires.csv')\n",
    "df.head()"
   ]
  },
  {
   "cell_type": "code",
   "execution_count": 3,
   "id": "eb9e6ab4-a1ba-49e9-9529-014f0bcad305",
   "metadata": {},
   "outputs": [
    {
     "data": {
      "text/plain": [
       "Index(['rank', 'personName', 'age', 'finalWorth', 'year', 'month', 'category',\n",
       "       'source', 'country', 'state', 'city', 'countryOfCitizenship',\n",
       "       'organization', 'selfMade', 'gender', 'birthDate', 'title',\n",
       "       'philanthropyScore', 'residenceMsa', 'numberOfSiblings', 'bio',\n",
       "       'about'],\n",
       "      dtype='object')"
      ]
     },
     "execution_count": 3,
     "metadata": {},
     "output_type": "execute_result"
    }
   ],
   "source": [
    "df.columns"
   ]
  },
  {
   "cell_type": "code",
   "execution_count": 4,
   "id": "3a14ba06-e0ea-48b8-b6ed-59ae8ad0172d",
   "metadata": {},
   "outputs": [
    {
     "data": {
      "text/html": [
       "<div>\n",
       "<style scoped>\n",
       "    .dataframe tbody tr th:only-of-type {\n",
       "        vertical-align: middle;\n",
       "    }\n",
       "\n",
       "    .dataframe tbody tr th {\n",
       "        vertical-align: top;\n",
       "    }\n",
       "\n",
       "    .dataframe thead th {\n",
       "        text-align: right;\n",
       "    }\n",
       "</style>\n",
       "<table border=\"1\" class=\"dataframe\">\n",
       "  <thead>\n",
       "    <tr style=\"text-align: right;\">\n",
       "      <th></th>\n",
       "      <th>rank</th>\n",
       "      <th>personName</th>\n",
       "      <th>finalWorth</th>\n",
       "    </tr>\n",
       "  </thead>\n",
       "  <tbody>\n",
       "    <tr>\n",
       "      <th>0</th>\n",
       "      <td>1</td>\n",
       "      <td>Elon Musk</td>\n",
       "      <td>219000.0</td>\n",
       "    </tr>\n",
       "    <tr>\n",
       "      <th>1</th>\n",
       "      <td>2</td>\n",
       "      <td>Jeff Bezos</td>\n",
       "      <td>171000.0</td>\n",
       "    </tr>\n",
       "    <tr>\n",
       "      <th>2</th>\n",
       "      <td>3</td>\n",
       "      <td>Bernard Arnault &amp; family</td>\n",
       "      <td>158000.0</td>\n",
       "    </tr>\n",
       "    <tr>\n",
       "      <th>3</th>\n",
       "      <td>4</td>\n",
       "      <td>Bill Gates</td>\n",
       "      <td>129000.0</td>\n",
       "    </tr>\n",
       "    <tr>\n",
       "      <th>4</th>\n",
       "      <td>5</td>\n",
       "      <td>Warren Buffett</td>\n",
       "      <td>118000.0</td>\n",
       "    </tr>\n",
       "    <tr>\n",
       "      <th>...</th>\n",
       "      <td>...</td>\n",
       "      <td>...</td>\n",
       "      <td>...</td>\n",
       "    </tr>\n",
       "    <tr>\n",
       "      <th>2663</th>\n",
       "      <td>2578</td>\n",
       "      <td>Zhang Yuqiang</td>\n",
       "      <td>1000.0</td>\n",
       "    </tr>\n",
       "    <tr>\n",
       "      <th>2664</th>\n",
       "      <td>2578</td>\n",
       "      <td>Zhou Ruxin</td>\n",
       "      <td>1000.0</td>\n",
       "    </tr>\n",
       "    <tr>\n",
       "      <th>2665</th>\n",
       "      <td>2578</td>\n",
       "      <td>Wen Zhou &amp; family</td>\n",
       "      <td>1000.0</td>\n",
       "    </tr>\n",
       "    <tr>\n",
       "      <th>2666</th>\n",
       "      <td>2578</td>\n",
       "      <td>Zhou Yifeng &amp; family</td>\n",
       "      <td>1000.0</td>\n",
       "    </tr>\n",
       "    <tr>\n",
       "      <th>2667</th>\n",
       "      <td>2578</td>\n",
       "      <td>Zhuang Kuilong &amp; family</td>\n",
       "      <td>1000.0</td>\n",
       "    </tr>\n",
       "  </tbody>\n",
       "</table>\n",
       "<p>2668 rows × 3 columns</p>\n",
       "</div>"
      ],
      "text/plain": [
       "      rank                personName  finalWorth\n",
       "0        1                 Elon Musk    219000.0\n",
       "1        2                Jeff Bezos    171000.0\n",
       "2        3  Bernard Arnault & family    158000.0\n",
       "3        4                Bill Gates    129000.0\n",
       "4        5            Warren Buffett    118000.0\n",
       "...    ...                       ...         ...\n",
       "2663  2578             Zhang Yuqiang      1000.0\n",
       "2664  2578                Zhou Ruxin      1000.0\n",
       "2665  2578         Wen Zhou & family      1000.0\n",
       "2666  2578      Zhou Yifeng & family      1000.0\n",
       "2667  2578   Zhuang Kuilong & family      1000.0\n",
       "\n",
       "[2668 rows x 3 columns]"
      ]
     },
     "execution_count": 4,
     "metadata": {},
     "output_type": "execute_result"
    }
   ],
   "source": [
    "df.loc[:,['rank', 'personName' ,'finalWorth']]"
   ]
  },
  {
   "cell_type": "code",
   "execution_count": 5,
   "id": "59733956-9345-4501-843a-4def34656805",
   "metadata": {},
   "outputs": [
    {
     "data": {
      "text/html": [
       "<div>\n",
       "<style scoped>\n",
       "    .dataframe tbody tr th:only-of-type {\n",
       "        vertical-align: middle;\n",
       "    }\n",
       "\n",
       "    .dataframe tbody tr th {\n",
       "        vertical-align: top;\n",
       "    }\n",
       "\n",
       "    .dataframe thead th {\n",
       "        text-align: right;\n",
       "    }\n",
       "</style>\n",
       "<table border=\"1\" class=\"dataframe\">\n",
       "  <thead>\n",
       "    <tr style=\"text-align: right;\">\n",
       "      <th></th>\n",
       "      <th>Sira</th>\n",
       "      <th>Name</th>\n",
       "      <th>age</th>\n",
       "      <th>finalWorth</th>\n",
       "      <th>year</th>\n",
       "      <th>month</th>\n",
       "      <th>category</th>\n",
       "      <th>source</th>\n",
       "      <th>country</th>\n",
       "      <th>state</th>\n",
       "      <th>...</th>\n",
       "      <th>organization</th>\n",
       "      <th>selfMade</th>\n",
       "      <th>gender</th>\n",
       "      <th>birthDate</th>\n",
       "      <th>title</th>\n",
       "      <th>philanthropyScore</th>\n",
       "      <th>residenceMsa</th>\n",
       "      <th>numberOfSiblings</th>\n",
       "      <th>bio</th>\n",
       "      <th>about</th>\n",
       "    </tr>\n",
       "  </thead>\n",
       "  <tbody>\n",
       "    <tr>\n",
       "      <th>0</th>\n",
       "      <td>1</td>\n",
       "      <td>Elon Musk</td>\n",
       "      <td>50.0</td>\n",
       "      <td>219000.0</td>\n",
       "      <td>2022</td>\n",
       "      <td>4</td>\n",
       "      <td>Automotive</td>\n",
       "      <td>Tesla, SpaceX</td>\n",
       "      <td>United States</td>\n",
       "      <td>Texas</td>\n",
       "      <td>...</td>\n",
       "      <td>Tesla</td>\n",
       "      <td>True</td>\n",
       "      <td>M</td>\n",
       "      <td>1971-06-28</td>\n",
       "      <td>CEO</td>\n",
       "      <td>1.0</td>\n",
       "      <td>NaN</td>\n",
       "      <td>NaN</td>\n",
       "      <td>Elon Musk is working to revolutionize transpor...</td>\n",
       "      <td>Musk was accepted to a graduate program at Sta...</td>\n",
       "    </tr>\n",
       "    <tr>\n",
       "      <th>1</th>\n",
       "      <td>2</td>\n",
       "      <td>Jeff Bezos</td>\n",
       "      <td>58.0</td>\n",
       "      <td>171000.0</td>\n",
       "      <td>2022</td>\n",
       "      <td>4</td>\n",
       "      <td>Technology</td>\n",
       "      <td>Amazon</td>\n",
       "      <td>United States</td>\n",
       "      <td>Washington</td>\n",
       "      <td>...</td>\n",
       "      <td>Amazon</td>\n",
       "      <td>True</td>\n",
       "      <td>M</td>\n",
       "      <td>1964-01-12</td>\n",
       "      <td>Entrepreneur</td>\n",
       "      <td>1.0</td>\n",
       "      <td>Seattle-Tacoma-Bellevue, WA</td>\n",
       "      <td>NaN</td>\n",
       "      <td>Jeff Bezos founded e-commerce giant Amazon in ...</td>\n",
       "      <td>Growing up, Jeff Bezos worked summers on his g...</td>\n",
       "    </tr>\n",
       "    <tr>\n",
       "      <th>2</th>\n",
       "      <td>3</td>\n",
       "      <td>Bernard Arnault &amp; family</td>\n",
       "      <td>73.0</td>\n",
       "      <td>158000.0</td>\n",
       "      <td>2022</td>\n",
       "      <td>4</td>\n",
       "      <td>Fashion &amp; Retail</td>\n",
       "      <td>LVMH</td>\n",
       "      <td>France</td>\n",
       "      <td>NaN</td>\n",
       "      <td>...</td>\n",
       "      <td>LVMH Moët Hennessy Louis Vuitton</td>\n",
       "      <td>False</td>\n",
       "      <td>M</td>\n",
       "      <td>1949-03-05</td>\n",
       "      <td>Chairman and CEO</td>\n",
       "      <td>NaN</td>\n",
       "      <td>NaN</td>\n",
       "      <td>NaN</td>\n",
       "      <td>Bernard Arnault oversees the LVMH empire of so...</td>\n",
       "      <td>Arnault apparently wooed his wife, Helene Merc...</td>\n",
       "    </tr>\n",
       "    <tr>\n",
       "      <th>3</th>\n",
       "      <td>4</td>\n",
       "      <td>Bill Gates</td>\n",
       "      <td>66.0</td>\n",
       "      <td>129000.0</td>\n",
       "      <td>2022</td>\n",
       "      <td>4</td>\n",
       "      <td>Technology</td>\n",
       "      <td>Microsoft</td>\n",
       "      <td>United States</td>\n",
       "      <td>Washington</td>\n",
       "      <td>...</td>\n",
       "      <td>Bill &amp; Melinda Gates Foundation</td>\n",
       "      <td>True</td>\n",
       "      <td>M</td>\n",
       "      <td>1955-10-28</td>\n",
       "      <td>Cofounder</td>\n",
       "      <td>4.0</td>\n",
       "      <td>Seattle-Tacoma-Bellevue, WA</td>\n",
       "      <td>NaN</td>\n",
       "      <td>Bill Gates turned his fortune from software fi...</td>\n",
       "      <td>When Gates was a kid, he spent so much time re...</td>\n",
       "    </tr>\n",
       "    <tr>\n",
       "      <th>4</th>\n",
       "      <td>5</td>\n",
       "      <td>Warren Buffett</td>\n",
       "      <td>91.0</td>\n",
       "      <td>118000.0</td>\n",
       "      <td>2022</td>\n",
       "      <td>4</td>\n",
       "      <td>Finance &amp; Investments</td>\n",
       "      <td>Berkshire Hathaway</td>\n",
       "      <td>United States</td>\n",
       "      <td>Nebraska</td>\n",
       "      <td>...</td>\n",
       "      <td>Berkshire Hathaway</td>\n",
       "      <td>True</td>\n",
       "      <td>M</td>\n",
       "      <td>1930-08-30</td>\n",
       "      <td>CEO</td>\n",
       "      <td>5.0</td>\n",
       "      <td>Omaha, NE</td>\n",
       "      <td>NaN</td>\n",
       "      <td>Known as the \"Oracle of Omaha,\" Warren Buffett...</td>\n",
       "      <td>Buffett still lives in the same Omaha, Nebrask...</td>\n",
       "    </tr>\n",
       "  </tbody>\n",
       "</table>\n",
       "<p>5 rows × 22 columns</p>\n",
       "</div>"
      ],
      "text/plain": [
       "   Sira                      Name   age  finalWorth  year  month  \\\n",
       "0     1                 Elon Musk  50.0    219000.0  2022      4   \n",
       "1     2                Jeff Bezos  58.0    171000.0  2022      4   \n",
       "2     3  Bernard Arnault & family  73.0    158000.0  2022      4   \n",
       "3     4                Bill Gates  66.0    129000.0  2022      4   \n",
       "4     5            Warren Buffett  91.0    118000.0  2022      4   \n",
       "\n",
       "                category              source        country       state  ...  \\\n",
       "0             Automotive       Tesla, SpaceX  United States       Texas  ...   \n",
       "1             Technology              Amazon  United States  Washington  ...   \n",
       "2       Fashion & Retail                LVMH         France         NaN  ...   \n",
       "3             Technology           Microsoft  United States  Washington  ...   \n",
       "4  Finance & Investments  Berkshire Hathaway  United States    Nebraska  ...   \n",
       "\n",
       "                       organization selfMade gender   birthDate  \\\n",
       "0                             Tesla     True      M  1971-06-28   \n",
       "1                            Amazon     True      M  1964-01-12   \n",
       "2  LVMH Moët Hennessy Louis Vuitton    False      M  1949-03-05   \n",
       "3   Bill & Melinda Gates Foundation     True      M  1955-10-28   \n",
       "4                Berkshire Hathaway     True      M  1930-08-30   \n",
       "\n",
       "              title philanthropyScore                 residenceMsa  \\\n",
       "0               CEO               1.0                          NaN   \n",
       "1      Entrepreneur               1.0  Seattle-Tacoma-Bellevue, WA   \n",
       "2  Chairman and CEO               NaN                          NaN   \n",
       "3         Cofounder               4.0  Seattle-Tacoma-Bellevue, WA   \n",
       "4               CEO               5.0                    Omaha, NE   \n",
       "\n",
       "   numberOfSiblings                                                bio  \\\n",
       "0               NaN  Elon Musk is working to revolutionize transpor...   \n",
       "1               NaN  Jeff Bezos founded e-commerce giant Amazon in ...   \n",
       "2               NaN  Bernard Arnault oversees the LVMH empire of so...   \n",
       "3               NaN  Bill Gates turned his fortune from software fi...   \n",
       "4               NaN  Known as the \"Oracle of Omaha,\" Warren Buffett...   \n",
       "\n",
       "                                               about  \n",
       "0  Musk was accepted to a graduate program at Sta...  \n",
       "1  Growing up, Jeff Bezos worked summers on his g...  \n",
       "2  Arnault apparently wooed his wife, Helene Merc...  \n",
       "3  When Gates was a kid, he spent so much time re...  \n",
       "4  Buffett still lives in the same Omaha, Nebrask...  \n",
       "\n",
       "[5 rows x 22 columns]"
      ]
     },
     "execution_count": 5,
     "metadata": {},
     "output_type": "execute_result"
    }
   ],
   "source": [
    "df = df.rename(columns = {'rank': 'Sira',\n",
    "                    'personName' : 'Name'})\n",
    "df.head()"
   ]
  },
  {
   "cell_type": "code",
   "execution_count": 24,
   "id": "60ba40c8-753f-4c01-9f03-c51516a4d77c",
   "metadata": {},
   "outputs": [
    {
     "data": {
      "text/plain": [
       "RangeIndex(start=0, stop=2668, step=1)"
      ]
     },
     "execution_count": 24,
     "metadata": {},
     "output_type": "execute_result"
    }
   ],
   "source": [
    "df.index"
   ]
  },
  {
   "cell_type": "code",
   "execution_count": 32,
   "id": "777d5d54-3727-4132-91d4-7acc4e7ed416",
   "metadata": {},
   "outputs": [
    {
     "data": {
      "text/plain": [
       "Int64Index([   1,    2,    3,    4,    5,    6,    7,    8,    9,   10,\n",
       "            ...\n",
       "            2578, 2578, 2578, 2578, 2578, 2578, 2578, 2578, 2578, 2578],\n",
       "           dtype='int64', name='Sira', length=2668)"
      ]
     },
     "execution_count": 32,
     "metadata": {},
     "output_type": "execute_result"
    }
   ],
   "source": [
    "df = df.set_index('Sira')\n",
    "df.index"
   ]
  },
  {
   "cell_type": "code",
   "execution_count": 35,
   "id": "71067e89-562b-43af-8e5a-80c5ee05f2d5",
   "metadata": {},
   "outputs": [
    {
     "data": {
      "text/plain": [
       "Name                       0\n",
       "age                       86\n",
       "finalWorth                 0\n",
       "year                       0\n",
       "month                      0\n",
       "category                   0\n",
       "source                     0\n",
       "country                   13\n",
       "state                   1920\n",
       "city                      44\n",
       "countryOfCitizenship       0\n",
       "organization            2316\n",
       "selfMade                   0\n",
       "gender                    16\n",
       "birthDate                 99\n",
       "title                   2267\n",
       "philanthropyScore       2272\n",
       "residenceMsa            2029\n",
       "numberOfSiblings        2541\n",
       "bio                        0\n",
       "about                   1106\n",
       "dtype: int64"
      ]
     },
     "execution_count": 35,
     "metadata": {},
     "output_type": "execute_result"
    }
   ],
   "source": [
    "df.isnull().sum()"
   ]
  },
  {
   "cell_type": "code",
   "execution_count": 41,
   "id": "8f800df9-e963-49b3-8146-654f6dc3ac67",
   "metadata": {},
   "outputs": [
    {
     "data": {
      "text/plain": [
       "array(['Texas', 'Washington', nan, 'Nebraska', 'California', 'Hawaii',\n",
       "       'New York', 'Arkansas', 'Kansas', 'Oregon', 'Virginia', 'Wyoming',\n",
       "       'Nevada', 'Illinois', 'Connecticut', 'Michigan', 'Tennessee',\n",
       "       'Massachusetts', 'Florida', 'Oklahoma', 'Wisconsin',\n",
       "       'Pennsylvania', 'Indiana', 'Colorado', 'Missouri', 'Georgia',\n",
       "       'Arizona', 'Kentucky', 'North Carolina', 'Iowa', 'Montana',\n",
       "       'New Jersey', 'Maryland', 'Ohio', 'Louisiana', 'South Dakota',\n",
       "       'Utah', 'Idaho', 'Maine', 'Minnesota', 'Rhode Island',\n",
       "       'Mississippi', 'South Carolina'], dtype=object)"
      ]
     },
     "execution_count": 41,
     "metadata": {},
     "output_type": "execute_result"
    }
   ],
   "source": [
    "df['state'].unique()"
   ]
  },
  {
   "cell_type": "code",
   "execution_count": 42,
   "id": "4e9e9c14-65e2-4c31-9861-c186a69204d6",
   "metadata": {},
   "outputs": [],
   "source": [
    "# df.dropna(inplace= True)"
   ]
  },
  {
   "cell_type": "code",
   "execution_count": 44,
   "id": "9bfbf7ae-d870-4c24-af3b-3fcfe54f463c",
   "metadata": {},
   "outputs": [
    {
     "data": {
      "text/plain": [
       "M    2341\n",
       "F     311\n",
       "Name: gender, dtype: int64"
      ]
     },
     "execution_count": 44,
     "metadata": {},
     "output_type": "execute_result"
    }
   ],
   "source": [
    "df['gender'].value_counts()"
   ]
  },
  {
   "cell_type": "code",
   "execution_count": 46,
   "id": "ee602e88-a088-4ccc-9b9a-edcba9eae013",
   "metadata": {},
   "outputs": [
    {
     "data": {
      "text/plain": [
       "M    0.88273\n",
       "F    0.11727\n",
       "Name: gender, dtype: float64"
      ]
     },
     "execution_count": 46,
     "metadata": {},
     "output_type": "execute_result"
    }
   ],
   "source": [
    "df['gender'].value_counts(normalize= True)"
   ]
  },
  {
   "cell_type": "code",
   "execution_count": 48,
   "id": "8f2cc3a9-abd3-4a65-9be3-447dfb04d949",
   "metadata": {},
   "outputs": [
    {
     "data": {
      "text/plain": [
       "Sira\n",
       "1       False\n",
       "2       False\n",
       "3       False\n",
       "4       False\n",
       "5       False\n",
       "        ...  \n",
       "2578    False\n",
       "2578    False\n",
       "2578    False\n",
       "2578    False\n",
       "2578    False\n",
       "Name: country, Length: 2668, dtype: bool"
      ]
     },
     "execution_count": 48,
     "metadata": {},
     "output_type": "execute_result"
    }
   ],
   "source": [
    "df['country'] == 'Turkey'"
   ]
  },
  {
   "cell_type": "code",
   "execution_count": 57,
   "id": "cf18c052-748f-4b96-afae-d5eff89a69f8",
   "metadata": {},
   "outputs": [
    {
     "data": {
      "text/plain": [
       "(23, 21)"
      ]
     },
     "execution_count": 57,
     "metadata": {},
     "output_type": "execute_result"
    }
   ],
   "source": [
    "df[df['country'] == 'Turkey'].shape"
   ]
  },
  {
   "cell_type": "code",
   "execution_count": 66,
   "id": "f85a3038-293d-4abc-96a9-e77a4864e437",
   "metadata": {},
   "outputs": [
    {
     "data": {
      "text/plain": [
       "M    19\n",
       "F     4\n",
       "Name: gender, dtype: int64"
      ]
     },
     "execution_count": 66,
     "metadata": {},
     "output_type": "execute_result"
    }
   ],
   "source": [
    "df[df['country'] == 'Turkey']['gender'].value_counts()"
   ]
  },
  {
   "cell_type": "code",
   "execution_count": 58,
   "id": "9878c634-2162-4cbb-a035-1848a102006e",
   "metadata": {},
   "outputs": [
    {
     "data": {
      "text/plain": [
       "M    0.826087\n",
       "F    0.173913\n",
       "Name: gender, dtype: float64"
      ]
     },
     "execution_count": 58,
     "metadata": {},
     "output_type": "execute_result"
    }
   ],
   "source": [
    "df[df['country'] == 'Turkey'].gender.value_counts(normalize= True)"
   ]
  },
  {
   "cell_type": "code",
   "execution_count": 68,
   "id": "d08440f4-bab0-49e4-a5b7-f891b7cd36f8",
   "metadata": {},
   "outputs": [
    {
     "data": {
      "text/plain": [
       "array(['United States', 'France', 'India', 'Mexico', 'China', 'Singapore',\n",
       "       'Spain', 'Canada', 'Germany', 'Switzerland', 'Belgium',\n",
       "       'Hong Kong', 'United Kingdom', 'Australia', 'Austria', 'Italy',\n",
       "       'Japan', 'Bahamas', 'Indonesia', nan, 'Chile', 'Russia', 'Sweden',\n",
       "       'Czechia', 'Monaco', 'United Arab Emirates', 'Nigeria', 'Denmark',\n",
       "       'Thailand', 'Malaysia', 'Brazil', 'Colombia', 'New Zealand',\n",
       "       'South Korea', 'South Africa', 'Philippines', 'Egypt', 'Taiwan',\n",
       "       'Israel', 'Vietnam', 'Poland', 'Norway', 'Cayman Islands',\n",
       "       'Netherlands', 'Eswatini (Swaziland)', 'Peru', 'Algeria',\n",
       "       'Kazakhstan', 'Georgia', 'Portugal', 'British Virgin Islands',\n",
       "       'Turkey', 'Finland', 'Ukraine', 'Argentina', 'Ireland', 'Bermuda',\n",
       "       'Lebanon', 'Cambodia', 'Oman', 'Guernsey', 'Liechtenstein',\n",
       "       'Turks and Caicos Islands', 'Qatar', 'Morocco', 'Uruguay',\n",
       "       'Slovakia', 'Romania', 'Nepal', 'Tanzania', 'Bahrain', 'Greece',\n",
       "       'Hungary', 'Andorra'], dtype=object)"
      ]
     },
     "execution_count": 68,
     "metadata": {},
     "output_type": "execute_result"
    }
   ],
   "source": [
    "df.country.unique()"
   ]
  },
  {
   "cell_type": "code",
   "execution_count": 71,
   "id": "56244b45-5fa7-4aef-a88f-5b520ec67b01",
   "metadata": {},
   "outputs": [
    {
     "data": {
      "text/plain": [
       "M    84\n",
       "F    27\n",
       "Name: gender, dtype: int64"
      ]
     },
     "execution_count": 71,
     "metadata": {},
     "output_type": "execute_result"
    }
   ],
   "source": [
    "df[df['country'] == 'Germany'].gender.value_counts()"
   ]
  },
  {
   "cell_type": "code",
   "execution_count": 72,
   "id": "14febc42-d9b1-44a5-bb8c-b7a2a8445612",
   "metadata": {},
   "outputs": [
    {
     "data": {
      "text/plain": [
       "M    0.756757\n",
       "F    0.243243\n",
       "Name: gender, dtype: float64"
      ]
     },
     "execution_count": 72,
     "metadata": {},
     "output_type": "execute_result"
    }
   ],
   "source": [
    "df[df['country'] == 'Germany'].gender.value_counts(normalize= True)"
   ]
  },
  {
   "cell_type": "code",
   "execution_count": 88,
   "id": "92f7bf4d-57df-40e4-8307-a23401fb6481",
   "metadata": {},
   "outputs": [
    {
     "data": {
      "text/plain": [
       "Fashion & Retail         0.238095\n",
       "Manufacturing            0.178571\n",
       "Healthcare               0.142857\n",
       "Technology               0.095238\n",
       "Food & Beverage          0.083333\n",
       "Automotive               0.071429\n",
       "Finance & Investments    0.071429\n",
       "Media & Entertainment    0.059524\n",
       "Real Estate              0.023810\n",
       "Energy                   0.011905\n",
       "Gambling & Casinos       0.011905\n",
       "Service                  0.011905\n",
       "Name: category, dtype: float64"
      ]
     },
     "execution_count": 88,
     "metadata": {},
     "output_type": "execute_result"
    }
   ],
   "source": [
    "df[(df['country'] == 'Germany') & (df.gender == 'M')].category.value_counts(normalize= True)"
   ]
  },
  {
   "cell_type": "code",
   "execution_count": 89,
   "id": "17e438a0-7b18-46eb-98e0-ffd93b8d5ec4",
   "metadata": {},
   "outputs": [
    {
     "data": {
      "text/plain": [
       "<pandas.core.groupby.generic.DataFrameGroupBy object at 0x7fb7b6aa8190>"
      ]
     },
     "execution_count": 89,
     "metadata": {},
     "output_type": "execute_result"
    }
   ],
   "source": [
    "df_cinsiyet = df.groupby(['gender'])\n",
    "df_cinsiyet"
   ]
  },
  {
   "cell_type": "code",
   "execution_count": 92,
   "id": "2b5fa87b-fecb-4c58-8221-841b4dbc864c",
   "metadata": {},
   "outputs": [
    {
     "data": {
      "text/plain": [
       "gender\n",
       "F    62.798611\n",
       "M    64.392045\n",
       "Name: age, dtype: float64"
      ]
     },
     "execution_count": 92,
     "metadata": {},
     "output_type": "execute_result"
    }
   ],
   "source": [
    "df_cinsiyet['age'].mean()"
   ]
  },
  {
   "cell_type": "code",
   "execution_count": 98,
   "id": "3338b17d-a7d1-4a74-a268-d4b8528e3610",
   "metadata": {},
   "outputs": [
    {
     "data": {
      "text/plain": [
       "gender\n",
       "F    4647.266881\n",
       "M    4759.696711\n",
       "Name: finalWorth, dtype: float64"
      ]
     },
     "execution_count": 98,
     "metadata": {},
     "output_type": "execute_result"
    }
   ],
   "source": [
    "df_cinsiyet['finalWorth'].mean()"
   ]
  },
  {
   "cell_type": "code",
   "execution_count": 105,
   "id": "454a893c-28a2-4585-b003-2015c769b1e9",
   "metadata": {},
   "outputs": [
    {
     "data": {
      "text/plain": [
       "count    2582.000000\n",
       "mean       64.210689\n",
       "std        13.401258\n",
       "min        19.000000\n",
       "25%        55.000000\n",
       "50%        64.000000\n",
       "75%        74.000000\n",
       "max       100.000000\n",
       "Name: age, dtype: float64"
      ]
     },
     "execution_count": 105,
     "metadata": {},
     "output_type": "execute_result"
    }
   ],
   "source": [
    "df['age'].describe()"
   ]
  },
  {
   "cell_type": "code",
   "execution_count": 116,
   "id": "7715707a-8a4c-4b48-a7c3-5f3cc24eeacf",
   "metadata": {},
   "outputs": [
    {
     "data": {
      "image/png": "[encoded data removed]",
      "text/plain": [
       "<Figure size 432x288 with 1 Axes>"
      ]
     },
     "metadata": {},
     "output_type": "display_data"
    }
   ],
   "source": [
    "sns.boxplot(x= 'age', data= df);"
   ]
  },
  {
   "cell_type": "code",
   "execution_count": 122,
   "id": "9588fb14-abc1-4723-ab62-b7e441cd8af9",
   "metadata": {},
   "outputs": [
    {
     "data": {
      "image/png": "[encoded data removed]",
      "text/plain": [
       "<Figure size 432x288 with 1 Axes>"
      ]
     },
     "metadata": {},
     "output_type": "display_data"
    }
   ],
   "source": [
    "sns.barplot(x= 'gender',y= 'finalWorth', data= df);"
   ]
  },
  {
   "cell_type": "code",
   "execution_count": 136,
   "id": "ef04208c-d7be-484d-a52d-0cdeb71a71b6",
   "metadata": {},
   "outputs": [
    {
     "data": {
      "image/png": "[encoded data removed]",
      "text/plain": [
       "<Figure size 432x288 with 1 Axes>"
      ]
     },
     "metadata": {},
     "output_type": "display_data"
    }
   ],
   "source": [
    "df['gender'].value_counts().plot.barh();"
   ]
  },
  {
   "cell_type": "code",
   "execution_count": 139,
   "id": "77f0513e-ee7a-47ff-9e19-b4c62dbf24ef",
   "metadata": {},
   "outputs": [
    {
     "data": {
      "text/plain": [
       "56028"
      ]
     },
     "execution_count": 139,
     "metadata": {},
     "output_type": "execute_result"
    }
   ],
   "source": [
    "df.size"
   ]
  },
  {
   "cell_type": "code",
   "execution_count": 150,
   "id": "c68b75cd-fd1e-46b1-a2f3-5a4a32dbd21b",
   "metadata": {},
   "outputs": [
    {
     "data": {
      "text/plain": [
       "gender\n",
       "F     311\n",
       "M    2341\n",
       "dtype: int64"
      ]
     },
     "execution_count": 150,
     "metadata": {},
     "output_type": "execute_result"
    }
   ],
   "source": [
    "df_cinsiyet.size()"
   ]
  },
  {
   "cell_type": "code",
   "execution_count": 152,
   "id": "020e5a7d-3386-4959-adbf-6535198f41e3",
   "metadata": {},
   "outputs": [
    {
     "data": {
      "image/png": "[encoded data removed]",
      "text/plain": [
       "<Figure size 432x288 with 1 Axes>"
      ]
     },
     "metadata": {},
     "output_type": "display_data"
    }
   ],
   "source": [
    "df_cinsiyet.size().plot.bar();"
   ]
  },
  {
   "cell_type": "code",
   "execution_count": 8,
   "id": "0a554f4e-d711-4492-a0b6-4f6652733976",
   "metadata": {},
   "outputs": [
    {
     "name": "stdout",
     "output_type": "stream",
     "text": [
      "<class 'pandas.core.frame.DataFrame'>\n",
      "RangeIndex: 2668 entries, 0 to 2667\n",
      "Data columns (total 22 columns):\n",
      " #   Column                Non-Null Count  Dtype  \n",
      "---  ------                --------------  -----  \n",
      " 0   Sira                  2668 non-null   int64  \n",
      " 1   Name                  2668 non-null   object \n",
      " 2   age                   2582 non-null   float64\n",
      " 3   finalWorth            2668 non-null   float64\n",
      " 4   year                  2668 non-null   int64  \n",
      " 5   month                 2668 non-null   int64  \n",
      " 6   category              2668 non-null   object \n",
      " 7   source                2668 non-null   object \n",
      " 8   country               2655 non-null   object \n",
      " 9   state                 748 non-null    object \n",
      " 10  city                  2624 non-null   object \n",
      " 11  countryOfCitizenship  2668 non-null   object \n",
      " 12  organization          352 non-null    object \n",
      " 13  selfMade              2668 non-null   bool   \n",
      " 14  gender                2652 non-null   object \n",
      " 15  birthDate             2569 non-null   object \n",
      " 16  title                 401 non-null    object \n",
      " 17  philanthropyScore     396 non-null    float64\n",
      " 18  residenceMsa          639 non-null    object \n",
      " 19  numberOfSiblings      127 non-null    float64\n",
      " 20  bio                   2668 non-null   object \n",
      " 21  about                 1562 non-null   object \n",
      "dtypes: bool(1), float64(4), int64(3), object(14)\n",
      "memory usage: 440.4+ KB\n"
     ]
    }
   ],
   "source": [
    "df.info()"
   ]
  },
  {
   "cell_type": "code",
   "execution_count": 9,
   "id": "92c3c419-13bc-4865-b5f8-047e754262a0",
   "metadata": {},
   "outputs": [
    {
     "data": {
      "text/html": [
       "<div>\n",
       "<style scoped>\n",
       "    .dataframe tbody tr th:only-of-type {\n",
       "        vertical-align: middle;\n",
       "    }\n",
       "\n",
       "    .dataframe tbody tr th {\n",
       "        vertical-align: top;\n",
       "    }\n",
       "\n",
       "    .dataframe thead th {\n",
       "        text-align: right;\n",
       "    }\n",
       "</style>\n",
       "<table border=\"1\" class=\"dataframe\">\n",
       "  <thead>\n",
       "    <tr style=\"text-align: right;\">\n",
       "      <th></th>\n",
       "      <th>Sira</th>\n",
       "      <th>Name</th>\n",
       "      <th>age</th>\n",
       "      <th>finalWorth</th>\n",
       "      <th>year</th>\n",
       "      <th>month</th>\n",
       "      <th>category</th>\n",
       "      <th>source</th>\n",
       "      <th>country</th>\n",
       "      <th>state</th>\n",
       "      <th>...</th>\n",
       "      <th>organization</th>\n",
       "      <th>selfMade</th>\n",
       "      <th>gender</th>\n",
       "      <th>birthDate</th>\n",
       "      <th>title</th>\n",
       "      <th>philanthropyScore</th>\n",
       "      <th>residenceMsa</th>\n",
       "      <th>numberOfSiblings</th>\n",
       "      <th>bio</th>\n",
       "      <th>about</th>\n",
       "    </tr>\n",
       "  </thead>\n",
       "  <tbody>\n",
       "    <tr>\n",
       "      <th>0</th>\n",
       "      <td>1</td>\n",
       "      <td>Elon Musk</td>\n",
       "      <td>50.0</td>\n",
       "      <td>219000.0</td>\n",
       "      <td>2022</td>\n",
       "      <td>4</td>\n",
       "      <td>Automotive</td>\n",
       "      <td>Tesla, SpaceX</td>\n",
       "      <td>United States</td>\n",
       "      <td>Texas</td>\n",
       "      <td>...</td>\n",
       "      <td>Tesla</td>\n",
       "      <td>True</td>\n",
       "      <td>M</td>\n",
       "      <td>1971-06-28</td>\n",
       "      <td>CEO</td>\n",
       "      <td>1.0</td>\n",
       "      <td>NaN</td>\n",
       "      <td>NaN</td>\n",
       "      <td>Elon Musk is working to revolutionize transpor...</td>\n",
       "      <td>Musk was accepted to a graduate program at Sta...</td>\n",
       "    </tr>\n",
       "    <tr>\n",
       "      <th>1</th>\n",
       "      <td>2</td>\n",
       "      <td>Jeff Bezos</td>\n",
       "      <td>58.0</td>\n",
       "      <td>171000.0</td>\n",
       "      <td>2022</td>\n",
       "      <td>4</td>\n",
       "      <td>Technology</td>\n",
       "      <td>Amazon</td>\n",
       "      <td>United States</td>\n",
       "      <td>Washington</td>\n",
       "      <td>...</td>\n",
       "      <td>Amazon</td>\n",
       "      <td>True</td>\n",
       "      <td>M</td>\n",
       "      <td>1964-01-12</td>\n",
       "      <td>Entrepreneur</td>\n",
       "      <td>1.0</td>\n",
       "      <td>Seattle-Tacoma-Bellevue, WA</td>\n",
       "      <td>NaN</td>\n",
       "      <td>Jeff Bezos founded e-commerce giant Amazon in ...</td>\n",
       "      <td>Growing up, Jeff Bezos worked summers on his g...</td>\n",
       "    </tr>\n",
       "  </tbody>\n",
       "</table>\n",
       "<p>2 rows × 22 columns</p>\n",
       "</div>"
      ],
      "text/plain": [
       "   Sira        Name   age  finalWorth  year  month    category         source  \\\n",
       "0     1   Elon Musk  50.0    219000.0  2022      4  Automotive  Tesla, SpaceX   \n",
       "1     2  Jeff Bezos  58.0    171000.0  2022      4  Technology         Amazon   \n",
       "\n",
       "         country       state  ... organization selfMade gender   birthDate  \\\n",
       "0  United States       Texas  ...        Tesla     True      M  1971-06-28   \n",
       "1  United States  Washington  ...       Amazon     True      M  1964-01-12   \n",
       "\n",
       "          title philanthropyScore                 residenceMsa  \\\n",
       "0           CEO               1.0                          NaN   \n",
       "1  Entrepreneur               1.0  Seattle-Tacoma-Bellevue, WA   \n",
       "\n",
       "   numberOfSiblings                                                bio  \\\n",
       "0               NaN  Elon Musk is working to revolutionize transpor...   \n",
       "1               NaN  Jeff Bezos founded e-commerce giant Amazon in ...   \n",
       "\n",
       "                                               about  \n",
       "0  Musk was accepted to a graduate program at Sta...  \n",
       "1  Growing up, Jeff Bezos worked summers on his g...  \n",
       "\n",
       "[2 rows x 22 columns]"
      ]
     },
     "execution_count": 9,
     "metadata": {},
     "output_type": "execute_result"
    }
   ],
   "source": [
    "df.head(2)"
   ]
  },
  {
   "cell_type": "code",
   "execution_count": 10,
   "id": "e231f70d-36b1-4824-a9ea-a89e18f9b6bc",
   "metadata": {},
   "outputs": [
    {
     "data": {
      "text/plain": [
       "array([ True, False])"
      ]
     },
     "execution_count": 10,
     "metadata": {},
     "output_type": "execute_result"
    }
   ],
   "source": [
    "df.selfMade.unique()"
   ]
  },
  {
   "cell_type": "code",
   "execution_count": 34,
   "id": "cf9f663e-e5c5-4991-950d-6b6e4871f773",
   "metadata": {},
   "outputs": [
    {
     "data": {
      "text/html": [
       "<div>\n",
       "<style scoped>\n",
       "    .dataframe tbody tr th:only-of-type {\n",
       "        vertical-align: middle;\n",
       "    }\n",
       "\n",
       "    .dataframe tbody tr th {\n",
       "        vertical-align: top;\n",
       "    }\n",
       "\n",
       "    .dataframe thead th {\n",
       "        text-align: right;\n",
       "    }\n",
       "</style>\n",
       "<table border=\"1\" class=\"dataframe\">\n",
       "  <thead>\n",
       "    <tr style=\"text-align: right;\">\n",
       "      <th></th>\n",
       "      <th></th>\n",
       "      <th>finalWorth</th>\n",
       "    </tr>\n",
       "    <tr>\n",
       "      <th>gender</th>\n",
       "      <th>category</th>\n",
       "      <th></th>\n",
       "    </tr>\n",
       "  </thead>\n",
       "  <tbody>\n",
       "    <tr>\n",
       "      <th rowspan=\"18\" valign=\"top\">F</th>\n",
       "      <th>Automotive</th>\n",
       "      <td>8025.000000</td>\n",
       "    </tr>\n",
       "    <tr>\n",
       "      <th>Construction &amp; Engineering</th>\n",
       "      <td>3183.333333</td>\n",
       "    </tr>\n",
       "    <tr>\n",
       "      <th>Diversified</th>\n",
       "      <td>5107.142857</td>\n",
       "    </tr>\n",
       "    <tr>\n",
       "      <th>Energy</th>\n",
       "      <td>5911.111111</td>\n",
       "    </tr>\n",
       "    <tr>\n",
       "      <th>Fashion &amp; Retail</th>\n",
       "      <td>7490.625000</td>\n",
       "    </tr>\n",
       "    <tr>\n",
       "      <th>Finance &amp; Investments</th>\n",
       "      <td>3774.074074</td>\n",
       "    </tr>\n",
       "    <tr>\n",
       "      <th>Food &amp; Beverage</th>\n",
       "      <td>4838.461538</td>\n",
       "    </tr>\n",
       "    <tr>\n",
       "      <th>Gambling &amp; Casinos</th>\n",
       "      <td>9450.000000</td>\n",
       "    </tr>\n",
       "    <tr>\n",
       "      <th>Healthcare</th>\n",
       "      <td>2717.647059</td>\n",
       "    </tr>\n",
       "    <tr>\n",
       "      <th>Logistics</th>\n",
       "      <td>2933.333333</td>\n",
       "    </tr>\n",
       "    <tr>\n",
       "      <th>Manufacturing</th>\n",
       "      <td>2574.418605</td>\n",
       "    </tr>\n",
       "    <tr>\n",
       "      <th>Media &amp; Entertainment</th>\n",
       "      <td>3850.000000</td>\n",
       "    </tr>\n",
       "    <tr>\n",
       "      <th>Metals &amp; Mining</th>\n",
       "      <td>9944.444444</td>\n",
       "    </tr>\n",
       "    <tr>\n",
       "      <th>Real Estate</th>\n",
       "      <td>4528.571429</td>\n",
       "    </tr>\n",
       "    <tr>\n",
       "      <th>Service</th>\n",
       "      <td>3725.000000</td>\n",
       "    </tr>\n",
       "    <tr>\n",
       "      <th>Sports</th>\n",
       "      <td>4000.000000</td>\n",
       "    </tr>\n",
       "    <tr>\n",
       "      <th>Technology</th>\n",
       "      <td>5060.000000</td>\n",
       "    </tr>\n",
       "    <tr>\n",
       "      <th>Telecom</th>\n",
       "      <td>1200.000000</td>\n",
       "    </tr>\n",
       "    <tr>\n",
       "      <th rowspan=\"18\" valign=\"top\">M</th>\n",
       "      <th>Automotive</th>\n",
       "      <td>8366.153846</td>\n",
       "    </tr>\n",
       "    <tr>\n",
       "      <th>Construction &amp; Engineering</th>\n",
       "      <td>2620.000000</td>\n",
       "    </tr>\n",
       "    <tr>\n",
       "      <th>Diversified</th>\n",
       "      <td>5243.708609</td>\n",
       "    </tr>\n",
       "    <tr>\n",
       "      <th>Energy</th>\n",
       "      <td>4001.162791</td>\n",
       "    </tr>\n",
       "    <tr>\n",
       "      <th>Fashion &amp; Retail</th>\n",
       "      <td>6199.065421</td>\n",
       "    </tr>\n",
       "    <tr>\n",
       "      <th>Finance &amp; Investments</th>\n",
       "      <td>4492.817680</td>\n",
       "    </tr>\n",
       "    <tr>\n",
       "      <th>Food &amp; Beverage</th>\n",
       "      <td>4539.814815</td>\n",
       "    </tr>\n",
       "    <tr>\n",
       "      <th>Gambling &amp; Casinos</th>\n",
       "      <td>3673.684211</td>\n",
       "    </tr>\n",
       "    <tr>\n",
       "      <th>Healthcare</th>\n",
       "      <td>3396.174863</td>\n",
       "    </tr>\n",
       "    <tr>\n",
       "      <th>Logistics</th>\n",
       "      <td>5503.225806</td>\n",
       "    </tr>\n",
       "    <tr>\n",
       "      <th>Manufacturing</th>\n",
       "      <td>3345.733788</td>\n",
       "    </tr>\n",
       "    <tr>\n",
       "      <th>Media &amp; Entertainment</th>\n",
       "      <td>5188.636364</td>\n",
       "    </tr>\n",
       "    <tr>\n",
       "      <th>Metals &amp; Mining</th>\n",
       "      <td>5105.084746</td>\n",
       "    </tr>\n",
       "    <tr>\n",
       "      <th>Real Estate</th>\n",
       "      <td>3460.233918</td>\n",
       "    </tr>\n",
       "    <tr>\n",
       "      <th>Service</th>\n",
       "      <td>3517.777778</td>\n",
       "    </tr>\n",
       "    <tr>\n",
       "      <th>Sports</th>\n",
       "      <td>3608.333333</td>\n",
       "    </tr>\n",
       "    <tr>\n",
       "      <th>Technology</th>\n",
       "      <td>6496.794872</td>\n",
       "    </tr>\n",
       "    <tr>\n",
       "      <th>Telecom</th>\n",
       "      <td>5719.444444</td>\n",
       "    </tr>\n",
       "  </tbody>\n",
       "</table>\n",
       "</div>"
      ],
      "text/plain": [
       "                                    finalWorth\n",
       "gender category                               \n",
       "F      Automotive                  8025.000000\n",
       "       Construction & Engineering  3183.333333\n",
       "       Diversified                 5107.142857\n",
       "       Energy                      5911.111111\n",
       "       Fashion & Retail            7490.625000\n",
       "       Finance & Investments       3774.074074\n",
       "       Food & Beverage             4838.461538\n",
       "       Gambling & Casinos          9450.000000\n",
       "       Healthcare                  2717.647059\n",
       "       Logistics                   2933.333333\n",
       "       Manufacturing               2574.418605\n",
       "       Media & Entertainment       3850.000000\n",
       "       Metals & Mining             9944.444444\n",
       "       Real Estate                 4528.571429\n",
       "       Service                     3725.000000\n",
       "       Sports                      4000.000000\n",
       "       Technology                  5060.000000\n",
       "       Telecom                     1200.000000\n",
       "M      Automotive                  8366.153846\n",
       "       Construction & Engineering  2620.000000\n",
       "       Diversified                 5243.708609\n",
       "       Energy                      4001.162791\n",
       "       Fashion & Retail            6199.065421\n",
       "       Finance & Investments       4492.817680\n",
       "       Food & Beverage             4539.814815\n",
       "       Gambling & Casinos          3673.684211\n",
       "       Healthcare                  3396.174863\n",
       "       Logistics                   5503.225806\n",
       "       Manufacturing               3345.733788\n",
       "       Media & Entertainment       5188.636364\n",
       "       Metals & Mining             5105.084746\n",
       "       Real Estate                 3460.233918\n",
       "       Service                     3517.777778\n",
       "       Sports                      3608.333333\n",
       "       Technology                  6496.794872\n",
       "       Telecom                     5719.444444"
      ]
     },
     "execution_count": 34,
     "metadata": {},
     "output_type": "execute_result"
    }
   ],
   "source": [
    "df.groupby(['gender', 'category'])[['finalWorth']].mean()"
   ]
  },
  {
   "cell_type": "code",
   "execution_count": 46,
   "id": "0105da21-2ddd-4197-9acd-ebb7ade0ff2e",
   "metadata": {},
   "outputs": [
    {
     "data": {
      "text/html": [
       "<div>\n",
       "<style scoped>\n",
       "    .dataframe tbody tr th:only-of-type {\n",
       "        vertical-align: middle;\n",
       "    }\n",
       "\n",
       "    .dataframe tbody tr th {\n",
       "        vertical-align: top;\n",
       "    }\n",
       "\n",
       "    .dataframe thead th {\n",
       "        text-align: right;\n",
       "    }\n",
       "</style>\n",
       "<table border=\"1\" class=\"dataframe\">\n",
       "  <thead>\n",
       "    <tr style=\"text-align: right;\">\n",
       "      <th>gender</th>\n",
       "      <th>F</th>\n",
       "      <th>M</th>\n",
       "    </tr>\n",
       "    <tr>\n",
       "      <th>category</th>\n",
       "      <th></th>\n",
       "      <th></th>\n",
       "    </tr>\n",
       "  </thead>\n",
       "  <tbody>\n",
       "    <tr>\n",
       "      <th>Automotive</th>\n",
       "      <td>8025.000000</td>\n",
       "      <td>8366.153846</td>\n",
       "    </tr>\n",
       "    <tr>\n",
       "      <th>Construction &amp; Engineering</th>\n",
       "      <td>3183.333333</td>\n",
       "      <td>2620.000000</td>\n",
       "    </tr>\n",
       "    <tr>\n",
       "      <th>Diversified</th>\n",
       "      <td>5107.142857</td>\n",
       "      <td>5243.708609</td>\n",
       "    </tr>\n",
       "    <tr>\n",
       "      <th>Energy</th>\n",
       "      <td>5911.111111</td>\n",
       "      <td>4001.162791</td>\n",
       "    </tr>\n",
       "    <tr>\n",
       "      <th>Fashion &amp; Retail</th>\n",
       "      <td>7490.625000</td>\n",
       "      <td>6199.065421</td>\n",
       "    </tr>\n",
       "  </tbody>\n",
       "</table>\n",
       "</div>"
      ],
      "text/plain": [
       "gender                                F            M\n",
       "category                                            \n",
       "Automotive                  8025.000000  8366.153846\n",
       "Construction & Engineering  3183.333333  2620.000000\n",
       "Diversified                 5107.142857  5243.708609\n",
       "Energy                      5911.111111  4001.162791\n",
       "Fashion & Retail            7490.625000  6199.065421"
      ]
     },
     "execution_count": 46,
     "metadata": {},
     "output_type": "execute_result"
    }
   ],
   "source": [
    "df.pivot_table('finalWorth', index='category', columns=['gender'] ).head()"
   ]
  },
  {
   "cell_type": "code",
   "execution_count": 54,
   "id": "cf156f77-1ef6-42e3-9c66-3599f35f1bfb",
   "metadata": {},
   "outputs": [
    {
     "data": {
      "text/html": [
       "<div>\n",
       "<style scoped>\n",
       "    .dataframe tbody tr th:only-of-type {\n",
       "        vertical-align: middle;\n",
       "    }\n",
       "\n",
       "    .dataframe tbody tr th {\n",
       "        vertical-align: top;\n",
       "    }\n",
       "\n",
       "    .dataframe thead tr th {\n",
       "        text-align: left;\n",
       "    }\n",
       "\n",
       "    .dataframe thead tr:last-of-type th {\n",
       "        text-align: right;\n",
       "    }\n",
       "</style>\n",
       "<table border=\"1\" class=\"dataframe\">\n",
       "  <thead>\n",
       "    <tr>\n",
       "      <th>gender</th>\n",
       "      <th colspan=\"2\" halign=\"left\">F</th>\n",
       "      <th colspan=\"2\" halign=\"left\">M</th>\n",
       "    </tr>\n",
       "    <tr>\n",
       "      <th>selfMade</th>\n",
       "      <th>False</th>\n",
       "      <th>True</th>\n",
       "      <th>False</th>\n",
       "      <th>True</th>\n",
       "    </tr>\n",
       "    <tr>\n",
       "      <th>category</th>\n",
       "      <th></th>\n",
       "      <th></th>\n",
       "      <th></th>\n",
       "      <th></th>\n",
       "    </tr>\n",
       "  </thead>\n",
       "  <tbody>\n",
       "    <tr>\n",
       "      <th>Automotive</th>\n",
       "      <td>13150.000000</td>\n",
       "      <td>2900.000000</td>\n",
       "      <td>3553.846154</td>\n",
       "      <td>11574.358974</td>\n",
       "    </tr>\n",
       "    <tr>\n",
       "      <th>Construction &amp; Engineering</th>\n",
       "      <td>1750.000000</td>\n",
       "      <td>6050.000000</td>\n",
       "      <td>3547.058824</td>\n",
       "      <td>1934.782609</td>\n",
       "    </tr>\n",
       "    <tr>\n",
       "      <th>Diversified</th>\n",
       "      <td>5233.333333</td>\n",
       "      <td>4350.000000</td>\n",
       "      <td>5730.555556</td>\n",
       "      <td>4800.000000</td>\n",
       "    </tr>\n",
       "    <tr>\n",
       "      <th>Energy</th>\n",
       "      <td>6060.000000</td>\n",
       "      <td>5725.000000</td>\n",
       "      <td>3636.842105</td>\n",
       "      <td>4104.477612</td>\n",
       "    </tr>\n",
       "    <tr>\n",
       "      <th>Fashion &amp; Retail</th>\n",
       "      <td>9736.363636</td>\n",
       "      <td>2550.000000</td>\n",
       "      <td>9819.718310</td>\n",
       "      <td>4401.398601</td>\n",
       "    </tr>\n",
       "    <tr>\n",
       "      <th>Finance &amp; Investments</th>\n",
       "      <td>4221.739130</td>\n",
       "      <td>1200.000000</td>\n",
       "      <td>3371.014493</td>\n",
       "      <td>4756.996587</td>\n",
       "    </tr>\n",
       "    <tr>\n",
       "      <th>Food &amp; Beverage</th>\n",
       "      <td>5432.258065</td>\n",
       "      <td>2537.500000</td>\n",
       "      <td>4626.984127</td>\n",
       "      <td>4484.343434</td>\n",
       "    </tr>\n",
       "    <tr>\n",
       "      <th>Gambling &amp; Casinos</th>\n",
       "      <td>15350.000000</td>\n",
       "      <td>3550.000000</td>\n",
       "      <td>2900.000000</td>\n",
       "      <td>3764.705882</td>\n",
       "    </tr>\n",
       "    <tr>\n",
       "      <th>Healthcare</th>\n",
       "      <td>2717.391304</td>\n",
       "      <td>2718.181818</td>\n",
       "      <td>3448.780488</td>\n",
       "      <td>3380.985915</td>\n",
       "    </tr>\n",
       "    <tr>\n",
       "      <th>Logistics</th>\n",
       "      <td>NaN</td>\n",
       "      <td>2933.333333</td>\n",
       "      <td>10470.000000</td>\n",
       "      <td>3138.095238</td>\n",
       "    </tr>\n",
       "    <tr>\n",
       "      <th>Manufacturing</th>\n",
       "      <td>2813.333333</td>\n",
       "      <td>2023.076923</td>\n",
       "      <td>3416.129032</td>\n",
       "      <td>3326.839827</td>\n",
       "    </tr>\n",
       "    <tr>\n",
       "      <th>Media &amp; Entertainment</th>\n",
       "      <td>4125.000000</td>\n",
       "      <td>2750.000000</td>\n",
       "      <td>6370.000000</td>\n",
       "      <td>4841.176471</td>\n",
       "    </tr>\n",
       "    <tr>\n",
       "      <th>Metals &amp; Mining</th>\n",
       "      <td>9944.444444</td>\n",
       "      <td>NaN</td>\n",
       "      <td>6481.818182</td>\n",
       "      <td>4789.583333</td>\n",
       "    </tr>\n",
       "    <tr>\n",
       "      <th>Real Estate</th>\n",
       "      <td>4162.500000</td>\n",
       "      <td>5700.000000</td>\n",
       "      <td>4208.333333</td>\n",
       "      <td>3260.740741</td>\n",
       "    </tr>\n",
       "    <tr>\n",
       "      <th>Service</th>\n",
       "      <td>3725.000000</td>\n",
       "      <td>NaN</td>\n",
       "      <td>2633.333333</td>\n",
       "      <td>3960.000000</td>\n",
       "    </tr>\n",
       "    <tr>\n",
       "      <th>Sports</th>\n",
       "      <td>4000.000000</td>\n",
       "      <td>NaN</td>\n",
       "      <td>2800.000000</td>\n",
       "      <td>3821.052632</td>\n",
       "    </tr>\n",
       "    <tr>\n",
       "      <th>Technology</th>\n",
       "      <td>8281.818182</td>\n",
       "      <td>3194.736842</td>\n",
       "      <td>3300.000000</td>\n",
       "      <td>6580.921053</td>\n",
       "    </tr>\n",
       "    <tr>\n",
       "      <th>Telecom</th>\n",
       "      <td>NaN</td>\n",
       "      <td>1200.000000</td>\n",
       "      <td>3175.000000</td>\n",
       "      <td>6037.500000</td>\n",
       "    </tr>\n",
       "  </tbody>\n",
       "</table>\n",
       "</div>"
      ],
      "text/plain": [
       "gender                                 F                          M  \\\n",
       "selfMade                           False         True         False   \n",
       "category                                                              \n",
       "Automotive                  13150.000000  2900.000000   3553.846154   \n",
       "Construction & Engineering   1750.000000  6050.000000   3547.058824   \n",
       "Diversified                  5233.333333  4350.000000   5730.555556   \n",
       "Energy                       6060.000000  5725.000000   3636.842105   \n",
       "Fashion & Retail             9736.363636  2550.000000   9819.718310   \n",
       "Finance & Investments        4221.739130  1200.000000   3371.014493   \n",
       "Food & Beverage              5432.258065  2537.500000   4626.984127   \n",
       "Gambling & Casinos          15350.000000  3550.000000   2900.000000   \n",
       "Healthcare                   2717.391304  2718.181818   3448.780488   \n",
       "Logistics                            NaN  2933.333333  10470.000000   \n",
       "Manufacturing                2813.333333  2023.076923   3416.129032   \n",
       "Media & Entertainment        4125.000000  2750.000000   6370.000000   \n",
       "Metals & Mining              9944.444444          NaN   6481.818182   \n",
       "Real Estate                  4162.500000  5700.000000   4208.333333   \n",
       "Service                      3725.000000          NaN   2633.333333   \n",
       "Sports                       4000.000000          NaN   2800.000000   \n",
       "Technology                   8281.818182  3194.736842   3300.000000   \n",
       "Telecom                              NaN  1200.000000   3175.000000   \n",
       "\n",
       "gender                                    \n",
       "selfMade                            True  \n",
       "category                                  \n",
       "Automotive                  11574.358974  \n",
       "Construction & Engineering   1934.782609  \n",
       "Diversified                  4800.000000  \n",
       "Energy                       4104.477612  \n",
       "Fashion & Retail             4401.398601  \n",
       "Finance & Investments        4756.996587  \n",
       "Food & Beverage              4484.343434  \n",
       "Gambling & Casinos           3764.705882  \n",
       "Healthcare                   3380.985915  \n",
       "Logistics                    3138.095238  \n",
       "Manufacturing                3326.839827  \n",
       "Media & Entertainment        4841.176471  \n",
       "Metals & Mining              4789.583333  \n",
       "Real Estate                  3260.740741  \n",
       "Service                      3960.000000  \n",
       "Sports                       3821.052632  \n",
       "Technology                   6580.921053  \n",
       "Telecom                      6037.500000  "
      ]
     },
     "execution_count": 54,
     "metadata": {},
     "output_type": "execute_result"
    }
   ],
   "source": [
    "df.pivot_table('finalWorth',  index='category', columns=['gender', 'selfMade'] )"
   ]
  },
  {
   "cell_type": "code",
   "execution_count": 57,
   "id": "5ad1ded0-c9e9-4452-9ae4-5f502c789d63",
   "metadata": {},
   "outputs": [
    {
     "data": {
      "text/plain": [
       "count    2582.000000\n",
       "mean       64.210689\n",
       "std        13.401258\n",
       "min        19.000000\n",
       "25%        55.000000\n",
       "50%        64.000000\n",
       "75%        74.000000\n",
       "max       100.000000\n",
       "Name: age, dtype: float64"
      ]
     },
     "execution_count": 57,
     "metadata": {},
     "output_type": "execute_result"
    }
   ],
   "source": [
    "df.age.describe()"
   ]
  },
  {
   "cell_type": "code",
   "execution_count": 58,
   "id": "67fbffd7-b46e-4325-a23a-bbce25412531",
   "metadata": {},
   "outputs": [
    {
     "data": {
      "text/plain": [
       "<AxesSubplot:xlabel='age'>"
      ]
     },
     "execution_count": 58,
     "metadata": {},
     "output_type": "execute_result"
    },
    {
     "data": {
      "image/png": "[encoded data removed]",
      "text/plain": [
       "<Figure size 432x288 with 1 Axes>"
      ]
     },
     "metadata": {},
     "output_type": "display_data"
    }
   ],
   "source": [
    "sns.boxplot(df.age)"
   ]
  },
  {
   "cell_type": "code",
   "execution_count": 62,
   "id": "16dd6b5c-5787-4bec-bde2-aeb3cf56187d",
   "metadata": {},
   "outputs": [
    {
     "data": {
      "text/plain": [
       "0        (40, 50]\n",
       "1        (55, 60]\n",
       "2        (70, 75]\n",
       "3        (65, 70]\n",
       "4       (75, 100]\n",
       "          ...    \n",
       "2663     (65, 70]\n",
       "2664     (55, 60]\n",
       "2665     (55, 60]\n",
       "2666     (40, 50]\n",
       "2667     (55, 60]\n",
       "Name: age, Length: 2668, dtype: category\n",
       "Categories (8, interval[int64, right]): [(18, 40] < (40, 50] < (50, 55] < (55, 60] < (60, 65] < (65, 70] < (70, 75] < (75, 100]]"
      ]
     },
     "execution_count": 62,
     "metadata": {},
     "output_type": "execute_result"
    }
   ],
   "source": [
    "age_cut = pd.cut(df['age'], (18,40,50,55,60,65,70,75,100))\n",
    "age_cut"
   ]
  },
  {
   "cell_type": "code",
   "execution_count": 63,
   "id": "b4af6eba-85d3-4fe4-8fba-372908d00f8b",
   "metadata": {},
   "outputs": [
    {
     "data": {
      "text/html": [
       "<div>\n",
       "<style scoped>\n",
       "    .dataframe tbody tr th:only-of-type {\n",
       "        vertical-align: middle;\n",
       "    }\n",
       "\n",
       "    .dataframe tbody tr th {\n",
       "        vertical-align: top;\n",
       "    }\n",
       "\n",
       "    .dataframe thead th {\n",
       "        text-align: right;\n",
       "    }\n",
       "</style>\n",
       "<table border=\"1\" class=\"dataframe\">\n",
       "  <thead>\n",
       "    <tr style=\"text-align: right;\">\n",
       "      <th></th>\n",
       "      <th>gender</th>\n",
       "      <th>F</th>\n",
       "      <th>M</th>\n",
       "    </tr>\n",
       "    <tr>\n",
       "      <th>category</th>\n",
       "      <th>age</th>\n",
       "      <th></th>\n",
       "      <th></th>\n",
       "    </tr>\n",
       "  </thead>\n",
       "  <tbody>\n",
       "    <tr>\n",
       "      <th rowspan=\"5\" valign=\"top\">Automotive</th>\n",
       "      <th>(18, 40]</th>\n",
       "      <td>NaN</td>\n",
       "      <td>2500.000000</td>\n",
       "    </tr>\n",
       "    <tr>\n",
       "      <th>(40, 50]</th>\n",
       "      <td>NaN</td>\n",
       "      <td>38300.000000</td>\n",
       "    </tr>\n",
       "    <tr>\n",
       "      <th>(50, 55]</th>\n",
       "      <td>NaN</td>\n",
       "      <td>10470.000000</td>\n",
       "    </tr>\n",
       "    <tr>\n",
       "      <th>(55, 60]</th>\n",
       "      <td>24300.0</td>\n",
       "      <td>10530.000000</td>\n",
       "    </tr>\n",
       "    <tr>\n",
       "      <th>(60, 65]</th>\n",
       "      <td>NaN</td>\n",
       "      <td>2666.666667</td>\n",
       "    </tr>\n",
       "    <tr>\n",
       "      <th>...</th>\n",
       "      <th>...</th>\n",
       "      <td>...</td>\n",
       "      <td>...</td>\n",
       "    </tr>\n",
       "    <tr>\n",
       "      <th rowspan=\"5\" valign=\"top\">Telecom</th>\n",
       "      <th>(55, 60]</th>\n",
       "      <td>NaN</td>\n",
       "      <td>2483.333333</td>\n",
       "    </tr>\n",
       "    <tr>\n",
       "      <th>(60, 65]</th>\n",
       "      <td>NaN</td>\n",
       "      <td>8880.000000</td>\n",
       "    </tr>\n",
       "    <tr>\n",
       "      <th>(65, 70]</th>\n",
       "      <td>NaN</td>\n",
       "      <td>3080.000000</td>\n",
       "    </tr>\n",
       "    <tr>\n",
       "      <th>(70, 75]</th>\n",
       "      <td>NaN</td>\n",
       "      <td>2185.714286</td>\n",
       "    </tr>\n",
       "    <tr>\n",
       "      <th>(75, 100]</th>\n",
       "      <td>NaN</td>\n",
       "      <td>18540.000000</td>\n",
       "    </tr>\n",
       "  </tbody>\n",
       "</table>\n",
       "<p>136 rows × 2 columns</p>\n",
       "</div>"
      ],
      "text/plain": [
       "gender                      F             M\n",
       "category   age                             \n",
       "Automotive (18, 40]       NaN   2500.000000\n",
       "           (40, 50]       NaN  38300.000000\n",
       "           (50, 55]       NaN  10470.000000\n",
       "           (55, 60]   24300.0  10530.000000\n",
       "           (60, 65]       NaN   2666.666667\n",
       "...                       ...           ...\n",
       "Telecom    (55, 60]       NaN   2483.333333\n",
       "           (60, 65]       NaN   8880.000000\n",
       "           (65, 70]       NaN   3080.000000\n",
       "           (70, 75]       NaN   2185.714286\n",
       "           (75, 100]      NaN  18540.000000\n",
       "\n",
       "[136 rows x 2 columns]"
      ]
     },
     "execution_count": 63,
     "metadata": {},
     "output_type": "execute_result"
    }
   ],
   "source": [
    "df.pivot_table('finalWorth', ['category', age_cut], 'gender')"
   ]
  },
  {
   "cell_type": "code",
   "execution_count": 72,
   "id": "1fcff8b8-04f9-45a4-8aac-c03673c85c56",
   "metadata": {},
   "outputs": [
    {
     "data": {
      "image/png": "[encoded data removed]",
      "text/plain": [
       "<Figure size 432x288 with 1 Axes>"
      ]
     },
     "metadata": {},
     "output_type": "display_data"
    }
   ],
   "source": [
    "sns.barplot('gender', 'finalWorth', hue=age_cut, data= df);"
   ]
  },
  {
   "cell_type": "code",
   "execution_count": 67,
   "id": "e21ec0f6-69c6-4a06-9415-a320e6a98d36",
   "metadata": {},
   "outputs": [
    {
     "data": {
      "image/png": "[encoded data removed]",
      "text/plain": [
       "<Figure size 432x288 with 1 Axes>"
      ]
     },
     "metadata": {},
     "output_type": "display_data"
    }
   ],
   "source": [
    "sns.barplot(x= 'gender', y= 'finalWorth', hue= 'category', data= df );"
   ]
  },
  {
   "cell_type": "code",
   "execution_count": 73,
   "id": "b08ce333-69ec-4273-acda-bb45018a8584",
   "metadata": {},
   "outputs": [
    {
     "data": {
      "text/html": [
       "<div>\n",
       "<style scoped>\n",
       "    .dataframe tbody tr th:only-of-type {\n",
       "        vertical-align: middle;\n",
       "    }\n",
       "\n",
       "    .dataframe tbody tr th {\n",
       "        vertical-align: top;\n",
       "    }\n",
       "\n",
       "    .dataframe thead th {\n",
       "        text-align: right;\n",
       "    }\n",
       "</style>\n",
       "<table border=\"1\" class=\"dataframe\">\n",
       "  <thead>\n",
       "    <tr style=\"text-align: right;\">\n",
       "      <th>gender</th>\n",
       "      <th>F</th>\n",
       "      <th>M</th>\n",
       "    </tr>\n",
       "    <tr>\n",
       "      <th>age</th>\n",
       "      <th></th>\n",
       "      <th></th>\n",
       "    </tr>\n",
       "  </thead>\n",
       "  <tbody>\n",
       "    <tr>\n",
       "      <th>(18, 40]</th>\n",
       "      <td>3494.444444</td>\n",
       "      <td>5237.777778</td>\n",
       "    </tr>\n",
       "    <tr>\n",
       "      <th>(40, 50]</th>\n",
       "      <td>2748.275862</td>\n",
       "      <td>5225.541126</td>\n",
       "    </tr>\n",
       "    <tr>\n",
       "      <th>(50, 55]</th>\n",
       "      <td>4666.666667</td>\n",
       "      <td>3682.971014</td>\n",
       "    </tr>\n",
       "    <tr>\n",
       "      <th>(55, 60]</th>\n",
       "      <td>5712.500000</td>\n",
       "      <td>4554.166667</td>\n",
       "    </tr>\n",
       "    <tr>\n",
       "      <th>(60, 65]</th>\n",
       "      <td>3436.666667</td>\n",
       "      <td>4049.103943</td>\n",
       "    </tr>\n",
       "    <tr>\n",
       "      <th>(65, 70]</th>\n",
       "      <td>6376.470588</td>\n",
       "      <td>4560.402685</td>\n",
       "    </tr>\n",
       "    <tr>\n",
       "      <th>(70, 75]</th>\n",
       "      <td>6374.074074</td>\n",
       "      <td>4882.835821</td>\n",
       "    </tr>\n",
       "    <tr>\n",
       "      <th>(75, 100]</th>\n",
       "      <td>4760.000000</td>\n",
       "      <td>5813.052209</td>\n",
       "    </tr>\n",
       "  </tbody>\n",
       "</table>\n",
       "</div>"
      ],
      "text/plain": [
       "gender               F            M\n",
       "age                                \n",
       "(18, 40]   3494.444444  5237.777778\n",
       "(40, 50]   2748.275862  5225.541126\n",
       "(50, 55]   4666.666667  3682.971014\n",
       "(55, 60]   5712.500000  4554.166667\n",
       "(60, 65]   3436.666667  4049.103943\n",
       "(65, 70]   6376.470588  4560.402685\n",
       "(70, 75]   6374.074074  4882.835821\n",
       "(75, 100]  4760.000000  5813.052209"
      ]
     },
     "execution_count": 73,
     "metadata": {},
     "output_type": "execute_result"
    }
   ],
   "source": [
    "df.pivot_table('finalWorth', [ age_cut], 'gender')"
   ]
  },
  {
   "cell_type": "code",
   "execution_count": 74,
   "id": "1bb822bf-07d1-4dc3-89d9-2e77fe21a2ba",
   "metadata": {},
   "outputs": [
    {
     "data": {
      "image/png": "[encoded data removed]",
      "text/plain": [
       "<Figure size 432x288 with 1 Axes>"
      ]
     },
     "metadata": {},
     "output_type": "display_data"
    }
   ],
   "source": [
    "sns.barplot(x= 'gender',y= 'finalWorth', data= df);"
   ]
  },
  {
   "cell_type": "code",
   "execution_count": 75,
   "id": "35bcabac-283b-4832-aff8-8cbc09f2d1aa",
   "metadata": {},
   "outputs": [
    {
     "data": {
      "image/png": "[encoded data removed]",
      "text/plain": [
       "<Figure size 432x288 with 1 Axes>"
      ]
     },
     "metadata": {},
     "output_type": "display_data"
    }
   ],
   "source": [
    "sns.boxplot(x= 'gender',y= 'finalWorth', data= df);"
   ]
  },
  {
   "cell_type": "code",
   "execution_count": 77,
   "id": "b3e9734d-5931-430f-8777-c4581992f447",
   "metadata": {},
   "outputs": [
    {
     "data": {
      "text/plain": [
       "25%    1500.0\n",
       "75%    4300.0\n",
       "Name: finalWorth, dtype: float64"
      ]
     },
     "execution_count": 77,
     "metadata": {},
     "output_type": "execute_result"
    }
   ],
   "source": [
    "df['finalWorth'].describe()[[4,6]]"
   ]
  },
  {
   "cell_type": "code",
   "execution_count": 78,
   "id": "8b562c90-fce7-4897-bac4-56b64a58a487",
   "metadata": {},
   "outputs": [
    {
     "name": "stdout",
     "output_type": "stream",
     "text": [
      "2800.0 -2700.0 8500.0\n"
     ]
    }
   ],
   "source": [
    "iqr = df['finalWorth'].describe()[6] -df['finalWorth'].describe()[4]\n",
    "q1 = df['finalWorth'].describe()[4] - 1.5* iqr\n",
    "q3 = df['finalWorth'].describe()[6] + 1.5* iqr\n",
    "print(iqr, q1, q3)"
   ]
  },
  {
   "cell_type": "code",
   "execution_count": 136,
   "id": "3e18a49e-d293-45c0-8498-599b7562c644",
   "metadata": {},
   "outputs": [
    {
     "data": {
      "text/html": [
       "<div>\n",
       "<style scoped>\n",
       "    .dataframe tbody tr th:only-of-type {\n",
       "        vertical-align: middle;\n",
       "    }\n",
       "\n",
       "    .dataframe tbody tr th {\n",
       "        vertical-align: top;\n",
       "    }\n",
       "\n",
       "    .dataframe thead th {\n",
       "        text-align: right;\n",
       "    }\n",
       "</style>\n",
       "<table border=\"1\" class=\"dataframe\">\n",
       "  <thead>\n",
       "    <tr style=\"text-align: right;\">\n",
       "      <th></th>\n",
       "      <th>Sira</th>\n",
       "      <th>Name</th>\n",
       "      <th>age</th>\n",
       "      <th>finalWorth</th>\n",
       "      <th>year</th>\n",
       "      <th>month</th>\n",
       "      <th>category</th>\n",
       "      <th>source</th>\n",
       "      <th>country</th>\n",
       "      <th>state</th>\n",
       "      <th>...</th>\n",
       "      <th>organization</th>\n",
       "      <th>selfMade</th>\n",
       "      <th>gender</th>\n",
       "      <th>birthDate</th>\n",
       "      <th>title</th>\n",
       "      <th>philanthropyScore</th>\n",
       "      <th>residenceMsa</th>\n",
       "      <th>numberOfSiblings</th>\n",
       "      <th>bio</th>\n",
       "      <th>about</th>\n",
       "    </tr>\n",
       "  </thead>\n",
       "  <tbody>\n",
       "    <tr>\n",
       "      <th>250</th>\n",
       "      <td>251</td>\n",
       "      <td>Ernesto Bertarelli</td>\n",
       "      <td>56.0</td>\n",
       "      <td>8500.0</td>\n",
       "      <td>2022</td>\n",
       "      <td>4</td>\n",
       "      <td>Healthcare</td>\n",
       "      <td>biotech, investments</td>\n",
       "      <td>Switzerland</td>\n",
       "      <td>NaN</td>\n",
       "      <td>...</td>\n",
       "      <td>NaN</td>\n",
       "      <td>False</td>\n",
       "      <td>M</td>\n",
       "      <td>1965-09-22</td>\n",
       "      <td>NaN</td>\n",
       "      <td>NaN</td>\n",
       "      <td>NaN</td>\n",
       "      <td>NaN</td>\n",
       "      <td>Ernesto Bertarelli inherited biotech giant Ser...</td>\n",
       "      <td>Kirsty, Ernesto's wife, is a former Miss UK an...</td>\n",
       "    </tr>\n",
       "    <tr>\n",
       "      <th>251</th>\n",
       "      <td>251</td>\n",
       "      <td>Tamara Gustavson</td>\n",
       "      <td>60.0</td>\n",
       "      <td>8500.0</td>\n",
       "      <td>2022</td>\n",
       "      <td>4</td>\n",
       "      <td>Service</td>\n",
       "      <td>self storage</td>\n",
       "      <td>United States</td>\n",
       "      <td>Kentucky</td>\n",
       "      <td>...</td>\n",
       "      <td>NaN</td>\n",
       "      <td>False</td>\n",
       "      <td>F</td>\n",
       "      <td>1961-11-16</td>\n",
       "      <td>NaN</td>\n",
       "      <td>1.0</td>\n",
       "      <td>Los Angeles-Long Beach-Anaheim, CA</td>\n",
       "      <td>NaN</td>\n",
       "      <td>With an 11% stake, Tamara Hughes Gustavson is ...</td>\n",
       "      <td>Both her father and brother, B. Wayne Hughes J...</td>\n",
       "    </tr>\n",
       "    <tr>\n",
       "      <th>252</th>\n",
       "      <td>251</td>\n",
       "      <td>Carlos Alberto Sicupira &amp; family</td>\n",
       "      <td>74.0</td>\n",
       "      <td>8500.0</td>\n",
       "      <td>2022</td>\n",
       "      <td>4</td>\n",
       "      <td>Food &amp; Beverage</td>\n",
       "      <td>beer</td>\n",
       "      <td>Switzerland</td>\n",
       "      <td>NaN</td>\n",
       "      <td>...</td>\n",
       "      <td>NaN</td>\n",
       "      <td>True</td>\n",
       "      <td>M</td>\n",
       "      <td>1948-01-01</td>\n",
       "      <td>NaN</td>\n",
       "      <td>NaN</td>\n",
       "      <td>NaN</td>\n",
       "      <td>NaN</td>\n",
       "      <td>Most of Carlos \"Beto\" Sicupira's wealth comes ...</td>\n",
       "      <td>He holds multiple world records for underwater...</td>\n",
       "    </tr>\n",
       "    <tr>\n",
       "      <th>253</th>\n",
       "      <td>254</td>\n",
       "      <td>Laurent Dassault</td>\n",
       "      <td>68.0</td>\n",
       "      <td>8400.0</td>\n",
       "      <td>2022</td>\n",
       "      <td>4</td>\n",
       "      <td>Diversified</td>\n",
       "      <td>diversified</td>\n",
       "      <td>France</td>\n",
       "      <td>NaN</td>\n",
       "      <td>...</td>\n",
       "      <td>NaN</td>\n",
       "      <td>False</td>\n",
       "      <td>M</td>\n",
       "      <td>1953-07-07</td>\n",
       "      <td>NaN</td>\n",
       "      <td>NaN</td>\n",
       "      <td>NaN</td>\n",
       "      <td>NaN</td>\n",
       "      <td>Laurent Dassault is one of Serge Dassault's fo...</td>\n",
       "      <td>Dassault is the President of One Drop France, ...</td>\n",
       "    </tr>\n",
       "    <tr>\n",
       "      <th>254</th>\n",
       "      <td>254</td>\n",
       "      <td>Thierry Dassault</td>\n",
       "      <td>65.0</td>\n",
       "      <td>8400.0</td>\n",
       "      <td>2022</td>\n",
       "      <td>4</td>\n",
       "      <td>Diversified</td>\n",
       "      <td>diversified</td>\n",
       "      <td>France</td>\n",
       "      <td>NaN</td>\n",
       "      <td>...</td>\n",
       "      <td>NaN</td>\n",
       "      <td>False</td>\n",
       "      <td>M</td>\n",
       "      <td>1957-03-26</td>\n",
       "      <td>NaN</td>\n",
       "      <td>NaN</td>\n",
       "      <td>NaN</td>\n",
       "      <td>NaN</td>\n",
       "      <td>Thierry Dassault is one of Serge Dassault's fo...</td>\n",
       "      <td>Dassault is an air force colonel in the French...</td>\n",
       "    </tr>\n",
       "  </tbody>\n",
       "</table>\n",
       "<p>5 rows × 22 columns</p>\n",
       "</div>"
      ],
      "text/plain": [
       "     Sira                              Name   age  finalWorth  year  month  \\\n",
       "250   251                Ernesto Bertarelli  56.0      8500.0  2022      4   \n",
       "251   251                  Tamara Gustavson  60.0      8500.0  2022      4   \n",
       "252   251  Carlos Alberto Sicupira & family  74.0      8500.0  2022      4   \n",
       "253   254                  Laurent Dassault  68.0      8400.0  2022      4   \n",
       "254   254                  Thierry Dassault  65.0      8400.0  2022      4   \n",
       "\n",
       "            category                source        country     state  ...  \\\n",
       "250       Healthcare  biotech, investments    Switzerland       NaN  ...   \n",
       "251          Service          self storage  United States  Kentucky  ...   \n",
       "252  Food & Beverage                  beer    Switzerland       NaN  ...   \n",
       "253      Diversified           diversified         France       NaN  ...   \n",
       "254      Diversified           diversified         France       NaN  ...   \n",
       "\n",
       "    organization selfMade gender   birthDate title philanthropyScore  \\\n",
       "250          NaN    False      M  1965-09-22   NaN               NaN   \n",
       "251          NaN    False      F  1961-11-16   NaN               1.0   \n",
       "252          NaN     True      M  1948-01-01   NaN               NaN   \n",
       "253          NaN    False      M  1953-07-07   NaN               NaN   \n",
       "254          NaN    False      M  1957-03-26   NaN               NaN   \n",
       "\n",
       "                           residenceMsa  numberOfSiblings  \\\n",
       "250                                 NaN               NaN   \n",
       "251  Los Angeles-Long Beach-Anaheim, CA               NaN   \n",
       "252                                 NaN               NaN   \n",
       "253                                 NaN               NaN   \n",
       "254                                 NaN               NaN   \n",
       "\n",
       "                                                   bio  \\\n",
       "250  Ernesto Bertarelli inherited biotech giant Ser...   \n",
       "251  With an 11% stake, Tamara Hughes Gustavson is ...   \n",
       "252  Most of Carlos \"Beto\" Sicupira's wealth comes ...   \n",
       "253  Laurent Dassault is one of Serge Dassault's fo...   \n",
       "254  Thierry Dassault is one of Serge Dassault's fo...   \n",
       "\n",
       "                                                 about  \n",
       "250  Kirsty, Ernesto's wife, is a former Miss UK an...  \n",
       "251  Both her father and brother, B. Wayne Hughes J...  \n",
       "252  He holds multiple world records for underwater...  \n",
       "253  Dassault is the President of One Drop France, ...  \n",
       "254  Dassault is an air force colonel in the French...  \n",
       "\n",
       "[5 rows x 22 columns]"
      ]
     },
     "execution_count": 136,
     "metadata": {},
     "output_type": "execute_result"
    }
   ],
   "source": [
    "aykirilar = df.finalWorth > 8500\n",
    "df[~aykirilar].head()"
   ]
  },
  {
   "cell_type": "code",
   "execution_count": 113,
   "id": "69d4fa55-77c3-4434-ac07-e1a8a44d502c",
   "metadata": {},
   "outputs": [
    {
     "data": {
      "text/html": [
       "<div>\n",
       "<style scoped>\n",
       "    .dataframe tbody tr th:only-of-type {\n",
       "        vertical-align: middle;\n",
       "    }\n",
       "\n",
       "    .dataframe tbody tr th {\n",
       "        vertical-align: top;\n",
       "    }\n",
       "\n",
       "    .dataframe thead th {\n",
       "        text-align: right;\n",
       "    }\n",
       "</style>\n",
       "<table border=\"1\" class=\"dataframe\">\n",
       "  <thead>\n",
       "    <tr style=\"text-align: right;\">\n",
       "      <th></th>\n",
       "      <th>count</th>\n",
       "      <th>mean</th>\n",
       "      <th>std</th>\n",
       "      <th>min</th>\n",
       "      <th>25%</th>\n",
       "      <th>50%</th>\n",
       "      <th>75%</th>\n",
       "      <th>max</th>\n",
       "    </tr>\n",
       "  </thead>\n",
       "  <tbody>\n",
       "    <tr>\n",
       "      <th>Sira</th>\n",
       "      <td>2668.0</td>\n",
       "      <td>1302.919040</td>\n",
       "      <td>747.807782</td>\n",
       "      <td>1.0</td>\n",
       "      <td>665.0</td>\n",
       "      <td>1292.0</td>\n",
       "      <td>1929.0</td>\n",
       "      <td>2578.0</td>\n",
       "    </tr>\n",
       "    <tr>\n",
       "      <th>age</th>\n",
       "      <td>2582.0</td>\n",
       "      <td>64.210689</td>\n",
       "      <td>13.401258</td>\n",
       "      <td>19.0</td>\n",
       "      <td>55.0</td>\n",
       "      <td>64.0</td>\n",
       "      <td>74.0</td>\n",
       "      <td>100.0</td>\n",
       "    </tr>\n",
       "    <tr>\n",
       "      <th>finalWorth</th>\n",
       "      <td>2668.0</td>\n",
       "      <td>4762.350075</td>\n",
       "      <td>10540.482258</td>\n",
       "      <td>1000.0</td>\n",
       "      <td>1500.0</td>\n",
       "      <td>2400.0</td>\n",
       "      <td>4300.0</td>\n",
       "      <td>219000.0</td>\n",
       "    </tr>\n",
       "    <tr>\n",
       "      <th>year</th>\n",
       "      <td>2668.0</td>\n",
       "      <td>2022.000000</td>\n",
       "      <td>0.000000</td>\n",
       "      <td>2022.0</td>\n",
       "      <td>2022.0</td>\n",
       "      <td>2022.0</td>\n",
       "      <td>2022.0</td>\n",
       "      <td>2022.0</td>\n",
       "    </tr>\n",
       "    <tr>\n",
       "      <th>month</th>\n",
       "      <td>2668.0</td>\n",
       "      <td>4.000000</td>\n",
       "      <td>0.000000</td>\n",
       "      <td>4.0</td>\n",
       "      <td>4.0</td>\n",
       "      <td>4.0</td>\n",
       "      <td>4.0</td>\n",
       "      <td>4.0</td>\n",
       "    </tr>\n",
       "    <tr>\n",
       "      <th>philanthropyScore</th>\n",
       "      <td>396.0</td>\n",
       "      <td>1.856061</td>\n",
       "      <td>0.971486</td>\n",
       "      <td>1.0</td>\n",
       "      <td>1.0</td>\n",
       "      <td>2.0</td>\n",
       "      <td>2.0</td>\n",
       "      <td>5.0</td>\n",
       "    </tr>\n",
       "    <tr>\n",
       "      <th>numberOfSiblings</th>\n",
       "      <td>127.0</td>\n",
       "      <td>2.732283</td>\n",
       "      <td>1.891706</td>\n",
       "      <td>1.0</td>\n",
       "      <td>2.0</td>\n",
       "      <td>2.0</td>\n",
       "      <td>3.0</td>\n",
       "      <td>14.0</td>\n",
       "    </tr>\n",
       "  </tbody>\n",
       "</table>\n",
       "</div>"
      ],
      "text/plain": [
       "                    count         mean           std     min     25%     50%  \\\n",
       "Sira               2668.0  1302.919040    747.807782     1.0   665.0  1292.0   \n",
       "age                2582.0    64.210689     13.401258    19.0    55.0    64.0   \n",
       "finalWorth         2668.0  4762.350075  10540.482258  1000.0  1500.0  2400.0   \n",
       "year               2668.0  2022.000000      0.000000  2022.0  2022.0  2022.0   \n",
       "month              2668.0     4.000000      0.000000     4.0     4.0     4.0   \n",
       "philanthropyScore   396.0     1.856061      0.971486     1.0     1.0     2.0   \n",
       "numberOfSiblings    127.0     2.732283      1.891706     1.0     2.0     2.0   \n",
       "\n",
       "                      75%       max  \n",
       "Sira               1929.0    2578.0  \n",
       "age                  74.0     100.0  \n",
       "finalWorth         4300.0  219000.0  \n",
       "year               2022.0    2022.0  \n",
       "month                 4.0       4.0  \n",
       "philanthropyScore     2.0       5.0  \n",
       "numberOfSiblings      3.0      14.0  "
      ]
     },
     "execution_count": 113,
     "metadata": {},
     "output_type": "execute_result"
    }
   ],
   "source": [
    "df.describe().T"
   ]
  },
  {
   "cell_type": "code",
   "execution_count": 112,
   "id": "79680cf2-4805-4f64-b309-4639b21b5acc",
   "metadata": {},
   "outputs": [
    {
     "data": {
      "text/html": [
       "<div>\n",
       "<style scoped>\n",
       "    .dataframe tbody tr th:only-of-type {\n",
       "        vertical-align: middle;\n",
       "    }\n",
       "\n",
       "    .dataframe tbody tr th {\n",
       "        vertical-align: top;\n",
       "    }\n",
       "\n",
       "    .dataframe thead th {\n",
       "        text-align: right;\n",
       "    }\n",
       "</style>\n",
       "<table border=\"1\" class=\"dataframe\">\n",
       "  <thead>\n",
       "    <tr style=\"text-align: right;\">\n",
       "      <th></th>\n",
       "      <th>count</th>\n",
       "      <th>mean</th>\n",
       "      <th>std</th>\n",
       "      <th>min</th>\n",
       "      <th>25%</th>\n",
       "      <th>50%</th>\n",
       "      <th>75%</th>\n",
       "      <th>max</th>\n",
       "    </tr>\n",
       "  </thead>\n",
       "  <tbody>\n",
       "    <tr>\n",
       "      <th>Sira</th>\n",
       "      <td>2418.0</td>\n",
       "      <td>1424.729529</td>\n",
       "      <td>676.841546</td>\n",
       "      <td>251.0</td>\n",
       "      <td>851.0</td>\n",
       "      <td>1445.0</td>\n",
       "      <td>1929.0</td>\n",
       "      <td>2578.0</td>\n",
       "    </tr>\n",
       "    <tr>\n",
       "      <th>age</th>\n",
       "      <td>2339.0</td>\n",
       "      <td>63.990167</td>\n",
       "      <td>13.264319</td>\n",
       "      <td>19.0</td>\n",
       "      <td>55.0</td>\n",
       "      <td>64.0</td>\n",
       "      <td>73.5</td>\n",
       "      <td>100.0</td>\n",
       "    </tr>\n",
       "    <tr>\n",
       "      <th>finalWorth</th>\n",
       "      <td>2418.0</td>\n",
       "      <td>2768.114144</td>\n",
       "      <td>1755.152189</td>\n",
       "      <td>1000.0</td>\n",
       "      <td>1500.0</td>\n",
       "      <td>2100.0</td>\n",
       "      <td>3500.0</td>\n",
       "      <td>8500.0</td>\n",
       "    </tr>\n",
       "    <tr>\n",
       "      <th>year</th>\n",
       "      <td>2418.0</td>\n",
       "      <td>2022.000000</td>\n",
       "      <td>0.000000</td>\n",
       "      <td>2022.0</td>\n",
       "      <td>2022.0</td>\n",
       "      <td>2022.0</td>\n",
       "      <td>2022.0</td>\n",
       "      <td>2022.0</td>\n",
       "    </tr>\n",
       "    <tr>\n",
       "      <th>month</th>\n",
       "      <td>2418.0</td>\n",
       "      <td>4.000000</td>\n",
       "      <td>0.000000</td>\n",
       "      <td>4.0</td>\n",
       "      <td>4.0</td>\n",
       "      <td>4.0</td>\n",
       "      <td>4.0</td>\n",
       "      <td>4.0</td>\n",
       "    </tr>\n",
       "    <tr>\n",
       "      <th>philanthropyScore</th>\n",
       "      <td>327.0</td>\n",
       "      <td>1.837920</td>\n",
       "      <td>0.934036</td>\n",
       "      <td>1.0</td>\n",
       "      <td>1.0</td>\n",
       "      <td>2.0</td>\n",
       "      <td>2.0</td>\n",
       "      <td>5.0</td>\n",
       "    </tr>\n",
       "    <tr>\n",
       "      <th>numberOfSiblings</th>\n",
       "      <td>112.0</td>\n",
       "      <td>2.741071</td>\n",
       "      <td>1.930063</td>\n",
       "      <td>1.0</td>\n",
       "      <td>2.0</td>\n",
       "      <td>2.0</td>\n",
       "      <td>3.0</td>\n",
       "      <td>14.0</td>\n",
       "    </tr>\n",
       "  </tbody>\n",
       "</table>\n",
       "</div>"
      ],
      "text/plain": [
       "                    count         mean          std     min     25%     50%  \\\n",
       "Sira               2418.0  1424.729529   676.841546   251.0   851.0  1445.0   \n",
       "age                2339.0    63.990167    13.264319    19.0    55.0    64.0   \n",
       "finalWorth         2418.0  2768.114144  1755.152189  1000.0  1500.0  2100.0   \n",
       "year               2418.0  2022.000000     0.000000  2022.0  2022.0  2022.0   \n",
       "month              2418.0     4.000000     0.000000     4.0     4.0     4.0   \n",
       "philanthropyScore   327.0     1.837920     0.934036     1.0     1.0     2.0   \n",
       "numberOfSiblings    112.0     2.741071     1.930063     1.0     2.0     2.0   \n",
       "\n",
       "                      75%     max  \n",
       "Sira               1929.0  2578.0  \n",
       "age                  73.5   100.0  \n",
       "finalWorth         3500.0  8500.0  \n",
       "year               2022.0  2022.0  \n",
       "month                 4.0     4.0  \n",
       "philanthropyScore     2.0     5.0  \n",
       "numberOfSiblings      3.0    14.0  "
      ]
     },
     "execution_count": 112,
     "metadata": {},
     "output_type": "execute_result"
    }
   ],
   "source": [
    "df[~aykirilar].describe().T"
   ]
  },
  {
   "cell_type": "code",
   "execution_count": 115,
   "id": "1aa62118-edca-44a4-928c-f2547c5cb968",
   "metadata": {},
   "outputs": [
    {
     "data": {
      "text/html": [
       "<div>\n",
       "<style scoped>\n",
       "    .dataframe tbody tr th:only-of-type {\n",
       "        vertical-align: middle;\n",
       "    }\n",
       "\n",
       "    .dataframe tbody tr th {\n",
       "        vertical-align: top;\n",
       "    }\n",
       "\n",
       "    .dataframe thead th {\n",
       "        text-align: right;\n",
       "    }\n",
       "</style>\n",
       "<table border=\"1\" class=\"dataframe\">\n",
       "  <thead>\n",
       "    <tr style=\"text-align: right;\">\n",
       "      <th>gender</th>\n",
       "      <th>F</th>\n",
       "      <th>M</th>\n",
       "    </tr>\n",
       "    <tr>\n",
       "      <th>category</th>\n",
       "      <th></th>\n",
       "      <th></th>\n",
       "    </tr>\n",
       "  </thead>\n",
       "  <tbody>\n",
       "    <tr>\n",
       "      <th>Automotive</th>\n",
       "      <td>NaN</td>\n",
       "      <td>3.500000</td>\n",
       "    </tr>\n",
       "    <tr>\n",
       "      <th>Diversified</th>\n",
       "      <td>1.800000</td>\n",
       "      <td>2.272727</td>\n",
       "    </tr>\n",
       "    <tr>\n",
       "      <th>Energy</th>\n",
       "      <td>3.000000</td>\n",
       "      <td>14.000000</td>\n",
       "    </tr>\n",
       "    <tr>\n",
       "      <th>Fashion &amp; Retail</th>\n",
       "      <td>1.500000</td>\n",
       "      <td>2.636364</td>\n",
       "    </tr>\n",
       "    <tr>\n",
       "      <th>Finance &amp; Investments</th>\n",
       "      <td>1.000000</td>\n",
       "      <td>2.333333</td>\n",
       "    </tr>\n",
       "    <tr>\n",
       "      <th>Food &amp; Beverage</th>\n",
       "      <td>2.000000</td>\n",
       "      <td>2.500000</td>\n",
       "    </tr>\n",
       "    <tr>\n",
       "      <th>Gambling &amp; Casinos</th>\n",
       "      <td>4.000000</td>\n",
       "      <td>1.000000</td>\n",
       "    </tr>\n",
       "    <tr>\n",
       "      <th>Healthcare</th>\n",
       "      <td>2.666667</td>\n",
       "      <td>3.583333</td>\n",
       "    </tr>\n",
       "    <tr>\n",
       "      <th>Manufacturing</th>\n",
       "      <td>3.000000</td>\n",
       "      <td>2.454545</td>\n",
       "    </tr>\n",
       "    <tr>\n",
       "      <th>Media &amp; Entertainment</th>\n",
       "      <td>2.000000</td>\n",
       "      <td>2.750000</td>\n",
       "    </tr>\n",
       "    <tr>\n",
       "      <th>Metals &amp; Mining</th>\n",
       "      <td>2.750000</td>\n",
       "      <td>3.000000</td>\n",
       "    </tr>\n",
       "    <tr>\n",
       "      <th>Real Estate</th>\n",
       "      <td>NaN</td>\n",
       "      <td>2.800000</td>\n",
       "    </tr>\n",
       "    <tr>\n",
       "      <th>Service</th>\n",
       "      <td>NaN</td>\n",
       "      <td>2.000000</td>\n",
       "    </tr>\n",
       "    <tr>\n",
       "      <th>Sports</th>\n",
       "      <td>NaN</td>\n",
       "      <td>2.000000</td>\n",
       "    </tr>\n",
       "    <tr>\n",
       "      <th>Technology</th>\n",
       "      <td>1.000000</td>\n",
       "      <td>3.333333</td>\n",
       "    </tr>\n",
       "    <tr>\n",
       "      <th>Telecom</th>\n",
       "      <td>NaN</td>\n",
       "      <td>2.666667</td>\n",
       "    </tr>\n",
       "  </tbody>\n",
       "</table>\n",
       "</div>"
      ],
      "text/plain": [
       "gender                        F          M\n",
       "category                                  \n",
       "Automotive                  NaN   3.500000\n",
       "Diversified            1.800000   2.272727\n",
       "Energy                 3.000000  14.000000\n",
       "Fashion & Retail       1.500000   2.636364\n",
       "Finance & Investments  1.000000   2.333333\n",
       "Food & Beverage        2.000000   2.500000\n",
       "Gambling & Casinos     4.000000   1.000000\n",
       "Healthcare             2.666667   3.583333\n",
       "Manufacturing          3.000000   2.454545\n",
       "Media & Entertainment  2.000000   2.750000\n",
       "Metals & Mining        2.750000   3.000000\n",
       "Real Estate                 NaN   2.800000\n",
       "Service                     NaN   2.000000\n",
       "Sports                      NaN   2.000000\n",
       "Technology             1.000000   3.333333\n",
       "Telecom                     NaN   2.666667"
      ]
     },
     "execution_count": 115,
     "metadata": {},
     "output_type": "execute_result"
    }
   ],
   "source": [
    "df.pivot_table('numberOfSiblings', index=['category'], columns='gender' )"
   ]
  },
  {
   "cell_type": "code",
   "execution_count": 123,
   "id": "e67576d9-58ca-46e3-ad05-2de6e33a5865",
   "metadata": {},
   "outputs": [
    {
     "data": {
      "text/plain": [
       "(11, 22)"
      ]
     },
     "execution_count": 123,
     "metadata": {},
     "output_type": "execute_result"
    }
   ],
   "source": [
    "df[df.numberOfSiblings >= 5].shape"
   ]
  },
  {
   "cell_type": "code",
   "execution_count": 125,
   "id": "b7333b57-336e-4ba3-b0a2-ee6334a680e3",
   "metadata": {},
   "outputs": [
    {
     "data": {
      "image/png": "[encoded data removed]",
      "text/plain": [
       "<Figure size 432x288 with 1 Axes>"
      ]
     },
     "metadata": {},
     "output_type": "display_data"
    }
   ],
   "source": [
    "sns.barplot(x='gender', y='finalWorth', data= df[df.numberOfSiblings >= 5]);"
   ]
  },
  {
   "cell_type": "code",
   "execution_count": 133,
   "id": "2721a3ba-6f3e-4224-b41d-c0c6e4c87009",
   "metadata": {},
   "outputs": [
    {
     "data": {
      "text/plain": [
       "India            4\n",
       "United States    3\n",
       "Brazil           1\n",
       "China            1\n",
       "Thailand         1\n",
       "Monaco           1\n",
       "Name: country, dtype: int64"
      ]
     },
     "execution_count": 133,
     "metadata": {},
     "output_type": "execute_result"
    }
   ],
   "source": [
    "df[df.numberOfSiblings >= 5].country.value_counts()"
   ]
  },
  {
   "cell_type": "code",
   "execution_count": 135,
   "id": "876bdb92-242f-4e19-98bf-94ae69c36807",
   "metadata": {},
   "outputs": [
    {
     "data": {
      "image/png": "[encoded data removed]",
      "text/plain": [
       "<Figure size 432x288 with 1 Axes>"
      ]
     },
     "metadata": {},
     "output_type": "display_data"
    }
   ],
   "source": [
    "df[df.numberOfSiblings >= 5].country.value_counts().plot.bar();"
   ]
  },
  {
   "cell_type": "code",
   "execution_count": 139,
   "id": "6a1d5133-2eb0-42d1-839e-37bf4dbaceb7",
   "metadata": {},
   "outputs": [
    {
     "data": {
      "text/html": [
       "<div>\n",
       "<style scoped>\n",
       "    .dataframe tbody tr th:only-of-type {\n",
       "        vertical-align: middle;\n",
       "    }\n",
       "\n",
       "    .dataframe tbody tr th {\n",
       "        vertical-align: top;\n",
       "    }\n",
       "\n",
       "    .dataframe thead th {\n",
       "        text-align: right;\n",
       "    }\n",
       "</style>\n",
       "<table border=\"1\" class=\"dataframe\">\n",
       "  <thead>\n",
       "    <tr style=\"text-align: right;\">\n",
       "      <th></th>\n",
       "      <th>Sira</th>\n",
       "      <th>Name</th>\n",
       "      <th>age</th>\n",
       "      <th>finalWorth</th>\n",
       "      <th>year</th>\n",
       "      <th>month</th>\n",
       "      <th>category</th>\n",
       "      <th>source</th>\n",
       "      <th>country</th>\n",
       "      <th>state</th>\n",
       "      <th>city</th>\n",
       "      <th>countryOfCitizenship</th>\n",
       "      <th>organization</th>\n",
       "      <th>selfMade</th>\n",
       "      <th>gender</th>\n",
       "      <th>birthDate</th>\n",
       "      <th>title</th>\n",
       "      <th>philanthropyScore</th>\n",
       "      <th>residenceMsa</th>\n",
       "      <th>numberOfSiblings</th>\n",
       "      <th>bio</th>\n",
       "      <th>about</th>\n",
       "    </tr>\n",
       "  </thead>\n",
       "  <tbody>\n",
       "    <tr>\n",
       "      <th>0</th>\n",
       "      <td>1</td>\n",
       "      <td>Elon Musk</td>\n",
       "      <td>50.00</td>\n",
       "      <td>219000.00</td>\n",
       "      <td>2022</td>\n",
       "      <td>4</td>\n",
       "      <td>Automotive</td>\n",
       "      <td>Tesla, SpaceX</td>\n",
       "      <td>United States</td>\n",
       "      <td>Texas</td>\n",
       "      <td>Austin</td>\n",
       "      <td>United States</td>\n",
       "      <td>Tesla</td>\n",
       "      <td>True</td>\n",
       "      <td>M</td>\n",
       "      <td>1971-06-28</td>\n",
       "      <td>CEO</td>\n",
       "      <td>1.00</td>\n",
       "      <td>NaN</td>\n",
       "      <td>NaN</td>\n",
       "      <td>Elon Musk is working to revolutionize transpor...</td>\n",
       "      <td>Musk was accepted to a graduate program at Sta...</td>\n",
       "    </tr>\n",
       "    <tr>\n",
       "      <th>1</th>\n",
       "      <td>2</td>\n",
       "      <td>Jeff Bezos</td>\n",
       "      <td>58.00</td>\n",
       "      <td>171000.00</td>\n",
       "      <td>2022</td>\n",
       "      <td>4</td>\n",
       "      <td>Technology</td>\n",
       "      <td>Amazon</td>\n",
       "      <td>United States</td>\n",
       "      <td>Washington</td>\n",
       "      <td>Seattle</td>\n",
       "      <td>United States</td>\n",
       "      <td>Amazon</td>\n",
       "      <td>True</td>\n",
       "      <td>M</td>\n",
       "      <td>1964-01-12</td>\n",
       "      <td>Entrepreneur</td>\n",
       "      <td>1.00</td>\n",
       "      <td>Seattle-Tacoma-Bellevue, WA</td>\n",
       "      <td>NaN</td>\n",
       "      <td>Jeff Bezos founded e-commerce giant Amazon in ...</td>\n",
       "      <td>Growing up, Jeff Bezos worked summers on his g...</td>\n",
       "    </tr>\n",
       "    <tr>\n",
       "      <th>2</th>\n",
       "      <td>3</td>\n",
       "      <td>Bernard Arnault &amp; family</td>\n",
       "      <td>73.00</td>\n",
       "      <td>158000.00</td>\n",
       "      <td>2022</td>\n",
       "      <td>4</td>\n",
       "      <td>Fashion &amp; Retail</td>\n",
       "      <td>LVMH</td>\n",
       "      <td>France</td>\n",
       "      <td>NaN</td>\n",
       "      <td>Paris</td>\n",
       "      <td>France</td>\n",
       "      <td>LVMH Moët Hennessy Louis Vuitton</td>\n",
       "      <td>False</td>\n",
       "      <td>M</td>\n",
       "      <td>1949-03-05</td>\n",
       "      <td>Chairman and CEO</td>\n",
       "      <td>NaN</td>\n",
       "      <td>NaN</td>\n",
       "      <td>NaN</td>\n",
       "      <td>Bernard Arnault oversees the LVMH empire of so...</td>\n",
       "      <td>Arnault apparently wooed his wife, Helene Merc...</td>\n",
       "    </tr>\n",
       "  </tbody>\n",
       "</table>\n",
       "</div>"
      ],
      "text/plain": [
       "   Sira                      Name   age  finalWorth  year  month  \\\n",
       "0     1                 Elon Musk 50.00   219000.00  2022      4   \n",
       "1     2                Jeff Bezos 58.00   171000.00  2022      4   \n",
       "2     3  Bernard Arnault & family 73.00   158000.00  2022      4   \n",
       "\n",
       "           category         source        country       state     city  \\\n",
       "0        Automotive  Tesla, SpaceX  United States       Texas   Austin   \n",
       "1        Technology         Amazon  United States  Washington  Seattle   \n",
       "2  Fashion & Retail           LVMH         France         NaN    Paris   \n",
       "\n",
       "  countryOfCitizenship                      organization  selfMade gender  \\\n",
       "0        United States                             Tesla      True      M   \n",
       "1        United States                            Amazon      True      M   \n",
       "2               France  LVMH Moët Hennessy Louis Vuitton     False      M   \n",
       "\n",
       "    birthDate             title  philanthropyScore  \\\n",
       "0  1971-06-28               CEO               1.00   \n",
       "1  1964-01-12      Entrepreneur               1.00   \n",
       "2  1949-03-05  Chairman and CEO                NaN   \n",
       "\n",
       "                  residenceMsa  numberOfSiblings  \\\n",
       "0                          NaN               NaN   \n",
       "1  Seattle-Tacoma-Bellevue, WA               NaN   \n",
       "2                          NaN               NaN   \n",
       "\n",
       "                                                 bio  \\\n",
       "0  Elon Musk is working to revolutionize transpor...   \n",
       "1  Jeff Bezos founded e-commerce giant Amazon in ...   \n",
       "2  Bernard Arnault oversees the LVMH empire of so...   \n",
       "\n",
       "                                               about  \n",
       "0  Musk was accepted to a graduate program at Sta...  \n",
       "1  Growing up, Jeff Bezos worked summers on his g...  \n",
       "2  Arnault apparently wooed his wife, Helene Merc...  "
      ]
     },
     "execution_count": 139,
     "metadata": {},
     "output_type": "execute_result"
    }
   ],
   "source": []
  },
  {
   "cell_type": "code",
   "execution_count": 142,
   "id": "009e026e-6b62-48cf-b741-c39beaac96ff",
   "metadata": {},
   "outputs": [
    {
     "data": {
      "text/plain": [
       "count           2569\n",
       "unique          2044\n",
       "top       1965-01-01\n",
       "freq              19\n",
       "Name: birthDate, dtype: object"
      ]
     },
     "execution_count": 142,
     "metadata": {},
     "output_type": "execute_result"
    }
   ],
   "source": [
    "df.birthDate.describe()"
   ]
  },
  {
   "cell_type": "code",
   "execution_count": 145,
   "id": "f7300b0d-81a5-4792-a97c-80a244688ef4",
   "metadata": {},
   "outputs": [
    {
     "data": {
      "text/plain": [
       "99"
      ]
     },
     "execution_count": 145,
     "metadata": {},
     "output_type": "execute_result"
    }
   ],
   "source": [
    "df.birthDate.isnull().sum()"
   ]
  },
  {
   "cell_type": "code",
   "execution_count": 148,
   "id": "3f9d02d2-531a-4138-88fb-109f01e520e4",
   "metadata": {},
   "outputs": [
    {
     "data": {
      "text/plain": [
       "(2668, 2)"
      ]
     },
     "execution_count": 148,
     "metadata": {},
     "output_type": "execute_result"
    }
   ],
   "source": [
    "df_burclar = df[['Name', 'birthDate']]\n",
    "df_burclar.shape"
   ]
  },
  {
   "cell_type": "code",
   "execution_count": 152,
   "id": "b77ab1fb-0b99-491a-b859-12093c94f69c",
   "metadata": {},
   "outputs": [
    {
     "data": {
      "text/plain": [
       "(2569, 2)"
      ]
     },
     "execution_count": 152,
     "metadata": {},
     "output_type": "execute_result"
    }
   ],
   "source": [
    "df_burclar.dropna(inplace= True)\n",
    "df_burclar.shape"
   ]
  },
  {
   "cell_type": "code",
   "execution_count": 153,
   "id": "7c823c02-55ad-4a83-87b6-e47668d32e04",
   "metadata": {},
   "outputs": [
    {
     "data": {
      "text/plain": [
       "0"
      ]
     },
     "execution_count": 153,
     "metadata": {},
     "output_type": "execute_result"
    }
   ],
   "source": [
    "df_burclar.birthDate.isnull().sum()"
   ]
  },
  {
   "cell_type": "code",
   "execution_count": 156,
   "id": "99fc9bef-7c23-46f2-9079-256e6f720bff",
   "metadata": {},
   "outputs": [
    {
     "data": {
      "text/plain": [
       "pandas.core.series.Series"
      ]
     },
     "execution_count": 156,
     "metadata": {},
     "output_type": "execute_result"
    }
   ],
   "source": [
    "type(df_burclar.birthDate)"
   ]
  },
  {
   "cell_type": "code",
   "execution_count": 163,
   "id": "9546b91e-2b0f-4932-be93-140dc7d7c8ff",
   "metadata": {},
   "outputs": [
    {
     "data": {
      "text/plain": [
       "'1971'"
      ]
     },
     "execution_count": 163,
     "metadata": {},
     "output_type": "execute_result"
    }
   ],
   "source": [
    "df.birthDate[:][0][0:4]"
   ]
  },
  {
   "cell_type": "code",
   "execution_count": 164,
   "id": "c06ec5e6-8d51-4ad6-ac6c-69d10b8daeef",
   "metadata": {},
   "outputs": [],
   "source": [
    "from datetime import datetime"
   ]
  },
  {
   "cell_type": "code",
   "execution_count": 167,
   "id": "8137fb0d-5484-47f9-95d4-ecde49a82738",
   "metadata": {},
   "outputs": [
    {
     "data": {
      "text/plain": [
       "0   1971-06-28\n",
       "1   1964-01-12\n",
       "2   1949-03-05\n",
       "3   1955-10-28\n",
       "4   1930-08-30\n",
       "Name: birthDate, dtype: datetime64[ns]"
      ]
     },
     "execution_count": 167,
     "metadata": {},
     "output_type": "execute_result"
    }
   ],
   "source": [
    "df_burclar['birthDate'] = pd.DatetimeIndex(df_burclar['birthDate'])\n",
    "df_burclar.birthDate.head()"
   ]
  },
  {
   "cell_type": "code",
   "execution_count": 219,
   "id": "7a4eeb77-43ce-42cb-b63b-298df720a24b",
   "metadata": {},
   "outputs": [
    {
     "data": {
      "text/html": [
       "<div>\n",
       "<style scoped>\n",
       "    .dataframe tbody tr th:only-of-type {\n",
       "        vertical-align: middle;\n",
       "    }\n",
       "\n",
       "    .dataframe tbody tr th {\n",
       "        vertical-align: top;\n",
       "    }\n",
       "\n",
       "    .dataframe thead th {\n",
       "        text-align: right;\n",
       "    }\n",
       "</style>\n",
       "<table border=\"1\" class=\"dataframe\">\n",
       "  <thead>\n",
       "    <tr style=\"text-align: right;\">\n",
       "      <th></th>\n",
       "      <th>Name</th>\n",
       "      <th>birthDate</th>\n",
       "      <th>day</th>\n",
       "      <th>ay</th>\n",
       "      <th>gun</th>\n",
       "    </tr>\n",
       "  </thead>\n",
       "  <tbody>\n",
       "    <tr>\n",
       "      <th>0</th>\n",
       "      <td>Elon Musk</td>\n",
       "      <td>1971-06-28</td>\n",
       "      <td>28</td>\n",
       "      <td>6</td>\n",
       "      <td>28</td>\n",
       "    </tr>\n",
       "    <tr>\n",
       "      <th>1</th>\n",
       "      <td>Jeff Bezos</td>\n",
       "      <td>1964-01-12</td>\n",
       "      <td>12</td>\n",
       "      <td>1</td>\n",
       "      <td>12</td>\n",
       "    </tr>\n",
       "    <tr>\n",
       "      <th>2</th>\n",
       "      <td>Bernard Arnault &amp; family</td>\n",
       "      <td>1949-03-05</td>\n",
       "      <td>5</td>\n",
       "      <td>3</td>\n",
       "      <td>5</td>\n",
       "    </tr>\n",
       "    <tr>\n",
       "      <th>3</th>\n",
       "      <td>Bill Gates</td>\n",
       "      <td>1955-10-28</td>\n",
       "      <td>28</td>\n",
       "      <td>10</td>\n",
       "      <td>28</td>\n",
       "    </tr>\n",
       "    <tr>\n",
       "      <th>4</th>\n",
       "      <td>Warren Buffett</td>\n",
       "      <td>1930-08-30</td>\n",
       "      <td>30</td>\n",
       "      <td>8</td>\n",
       "      <td>30</td>\n",
       "    </tr>\n",
       "  </tbody>\n",
       "</table>\n",
       "</div>"
      ],
      "text/plain": [
       "                       Name  birthDate  day  ay  gun\n",
       "0                 Elon Musk 1971-06-28   28   6   28\n",
       "1                Jeff Bezos 1964-01-12   12   1   12\n",
       "2  Bernard Arnault & family 1949-03-05    5   3    5\n",
       "3                Bill Gates 1955-10-28   28  10   28\n",
       "4            Warren Buffett 1930-08-30   30   8   30"
      ]
     },
     "execution_count": 219,
     "metadata": {},
     "output_type": "execute_result"
    }
   ],
   "source": [
    "df_burclar['gun'] = df_burclar.birthDate.dt.day\n",
    "df_burclar['ay'] = df_burclar.birthDate.dt.month\n",
    "df_burclar.head()"
   ]
  },
  {
   "cell_type": "code",
   "execution_count": 186,
   "id": "253c7737-ea68-40f9-9db7-e37193a89ef6",
   "metadata": {},
   "outputs": [
    {
     "data": {
      "text/plain": [
       "2569"
      ]
     },
     "execution_count": 186,
     "metadata": {},
     "output_type": "execute_result"
    }
   ],
   "source": [
    "len(df_burclar)"
   ]
  },
  {
   "cell_type": "code",
   "execution_count": 224,
   "id": "2332fe98-9151-41b6-810b-8be4683b8f1c",
   "metadata": {},
   "outputs": [
    {
     "name": "stdout",
     "output_type": "stream",
     "text": [
      "                          Name  birthDate  day  ay  gun\n",
      "0                    Elon Musk 1971-06-28   28   6   28\n",
      "1                   Jeff Bezos 1964-01-12   12   1   12\n",
      "2     Bernard Arnault & family 1949-03-05    5   3    5\n",
      "3                   Bill Gates 1955-10-28   28  10   28\n",
      "4               Warren Buffett 1930-08-30   30   8   30\n",
      "...                        ...        ...  ...  ..  ...\n",
      "2663             Zhang Yuqiang 1955-09-01    1   9    1\n",
      "2664                Zhou Ruxin 1963-03-01    1   3    1\n",
      "2665         Wen Zhou & family 1965-03-06    6   3    6\n",
      "2666      Zhou Yifeng & family 1978-07-11   11   7   11\n",
      "2667   Zhuang Kuilong & family 1962-06-15   15   6   15\n",
      "\n",
      "[2569 rows x 5 columns]\n"
     ]
    },
    {
     "ename": "KeyError",
     "evalue": "34",
     "output_type": "error",
     "traceback": [
      "\u001b[0;31m---------------------------------------------------------------------------\u001b[0m",
      "\u001b[0;31mKeyError\u001b[0m                                  Traceback (most recent call last)",
      "\u001b[0;32m~/opt/anaconda3/lib/python3.8/site-packages/pandas/core/indexes/base.py\u001b[0m in \u001b[0;36mget_loc\u001b[0;34m(self, key, method, tolerance)\u001b[0m\n\u001b[1;32m   3360\u001b[0m             \u001b[0;32mtry\u001b[0m\u001b[0;34m:\u001b[0m\u001b[0;34m\u001b[0m\u001b[0;34m\u001b[0m\u001b[0m\n\u001b[0;32m-> 3361\u001b[0;31m                 \u001b[0;32mreturn\u001b[0m \u001b[0mself\u001b[0m\u001b[0;34m.\u001b[0m\u001b[0m_engine\u001b[0m\u001b[0;34m.\u001b[0m\u001b[0mget_loc\u001b[0m\u001b[0;34m(\u001b[0m\u001b[0mcasted_key\u001b[0m\u001b[0;34m)\u001b[0m\u001b[0;34m\u001b[0m\u001b[0;34m\u001b[0m\u001b[0m\n\u001b[0m\u001b[1;32m   3362\u001b[0m             \u001b[0;32mexcept\u001b[0m \u001b[0mKeyError\u001b[0m \u001b[0;32mas\u001b[0m \u001b[0merr\u001b[0m\u001b[0;34m:\u001b[0m\u001b[0;34m\u001b[0m\u001b[0;34m\u001b[0m\u001b[0m\n",
      "\u001b[0;32m~/opt/anaconda3/lib/python3.8/site-packages/pandas/_libs/index.pyx\u001b[0m in \u001b[0;36mpandas._libs.index.IndexEngine.get_loc\u001b[0;34m()\u001b[0m\n",
      "\u001b[0;32m~/opt/anaconda3/lib/python3.8/site-packages/pandas/_libs/index.pyx\u001b[0m in \u001b[0;36mpandas._libs.index.IndexEngine.get_loc\u001b[0;34m()\u001b[0m\n",
      "\u001b[0;32mpandas/_libs/hashtable_class_helper.pxi\u001b[0m in \u001b[0;36mpandas._libs.hashtable.Int64HashTable.get_item\u001b[0;34m()\u001b[0m\n",
      "\u001b[0;32mpandas/_libs/hashtable_class_helper.pxi\u001b[0m in \u001b[0;36mpandas._libs.hashtable.Int64HashTable.get_item\u001b[0;34m()\u001b[0m\n",
      "\u001b[0;31mKeyError\u001b[0m: 34",
      "\nThe above exception was the direct cause of the following exception:\n",
      "\u001b[0;31mKeyError\u001b[0m                                  Traceback (most recent call last)",
      "\u001b[0;32m/var/folders/ht/tcz99qld7qz6stv5g043rfyc0000gn/T/ipykernel_1717/1985018025.py\u001b[0m in \u001b[0;36m<module>\u001b[0;34m\u001b[0m\n\u001b[1;32m      1\u001b[0m \u001b[0;32mfor\u001b[0m \u001b[0mi\u001b[0m \u001b[0;32min\u001b[0m \u001b[0mrange\u001b[0m \u001b[0;34m(\u001b[0m\u001b[0;36m0\u001b[0m\u001b[0;34m,\u001b[0m\u001b[0mlen\u001b[0m\u001b[0;34m(\u001b[0m\u001b[0mdf_burclar\u001b[0m\u001b[0;34m)\u001b[0m\u001b[0;34m)\u001b[0m\u001b[0;34m:\u001b[0m\u001b[0;34m\u001b[0m\u001b[0;34m\u001b[0m\u001b[0m\n\u001b[0;32m----> 2\u001b[0;31m     \u001b[0;32mif\u001b[0m \u001b[0;34m(\u001b[0m\u001b[0mdf_burclar\u001b[0m\u001b[0;34m.\u001b[0m\u001b[0may\u001b[0m\u001b[0;34m[\u001b[0m\u001b[0mi\u001b[0m\u001b[0;34m]\u001b[0m \u001b[0;34m==\u001b[0m \u001b[0;36m5\u001b[0m\u001b[0;34m)\u001b[0m\u001b[0;34m:\u001b[0m\u001b[0;34m\u001b[0m\u001b[0;34m\u001b[0m\u001b[0m\n\u001b[0m\u001b[1;32m      3\u001b[0m         \u001b[0mprint\u001b[0m\u001b[0;34m(\u001b[0m\u001b[0mdf_burclar\u001b[0m\u001b[0;34m)\u001b[0m\u001b[0;34m\u001b[0m\u001b[0;34m\u001b[0m\u001b[0m\n",
      "\u001b[0;32m~/opt/anaconda3/lib/python3.8/site-packages/pandas/core/series.py\u001b[0m in \u001b[0;36m__getitem__\u001b[0;34m(self, key)\u001b[0m\n\u001b[1;32m    940\u001b[0m \u001b[0;34m\u001b[0m\u001b[0m\n\u001b[1;32m    941\u001b[0m         \u001b[0;32melif\u001b[0m \u001b[0mkey_is_scalar\u001b[0m\u001b[0;34m:\u001b[0m\u001b[0;34m\u001b[0m\u001b[0;34m\u001b[0m\u001b[0m\n\u001b[0;32m--> 942\u001b[0;31m             \u001b[0;32mreturn\u001b[0m \u001b[0mself\u001b[0m\u001b[0;34m.\u001b[0m\u001b[0m_get_value\u001b[0m\u001b[0;34m(\u001b[0m\u001b[0mkey\u001b[0m\u001b[0;34m)\u001b[0m\u001b[0;34m\u001b[0m\u001b[0;34m\u001b[0m\u001b[0m\n\u001b[0m\u001b[1;32m    943\u001b[0m \u001b[0;34m\u001b[0m\u001b[0m\n\u001b[1;32m    944\u001b[0m         \u001b[0;32mif\u001b[0m \u001b[0mis_hashable\u001b[0m\u001b[0;34m(\u001b[0m\u001b[0mkey\u001b[0m\u001b[0;34m)\u001b[0m\u001b[0;34m:\u001b[0m\u001b[0;34m\u001b[0m\u001b[0;34m\u001b[0m\u001b[0m\n",
      "\u001b[0;32m~/opt/anaconda3/lib/python3.8/site-packages/pandas/core/series.py\u001b[0m in \u001b[0;36m_get_value\u001b[0;34m(self, label, takeable)\u001b[0m\n\u001b[1;32m   1049\u001b[0m \u001b[0;34m\u001b[0m\u001b[0m\n\u001b[1;32m   1050\u001b[0m         \u001b[0;31m# Similar to Index.get_value, but we do not fall back to positional\u001b[0m\u001b[0;34m\u001b[0m\u001b[0;34m\u001b[0m\u001b[0;34m\u001b[0m\u001b[0m\n\u001b[0;32m-> 1051\u001b[0;31m         \u001b[0mloc\u001b[0m \u001b[0;34m=\u001b[0m \u001b[0mself\u001b[0m\u001b[0;34m.\u001b[0m\u001b[0mindex\u001b[0m\u001b[0;34m.\u001b[0m\u001b[0mget_loc\u001b[0m\u001b[0;34m(\u001b[0m\u001b[0mlabel\u001b[0m\u001b[0;34m)\u001b[0m\u001b[0;34m\u001b[0m\u001b[0;34m\u001b[0m\u001b[0m\n\u001b[0m\u001b[1;32m   1052\u001b[0m         \u001b[0;32mreturn\u001b[0m \u001b[0mself\u001b[0m\u001b[0;34m.\u001b[0m\u001b[0mindex\u001b[0m\u001b[0;34m.\u001b[0m\u001b[0m_get_values_for_loc\u001b[0m\u001b[0;34m(\u001b[0m\u001b[0mself\u001b[0m\u001b[0;34m,\u001b[0m \u001b[0mloc\u001b[0m\u001b[0;34m,\u001b[0m \u001b[0mlabel\u001b[0m\u001b[0;34m)\u001b[0m\u001b[0;34m\u001b[0m\u001b[0;34m\u001b[0m\u001b[0m\n\u001b[1;32m   1053\u001b[0m \u001b[0;34m\u001b[0m\u001b[0m\n",
      "\u001b[0;32m~/opt/anaconda3/lib/python3.8/site-packages/pandas/core/indexes/base.py\u001b[0m in \u001b[0;36mget_loc\u001b[0;34m(self, key, method, tolerance)\u001b[0m\n\u001b[1;32m   3361\u001b[0m                 \u001b[0;32mreturn\u001b[0m \u001b[0mself\u001b[0m\u001b[0;34m.\u001b[0m\u001b[0m_engine\u001b[0m\u001b[0;34m.\u001b[0m\u001b[0mget_loc\u001b[0m\u001b[0;34m(\u001b[0m\u001b[0mcasted_key\u001b[0m\u001b[0;34m)\u001b[0m\u001b[0;34m\u001b[0m\u001b[0;34m\u001b[0m\u001b[0m\n\u001b[1;32m   3362\u001b[0m             \u001b[0;32mexcept\u001b[0m \u001b[0mKeyError\u001b[0m \u001b[0;32mas\u001b[0m \u001b[0merr\u001b[0m\u001b[0;34m:\u001b[0m\u001b[0;34m\u001b[0m\u001b[0;34m\u001b[0m\u001b[0m\n\u001b[0;32m-> 3363\u001b[0;31m                 \u001b[0;32mraise\u001b[0m \u001b[0mKeyError\u001b[0m\u001b[0;34m(\u001b[0m\u001b[0mkey\u001b[0m\u001b[0;34m)\u001b[0m \u001b[0;32mfrom\u001b[0m \u001b[0merr\u001b[0m\u001b[0;34m\u001b[0m\u001b[0;34m\u001b[0m\u001b[0m\n\u001b[0m\u001b[1;32m   3364\u001b[0m \u001b[0;34m\u001b[0m\u001b[0m\n\u001b[1;32m   3365\u001b[0m         \u001b[0;32mif\u001b[0m \u001b[0mis_scalar\u001b[0m\u001b[0;34m(\u001b[0m\u001b[0mkey\u001b[0m\u001b[0;34m)\u001b[0m \u001b[0;32mand\u001b[0m \u001b[0misna\u001b[0m\u001b[0;34m(\u001b[0m\u001b[0mkey\u001b[0m\u001b[0;34m)\u001b[0m \u001b[0;32mand\u001b[0m \u001b[0;32mnot\u001b[0m \u001b[0mself\u001b[0m\u001b[0;34m.\u001b[0m\u001b[0mhasnans\u001b[0m\u001b[0;34m:\u001b[0m\u001b[0;34m\u001b[0m\u001b[0;34m\u001b[0m\u001b[0m\n",
      "\u001b[0;31mKeyError\u001b[0m: 34"
     ]
    }
   ],
   "source": [
    "for i in range (0,len(df_burclar)):\n",
    "    if (df_burclar.ay[i] == 5):\n",
    "        print(df_burclar)"
   ]
  },
  {
   "cell_type": "code",
   "execution_count": 203,
   "id": "60b892b2-d0a0-47bb-93a2-3cc898fb06a8",
   "metadata": {},
   "outputs": [
    {
     "data": {
      "text/plain": [
       "numpy.int64"
      ]
     },
     "execution_count": 203,
     "metadata": {},
     "output_type": "execute_result"
    }
   ],
   "source": [
    "type(month[0])"
   ]
  },
  {
   "cell_type": "code",
   "execution_count": 204,
   "id": "20b9ac60-eaae-4ea6-9028-55aedba4a081",
   "metadata": {},
   "outputs": [
    {
     "data": {
      "text/plain": [
       "6"
      ]
     },
     "execution_count": 204,
     "metadata": {},
     "output_type": "execute_result"
    }
   ],
   "source": [
    "month[0]"
   ]
  },
  {
   "cell_type": "code",
   "execution_count": null,
   "id": "1e886d24-2cee-4a61-9e09-78ac55691790",
   "metadata": {},
   "outputs": [],
   "source": []
  }
 ],
 "metadata": {
  "kernelspec": {
   "display_name": "Python 3 (ipykernel)",
   "language": "python",
   "name": "python3"
  },
  "language_info": {
   "codemirror_mode": {
    "name": "ipython",
    "version": 3
   },
   "file_extension": ".py",
   "mimetype": "text/x-python",
   "name": "python",
   "nbconvert_exporter": "python",
   "pygments_lexer": "ipython3",
   "version": "3.8.8"
  }
 },
 "nbformat": 4,
 "nbformat_minor": 5
}

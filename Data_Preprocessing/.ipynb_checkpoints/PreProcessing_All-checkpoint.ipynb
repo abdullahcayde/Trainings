{
 "cells": [
  {
   "cell_type": "code",
   "execution_count": 1,
   "id": "51c9a014-748b-4fc3-873d-3b53c9ed94c4",
   "metadata": {},
   "outputs": [],
   "source": [
    "import pandas as pd\n",
    "import numpy as np\n",
    "\n",
    "pd.options.display.float_format = '{:,.4f}'.format\n",
    "pd.options.plotting.backend = 'plotly'"
   ]
  },
  {
   "cell_type": "code",
   "execution_count": null,
   "id": "36f8a184-58d4-4222-b5c7-96e4b0dcf913",
   "metadata": {},
   "outputs": [],
   "source": [
    "# conda install -c conda-forge name_of_library\n",
    "# conda install -c conda-forge lightgbm"
   ]
  },
  {
   "cell_type": "markdown",
   "id": "f7e01d7f-887d-40f0-9321-264e6d4f02e4",
   "metadata": {},
   "source": [
    "# Basics"
   ]
  },
  {
   "cell_type": "code",
   "execution_count": null,
   "id": "73dadea5-f35b-4269-94b2-6e9673816e20",
   "metadata": {},
   "outputs": [],
   "source": [
    "np.random.randint(20) # Bir sayi uretir 20 ye kadar olan sayilardan\n",
    "np.random.randint(1,20, 5) # 5 sayi uretir 1-20 arasindan random\n",
    "np.random.seed(42) # Kaynak belirlersin , random sayilar degismez\n",
    "\n",
    "np.around(array, decimal)\n",
    "np.around(df.col1 , 2)\n",
    "\n",
    "\n",
    "df.columns = [x.upper() for x in df.columns]\n",
    "df.rename(columns= {'col1' : 'new_name1' ,\n",
    "                    'col2' : 'new_name2'})\n",
    "\n",
    "round(number, decimal)\n",
    "round(185.33, 1)\n"
   ]
  },
  {
   "cell_type": "code",
   "execution_count": 2,
   "id": "3e1c45d3-b5cc-43d2-86d2-25a618f36756",
   "metadata": {},
   "outputs": [
    {
     "data": {
      "text/plain": [
       "'/Users/macbook/Desktop/projects/Github_Repositories/Trainings/Data_Preprocessing'"
      ]
     },
     "execution_count": 2,
     "metadata": {},
     "output_type": "execute_result"
    }
   ],
   "source": [
    "pwd"
   ]
  },
  {
   "cell_type": "code",
   "execution_count": null,
   "id": "33cb8e98-e6f4-4831-bf08-9083ea9fa45b",
   "metadata": {},
   "outputs": [],
   "source": []
  },
  {
   "cell_type": "markdown",
   "id": "35e83d79-d8ad-4213-a90d-96bad7849d3b",
   "metadata": {},
   "source": [
    "# Cleaning"
   ]
  },
  {
   "cell_type": "code",
   "execution_count": null,
   "id": "7a8320ad-80f3-4697-a2a2-3e7ad7fed145",
   "metadata": {},
   "outputs": [],
   "source": [
    "----------------- drop -----------------\n",
    "df.drop('index1', axis=0, inplace=True)\n",
    "df.drop('col1', axis=1, inplace=False)\n",
    "\n",
    "\n",
    "----------------- dropna -----------------\n",
    "df.dropna(axis=0, how='any', thresh=None, subset=None, inplace=False)\n",
    "how = 'any' , 'all'\n",
    "thresh = 2 en az iki tane NAN olmali\n",
    "subset= ['col1', 'col2'] # hangi kolonlara bakilacak"
   ]
  },
  {
   "cell_type": "code",
   "execution_count": null,
   "id": "f1b721c0-4baf-4448-88c3-43d47447dd95",
   "metadata": {},
   "outputs": [],
   "source": []
  },
  {
   "cell_type": "code",
   "execution_count": null,
   "id": "8649d063-edd5-4724-b14d-e51bc4447749",
   "metadata": {},
   "outputs": [],
   "source": []
  },
  {
   "cell_type": "markdown",
   "id": "4ab7d96f-1df5-4841-a919-0ed02f92ef4a",
   "metadata": {},
   "source": [
    "# Filtering"
   ]
  },
  {
   "cell_type": "code",
   "execution_count": null,
   "id": "df9f67da-04e1-4a5b-b888-0659da2fed0f",
   "metadata": {},
   "outputs": [],
   "source": [
    "df[0:3]\n",
    "df[0:3]['col1']\n",
    "df[0:3][['col1', 'col2']]\n",
    "\n",
    "df[df.col1 > 20] ==> bu kosulu saglayan\n",
    "df.price[df.price > 2500] ==> sadece price kolonu\n",
    "df[['price', 'model']][df.price > 2500] ==> price ve model kolonu\n",
    "\n",
    "filt = df.Region == 'Rietberg'\n",
    "df.loc[filt]\n",
    "\n",
    "\n",
    "001----------------- df.loc  ----------------- (labels)\n",
    "df.loc[rows, columns]\n",
    "df.loc[[0.3], :]\n",
    "df.loc[[0,3,5], ['make', 'price']]\n",
    "df.loc[3, 'price':'year']\n",
    "\n",
    "\n",
    "002----------------- df.iloc ----------------- (index)\n",
    "df.loc[0:3] ==> 3. index dahil\n",
    "df.iloc[0:3] ==> 3. index dahil degil\n",
    "\n",
    "\n",
    "003----------------- df.query -----------------\n",
    "df.query('col1>10')\n",
    "df.query(\"col1 == 'Mitte'\")\n",
    "df.query('col1 == \"Mitte\"& col2<1500')\n",
    "\n",
    "\n",
    "004----------------- df.isin -----------------\n",
    "df.loc[df.col1.isin(['usa', 'tr', 'de'])]\n",
    "\n",
    "list1 = ['usa', 'tr', 'de']\n",
    "filt = df.['col1'].isin(list1)\n",
    "df.loc[filt]"
   ]
  },
  {
   "cell_type": "markdown",
   "id": "c0149545-cfc2-4b2e-992d-87a24ffdf8e1",
   "metadata": {},
   "source": [
    "# assign"
   ]
  },
  {
   "cell_type": "code",
   "execution_count": null,
   "id": "6267b65b-21c2-4173-9cc8-625ffc5ad4d8",
   "metadata": {},
   "outputs": [],
   "source": [
    "001----------------- df.assign  ----------------- \n",
    "# Assign new columns to a DataFrame\n",
    "df.assign(new_col=lambda x: x.col2 * 10) ==> #DataFrame degismez sadece ne oluyor onu gorursun\n",
    "df['new_col'] = df.assign(new_col=lambda x: x.col2 * 10)\n",
    "df['new_col'] = df.assign(lambda x : x.age.map(lambda x: 'Genc' if x<30 else 'Yasli'))\n",
    "\n",
    "\n",
    "002----------------- df.loc  ----------------- \n",
    "# Yukardaki ile ayni ama tek atama yapar Yasli icin ayri yapmak lazim\n",
    "df.loc[df['age'] < 30, 'new_col'] = 'Genc'\n",
    "\n",
    "003----------------- df.col1.map  ----------------- \n",
    "dic1 = {'Mitte' : 'NRW', 'Kreuzberg': 'Berlin', 'Value_old' : 'New_Value'}\n",
    "df['new_col'] = df.col1.map(dic1)\n",
    "\n"
   ]
  },
  {
   "cell_type": "code",
   "execution_count": null,
   "id": "7b39f3a8-b41d-4dc7-a7e7-493dfcd931cf",
   "metadata": {},
   "outputs": [],
   "source": []
  },
  {
   "cell_type": "markdown",
   "id": "e74ca8c4-fa99-4a2c-ad60-0c4bd010f5a2",
   "metadata": {},
   "source": [
    "# concat, merge"
   ]
  },
  {
   "cell_type": "code",
   "execution_count": null,
   "id": "42195d0c-a70c-4cff-9f86-8a2a9f08e431",
   "metadata": {},
   "outputs": [],
   "source": [
    "----------------- concat -----------------\n",
    "pd.concat(objs, axis=0, join='outer', ignore_index=False, keys=None, levels=None, names=None, verify_integrity=False, sort=False, copy=True)\n",
    "\n",
    "pd.concat([df1,df2], axis=1, ignore_index=True, join='inner') \n",
    "axis= 0, 1 # 0 alt alta ekler , 1 yan yana ekler\n",
    "ignore_index= True , False #  True sirali index olur , False eski indexler kalir    \n",
    "join= 'inner', 'outer'  # inner= ayni kolonlari alir, \n",
    "verify_integrity=True # Duplicate kontrol eder\n",
    "\n",
    "\n",
    "----------------- merge -----------------\n",
    "# sadece 2 DataFrame birlestirlir\n",
    "pd.merge(df1,df2, on='ayni_kolon')\n",
    "pd.merge(df1,df2, on='ayni_kolon', how='inner') # how = inner, left , right\n"
   ]
  },
  {
   "cell_type": "code",
   "execution_count": null,
   "id": "b909aa82-4d0e-4254-a8fe-3f41021a1559",
   "metadata": {},
   "outputs": [],
   "source": []
  },
  {
   "cell_type": "markdown",
   "id": "1504ac29-560b-4009-90a4-0c7c13ae5c26",
   "metadata": {},
   "source": [
    "# cut (bins)"
   ]
  },
  {
   "cell_type": "code",
   "execution_count": null,
   "id": "d04dd791-ce95-4333-b24a-4c0e01d46ba3",
   "metadata": {},
   "outputs": [],
   "source": [
    "bins = [0,500,1000,1500]\n",
    "labels = ['ucuz', 'normal', 'pahali']\n",
    "df['new_col'] = pd.cut(df['price'], bins=bins, labels=labels) ===> #1500 den buyuk degerler NAN atanir !!"
   ]
  },
  {
   "cell_type": "code",
   "execution_count": null,
   "id": "3e2e852e-98b4-4460-9c74-8e34b891ee0d",
   "metadata": {},
   "outputs": [],
   "source": []
  },
  {
   "cell_type": "code",
   "execution_count": null,
   "id": "9a81e9c1-17ff-4bbe-ac8a-17c633997425",
   "metadata": {},
   "outputs": [],
   "source": []
  },
  {
   "cell_type": "code",
   "execution_count": null,
   "id": "268e46f1-2c00-4b27-9127-abbd7a0d03c5",
   "metadata": {},
   "outputs": [],
   "source": []
  }
 ],
 "metadata": {
  "kernelspec": {
   "display_name": "Python 3 (ipykernel)",
   "language": "python",
   "name": "python3"
  },
  "language_info": {
   "codemirror_mode": {
    "name": "ipython",
    "version": 3
   },
   "file_extension": ".py",
   "mimetype": "text/x-python",
   "name": "python",
   "nbconvert_exporter": "python",
   "pygments_lexer": "ipython3",
   "version": "3.9.12"
  },
  "toc-autonumbering": true
 },
 "nbformat": 4,
 "nbformat_minor": 5
}

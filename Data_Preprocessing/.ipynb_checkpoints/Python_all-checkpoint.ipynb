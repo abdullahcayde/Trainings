{
 "cells": [
  {
   "cell_type": "markdown",
   "id": "ec3e66be-e665-4acc-921f-5c83aac9ef33",
   "metadata": {},
   "source": [
    "# Python"
   ]
  },
  {
   "cell_type": "code",
   "execution_count": 1,
   "id": "1399aeaf-154c-4df6-a09a-1212d735e682",
   "metadata": {},
   "outputs": [],
   "source": [
    "def fonk(*args):\n",
    "    for i in args:\n",
    "        print(i)"
   ]
  },
  {
   "cell_type": "code",
   "execution_count": 2,
   "id": "1715ab2d-8a84-4b26-a387-0396c2505cab",
   "metadata": {},
   "outputs": [
    {
     "name": "stdout",
     "output_type": "stream",
     "text": [
      "1\n",
      "2\n",
      "3\n"
     ]
    }
   ],
   "source": [
    "fonk(1,2,3)"
   ]
  },
  {
   "cell_type": "code",
   "execution_count": 3,
   "id": "461900f1-e0b5-45c5-9339-97684ed33325",
   "metadata": {},
   "outputs": [],
   "source": [
    "def fonk(isim, *args):\n",
    "    print('isim:', isim)\n",
    "    for i in args:\n",
    "        print(i)"
   ]
  },
  {
   "cell_type": "code",
   "execution_count": 4,
   "id": "256bec78-94bb-4bf8-958f-a85b75a5fd4e",
   "metadata": {},
   "outputs": [
    {
     "name": "stdout",
     "output_type": "stream",
     "text": [
      "isim: Abdullah\n",
      "1\n",
      "2\n",
      "3\n"
     ]
    }
   ],
   "source": [
    "fonk('Abdullah', 1,2,3)"
   ]
  },
  {
   "cell_type": "code",
   "execution_count": 5,
   "id": "be4fac86-df0d-49c0-b263-bd944f8d3d3f",
   "metadata": {},
   "outputs": [],
   "source": [
    "def fonk(**kwargs):\n",
    "    print(kwargs)"
   ]
  },
  {
   "cell_type": "code",
   "execution_count": 7,
   "id": "f40522cc-0399-485f-988b-6a7735d96397",
   "metadata": {},
   "outputs": [
    {
     "name": "stdout",
     "output_type": "stream",
     "text": [
      "{'isim': 'Abdullah', 'soyisim': 'Cay', 'no': 123}\n"
     ]
    }
   ],
   "source": [
    "fonk(isim = 'Abdullah', soyisim = 'Cay', no = 123)"
   ]
  },
  {
   "cell_type": "code",
   "execution_count": 12,
   "id": "5f5c221f-a558-46bf-b0c1-395ed0177014",
   "metadata": {},
   "outputs": [],
   "source": [
    "def fonk(**kwargs):\n",
    "    for i,j in kwargs.items():\n",
    "        print(i,j, type(i), type(j))"
   ]
  },
  {
   "cell_type": "code",
   "execution_count": 13,
   "id": "599c6489-bf2c-43b8-bcb3-58c047315b39",
   "metadata": {},
   "outputs": [
    {
     "name": "stdout",
     "output_type": "stream",
     "text": [
      "isim Abdullah <class 'str'> <class 'str'>\n",
      "soyisim Cay <class 'str'> <class 'str'>\n",
      "no 123 <class 'str'> <class 'int'>\n"
     ]
    }
   ],
   "source": [
    "fonk(isim = 'Abdullah', soyisim = 'Cay', no = 123)"
   ]
  },
  {
   "cell_type": "code",
   "execution_count": null,
   "id": "9248ba88-6d41-4b4a-a980-83d66e987782",
   "metadata": {},
   "outputs": [],
   "source": []
  }
 ],
 "metadata": {
  "kernelspec": {
   "display_name": "Python 3 (ipykernel)",
   "language": "python",
   "name": "python3"
  },
  "language_info": {
   "codemirror_mode": {
    "name": "ipython",
    "version": 3
   },
   "file_extension": ".py",
   "mimetype": "text/x-python",
   "name": "python",
   "nbconvert_exporter": "python",
   "pygments_lexer": "ipython3",
   "version": "3.9.12"
  }
 },
 "nbformat": 4,
 "nbformat_minor": 5
}

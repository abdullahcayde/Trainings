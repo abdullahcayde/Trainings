{
 "cells": [
  {
   "cell_type": "markdown",
   "id": "dcef45e2-3227-4b15-8766-728804ed7978",
   "metadata": {},
   "source": [
    "# PostgreSQL "
   ]
  },
  {
   "cell_type": "code",
   "execution_count": null,
   "id": "b99f779c-8a89-4c10-aa08-f73f9d63404c",
   "metadata": {},
   "outputs": [],
   "source": [
    "# ----------------------- Connect To Database -----------------------\n",
    "\n",
    "hostname = 'localhost'\n",
    "database = 'sales'\n",
    "username = 'postgres'\n",
    "pwd = 1984\n",
    "port_id = 5432\n",
    "\n",
    "\n",
    "conn = psycopg2.connect(\n",
    "    host = hostname,\n",
    "    dbname = database,\n",
    "    user = username,\n",
    "    password = pwd,\n",
    "    port = port_id)\n",
    "\n",
    "# cursor factory tabloyu dict hale getirir , kolon adi ile secim yapabilmek icin\n",
    "cur = conn.cursor(cursor_factory = psycopg2.extras.DictCursor)\n",
    "\n",
    "# ----------------------- Drop Table if Exists -----------------------\n",
    "cur.execute('DROP TABLE IF EXISTS employee')\n",
    "\n",
    "# ----------------------- Create Table -----------------------\n",
    "create_script = '''CREATE TABLE IF NOT EXISTS employee (\n",
    "id int PRIMARY KEY,\n",
    "name varchar(40) NOT NULL,\n",
    "salary int,\n",
    "dept_id varchar(30)) '''\n",
    "\n",
    "cur.execute(create_script)\n",
    "\n",
    "\n",
    "# ----------------------- Insert Values -----------------------\n",
    "insert_script = 'INSERT INTO employee (id, name, salary, dept_id) VALUES (%s, %s, %s, %s)'\n",
    "insert_values = [(1, 'James', 12000, 'D1'), (2, 'Cellim', 20000, 'D1'), (3, 'Abdullah', 18000, 'D3')]\n",
    "\n",
    "for record in insert_values:\n",
    "    cur.execute(insert_script, record)\n",
    "\n",
    "cur.execute('SELECT * FROM employee')\n",
    "print('All', cur.fetchall())\n",
    "print(90*'*')\n",
    "\n",
    "cur.execute('SELECT * FROM employee')\n",
    "for record in cur.fetchall():\n",
    "    print(record[1], record[2])\n",
    "print(90*'*')\n",
    "\n",
    "cur.execute('SELECT * FROM employee')\n",
    "for record in cur.fetchall():\n",
    "    print(record['name'], record['dept_id'])\n",
    "print(90*'*')\n",
    "\n",
    "# ----------------------- UPDATE Salary -----------------------\n",
    "update_script = 'UPDATE employee SET salary = salary + (salary * 0.5)'\n",
    "cur.execute(update_script)\n",
    "\n",
    "# ----------------------- Delete Record -----------------------\n",
    "#delete_script = 'DELETE FROM employee Where name = %s'\n",
    "#delete_record = ('James',)\n",
    "#cur.execute(delete_script, delete_record)\n",
    "\n",
    "cur.execute('SELECT * FROM employee')\n",
    "print('All', cur.fetchall())\n",
    "print(90*'*')\n",
    "\n",
    "conn.commit()"
   ]
  },
  {
   "cell_type": "markdown",
   "id": "70b57942-8937-4976-aa14-aad362907cd5",
   "metadata": {},
   "source": [
    "## See all Tables in Database"
   ]
  },
  {
   "cell_type": "code",
   "execution_count": null,
   "id": "f31b58b2-6a86-4309-bfa9-02eb82dc3514",
   "metadata": {},
   "outputs": [],
   "source": [
    "## See all Tables in Database\n",
    "##01\n",
    "\n",
    "SELECT * FROM pg_catalog.pg_tables\n",
    "WHERE schemaname = 'public'\n",
    "AND schemaname != 'information_schema'\n",
    "\n",
    "## 02\n",
    "SELECT * FROM information_schema.tables\n",
    "WHERE table_schema = 'public'"
   ]
  }
 ],
 "metadata": {
  "kernelspec": {
   "display_name": "Python 3 (ipykernel)",
   "language": "python",
   "name": "python3"
  },
  "language_info": {
   "codemirror_mode": {
    "name": "ipython",
    "version": 3
   },
   "file_extension": ".py",
   "mimetype": "text/x-python",
   "name": "python",
   "nbconvert_exporter": "python",
   "pygments_lexer": "ipython3",
   "version": "3.9.12"
  }
 },
 "nbformat": 4,
 "nbformat_minor": 5
}

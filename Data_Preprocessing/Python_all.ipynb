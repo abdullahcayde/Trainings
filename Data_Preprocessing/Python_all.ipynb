{
 "cells": [
  {
   "cell_type": "markdown",
   "id": "ec3e66be-e665-4acc-921f-5c83aac9ef33",
   "metadata": {},
   "source": [
    "# Python"
   ]
  },
  {
   "cell_type": "markdown",
   "id": "26b1f4ba-19dc-431e-bdef-e5b08bf9ba92",
   "metadata": {},
   "source": [
    "## *args ve **kwargs"
   ]
  },
  {
   "cell_type": "code",
   "execution_count": 1,
   "id": "1399aeaf-154c-4df6-a09a-1212d735e682",
   "metadata": {},
   "outputs": [],
   "source": [
    "def fonk(*args):\n",
    "    for i in args:\n",
    "        print(i)"
   ]
  },
  {
   "cell_type": "code",
   "execution_count": 2,
   "id": "1715ab2d-8a84-4b26-a387-0396c2505cab",
   "metadata": {},
   "outputs": [
    {
     "name": "stdout",
     "output_type": "stream",
     "text": [
      "1\n",
      "2\n",
      "3\n"
     ]
    }
   ],
   "source": [
    "fonk(1,2,3)"
   ]
  },
  {
   "cell_type": "code",
   "execution_count": 3,
   "id": "461900f1-e0b5-45c5-9339-97684ed33325",
   "metadata": {},
   "outputs": [],
   "source": [
    "def fonk(isim, *args):\n",
    "    print('isim:', isim)\n",
    "    for i in args:\n",
    "        print(i)"
   ]
  },
  {
   "cell_type": "code",
   "execution_count": 4,
   "id": "256bec78-94bb-4bf8-958f-a85b75a5fd4e",
   "metadata": {},
   "outputs": [
    {
     "name": "stdout",
     "output_type": "stream",
     "text": [
      "isim: Abdullah\n",
      "1\n",
      "2\n",
      "3\n"
     ]
    }
   ],
   "source": [
    "fonk('Abdullah', 1,2,3)"
   ]
  },
  {
   "cell_type": "code",
   "execution_count": 5,
   "id": "be4fac86-df0d-49c0-b263-bd944f8d3d3f",
   "metadata": {},
   "outputs": [],
   "source": [
    "def fonk(**kwargs):\n",
    "    print(kwargs)"
   ]
  },
  {
   "cell_type": "code",
   "execution_count": 7,
   "id": "f40522cc-0399-485f-988b-6a7735d96397",
   "metadata": {},
   "outputs": [
    {
     "name": "stdout",
     "output_type": "stream",
     "text": [
      "{'isim': 'Abdullah', 'soyisim': 'Cay', 'no': 123}\n"
     ]
    }
   ],
   "source": [
    "fonk(isim = 'Abdullah', soyisim = 'Cay', no = 123)"
   ]
  },
  {
   "cell_type": "code",
   "execution_count": 16,
   "id": "5f5c221f-a558-46bf-b0c1-395ed0177014",
   "metadata": {},
   "outputs": [],
   "source": [
    "def fonk(**kwargs):\n",
    "    for i,j in kwargs.items():\n",
    "        print('Arguman ismi:', i, 'Arguman Degeri:', j, type(i), type(j))"
   ]
  },
  {
   "cell_type": "code",
   "execution_count": 17,
   "id": "599c6489-bf2c-43b8-bcb3-58c047315b39",
   "metadata": {},
   "outputs": [
    {
     "name": "stdout",
     "output_type": "stream",
     "text": [
      "Arguman ismi: isim Arguman Degeri: Abdullah <class 'str'> <class 'str'>\n",
      "Arguman ismi: soyisim Arguman Degeri: Cay <class 'str'> <class 'str'>\n",
      "Arguman ismi: no Arguman Degeri: 123 <class 'str'> <class 'int'>\n"
     ]
    }
   ],
   "source": [
    "fonk(isim = 'Abdullah', soyisim = 'Cay', no = 123)"
   ]
  },
  {
   "cell_type": "code",
   "execution_count": 18,
   "id": "9248ba88-6d41-4b4a-a980-83d66e987782",
   "metadata": {},
   "outputs": [],
   "source": [
    "def selamla(isim):\n",
    "    print('Selam' , isim)"
   ]
  },
  {
   "cell_type": "code",
   "execution_count": 19,
   "id": "84428fa3-104d-4675-8a49-20311375a2a4",
   "metadata": {},
   "outputs": [
    {
     "name": "stdout",
     "output_type": "stream",
     "text": [
      "Selam Abdullah\n"
     ]
    }
   ],
   "source": [
    "selamla('Abdullah')"
   ]
  },
  {
   "cell_type": "code",
   "execution_count": 20,
   "id": "d3cb964b-344d-45d3-b1ff-419471bfca64",
   "metadata": {},
   "outputs": [],
   "source": [
    "merhaba = selamla"
   ]
  },
  {
   "cell_type": "code",
   "execution_count": 21,
   "id": "b437d0ec-b744-4134-8c49-7b0184a78c78",
   "metadata": {},
   "outputs": [
    {
     "data": {
      "text/plain": [
       "<function __main__.selamla(isim)>"
      ]
     },
     "execution_count": 21,
     "metadata": {},
     "output_type": "execute_result"
    }
   ],
   "source": [
    "selamla"
   ]
  },
  {
   "cell_type": "code",
   "execution_count": 22,
   "id": "07f5327b-af5f-44f1-923a-2403072dedda",
   "metadata": {},
   "outputs": [
    {
     "data": {
      "text/plain": [
       "<function __main__.selamla(isim)>"
      ]
     },
     "execution_count": 22,
     "metadata": {},
     "output_type": "execute_result"
    }
   ],
   "source": [
    "merhaba"
   ]
  },
  {
   "cell_type": "code",
   "execution_count": 23,
   "id": "8cc83447-e99d-4f49-8f58-959a5380af3e",
   "metadata": {},
   "outputs": [
    {
     "name": "stdout",
     "output_type": "stream",
     "text": [
      "Selam Nurullah\n"
     ]
    }
   ],
   "source": [
    "merhaba('Nurullah')"
   ]
  },
  {
   "cell_type": "code",
   "execution_count": 24,
   "id": "6b574637-1b74-488a-83d6-443897e82627",
   "metadata": {},
   "outputs": [],
   "source": [
    "# Selamla fonk. silsek bile merhaba fonksiyonu silinmez\n",
    "del selamla"
   ]
  },
  {
   "cell_type": "code",
   "execution_count": 25,
   "id": "6d4505b0-07a4-46f6-90f3-20df9fb7d637",
   "metadata": {},
   "outputs": [
    {
     "ename": "NameError",
     "evalue": "name 'selamla' is not defined",
     "output_type": "error",
     "traceback": [
      "\u001b[0;31m---------------------------------------------------------------------------\u001b[0m",
      "\u001b[0;31mNameError\u001b[0m                                 Traceback (most recent call last)",
      "Input \u001b[0;32mIn [25]\u001b[0m, in \u001b[0;36m<cell line: 1>\u001b[0;34m()\u001b[0m\n\u001b[0;32m----> 1\u001b[0m \u001b[43mselamla\u001b[49m\n",
      "\u001b[0;31mNameError\u001b[0m: name 'selamla' is not defined"
     ]
    }
   ],
   "source": [
    "selamla"
   ]
  },
  {
   "cell_type": "code",
   "execution_count": 26,
   "id": "135975a9-f357-4a10-9c6d-1e656c1a593e",
   "metadata": {},
   "outputs": [
    {
     "name": "stdout",
     "output_type": "stream",
     "text": [
      "Selam Ayse\n"
     ]
    }
   ],
   "source": [
    "merhaba('Ayse')"
   ]
  },
  {
   "cell_type": "code",
   "execution_count": null,
   "id": "fe294f91-f990-42a9-b626-e745a542723e",
   "metadata": {},
   "outputs": [],
   "source": []
  }
 ],
 "metadata": {
  "kernelspec": {
   "display_name": "Python 3 (ipykernel)",
   "language": "python",
   "name": "python3"
  },
  "language_info": {
   "codemirror_mode": {
    "name": "ipython",
    "version": 3
   },
   "file_extension": ".py",
   "mimetype": "text/x-python",
   "name": "python",
   "nbconvert_exporter": "python",
   "pygments_lexer": "ipython3",
   "version": "3.9.12"
  }
 },
 "nbformat": 4,
 "nbformat_minor": 5
}

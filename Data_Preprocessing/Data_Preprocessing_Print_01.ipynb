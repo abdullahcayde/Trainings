{
 "cells": [
  {
   "cell_type": "markdown",
   "id": "ca27cd03-676c-45ff-a6b3-658854e32a37",
   "metadata": {},
   "source": [
    "# Aykiri Gozlem Analizi \n",
    "\n",
    "## Aykiri Degerleri Yakalamak"
   ]
  },
  {
   "cell_type": "code",
   "execution_count": 112,
   "id": "658806f3-776d-4590-b5a3-3194223e0fc1",
   "metadata": {},
   "outputs": [],
   "source": [
    "import numpy as np\n",
    "import pandas as pd\n",
    "import seaborn as sns\n",
    "\n",
    "import warnings\n",
    "warnings.simplefilter(action='ignore')\n",
    "\n",
    "# Grafik Ayarlari\n",
    "# Arka tarf cizgili olur\n",
    "sns.set_theme(style=\"whitegrid\")\n"
   ]
  },
  {
   "cell_type": "code",
   "execution_count": 114,
   "id": "f80833a2-5fbe-442d-8c41-0b88af4e7581",
   "metadata": {
    "tags": []
   },
   "outputs": [
    {
     "data": {
      "text/html": [
       "<div>\n",
       "<style scoped>\n",
       "    .dataframe tbody tr th:only-of-type {\n",
       "        vertical-align: middle;\n",
       "    }\n",
       "\n",
       "    .dataframe tbody tr th {\n",
       "        vertical-align: top;\n",
       "    }\n",
       "\n",
       "    .dataframe thead th {\n",
       "        text-align: right;\n",
       "    }\n",
       "</style>\n",
       "<table border=\"1\" class=\"dataframe\">\n",
       "  <thead>\n",
       "    <tr style=\"text-align: right;\">\n",
       "      <th></th>\n",
       "      <th>carat</th>\n",
       "      <th>depth</th>\n",
       "      <th>table</th>\n",
       "      <th>price</th>\n",
       "      <th>x</th>\n",
       "      <th>y</th>\n",
       "      <th>z</th>\n",
       "    </tr>\n",
       "  </thead>\n",
       "  <tbody>\n",
       "    <tr>\n",
       "      <th>0</th>\n",
       "      <td>0.23</td>\n",
       "      <td>61.5</td>\n",
       "      <td>55.0</td>\n",
       "      <td>326</td>\n",
       "      <td>3.95</td>\n",
       "      <td>3.98</td>\n",
       "      <td>2.43</td>\n",
       "    </tr>\n",
       "    <tr>\n",
       "      <th>1</th>\n",
       "      <td>0.21</td>\n",
       "      <td>59.8</td>\n",
       "      <td>61.0</td>\n",
       "      <td>326</td>\n",
       "      <td>3.89</td>\n",
       "      <td>3.84</td>\n",
       "      <td>2.31</td>\n",
       "    </tr>\n",
       "    <tr>\n",
       "      <th>2</th>\n",
       "      <td>0.23</td>\n",
       "      <td>56.9</td>\n",
       "      <td>65.0</td>\n",
       "      <td>327</td>\n",
       "      <td>4.05</td>\n",
       "      <td>4.07</td>\n",
       "      <td>2.31</td>\n",
       "    </tr>\n",
       "    <tr>\n",
       "      <th>3</th>\n",
       "      <td>0.29</td>\n",
       "      <td>62.4</td>\n",
       "      <td>58.0</td>\n",
       "      <td>334</td>\n",
       "      <td>4.20</td>\n",
       "      <td>4.23</td>\n",
       "      <td>2.63</td>\n",
       "    </tr>\n",
       "    <tr>\n",
       "      <th>4</th>\n",
       "      <td>0.31</td>\n",
       "      <td>63.3</td>\n",
       "      <td>58.0</td>\n",
       "      <td>335</td>\n",
       "      <td>4.34</td>\n",
       "      <td>4.35</td>\n",
       "      <td>2.75</td>\n",
       "    </tr>\n",
       "  </tbody>\n",
       "</table>\n",
       "</div>"
      ],
      "text/plain": [
       "   carat  depth  table  price     x     y     z\n",
       "0   0.23   61.5   55.0    326  3.95  3.98  2.43\n",
       "1   0.21   59.8   61.0    326  3.89  3.84  2.31\n",
       "2   0.23   56.9   65.0    327  4.05  4.07  2.31\n",
       "3   0.29   62.4   58.0    334  4.20  4.23  2.63\n",
       "4   0.31   63.3   58.0    335  4.34  4.35  2.75"
      ]
     },
     "execution_count": 114,
     "metadata": {},
     "output_type": "execute_result"
    }
   ],
   "source": [
    "df = sns.load_dataset('diamonds')\n",
    "df = df.select_dtypes(include = ['float64', 'int64'])\n",
    "df = df.dropna()\n",
    "df.head()"
   ]
  },
  {
   "cell_type": "code",
   "execution_count": 115,
   "id": "c56f9a47-3acf-4a2a-bd60-201c83dc4bb7",
   "metadata": {},
   "outputs": [
    {
     "data": {
      "text/plain": [
       "0    55.0\n",
       "1    61.0\n",
       "2    65.0\n",
       "3    58.0\n",
       "4    58.0\n",
       "Name: table, dtype: float64"
      ]
     },
     "execution_count": 115,
     "metadata": {},
     "output_type": "execute_result"
    }
   ],
   "source": [
    "df_table = df['table']\n",
    "df_table.head()"
   ]
  },
  {
   "cell_type": "code",
   "execution_count": 116,
   "id": "2ce5083a-1603-4833-9821-acdb03640c02",
   "metadata": {},
   "outputs": [
    {
     "data": {
      "image/png": "[encoded data removed]",
      "text/plain": [
       "<Figure size 432x288 with 1 Axes>"
      ]
     },
     "metadata": {},
     "output_type": "display_data"
    }
   ],
   "source": [
    "sns.boxplot(x=df_table);"
   ]
  },
  {
   "cell_type": "code",
   "execution_count": 117,
   "id": "fc84364d-dad0-44c0-80d6-da4f849c15c4",
   "metadata": {},
   "outputs": [
    {
     "name": "stdout",
     "output_type": "stream",
     "text": [
      "---------------- 1 ----------------\n",
      "Q1 = 56.0 \n",
      "Q3 = 59.0 \n",
      "IQR = 3.0 \n",
      "\n",
      "---------------- 2 ----------------\n",
      "25%    56.0\n",
      "75%    59.0\n",
      "Name: table, dtype: float64 \n",
      "\n",
      "---------------- 3 ----------------\n",
      "Alt sinir= 51.5 \n",
      "Ust sinir= 63.5 \n",
      "\n",
      "---------------- 4 ----------------\n",
      "2        65.0\n",
      "91       69.0\n",
      "145      64.0\n",
      "219      64.0\n",
      "227      67.0\n",
      "         ... \n",
      "53695    65.0\n",
      "53697    65.0\n",
      "53756    64.0\n",
      "53757    64.0\n",
      "53785    65.0\n",
      "Name: table, Length: 605, dtype: float64 \n",
      "\n",
      "---------------- 5 ----------------\n",
      "Int64Index([    2,    91,   145,   219,   227,   239,   296,   314,   356,\n",
      "              359,\n",
      "            ...\n",
      "            53226, 53503, 53542, 53577, 53660, 53695, 53697, 53756, 53757,\n",
      "            53785],\n",
      "           dtype='int64', length=605)\n"
     ]
    }
   ],
   "source": [
    "# Boxplot grafigi ile ayni aykiri degerleri bulmak\n",
    "\n",
    "Q1 = df_table.quantile(0.25)\n",
    "Q3 = df_table.quantile(0.75)\n",
    "\n",
    "# inter quartile range (IQR)\n",
    "IQR = Q3 - Q1\n",
    "\n",
    "print('---------------- 1 ----------------')\n",
    "print('Q1 =', Q1,'\\nQ3 =', Q3,'\\nIQR =', IQR, '\\n')\n",
    "\n",
    "print('---------------- 2 ----------------')\n",
    "print(df_table.describe()[[4,6]], '\\n')\n",
    "\n",
    "print('---------------- 3 ----------------')\n",
    "alt_sinir = Q1 - 1.5*IQR\n",
    "ust_sinir = Q3 + 1.5*IQR\n",
    "print('Alt sinir=', alt_sinir,'\\nUst sinir=', ust_sinir, '\\n')\n",
    "\n",
    "print('---------------- 4 ----------------')\n",
    "# Aykiri True - False vektoru\n",
    "\n",
    "aykiri_tf = (df_table < alt_sinir)| (df_table > ust_sinir)\n",
    "\n",
    "print(df_table[aykiri_tf], '\\n')\n",
    "\n",
    "print('---------------- 5 ----------------')\n",
    "print(df_table[aykiri_tf].index)"
   ]
  },
  {
   "cell_type": "markdown",
   "id": "3b72ac0b-352d-4322-9b8c-f0de1fc71b58",
   "metadata": {
    "tags": []
   },
   "source": [
    "## Aykiri Deger Problemini Cozmek"
   ]
  },
  {
   "cell_type": "markdown",
   "id": "9446a687-347d-40e3-840f-26c71e9e2cdd",
   "metadata": {
    "tags": []
   },
   "source": [
    "## <font color=red>1- Silme Yontemi</font>"
   ]
  },
  {
   "cell_type": "code",
   "execution_count": 118,
   "id": "ac185802-fad0-49cd-8614-30754ba730a2",
   "metadata": {},
   "outputs": [
    {
     "name": "stdout",
     "output_type": "stream",
     "text": [
      "---------------- 1 ----------------\n",
      "<class 'pandas.core.frame.DataFrame'>\n",
      "---------------- 2 ----------------\n",
      "(53940, 1) \n",
      "\n",
      "---------------- 3 ----------------\n",
      "       table\n",
      "0       55.0\n",
      "1       61.0\n",
      "3       58.0\n",
      "4       58.0\n",
      "5       57.0\n",
      "...      ...\n",
      "53935   57.0\n",
      "53936   55.0\n",
      "53937   60.0\n",
      "53938   58.0\n",
      "53939   55.0\n",
      "\n",
      "[53335 rows x 1 columns]\n",
      "---------------- 4 ----------------\n",
      "(53335, 1)\n"
     ]
    }
   ],
   "source": [
    "# pandas.core.series.Series olani DataFrame e cevirmemiz lazim\n",
    "type(df_table)\n",
    "\n",
    "print('---------------- 1 ----------------')\n",
    "df_table = pd.DataFrame(df_table)\n",
    "print(type(df_table))\n",
    "\n",
    "print('---------------- 2 ----------------')\n",
    "print(df_table.shape, '\\n')\n",
    "\n",
    "# Temiz DataFrame (Aykiri gozlemleri sildik)\n",
    "#(~ kosulun disindakileri getir demek) (any axis = 1 sutun bazinda herhangi islem yapmak)\n",
    "\n",
    "print('---------------- 3 ----------------')\n",
    "t_df = df_table[~((df_table < alt_sinir) | (df_table > ust_sinir)).any(axis =1)]\n",
    "print(t_df)\n",
    "\n",
    "# 605 gozlem silindi (53940 - 53335 = 605)\n",
    "\n",
    "print('---------------- 4 ----------------')\n",
    "print(t_df.shape)"
   ]
  },
  {
   "cell_type": "markdown",
   "id": "c6964cac-44f1-457f-b143-16b7fd530298",
   "metadata": {},
   "source": [
    " ## <font color=red>2 - Ortalama ile Doldurmak</font>"
   ]
  },
  {
   "cell_type": "code",
   "execution_count": 119,
   "id": "f8a8f399-3abe-4e83-bc6f-82e6b2cec23a",
   "metadata": {},
   "outputs": [
    {
     "name": "stdout",
     "output_type": "stream",
     "text": [
      "---------------- 0 ----------------\n",
      "0    55.0\n",
      "1    61.0\n",
      "2    65.0\n",
      "3    58.0\n",
      "4    58.0\n",
      "Name: table, dtype: float64\n",
      "---------------- 1 ----------------\n",
      "2      65.0\n",
      "91     69.0\n",
      "145    64.0\n",
      "219    64.0\n",
      "227    67.0\n",
      "Name: table, dtype: float64\n",
      "---------------- 2 ----------------\n",
      "1515    57.457184\n",
      "3238    57.457184\n",
      "3979    57.457184\n",
      "4150    57.457184\n",
      "5979    57.457184\n",
      "Name: table, dtype: float64\n"
     ]
    }
   ],
   "source": [
    "print('---------------- 0 ----------------')\n",
    "df_table = df['table']\n",
    "print(df_table.head())\n",
    "\n",
    "print('---------------- 1 ----------------')\n",
    "aykiri_alt_tf = (df_table < alt_sinir)\n",
    "print(df_table[aykiri_alt_tf].head())\n",
    "\n",
    "print('---------------- 2 ----------------')\n",
    "# Aykiri Gozlemler yerine ortalama atandi\n",
    "df_table[aykiri_alt_tf] = df_table.mean()\n",
    "\n",
    "print(df_table[aykiri_alt_tf].head())\n"
   ]
  },
  {
   "cell_type": "markdown",
   "id": "d9228c49-5539-41f0-b949-8c497e79c339",
   "metadata": {},
   "source": [
    " ## <font color=red>3 - Baskilma Yontemi</font>\n",
    "\n",
    "#### (Alt tarafta ise alt deger atanir, ust sinirda ise ust deger atanir)"
   ]
  },
  {
   "cell_type": "code",
   "execution_count": 177,
   "id": "01c9d457-cc92-4226-8dd8-eab461845d4d",
   "metadata": {},
   "outputs": [
    {
     "name": "stdout",
     "output_type": "stream",
     "text": [
      "0    55.0\n",
      "1    61.0\n",
      "2    65.0\n",
      "3    58.0\n",
      "4    58.0\n",
      "Name: table, dtype: float64\n"
     ]
    }
   ],
   "source": [
    "df = sns.load_dataset('diamonds')\n",
    "df = df.select_dtypes(include = ['float64', 'int64'])\n",
    "df = df.dropna()\n",
    "df.head()\n",
    "\n",
    "df_table = df['table']\n",
    "print(df_table.head())"
   ]
  },
  {
   "cell_type": "code",
   "execution_count": 178,
   "id": "3a8ef035-0720-4636-946c-ee55fee1f77d",
   "metadata": {},
   "outputs": [
    {
     "name": "stdout",
     "output_type": "stream",
     "text": [
      "---------------- 0 ----------------\n",
      "0    55.0\n",
      "1    61.0\n",
      "2    65.0\n",
      "3    58.0\n",
      "4    58.0\n",
      "Name: table, dtype: float64\n",
      "---------------- 1 ----------------\n",
      "51.5\n",
      "---------------- 2 ----------------\n",
      "1515    51.0\n",
      "3238    50.1\n",
      "3979    51.0\n",
      "4150    51.0\n",
      "5979    49.0\n",
      "Name: table, dtype: float64\n",
      "---------------- 3.1 ----------------\n",
      "1515    51.5\n",
      "3238    51.5\n",
      "3979    51.5\n",
      "4150    51.5\n",
      "5979    51.5\n",
      "Name: table, dtype: float64\n",
      "---------------- 3.2 ----------------\n",
      "2      63.5\n",
      "91     63.5\n",
      "145    63.5\n",
      "219    63.5\n",
      "227    63.5\n",
      "Name: table, dtype: float64\n"
     ]
    }
   ],
   "source": [
    "print('---------------- 0 ----------------')\n",
    "df_table = df['table']\n",
    "print(df_table.head())\n",
    "\n",
    "print('---------------- 1 ----------------')\n",
    "print(alt_sinir)\n",
    "\n",
    "print('---------------- 2 ----------------')\n",
    "aykiri_tf = (df_table < alt_sinir)\n",
    "print(df_table[aykiri_tf].head())\n",
    "\n",
    "print('---------------- 3.1 ----------------')\n",
    "# Alt sinirdaki aykiri degerlere alt sinir degeri atanir\n",
    "df_table[aykiri_tf] = alt_sinir\n",
    "print(df_table[aykiri_tf].head())\n",
    "\n",
    "print('---------------- 3.2 ----------------')\n",
    "# aykirilar = aykiri degerler DataFrame i\n",
    "# alt_s = alt sinir\n",
    "# ust_s = ust sinir\n",
    "# aykirilar.transform(lambda x : (alt_s) if (x< alt_s) else ust_s)\n",
    "\n",
    "aykirilar = (df_table < alt_sinir) | (df_table > ust_sinir)\n",
    "print(df_table[aykirilar].transform(lambda x : alt_sinir if (x< alt_sinir) else ust_sinir).head())"
   ]
  },
  {
   "cell_type": "code",
   "execution_count": null,
   "id": "34a839d4-c563-46b5-9152-8e69203e9f4e",
   "metadata": {},
   "outputs": [],
   "source": []
  }
 ],
 "metadata": {
  "kernelspec": {
   "display_name": "Python 3 (ipykernel)",
   "language": "python",
   "name": "python3"
  },
  "language_info": {
   "codemirror_mode": {
    "name": "ipython",
    "version": 3
   },
   "file_extension": ".py",
   "mimetype": "text/x-python",
   "name": "python",
   "nbconvert_exporter": "python",
   "pygments_lexer": "ipython3",
   "version": "3.8.8"
  }
 },
 "nbformat": 4,
 "nbformat_minor": 5
}

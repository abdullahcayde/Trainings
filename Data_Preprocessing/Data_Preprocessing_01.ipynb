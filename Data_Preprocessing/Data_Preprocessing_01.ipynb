{
 "cells": [
  {
   "cell_type": "markdown",
   "id": "d44c502c-cab2-4474-8761-2687c6202592",
   "metadata": {},
   "source": [
    "# Aykiri Gozlem Analizi \n",
    "\n",
    "## Aykiri Degerleri Yakalamak"
   ]
  },
  {
   "cell_type": "code",
   "execution_count": 53,
   "id": "9221fdb5-5fe4-4e5a-ab7b-13b15d7a279d",
   "metadata": {},
   "outputs": [],
   "source": [
    "import numpy as np\n",
    "import pandas as pd\n",
    "import seaborn as sns\n",
    "\n",
    "import warnings\n",
    "warnings.simplefilter(action='ignore')\n",
    "\n",
    "# Grafik Ayarlari\n",
    "# Arka tarf cizgili olur\n",
    "sns.set_theme(style=\"whitegrid\")\n"
   ]
  },
  {
   "cell_type": "code",
   "execution_count": 54,
   "id": "6a269d52-9993-4312-aa96-01a2d55ab59c",
   "metadata": {},
   "outputs": [
    {
     "data": {
      "text/html": [
       "<div>\n",
       "<style scoped>\n",
       "    .dataframe tbody tr th:only-of-type {\n",
       "        vertical-align: middle;\n",
       "    }\n",
       "\n",
       "    .dataframe tbody tr th {\n",
       "        vertical-align: top;\n",
       "    }\n",
       "\n",
       "    .dataframe thead th {\n",
       "        text-align: right;\n",
       "    }\n",
       "</style>\n",
       "<table border=\"1\" class=\"dataframe\">\n",
       "  <thead>\n",
       "    <tr style=\"text-align: right;\">\n",
       "      <th></th>\n",
       "      <th>carat</th>\n",
       "      <th>depth</th>\n",
       "      <th>table</th>\n",
       "      <th>price</th>\n",
       "      <th>x</th>\n",
       "      <th>y</th>\n",
       "      <th>z</th>\n",
       "    </tr>\n",
       "  </thead>\n",
       "  <tbody>\n",
       "    <tr>\n",
       "      <th>0</th>\n",
       "      <td>0.23</td>\n",
       "      <td>61.5</td>\n",
       "      <td>55.0</td>\n",
       "      <td>326</td>\n",
       "      <td>3.95</td>\n",
       "      <td>3.98</td>\n",
       "      <td>2.43</td>\n",
       "    </tr>\n",
       "    <tr>\n",
       "      <th>1</th>\n",
       "      <td>0.21</td>\n",
       "      <td>59.8</td>\n",
       "      <td>61.0</td>\n",
       "      <td>326</td>\n",
       "      <td>3.89</td>\n",
       "      <td>3.84</td>\n",
       "      <td>2.31</td>\n",
       "    </tr>\n",
       "    <tr>\n",
       "      <th>2</th>\n",
       "      <td>0.23</td>\n",
       "      <td>56.9</td>\n",
       "      <td>65.0</td>\n",
       "      <td>327</td>\n",
       "      <td>4.05</td>\n",
       "      <td>4.07</td>\n",
       "      <td>2.31</td>\n",
       "    </tr>\n",
       "    <tr>\n",
       "      <th>3</th>\n",
       "      <td>0.29</td>\n",
       "      <td>62.4</td>\n",
       "      <td>58.0</td>\n",
       "      <td>334</td>\n",
       "      <td>4.20</td>\n",
       "      <td>4.23</td>\n",
       "      <td>2.63</td>\n",
       "    </tr>\n",
       "    <tr>\n",
       "      <th>4</th>\n",
       "      <td>0.31</td>\n",
       "      <td>63.3</td>\n",
       "      <td>58.0</td>\n",
       "      <td>335</td>\n",
       "      <td>4.34</td>\n",
       "      <td>4.35</td>\n",
       "      <td>2.75</td>\n",
       "    </tr>\n",
       "  </tbody>\n",
       "</table>\n",
       "</div>"
      ],
      "text/plain": [
       "   carat  depth  table  price     x     y     z\n",
       "0   0.23   61.5   55.0    326  3.95  3.98  2.43\n",
       "1   0.21   59.8   61.0    326  3.89  3.84  2.31\n",
       "2   0.23   56.9   65.0    327  4.05  4.07  2.31\n",
       "3   0.29   62.4   58.0    334  4.20  4.23  2.63\n",
       "4   0.31   63.3   58.0    335  4.34  4.35  2.75"
      ]
     },
     "execution_count": 54,
     "metadata": {},
     "output_type": "execute_result"
    }
   ],
   "source": [
    "df = sns.load_dataset('diamonds')\n",
    "df = df.select_dtypes(include = ['float64', 'int64'])\n",
    "df = df.dropna()\n",
    "df.head()"
   ]
  },
  {
   "cell_type": "code",
   "execution_count": 55,
   "id": "f783d141-0a5e-4db2-a09b-d505d4c6caed",
   "metadata": {},
   "outputs": [
    {
     "data": {
      "text/plain": [
       "0    55.0\n",
       "1    61.0\n",
       "2    65.0\n",
       "3    58.0\n",
       "4    58.0\n",
       "Name: table, dtype: float64"
      ]
     },
     "execution_count": 55,
     "metadata": {},
     "output_type": "execute_result"
    }
   ],
   "source": [
    "df_table = df['table']\n",
    "df_table.head()"
   ]
  },
  {
   "cell_type": "code",
   "execution_count": 56,
   "id": "b975f762-70a5-49d2-8475-9b3cd9239c8a",
   "metadata": {},
   "outputs": [
    {
     "data": {
      "image/png": "[encoded data removed]",
      "text/plain": [
       "<Figure size 432x288 with 1 Axes>"
      ]
     },
     "metadata": {},
     "output_type": "display_data"
    }
   ],
   "source": [
    "sns.boxplot(x=df_table);"
   ]
  },
  {
   "cell_type": "code",
   "execution_count": 10,
   "id": "99198b0e-df8a-46a0-9b86-ed89127e5a03",
   "metadata": {},
   "outputs": [],
   "source": [
    "Q1 = df_table.quantile(0.25)\n",
    "Q3 = df_table.quantile(0.75)\n",
    "\n",
    "# inter quartile\n",
    "IQR = Q3 - Q1"
   ]
  },
  {
   "cell_type": "code",
   "execution_count": 18,
   "id": "35bae53e-629d-4a64-8cfd-6cbe908b088c",
   "metadata": {},
   "outputs": [
    {
     "name": "stdout",
     "output_type": "stream",
     "text": [
      "Q1 = 56.0 \n",
      "Q3 = 59.0 \n",
      "IQR = 3.0\n"
     ]
    }
   ],
   "source": [
    "print('Q1 =', Q1,'\\nQ3 =', Q3,'\\nIQR =', IQR)"
   ]
  },
  {
   "cell_type": "code",
   "execution_count": 67,
   "id": "53aa7290-fe03-485c-9013-6d044bd96cf9",
   "metadata": {},
   "outputs": [
    {
     "data": {
      "text/plain": [
       "count    53940.000000\n",
       "mean        57.457184\n",
       "std          2.234491\n",
       "min         43.000000\n",
       "25%         56.000000\n",
       "50%         57.000000\n",
       "75%         59.000000\n",
       "max         95.000000\n",
       "Name: table, dtype: float64"
      ]
     },
     "execution_count": 67,
     "metadata": {},
     "output_type": "execute_result"
    }
   ],
   "source": [
    "df_table.describe().T"
   ]
  },
  {
   "cell_type": "code",
   "execution_count": 60,
   "id": "67b167cc-877b-4863-ab74-b7a4cf3ca5fe",
   "metadata": {},
   "outputs": [
    {
     "data": {
      "text/plain": [
       "25%    56.0\n",
       "75%    59.0\n",
       "Name: table, dtype: float64"
      ]
     },
     "execution_count": 60,
     "metadata": {},
     "output_type": "execute_result"
    }
   ],
   "source": [
    "df_table.describe()[[4,6]]"
   ]
  },
  {
   "cell_type": "code",
   "execution_count": 61,
   "id": "5c9f55fd-782f-4f72-91b0-3d49375a1f79",
   "metadata": {},
   "outputs": [
    {
     "name": "stdout",
     "output_type": "stream",
     "text": [
      "Alt sinir= 51.5 \n",
      "Ust sinir= 63.5\n"
     ]
    }
   ],
   "source": [
    "alt_sinir = Q1 - 1.5*IQR\n",
    "ust_sinir = Q3 + 1.5*IQR\n",
    "print('Alt sinir=', alt_sinir,'\\nUst sinir=', ust_sinir)"
   ]
  },
  {
   "cell_type": "code",
   "execution_count": 62,
   "id": "820b0c06-351c-4418-8670-71e91ac7ffa1",
   "metadata": {
    "tags": []
   },
   "outputs": [
    {
     "data": {
      "text/plain": [
       "0        False\n",
       "1        False\n",
       "2         True\n",
       "3        False\n",
       "4        False\n",
       "         ...  \n",
       "53935    False\n",
       "53936    False\n",
       "53937    False\n",
       "53938    False\n",
       "53939    False\n",
       "Name: table, Length: 53940, dtype: bool"
      ]
     },
     "execution_count": 62,
     "metadata": {},
     "output_type": "execute_result"
    }
   ],
   "source": [
    "(df_table < alt_sinir) | (df_table > ust_sinir)"
   ]
  },
  {
   "cell_type": "code",
   "execution_count": 63,
   "id": "3ac79c14-b345-42fd-8ba0-ef5ec2e4f108",
   "metadata": {},
   "outputs": [],
   "source": [
    "# Aykiri True - False vektoru (alt sinir icin sadece)\n",
    "\n",
    "aykiri_tf = (df_table < alt_sinir)"
   ]
  },
  {
   "cell_type": "code",
   "execution_count": 64,
   "id": "7d69aaf9-76c1-435a-88ff-b4c29959b54b",
   "metadata": {},
   "outputs": [
    {
     "data": {
      "text/plain": [
       "0    False\n",
       "1    False\n",
       "2    False\n",
       "3    False\n",
       "4    False\n",
       "Name: table, dtype: bool"
      ]
     },
     "execution_count": 64,
     "metadata": {},
     "output_type": "execute_result"
    }
   ],
   "source": [
    "aykiri_tf.head()"
   ]
  },
  {
   "cell_type": "code",
   "execution_count": 65,
   "id": "842bd876-e0f8-43ad-949c-b427c45c3569",
   "metadata": {},
   "outputs": [
    {
     "data": {
      "text/plain": [
       "1515     51.0\n",
       "3238     50.1\n",
       "3979     51.0\n",
       "4150     51.0\n",
       "5979     49.0\n",
       "7418     50.0\n",
       "8853     51.0\n",
       "11368    43.0\n",
       "22701    49.0\n",
       "25179    50.0\n",
       "26387    51.0\n",
       "33586    51.0\n",
       "35633    44.0\n",
       "45798    51.0\n",
       "46040    51.0\n",
       "47630    51.0\n",
       "Name: table, dtype: float64"
      ]
     },
     "execution_count": 65,
     "metadata": {},
     "output_type": "execute_result"
    }
   ],
   "source": [
    "df_table[aykiri_tf]"
   ]
  },
  {
   "cell_type": "code",
   "execution_count": 66,
   "id": "9f5a0131-49bd-4e33-983b-30d8437fb7df",
   "metadata": {},
   "outputs": [
    {
     "data": {
      "text/plain": [
       "Int64Index([ 1515,  3238,  3979,  4150,  5979,  7418,  8853, 11368, 22701,\n",
       "            25179, 26387, 33586, 35633, 45798, 46040, 47630],\n",
       "           dtype='int64')"
      ]
     },
     "execution_count": 66,
     "metadata": {},
     "output_type": "execute_result"
    }
   ],
   "source": [
    "df_table[aykiri_tf].index"
   ]
  },
  {
   "cell_type": "markdown",
   "id": "ae933629-45b3-4f97-87cd-082a5d2492b9",
   "metadata": {},
   "source": [
    "## Aykiri Deger Problemini Cozmek"
   ]
  },
  {
   "cell_type": "markdown",
   "id": "4f123029-5612-422d-a2b2-c62a3597d076",
   "metadata": {},
   "source": [
    "## Silme"
   ]
  },
  {
   "cell_type": "code",
   "execution_count": 69,
   "id": "6750b1a7-7c5a-46ce-9142-67ee1d210381",
   "metadata": {},
   "outputs": [
    {
     "data": {
      "text/plain": [
       "pandas.core.series.Series"
      ]
     },
     "execution_count": 69,
     "metadata": {},
     "output_type": "execute_result"
    }
   ],
   "source": [
    "type(df_table)"
   ]
  },
  {
   "cell_type": "code",
   "execution_count": 70,
   "id": "64008461-b1f0-4b09-b28f-9b6be588e2ef",
   "metadata": {},
   "outputs": [
    {
     "data": {
      "text/plain": [
       "pandas.core.frame.DataFrame"
      ]
     },
     "execution_count": 70,
     "metadata": {},
     "output_type": "execute_result"
    }
   ],
   "source": [
    "df_table = pd.DataFrame(df_table)\n",
    "type(df_table)"
   ]
  },
  {
   "cell_type": "code",
   "execution_count": 72,
   "id": "6a198809-3f7f-46a0-b6a0-d41887b87e2e",
   "metadata": {},
   "outputs": [
    {
     "data": {
      "text/plain": [
       "(53940, 1)"
      ]
     },
     "execution_count": 72,
     "metadata": {},
     "output_type": "execute_result"
    }
   ],
   "source": [
    "df_table.shape"
   ]
  },
  {
   "cell_type": "code",
   "execution_count": 76,
   "id": "d80045e3-ae6e-4532-a3b6-ef6927592be6",
   "metadata": {},
   "outputs": [
    {
     "ename": "SyntaxError",
     "evalue": "invalid character in identifier (115297370.py, line 3)",
     "output_type": "error",
     "traceback": [
      "\u001b[0;36m  File \u001b[0;32m\"/var/folders/ht/tcz99qld7qz6stv5g043rfyc0000gn/T/ipykernel_42126/115297370.py\"\u001b[0;36m, line \u001b[0;32m3\u001b[0m\n\u001b[0;31m    t_df = df_table[˜((df_table < alt_sinir) | (df_table > ust_sinir)).any(axis =1)]\u001b[0m\n\u001b[0m                    ^\u001b[0m\n\u001b[0;31mSyntaxError\u001b[0m\u001b[0;31m:\u001b[0m invalid character in identifier\n"
     ]
    }
   ],
   "source": [
    "# Temiz DataFrame\n",
    "\n",
    "t_df = df_table[˜((df_table < alt_sinir) | (df_table > ust_sinir)).any(axis =1)]"
   ]
  },
  {
   "cell_type": "code",
   "execution_count": null,
   "id": "8e5886a4-4c84-4c1b-9ac9-ad72f59b35b9",
   "metadata": {},
   "outputs": [],
   "source": []
  }
 ],
 "metadata": {
  "kernelspec": {
   "display_name": "Python 3 (ipykernel)",
   "language": "python",
   "name": "python3"
  },
  "language_info": {
   "codemirror_mode": {
    "name": "ipython",
    "version": 3
   },
   "file_extension": ".py",
   "mimetype": "text/x-python",
   "name": "python",
   "nbconvert_exporter": "python",
   "pygments_lexer": "ipython3",
   "version": "3.8.8"
  }
 },
 "nbformat": 4,
 "nbformat_minor": 5
}

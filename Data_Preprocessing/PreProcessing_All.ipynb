{
 "cells": [
  {
   "cell_type": "code",
   "execution_count": 1,
   "id": "51c9a014-748b-4fc3-873d-3b53c9ed94c4",
   "metadata": {},
   "outputs": [],
   "source": [
    "import pandas as pd\n",
    "import numpy as np\n",
    "\n",
    "# Install a pip package in the current Jupyter kernel\n",
    "import sys\n",
    "!{sys.executable} -m pip install pandas\n",
    "\n",
    "pd.options.display.float_format = '{:,.4f}'.format\n",
    "pd.options.plotting.backend = 'plotly'\n",
    "\n",
    "print(tf.__version__)"
   ]
  },
  {
   "cell_type": "code",
   "execution_count": 3,
   "id": "ff48fd35-24ed-4123-ae91-3a966db47355",
   "metadata": {},
   "outputs": [
    {
     "data": {
      "text/plain": [
       "'/Users/macbook/Desktop/projects/Github_Repositories/Trainings/Data_Preprocessing'"
      ]
     },
     "execution_count": 3,
     "metadata": {},
     "output_type": "execute_result"
    }
   ],
   "source": [
    "# See file\n",
    "pwd"
   ]
  },
  {
   "cell_type": "markdown",
   "id": "f7e01d7f-887d-40f0-9321-264e6d4f02e4",
   "metadata": {},
   "source": [
    "# Basics"
   ]
  },
  {
   "cell_type": "code",
   "execution_count": null,
   "id": "73dadea5-f35b-4269-94b2-6e9673816e20",
   "metadata": {},
   "outputs": [],
   "source": [
    "np.random.randint(20) # Bir tane sayi uretir, 20 ye kadar olan sayilardan\n",
    "np.random.randint(1,20, 5) # 5 tane sayi uretir, 1-20 arasindan random\n",
    "np.random.seed(42) # Kaynak belirlersin , random sayilar degismez\n",
    "\n",
    "np.around(array, decimal)\n",
    "np.around(df.col1 , 2)\n",
    "\n",
    "\n",
    "df.columns = [x.upper() for x in df.columns]\n",
    "df.rename(columns= {'col1' : 'new_name1' ,\n",
    "                    'col2' : 'new_name2'})\n",
    "\n",
    "round(number, decimal)\n",
    "round(185.33, 1)\n",
    "\n",
    "\n",
    "# empty dataframe create (bos df olusturmak)\n",
    "df = pd.DataFrame(columns=[\"Rank\", \"Country\", \"Population\"])\n",
    "\n"
   ]
  },
  {
   "cell_type": "code",
   "execution_count": null,
   "id": "33cb8e98-e6f4-4831-bf08-9083ea9fa45b",
   "metadata": {},
   "outputs": [],
   "source": []
  },
  {
   "cell_type": "markdown",
   "id": "35e83d79-d8ad-4213-a90d-96bad7849d3b",
   "metadata": {},
   "source": [
    "# Cleaning"
   ]
  },
  {
   "cell_type": "code",
   "execution_count": null,
   "id": "7a8320ad-80f3-4697-a2a2-3e7ad7fed145",
   "metadata": {},
   "outputs": [],
   "source": [
    "----------------- drop -----------------\n",
    "df.drop('index1', axis=0, inplace=True)\n",
    "df.drop('col1', axis=1, inplace=False)\n",
    "\n",
    "\n",
    "----------------- dropna -----------------\n",
    "df.dropna(axis=0, how='any', thresh=None, subset=None, inplace=False)\n",
    "how = 'any' , 'all'\n",
    "thresh = 2 en az iki tane NAN olmali\n",
    "subset= ['col1', 'col2'] # hangi kolonlara bakilacak"
   ]
  },
  {
   "cell_type": "code",
   "execution_count": null,
   "id": "f1b721c0-4baf-4448-88c3-43d47447dd95",
   "metadata": {},
   "outputs": [],
   "source": []
  },
  {
   "cell_type": "markdown",
   "id": "4ab7d96f-1df5-4841-a919-0ed02f92ef4a",
   "metadata": {},
   "source": [
    "# Filtering"
   ]
  },
  {
   "cell_type": "code",
   "execution_count": null,
   "id": "df9f67da-04e1-4a5b-b888-0659da2fed0f",
   "metadata": {},
   "outputs": [],
   "source": [
    "df[0:3]\n",
    "df[0:3]['col1']\n",
    "df[0:3][['col1', 'col2']]\n",
    "\n",
    "df[df.col1 > 20] ==> bu kosulu saglayan\n",
    "df.price[df.price > 2500] ==> sadece price kolonu\n",
    "df[['price', 'model']][df.price > 2500] ==> price ve model kolonu\n",
    "\n",
    "filt = df.Region == 'Rietberg'\n",
    "df.loc[filt]\n",
    "\n",
    "\n",
    "001----------------- df.loc  ----------------- (labels)\n",
    "df.loc[rows, columns]\n",
    "df.loc[[0.3], :]\n",
    "df.loc[[0,3,5], ['make', 'price']]\n",
    "df.loc[3, 'price':'year']\n",
    "\n",
    "\n",
    "002----------------- df.iloc ----------------- (index)\n",
    "df.loc[0:3] ==> 3. index dahil\n",
    "df.iloc[0:3] ==> 3. index dahil degil\n",
    "\n",
    "\n",
    "003----------------- df.query -----------------\n",
    "df.query('col1>10')\n",
    "df.query(\"col1 == 'Mitte'\")\n",
    "df.query('col1 == \"Mitte\"& col2<1500')\n",
    "\n",
    "\n",
    "004----------------- df.isin -----------------\n",
    "df.loc[df.col1.isin(['usa', 'tr', 'de'])]\n",
    "\n",
    "list1 = ['usa', 'tr', 'de']\n",
    "filt = df.['col1'].isin(list1)\n",
    "df.loc[filt]"
   ]
  },
  {
   "cell_type": "markdown",
   "id": "c0149545-cfc2-4b2e-992d-87a24ffdf8e1",
   "metadata": {},
   "source": [
    "# assign"
   ]
  },
  {
   "cell_type": "code",
   "execution_count": null,
   "id": "6267b65b-21c2-4173-9cc8-625ffc5ad4d8",
   "metadata": {},
   "outputs": [],
   "source": [
    "001----------------- df.assign  ----------------- \n",
    "# Assign new columns to a DataFrame\n",
    "df.assign(new_col=lambda x: x.col2 * 10) ==> #DataFrame degismez sadece ne oluyor onu gorursun\n",
    "df['new_col'] = df.assign(new_col=lambda x: x.col2 * 10)\n",
    "df['new_col'] = df.assign(lambda x : x.age.map(lambda x: 'Genc' if x<30 else 'Yasli'))\n",
    "\n",
    "\n",
    "002----------------- df.loc  ----------------- \n",
    "# Yukardaki ile ayni ama tek atama yapar Yasli icin ayri yapmak lazim\n",
    "df.loc[df['age'] < 30, 'new_col'] = 'Genc'\n",
    "\n",
    "003----------------- df.col1.map  ----------------- \n",
    "dic1 = {'Mitte' : 'NRW', 'Kreuzberg': 'Berlin', 'Value_old' : 'New_Value'}\n",
    "df['new_col'] = df.col1.map(dic1)\n",
    "\n"
   ]
  },
  {
   "cell_type": "code",
   "execution_count": null,
   "id": "7b39f3a8-b41d-4dc7-a7e7-493dfcd931cf",
   "metadata": {},
   "outputs": [],
   "source": []
  },
  {
   "cell_type": "markdown",
   "id": "e74ca8c4-fa99-4a2c-ad60-0c4bd010f5a2",
   "metadata": {},
   "source": [
    "# concat, merge"
   ]
  },
  {
   "cell_type": "code",
   "execution_count": null,
   "id": "42195d0c-a70c-4cff-9f86-8a2a9f08e431",
   "metadata": {},
   "outputs": [],
   "source": [
    "----------------- concat -----------------\n",
    "pd.concat(objs, axis=0, join='outer', ignore_index=False, keys=None, levels=None, names=None, verify_integrity=False, sort=False, copy=True)\n",
    "\n",
    "pd.concat([df1,df2], axis=1, ignore_index=True, join='inner') \n",
    "axis= 0, 1 # 0 alt alta ekler , 1 yan yana ekler\n",
    "ignore_index= True , False #  True sirali index olur , False eski indexler kalir    \n",
    "join= 'inner', 'outer'  # inner= ayni kolonlari alir, \n",
    "verify_integrity=True # Duplicate kontrol eder\n",
    "\n",
    "\n",
    "----------------- merge -----------------\n",
    "# sadece 2 DataFrame birlestirlir\n",
    "pd.merge(df1,df2, on='ayni_kolon')\n",
    "pd.merge(df1,df2, on='ayni_kolon', how='inner') # how = inner, left , right\n"
   ]
  },
  {
   "cell_type": "code",
   "execution_count": null,
   "id": "b909aa82-4d0e-4254-a8fe-3f41021a1559",
   "metadata": {},
   "outputs": [],
   "source": []
  },
  {
   "cell_type": "markdown",
   "id": "1504ac29-560b-4009-90a4-0c7c13ae5c26",
   "metadata": {},
   "source": [
    "# cut (bins)"
   ]
  },
  {
   "cell_type": "code",
   "execution_count": null,
   "id": "d04dd791-ce95-4333-b24a-4c0e01d46ba3",
   "metadata": {},
   "outputs": [],
   "source": [
    "bins = [0,500,1000,1500]\n",
    "labels = ['ucuz', 'normal', 'pahali']\n",
    "df['new_col'] = pd.cut(df['price'], bins=bins, labels=labels) ===> #1500 den buyuk degerler NAN atanir !!"
   ]
  },
  {
   "cell_type": "code",
   "execution_count": null,
   "id": "3e2e852e-98b4-4460-9c74-8e34b891ee0d",
   "metadata": {},
   "outputs": [],
   "source": []
  },
  {
   "cell_type": "markdown",
   "id": "5a23a136-7811-4681-abf0-d13780d40031",
   "metadata": {},
   "source": [
    "# REGEX"
   ]
  },
  {
   "cell_type": "code",
   "execution_count": null,
   "id": "6ec8ccc0-7841-4fc2-8276-e2b0e7a4522e",
   "metadata": {},
   "outputs": [],
   "source": [
    "Regex \n",
    "\n",
    "001----------------- r'\\W' -----------------\n",
    "Matches anything other than a letter, digit or underscore\n",
    "df.price = df.price.str.replace(r'\\W', '')\n",
    "\n",
    "002----------------- df.col.strip('') -----------------\n",
    "lstrip(), rstrip()\n",
    "secilen karekteri heryerden siler\n",
    "df.col1 = df.col1.strip('any carachter')\n",
    "\n"
   ]
  },
  {
   "cell_type": "markdown",
   "id": "2cb09689-2105-439f-9758-b8bf5fcdb4c6",
   "metadata": {
    "tags": []
   },
   "source": [
    "# func, apply"
   ]
  },
  {
   "cell_type": "code",
   "execution_count": null,
   "id": "fa9fae74-7f41-4cd8-8489-e589eaf4d35f",
   "metadata": {
    "tags": []
   },
   "outputs": [],
   "source": [
    "def func1(value):\n",
    "    \"\"\" Explain What makes func1 \"\"\"\n",
    "    new_value = value.replace(\",\" , \"\").replace(\"  \", \"\")\n",
    "    return (new_value.astype(\"float\"))\n",
    "\n",
    "df[\"col1\"].apply(func1)   \n",
    "\n",
    "#oder\n",
    "\n",
    "df[\"col1\"] = df[\"col1\"].apply(lambda x : x.replace(\",\" , \"\").replace(\"  \", \"\")).astype(\"float\")"
   ]
  },
  {
   "cell_type": "code",
   "execution_count": null,
   "id": "38f820f8-4597-4b5b-bacb-415a2c6e505b",
   "metadata": {},
   "outputs": [],
   "source": []
  },
  {
   "cell_type": "markdown",
   "id": "a48beb18-6f68-420d-bfd9-04556ec99471",
   "metadata": {},
   "source": [
    "# Python"
   ]
  },
  {
   "cell_type": "markdown",
   "id": "27eeb5cd-4ec5-47af-9b9e-c01ee547e046",
   "metadata": {},
   "source": [
    "## enumerate , zip"
   ]
  },
  {
   "cell_type": "code",
   "execution_count": 6,
   "id": "3a0751d0-e437-481e-ab06-13215e1bbee4",
   "metadata": {},
   "outputs": [
    {
     "name": "stdout",
     "output_type": "stream",
     "text": [
      "0 a\n",
      "1 b\n",
      "2 c\n"
     ]
    }
   ],
   "source": [
    "list01 = ['a', 'b', 'c']\n",
    "list02 = ['deger1', 'deger2', 'deger3']\n",
    "\n",
    "for i, value in enumerate(list01):\n",
    "    print(i, value)"
   ]
  },
  {
   "cell_type": "code",
   "execution_count": 7,
   "id": "83ba8dfd-dfb7-4a79-9da4-976589d3f4a7",
   "metadata": {},
   "outputs": [
    {
     "name": "stdout",
     "output_type": "stream",
     "text": [
      "a deger1 a\n",
      "b deger2 b\n",
      "c deger3 c\n"
     ]
    }
   ],
   "source": [
    "for i,j,k in zip(list01, list02, list01):\n",
    "    print(i,j,k)"
   ]
  },
  {
   "cell_type": "code",
   "execution_count": null,
   "id": "63ee71e7-8b45-4189-b988-569bb05f6238",
   "metadata": {},
   "outputs": [],
   "source": [
    "asd"
   ]
  },
  {
   "cell_type": "code",
   "execution_count": null,
   "id": "9055dbf8-b942-4165-a8a6-cb425ff1f03e",
   "metadata": {},
   "outputs": [],
   "source": []
  }
 ],
 "metadata": {
  "kernelspec": {
   "display_name": "Python 3 (ipykernel)",
   "language": "python",
   "name": "python3"
  },
  "language_info": {
   "codemirror_mode": {
    "name": "ipython",
    "version": 3
   },
   "file_extension": ".py",
   "mimetype": "text/x-python",
   "name": "python",
   "nbconvert_exporter": "python",
   "pygments_lexer": "ipython3",
   "version": "3.9.12"
  },
  "toc-autonumbering": true
 },
 "nbformat": 4,
 "nbformat_minor": 5
}

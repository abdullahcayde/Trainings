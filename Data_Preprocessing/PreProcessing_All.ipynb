{
 "cells": [
  {
   "cell_type": "code",
   "execution_count": 8,
   "id": "51c9a014-748b-4fc3-873d-3b53c9ed94c4",
   "metadata": {},
   "outputs": [],
   "source": [
    "import pandas as pd\n",
    "import numpy as np\n",
    "\n",
    "import seaborn as sns\n",
    "sns.set()\n",
    "sns.set_theme(style=\"whitegrid\")\n",
    "\n",
    "import matplotlib.pyplot as plt\n",
    "\n",
    "import warnings\n",
    "warnings.simplefilter(action='ignore')"
   ]
  },
  {
   "cell_type": "code",
   "execution_count": 9,
   "id": "55c9cb64-34c6-47de-97c4-42e16b9d0e28",
   "metadata": {},
   "outputs": [
    {
     "data": {
      "text/html": [
       "<div>\n",
       "<style scoped>\n",
       "    .dataframe tbody tr th:only-of-type {\n",
       "        vertical-align: middle;\n",
       "    }\n",
       "\n",
       "    .dataframe tbody tr th {\n",
       "        vertical-align: top;\n",
       "    }\n",
       "\n",
       "    .dataframe thead th {\n",
       "        text-align: right;\n",
       "    }\n",
       "</style>\n",
       "<table border=\"1\" class=\"dataframe\">\n",
       "  <thead>\n",
       "    <tr style=\"text-align: right;\">\n",
       "      <th></th>\n",
       "      <th>a</th>\n",
       "      <th>b</th>\n",
       "    </tr>\n",
       "  </thead>\n",
       "  <tbody>\n",
       "    <tr>\n",
       "      <th>0</th>\n",
       "      <td>1</td>\n",
       "      <td>5</td>\n",
       "    </tr>\n",
       "    <tr>\n",
       "      <th>1</th>\n",
       "      <td>2</td>\n",
       "      <td>4</td>\n",
       "    </tr>\n",
       "    <tr>\n",
       "      <th>2</th>\n",
       "      <td>3</td>\n",
       "      <td>3</td>\n",
       "    </tr>\n",
       "    <tr>\n",
       "      <th>3</th>\n",
       "      <td>4</td>\n",
       "      <td>2</td>\n",
       "    </tr>\n",
       "    <tr>\n",
       "      <th>4</th>\n",
       "      <td>5</td>\n",
       "      <td>1</td>\n",
       "    </tr>\n",
       "  </tbody>\n",
       "</table>\n",
       "</div>"
      ],
      "text/plain": [
       "   a  b\n",
       "0  1  5\n",
       "1  2  4\n",
       "2  3  3\n",
       "3  4  2\n",
       "4  5  1"
      ]
     },
     "execution_count": 9,
     "metadata": {},
     "output_type": "execute_result"
    }
   ],
   "source": [
    "df = pd.DataFrame({'a' : [1,2,3,4,5],\n",
    "                  'b' : [5,4,3,2,1]})\n",
    "df"
   ]
  },
  {
   "cell_type": "code",
   "execution_count": null,
   "id": "1953737c-0099-4d6f-994f-0729a3a58178",
   "metadata": {},
   "outputs": [],
   "source": [
    "#Butun kolon ve satirlari gormek icin\n",
    "pd.set_option('display.max_columns', None)\n",
    "pd.set_option('display.max_rows', None)\n",
    "\n",
    "pd.reset_option(\"display.max_rows\")\n",
    "pd.reset_option('display.max_columns')\n",
    "\n",
    "pd.options.display.max_colwidth = 50\n",
    "\n",
    "#virgulden sonra gösterilecek olan sayı 2 basamak olarak ayarlanıyor.\n",
    "pd.options.display.float_format = '{:,.2f}'.format\n",
    "\n",
    "pd.options.plotting.backend = 'plotly'\n",
    "\n",
    "# https://matplotlib.org/stable/gallery/color/named_colors.html ==> Matplotlib Color isimleri"
   ]
  },
  {
   "cell_type": "code",
   "execution_count": null,
   "id": "1fb2d25c-773e-498b-b74e-7f2b1878a5d8",
   "metadata": {},
   "outputs": [],
   "source": [
    "# Install a pip package in the current Jupyter kernel\n",
    "import sys\n",
    "!{sys.executable} -m pip install pandas\n",
    "\n",
    "# Print versions\n",
    "print(tf.__version__)\n",
    "\n",
    "\n",
    "# ------------- Pip Details -------------- #\n",
    "#Details of installed package:\n",
    "pip show\n",
    "#List of installed packages: \n",
    "pip list, pip freeze\n",
    "#Install a package: pip install\n",
    "Install from local or GitHub\n",
    "#Update a package: \n",
    "pip install --upgrade\n",
    "Update pip itself\n",
    "#Uninstall a package: \n",
    "pip uninstall\n",
    "#Check for dependencies: \n",
    "pip check"
   ]
  },
  {
   "cell_type": "code",
   "execution_count": null,
   "id": "6f277172-ae00-4cd3-916a-e175d069ae6d",
   "metadata": {},
   "outputs": [],
   "source": [
    "import ssl\n",
    "\n",
    "try:\n",
    "   _create_unverified_https_context = ssl._create_unverified_context\n",
    "except AttributeError:\n",
    "    # Legacy Python that doesn't verify HTTPS certificates by default\n",
    "    pass\n",
    "else:\n",
    "    # Handle target environment that doesn't support HTTPS verification\n",
    "    ssl._create_default_https_context = _create_unverified_https_context"
   ]
  },
  {
   "cell_type": "markdown",
   "id": "9d952a78-1953-4822-a489-3c9c932dbed8",
   "metadata": {},
   "source": [
    "# show image Jupyternotebook"
   ]
  },
  {
   "cell_type": "code",
   "execution_count": null,
   "id": "a623bf1a-2ce7-4e11-9a5d-32aa9683c530",
   "metadata": {},
   "outputs": [],
   "source": [
    "from IPython.display import Image\n",
    "path = '/Users/macbook/Desktop/Plot01.PNG'\n",
    "Image(path, width=700, height=100)"
   ]
  },
  {
   "cell_type": "markdown",
   "id": "038adcfb-271b-4235-94f3-bc43499a1260",
   "metadata": {},
   "source": [
    "# Klib"
   ]
  },
  {
   "cell_type": "code",
   "execution_count": null,
   "id": "00f7a5ac-7a18-4619-8b15-9fa47df2e363",
   "metadata": {},
   "outputs": [],
   "source": [
    "import klib\n",
    "import pandas as pd\n",
    "\n",
    "df = pd.DataFrame(data)\n",
    "\n",
    "# klib.describe - functions for visualizing datasets\n",
    "- klib.cat_plot(df) # returns a visualization of the number and frequency of categorical features\n",
    "- klib.corr_mat(df) # returns a color-encoded correlation matrix\n",
    "- klib.corr_plot(df) # returns a color-encoded heatmap, ideal for correlations\n",
    "- klib.dist_plot(df) # returns a distribution plot for every numeric feature\n",
    "- klib.missingval_plot(df) # returns a figure containing information about missing values\n",
    "\n",
    "# klib.clean - functions for cleaning datasets\n",
    "- klib.data_cleaning(df) # performs datacleaning (drop duplicates & empty rows/cols, adjust dtypes,...)\n",
    "- klib.clean_column_names(df) # cleans and standardizes column names, also called inside data_cleaning()\n",
    "- klib.convert_datatypes(df) # converts existing to more efficient dtypes, also called inside data_cleaning()\n",
    "- klib.drop_missing(df) # drops missing values, also called in data_cleaning()\n",
    "- klib.mv_col_handling(df) # drops features with high ratio of missing vals based on informational content\n",
    "- klib.pool_duplicate_subsets(df) # pools subset of cols based on duplicates with min. loss of information\n"
   ]
  },
  {
   "cell_type": "markdown",
   "id": "31425740-d065-4721-b0f1-fd277db2ef24",
   "metadata": {},
   "source": [
    "# OS "
   ]
  },
  {
   "cell_type": "code",
   "execution_count": 3,
   "id": "ff48fd35-24ed-4123-ae91-3a966db47355",
   "metadata": {},
   "outputs": [
    {
     "data": {
      "text/plain": [
       "'/Users/macbook/Desktop/projects/Github_Repositories/Trainings/Data_Preprocessing'"
      ]
     },
     "execution_count": 3,
     "metadata": {},
     "output_type": "execute_result"
    }
   ],
   "source": [
    "# See file\n",
    "pwd\n",
    "\n",
    "\n",
    "# Input data files are available in the \"../input/\" directory.\n",
    "# For example, running this (by clicking run or pressing Shift+Enter) will list all files under the input directory\n",
    "import os\n",
    "for dirname, _, filenames in os.walk(''):\n",
    "    for filename in filenames:\n",
    "        print(os.path.join(dirname, filename))\n",
    "# Any results you write to the current directory are saved as output.\n",
    "\n",
    "\n",
    "cwd = os.getcwd()  # your current working directory (cwd)\n",
    "files = os.listdir(cwd)  # This will Get all the files in that directory\n",
    "print(\"Files in %r: %s\" % (cwd, files))"
   ]
  },
  {
   "cell_type": "markdown",
   "id": "f7e01d7f-887d-40f0-9321-264e6d4f02e4",
   "metadata": {},
   "source": [
    "# Basics"
   ]
  },
  {
   "cell_type": "markdown",
   "id": "07a1b721-74b8-4851-ba43-01b8103ede18",
   "metadata": {},
   "source": [
    "## pd.read_csv()"
   ]
  },
  {
   "cell_type": "code",
   "execution_count": null,
   "id": "edc46c56-2a1e-4557-b492-b38884ea66eb",
   "metadata": {},
   "outputs": [],
   "source": [
    "# Date kolonkarini DATE formatinda okumak icin\n",
    "df = pd.read_csv('NAME.csv', parse_dates=['DATE_Column'], dtype={'Monetary' : np.float64})\n",
    "# veya\n",
    "df['Date'] = pd.to_datetime(df['Date'])"
   ]
  },
  {
   "cell_type": "markdown",
   "id": "33f62963-56b6-46ed-b764-a1711b1890f3",
   "metadata": {},
   "source": [
    "## Numpy"
   ]
  },
  {
   "cell_type": "code",
   "execution_count": null,
   "id": "73dadea5-f35b-4269-94b2-6e9673816e20",
   "metadata": {},
   "outputs": [],
   "source": [
    "np.random.randint(20) # Bir tane sayi uretir, 20 ye kadar olan sayilardan\n",
    "np.random.randint(1,20, 5) # 5 tane sayi uretir, 1-20 arasindan random\n",
    "np.random.seed(42) # Kaynak belirlersin , random sayilar degismez\n",
    "\n",
    "np.around(array, decimal)\n",
    "np.around(df.col1 , 2)\n",
    "\n",
    "\n",
    "df.columns = [x.upper() for x in df.columns]\n",
    "df.rename(columns= {'col1' : 'new_name1' ,\n",
    "                    'col2' : 'new_name2'})\n",
    "\n",
    "round(number, decimal)\n",
    "round(185.33, 1)\n",
    "\n",
    "\n",
    "# empty dataframe create (bos df olusturmak)\n",
    "df = pd.DataFrame(columns=[\"Rank\", \"Country\", \"Population\"])\n",
    "\n"
   ]
  },
  {
   "cell_type": "code",
   "execution_count": null,
   "id": "e9a89c68-666d-4f69-93e9-62a34e51c814",
   "metadata": {},
   "outputs": [],
   "source": [
    "# List to DataFrame (Farkli )"
   ]
  },
  {
   "cell_type": "code",
   "execution_count": null,
   "id": "55196ac7-3434-4879-aaed-43a10d4cc75d",
   "metadata": {},
   "outputs": [],
   "source": [
    "d = dict(job_title=np.array(list_header), publish=np.array(list_publish), company_name=np.array(list_company))\n",
    "df = pd.DataFrame.from_dict(d, orient='index')\n",
    "df = df.T"
   ]
  },
  {
   "cell_type": "markdown",
   "id": "aa85ab9e-bf5a-4630-9760-4039923591ca",
   "metadata": {},
   "source": [
    "## Save , Excel Save"
   ]
  },
  {
   "cell_type": "code",
   "execution_count": null,
   "id": "8db00aa2-3eb3-49be-a3b9-334b90cab762",
   "metadata": {},
   "outputs": [],
   "source": [
    "pd.to_csv(\"NAME.csv\", index=False)\n",
    "\n",
    "# Large Datasets \n",
    "df.to_parquet('Name.parquet')\n",
    "df.to_feather('Name.feather')\n",
    "df.to_pickle('Name.pickle')"
   ]
  },
  {
   "cell_type": "code",
   "execution_count": null,
   "id": "2561edb3-d09a-43ad-ad42-046d997b72da",
   "metadata": {},
   "outputs": [],
   "source": [
    "# istedgin DataFrame Excele kaydet\n",
    "writer = pd.ExcelWriter('NAME.xlsx')\n",
    "\n",
    "# df.info(), df.describe(), df.quantile()\n",
    "df.dtypes.reset_index(name='Dtype').rename(columns={'index' : 'Column'}).to_excel(writer, 'info')\n",
    "df.describe().T.to_excel(writer, 'describe')\n",
    "df.quantile([0.01,0.25,0.50,0.75,0.99]).T.to_excel(writer, 'quantile')\n",
    "\n",
    "writer.save()"
   ]
  },
  {
   "cell_type": "markdown",
   "id": "3c07df40-a9ef-4f66-a9e4-33c2e3329ba8",
   "metadata": {},
   "source": [
    "# Index Islemleri"
   ]
  },
  {
   "cell_type": "code",
   "execution_count": null,
   "id": "1ee38f54-56be-4b40-b2ea-acf4549cab7d",
   "metadata": {},
   "outputs": [],
   "source": [
    "#En buyuk degerin  indexini bulmak\n",
    "----------------- 1. yol -----------------\n",
    "df[\"col1\"].idxmax()\n",
    "----------------- 2. yol -----------------\n",
    "#En buyuk degerleri kolay bulmak\n",
    "df.nlargest(10, \"col1\")\n",
    "\n",
    "----------- .difference() --------------- (index karsilastirmak birinci olup ikincide olmayanlar i1 - i2 )\n",
    "index1 = pd.Index([1, 2, 3, 4])\n",
    "index2 = pd.Index([3, 4, 5, 6])\n",
    "index1.difference(index2)\n",
    "#Output ==== > Int64Index([1, 2], dtype='int64')"
   ]
  },
  {
   "cell_type": "markdown",
   "id": "3576f741-d570-492c-a228-a6c36302a2fd",
   "metadata": {
    "tags": []
   },
   "source": [
    "## Set Index"
   ]
  },
  {
   "cell_type": "code",
   "execution_count": null,
   "id": "e2154798-edc0-4b1c-89e5-624f15f35797",
   "metadata": {},
   "outputs": [],
   "source": [
    "## yeni index atama (assign a new index)\n",
    "new_index=['a','b','c','d','e','f','g','h']\n",
    "## 01\n",
    "df.index = new_index\n",
    "##02\n",
    "df_new = df.set_index([new_index])\n",
    "\n",
    "L2 = df_jobs.loc[df_jobs['Key Skills'].str.contains('C#')].index\n",
    "print(len(L2))\n",
    "L2.difference(L)"
   ]
  },
  {
   "cell_type": "markdown",
   "id": "25c803ad-3148-48b3-b32b-84f802201938",
   "metadata": {},
   "source": [
    "## Set Columns"
   ]
  },
  {
   "cell_type": "code",
   "execution_count": null,
   "id": "fa2979b9-cf64-401c-b303-9356c97358a5",
   "metadata": {},
   "outputs": [],
   "source": [
    "----------------- df.columns.tolist() -----------------\n",
    "cols = df.columns.tolist()\n",
    "cols\n",
    "# sonra kendin listeyi duzenle \n",
    "df = df[cols]\n",
    "\n",
    "----------------- 2. yol -----------------\n",
    "df = df[['col3', 'col2', 'col1', ]]\n",
    "\n",
    "----------------- 3. yol -----------------\n",
    "df.insert(10, \"Col3\", df.pop(\"Col3\"))\n",
    "\n",
    "\n",
    "----------------- KOLON sirasi degistirme -----------------\n",
    "df.insert(2, 'label', df.pop('label'))\n",
    "\n",
    "----------------- Butun Kolon isimlerini Lambda ile degistirmek -----------------\n",
    "df_new = df_jobs['Key Skills'].str.split('|', expand= True) # ==> yeni kolonlara ayrilir \n",
    "\n",
    "df_new.rename(columns = lambda x : 'a' + str(x), inplace=True) #==> isim basina a ekler a0 a1 a2 a3 ....\n",
    "\n",
    "----------------- Kolon ismi Degistirme -----------------\n",
    "df.rename(columns={\"A\": \"a\", \"B\": \"c\"})"
   ]
  },
  {
   "cell_type": "markdown",
   "id": "b3587485-4a8a-4575-8496-25041f9188be",
   "metadata": {},
   "source": [
    "# Tek kolonu 3 e ayirmak SPLIT"
   ]
  },
  {
   "cell_type": "code",
   "execution_count": null,
   "id": "62cdeb8f-7907-44ca-994d-af916460a6fd",
   "metadata": {},
   "outputs": [],
   "source": [
    "----------------- split -----------------\n",
    "0                    ALLEN PHILLIP K\n",
    "df[['lastname', 'firstname', 'middle initial']] = df['name'].str.split(expand=True)"
   ]
  },
  {
   "cell_type": "markdown",
   "id": "e7271fb9-f000-41a3-a2e2-ceb952b5626d",
   "metadata": {},
   "source": [
    "## Select Numeric columns and to list"
   ]
  },
  {
   "cell_type": "code",
   "execution_count": null,
   "id": "83e405dc-21ab-455a-a4af-be99a9453e3f",
   "metadata": {},
   "outputs": [],
   "source": [
    "df.select_dtypes(include=np.number)\n",
    "df.select_dtypes(include=np.number).columns.tolist()"
   ]
  },
  {
   "cell_type": "markdown",
   "id": "8a8b3066-85ae-4563-ac3c-3144a8dd7db5",
   "metadata": {},
   "source": [
    "## Select Categorical columns"
   ]
  },
  {
   "cell_type": "code",
   "execution_count": null,
   "id": "11ce4a1a-6a44-4a09-8d6c-b769989c4dcb",
   "metadata": {},
   "outputs": [],
   "source": [
    "df.select_dtypes(exclude=np.number)"
   ]
  },
  {
   "cell_type": "markdown",
   "id": "35e83d79-d8ad-4213-a90d-96bad7849d3b",
   "metadata": {},
   "source": [
    "# Dropna"
   ]
  },
  {
   "cell_type": "code",
   "execution_count": null,
   "id": "7a8320ad-80f3-4697-a2a2-3e7ad7fed145",
   "metadata": {},
   "outputs": [],
   "source": [
    "----------------- drop -----------------\n",
    "df.drop('index1', axis=0, inplace=True)\n",
    "df.drop('col1', axis=1, inplace=False)\n",
    "\n",
    "\n",
    "----------------- dropna -----------------\n",
    "df.dropna(axis=0, how='any', thresh=None, subset=None, inplace=False)\n",
    "how = 'any' , 'all'\n",
    "thresh = 2 en az iki tane NAN olmali\n",
    "subset= ['col1', 'col2'] # hangi kolonlara bakilacak\n",
    "\n",
    "----------------- str.replace & .astype-----------------\n",
    "$1,182.00 ======> 1182.00$\n",
    "df[['col1', 'col2']] = df[['col1', 'col2']].apply(lambda x : x.str.replace('$','').str.replace(',','')).astype(float)\n",
    "\n",
    "df.loc[df.col1.str.contains('tag'), 'col1'] = df.loc[df.publish.str.contains('xyz'), 'col1'].str.replace('\\D+', '')"
   ]
  },
  {
   "cell_type": "markdown",
   "id": "4ab7d96f-1df5-4841-a919-0ed02f92ef4a",
   "metadata": {},
   "source": [
    "# Filtering"
   ]
  },
  {
   "cell_type": "code",
   "execution_count": null,
   "id": "df9f67da-04e1-4a5b-b888-0659da2fed0f",
   "metadata": {},
   "outputs": [],
   "source": [
    "df[0:3]\n",
    "df[0:3]['col1']\n",
    "df[0:3][['col1', 'col2']]\n",
    "\n",
    "df[df.col1 > 20] ==> bu kosulu saglayan\n",
    "df.price[df.price > 2500] ==> sadece price kolonu\n",
    "df[['price', 'model']][df.price > 2500] ==> price ve model kolonu\n",
    "\n",
    "filt = df.Region == 'Rietberg'\n",
    "df.loc[filt]"
   ]
  },
  {
   "cell_type": "markdown",
   "id": "6d54516c-6c98-4e0e-aabb-62d2fffb7ad6",
   "metadata": {},
   "source": [
    "## df.loc"
   ]
  },
  {
   "cell_type": "code",
   "execution_count": null,
   "id": "357d61d9-1260-47de-9761-1259c2c1dea1",
   "metadata": {},
   "outputs": [],
   "source": [
    "001----------------- df.loc  ----------------- (labels)\n",
    "df.loc[rows, columns]\n",
    "df.loc[[0.3], :]\n",
    "df.loc[[0,3,5], ['make', 'price']]\n",
    "df.loc[3, 'price':'year']"
   ]
  },
  {
   "cell_type": "markdown",
   "id": "17dda086-85b9-462a-bc9a-7d5af986bbd5",
   "metadata": {
    "tags": []
   },
   "source": [
    "## df.iloc"
   ]
  },
  {
   "cell_type": "code",
   "execution_count": null,
   "id": "dd9a96ee-638a-4483-bf6d-7ac56e40e190",
   "metadata": {},
   "outputs": [],
   "source": [
    "002----------------- df.iloc ----------------- (index)\n",
    "df.loc[0:3] ==> 3. index dahil\n",
    "df.iloc[0:3] ==> 3. index dahil degil"
   ]
  },
  {
   "cell_type": "markdown",
   "id": "ec73b10f-780e-4529-ab65-f38cae607667",
   "metadata": {},
   "source": [
    "## df.query"
   ]
  },
  {
   "cell_type": "code",
   "execution_count": null,
   "id": "02ba51f3-99c2-422c-b528-b3937648734a",
   "metadata": {},
   "outputs": [],
   "source": [
    "003----------------- df.query -----------------\n",
    "df.query('col1>10')\n",
    "df.query('col1 == \"Mitte\"')\n",
    "df.query('col1 == \"Mitte\"& col2<1500')\n",
    "\n",
    "eger sayisal deger strings is \n",
    "min_year = 1980\n",
    "min_time = 10\n",
    "\n",
    "asagidaki 3 sey ayni\n",
    "df.query('Year <' + str(min_year) + 'and Time' + str(min_time))\n",
    "df.query(f'Year < {min_year} and Time {min_time}')\n",
    "df.query('Year < @min_year and Time @min_time')"
   ]
  },
  {
   "cell_type": "markdown",
   "id": "a3c819de-3ac8-43eb-9167-fe9117dca451",
   "metadata": {},
   "source": [
    "## df.isin"
   ]
  },
  {
   "cell_type": "code",
   "execution_count": null,
   "id": "02ab793e-371d-450f-99fc-7b5d477678aa",
   "metadata": {},
   "outputs": [],
   "source": [
    "004----------------- df.isin -----------------\n",
    "df.loc[df.col1.isin(['usa', 'tr', 'de'])]\n",
    "\n",
    "list1 = ['usa', 'tr', 'de']\n",
    "filt = df['col1'].isin(list1)\n",
    "df.loc[filt]"
   ]
  },
  {
   "cell_type": "markdown",
   "id": "094af248-44b0-4ca1-b53c-512096476e1c",
   "metadata": {},
   "source": [
    "## df.str.match"
   ]
  },
  {
   "cell_type": "code",
   "execution_count": null,
   "id": "a80d3ddd-6bcd-43d7-a7ea-dc91ff90aa3c",
   "metadata": {},
   "outputs": [],
   "source": [
    "005----------------- .str.match('start') ----------------- (#Abd ile baslayanlari bul)\n",
    "df.loc[df[\"col1\"].str.match(\"Abd\")]"
   ]
  },
  {
   "cell_type": "markdown",
   "id": "5b353772-4741-4231-a1d1-4936983827a4",
   "metadata": {},
   "source": [
    "## df.str.contains"
   ]
  },
  {
   "cell_type": "code",
   "execution_count": null,
   "id": "586a152d-28c6-45f3-ac5a-c065050c11a4",
   "metadata": {},
   "outputs": [],
   "source": [
    "005.1----------------- .str.contains('xyz') -----------------\n",
    "df.loc[df.col1.str.contains('xyz')]\n",
    "\n",
    "005.2----------------- .str.contains('xzy') ----------------- (#bir liste iceren kolondan bilgi secip dataFrame yapmak)\n",
    "top10_Laguages = ['JavaScript', 'Html', 'SQL', 'Bash', 'Python', 'Java', 'C#', 'Typescript', 'PHP', 'C+\\+']\n",
    "d = {'Language' : [] , 'Num_of_Jobs' : []}\n",
    "for i in top10_Laguages:\n",
    "    d['Language'] += [i]\n",
    "    d['Num_of_Jobs'] += [df_jobs.loc[df_jobs['Key Skills'].str.contains(i), ['Key Skills']].count()[0]]\n",
    "    print(i , df_jobs.loc[df_jobs['Key Skills'].str.contains(i), ['Key Skills']].count()[0])\n",
    "pd.DataFrame(data=d).sort_values(by= 'Num_of_Jobs', ascending=False)"
   ]
  },
  {
   "cell_type": "markdown",
   "id": "32c4e4d0-556d-402a-9989-bfe684e758e2",
   "metadata": {},
   "source": [
    "## df.iterows()"
   ]
  },
  {
   "cell_type": "code",
   "execution_count": null,
   "id": "81a3b621-db64-40b7-ba9a-62664f407797",
   "metadata": {},
   "outputs": [],
   "source": [
    "for i, row in df.iterrows():\n",
    "    if row['Year'] > 2000:\n",
    "        df.loc[i, 'is_recent'] = True\n",
    "    else:\n",
    "        df.loc[i, 'is_recent'] = False\n",
    "\n",
    "df['is_recent'] = df['Year'] > 2000 "
   ]
  },
  {
   "cell_type": "markdown",
   "id": "d5a66c8c-3a7c-4a40-a1dc-cdcf9ff1f6bc",
   "metadata": {},
   "source": [
    "### Groupby with agg func."
   ]
  },
  {
   "cell_type": "code",
   "execution_count": null,
   "id": "111a45bf-9e04-4059-9393-b1fa8c5f73c3",
   "metadata": {},
   "outputs": [],
   "source": [
    "df_model_gr = df.groupby(df.Model, as_index=False).agg({\"Price\": ['mean', 'median','min', 'max']}) # ic ice index olusuyor\n",
    "\n",
    "\n",
    "    Model\t                                Price\n",
    "               mean\t     median\t     min\t  max\n",
    "0\tAccord\t305000.00\t337500.00\t15000\t430000\n",
    "1\tAmarok\t602817.06\t590000.00\t16000\t950000\n",
    "------------------------------------------------------------------------------------------------------------------------------\n",
    "\n",
    "\n",
    "df2 = df.loc[(df.Kind == 'furgon') | (df.Kind == 'minivan')]\n",
    "df2.groupby(['Make', 'Model','Kind'], as_index=False).agg({\"Price\": ['mean','min', 'max'],\n",
    "                                                          \"Kms\": ['mean'],\n",
    "                                                          \"Year\":['mean', 'min', 'max'],\n",
    "                                                          \"Variant\": ['count']}).sort_values([('Price', 'mean')], ascending=False)\n",
    "\n",
    "      Make\t         Model\t       Kind\t               Price\t   Kms\t                   Year\t   Variant\n",
    "                                            mean\tmin\t max\t  mean\t    mean\tmin\t    max\t       count\n",
    "0\tChrysler\ttown_&_country\tminivan\t712000\t64000\t1100000\t 75732\t    2013\t2012\t2016\t    8\n",
    "1\tFord\t    transit\tf      urgon\t550000\t500000\t650000\t 101333\t    2012\t2011\t2013\t    3\n",
    "------------------------------------------------------------------------------------------------------------------------------\n",
    "# Rename Columns in AGG Function\n",
    "df3 = df.groupby(['cus_id', 'year']).agg({'order_number' :  'nunique',\n",
    "                                                            'month' : ['max', 'min' ],\n",
    "                                                            'city_(billing)' : 'nunique'}).reset_index()\n",
    "\n",
    "df3.columns = ['cus_id', 'year', 'num_of_order', 'month_max', 'month_min', 'num_of_city']\n",
    "------------------------------------------------------------------------------------------------------------------------------\n",
    "\n",
    "\n",
    "# Give new column name with groupby \n",
    "df.groupby('name').agg(\n",
    "    max_customers = pd.NamedAgg(column='Customers', aggfunc=max),\n",
    "    mean_avg_bill = pd.NamedAgg(column='AvgBill', aggfunc=pd.Series.mean),\n",
    ")\n",
    "------------------------------------------------------------------------------------------------------------------------------\n",
    "\n",
    "\n",
    "# Give new Column Name \n",
    "df.groupby('dummy').agg(Mean=('returns', 'mean'), Sum=('returns', 'sum'))\n",
    "df.groupby('dummy')['returns'].agg(Mean='mean', Sum='sum')\n",
    "------------------------------------------------------------------------------------------------------------------------------"
   ]
  },
  {
   "cell_type": "markdown",
   "id": "9d05f6db-c7bf-4d7d-95ad-c3d1afaa630a",
   "metadata": {},
   "source": [
    "# df.style()"
   ]
  },
  {
   "cell_type": "code",
   "execution_count": null,
   "id": "bd2170ef-efe8-49f3-9873-34b5f84a5c8a",
   "metadata": {},
   "outputs": [],
   "source": [
    "df.col1.sort_values('col2', ascending=False).reset_index().style.background_gradient(cmap='Reds')"
   ]
  },
  {
   "cell_type": "code",
   "execution_count": 11,
   "id": "35db450a-dc02-4238-aa8c-7828f8bde97b",
   "metadata": {},
   "outputs": [
    {
     "data": {
      "text/html": [
       "<style type=\"text/css\">\n",
       "#T_c9ebd_row0_col0, #T_c9ebd_row4_col1 {\n",
       "  background-color: #67000d;\n",
       "  color: #f1f1f1;\n",
       "}\n",
       "#T_c9ebd_row0_col1, #T_c9ebd_row4_col0 {\n",
       "  background-color: #fff5f0;\n",
       "  color: #000000;\n",
       "}\n",
       "#T_c9ebd_row1_col0, #T_c9ebd_row3_col1 {\n",
       "  background-color: #ca181d;\n",
       "  color: #f1f1f1;\n",
       "}\n",
       "#T_c9ebd_row1_col1, #T_c9ebd_row3_col0 {\n",
       "  background-color: #fcbba1;\n",
       "  color: #000000;\n",
       "}\n",
       "#T_c9ebd_row2_col0, #T_c9ebd_row2_col1 {\n",
       "  background-color: #fb694a;\n",
       "  color: #f1f1f1;\n",
       "}\n",
       "</style>\n",
       "<table id=\"T_c9ebd\">\n",
       "  <thead>\n",
       "    <tr>\n",
       "      <th class=\"blank level0\" >&nbsp;</th>\n",
       "      <th id=\"T_c9ebd_level0_col0\" class=\"col_heading level0 col0\" >a</th>\n",
       "      <th id=\"T_c9ebd_level0_col1\" class=\"col_heading level0 col1\" >b</th>\n",
       "    </tr>\n",
       "  </thead>\n",
       "  <tbody>\n",
       "    <tr>\n",
       "      <th id=\"T_c9ebd_level0_row0\" class=\"row_heading level0 row0\" >4</th>\n",
       "      <td id=\"T_c9ebd_row0_col0\" class=\"data row0 col0\" >5</td>\n",
       "      <td id=\"T_c9ebd_row0_col1\" class=\"data row0 col1\" >1</td>\n",
       "    </tr>\n",
       "    <tr>\n",
       "      <th id=\"T_c9ebd_level0_row1\" class=\"row_heading level0 row1\" >3</th>\n",
       "      <td id=\"T_c9ebd_row1_col0\" class=\"data row1 col0\" >4</td>\n",
       "      <td id=\"T_c9ebd_row1_col1\" class=\"data row1 col1\" >2</td>\n",
       "    </tr>\n",
       "    <tr>\n",
       "      <th id=\"T_c9ebd_level0_row2\" class=\"row_heading level0 row2\" >2</th>\n",
       "      <td id=\"T_c9ebd_row2_col0\" class=\"data row2 col0\" >3</td>\n",
       "      <td id=\"T_c9ebd_row2_col1\" class=\"data row2 col1\" >3</td>\n",
       "    </tr>\n",
       "    <tr>\n",
       "      <th id=\"T_c9ebd_level0_row3\" class=\"row_heading level0 row3\" >1</th>\n",
       "      <td id=\"T_c9ebd_row3_col0\" class=\"data row3 col0\" >2</td>\n",
       "      <td id=\"T_c9ebd_row3_col1\" class=\"data row3 col1\" >4</td>\n",
       "    </tr>\n",
       "    <tr>\n",
       "      <th id=\"T_c9ebd_level0_row4\" class=\"row_heading level0 row4\" >0</th>\n",
       "      <td id=\"T_c9ebd_row4_col0\" class=\"data row4 col0\" >1</td>\n",
       "      <td id=\"T_c9ebd_row4_col1\" class=\"data row4 col1\" >5</td>\n",
       "    </tr>\n",
       "  </tbody>\n",
       "</table>\n"
      ],
      "text/plain": [
       "<pandas.io.formats.style.Styler at 0x7f963d2255b0>"
      ]
     },
     "execution_count": 11,
     "metadata": {},
     "output_type": "execute_result"
    }
   ],
   "source": [
    "df.sort_values('b').style.background_gradient(cmap='Reds')"
   ]
  },
  {
   "cell_type": "code",
   "execution_count": 35,
   "id": "ea075c93-876c-489e-9566-d036d4fdaaa0",
   "metadata": {},
   "outputs": [
    {
     "data": {
      "text/html": [
       "<style type=\"text/css\">\n",
       "#T_d2bf6_row0_col0, #T_d2bf6_row4_col1 {\n",
       "  width: 10em;\n",
       "  background: linear-gradient(90deg, transparent 40.0%, #0000ff 40.0%, #0000ff 80.0%, transparent 80.0%) no-repeat center;\n",
       "  background-size: 100% 50.0%;\n",
       "  color: #0000ff;\n",
       "}\n",
       "#T_d2bf6_row0_col1, #T_d2bf6_row4_col0 {\n",
       "  width: 10em;\n",
       "  background: linear-gradient(90deg, transparent 40.0%, #00ff00 40.0%, #00ff00 48.0%, transparent 48.0%) no-repeat center;\n",
       "  background-size: 100% 50.0%;\n",
       "  color: #00ff00;\n",
       "}\n",
       "#T_d2bf6_row1_col0, #T_d2bf6_row3_col1 {\n",
       "  width: 10em;\n",
       "  background: linear-gradient(90deg, transparent 40.0%, #7e0081 40.0%, #7e0081 72.0%, transparent 72.0%) no-repeat center;\n",
       "  background-size: 100% 50.0%;\n",
       "  color: #7e0081;\n",
       "}\n",
       "#T_d2bf6_row1_col1, #T_d2bf6_row3_col0 {\n",
       "  width: 10em;\n",
       "  background: linear-gradient(90deg, transparent 40.0%, #807f00 40.0%, #807f00 56.0%, transparent 56.0%) no-repeat center;\n",
       "  background-size: 100% 50.0%;\n",
       "  color: #807f00;\n",
       "}\n",
       "#T_d2bf6_row2_col0, #T_d2bf6_row2_col1 {\n",
       "  width: 10em;\n",
       "  background: linear-gradient(90deg, transparent 40.0%, #fe0001 40.0%, #fe0001 64.0%, transparent 64.0%) no-repeat center;\n",
       "  background-size: 100% 50.0%;\n",
       "  color: #fe0001;\n",
       "}\n",
       "</style>\n",
       "<table id=\"T_d2bf6\">\n",
       "  <thead>\n",
       "    <tr>\n",
       "      <th class=\"blank level0\" >&nbsp;</th>\n",
       "      <th id=\"T_d2bf6_level0_col0\" class=\"col_heading level0 col0\" >a</th>\n",
       "      <th id=\"T_d2bf6_level0_col1\" class=\"col_heading level0 col1\" >b</th>\n",
       "    </tr>\n",
       "  </thead>\n",
       "  <tbody>\n",
       "    <tr>\n",
       "      <th id=\"T_d2bf6_level0_row0\" class=\"row_heading level0 row0\" >4</th>\n",
       "      <td id=\"T_d2bf6_row0_col0\" class=\"data row0 col0\" >5.0</td>\n",
       "      <td id=\"T_d2bf6_row0_col1\" class=\"data row0 col1\" >1.0</td>\n",
       "    </tr>\n",
       "    <tr>\n",
       "      <th id=\"T_d2bf6_level0_row1\" class=\"row_heading level0 row1\" >3</th>\n",
       "      <td id=\"T_d2bf6_row1_col0\" class=\"data row1 col0\" >4.0</td>\n",
       "      <td id=\"T_d2bf6_row1_col1\" class=\"data row1 col1\" >2.0</td>\n",
       "    </tr>\n",
       "    <tr>\n",
       "      <th id=\"T_d2bf6_level0_row2\" class=\"row_heading level0 row2\" >2</th>\n",
       "      <td id=\"T_d2bf6_row2_col0\" class=\"data row2 col0\" >3.0</td>\n",
       "      <td id=\"T_d2bf6_row2_col1\" class=\"data row2 col1\" >3.0</td>\n",
       "    </tr>\n",
       "    <tr>\n",
       "      <th id=\"T_d2bf6_level0_row3\" class=\"row_heading level0 row3\" >1</th>\n",
       "      <td id=\"T_d2bf6_row3_col0\" class=\"data row3 col0\" >2.0</td>\n",
       "      <td id=\"T_d2bf6_row3_col1\" class=\"data row3 col1\" >4.0</td>\n",
       "    </tr>\n",
       "    <tr>\n",
       "      <th id=\"T_d2bf6_level0_row4\" class=\"row_heading level0 row4\" >0</th>\n",
       "      <td id=\"T_d2bf6_row4_col0\" class=\"data row4 col0\" >1.0</td>\n",
       "      <td id=\"T_d2bf6_row4_col1\" class=\"data row4 col1\" >5.0</td>\n",
       "    </tr>\n",
       "  </tbody>\n",
       "</table>\n"
      ],
      "text/plain": [
       "<pandas.io.formats.style.Styler at 0x7f96418165e0>"
      ]
     },
     "execution_count": 35,
     "metadata": {},
     "output_type": "execute_result"
    }
   ],
   "source": [
    "df.sort_values('b').style.format('{:.1f}').bar(cmap='brg_r', align=0, vmin=1, vmax=5, width=80, height=50).text_gradient(cmap='brg_r', vmin=1, vmax=5)"
   ]
  },
  {
   "cell_type": "markdown",
   "id": "bfb9ba0e-2179-4a48-b1b6-1ee2ec8db31f",
   "metadata": {},
   "source": [
    "# df.pct_change() and df.diff()"
   ]
  },
  {
   "cell_type": "code",
   "execution_count": null,
   "id": "1fd05ccd-5340-47cd-80f4-b87098a0d03d",
   "metadata": {},
   "outputs": [],
   "source": [
    "df['col1'].pct_change() ====> bir usteki kolon ile yuzdelik farki hesaplar\n",
    "df.['col2'].diff()  =====> bir ustteki kolon ile farki hesaplar"
   ]
  },
  {
   "cell_type": "markdown",
   "id": "c0149545-cfc2-4b2e-992d-87a24ffdf8e1",
   "metadata": {},
   "source": [
    "# assign"
   ]
  },
  {
   "cell_type": "code",
   "execution_count": null,
   "id": "6267b65b-21c2-4173-9cc8-625ffc5ad4d8",
   "metadata": {},
   "outputs": [],
   "source": [
    "001----------------- df.assign  ----------------- \n",
    "# Assign new columns to a DataFrame\n",
    "df.col1 = df.col1.apply(lambda x: 'genc' if x<30 else 'yasli)\n",
    "df['new_col'] = df.col1.apply(lambda x: 'genc' if x<30 else 'yasli)                              \n",
    "\n",
    "df.assign(new_col=lambda x: x.col2 * 10) ==> #DataFrame degismez sadece ne oluyor onu gorursun\n",
    "df['new_col'] = df.assign(new_col=lambda x: x.col2 * 10)\n",
    "#df['new_col'] = df.assign(lambda x : x.age.map(lambda x: 'Genc' if x<30 else 'Yasli'))\n",
    "\n",
    "\n",
    "002----------------- df.loc  ----------------- \n",
    "# Yukardaki ile ayni ama tek atama yapar Yasli icin ayri yapmak lazim\n",
    "df.loc[df['age'] < 30, 'new_col'] = 'Gencc'\n",
    "\n",
    "003----------------- df.col1.map  ----------------- \n",
    "dic1 = {'Mitte' : 'NRW', 'Kreuzberg': 'Berlin', 'Value_old' : 'New_Value'}\n",
    "df['new_col'] = df.col1.map(dic1)\n"
   ]
  },
  {
   "cell_type": "markdown",
   "id": "17f4d255-295c-47e7-b539-a6214798b2de",
   "metadata": {},
   "source": [
    "# duplicated values"
   ]
  },
  {
   "cell_type": "code",
   "execution_count": null,
   "id": "fbdcb31b-34cb-4b50-957a-36cddc59662f",
   "metadata": {},
   "outputs": [],
   "source": [
    "df.duplicated().sum()"
   ]
  },
  {
   "cell_type": "markdown",
   "id": "e74ca8c4-fa99-4a2c-ad60-0c4bd010f5a2",
   "metadata": {},
   "source": [
    "# concat, merge"
   ]
  },
  {
   "cell_type": "code",
   "execution_count": null,
   "id": "42195d0c-a70c-4cff-9f86-8a2a9f08e431",
   "metadata": {},
   "outputs": [],
   "source": [
    "----------------- concat -----------------\n",
    "pd.concat(objs, axis=0, join='outer', ignore_index=False, keys=None, levels=None, names=None, verify_integrity=False, sort=False, copy=True)\n",
    "\n",
    "pd.concat([df1,df2], axis=1, ignore_index=True, join='inner') \n",
    "axis= 0, 1 # 0 alt alta ekler , 1 yan yana ekler\n",
    "ignore_index= True , False #  True sirali index olur , False eski indexler kalir    \n",
    "join= 'inner', 'outer'  # inner= ayni kolonlari alir, \n",
    "verify_integrity=True # Duplicate kontrol eder\n",
    "\n",
    "\n",
    "\n",
    "\n",
    "----------------- concat, drop_duplicates ----------------- (#How to remove a pandas dataframe from another dataframe)\n",
    "df1=pd.DataFrame([[1,2],[3,4],[5,6]],columns=['a','b'])\n",
    "    a\tb\n",
    "0\t1\t2\n",
    "1\t3\t4\n",
    "2\t5\t6\n",
    "df2=pd.DataFrame([[1,2],[5,6]],columns=['a','b'])\n",
    "    a\tb\n",
    "0\t1\t2\n",
    "1\t5\t6\n",
    "\n",
    "pd.concat([df1, df2]).drop_duplicates(keep=False)\n",
    "\ta\tb\n",
    "1\t3\t4\n",
    "\n",
    "\n",
    "----------------- merge -----------------\n",
    "# sadece 2 DataFrame birlestirlir\n",
    "pd.merge(df1,df2, on='ayni_kolon', suffixes=['_df1','_df2']) ==> kolon adlarina x ve y yerine istedigini yazar\n",
    "pd.merge(df1,df2, on='ayni_kolon', how='inner') # how = inner, outer, left , right\n",
    "    \n",
    "    \n",
    "df_merged = df1.merge(df2, ,on=[''],\n",
    "                     suffixes= ('_df1', '_df2'),\n",
    "                     validate= 'm:m')\n",
    "# Validate options\n",
    "'one_to_one' or '1:1'\n",
    "'one_to_many' or '1:m'\n",
    "'many_to_one' or 'm:1'\n",
    "'many_to_many' or 'm:m'\n"
   ]
  },
  {
   "cell_type": "markdown",
   "id": "1588b3d2-8445-48f7-adf4-82450248f765",
   "metadata": {},
   "source": [
    "# Pivot Table"
   ]
  },
  {
   "cell_type": "code",
   "execution_count": null,
   "id": "b909aa82-4d0e-4254-a8fe-3f41021a1559",
   "metadata": {},
   "outputs": [],
   "source": [
    "----------------- Pivot Table -----------------\n",
    "\n",
    "df.pivot_table(index='rfm_score', columns=['cluster_mem'], values=['monetary','frequency','recency'])\n",
    "\n",
    "# agg_func=np.mean  , np.sum\n",
    "\n",
    "                                    frequency\t                    monetary\t                    recency\n",
    "cluster_mem\t0.000\t1.000\t2.000\t3.000\t0.000\t1.000\t2.000\t3.000\t0.000\t1.000\t2.000\t3.000\n",
    "rfm_score\t\t\t\t\t\t\t\t\t\t\t\t\n",
    "144\t          NaN\t4.000\t4.000\t4.000\tNaN\t    160.620\t164.952\t146.130\tNaN\t    62.000\t34.833\t86.000\n",
    "145\t          NaN\t4.000\t4.000\tNaN\t    NaN\t    240.477\t289.937\tNaN\t    NaN\t    44.750\t37.000\tNaN\n",
    "151\t          NaN\t5.000\tNaN\t    NaN\t    NaN\t    1.480\tNaN\t    NaN\t    NaN\t    55.000\tNaN\t    NaN\n",
    "154\t          NaN\t5.000\tNaN\t    NaN\t    NaN\t    136.700\tNaN\t    NaN\t    NaN\t    35.000\tNaN\t    NaN\n",
    "155\t          NaN\t10.500\t6.111\t8.000\tNaN\t    312.865\t388.798\t467.790\tNaN\t    19.000\t46.444\t35.000\n",
    "211\t          1.000\tNaN\t    NaN\t    NaN\t    19.084\tNaN\t    NaN\t    NaN\t    185.725\tNaN\t    NaN\t    NaN\n"
   ]
  },
  {
   "cell_type": "markdown",
   "id": "1504ac29-560b-4009-90a4-0c7c13ae5c26",
   "metadata": {},
   "source": [
    "# cut (bins)"
   ]
  },
  {
   "cell_type": "code",
   "execution_count": null,
   "id": "d04dd791-ce95-4333-b24a-4c0e01d46ba3",
   "metadata": {},
   "outputs": [],
   "source": [
    "bins = [0,500,1000,1500]\n",
    "labels = ['ucuz', 'normal', 'pahali']\n",
    "df['new_col'] = pd.cut(df['price'], bins=bins, labels=labels) ===> #1500 den buyuk degerler NAN atanir !!"
   ]
  },
  {
   "cell_type": "code",
   "execution_count": null,
   "id": "3e2e852e-98b4-4460-9c74-8e34b891ee0d",
   "metadata": {},
   "outputs": [],
   "source": []
  },
  {
   "cell_type": "code",
   "execution_count": null,
   "id": "c76a1d17-121f-45cc-9dba-004517bc0140",
   "metadata": {},
   "outputs": [],
   "source": []
  },
  {
   "cell_type": "markdown",
   "id": "5a23a136-7811-4681-abf0-d13780d40031",
   "metadata": {},
   "source": [
    "# REGEX (.strip)"
   ]
  },
  {
   "cell_type": "code",
   "execution_count": null,
   "id": "6ec8ccc0-7841-4fc2-8276-e2b0e7a4522e",
   "metadata": {},
   "outputs": [],
   "source": [
    "Regex \n",
    "\n",
    "001----------------- r'\\W' -----------------\n",
    "Matches anything other than a letter, digit or underscore\n",
    "df.price = df.price.str.replace(r'\\W', '')\n",
    "\n",
    "df['price2'] = df.price.str.replace('\\D+', '').replace(' ', '').replace('', 0).astype('int32')\n",
    "\n",
    "002----------------- df.col.strip('') -----------------# basdan ve sondan bosluklari siler yada secilen karakteri\n",
    "lstrip(), rstrip()\n",
    "secilen karekteri heryerden siler\n",
    "df.col1 = df.col1.strip('any carachter')\n",
    "\n",
    "003----------------- df.col.replace('') -----------------\n",
    "# Rakami Secer String icinden\n",
    "df.coloumn.str.replace('\\D+', '')\n",
    "\n",
    "# Ayni Kolonda birden fazla replace yapmak icin \n",
    "df.replace({'column01' : {'Medium':2, 'Small':1, 'High':3 }}, regex=True)\n"
   ]
  },
  {
   "cell_type": "markdown",
   "id": "2cb09689-2105-439f-9758-b8bf5fcdb4c6",
   "metadata": {
    "tags": []
   },
   "source": [
    "# function or apply"
   ]
  },
  {
   "cell_type": "code",
   "execution_count": null,
   "id": "fa9fae74-7f41-4cd8-8489-e589eaf4d35f",
   "metadata": {
    "tags": []
   },
   "outputs": [],
   "source": [
    "def func1(value):\n",
    "    \"\"\" Explain What makes func1 \"\"\"\n",
    "    new_value = value.replace(\",\" , \"\").replace(\"  \", \"\")\n",
    "    return (new_value.astype(\"float\"))\n",
    "\n",
    "df[\"col1\"].apply(func1)   \n",
    "\n",
    "#oder\n",
    "\n",
    "df[\"col1\"] = df[\"col1\"].apply(lambda x : x.replace(\",\" , \"\").replace(\"  \", \"\")).astype(\"float\")"
   ]
  },
  {
   "cell_type": "code",
   "execution_count": null,
   "id": "38f820f8-4597-4b5b-bacb-415a2c6e505b",
   "metadata": {},
   "outputs": [],
   "source": []
  },
  {
   "cell_type": "markdown",
   "id": "a48beb18-6f68-420d-bfd9-04556ec99471",
   "metadata": {
    "tags": []
   },
   "source": [
    "# Python"
   ]
  },
  {
   "cell_type": "markdown",
   "id": "bcf3ad5d-4afa-4e28-a84c-13a5b115ad43",
   "metadata": {},
   "source": [
    "## Kumlerde Islemler"
   ]
  },
  {
   "cell_type": "code",
   "execution_count": null,
   "id": "7b39f3a8-b41d-4dc7-a7e7-493dfcd931cf",
   "metadata": {},
   "outputs": [],
   "source": [
    "# Kesisim , Birlesim (set, kumeler , 2 kolon)\n",
    "cus2021 = df1.loc[df1.year == 2021].cus_id\n",
    "cus2022 = df1.loc[df1.year == 2022].cus_id\n",
    "\n",
    "# Kesisim\n",
    "cus2021.intersection(cus2022)\n",
    "len(set(cus2021) & set(cus2022)\n",
    "    \n",
    "# Iki kume Farki\n",
    "k1.difference(k2)\n",
    "    \n"
   ]
  },
  {
   "cell_type": "markdown",
   "id": "27eeb5cd-4ec5-47af-9b9e-c01ee547e046",
   "metadata": {
    "tags": []
   },
   "source": [
    "## enumerate , zip"
   ]
  },
  {
   "cell_type": "code",
   "execution_count": 6,
   "id": "3a0751d0-e437-481e-ab06-13215e1bbee4",
   "metadata": {},
   "outputs": [
    {
     "name": "stdout",
     "output_type": "stream",
     "text": [
      "0 a\n",
      "1 b\n",
      "2 c\n"
     ]
    }
   ],
   "source": [
    "list01 = ['a', 'b', 'c']\n",
    "list02 = ['deger1', 'deger2', 'deger3']\n",
    "\n",
    "for i, value in enumerate(list01):\n",
    "    print(i, value)"
   ]
  },
  {
   "cell_type": "code",
   "execution_count": 7,
   "id": "83ba8dfd-dfb7-4a79-9da4-976589d3f4a7",
   "metadata": {},
   "outputs": [
    {
     "name": "stdout",
     "output_type": "stream",
     "text": [
      "a deger1 a\n",
      "b deger2 b\n",
      "c deger3 c\n"
     ]
    }
   ],
   "source": [
    "for i,j,k in zip(list01, list02, list01):\n",
    "    print(i,j,k)"
   ]
  },
  {
   "cell_type": "markdown",
   "id": "14480332-8be6-4348-a654-3fda65f9bea8",
   "metadata": {},
   "source": [
    "## sorted (tuple)"
   ]
  },
  {
   "cell_type": "code",
   "execution_count": 1,
   "id": "9055dbf8-b942-4165-a8a6-cb425ff1f03e",
   "metadata": {},
   "outputs": [
    {
     "name": "stdout",
     "output_type": "stream",
     "text": [
      "[(4, 1), (2, 2), (1, 3), (3, 4)]\n"
     ]
    }
   ],
   "source": [
    "random_list = [(2, 2), (3, 4), (4, 1), (1, 3)]\n",
    "print(sorted(random_list, key= lambda x : x[1]))  # ikinci elemana gore siralar"
   ]
  },
  {
   "cell_type": "markdown",
   "id": "67d206c3-a812-4a38-a053-20b087060cea",
   "metadata": {},
   "source": [
    "## filter func"
   ]
  },
  {
   "cell_type": "code",
   "execution_count": 3,
   "id": "5762a540-ce4e-4332-9dc8-b1d6cf1b31ef",
   "metadata": {},
   "outputs": [
    {
     "data": {
      "text/plain": [
       "['html',\n",
       " 'sql',\n",
       " 'bash',\n",
       " 'python',\n",
       " 'java',\n",
       " 'typescript',\n",
       " 'php',\n",
       " 'c#',\n",
       " 'c+\\\\+',\n",
       " 'c']"
      ]
     },
     "execution_count": 3,
     "metadata": {},
     "output_type": "execute_result"
    }
   ],
   "source": [
    "top10_Laguages = ['javascript', 'html', 'sql', 'bash', 'python', 'java', 'typescript', 'php', 'c#', 'c+\\+', 'c']\n",
    "new_list = filter(lambda x: x != 'javascript', top10_Laguages)\n",
    "list(new_list)"
   ]
  },
  {
   "cell_type": "markdown",
   "id": "6e49c04d-9a84-4ecf-b817-3b7d8073a26b",
   "metadata": {},
   "source": [
    "## Print Func. Decimal"
   ]
  },
  {
   "cell_type": "code",
   "execution_count": null,
   "id": "661d733f-6480-4833-b39e-4a1a51f8c3ac",
   "metadata": {},
   "outputs": [],
   "source": [
    "jb, pvalue = jarque_bera(df.Price)\n",
    "print(f'{jb} , {pvalue}')\n",
    "print(\"JB: %.3f\" % jb , 'PVALUE: %.4f' % pvalue)\n",
    "print('%.3f' % jb, pvalue)"
   ]
  },
  {
   "cell_type": "markdown",
   "id": "339d9e1b-8b30-4cb3-9a87-f28e0223f1ce",
   "metadata": {},
   "source": [
    "# RFM Codes"
   ]
  },
  {
   "cell_type": "code",
   "execution_count": null,
   "id": "ab36a020-0d0c-448c-83fe-103062805cf2",
   "metadata": {},
   "outputs": [],
   "source": [
    "# Recap 03\n",
    "\n",
    "today = dt.datetime(2022,12,12)\n",
    "dfrfm = df_merge_02[['Cus_ID', 'date_max']]\n",
    "\n",
    "# Add Recency Column\n",
    "dfrfm['recency'] = today - dfrfm.date_max\n",
    "\n",
    "# Add Frequency Column\n",
    "dfrfm['frequency'] = df_merge_02['total_num_of_invoice']\n",
    "\n",
    "# Add Monetary Column\n",
    "dfrfm['monetary'] = df_merge_02['total_bill']\n",
    "dfrfm.drop('date_max', axis=1, inplace=True)\n",
    "\n",
    "#Recency Bulma\n",
    "dfrfm = dfrfm.sort_values('recency', ascending=True)\n",
    "dfrfm['rec_tile'] = pd.qcut(dfrfm['recency'], 5, labels=False)\n",
    "\n",
    "#Frequency Bulma\n",
    "def FScore(x,p,d):\n",
    "    if x<=d[p][0.60]:\n",
    "        return 0\n",
    "    if x<=d[p][0.90]:\n",
    "        return 1\n",
    "    if x<=d[p][0.98]:\n",
    "        return 2\n",
    "    if x<=d[p][0.99]:\n",
    "        return 3\n",
    "    else:\n",
    "        return 4\n",
    "    \n",
    "quantiles = dfrfm.quantile(q= [.60, .90, .98, .99, .999999])\n",
    "quantiles = quantiles.to_dict()\n",
    "dfrfm['freq_tile'] = dfrfm['frequency'].apply(FScore, args=('frequency',quantiles))\n",
    "\n",
    "#Monetary bulma\n",
    "dfrfm['mone_tile'] = pd.cut(dfrfm['monetary'], bins=[0, 30, 60, 100, 200, 5000], labels=[1,2,3,4,5])\n",
    "\n",
    "# 'Sifir' degeri yer almasin istiyorsak\n",
    "dfrfm['rec_tile'] = dfrfm['rec_tile'] + 1\n",
    "dfrfm['freq_tile'] = dfrfm['freq_tile'] + 1\n",
    "#dfrfm['mone_tile'] = dfrfm['mone_tile'] + 1\n",
    "\n",
    "# Buldugumuz Degerleri birlestirip tek bir skor elde ediyoruz\n",
    "dfrfm['rfm_score'] = dfrfm['rec_tile'].map(str)+dfrfm['freq_tile'].map(str)+dfrfm['mone_tile'].astype('string').str.replace('.0','')\n",
    "dfrfm.head()\n"
   ]
  },
  {
   "cell_type": "markdown",
   "id": "6f99cdb2-8c29-49f4-afdc-cda6b9ef8a83",
   "metadata": {},
   "source": [
    "# DATA ANALYSIS"
   ]
  },
  {
   "cell_type": "markdown",
   "id": "3e19906d-9ab9-49c7-9121-f093e2939997",
   "metadata": {},
   "source": [
    "## Missing Values"
   ]
  },
  {
   "cell_type": "code",
   "execution_count": null,
   "id": "53f48264-c62c-4657-9ee3-2dcf3d9dd39a",
   "metadata": {},
   "outputs": [],
   "source": [
    "df.isna().apply(pd.value_counts)\n",
    "df.isna().sum()"
   ]
  },
  {
   "cell_type": "code",
   "execution_count": null,
   "id": "61edffcf-97de-4e33-87b1-e3b609215895",
   "metadata": {},
   "outputs": [],
   "source": [
    "# Getting Null Values\n",
    "df[pd.isnull(df.column)]\n",
    "\n",
    "# Getting all null Columns\n",
    "pd.DataFrame(df.isnull().sum(), columns = ['isnull'])\n",
    "df.isna().sum().reset_index(name='null').rename(columns={'index' : 'column'})\n",
    "\n",
    "# Getting notnull values\n",
    "df[pd.notnull(df.column)]"
   ]
  },
  {
   "cell_type": "markdown",
   "id": "a5226eef-a58b-425d-960e-c4854e508042",
   "metadata": {},
   "source": [
    "*Messy datasets? Missing values? *missingno* provides a small toolset of flexible and easy-to-use missing data visualizations and utilities that allows you to get a quick visual summary of the completeness (or lack thereof) of your dataset.*"
   ]
  },
  {
   "cell_type": "code",
   "execution_count": null,
   "id": "4bc8b633-941d-4566-a7b2-3a2fd81ccedb",
   "metadata": {},
   "outputs": [],
   "source": [
    "# Missing Value Visualization\n",
    "import missingno as msno\n",
    "%matplotlib inline\n",
    "\n",
    "# Matrix Visualization\n",
    "msno.matrix(df)\n",
    "\n",
    "#Bar Visualization\n",
    "msn.bar(df)\n",
    "\n",
    "# Missing Values Ratio\n",
    "a=df.isnull().mean().round(4).mul(100).sort_values(ascending=False)\n",
    "a.head(20)"
   ]
  },
  {
   "cell_type": "code",
   "execution_count": null,
   "id": "cc31e95e-c918-4289-a6cb-4e0c9b0941c0",
   "metadata": {},
   "outputs": [],
   "source": []
  },
  {
   "cell_type": "markdown",
   "id": "f341d98b-c26d-4a95-8aca-d8cdffd067e0",
   "metadata": {},
   "source": [
    "## Skewness"
   ]
  },
  {
   "cell_type": "code",
   "execution_count": null,
   "id": "0377363e-174a-4d31-ac93-7e6ed2c4193f",
   "metadata": {},
   "outputs": [],
   "source": [
    "# 01-\n",
    "# Observing all skewness and kurtosis \n",
    "df.skew()\n",
    "df.kurtosis()\n",
    "\n",
    "skewness = insurance_df.select_dtypes(include=np.number).skew()\n",
    "skewness\n",
    "\n",
    "# 02 -\n",
    "# Observing ..... Histogram\n",
    "train_df['SalePrice'].describe()\n",
    "sns.distplot(train_df['SalePrice']);\n",
    "#skewness and kurtosis\n",
    "print(\"Skewness: %f\" % train_df['SalePrice'].skew())\n",
    "print(\"Kurtosis: %f\" % train_df['SalePrice'].kurt())"
   ]
  },
  {
   "cell_type": "markdown",
   "id": "819ec803-f3b0-443f-86b6-b092a5099f30",
   "metadata": {},
   "source": [
    "### Skewness Plot (distplot)"
   ]
  },
  {
   "cell_type": "code",
   "execution_count": null,
   "id": "e98b7324-c729-4e1d-ba5b-aa18faf4b01b",
   "metadata": {},
   "outputs": [],
   "source": [
    "from scipy.stats import norm, lognorm, johnsonsu\n",
    "\n",
    "y = df['COL']\n",
    "plt.figure(1); plt.suptitle('Johnson SU')\n",
    "sns.distplot(y, kde=False, fit=johnsonsu)\n",
    "plt.figure(2); plt.title('Normal')\n",
    "sns.distplot(y, kde=False, fit=norm)\n",
    "plt.figure(3); plt.title('Log Normal')\n",
    "sns.distplot(y, kde=False, fit=lognorm)"
   ]
  },
  {
   "cell_type": "code",
   "execution_count": null,
   "id": "e29daec5-d9fb-4b69-8923-cfaa51d9a007",
   "metadata": {},
   "outputs": [],
   "source": [
    "### Transforming"
   ]
  },
  {
   "cell_type": "code",
   "execution_count": null,
   "id": "4240569d-cfea-4c83-a264-b2c919464ff2",
   "metadata": {},
   "outputs": [],
   "source": [
    "from scipy import stats\n",
    "from scipy.stats import norm, skew,johnsonsu #for some statistics\n",
    "\n",
    "# Plot histogram and probability\n",
    "fig = plt.figure(figsize=(15,5))\n",
    "plt.subplot(1,2,1)\n",
    "sns.distplot(train_df['xxx'] , fit=norm);\n",
    "(mu, sigma) = norm.fit(train_df['xxx'])\n",
    "print( '\\n mu = {:.2f} and sigma = {:.2f}\\n'.format(mu, sigma))\n",
    "plt.legend(['Normal dist. ($\\mu=$ {:.2f} and $\\sigma=$ {:.2f} )'.format(mu, sigma)],\n",
    "            loc='best')\n",
    "plt.ylabel('Frequency')\n",
    "plt.title('xxx distribution')\n",
    "plt.subplot(1,2,2)\n",
    "res = stats.probplot(train_df['xxx'], plot=plt)\n",
    "plt.suptitle('Before transformation')\n",
    "\n",
    "# Apply transformation\n",
    "train_df.SalePrice = np.log1p(train_df.SalePrice )\n",
    "# New prediction\n",
    "y_train = train_df.SalePrice\n",
    "train_df_sp = train_df.SalePrice\n",
    "\n",
    "# Plot histogram and probability after transformation\n",
    "fig = plt.figure(figsize=(15,5))\n",
    "plt.subplot(1,2,1)\n",
    "sns.distplot(train_df['xxx'] , fit=norm);\n",
    "(mu, sigma) = norm.fit(train_df['SalePrice'])\n",
    "print( '\\n mu = {:.2f} and sigma = {:.2f}\\n'.format(mu, sigma))\n",
    "plt.legend(['Normal dist. ($\\mu=$ {:.2f} and $\\sigma=$ {:.2f} )'.format(mu, sigma)],\n",
    "            loc='best')\n",
    "plt.ylabel('Frequency')\n",
    "plt.title('xxx distribution')\n",
    "plt.subplot(1,2,2)\n",
    "res = stats.probplot(train_df['xxx'], plot=plt)\n",
    "plt.suptitle('After transformation')"
   ]
  },
  {
   "cell_type": "markdown",
   "id": "4c3ef9e8-2fa5-473d-a01c-4b6816c41364",
   "metadata": {},
   "source": [
    "## Outliers"
   ]
  },
  {
   "cell_type": "code",
   "execution_count": null,
   "id": "ca1b8f12-ad16-49f3-a3a5-3c14e1c93ed3",
   "metadata": {},
   "outputs": [],
   "source": [
    "def outlier_upper_lower(df, col):\n",
    "    Q1 = df[col].quantile(0.25)\n",
    "    Q3 = df[col].quantile(0.99) #===>Sen karar ver\n",
    "    IQR = Q3 - Q1 \n",
    "    upper_bound = Q3 + (1.5 * IQR)\n",
    "    lower_bound = Q1 - (1.5 * IQR)\n",
    "\n",
    "    print(f'lower bound :{lower_bound} , upper bound : {upper_bound}')\n",
    "    print(f'Q1 :{Q1} , Q3 :{Q3}, IQR :{IQR}')\n",
    "    df.loc[df[col] < lower_bound, col] = lower_bound      \n",
    "    df.loc[df[col] > upper_bound, col] = upper_bound\n",
    "\n",
    "    return df[col].median()"
   ]
  },
  {
   "cell_type": "markdown",
   "id": "b0d83993-082e-423c-bccd-345ea42a67e2",
   "metadata": {},
   "source": [
    "### Outliers BoxPlots"
   ]
  },
  {
   "cell_type": "code",
   "execution_count": null,
   "id": "bb542718-8133-4377-8150-eafd9aac8866",
   "metadata": {},
   "outputs": [],
   "source": [
    "# Asagidakileri sen Sec num Listesini\n",
    "num  = ['Doors', 'Age', 'Make'] \n",
    "\n",
    "for var in num:\n",
    "    #print(i)\n",
    "    f, ax = plt.subplots(figsize=(8, 6))\n",
    "    fig = sns.boxplot(x=var, y=\"Price\", data=df)"
   ]
  },
  {
   "cell_type": "markdown",
   "id": "d5fa75a5-f125-4dd8-bb53-0e499c40765d",
   "metadata": {},
   "source": [
    "### Interquantile"
   ]
  },
  {
   "cell_type": "code",
   "execution_count": null,
   "id": "1dceee6e-505c-45a1-8349-fe15e45bd59c",
   "metadata": {},
   "outputs": [],
   "source": [
    "df['col'].quantile([0.01,0.25,0.50,0.75,0.99])"
   ]
  },
  {
   "cell_type": "markdown",
   "id": "66c29e36-03d6-4b09-b179-2a6fb570205f",
   "metadata": {},
   "source": [
    "## Feature Selection with Univariate Selection"
   ]
  },
  {
   "cell_type": "code",
   "execution_count": null,
   "id": "269c5d94-7923-4782-ae00-f62a2ee77d01",
   "metadata": {},
   "outputs": [],
   "source": [
    "from sklearn.feature_selection import SelectKBest, f_regression, mutual_info_regression\n",
    "#X = train_aft.iloc[:,0:237]  #independent columns\n",
    "#y = train_aft.iloc[:,-1]#target column i.e price range\n",
    "\n",
    "# SelectKBest class to extract top 10 best features\n",
    "bestfeatures = SelectKBest(mutual_info_regression, k=15)\n",
    "fit = bestfeatures.fit(X,Y)\n",
    "dfscores = pd.DataFrame(fit.scores_)`\n",
    "dfcolumns = pd.DataFrame(X.columns)\n",
    "#concat two dataframes for better visualization \n",
    "featureScores = pd.concat([dfcolumns,dfscores],axis=1)\n",
    "featureScores.columns = ['Specs','Score']  #naming the dataframe columns\n",
    "print(featureScores.nlargest(20,'Score'))  #print 10 best features"
   ]
  },
  {
   "cell_type": "markdown",
   "id": "3f52c92d-c232-4928-8abe-84730564e974",
   "metadata": {},
   "source": [
    "## Time Series "
   ]
  },
  {
   "cell_type": "code",
   "execution_count": null,
   "id": "b36f1ad9-6b9f-49fe-81ef-e0bf0a8cd4ba",
   "metadata": {},
   "outputs": [],
   "source": [
    "import datetime as dt\n",
    "\n",
    "\n",
    "# Column Type to DateTime\n",
    "df['Date'] = pd.to_datetime(df['Date'])\n",
    "\n",
    "# Date column to day , month, year column (date kolonunu 3 e ayiriyorsun)\n",
    "def fetch_att(x):\n",
    "    day = x.day\n",
    "    month = x.month\n",
    "    year = x.year\n",
    "    return pd.Series([day, month, year])\n",
    "\n",
    "df[['day', 'month', 'year']] = df['Date'].apply(fetch_att)\n",
    "\n",
    "# Apply ile tek satirda uc kolona ayiriyorsun\n",
    "df[['day', 'month', 'year']] = df['Order Date'].apply(lambda x: pd.Series([x.day, x.month, x.year]))\n",
    "\n",
    "\n",
    "# Date to day ...\n",
    "df['day'] = df['Date'].apply(lambda x: x.day)\n",
    "\n",
    "\n",
    "# Gun Cikarmak ( 90 gun oncesine gitmek)\n",
    "n_days = 90 \n",
    "cutoffday = max_date - pd.to_timedelta(n_days, unit= 'd')"
   ]
  },
  {
   "cell_type": "code",
   "execution_count": 14,
   "id": "0096ff69-647f-4f37-a79f-bf9d8d1654cc",
   "metadata": {},
   "outputs": [
    {
     "data": {
      "text/plain": [
       "datetime.datetime(2022, 12, 15, 12, 56, 5, 683311)"
      ]
     },
     "execution_count": 14,
     "metadata": {},
     "output_type": "execute_result"
    }
   ],
   "source": [
    "from datetime import datetime\n",
    "import pandas as pd\n",
    "\n",
    "today = datetime.today()\n",
    "today"
   ]
  },
  {
   "cell_type": "code",
   "execution_count": 16,
   "id": "c507bb70-0978-451d-b965-5d6befe768f9",
   "metadata": {},
   "outputs": [
    {
     "data": {
      "text/plain": [
       "3"
      ]
     },
     "execution_count": 16,
     "metadata": {},
     "output_type": "execute_result"
    }
   ],
   "source": [
    "today.weekday()"
   ]
  },
  {
   "cell_type": "code",
   "execution_count": 17,
   "id": "945bd423-4b88-43b7-8072-feffa87a58ed",
   "metadata": {},
   "outputs": [
    {
     "data": {
      "text/plain": [
       "'Monday'"
      ]
     },
     "execution_count": 17,
     "metadata": {},
     "output_type": "execute_result"
    }
   ],
   "source": [
    "day_any = pd.Timestamp('2022-05-02')\n",
    "day_any.day_name()"
   ]
  },
  {
   "cell_type": "code",
   "execution_count": 15,
   "id": "029ea112-a5d9-4859-b7cd-cd56bab85c3a",
   "metadata": {},
   "outputs": [
    {
     "data": {
      "text/plain": [
       "datetime.datetime(2022, 12, 15, 12, 56, 15, 450138)"
      ]
     },
     "execution_count": 15,
     "metadata": {},
     "output_type": "execute_result"
    }
   ],
   "source": [
    "datetime.now()"
   ]
  },
  {
   "cell_type": "markdown",
   "id": "d91c212c-05ca-47f7-8132-7ea46dd4a7be",
   "metadata": {},
   "source": [
    "# Veri Gorsellestirme"
   ]
  },
  {
   "cell_type": "markdown",
   "id": "42a24ab3-84ed-4bb8-a8d7-0c41a267bedf",
   "metadata": {},
   "source": [
    "## matplotlib"
   ]
  },
  {
   "cell_type": "code",
   "execution_count": null,
   "id": "bff2ca46-152f-498f-a106-e377844ff5d3",
   "metadata": {},
   "outputs": [],
   "source": [
    "# Tek satirda subplot\n",
    "\n",
    "ax = df.plot(kind='scatter', \n",
    "             x = 'col1',\n",
    "             y = 'col2',\n",
    "             title = '',\n",
    "            )\n",
    "\n",
    "\n",
    "‘line’ : line plot (default)\n",
    "\n",
    "‘bar’ : vertical bar plot\n",
    "\n",
    "‘barh’ : horizontal bar plot\n",
    "\n",
    "‘hist’ : histogram\n",
    "\n",
    "‘box’ : boxplot\n",
    "\n",
    "‘kde’ : Kernel Density Estimation plot\n",
    "\n",
    "‘density’ : same as ‘kde’\n",
    "\n",
    "‘area’ : area plot\n",
    "\n",
    "‘pie’ : pie plot\n",
    "\n",
    "‘scatter’ : scatter plot (DataFrame only)\n",
    "\n",
    "‘hexbin’ : hexbin plot (DataFrame only)"
   ]
  },
  {
   "cell_type": "code",
   "execution_count": null,
   "id": "034b1c05-b229-4297-b8e9-1d5c98a9c4e4",
   "metadata": {},
   "outputs": [],
   "source": []
  }
 ],
 "metadata": {
  "kernelspec": {
   "display_name": "Python 3 (ipykernel)",
   "language": "python",
   "name": "python3"
  },
  "language_info": {
   "codemirror_mode": {
    "name": "ipython",
    "version": 3
   },
   "file_extension": ".py",
   "mimetype": "text/x-python",
   "name": "python",
   "nbconvert_exporter": "python",
   "pygments_lexer": "ipython3",
   "version": "3.9.12"
  },
  "toc-autonumbering": true
 },
 "nbformat": 4,
 "nbformat_minor": 5
}

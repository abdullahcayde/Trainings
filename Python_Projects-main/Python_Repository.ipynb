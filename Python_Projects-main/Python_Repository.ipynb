{
 "cells": [
  {
   "cell_type": "markdown",
   "id": "34c5c264-590c-47ac-bc8e-0618fd1df0d0",
   "metadata": {},
   "source": [
    "# Python Repository\n"
   ]
  },
  {
   "cell_type": "code",
   "execution_count": 2,
   "id": "4fabbf40-38cc-438f-829f-1cad3f3e5e78",
   "metadata": {},
   "outputs": [],
   "source": [
    "# Listeler"
   ]
  },
  {
   "cell_type": "code",
   "execution_count": 3,
   "id": "9b833d34-0264-432e-945c-9749ee1101a6",
   "metadata": {},
   "outputs": [
    {
     "data": {
      "text/plain": [
       "[-1, 0, 6, 10, 15]"
      ]
     },
     "execution_count": 3,
     "metadata": {},
     "output_type": "execute_result"
    }
   ],
   "source": [
    "# sort(reverse = True, key= )   ====> Liste degisir\n",
    "\n",
    "# sorted()   =====> Liste degismez\n",
    "\n",
    "L1 = [0, 10 , 15, 6, -1 ]\n",
    "L1.sort()\n",
    "L1"
   ]
  },
  {
   "cell_type": "code",
   "execution_count": 5,
   "id": "e2d9a016-0c6b-40b7-8f4c-ddbfa00e63e1",
   "metadata": {},
   "outputs": [
    {
     "data": {
      "text/plain": [
       "[0, 10, 15, 6, -1]"
      ]
     },
     "execution_count": 5,
     "metadata": {},
     "output_type": "execute_result"
    }
   ],
   "source": [
    "L1 = [0, 10 , 15, 6, -1 ]\n",
    "sorted(L1, reverse= True )\n",
    "L1"
   ]
  },
  {
   "cell_type": "code",
   "execution_count": 6,
   "id": "e99b585e-2c86-4789-b0b1-65e2410dee3d",
   "metadata": {},
   "outputs": [
    {
     "data": {
      "text/plain": [
       "[15, 10, 6, 0, -1]"
      ]
     },
     "execution_count": 6,
     "metadata": {},
     "output_type": "execute_result"
    }
   ],
   "source": [
    "sorted(L1, reverse= True )"
   ]
  },
  {
   "cell_type": "code",
   "execution_count": null,
   "id": "4808ae8c-f86c-41da-a964-80c99a81e1ef",
   "metadata": {},
   "outputs": [],
   "source": []
  }
 ],
 "metadata": {
  "kernelspec": {
   "display_name": "Python 3 (ipykernel)",
   "language": "python",
   "name": "python3"
  },
  "language_info": {
   "codemirror_mode": {
    "name": "ipython",
    "version": 3
   },
   "file_extension": ".py",
   "mimetype": "text/x-python",
   "name": "python",
   "nbconvert_exporter": "python",
   "pygments_lexer": "ipython3",
   "version": "3.8.8"
  }
 },
 "nbformat": 4,
 "nbformat_minor": 5
}

{
 "cells": [
  {
   "cell_type": "code",
   "execution_count": 3,
   "id": "4b15c96b-bcf9-4e58-aa26-e6a8b53bb699",
   "metadata": {},
   "outputs": [],
   "source": [
    "import pandas as pd\n",
    "import numpy as np\n",
    "import seaborn as sns\n",
    "import matplotlib.pyplot as plt\n",
    "\n",
    "import warnings\n",
    "warnings.simplefilter(action='ignore')\n",
    "\n",
    "sns.set_theme(style=\"whitegrid\")"
   ]
  },
  {
   "cell_type": "code",
   "execution_count": null,
   "id": "9d1cf10c-6300-4cf9-a429-c31791f75312",
   "metadata": {},
   "outputs": [],
   "source": [
    "# 01 - sildik\n",
    "com.samsung.shealth.tracker.pedometer_day_summary,6212007,5"
   ]
  },
  {
   "cell_type": "code",
   "execution_count": 9,
   "id": "283eee0d-f9a7-4595-a0a1-da1de089065d",
   "metadata": {},
   "outputs": [
    {
     "data": {
      "text/html": [
       "<div>\n",
       "<style scoped>\n",
       "    .dataframe tbody tr th:only-of-type {\n",
       "        vertical-align: middle;\n",
       "    }\n",
       "\n",
       "    .dataframe tbody tr th {\n",
       "        vertical-align: top;\n",
       "    }\n",
       "\n",
       "    .dataframe thead th {\n",
       "        text-align: right;\n",
       "    }\n",
       "</style>\n",
       "<table border=\"1\" class=\"dataframe\">\n",
       "  <thead>\n",
       "    <tr style=\"text-align: right;\">\n",
       "      <th></th>\n",
       "      <th>duration</th>\n",
       "      <th>planned_end_time</th>\n",
       "      <th>start_time</th>\n",
       "      <th>custom</th>\n",
       "      <th>completion_status</th>\n",
       "      <th>update_time</th>\n",
       "      <th>create_time</th>\n",
       "      <th>distance</th>\n",
       "      <th>schedule_count</th>\n",
       "      <th>time_offset</th>\n",
       "      <th>deviceuuid</th>\n",
       "      <th>pkg_name</th>\n",
       "      <th>end_time</th>\n",
       "      <th>datauuid</th>\n",
       "      <th>info_id</th>\n",
       "      <th>is_visible</th>\n",
       "      <th>silinean</th>\n",
       "    </tr>\n",
       "  </thead>\n",
       "  <tbody>\n",
       "    <tr>\n",
       "      <th>0</th>\n",
       "      <td>NaN</td>\n",
       "      <td>2021-04-28 03:00:00.000</td>\n",
       "      <td>2021-04-26 03:00:00.000</td>\n",
       "      <td>NaN</td>\n",
       "      <td>0</td>\n",
       "      <td>2021-05-03 19:54:47.810</td>\n",
       "      <td>2021-04-26 02:40:26.155</td>\n",
       "      <td>NaN</td>\n",
       "      <td>3</td>\n",
       "      <td>UTC+0100</td>\n",
       "      <td>zub8fSqg+I</td>\n",
       "      <td>com.sec.android.app.shealth</td>\n",
       "      <td>2021-04-28 03:00:00.000</td>\n",
       "      <td>33f37cba-8ccb-4435-b1d1-fbcb224cbfe6</td>\n",
       "      <td>program.prod203program_143</td>\n",
       "      <td>1</td>\n",
       "      <td>NaN</td>\n",
       "    </tr>\n",
       "  </tbody>\n",
       "</table>\n",
       "</div>"
      ],
      "text/plain": [
       "   duration         planned_end_time               start_time  custom  \\\n",
       "0       NaN  2021-04-28 03:00:00.000  2021-04-26 03:00:00.000     NaN   \n",
       "\n",
       "   completion_status              update_time              create_time  \\\n",
       "0                  0  2021-05-03 19:54:47.810  2021-04-26 02:40:26.155   \n",
       "\n",
       "   distance  schedule_count time_offset  deviceuuid  \\\n",
       "0       NaN               3    UTC+0100  zub8fSqg+I   \n",
       "\n",
       "                      pkg_name                 end_time  \\\n",
       "0  com.sec.android.app.shealth  2021-04-28 03:00:00.000   \n",
       "\n",
       "                               datauuid                     info_id  \\\n",
       "0  33f37cba-8ccb-4435-b1d1-fbcb224cbfe6  program.prod203program_143   \n",
       "\n",
       "   is_visible  silinean  \n",
       "0           1       NaN  "
      ]
     },
     "execution_count": 9,
     "metadata": {},
     "output_type": "execute_result"
    }
   ],
   "source": [
    "# 02 - Read File\n",
    "\n",
    "day_summary = pd.read_csv('/Users/macbook/Desktop/projects/Github_Repositories/Trainings/Saumsung_Health_Files/com.samsung.shealth.exercise.program.202206260503.csv')\n",
    "df = day_summary.copy()\n",
    "df.head()"
   ]
  },
  {
   "cell_type": "code",
   "execution_count": null,
   "id": "e31e2481-a800-4b79-9448-b1069ee10e08",
   "metadata": {},
   "outputs": [],
   "source": []
  },
  {
   "cell_type": "code",
   "execution_count": null,
   "id": "6bb5045a-2aa8-4e68-b640-2c04a1485d80",
   "metadata": {},
   "outputs": [],
   "source": []
  },
  {
   "cell_type": "code",
   "execution_count": null,
   "id": "3fa9bd5c-8d47-4f2e-bfcf-360baa84ae36",
   "metadata": {},
   "outputs": [],
   "source": []
  },
  {
   "cell_type": "code",
   "execution_count": null,
   "id": "7caccaa7-3d9f-4b62-b99c-d6bdf1d174b0",
   "metadata": {},
   "outputs": [],
   "source": []
  },
  {
   "cell_type": "code",
   "execution_count": null,
   "id": "6d1b8f5b-2075-4b84-be35-39cc048e35a1",
   "metadata": {},
   "outputs": [],
   "source": []
  }
 ],
 "metadata": {
  "kernelspec": {
   "display_name": "Python 3 (ipykernel)",
   "language": "python",
   "name": "python3"
  },
  "language_info": {
   "codemirror_mode": {
    "name": "ipython",
    "version": 3
   },
   "file_extension": ".py",
   "mimetype": "text/x-python",
   "name": "python",
   "nbconvert_exporter": "python",
   "pygments_lexer": "ipython3",
   "version": "3.8.8"
  }
 },
 "nbformat": 4,
 "nbformat_minor": 5
}

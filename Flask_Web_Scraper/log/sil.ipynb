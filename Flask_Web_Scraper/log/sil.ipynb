{
 "cells": [
  {
   "cell_type": "code",
   "execution_count": 1,
   "metadata": {},
   "outputs": [],
   "source": [
    "import pandas as pd"
   ]
  },
  {
   "cell_type": "code",
   "execution_count": 17,
   "metadata": {},
   "outputs": [
    {
     "data": {
      "text/html": [
       "<div>\n",
       "<style scoped>\n",
       "    .dataframe tbody tr th:only-of-type {\n",
       "        vertical-align: middle;\n",
       "    }\n",
       "\n",
       "    .dataframe tbody tr th {\n",
       "        vertical-align: top;\n",
       "    }\n",
       "\n",
       "    .dataframe thead th {\n",
       "        text-align: right;\n",
       "    }\n",
       "</style>\n",
       "<table border=\"1\" class=\"dataframe\">\n",
       "  <thead>\n",
       "    <tr style=\"text-align: right;\">\n",
       "      <th></th>\n",
       "      <th>job_title</th>\n",
       "      <th>publish</th>\n",
       "      <th>company</th>\n",
       "    </tr>\n",
       "  </thead>\n",
       "  <tbody>\n",
       "    <tr>\n",
       "      <th>0</th>\n",
       "      <td>a</td>\n",
       "      <td>10</td>\n",
       "      <td>0</td>\n",
       "    </tr>\n",
       "    <tr>\n",
       "      <th>1</th>\n",
       "      <td>b</td>\n",
       "      <td>11</td>\n",
       "      <td>0</td>\n",
       "    </tr>\n",
       "    <tr>\n",
       "      <th>2</th>\n",
       "      <td>c</td>\n",
       "      <td>12</td>\n",
       "      <td>0</td>\n",
       "    </tr>\n",
       "  </tbody>\n",
       "</table>\n",
       "</div>"
      ],
      "text/plain": [
       "  job_title  publish company\n",
       "0         a       10       0\n",
       "1         b       11       0\n",
       "2         c       12       0"
      ]
     },
     "execution_count": 17,
     "metadata": {},
     "output_type": "execute_result"
    }
   ],
   "source": [
    "job_name = '0'\n",
    "df = pd.DataFrame({'job_title' : ['a', 'b', 'c'], 'publish' : [10,11,12], 'company' : job_name}, index=[0,1,2])\n",
    "df"
   ]
  },
  {
   "cell_type": "code",
   "execution_count": 11,
   "metadata": {},
   "outputs": [
    {
     "data": {
      "text/plain": [
       "'a'"
      ]
     },
     "execution_count": 11,
     "metadata": {},
     "output_type": "execute_result"
    }
   ],
   "source": [
    "df.head(1).job_title[0]"
   ]
  },
  {
   "cell_type": "code",
   "execution_count": 20,
   "metadata": {},
   "outputs": [
    {
     "name": "stdout",
     "output_type": "stream",
     "text": [
      "a 10\n",
      "b 11\n",
      "c 12\n"
     ]
    }
   ],
   "source": [
    "for i,j,k,l in zip(df.job_title, df.publish, df.company, df.city):\n",
    "        print(i,j,k,l)"
   ]
  },
  {
   "cell_type": "code",
   "execution_count": 28,
   "metadata": {},
   "outputs": [
    {
     "name": "stdout",
     "output_type": "stream",
     "text": [
      "1\n",
      "a\n",
      "10\n",
      "0\n",
      "2\n",
      "b\n",
      "11\n",
      "0\n",
      "3\n",
      "c\n",
      "12\n",
      "0\n"
     ]
    }
   ],
   "source": [
    "for i in df.index:\n",
    "        print(df.index[i] + 1)\n",
    "        print(df.job_title[i])\n",
    "        print(df.publish[i])\n",
    "        print(df.company[i])"
   ]
  },
  {
   "cell_type": "code",
   "execution_count": 43,
   "metadata": {},
   "outputs": [
    {
     "name": "stdout",
     "output_type": "stream",
     "text": [
      "15\n"
     ]
    }
   ],
   "source": [
    "def topla(x, y):\n",
    "        print(x + y)\n",
    "\n",
    "topla(5, 10)"
   ]
  },
  {
   "cell_type": "code",
   "execution_count": 88,
   "metadata": {},
   "outputs": [
    {
     "ename": "NameError",
     "evalue": "name 'x' is not defined",
     "output_type": "error",
     "traceback": [
      "\u001b[0;31m---------------------------------------------------------------------------\u001b[0m",
      "\u001b[0;31mNameError\u001b[0m                                 Traceback (most recent call last)",
      "Cell \u001b[0;32mIn[88], line 11\u001b[0m\n\u001b[1;32m      8\u001b[0m         \u001b[39mprint\u001b[39m(x \u001b[39m+\u001b[39m y)\n\u001b[1;32m      9\u001b[0m         \u001b[39mreturn\u001b[39;00m x \u001b[39m+\u001b[39m y\n\u001b[0;32m---> 11\u001b[0m topla(\u001b[39m5\u001b[39;49m, \u001b[39m10\u001b[39;49m)\n",
      "Cell \u001b[0;32mIn[88], line 3\u001b[0m, in \u001b[0;36mikiyle_carp.<locals>.wrapper\u001b[0;34m(*args, **kwargs)\u001b[0m\n\u001b[1;32m      2\u001b[0m \u001b[39mdef\u001b[39;00m \u001b[39mwrapper\u001b[39m(\u001b[39m*\u001b[39margs, \u001b[39m*\u001b[39m\u001b[39m*\u001b[39mkwargs):\n\u001b[0;32m----> 3\u001b[0m         \u001b[39mreturn\u001b[39;00m func(x\u001b[39m*\u001b[39m\u001b[39m2\u001b[39m, y\u001b[39m*\u001b[39m\u001b[39m2\u001b[39m)\n",
      "\u001b[0;31mNameError\u001b[0m: name 'x' is not defined"
     ]
    }
   ],
   "source": [
    "def ikiyle_carp(func):\n",
    "        def wrapper(*args, **kwargs):\n",
    "                for i in *args:\n",
    "                        i +=i\n",
    "                return func(x*2, y*2)\n",
    "        return wrapper\n",
    "\n",
    "@ikiyle_carp\n",
    "def topla(x, y):\n",
    "        print(x + y)\n",
    "        return x + y\n",
    "\n",
    "topla(5, 10)"
   ]
  },
  {
   "cell_type": "code",
   "execution_count": 79,
   "metadata": {},
   "outputs": [
    {
     "name": "stdout",
     "output_type": "stream",
     "text": [
      "2\n",
      "2\n"
     ]
    },
    {
     "data": {
      "text/plain": [
       "'Sonuc 2'"
      ]
     },
     "execution_count": 79,
     "metadata": {},
     "output_type": "execute_result"
    }
   ],
   "source": [
    "import time\n",
    "\n",
    "def vakit_olc(func):\n",
    "        start = time.time()\n",
    "        def wrapper(x, y):\n",
    "                wait = time.sleep(0.5)\n",
    "                func(x**2, y)\n",
    "                end = time.time()\n",
    "                print(end - start)\n",
    "        return wrapper\n",
    "\n",
    "\n",
    "def twice(func):\n",
    "        def wrapper(x, y):\n",
    "                func(x, y)\n",
    "                func(x, y)\n",
    "                return func(x, y)\n",
    "        return wrapper\n",
    "\n",
    "\n",
    "@vakit_olc\n",
    "def topla(x, y):\n",
    "        print(x + y)\n",
    "\n",
    "@twice\n",
    "def cikar(x, y):\n",
    "        print(x - y)\n",
    "        return f\"Sonuc {x - y}\"\n",
    "\n",
    "cikar(9 , 7)"
   ]
  },
  {
   "cell_type": "code",
   "execution_count": null,
   "metadata": {},
   "outputs": [],
   "source": []
  }
 ],
 "metadata": {
  "kernelspec": {
   "display_name": "web_scpraing_portfolio_deneme",
   "language": "python",
   "name": "web_scpraing_portfolio_deneme"
  },
  "language_info": {
   "codemirror_mode": {
    "name": "ipython",
    "version": 3
   },
   "file_extension": ".py",
   "mimetype": "text/x-python",
   "name": "python",
   "nbconvert_exporter": "python",
   "pygments_lexer": "ipython3",
   "version": "3.11.2"
  },
  "orig_nbformat": 4
 },
 "nbformat": 4,
 "nbformat_minor": 2
}

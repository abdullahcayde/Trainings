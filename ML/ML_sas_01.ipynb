{
 "cells": [
  {
   "cell_type": "code",
   "execution_count": 1,
   "id": "b5ee2a83-1c0d-4e7e-9081-f993735b4939",
   "metadata": {},
   "outputs": [],
   "source": [
    "import pandas as pd\n",
    "import numpy as np\n",
    "import seaborn as sns\n",
    "import matplotlib.pyplot as plt\n",
    "\n",
    "import warnings\n",
    "warnings.simplefilter(action= 'ignore')"
   ]
  },
  {
   "cell_type": "code",
   "execution_count": 5,
   "id": "8f2984b7-d9cb-43c7-970b-69d132fe7cda",
   "metadata": {},
   "outputs": [
    {
     "data": {
      "text/html": [
       "<div>\n",
       "<style scoped>\n",
       "    .dataframe tbody tr th:only-of-type {\n",
       "        vertical-align: middle;\n",
       "    }\n",
       "\n",
       "    .dataframe tbody tr th {\n",
       "        vertical-align: top;\n",
       "    }\n",
       "\n",
       "    .dataframe thead th {\n",
       "        text-align: right;\n",
       "    }\n",
       "</style>\n",
       "<table border=\"1\" class=\"dataframe\">\n",
       "  <thead>\n",
       "    <tr style=\"text-align: right;\">\n",
       "      <th></th>\n",
       "      <th>Aylar</th>\n",
       "      <th>Satislar</th>\n",
       "    </tr>\n",
       "  </thead>\n",
       "  <tbody>\n",
       "    <tr>\n",
       "      <th>0</th>\n",
       "      <td>8</td>\n",
       "      <td>19671.5</td>\n",
       "    </tr>\n",
       "    <tr>\n",
       "      <th>1</th>\n",
       "      <td>10</td>\n",
       "      <td>23102.5</td>\n",
       "    </tr>\n",
       "    <tr>\n",
       "      <th>2</th>\n",
       "      <td>11</td>\n",
       "      <td>18865.5</td>\n",
       "    </tr>\n",
       "    <tr>\n",
       "      <th>3</th>\n",
       "      <td>13</td>\n",
       "      <td>21762.5</td>\n",
       "    </tr>\n",
       "    <tr>\n",
       "      <th>4</th>\n",
       "      <td>14</td>\n",
       "      <td>19945.5</td>\n",
       "    </tr>\n",
       "  </tbody>\n",
       "</table>\n",
       "</div>"
      ],
      "text/plain": [
       "   Aylar  Satislar\n",
       "0      8   19671.5\n",
       "1     10   23102.5\n",
       "2     11   18865.5\n",
       "3     13   21762.5\n",
       "4     14   19945.5"
      ]
     },
     "execution_count": 5,
     "metadata": {},
     "output_type": "execute_result"
    }
   ],
   "source": [
    "satislar = pd.read_csv('satislar.csv')\n",
    "df = satislar.copy()\n",
    "df.head()"
   ]
  },
  {
   "cell_type": "code",
   "execution_count": 6,
   "id": "ef1ca9d1-7ee5-40e8-8a3a-4cd5deeee616",
   "metadata": {},
   "outputs": [
    {
     "name": "stdout",
     "output_type": "stream",
     "text": [
      "<class 'pandas.core.frame.DataFrame'>\n",
      "RangeIndex: 30 entries, 0 to 29\n",
      "Data columns (total 2 columns):\n",
      " #   Column    Non-Null Count  Dtype  \n",
      "---  ------    --------------  -----  \n",
      " 0   Aylar     30 non-null     int64  \n",
      " 1   Satislar  30 non-null     float64\n",
      "dtypes: float64(1), int64(1)\n",
      "memory usage: 608.0 bytes\n"
     ]
    }
   ],
   "source": [
    "df.info()"
   ]
  },
  {
   "cell_type": "code",
   "execution_count": 7,
   "id": "6beecf36-b116-48bf-9b6f-45e14bd6feb5",
   "metadata": {},
   "outputs": [
    {
     "data": {
      "text/plain": [
       "Aylar       0\n",
       "Satislar    0\n",
       "dtype: int64"
      ]
     },
     "execution_count": 7,
     "metadata": {},
     "output_type": "execute_result"
    }
   ],
   "source": [
    "df.isnull().sum()"
   ]
  },
  {
   "cell_type": "markdown",
   "id": "c1419b45-cd06-4f0d-b81e-226805294905",
   "metadata": {},
   "source": [
    "## Basit Linear Regression (Simple Linear Regression)"
   ]
  },
  {
   "cell_type": "code",
   "execution_count": 79,
   "id": "3805d1cd-2467-47d6-a468-107539153fd1",
   "metadata": {},
   "outputs": [],
   "source": [
    "# Bagimli ve Bagimsiz Degisken Atamasi\n",
    "\n",
    "X = df[['Aylar']]\n",
    "y = df[['Satislar']]"
   ]
  },
  {
   "cell_type": "code",
   "execution_count": 80,
   "id": "714a541d-6ef5-45d2-8a1a-7253b98602bb",
   "metadata": {},
   "outputs": [],
   "source": [
    "# Train Test \n",
    "\n",
    "from sklearn.model_selection import train_test_split\n",
    "\n",
    "X_train, X_test, y_train, y_test = train_test_split(X, y, test_size=0.33, random_state=0)"
   ]
  },
  {
   "cell_type": "code",
   "execution_count": 81,
   "id": "03b5d8aa-db1b-4bec-95b7-f8a506f48ee3",
   "metadata": {},
   "outputs": [
    {
     "data": {
      "text/html": [
       "<div>\n",
       "<style scoped>\n",
       "    .dataframe tbody tr th:only-of-type {\n",
       "        vertical-align: middle;\n",
       "    }\n",
       "\n",
       "    .dataframe tbody tr th {\n",
       "        vertical-align: top;\n",
       "    }\n",
       "\n",
       "    .dataframe thead th {\n",
       "        text-align: right;\n",
       "    }\n",
       "</style>\n",
       "<table border=\"1\" class=\"dataframe\">\n",
       "  <thead>\n",
       "    <tr style=\"text-align: right;\">\n",
       "      <th></th>\n",
       "      <th>Aylar</th>\n",
       "    </tr>\n",
       "  </thead>\n",
       "  <tbody>\n",
       "    <tr>\n",
       "      <th>2</th>\n",
       "      <td>11</td>\n",
       "    </tr>\n",
       "    <tr>\n",
       "      <th>28</th>\n",
       "      <td>64</td>\n",
       "    </tr>\n",
       "    <tr>\n",
       "      <th>13</th>\n",
       "      <td>26</td>\n",
       "    </tr>\n",
       "    <tr>\n",
       "      <th>10</th>\n",
       "      <td>25</td>\n",
       "    </tr>\n",
       "    <tr>\n",
       "      <th>26</th>\n",
       "      <td>59</td>\n",
       "    </tr>\n",
       "    <tr>\n",
       "      <th>24</th>\n",
       "      <td>54</td>\n",
       "    </tr>\n",
       "    <tr>\n",
       "      <th>27</th>\n",
       "      <td>59</td>\n",
       "    </tr>\n",
       "    <tr>\n",
       "      <th>11</th>\n",
       "      <td>25</td>\n",
       "    </tr>\n",
       "    <tr>\n",
       "      <th>17</th>\n",
       "      <td>34</td>\n",
       "    </tr>\n",
       "    <tr>\n",
       "      <th>22</th>\n",
       "      <td>49</td>\n",
       "    </tr>\n",
       "  </tbody>\n",
       "</table>\n",
       "</div>"
      ],
      "text/plain": [
       "    Aylar\n",
       "2      11\n",
       "28     64\n",
       "13     26\n",
       "10     25\n",
       "26     59\n",
       "24     54\n",
       "27     59\n",
       "11     25\n",
       "17     34\n",
       "22     49"
      ]
     },
     "execution_count": 81,
     "metadata": {},
     "output_type": "execute_result"
    }
   ],
   "source": [
    "'''# Verilerin Standartizasyonu \n",
    "\n",
    "from sklearn.preprocessing import StandardScaler\n",
    "\n",
    "sc = StandardScaler()\n",
    "X_train = sc.fit_transform(X_train)\n",
    "X_test = sc.fit_transform(X_test)\n",
    "y_train = sc.fit_transform(y_train)\n",
    "y_test = sc.fit_transform(y_test)\n",
    "'''\n",
    "X_test"
   ]
  },
  {
   "cell_type": "code",
   "execution_count": 82,
   "id": "739762f7-fa34-4943-a7a1-4f5395ae03a8",
   "metadata": {},
   "outputs": [
    {
     "data": {
      "text/html": [
       "<div>\n",
       "<style scoped>\n",
       "    .dataframe tbody tr th:only-of-type {\n",
       "        vertical-align: middle;\n",
       "    }\n",
       "\n",
       "    .dataframe tbody tr th {\n",
       "        vertical-align: top;\n",
       "    }\n",
       "\n",
       "    .dataframe thead th {\n",
       "        text-align: right;\n",
       "    }\n",
       "</style>\n",
       "<table border=\"1\" class=\"dataframe\">\n",
       "  <thead>\n",
       "    <tr style=\"text-align: right;\">\n",
       "      <th></th>\n",
       "      <th>Aylar</th>\n",
       "    </tr>\n",
       "  </thead>\n",
       "  <tbody>\n",
       "    <tr>\n",
       "      <th>5</th>\n",
       "      <td>19</td>\n",
       "    </tr>\n",
       "    <tr>\n",
       "      <th>16</th>\n",
       "      <td>32</td>\n",
       "    </tr>\n",
       "    <tr>\n",
       "      <th>8</th>\n",
       "      <td>20</td>\n",
       "    </tr>\n",
       "    <tr>\n",
       "      <th>14</th>\n",
       "      <td>29</td>\n",
       "    </tr>\n",
       "    <tr>\n",
       "      <th>23</th>\n",
       "      <td>50</td>\n",
       "    </tr>\n",
       "    <tr>\n",
       "      <th>20</th>\n",
       "      <td>42</td>\n",
       "    </tr>\n",
       "    <tr>\n",
       "      <th>1</th>\n",
       "      <td>10</td>\n",
       "    </tr>\n",
       "    <tr>\n",
       "      <th>29</th>\n",
       "      <td>65</td>\n",
       "    </tr>\n",
       "    <tr>\n",
       "      <th>6</th>\n",
       "      <td>19</td>\n",
       "    </tr>\n",
       "    <tr>\n",
       "      <th>4</th>\n",
       "      <td>14</td>\n",
       "    </tr>\n",
       "    <tr>\n",
       "      <th>18</th>\n",
       "      <td>37</td>\n",
       "    </tr>\n",
       "    <tr>\n",
       "      <th>19</th>\n",
       "      <td>37</td>\n",
       "    </tr>\n",
       "    <tr>\n",
       "      <th>9</th>\n",
       "      <td>24</td>\n",
       "    </tr>\n",
       "    <tr>\n",
       "      <th>7</th>\n",
       "      <td>20</td>\n",
       "    </tr>\n",
       "    <tr>\n",
       "      <th>25</th>\n",
       "      <td>55</td>\n",
       "    </tr>\n",
       "    <tr>\n",
       "      <th>3</th>\n",
       "      <td>13</td>\n",
       "    </tr>\n",
       "    <tr>\n",
       "      <th>0</th>\n",
       "      <td>8</td>\n",
       "    </tr>\n",
       "    <tr>\n",
       "      <th>21</th>\n",
       "      <td>44</td>\n",
       "    </tr>\n",
       "    <tr>\n",
       "      <th>15</th>\n",
       "      <td>31</td>\n",
       "    </tr>\n",
       "    <tr>\n",
       "      <th>12</th>\n",
       "      <td>25</td>\n",
       "    </tr>\n",
       "  </tbody>\n",
       "</table>\n",
       "</div>"
      ],
      "text/plain": [
       "    Aylar\n",
       "5      19\n",
       "16     32\n",
       "8      20\n",
       "14     29\n",
       "23     50\n",
       "20     42\n",
       "1      10\n",
       "29     65\n",
       "6      19\n",
       "4      14\n",
       "18     37\n",
       "19     37\n",
       "9      24\n",
       "7      20\n",
       "25     55\n",
       "3      13\n",
       "0       8\n",
       "21     44\n",
       "15     31\n",
       "12     25"
      ]
     },
     "execution_count": 82,
     "metadata": {},
     "output_type": "execute_result"
    }
   ],
   "source": [
    "X_train"
   ]
  },
  {
   "cell_type": "code",
   "execution_count": 83,
   "id": "10ab4741-3788-4e3c-a4d3-457e03da2540",
   "metadata": {},
   "outputs": [
    {
     "data": {
      "text/plain": [
       "array([[20126.21865404],\n",
       "       [57740.29412655],\n",
       "       [30771.7117123 ],\n",
       "       [30062.01217508],\n",
       "       [54191.79644047],\n",
       "       [50643.29875438],\n",
       "       [54191.79644047],\n",
       "       [30062.01217508],\n",
       "       [36449.30801003],\n",
       "       [47094.80106829]])"
      ]
     },
     "execution_count": 83,
     "metadata": {},
     "output_type": "execute_result"
    }
   ],
   "source": [
    "# Linear Regression objesi olusturma\n",
    "\n",
    "from sklearn.linear_model import LinearRegression\n",
    "lr = LinearRegression()\n",
    "\n",
    "# Fit etmek\n",
    "lr.fit(X_train, y_train)\n",
    "\n",
    "# Tahmin \n",
    "tahmin = lr.predict(X_test)\n",
    "tahmin"
   ]
  },
  {
   "cell_type": "code",
   "execution_count": 84,
   "id": "e1cee82c-9b77-48e1-a04e-8fed373bf687",
   "metadata": {},
   "outputs": [
    {
     "name": "stdout",
     "output_type": "stream",
     "text": [
      "       Satislar\n",
      "2   1260.718654\n",
      "28 -3455.205873\n",
      "13  2231.211712\n",
      "10 -1546.987825\n",
      "26 -4292.703560\n",
      "24 -4072.201246\n",
      "27 -2125.703560\n",
      "11  2165.012175\n",
      "17 -5094.691990\n",
      "22 -3556.198932\n"
     ]
    }
   ],
   "source": [
    "print(tahmin - y_test)"
   ]
  },
  {
   "cell_type": "code",
   "execution_count": 111,
   "id": "b87c0fac-a5db-47a0-9e9d-32d3e3c703e0",
   "metadata": {},
   "outputs": [
    {
     "ename": "TypeError",
     "evalue": "unsupported format string passed to numpy.ndarray.__format__",
     "output_type": "error",
     "traceback": [
      "\u001b[0;31m---------------------------------------------------------------------------\u001b[0m",
      "\u001b[0;31mTypeError\u001b[0m                                 Traceback (most recent call last)",
      "\u001b[0;32m/var/folders/ht/tcz99qld7qz6stv5g043rfyc0000gn/T/ipykernel_65851/1312845620.py\u001b[0m in \u001b[0;36m<module>\u001b[0;34m\u001b[0m\n\u001b[1;32m      1\u001b[0m \u001b[0;31m#print(y_test)\u001b[0m\u001b[0;34m\u001b[0m\u001b[0;34m\u001b[0m\u001b[0;34m\u001b[0m\u001b[0m\n\u001b[0;32m----> 2\u001b[0;31m \u001b[0mprint\u001b[0m\u001b[0;34m(\u001b[0m\u001b[0;34mf'{np.array(tahmin):.2f}'\u001b[0m\u001b[0;34m)\u001b[0m\u001b[0;34m\u001b[0m\u001b[0;34m\u001b[0m\u001b[0m\n\u001b[0m",
      "\u001b[0;31mTypeError\u001b[0m: unsupported format string passed to numpy.ndarray.__format__"
     ]
    }
   ],
   "source": [
    "#print(y_test)\n",
    "print(f'{np.array(tahmin):.2f}')"
   ]
  },
  {
   "cell_type": "code",
   "execution_count": 112,
   "id": "e8da76d0-5330-4afb-81e1-1b22fc6d13fc",
   "metadata": {},
   "outputs": [
    {
     "data": {
      "text/plain": [
       "array([[20126.21865404],\n",
       "       [57740.29412655],\n",
       "       [30771.7117123 ],\n",
       "       [30062.01217508],\n",
       "       [54191.79644047],\n",
       "       [50643.29875438],\n",
       "       [54191.79644047],\n",
       "       [30062.01217508],\n",
       "       [36449.30801003],\n",
       "       [47094.80106829]])"
      ]
     },
     "execution_count": 112,
     "metadata": {},
     "output_type": "execute_result"
    }
   ],
   "source": [
    "np.array(tahmin)"
   ]
  },
  {
   "cell_type": "code",
   "execution_count": 113,
   "id": "ce1b0522-518c-4a7a-8792-912ff0be0810",
   "metadata": {},
   "outputs": [
    {
     "data": {
      "text/plain": [
       "array([[20126.21865404],\n",
       "       [57740.29412655],\n",
       "       [30771.7117123 ],\n",
       "       [30062.01217508],\n",
       "       [54191.79644047],\n",
       "       [50643.29875438],\n",
       "       [54191.79644047],\n",
       "       [30062.01217508],\n",
       "       [36449.30801003],\n",
       "       [47094.80106829]])"
      ]
     },
     "execution_count": 113,
     "metadata": {},
     "output_type": "execute_result"
    }
   ],
   "source": [
    "tahmin"
   ]
  },
  {
   "cell_type": "code",
   "execution_count": null,
   "id": "80831a3c-c903-45bb-8e10-2856f3699c6a",
   "metadata": {},
   "outputs": [],
   "source": []
  }
 ],
 "metadata": {
  "kernelspec": {
   "display_name": "Python 3 (ipykernel)",
   "language": "python",
   "name": "python3"
  },
  "language_info": {
   "codemirror_mode": {
    "name": "ipython",
    "version": 3
   },
   "file_extension": ".py",
   "mimetype": "text/x-python",
   "name": "python",
   "nbconvert_exporter": "python",
   "pygments_lexer": "ipython3",
   "version": "3.8.8"
  }
 },
 "nbformat": 4,
 "nbformat_minor": 5
}

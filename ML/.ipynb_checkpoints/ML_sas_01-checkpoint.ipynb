{
 "cells": [
  {
   "cell_type": "code",
   "execution_count": 1,
   "id": "b5ee2a83-1c0d-4e7e-9081-f993735b4939",
   "metadata": {},
   "outputs": [],
   "source": [
    "import pandas as pd\n",
    "import numpy as np\n",
    "import seaborn as sns\n",
    "import matplotlib.pyplot as plt\n",
    "\n",
    "import warnings\n",
    "warnings.simplefilter(action= 'ignore')"
   ]
  },
  {
   "cell_type": "code",
   "execution_count": 5,
   "id": "8f2984b7-d9cb-43c7-970b-69d132fe7cda",
   "metadata": {},
   "outputs": [
    {
     "data": {
      "text/html": [
       "<div>\n",
       "<style scoped>\n",
       "    .dataframe tbody tr th:only-of-type {\n",
       "        vertical-align: middle;\n",
       "    }\n",
       "\n",
       "    .dataframe tbody tr th {\n",
       "        vertical-align: top;\n",
       "    }\n",
       "\n",
       "    .dataframe thead th {\n",
       "        text-align: right;\n",
       "    }\n",
       "</style>\n",
       "<table border=\"1\" class=\"dataframe\">\n",
       "  <thead>\n",
       "    <tr style=\"text-align: right;\">\n",
       "      <th></th>\n",
       "      <th>Aylar</th>\n",
       "      <th>Satislar</th>\n",
       "    </tr>\n",
       "  </thead>\n",
       "  <tbody>\n",
       "    <tr>\n",
       "      <th>0</th>\n",
       "      <td>8</td>\n",
       "      <td>19671.5</td>\n",
       "    </tr>\n",
       "    <tr>\n",
       "      <th>1</th>\n",
       "      <td>10</td>\n",
       "      <td>23102.5</td>\n",
       "    </tr>\n",
       "    <tr>\n",
       "      <th>2</th>\n",
       "      <td>11</td>\n",
       "      <td>18865.5</td>\n",
       "    </tr>\n",
       "    <tr>\n",
       "      <th>3</th>\n",
       "      <td>13</td>\n",
       "      <td>21762.5</td>\n",
       "    </tr>\n",
       "    <tr>\n",
       "      <th>4</th>\n",
       "      <td>14</td>\n",
       "      <td>19945.5</td>\n",
       "    </tr>\n",
       "  </tbody>\n",
       "</table>\n",
       "</div>"
      ],
      "text/plain": [
       "   Aylar  Satislar\n",
       "0      8   19671.5\n",
       "1     10   23102.5\n",
       "2     11   18865.5\n",
       "3     13   21762.5\n",
       "4     14   19945.5"
      ]
     },
     "execution_count": 5,
     "metadata": {},
     "output_type": "execute_result"
    }
   ],
   "source": [
    "satislar = pd.read_csv('satislar.csv')\n",
    "df = satislar.copy()\n",
    "df.head()"
   ]
  },
  {
   "cell_type": "code",
   "execution_count": 6,
   "id": "ef1ca9d1-7ee5-40e8-8a3a-4cd5deeee616",
   "metadata": {},
   "outputs": [
    {
     "name": "stdout",
     "output_type": "stream",
     "text": [
      "<class 'pandas.core.frame.DataFrame'>\n",
      "RangeIndex: 30 entries, 0 to 29\n",
      "Data columns (total 2 columns):\n",
      " #   Column    Non-Null Count  Dtype  \n",
      "---  ------    --------------  -----  \n",
      " 0   Aylar     30 non-null     int64  \n",
      " 1   Satislar  30 non-null     float64\n",
      "dtypes: float64(1), int64(1)\n",
      "memory usage: 608.0 bytes\n"
     ]
    }
   ],
   "source": [
    "df.info()"
   ]
  },
  {
   "cell_type": "code",
   "execution_count": 7,
   "id": "6beecf36-b116-48bf-9b6f-45e14bd6feb5",
   "metadata": {},
   "outputs": [
    {
     "data": {
      "text/plain": [
       "Aylar       0\n",
       "Satislar    0\n",
       "dtype: int64"
      ]
     },
     "execution_count": 7,
     "metadata": {},
     "output_type": "execute_result"
    }
   ],
   "source": [
    "df.isnull().sum()"
   ]
  },
  {
   "cell_type": "markdown",
   "id": "c1419b45-cd06-4f0d-b81e-226805294905",
   "metadata": {},
   "source": [
    "## Basit Linear Regression (Simple Linear Regression)"
   ]
  },
  {
   "cell_type": "code",
   "execution_count": 8,
   "id": "3805d1cd-2467-47d6-a468-107539153fd1",
   "metadata": {},
   "outputs": [],
   "source": [
    "# Bagimli ve Bagimsiz Degisken Atamasi\n",
    "\n",
    "X = df[['Aylar']]\n",
    "y = df['Satislar']"
   ]
  },
  {
   "cell_type": "code",
   "execution_count": 10,
   "id": "714a541d-6ef5-45d2-8a1a-7253b98602bb",
   "metadata": {},
   "outputs": [],
   "source": [
    "from sklearn.model_selection import train_test_split"
   ]
  },
  {
   "cell_type": "code",
   "execution_count": 11,
   "id": "e158720e-70eb-4ea4-a653-d348db22992c",
   "metadata": {},
   "outputs": [],
   "source": [
    "X_train, X_test, y_train, y_test = train_test_split(X, y, test_size=0.33, random_state=0)"
   ]
  },
  {
   "cell_type": "code",
   "execution_count": 13,
   "id": "03b5d8aa-db1b-4bec-95b7-f8a506f48ee3",
   "metadata": {},
   "outputs": [
    {
     "data": {
      "text/plain": [
       "array([[-1.68268756],\n",
       "       [ 1.33023274],\n",
       "       [-0.82997427],\n",
       "       [-0.88682182],\n",
       "       [ 1.04599497],\n",
       "       [ 0.76175721],\n",
       "       [ 1.04599497],\n",
       "       [-0.88682182],\n",
       "       [-0.37519385],\n",
       "       [ 0.47751944]])"
      ]
     },
     "execution_count": 13,
     "metadata": {},
     "output_type": "execute_result"
    }
   ],
   "source": [
    "from sklearn.preprocessing import StandardScaler\n",
    "\n",
    "sc = StandardScaler()\n",
    "X_train = sc.fit_transform(X_train)\n",
    "X_test = sc.fit_transform(X_test)\n",
    "\n",
    "X_test"
   ]
  },
  {
   "cell_type": "code",
   "execution_count": 14,
   "id": "739762f7-fa34-4943-a7a1-4f5395ae03a8",
   "metadata": {},
   "outputs": [
    {
     "data": {
      "text/plain": [
       "array([[-0.70368853],\n",
       "       [ 0.15126015],\n",
       "       [-0.63792324],\n",
       "       [-0.0460357 ],\n",
       "       [ 1.33503524],\n",
       "       [ 0.80891298],\n",
       "       [-1.29557607],\n",
       "       [ 2.32151449],\n",
       "       [-0.70368853],\n",
       "       [-1.03251494],\n",
       "       [ 0.48008657],\n",
       "       [ 0.48008657],\n",
       "       [-0.37486211],\n",
       "       [-0.63792324],\n",
       "       [ 1.66386166],\n",
       "       [-1.09828023],\n",
       "       [-1.42710664],\n",
       "       [ 0.94044355],\n",
       "       [ 0.08549487],\n",
       "       [-0.30909683]])"
      ]
     },
     "execution_count": 14,
     "metadata": {},
     "output_type": "execute_result"
    }
   ],
   "source": [
    "X_train"
   ]
  },
  {
   "cell_type": "code",
   "execution_count": null,
   "id": "10ab4741-3788-4e3c-a4d3-457e03da2540",
   "metadata": {},
   "outputs": [],
   "source": []
  }
 ],
 "metadata": {
  "kernelspec": {
   "display_name": "Python 3 (ipykernel)",
   "language": "python",
   "name": "python3"
  },
  "language_info": {
   "codemirror_mode": {
    "name": "ipython",
    "version": 3
   },
   "file_extension": ".py",
   "mimetype": "text/x-python",
   "name": "python",
   "nbconvert_exporter": "python",
   "pygments_lexer": "ipython3",
   "version": "3.8.8"
  }
 },
 "nbformat": 4,
 "nbformat_minor": 5
}

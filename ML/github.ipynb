{
 "cells": [
  {
   "cell_type": "code",
   "execution_count": 12,
   "id": "15ddf798-88a2-49b1-a9e0-61cc441584a0",
   "metadata": {},
   "outputs": [],
   "source": [
    "from selenium import webdriver\n",
    "import time\n",
    "\n",
    "class Github :\n",
    "    def _init_ (self, username, password):\n",
    "        self.browser = webdriver.Chrome()\n",
    "        self.username = username\n",
    "        self.password = password\n",
    "        \n",
    "    def SignIn(self):\n",
    "        self.browser.get('https://www.autodoc.de/?brnd=1&utm_source=google&utm_medium=cpc&utm_campaign=organic+promo&gclid=Cj0KCQjw852XBhC6ARIsAJsFPN2co31bPiKz-c2vNOMigkU5dFhbvWV0YuKiOJdBB25D9L98zASwcXQaAq0dEALw_wcB')\n",
    "        self.browser.find_element_by_xpath('//*[@id=\"search\"]').send_keys('toyota ol')\n",
    "        time.sleep(2)\n",
    "        \n",
    "        self.browser.find_element_by_xpath('//*[@id=\"search\"]').click\n",
    "\n",
    "github = Github()"
   ]
  },
  {
   "cell_type": "code",
   "execution_count": null,
   "id": "c6680f42-9415-4574-a9f1-490dcaac4fbf",
   "metadata": {},
   "outputs": [],
   "source": []
  }
 ],
 "metadata": {
  "kernelspec": {
   "display_name": "Python 3 (ipykernel)",
   "language": "python",
   "name": "python3"
  },
  "language_info": {
   "codemirror_mode": {
    "name": "ipython",
    "version": 3
   },
   "file_extension": ".py",
   "mimetype": "text/x-python",
   "name": "python",
   "nbconvert_exporter": "python",
   "pygments_lexer": "ipython3",
   "version": "3.9.12"
  }
 },
 "nbformat": 4,
 "nbformat_minor": 5
}

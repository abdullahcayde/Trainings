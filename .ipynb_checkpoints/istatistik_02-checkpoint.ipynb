{
 "cells": [
  {
   "cell_type": "markdown",
   "id": "ab9fe557-4e13-4416-b939-7b7a86258880",
   "metadata": {},
   "source": [
    "# Veri Bilimi icin istatistik\n",
    "\n",
    "#### 01- Ornek Teorisi\n",
    "#### 02- Betimsel istatistikler\n",
    "#### 03- Guven Araliklari\n",
    "#### 04- Olasilik Dagilimlari\n",
    "#### 05- Hipotez Testleri\n",
    "#### 06- Varyans Analizi\n",
    "#### 07- Korelasyon Analizi"
   ]
  },
  {
   "cell_type": "markdown",
   "id": "ea71f88b-0c52-4526-8ec8-1d500c6e64dc",
   "metadata": {},
   "source": [
    "Yeni Kutuphaneler\n",
    "\n",
    "01 - researchpy\n",
    "!pip install researchpy\n",
    "import researchpy as rp\n",
    "\n",
    "02 - statsmodels.stats.api\n",
    "import statsmodels.stats.api as sms\n",
    "\n"
   ]
  },
  {
   "cell_type": "markdown",
   "id": "b04df0e0-075d-4eaf-a617-8747924120b8",
   "metadata": {},
   "source": [
    "# <font color=red>01 - Ornek Teorisi<font>"
   ]
  },
  {
   "cell_type": "code",
   "execution_count": 5,
   "id": "42c8501e-bd30-4aff-8cda-0311d2e6cc6c",
   "metadata": {},
   "outputs": [],
   "source": [
    "import numpy as np\n",
    "import pandas as pd\n",
    "import seaborn as sns"
   ]
  },
  {
   "cell_type": "code",
   "execution_count": 2,
   "id": "7bbe1ba1-d721-4ee4-a064-baacc9fdebc8",
   "metadata": {},
   "outputs": [],
   "source": [
    "# Amac 10.000 kisilik bir ilcenin Yas ortalamasini bulmak\n",
    "\n",
    "# 0 - 80 yas arliginda random 10.000 sayi olustur\n",
    "populasyon = np.random.randint(0, 80, 10000)"
   ]
  },
  {
   "cell_type": "code",
   "execution_count": 3,
   "id": "f09538f7-6c5e-4d76-b085-c9ccbaf589e4",
   "metadata": {},
   "outputs": [
    {
     "data": {
      "text/plain": [
       "array([39, 69, 46, 18, 15, 29, 19, 51, 26, 56])"
      ]
     },
     "execution_count": 3,
     "metadata": {},
     "output_type": "execute_result"
    }
   ],
   "source": [
    "populasyon[0:10]"
   ]
  },
  {
   "cell_type": "markdown",
   "id": "9e08ca89-b6ec-451d-9cbd-12831ce395c6",
   "metadata": {},
   "source": [
    "### 1.1. Orneklem Cekimi"
   ]
  },
  {
   "cell_type": "code",
   "execution_count": 4,
   "id": "3cb2e405-7dec-4d80-8f87-d33c7338e915",
   "metadata": {},
   "outputs": [
    {
     "data": {
      "text/plain": [
       "array([20, 45,  6, 70, 32, 41, 28, 15, 51, 63])"
      ]
     },
     "execution_count": 4,
     "metadata": {},
     "output_type": "execute_result"
    }
   ],
   "source": [
    "# Her orneklem cekiminde ayni populasyon ve orneklemi cekecek,bu yuzden seed kullanilir.\n",
    "# Not : 115 onemli degil, istedigin sayi gir\n",
    "\n",
    "np.random.seed(115)\n",
    "orneklem = np.random.choice(a= populasyon, size= 100)\n",
    "orneklem[0:10]"
   ]
  },
  {
   "cell_type": "code",
   "execution_count": 5,
   "id": "f7dd23cc-9452-42d1-be8e-f16a15c850f9",
   "metadata": {},
   "outputs": [
    {
     "data": {
      "text/plain": [
       "40.21"
      ]
     },
     "execution_count": 5,
     "metadata": {},
     "output_type": "execute_result"
    }
   ],
   "source": [
    "#orneklem Ortalama\n",
    "\n",
    "orneklem.mean()"
   ]
  },
  {
   "cell_type": "code",
   "execution_count": 6,
   "id": "b5dbad42-9c27-40c8-94ad-4d8bd4ea8c82",
   "metadata": {},
   "outputs": [
    {
     "data": {
      "text/plain": [
       "39.5362"
      ]
     },
     "execution_count": 6,
     "metadata": {},
     "output_type": "execute_result"
    }
   ],
   "source": [
    "#Populasyon Ortalama ==> Dikkat ikisi ne kadar da yakin !!!!\n",
    "\n",
    "populasyon.mean()"
   ]
  },
  {
   "cell_type": "markdown",
   "id": "4bbd0622-af54-41ab-bacc-c9caeace1b27",
   "metadata": {},
   "source": [
    "### 1.2. Orneklem Dagilimi"
   ]
  },
  {
   "cell_type": "code",
   "execution_count": 7,
   "id": "f7acfc19-0548-44a2-b418-c7dd81ad2b1c",
   "metadata": {},
   "outputs": [],
   "source": [
    "np.random.seed(10)\n",
    "orneklem1 = np.random.choice(a= populasyon, size= 100)\n",
    "orneklem2 = np.random.choice(a= populasyon, size= 100)\n",
    "orneklem3 = np.random.choice(a= populasyon, size= 100)\n",
    "orneklem4 = np.random.choice(a= populasyon, size= 100)\n",
    "orneklem5 = np.random.choice(a= populasyon, size= 100)\n",
    "orneklem6 = np.random.choice(a= populasyon, size= 100)\n",
    "orneklem7 = np.random.choice(a= populasyon, size= 100)\n",
    "orneklem8 = np.random.choice(a= populasyon, size= 100)\n",
    "orneklem9 = np.random.choice(a= populasyon, size= 100)\n",
    "orneklem10 = np.random.choice(a= populasyon, size= 100)"
   ]
  },
  {
   "cell_type": "markdown",
   "id": "2a2a0474-2a6a-4999-b006-d52aa31d6fa1",
   "metadata": {},
   "source": [
    "#### Bu 10 Orneklemenin ortalamasi hesaplanir"
   ]
  },
  {
   "cell_type": "code",
   "execution_count": 8,
   "id": "8677ea1a-e05b-45c9-8677-10af0302de6b",
   "metadata": {},
   "outputs": [
    {
     "name": "stdout",
     "output_type": "stream",
     "text": [
      "40.81\n",
      "41.17\n",
      "41.0\n",
      "39.69\n",
      "40.23\n",
      "38.46\n",
      "36.48\n",
      "37.16\n",
      "40.68\n",
      "40.59\n",
      "Ortalamasi =  39.626999999999995\n"
     ]
    }
   ],
   "source": [
    "list1 = [orneklem1, orneklem2, orneklem3, orneklem4, orneklem5, orneklem6, orneklem7,orneklem8,\n",
    "        orneklem9, orneklem10]\n",
    "toplam  = 0\n",
    "for i in list1:\n",
    "    toplam+= i.mean()\n",
    "    print(i.mean())\n",
    "print('Ortalamasi = ', toplam/10)"
   ]
  },
  {
   "cell_type": "code",
   "execution_count": 9,
   "id": "2c5980ba-3980-4477-b764-d314e268299a",
   "metadata": {},
   "outputs": [
    {
     "data": {
      "text/plain": [
       "40.81"
      ]
     },
     "execution_count": 9,
     "metadata": {},
     "output_type": "execute_result"
    }
   ],
   "source": [
    "orneklem1.mean()"
   ]
  },
  {
   "cell_type": "code",
   "execution_count": 10,
   "id": "7673a82b-c61a-4318-9d2d-16017a673fad",
   "metadata": {},
   "outputs": [
    {
     "data": {
      "text/plain": [
       "41.17"
      ]
     },
     "execution_count": 10,
     "metadata": {},
     "output_type": "execute_result"
    }
   ],
   "source": [
    "orneklem2.mean()"
   ]
  },
  {
   "cell_type": "code",
   "execution_count": 11,
   "id": "b0614006-f25f-41e7-a1c6-16575ca14cc7",
   "metadata": {},
   "outputs": [
    {
     "data": {
      "text/plain": [
       "39.69"
      ]
     },
     "execution_count": 11,
     "metadata": {},
     "output_type": "execute_result"
    }
   ],
   "source": [
    "orneklem4.mean()"
   ]
  },
  {
   "cell_type": "markdown",
   "id": "a4f6cd8c-6bba-4206-b2e7-932d817c964a",
   "metadata": {},
   "source": [
    "# <font color=red>02 - Betimsel istatistikler<font>"
   ]
  },
  {
   "cell_type": "code",
   "execution_count": 12,
   "id": "a6bffd2f-0255-479a-a77c-9993c140f431",
   "metadata": {},
   "outputs": [
    {
     "data": {
      "text/html": [
       "<div>\n",
       "<style scoped>\n",
       "    .dataframe tbody tr th:only-of-type {\n",
       "        vertical-align: middle;\n",
       "    }\n",
       "\n",
       "    .dataframe tbody tr th {\n",
       "        vertical-align: top;\n",
       "    }\n",
       "\n",
       "    .dataframe thead th {\n",
       "        text-align: right;\n",
       "    }\n",
       "</style>\n",
       "<table border=\"1\" class=\"dataframe\">\n",
       "  <thead>\n",
       "    <tr style=\"text-align: right;\">\n",
       "      <th></th>\n",
       "      <th>total_bill</th>\n",
       "      <th>tip</th>\n",
       "      <th>sex</th>\n",
       "      <th>smoker</th>\n",
       "      <th>day</th>\n",
       "      <th>time</th>\n",
       "      <th>size</th>\n",
       "    </tr>\n",
       "  </thead>\n",
       "  <tbody>\n",
       "    <tr>\n",
       "      <th>0</th>\n",
       "      <td>16.99</td>\n",
       "      <td>1.01</td>\n",
       "      <td>Female</td>\n",
       "      <td>No</td>\n",
       "      <td>Sun</td>\n",
       "      <td>Dinner</td>\n",
       "      <td>2</td>\n",
       "    </tr>\n",
       "    <tr>\n",
       "      <th>1</th>\n",
       "      <td>10.34</td>\n",
       "      <td>1.66</td>\n",
       "      <td>Male</td>\n",
       "      <td>No</td>\n",
       "      <td>Sun</td>\n",
       "      <td>Dinner</td>\n",
       "      <td>3</td>\n",
       "    </tr>\n",
       "    <tr>\n",
       "      <th>2</th>\n",
       "      <td>21.01</td>\n",
       "      <td>3.50</td>\n",
       "      <td>Male</td>\n",
       "      <td>No</td>\n",
       "      <td>Sun</td>\n",
       "      <td>Dinner</td>\n",
       "      <td>3</td>\n",
       "    </tr>\n",
       "    <tr>\n",
       "      <th>3</th>\n",
       "      <td>23.68</td>\n",
       "      <td>3.31</td>\n",
       "      <td>Male</td>\n",
       "      <td>No</td>\n",
       "      <td>Sun</td>\n",
       "      <td>Dinner</td>\n",
       "      <td>2</td>\n",
       "    </tr>\n",
       "    <tr>\n",
       "      <th>4</th>\n",
       "      <td>24.59</td>\n",
       "      <td>3.61</td>\n",
       "      <td>Female</td>\n",
       "      <td>No</td>\n",
       "      <td>Sun</td>\n",
       "      <td>Dinner</td>\n",
       "      <td>4</td>\n",
       "    </tr>\n",
       "  </tbody>\n",
       "</table>\n",
       "</div>"
      ],
      "text/plain": [
       "   total_bill   tip     sex smoker  day    time  size\n",
       "0       16.99  1.01  Female     No  Sun  Dinner     2\n",
       "1       10.34  1.66    Male     No  Sun  Dinner     3\n",
       "2       21.01  3.50    Male     No  Sun  Dinner     3\n",
       "3       23.68  3.31    Male     No  Sun  Dinner     2\n",
       "4       24.59  3.61  Female     No  Sun  Dinner     4"
      ]
     },
     "execution_count": 12,
     "metadata": {},
     "output_type": "execute_result"
    }
   ],
   "source": [
    "import seaborn as sns\n",
    "tips = sns.load_dataset('tips')\n",
    "df = tips.copy()\n",
    "df.head()"
   ]
  },
  {
   "cell_type": "code",
   "execution_count": 13,
   "id": "74cc0df4-a0b5-4f4d-a98e-20db29e48098",
   "metadata": {},
   "outputs": [
    {
     "data": {
      "text/html": [
       "<div>\n",
       "<style scoped>\n",
       "    .dataframe tbody tr th:only-of-type {\n",
       "        vertical-align: middle;\n",
       "    }\n",
       "\n",
       "    .dataframe tbody tr th {\n",
       "        vertical-align: top;\n",
       "    }\n",
       "\n",
       "    .dataframe thead th {\n",
       "        text-align: right;\n",
       "    }\n",
       "</style>\n",
       "<table border=\"1\" class=\"dataframe\">\n",
       "  <thead>\n",
       "    <tr style=\"text-align: right;\">\n",
       "      <th></th>\n",
       "      <th>count</th>\n",
       "      <th>mean</th>\n",
       "      <th>std</th>\n",
       "      <th>min</th>\n",
       "      <th>25%</th>\n",
       "      <th>50%</th>\n",
       "      <th>75%</th>\n",
       "      <th>max</th>\n",
       "    </tr>\n",
       "  </thead>\n",
       "  <tbody>\n",
       "    <tr>\n",
       "      <th>total_bill</th>\n",
       "      <td>244.0</td>\n",
       "      <td>19.785943</td>\n",
       "      <td>8.902412</td>\n",
       "      <td>3.07</td>\n",
       "      <td>13.3475</td>\n",
       "      <td>17.795</td>\n",
       "      <td>24.1275</td>\n",
       "      <td>50.81</td>\n",
       "    </tr>\n",
       "    <tr>\n",
       "      <th>tip</th>\n",
       "      <td>244.0</td>\n",
       "      <td>2.998279</td>\n",
       "      <td>1.383638</td>\n",
       "      <td>1.00</td>\n",
       "      <td>2.0000</td>\n",
       "      <td>2.900</td>\n",
       "      <td>3.5625</td>\n",
       "      <td>10.00</td>\n",
       "    </tr>\n",
       "    <tr>\n",
       "      <th>size</th>\n",
       "      <td>244.0</td>\n",
       "      <td>2.569672</td>\n",
       "      <td>0.951100</td>\n",
       "      <td>1.00</td>\n",
       "      <td>2.0000</td>\n",
       "      <td>2.000</td>\n",
       "      <td>3.0000</td>\n",
       "      <td>6.00</td>\n",
       "    </tr>\n",
       "  </tbody>\n",
       "</table>\n",
       "</div>"
      ],
      "text/plain": [
       "            count       mean       std   min      25%     50%      75%    max\n",
       "total_bill  244.0  19.785943  8.902412  3.07  13.3475  17.795  24.1275  50.81\n",
       "tip         244.0   2.998279  1.383638  1.00   2.0000   2.900   3.5625  10.00\n",
       "size        244.0   2.569672  0.951100  1.00   2.0000   2.000   3.0000   6.00"
      ]
     },
     "execution_count": 13,
     "metadata": {},
     "output_type": "execute_result"
    }
   ],
   "source": [
    "df.describe().T"
   ]
  },
  {
   "cell_type": "markdown",
   "id": "3b766e14-b91d-4344-b36e-e4dff1f37d0a",
   "metadata": {},
   "source": [
    "### Yeni Kutuphane inidirdik ===>  !pip install researchpy\n"
   ]
  },
  {
   "cell_type": "code",
   "execution_count": 14,
   "id": "463cbb65-185d-46b2-8892-0a9d93837251",
   "metadata": {
    "collapsed": true,
    "jupyter": {
     "outputs_hidden": true
    },
    "tags": []
   },
   "outputs": [
    {
     "name": "stdout",
     "output_type": "stream",
     "text": [
      "Requirement already satisfied: researchpy in /Users/macbook/opt/anaconda3/lib/python3.8/site-packages (0.3.2)\n",
      "Requirement already satisfied: scipy in /Users/macbook/opt/anaconda3/lib/python3.8/site-packages (from researchpy) (1.7.1)\n",
      "Requirement already satisfied: statsmodels in /Users/macbook/opt/anaconda3/lib/python3.8/site-packages (from researchpy) (0.12.2)\n",
      "Requirement already satisfied: pandas in /Users/macbook/opt/anaconda3/lib/python3.8/site-packages (from researchpy) (1.3.3)\n",
      "Requirement already satisfied: numpy in /Users/macbook/opt/anaconda3/lib/python3.8/site-packages (from researchpy) (1.21.2)\n",
      "Requirement already satisfied: patsy in /Users/macbook/opt/anaconda3/lib/python3.8/site-packages (from researchpy) (0.5.2)\n",
      "Requirement already satisfied: python-dateutil>=2.7.3 in /Users/macbook/opt/anaconda3/lib/python3.8/site-packages (from pandas->researchpy) (2.8.2)\n",
      "Requirement already satisfied: pytz>=2017.3 in /Users/macbook/opt/anaconda3/lib/python3.8/site-packages (from pandas->researchpy) (2021.3)\n",
      "Requirement already satisfied: six>=1.5 in /Users/macbook/opt/anaconda3/lib/python3.8/site-packages (from python-dateutil>=2.7.3->pandas->researchpy) (1.16.0)\n"
     ]
    }
   ],
   "source": [
    "!pip install researchpy\n",
    "import researchpy as rp"
   ]
  },
  {
   "cell_type": "code",
   "execution_count": 15,
   "id": "568bea0a-af38-4685-953b-ece74c99de08",
   "metadata": {
    "tags": []
   },
   "outputs": [
    {
     "name": "stdout",
     "output_type": "stream",
     "text": [
      "\n",
      "\n"
     ]
    },
    {
     "data": {
      "text/html": [
       "<div>\n",
       "<style scoped>\n",
       "    .dataframe tbody tr th:only-of-type {\n",
       "        vertical-align: middle;\n",
       "    }\n",
       "\n",
       "    .dataframe tbody tr th {\n",
       "        vertical-align: top;\n",
       "    }\n",
       "\n",
       "    .dataframe thead th {\n",
       "        text-align: right;\n",
       "    }\n",
       "</style>\n",
       "<table border=\"1\" class=\"dataframe\">\n",
       "  <thead>\n",
       "    <tr style=\"text-align: right;\">\n",
       "      <th></th>\n",
       "      <th>Variable</th>\n",
       "      <th>N</th>\n",
       "      <th>Mean</th>\n",
       "      <th>SD</th>\n",
       "      <th>SE</th>\n",
       "      <th>95% Conf.</th>\n",
       "      <th>Interval</th>\n",
       "    </tr>\n",
       "  </thead>\n",
       "  <tbody>\n",
       "    <tr>\n",
       "      <th>0</th>\n",
       "      <td>total_bill</td>\n",
       "      <td>244.0</td>\n",
       "      <td>19.7859</td>\n",
       "      <td>8.9024</td>\n",
       "      <td>0.5699</td>\n",
       "      <td>18.6633</td>\n",
       "      <td>20.9086</td>\n",
       "    </tr>\n",
       "    <tr>\n",
       "      <th>1</th>\n",
       "      <td>tip</td>\n",
       "      <td>244.0</td>\n",
       "      <td>2.9983</td>\n",
       "      <td>1.3836</td>\n",
       "      <td>0.0886</td>\n",
       "      <td>2.8238</td>\n",
       "      <td>3.1728</td>\n",
       "    </tr>\n",
       "    <tr>\n",
       "      <th>2</th>\n",
       "      <td>size</td>\n",
       "      <td>244.0</td>\n",
       "      <td>2.5697</td>\n",
       "      <td>0.9511</td>\n",
       "      <td>0.0609</td>\n",
       "      <td>2.4497</td>\n",
       "      <td>2.6896</td>\n",
       "    </tr>\n",
       "  </tbody>\n",
       "</table>\n",
       "</div>"
      ],
      "text/plain": [
       "     Variable      N     Mean      SD      SE  95% Conf.  Interval\n",
       "0  total_bill  244.0  19.7859  8.9024  0.5699    18.6633   20.9086\n",
       "1         tip  244.0   2.9983  1.3836  0.0886     2.8238    3.1728\n",
       "2        size  244.0   2.5697  0.9511  0.0609     2.4497    2.6896"
      ]
     },
     "execution_count": 15,
     "metadata": {},
     "output_type": "execute_result"
    }
   ],
   "source": [
    "# Numeric Degiskenler icin summary_cont\n",
    "\n",
    "# -----Default ayarlari-------\n",
    "# summary_cont(group1, conf = 0.95, decimals = 4) ===> decimal = ondalik 4\n",
    "\n",
    "# Variable  = Degiskenler\n",
    "# N         = Gozlem Sayisi\n",
    "# Mean      = Ortalama\n",
    "# SD        = Standart Sapma\n",
    "# SE        = Standart Hatasi\n",
    "# %95 Confindence interval = Guven Araligi ===> (18.6633 - 20.9086)\n",
    "\n",
    "rp.summary_cont(df[['total_bill', 'tip', 'size']])"
   ]
  },
  {
   "cell_type": "code",
   "execution_count": 16,
   "id": "d0e5287d-b06f-4203-9fa5-2fa62be5b34b",
   "metadata": {},
   "outputs": [
    {
     "data": {
      "text/html": [
       "<div>\n",
       "<style scoped>\n",
       "    .dataframe tbody tr th:only-of-type {\n",
       "        vertical-align: middle;\n",
       "    }\n",
       "\n",
       "    .dataframe tbody tr th {\n",
       "        vertical-align: top;\n",
       "    }\n",
       "\n",
       "    .dataframe thead th {\n",
       "        text-align: right;\n",
       "    }\n",
       "</style>\n",
       "<table border=\"1\" class=\"dataframe\">\n",
       "  <thead>\n",
       "    <tr style=\"text-align: right;\">\n",
       "      <th></th>\n",
       "      <th>Variable</th>\n",
       "      <th>Outcome</th>\n",
       "      <th>Count</th>\n",
       "      <th>Percent</th>\n",
       "    </tr>\n",
       "  </thead>\n",
       "  <tbody>\n",
       "    <tr>\n",
       "      <th>0</th>\n",
       "      <td>sex</td>\n",
       "      <td>Male</td>\n",
       "      <td>157</td>\n",
       "      <td>64.34</td>\n",
       "    </tr>\n",
       "    <tr>\n",
       "      <th>1</th>\n",
       "      <td></td>\n",
       "      <td>Female</td>\n",
       "      <td>87</td>\n",
       "      <td>35.66</td>\n",
       "    </tr>\n",
       "    <tr>\n",
       "      <th>2</th>\n",
       "      <td>smoker</td>\n",
       "      <td>No</td>\n",
       "      <td>151</td>\n",
       "      <td>61.89</td>\n",
       "    </tr>\n",
       "    <tr>\n",
       "      <th>3</th>\n",
       "      <td></td>\n",
       "      <td>Yes</td>\n",
       "      <td>93</td>\n",
       "      <td>38.11</td>\n",
       "    </tr>\n",
       "    <tr>\n",
       "      <th>4</th>\n",
       "      <td>day</td>\n",
       "      <td>Sat</td>\n",
       "      <td>87</td>\n",
       "      <td>35.66</td>\n",
       "    </tr>\n",
       "    <tr>\n",
       "      <th>5</th>\n",
       "      <td></td>\n",
       "      <td>Sun</td>\n",
       "      <td>76</td>\n",
       "      <td>31.15</td>\n",
       "    </tr>\n",
       "    <tr>\n",
       "      <th>6</th>\n",
       "      <td></td>\n",
       "      <td>Thur</td>\n",
       "      <td>62</td>\n",
       "      <td>25.41</td>\n",
       "    </tr>\n",
       "    <tr>\n",
       "      <th>7</th>\n",
       "      <td></td>\n",
       "      <td>Fri</td>\n",
       "      <td>19</td>\n",
       "      <td>7.79</td>\n",
       "    </tr>\n",
       "    <tr>\n",
       "      <th>8</th>\n",
       "      <td>time</td>\n",
       "      <td>Dinner</td>\n",
       "      <td>176</td>\n",
       "      <td>72.13</td>\n",
       "    </tr>\n",
       "    <tr>\n",
       "      <th>9</th>\n",
       "      <td></td>\n",
       "      <td>Lunch</td>\n",
       "      <td>68</td>\n",
       "      <td>27.87</td>\n",
       "    </tr>\n",
       "  </tbody>\n",
       "</table>\n",
       "</div>"
      ],
      "text/plain": [
       "  Variable Outcome  Count  Percent\n",
       "0      sex    Male    157    64.34\n",
       "1           Female     87    35.66\n",
       "2   smoker      No    151    61.89\n",
       "3              Yes     93    38.11\n",
       "4      day     Sat     87    35.66\n",
       "5              Sun     76    31.15\n",
       "6             Thur     62    25.41\n",
       "7              Fri     19     7.79\n",
       "8     time  Dinner    176    72.13\n",
       "9            Lunch     68    27.87"
      ]
     },
     "execution_count": 16,
     "metadata": {},
     "output_type": "execute_result"
    }
   ],
   "source": [
    "# Kategorik Degiskenler icin summary_cat\n",
    "\n",
    "# -----Default ayarlari-------\n",
    "#summary_cat(group1, ascending= False)\n",
    "\n",
    "rp.summary_cat(df[['sex', 'smoker', 'day', 'time']])"
   ]
  },
  {
   "cell_type": "markdown",
   "id": "23f84d61-0045-4fe0-9612-dfb4c929c840",
   "metadata": {},
   "source": [
    "## <font color=blue>Kovaryans (Covaryans)<font>"
   ]
  },
  {
   "cell_type": "code",
   "execution_count": 17,
   "id": "119cb85b-d3ef-490e-97be-f72f69dd9156",
   "metadata": {},
   "outputs": [
    {
     "data": {
      "text/html": [
       "<div>\n",
       "<style scoped>\n",
       "    .dataframe tbody tr th:only-of-type {\n",
       "        vertical-align: middle;\n",
       "    }\n",
       "\n",
       "    .dataframe tbody tr th {\n",
       "        vertical-align: top;\n",
       "    }\n",
       "\n",
       "    .dataframe thead th {\n",
       "        text-align: right;\n",
       "    }\n",
       "</style>\n",
       "<table border=\"1\" class=\"dataframe\">\n",
       "  <thead>\n",
       "    <tr style=\"text-align: right;\">\n",
       "      <th></th>\n",
       "      <th>tip</th>\n",
       "      <th>total_bill</th>\n",
       "    </tr>\n",
       "  </thead>\n",
       "  <tbody>\n",
       "    <tr>\n",
       "      <th>tip</th>\n",
       "      <td>1.914455</td>\n",
       "      <td>8.323502</td>\n",
       "    </tr>\n",
       "    <tr>\n",
       "      <th>total_bill</th>\n",
       "      <td>8.323502</td>\n",
       "      <td>79.252939</td>\n",
       "    </tr>\n",
       "  </tbody>\n",
       "</table>\n",
       "</div>"
      ],
      "text/plain": [
       "                 tip  total_bill\n",
       "tip         1.914455    8.323502\n",
       "total_bill  8.323502   79.252939"
      ]
     },
     "execution_count": 17,
     "metadata": {},
     "output_type": "execute_result"
    }
   ],
   "source": [
    "# Kovaryans = iki degiskenin iliskilerinin degisimi\n",
    "\n",
    "df[['tip', 'total_bill']].cov()"
   ]
  },
  {
   "cell_type": "markdown",
   "id": "58fa22aa-cbb3-4468-b560-c3232ff795ec",
   "metadata": {},
   "source": [
    "## <font color=blue>Korelasyon (Corelasyon)<font>"
   ]
  },
  {
   "cell_type": "code",
   "execution_count": 18,
   "id": "f54d162c-673f-4dc3-bd53-7a0328e0aac7",
   "metadata": {},
   "outputs": [
    {
     "data": {
      "text/html": [
       "<div>\n",
       "<style scoped>\n",
       "    .dataframe tbody tr th:only-of-type {\n",
       "        vertical-align: middle;\n",
       "    }\n",
       "\n",
       "    .dataframe tbody tr th {\n",
       "        vertical-align: top;\n",
       "    }\n",
       "\n",
       "    .dataframe thead th {\n",
       "        text-align: right;\n",
       "    }\n",
       "</style>\n",
       "<table border=\"1\" class=\"dataframe\">\n",
       "  <thead>\n",
       "    <tr style=\"text-align: right;\">\n",
       "      <th></th>\n",
       "      <th>tip</th>\n",
       "      <th>total_bill</th>\n",
       "    </tr>\n",
       "  </thead>\n",
       "  <tbody>\n",
       "    <tr>\n",
       "      <th>tip</th>\n",
       "      <td>1.000000</td>\n",
       "      <td>0.675734</td>\n",
       "    </tr>\n",
       "    <tr>\n",
       "      <th>total_bill</th>\n",
       "      <td>0.675734</td>\n",
       "      <td>1.000000</td>\n",
       "    </tr>\n",
       "  </tbody>\n",
       "</table>\n",
       "</div>"
      ],
      "text/plain": [
       "                 tip  total_bill\n",
       "tip         1.000000    0.675734\n",
       "total_bill  0.675734    1.000000"
      ]
     },
     "execution_count": 18,
     "metadata": {},
     "output_type": "execute_result"
    }
   ],
   "source": [
    "# Korelasyon = Degiskenler arasindaki iliski (-1, 0, 1) \n",
    "\n",
    "df[['tip', 'total_bill']].corr()"
   ]
  },
  {
   "cell_type": "code",
   "execution_count": 19,
   "id": "fe2e64f2-213f-4197-b07b-b15543eb68ba",
   "metadata": {},
   "outputs": [],
   "source": [
    "# Not:  Tip ile Total_bill arasinda orta siddete pozitif yonlu Korelasyon var (0.67)"
   ]
  },
  {
   "cell_type": "code",
   "execution_count": 20,
   "id": "17ec507d-6854-4376-94fc-010db4474ad0",
   "metadata": {},
   "outputs": [],
   "source": [
    "### Korelasyon Grafigi"
   ]
  },
  {
   "cell_type": "code",
   "execution_count": 21,
   "id": "1db6e49b-1256-4609-930d-a90431020ed3",
   "metadata": {},
   "outputs": [
    {
     "data": {
      "image/png": "[encoded data removed]",
      "text/plain": [
       "<Figure size 360x360 with 1 Axes>"
      ]
     },
     "metadata": {
      "needs_background": "light"
     },
     "output_type": "display_data"
    }
   ],
   "source": [
    "sns.lmplot(x= 'total_bill', y= 'tip', data= df);"
   ]
  },
  {
   "cell_type": "markdown",
   "id": "828ca846-a8ac-41e5-bcd9-ddf19dcfa558",
   "metadata": {},
   "source": [
    "# <font color=red>03 - Guven Araligi<font>"
   ]
  },
  {
   "cell_type": "code",
   "execution_count": 22,
   "id": "bfa59b87-a0ff-40eb-91d7-fbd0c2af3e3d",
   "metadata": {},
   "outputs": [],
   "source": [
    "# Problem :\n",
    "# CEO fiyat belirleme konusunda bilimsel bir dayanak ve esneklik istiyor\n",
    "\n",
    "# Detaylar:\n",
    "# 1 - Satici , alici ve urun var.\n",
    "# 2 - Alicilara urune ne kadar ucret odersiniz diye soruluyor.\n",
    "# 3 - Optimum fiyat bilimsel ve esnek olarak bulunmak isteniyor."
   ]
  },
  {
   "cell_type": "code",
   "execution_count": 23,
   "id": "4056c94d-a4b0-4f14-9bf3-82978b56bfb3",
   "metadata": {},
   "outputs": [
    {
     "data": {
      "text/plain": [
       "58.492"
      ]
     },
     "execution_count": 23,
     "metadata": {},
     "output_type": "execute_result"
    }
   ],
   "source": [
    "fiyatlar = np.random.randint(10, 110, 1000)\n",
    "fiyatlar.mean()"
   ]
  },
  {
   "cell_type": "markdown",
   "id": "46f72c88-e90b-4074-bfb7-57a1b1198a0d",
   "metadata": {},
   "source": [
    "### Yeni Kutuphane ekledik ====> statsmodels.stats.api"
   ]
  },
  {
   "cell_type": "code",
   "execution_count": 24,
   "id": "f5ef9a79-55cd-400b-aa51-d8ae9db7588a",
   "metadata": {},
   "outputs": [],
   "source": [
    "import statsmodels.stats.api as sms"
   ]
  },
  {
   "cell_type": "code",
   "execution_count": 25,
   "id": "c6a7572a-ab3d-4bb3-b735-007d3861664c",
   "metadata": {},
   "outputs": [
    {
     "data": {
      "text/plain": [
       "(56.67953887736034, 60.30446112263965)"
      ]
     },
     "execution_count": 25,
     "metadata": {},
     "output_type": "execute_result"
    }
   ],
   "source": [
    "# confidence interval (guven araligi)\n",
    "\n",
    "sms.DescrStatsW(fiyatlar).tconfint_mean()  "
   ]
  },
  {
   "cell_type": "code",
   "execution_count": 26,
   "id": "07c68fba-ad35-4f3a-96c0-c0057e374189",
   "metadata": {},
   "outputs": [],
   "source": [
    "# Not : Kullanicilarin urunu almak icin odemeyi goze aldigi fiyat;\n",
    "# istatistiksel olalarak %95 guvenilirlik ile 56 - 60 arasindadir demek\n",
    "\n",
    "# alfa ile ilgilenmiyoruz (simdilik), Hata Payin hep %5 alacagiz , sistemde default olarak %95 tanimli zaten"
   ]
  },
  {
   "cell_type": "markdown",
   "id": "21979c0f-c33d-4d9a-9854-ac8778d56eab",
   "metadata": {},
   "source": [
    "# <font color=red>04 - Olasilik Dagilimlari<font>\n",
    "#### <font color=red>Belirsizlik altinda karar vermeye calisiyoruz ! <font>"
   ]
  },
  {
   "cell_type": "markdown",
   "id": "499145fa-f5db-4134-ac85-f1f3898af603",
   "metadata": {},
   "source": [
    "## <font color=blue>4.1. - Bernoulli Dagilimi<font>  "
   ]
  },
  {
   "cell_type": "markdown",
   "id": "7dd0954d-2947-4358-b953-d4b8de96c792",
   "metadata": {
    "tags": []
   },
   "source": [
    "${\\displaystyle f(k;p)=p^{k}(1-p)^{1-k}\\quad {\\text{for }}k\\in \\{0,1\\}}$\n",
    "\n",
    "\n",
    "${\\displaystyle \\operatorname {E} \\left(X\\right)=p}$\n",
    "\n",
    "$\\operatorname {Var} [X]=pq=p(1-p)$"
   ]
  },
  {
   "cell_type": "markdown",
   "id": "24098b56-0507-42f1-a527-eafdd9dc9a9b",
   "metadata": {},
   "source": [
    "#### Yeni Kutuphane ekledik ====> from scipy.stats import bernoulli"
   ]
  },
  {
   "cell_type": "code",
   "execution_count": 2,
   "id": "f0c9214f-a547-4d41-884b-4c5a1828150b",
   "metadata": {},
   "outputs": [],
   "source": [
    "# Olasilik Dagilimi islemleri icin Scipy kullanilir\n",
    "\n",
    "from scipy.stats import bernoulli"
   ]
  },
  {
   "cell_type": "code",
   "execution_count": 7,
   "id": "c64cd1bf-5ce8-4ddf-92c2-a2a4cc284b69",
   "metadata": {},
   "outputs": [],
   "source": [
    "#p=  Tura gelme olasiligi (Biz verdik bunu , sonuca ulasmisiz gibi yaptik)\n",
    "\n",
    "p = 0.6"
   ]
  },
  {
   "cell_type": "code",
   "execution_count": 8,
   "id": "a3a03dba-158c-4a8b-8ee1-35f183ac4592",
   "metadata": {},
   "outputs": [
    {
     "data": {
      "text/plain": [
       "0.6"
      ]
     },
     "execution_count": 8,
     "metadata": {},
     "output_type": "execute_result"
    }
   ],
   "source": [
    "#pmf = probability mass func.(olasilik kutle fonk.)\n",
    "\n",
    "rv = bernoulli(p)\n",
    "rv.pmf(k = 1) # Tura olma olasiligi                "
   ]
  },
  {
   "cell_type": "code",
   "execution_count": 9,
   "id": "e0129704-dea8-482f-a283-d2718e893ada",
   "metadata": {},
   "outputs": [
    {
     "data": {
      "text/plain": [
       "0.4"
      ]
     },
     "execution_count": 9,
     "metadata": {},
     "output_type": "execute_result"
    }
   ],
   "source": [
    "rv.pmf(k = 0)  # Yazi olma olasiligi"
   ]
  },
  {
   "cell_type": "markdown",
   "id": "46c33180-296f-4b24-9e79-ea299b1f28ef",
   "metadata": {},
   "source": [
    "## <font color=blue>4.2. - Buyuk Sayilar Yasasi<font> "
   ]
  },
  {
   "cell_type": "code",
   "execution_count": 35,
   "id": "7ea850c9-690b-4b27-850c-565ac838b184",
   "metadata": {},
   "outputs": [
    {
     "name": "stdout",
     "output_type": "stream",
     "text": [
      "Atis Sayisi:  2 ---- Yazi olasiligi: 50.00\n",
      "Atis Sayisi:  4 ---- Yazi olasiligi: 0.00\n",
      "Atis Sayisi:  8 ---- Yazi olasiligi: 62.50\n",
      "Atis Sayisi:  16 ---- Yazi olasiligi: 43.75\n",
      "Atis Sayisi:  32 ---- Yazi olasiligi: 46.88\n",
      "Atis Sayisi:  64 ---- Yazi olasiligi: 56.25\n",
      "Atis Sayisi:  128 ---- Yazi olasiligi: 50.78\n",
      "Atis Sayisi:  256 ---- Yazi olasiligi: 52.73\n",
      "Atis Sayisi:  512 ---- Yazi olasiligi: 52.93\n",
      "Atis Sayisi:  1024 ---- Yazi olasiligi: 50.20\n",
      "Atis Sayisi:  2048 ---- Yazi olasiligi: 48.58\n",
      "Atis Sayisi:  4096 ---- Yazi olasiligi: 49.49\n",
      "Atis Sayisi:  8192 ---- Yazi olasiligi: 49.58\n",
      "Atis Sayisi:  16384 ---- Yazi olasiligi: 49.96\n",
      "Atis Sayisi:  32768 ---- Yazi olasiligi: 50.00\n",
      "Atis Sayisi:  65536 ---- Yazi olasiligi: 49.68\n",
      "Atis Sayisi:  131072 ---- Yazi olasiligi: 49.97\n",
      "Atis Sayisi:  262144 ---- Yazi olasiligi: 50.13\n",
      "Atis Sayisi:  524288 ---- Yazi olasiligi: 50.01\n",
      "Atis Sayisi:  1048576 ---- Yazi olasiligi: 50.09\n"
     ]
    }
   ],
   "source": [
    "# rng = np.random.RandomState(123)  ===> Random islemlerini sabitlemek icin (np.random.seed(115) ayni)\n",
    "\n",
    "rng = np.random.RandomState(123)\n",
    "for i in range(1,21):\n",
    "    deney_sayisi = 2**i\n",
    "    yazi_turalar = rng.randint(0, 2, size= deney_sayisi)\n",
    "    yazi_olasiliklari = np.mean(yazi_turalar)\n",
    "    print('Atis Sayisi: ', deney_sayisi, '----', 'Yazi olasiligi: %.2f' % (yazi_olasiliklari * 100))"
   ]
  },
  {
   "cell_type": "markdown",
   "id": "134639c0-eb01-4b30-b3d5-2944a45e851d",
   "metadata": {},
   "source": [
    "## <font color=blue>4.3. - Binom Dagilimi<font> "
   ]
  },
  {
   "cell_type": "markdown",
   "id": "afc095f1-ea32-460e-ba1e-4e3d36bee718",
   "metadata": {},
   "source": [
    "${\\displaystyle f(k;n,p)={n \\choose k}p^{k}(1-p)^{n-k}}$, k = 0, 1, 2, ...,n\n",
    "\n",
    "\n",
    "${\\displaystyle \\operatorname {E} (X)=np}$\n",
    "\n",
    "\n",
    "${\\displaystyle \\operatorname {Var} (X)=np(1-p)}$"
   ]
  },
  {
   "cell_type": "markdown",
   "id": "b0ba8b3c-1cc3-4659-8656-412da4c9abae",
   "metadata": {
    "tags": []
   },
   "source": [
    "#### Yeni Kutuphane ekledik ====> from scipy.stats import binom"
   ]
  },
  {
   "cell_type": "code",
   "execution_count": 44,
   "id": "f21e120d-51c1-42b0-87cb-5b78de9468f6",
   "metadata": {},
   "outputs": [],
   "source": [
    "from scipy.stats import binom"
   ]
  },
  {
   "cell_type": "markdown",
   "id": "c60414d5-81b0-4b67-888c-b591fd51b794",
   "metadata": {},
   "source": [
    "# Problem : bir sirkette verilen 100 Reklami 1,5,10 kisinin gorme olasiligi\n",
    "# Bilinen deger p = 0.01 (binom olasilik degeri biliniyor)\n",
    "\n",
    "# p = BINOM Olasilik degeri\n",
    "# n = Deneme Sayisi\n",
    "# k = rassal degiskenin alacagi degerler (1,5,10)  ===> k veya x ayni seyler\n",
    "\n",
    "p = 0.01\n",
    "n = 100\n",
    "rv = binom(n,p)\n",
    "print(rv.pmf(1))\n",
    "print(rv.pmf(5))\n",
    "print(rv.pmf(10))"
   ]
  },
  {
   "cell_type": "markdown",
   "id": "328b4a9e-010c-4557-b1aa-b3f25c236538",
   "metadata": {},
   "source": [
    "## <font color=blue>4.4. - Poisson Dagilimi<font>"
   ]
  },
  {
   "cell_type": "markdown",
   "id": "bc68eb08-d7bb-4cea-8637-d76d47b25f94",
   "metadata": {},
   "source": [
    "${\\displaystyle f(x,\\lambda )={\\frac {\\lambda ^{x}e^{-\\lambda }}{x!}}\\,\\!}$,  x = 0,1,2,...,n"
   ]
  },
  {
   "cell_type": "markdown",
   "id": "4610d105-9cea-4970-8c4c-f9b7121509ea",
   "metadata": {},
   "source": [
    "#### Yeni Kutuphane ekledik ====> from scipy.stats import poisson"
   ]
  },
  {
   "cell_type": "code",
   "execution_count": 48,
   "id": "954c56b1-a0e1-4443-be04-ed381c2abee0",
   "metadata": {},
   "outputs": [],
   "source": [
    "from scipy.stats import poisson"
   ]
  },
  {
   "cell_type": "code",
   "execution_count": 49,
   "id": "53c03444-afa8-41d0-b999-daa1c5f3f19e",
   "metadata": {},
   "outputs": [],
   "source": [
    "lambda_ = 0.1"
   ]
  },
  {
   "cell_type": "code",
   "execution_count": 54,
   "id": "1b14e287-7073-4b37-a69b-9803da380910",
   "metadata": {},
   "outputs": [
    {
     "name": "stdout",
     "output_type": "stream",
     "text": [
      "0.9048374180359595\n",
      "0.00015080623633932676\n",
      "7.54031181696634e-08\n"
     ]
    }
   ],
   "source": [
    "# Problem : Bir sirkette hatali ilan girisi hesaplanmak isteniyor\n",
    "\n",
    "# Bilinen deger Lamda = 0.1 (ortalama hata sayisi)\n",
    "# x = rassal degerin alacagi deger (0, 3, 5)  ===> Hic hata olmamasi, 3 hata olmasi , 5 hata olasi durumu\n",
    "\n",
    "rv = poisson(mu= lambda_)\n",
    "print(rv.pmf(k= 0))\n",
    "print(rv.pmf(k= 3))\n",
    "print(rv.pmf(k= 5))"
   ]
  },
  {
   "cell_type": "markdown",
   "id": "1adda803-c786-49ec-8ecd-e91f990f07bb",
   "metadata": {},
   "source": [
    "## <font color=blue>4.5. - Normal Dagilim<font>\n",
    "    \n",
    "${\\displaystyle f(x\\mid \\mu ,\\sigma ^{2})={\\frac {1}{\\sqrt {2\\pi \\sigma ^{2}}}}e^{-{\\frac {(x-\\mu )^{2}}{2\\sigma ^{2}}}}}$\n",
    "\n",
    "* $\\mu$  ortalama ya da dağılımın beklenen değeri\n",
    "\n",
    "* ${\\displaystyle \\sigma }$  standart sapma\n",
    "\n",
    "* ${\\displaystyle \\sigma ^{2}}$ varyans"
   ]
  },
  {
   "cell_type": "markdown",
   "id": "669de954-c428-493e-940e-65e4c96ce6ee",
   "metadata": {},
   "source": [
    "#### Yeni Kutuphane ekledik ====> from scipy.stats import norm"
   ]
  },
  {
   "cell_type": "code",
   "execution_count": 55,
   "id": "25e94947-dda3-4a6f-8dd9-71b9ee5a03fd",
   "metadata": {},
   "outputs": [],
   "source": [
    "from scipy.stats import norm"
   ]
  },
  {
   "cell_type": "code",
   "execution_count": 61,
   "id": "853ef960-5c74-4cc0-baa5-196cffdfb7fe",
   "metadata": {},
   "outputs": [
    {
     "data": {
      "text/plain": [
       "0.02275013194817921"
      ]
     },
     "execution_count": 61,
     "metadata": {},
     "output_type": "execute_result"
    }
   ],
   "source": [
    "# Problem : Bir sirkette ortalama satis =  80k, standart sapma = 5k,\n",
    "#Dagilim =  Normal (Hipotez ve benzeri testler sonucu dagilimin normal oldugu bulunur)\n",
    "\n",
    "#90K'dan fazla satis yapma olasiligi\n",
    "\n",
    "1-norm.cdf(90, 80, 5)    # ===> 1- norm.cdf(istenen_deger, ortalama, standart_sapma )"
   ]
  },
  {
   "cell_type": "code",
   "execution_count": 62,
   "id": "75f76ff6-8b7a-441c-a435-68e711e81989",
   "metadata": {},
   "outputs": [
    {
     "data": {
      "text/plain": [
       "0.9772498680518208"
      ]
     },
     "execution_count": 62,
     "metadata": {},
     "output_type": "execute_result"
    }
   ],
   "source": [
    "#70K'dan fazla satis yapma olasiligi\n",
    "\n",
    "1-norm.cdf(70, 80, 5)"
   ]
  },
  {
   "cell_type": "code",
   "execution_count": 63,
   "id": "c3b89770-8ef9-4346-b84f-25f87158b13d",
   "metadata": {},
   "outputs": [
    {
     "data": {
      "text/plain": [
       "0.08075665923377107"
      ]
     },
     "execution_count": 63,
     "metadata": {},
     "output_type": "execute_result"
    }
   ],
   "source": [
    "#73K'den az satis yapma olasiligi  (Dikkat 1 -norm yapmadik !!!!)\n",
    "\n",
    "norm.cdf(73, 80, 5)"
   ]
  },
  {
   "cell_type": "code",
   "execution_count": 64,
   "id": "994255a9-5eb4-49c4-bd0d-92b59f5988a2",
   "metadata": {},
   "outputs": [
    {
     "data": {
      "text/plain": [
       "0.13590512198327787"
      ]
     },
     "execution_count": 64,
     "metadata": {},
     "output_type": "execute_result"
    }
   ],
   "source": [
    "# 85 ile 90 arasinda olma olasiligi\n",
    "\n",
    "(1 - norm.cdf(85, 80, 5)) - (1- norm.cdf(90, 80, 5))"
   ]
  },
  {
   "cell_type": "code",
   "execution_count": 66,
   "id": "9db85b05-ce86-48c3-92c2-fd9cf753b231",
   "metadata": {},
   "outputs": [
    {
     "data": {
      "text/plain": [
       "0.13590512198327787"
      ]
     },
     "execution_count": 66,
     "metadata": {},
     "output_type": "execute_result"
    }
   ],
   "source": [
    "# 85 ile 90 arasinda olma olasiligi (Farkli)\n",
    "\n",
    "norm.cdf(90, 80, 5) - norm.cdf(85, 80, 5)"
   ]
  },
  {
   "cell_type": "markdown",
   "id": "cec91e46-2f12-4716-83b0-d21a06564de9",
   "metadata": {},
   "source": [
    "# <font color=red>05 - Hipotez Testleri<font>\n",
    "\n",
    "## <font color=red>05.A - Tek Orneklem T Testi (Parametrik)<font>\n"
   ]
  },
  {
   "cell_type": "markdown",
   "id": "224646e1-b365-4a9c-b83d-4a6de2148f96",
   "metadata": {},
   "source": [
    "Örnek ortalamasına ilişkin test yapmak için kullanılır.\n",
    "\n",
    "**Hipotezler:**\n",
    "\n",
    "<d><i>H</i><sub>0</sub>: <i>μ</i> = <i>50</i></d>   \n",
    "<d><i>H</i><sub>1</sub>: <i>μ</i> ≠ <i>50</i></d><br><br>\n",
    "\n",
    "<d><i>H</i><sub>0</sub>: <i>μ</i> <= <i>50</i></d><br>\n",
    "<d><i>H</i><sub>1</sub>: <i>μ</i> > <i>50</i></d><br><br>\n",
    "\n",
    "<d><i>H</i><sub>0</sub>: <i>μ</i> >= <i>50</i></d><br>\n",
    "<d><i>H</i><sub>1</sub>: <i>μ</i> < <i>50</i></d><br><br>\n",
    "\n",
    "\n",
    "\n",
    "\n",
    "<table></table>\n",
    "\n",
    "**Test İstatistiği:**\n",
    "\n",
    "${\\displaystyle t={\\frac {{\\bar {x}}-\\mu _{0}}{\\frac {s}{\\sqrt {n}}}}}$"
   ]
  },
  {
   "cell_type": "markdown",
   "id": "b382861d-f639-4d40-877e-3b17cc639f54",
   "metadata": {},
   "source": [
    "#### Problem : internet sitemizde gecirilen surenin 170 sn fazla mi az mi oldugu kontrol edilmek isteniyor.\n",
    "##### H0  = 170\n",
    "##### H1 != 170"
   ]
  },
  {
   "cell_type": "code",
   "execution_count": 29,
   "id": "53362aa5-04f6-47bc-ba76-7e7dfc324241",
   "metadata": {},
   "outputs": [],
   "source": [
    "olcumler = np.array([17, 160, 234, 149, 145, 107, 197, 75, 201, 225, 211, 119, \n",
    "              157, 145, 127, 244, 163, 114, 145,  65, 112, 185, 202, 146,\n",
    "              203, 224, 203, 114, 188, 156, 187, 154, 177, 95, 165, 50, 110, \n",
    "              216, 138, 151, 166, 135, 155, 84, 251, 173, 131, 207, 121, 120])"
   ]
  },
  {
   "cell_type": "code",
   "execution_count": 30,
   "id": "1c8ff8bc-6633-4506-9806-98a15b57290d",
   "metadata": {},
   "outputs": [
    {
     "data": {
      "text/plain": [
       "array([ 17, 160, 234, 149, 145, 107, 197,  75, 201, 225])"
      ]
     },
     "execution_count": 30,
     "metadata": {},
     "output_type": "execute_result"
    }
   ],
   "source": [
    "olcumler[0:10]"
   ]
  },
  {
   "cell_type": "markdown",
   "id": "9d1405a2-0290-4bec-9e51-c0be331f30f7",
   "metadata": {},
   "source": [
    "#### Yeni Kutuphane ekledik ====> from scipy.stats import stats"
   ]
  },
  {
   "cell_type": "code",
   "execution_count": 32,
   "id": "9807cc52-64aa-4818-a8fe-416d319d5492",
   "metadata": {},
   "outputs": [],
   "source": [
    "import scipy.stats as stats"
   ]
  },
  {
   "cell_type": "code",
   "execution_count": 168,
   "id": "d31e53b7-5326-4015-87ac-76d68f44cd69",
   "metadata": {},
   "outputs": [
    {
     "data": {
      "text/plain": [
       "DescribeResult(nobs=50, minmax=(17, 251), mean=154.38, variance=2578.0363265306123, skewness=-0.32398897278694483, kurtosis=-0.05849823498415985)"
      ]
     },
     "execution_count": 168,
     "metadata": {},
     "output_type": "execute_result"
    }
   ],
   "source": [
    "# Farkli bir Describe Methodu kullandik (DataFrame olmadan describe yapabilmek icin(numpy formatinin describe i))\n",
    "\n",
    "# nobs = gozlem sayisi\n",
    "# skewnes = carpiklik  (sag - sol)\n",
    "# kurtosis = basiklik  (alt - ust)\n",
    "\n",
    "stats.describe(olcumler)"
   ]
  },
  {
   "cell_type": "code",
   "execution_count": null,
   "id": "6ee654a5-d86d-4981-8e33-53b4b40a533e",
   "metadata": {},
   "outputs": [],
   "source": [
    "# mean = 154 (ortalama gecirilen sure) o zaman neden 170 arastiriyoruz ?\n",
    "# Cevap : Bu olcumler tesadufi olusamaz mi, orneklem yanlis olamaz mi diye."
   ]
  },
  {
   "cell_type": "markdown",
   "id": "1990bba4-39dd-4122-a996-ba5e32909aba",
   "metadata": {},
   "source": [
    "## <font color=blue>5.1 Varsayimlar<font>"
   ]
  },
  {
   "cell_type": "markdown",
   "id": "4e20f7d7-3b4b-4f27-8a31-3dedf1770bd8",
   "metadata": {},
   "source": [
    "### <font color=blue>5.A.1.1 Normallik Varsayimi (Orneklem dagiliminin dagilimi normaldir)<font>"
   ]
  },
  {
   "cell_type": "code",
   "execution_count": 38,
   "id": "972fd2a0-b1f9-48dd-b29a-9ae0d7c59be3",
   "metadata": {},
   "outputs": [
    {
     "data": {
      "image/png": "[encoded data removed]",
      "text/plain": [
       "<Figure size 432x288 with 1 Axes>"
      ]
     },
     "metadata": {
      "needs_background": "light"
     },
     "output_type": "display_data"
    }
   ],
   "source": [
    "# histogram\n",
    "\n",
    "pd.DataFrame(olcumler).plot.hist();"
   ]
  },
  {
   "cell_type": "markdown",
   "id": "0bd8cfc6-575f-41fb-aeb9-216f00e84d23",
   "metadata": {},
   "source": [
    "#### Yeni Kutuphane ekledik ====> import pylab"
   ]
  },
  {
   "cell_type": "code",
   "execution_count": 43,
   "id": "4289f7bc-ff40-40a0-afb7-b262978bd561",
   "metadata": {},
   "outputs": [
    {
     "data": {
      "image/png": "[encoded data removed]",
      "text/plain": [
       "<Figure size 432x288 with 1 Axes>"
      ]
     },
     "metadata": {
      "needs_background": "light"
     },
     "output_type": "display_data"
    }
   ],
   "source": [
    "#qqplot\n",
    "import pylab\n",
    "stats.probplot(olcumler, dist=\"norm\", plot=pylab)\n",
    "pylab.show()"
   ]
  },
  {
   "cell_type": "markdown",
   "id": "7c101107-e8ce-468c-a3f4-fd8c45aee430",
   "metadata": {},
   "source": [
    "## <font color=blue>Shapiro-Wilks Testi<font>\n",
    "H0: Örnek dağılımı ile teorik normal dağılım arasında istatistiksel olarak anlanmli bir farklilik yoktur\n",
    "\n",
    "H1: ... fark vardır\n",
    "    \n",
    "#### <font color=red>Not : H0 i reddetmek istemiyoruz , bu yuzden pvalue > 0.05 olmali !!!!!<font>"
   ]
  },
  {
   "cell_type": "markdown",
   "id": "7d2e041c-2710-4c14-869d-01b36e7d1a5e",
   "metadata": {},
   "source": [
    "#### Yeni Kutuphane ekledik ====> from scipy.stats import shapiro"
   ]
  },
  {
   "cell_type": "code",
   "execution_count": 40,
   "id": "3f8f0503-09d6-46fb-8c2e-8a9d0364399b",
   "metadata": {},
   "outputs": [],
   "source": [
    "from scipy.stats import shapiro"
   ]
  },
  {
   "cell_type": "code",
   "execution_count": 41,
   "id": "ecfd8905-16cb-44e9-a6ca-5db871dbfa4d",
   "metadata": {},
   "outputs": [
    {
     "data": {
      "text/plain": [
       "ShapiroResult(statistic=0.9853105545043945, pvalue=0.7848747968673706)"
      ]
     },
     "execution_count": 41,
     "metadata": {},
     "output_type": "execute_result"
    }
   ],
   "source": [
    "shapiro(olcumler)"
   ]
  },
  {
   "cell_type": "code",
   "execution_count": 44,
   "id": "715c61e9-9d3f-41ef-93cb-4cda6a0a3b5b",
   "metadata": {},
   "outputs": [
    {
     "name": "stdout",
     "output_type": "stream",
     "text": [
      "Test Hesap istatistigi:  0.9853105545043945\n",
      "Hesaplanan P - Value:  0.7848747968673706\n"
     ]
    }
   ],
   "source": [
    "print('Test Hesap istatistigi: ', shapiro(olcumler)[0])\n",
    "print('Hesaplanan P - Value: ', shapiro(olcumler)[1])"
   ]
  },
  {
   "cell_type": "markdown",
   "id": "3f3d1764-fdce-4c92-a8a4-031b83ba24a5",
   "metadata": {},
   "source": [
    "## Testin Uygulanmasi"
   ]
  },
  {
   "cell_type": "code",
   "execution_count": 45,
   "id": "0ef39a52-f162-44d2-8a03-3c8907862e66",
   "metadata": {},
   "outputs": [
    {
     "data": {
      "text/plain": [
       "Ttest_1sampResult(statistic=-2.1753117985877966, pvalue=0.034460415195071446)"
      ]
     },
     "execution_count": 45,
     "metadata": {},
     "output_type": "execute_result"
    }
   ],
   "source": [
    "stats.ttest_1samp(olcumler, popmean= 170)"
   ]
  },
  {
   "cell_type": "markdown",
   "id": "8d718179-7601-4d83-8f01-c600d8f0de9d",
   "metadata": {},
   "source": [
    "Not: P - Value < 0.05 oldugu icin , internet sitesinde gecirilen sure 170'tir.\n",
    "\n",
    "H0 = 170 dogrudur. (ret edilmez)\n",
    "\n",
    "H1 ≠ 170 yanlistir. (ret edilir)"
   ]
  },
  {
   "cell_type": "markdown",
   "id": "780c0309-1930-44e8-ab12-3e4f6d0b7978",
   "metadata": {},
   "source": [
    "## <font color=red>05.B - Nonparametrik Tek Orneklem Testi <font>"
   ]
  },
  {
   "cell_type": "markdown",
   "id": "c4c24ba7-6dce-4e9f-bc13-54756ac83fcb",
   "metadata": {},
   "source": [
    "#### Yeni Kutuphane ekledik ====> from statsmodels.stats.descriptivestats import sign_test"
   ]
  },
  {
   "cell_type": "code",
   "execution_count": 47,
   "id": "4aa8a7c9-b33c-4583-9cfb-5c795e6bc844",
   "metadata": {},
   "outputs": [],
   "source": [
    "from statsmodels.stats.descriptivestats import sign_test"
   ]
  },
  {
   "cell_type": "code",
   "execution_count": 48,
   "id": "31bb096b-5952-434e-ba9a-7bbcfd008af8",
   "metadata": {},
   "outputs": [
    {
     "data": {
      "text/plain": [
       "(-7.0, 0.06490864707227217)"
      ]
     },
     "execution_count": 48,
     "metadata": {},
     "output_type": "execute_result"
    }
   ],
   "source": [
    "sign_test(olcumler, 170)"
   ]
  },
  {
   "cell_type": "markdown",
   "id": "ad8dccde-7d85-4218-ba57-f4a38cc96108",
   "metadata": {},
   "source": [
    "Not1 : Genellikle solda Test istatistigi , sagdaki de P -Value degeridir.\n",
    "\n",
    "Not2 : Dagilim carpik oldugunda ortalama ve parametrik test kullanilamaz. Eger elimizdeki olcumler paratmetrik varsayimlari saglamasaydi nonparametrik testi yapar ve P-Value degerine gore yorum yapardik.\n",
    "\n",
    "Not3 : P - Value < 0.05 degil ......????? "
   ]
  },
  {
   "cell_type": "markdown",
   "id": "a3be47ef-0a65-4072-ac22-8b2d1b2ef796",
   "metadata": {},
   "source": [
    "## <font color=red>05.C - Tek Orneklem Oran Testi <font>\n",
    "    \n",
    "H0: p = 0.125\n",
    "    \n",
    "H1: p != 0.125"
   ]
  },
  {
   "cell_type": "markdown",
   "id": "bab73235-e76e-42a4-ae37-9ca2bba40f2f",
   "metadata": {},
   "source": [
    "Problem : Bir reklamin donusum orani 0.125 olarak bize bildirilmis. Bunu kontrol etmek istiyoruz\n",
    "\n",
    "Detaylar: 500 kisi dis mecracada reklama tiklamis , 40 tanesi alisveris yapmis.\n",
    "\n",
    "ornek uzerinden donusum orani : 50 / 400 = 0.08 (Yani 0.125 yanlis demek, bunu ispatlayacagiz)"
   ]
  },
  {
   "cell_type": "markdown",
   "id": "22e03ad0-7e18-408c-b247-1a6b83cee5dc",
   "metadata": {},
   "source": [
    "#### Yeni Kutuphane ekledik ====> from statsmodels.stats.proportion import proportions_ztest"
   ]
  },
  {
   "cell_type": "code",
   "execution_count": 50,
   "id": "997fcc6a-c3e5-4e2c-9bb0-ff776baa7510",
   "metadata": {},
   "outputs": [],
   "source": [
    "from statsmodels.stats.proportion import proportions_ztest"
   ]
  },
  {
   "cell_type": "code",
   "execution_count": 51,
   "id": "8460a78a-da14-413f-b01f-9559a610e368",
   "metadata": {},
   "outputs": [],
   "source": [
    "count = 40\n",
    "nobs = 500\n",
    "value = 0.125"
   ]
  },
  {
   "cell_type": "code",
   "execution_count": 52,
   "id": "ed879588-b56e-4a56-9167-5188b5b1e2b1",
   "metadata": {},
   "outputs": [
    {
     "data": {
      "text/plain": [
       "(-3.7090151628513017, 0.0002080669689845979)"
      ]
     },
     "execution_count": 52,
     "metadata": {},
     "output_type": "execute_result"
    }
   ],
   "source": [
    "proportions_ztest(count, nobs, value)"
   ]
  },
  {
   "cell_type": "code",
   "execution_count": null,
   "id": "ea72771b-ba2c-47ab-9995-3abe3c3f11e3",
   "metadata": {},
   "outputs": [],
   "source": [
    "# Sonuc = P-Value < 0.05 old. icin H0 ret edilir."
   ]
  },
  {
   "cell_type": "markdown",
   "id": "56eb2efe-1c22-4894-b3bb-a0f4697d9220",
   "metadata": {},
   "source": [
    "## <font color=red>05.D - Bagimsiz iki Orneklem  Testi (Parametrik)<font>\n",
    "    \n",
    "H0: M1 = M2\n",
    "    \n",
    "H1: M1!= M2\n",
    "    \n",
    "Problem : Yeni ML uygulanan sistemin geliri artirip artirmadigini kontrol ediyoruz , eski sistem ile elde edilen gelirleri, yeni ML ile elde edilen gelirler ile (ortalama) karsilastiriyoruz."
   ]
  },
  {
   "cell_type": "code",
   "execution_count": 53,
   "id": "f6ac2d1c-eab9-4481-a1f9-9be1518dc34a",
   "metadata": {},
   "outputs": [],
   "source": [
    "# Veri Tipi I"
   ]
  },
  {
   "cell_type": "code",
   "execution_count": 54,
   "id": "7699a6c5-c946-4b8f-8c20-47a7c8b5dac3",
   "metadata": {},
   "outputs": [
    {
     "data": {
      "text/html": [
       "<div>\n",
       "<style scoped>\n",
       "    .dataframe tbody tr th:only-of-type {\n",
       "        vertical-align: middle;\n",
       "    }\n",
       "\n",
       "    .dataframe tbody tr th {\n",
       "        vertical-align: top;\n",
       "    }\n",
       "\n",
       "    .dataframe thead th {\n",
       "        text-align: right;\n",
       "    }\n",
       "</style>\n",
       "<table border=\"1\" class=\"dataframe\">\n",
       "  <thead>\n",
       "    <tr style=\"text-align: right;\">\n",
       "      <th></th>\n",
       "      <th>A</th>\n",
       "      <th>B</th>\n",
       "    </tr>\n",
       "  </thead>\n",
       "  <tbody>\n",
       "    <tr>\n",
       "      <th>0</th>\n",
       "      <td>30</td>\n",
       "      <td>37</td>\n",
       "    </tr>\n",
       "    <tr>\n",
       "      <th>1</th>\n",
       "      <td>27</td>\n",
       "      <td>39</td>\n",
       "    </tr>\n",
       "    <tr>\n",
       "      <th>2</th>\n",
       "      <td>21</td>\n",
       "      <td>31</td>\n",
       "    </tr>\n",
       "    <tr>\n",
       "      <th>3</th>\n",
       "      <td>27</td>\n",
       "      <td>31</td>\n",
       "    </tr>\n",
       "    <tr>\n",
       "      <th>4</th>\n",
       "      <td>29</td>\n",
       "      <td>34</td>\n",
       "    </tr>\n",
       "  </tbody>\n",
       "</table>\n",
       "</div>"
      ],
      "text/plain": [
       "    A   B\n",
       "0  30  37\n",
       "1  27  39\n",
       "2  21  31\n",
       "3  27  31\n",
       "4  29  34"
      ]
     },
     "execution_count": 54,
     "metadata": {},
     "output_type": "execute_result"
    }
   ],
   "source": [
    "A = pd.DataFrame([30,27,21,27,29,30,20,20,27,32,35,22,24,23,25,27,23,27,23,\n",
    "        25,21,18,24,26,33,26,27,28,19,25])\n",
    "\n",
    "B = pd.DataFrame([37,39,31,31,34,38,30,36,29,28,38,28,37,37,30,32,31,31,27,\n",
    "        32,33,33,33,31,32,33,26,32,33,29])\n",
    "\n",
    "\n",
    "A_B = pd.concat([A, B], axis = 1)\n",
    "A_B.columns = [\"A\",\"B\"]\n",
    "\n",
    "A_B.head()"
   ]
  },
  {
   "cell_type": "code",
   "execution_count": 55,
   "id": "a30278e4-ee95-43ae-af7f-6a6558216135",
   "metadata": {},
   "outputs": [],
   "source": [
    "# Veri Tipi II\n",
    "\n",
    "#En zor sekli duzenli sekli ile duzenliyebilirsin"
   ]
  },
  {
   "cell_type": "code",
   "execution_count": 170,
   "id": "3a53fc1b-291a-4dbf-a1e4-6215f72d8883",
   "metadata": {},
   "outputs": [
    {
     "name": "stdout",
     "output_type": "stream",
     "text": [
      "   gelir GRUP\n",
      "0     30    A\n",
      "1     27    A\n",
      "2     21    A\n",
      "3     27    A\n",
      "4     29    A\n",
      "    gelir GRUP\n",
      "25     33    B\n",
      "26     26    B\n",
      "27     32    B\n",
      "28     33    B\n",
      "29     29    B\n"
     ]
    }
   ],
   "source": [
    "A = pd.DataFrame([30,27,21,27,29,30,20,20,27,32,35,22,24,23,25,27,23,27,23,\n",
    "        25,21,18,24,26,33,26,27,28,19,25])\n",
    "\n",
    "B = pd.DataFrame([37,39,31,31,34,38,30,36,29,28,38,28,37,37,30,32,31,31,27,\n",
    "        32,33,33,33,31,32,33,26,32,33,29])\n",
    "\n",
    "#A ve A'nın grubu                     \n",
    "GRUP_A = np.arange(len(A))\n",
    "GRUP_A = pd.DataFrame(GRUP_A)\n",
    "GRUP_A[:] = \"A\"\n",
    "A = pd.concat([A, GRUP_A], axis = 1)\n",
    "\n",
    "#B ve B'nin Grubu\n",
    "GRUP_B = np.arange(len(B))\n",
    "GRUP_B = pd.DataFrame(GRUP_B)\n",
    "GRUP_B[:] = \"B\"\n",
    "B = pd.concat([B, GRUP_B], axis = 1)\n",
    "\n",
    "#Tum veri\n",
    "AB = pd.concat([A,B])\n",
    "AB.columns = [\"gelir\",\"GRUP\"]\n",
    "print(AB.head())\n",
    "print(AB.tail())"
   ]
  },
  {
   "cell_type": "code",
   "execution_count": 172,
   "id": "89076433-24ac-45ff-8873-6c2d00296a22",
   "metadata": {},
   "outputs": [
    {
     "data": {
      "text/html": [
       "<div>\n",
       "<style scoped>\n",
       "    .dataframe tbody tr th:only-of-type {\n",
       "        vertical-align: middle;\n",
       "    }\n",
       "\n",
       "    .dataframe tbody tr th {\n",
       "        vertical-align: top;\n",
       "    }\n",
       "\n",
       "    .dataframe thead th {\n",
       "        text-align: right;\n",
       "    }\n",
       "</style>\n",
       "<table border=\"1\" class=\"dataframe\">\n",
       "  <thead>\n",
       "    <tr style=\"text-align: right;\">\n",
       "      <th></th>\n",
       "      <th>0</th>\n",
       "      <th>0</th>\n",
       "    </tr>\n",
       "  </thead>\n",
       "  <tbody>\n",
       "    <tr>\n",
       "      <th>0</th>\n",
       "      <td>30</td>\n",
       "      <td>A</td>\n",
       "    </tr>\n",
       "    <tr>\n",
       "      <th>1</th>\n",
       "      <td>27</td>\n",
       "      <td>A</td>\n",
       "    </tr>\n",
       "    <tr>\n",
       "      <th>2</th>\n",
       "      <td>21</td>\n",
       "      <td>A</td>\n",
       "    </tr>\n",
       "  </tbody>\n",
       "</table>\n",
       "</div>"
      ],
      "text/plain": [
       "    0  0\n",
       "0  30  A\n",
       "1  27  A\n",
       "2  21  A"
      ]
     },
     "execution_count": 172,
     "metadata": {},
     "output_type": "execute_result"
    }
   ],
   "source": [
    "A.head(3)"
   ]
  },
  {
   "cell_type": "code",
   "execution_count": 173,
   "id": "2dd5ae64-0de0-442f-8f42-fb8573cb55e1",
   "metadata": {},
   "outputs": [
    {
     "data": {
      "text/html": [
       "<div>\n",
       "<style scoped>\n",
       "    .dataframe tbody tr th:only-of-type {\n",
       "        vertical-align: middle;\n",
       "    }\n",
       "\n",
       "    .dataframe tbody tr th {\n",
       "        vertical-align: top;\n",
       "    }\n",
       "\n",
       "    .dataframe thead th {\n",
       "        text-align: right;\n",
       "    }\n",
       "</style>\n",
       "<table border=\"1\" class=\"dataframe\">\n",
       "  <thead>\n",
       "    <tr style=\"text-align: right;\">\n",
       "      <th></th>\n",
       "      <th>0</th>\n",
       "      <th>0</th>\n",
       "    </tr>\n",
       "  </thead>\n",
       "  <tbody>\n",
       "    <tr>\n",
       "      <th>0</th>\n",
       "      <td>37</td>\n",
       "      <td>B</td>\n",
       "    </tr>\n",
       "    <tr>\n",
       "      <th>1</th>\n",
       "      <td>39</td>\n",
       "      <td>B</td>\n",
       "    </tr>\n",
       "    <tr>\n",
       "      <th>2</th>\n",
       "      <td>31</td>\n",
       "      <td>B</td>\n",
       "    </tr>\n",
       "  </tbody>\n",
       "</table>\n",
       "</div>"
      ],
      "text/plain": [
       "    0  0\n",
       "0  37  B\n",
       "1  39  B\n",
       "2  31  B"
      ]
     },
     "execution_count": 173,
     "metadata": {},
     "output_type": "execute_result"
    }
   ],
   "source": [
    "B.head(3)"
   ]
  },
  {
   "cell_type": "code",
   "execution_count": 85,
   "id": "05a515c7-eb4b-4c7e-a27d-07e3f257cb4f",
   "metadata": {},
   "outputs": [
    {
     "data": {
      "image/png": "[encoded data removed]",
      "text/plain": [
       "<Figure size 432x288 with 1 Axes>"
      ]
     },
     "metadata": {
      "needs_background": "light"
     },
     "output_type": "display_data"
    }
   ],
   "source": [
    "sns.boxplot(x= 'GRUP', y= 'gelir', data= AB);"
   ]
  },
  {
   "cell_type": "markdown",
   "id": "5ec3cf26-d2d0-437d-9f2f-3072b5ed5655",
   "metadata": {},
   "source": [
    "# Varsayim Kontrolu"
   ]
  },
  {
   "cell_type": "code",
   "execution_count": 86,
   "id": "ced2701c-5cc0-42ff-bd93-6937ff71117d",
   "metadata": {},
   "outputs": [
    {
     "data": {
      "text/html": [
       "<div>\n",
       "<style scoped>\n",
       "    .dataframe tbody tr th:only-of-type {\n",
       "        vertical-align: middle;\n",
       "    }\n",
       "\n",
       "    .dataframe tbody tr th {\n",
       "        vertical-align: top;\n",
       "    }\n",
       "\n",
       "    .dataframe thead th {\n",
       "        text-align: right;\n",
       "    }\n",
       "</style>\n",
       "<table border=\"1\" class=\"dataframe\">\n",
       "  <thead>\n",
       "    <tr style=\"text-align: right;\">\n",
       "      <th></th>\n",
       "      <th>A</th>\n",
       "      <th>B</th>\n",
       "    </tr>\n",
       "  </thead>\n",
       "  <tbody>\n",
       "    <tr>\n",
       "      <th>0</th>\n",
       "      <td>30</td>\n",
       "      <td>37</td>\n",
       "    </tr>\n",
       "    <tr>\n",
       "      <th>1</th>\n",
       "      <td>27</td>\n",
       "      <td>39</td>\n",
       "    </tr>\n",
       "    <tr>\n",
       "      <th>2</th>\n",
       "      <td>21</td>\n",
       "      <td>31</td>\n",
       "    </tr>\n",
       "    <tr>\n",
       "      <th>3</th>\n",
       "      <td>27</td>\n",
       "      <td>31</td>\n",
       "    </tr>\n",
       "    <tr>\n",
       "      <th>4</th>\n",
       "      <td>29</td>\n",
       "      <td>34</td>\n",
       "    </tr>\n",
       "  </tbody>\n",
       "</table>\n",
       "</div>"
      ],
      "text/plain": [
       "    A   B\n",
       "0  30  37\n",
       "1  27  39\n",
       "2  21  31\n",
       "3  27  31\n",
       "4  29  34"
      ]
     },
     "execution_count": 86,
     "metadata": {},
     "output_type": "execute_result"
    }
   ],
   "source": [
    "A_B.head()"
   ]
  },
  {
   "cell_type": "code",
   "execution_count": 87,
   "id": "2a49d1d0-2a3a-4385-80b6-a590de3e70cb",
   "metadata": {},
   "outputs": [
    {
     "data": {
      "text/html": [
       "<div>\n",
       "<style scoped>\n",
       "    .dataframe tbody tr th:only-of-type {\n",
       "        vertical-align: middle;\n",
       "    }\n",
       "\n",
       "    .dataframe tbody tr th {\n",
       "        vertical-align: top;\n",
       "    }\n",
       "\n",
       "    .dataframe thead th {\n",
       "        text-align: right;\n",
       "    }\n",
       "</style>\n",
       "<table border=\"1\" class=\"dataframe\">\n",
       "  <thead>\n",
       "    <tr style=\"text-align: right;\">\n",
       "      <th></th>\n",
       "      <th>gelir</th>\n",
       "      <th>GRUP</th>\n",
       "    </tr>\n",
       "  </thead>\n",
       "  <tbody>\n",
       "    <tr>\n",
       "      <th>0</th>\n",
       "      <td>30</td>\n",
       "      <td>A</td>\n",
       "    </tr>\n",
       "    <tr>\n",
       "      <th>1</th>\n",
       "      <td>27</td>\n",
       "      <td>A</td>\n",
       "    </tr>\n",
       "    <tr>\n",
       "      <th>2</th>\n",
       "      <td>21</td>\n",
       "      <td>A</td>\n",
       "    </tr>\n",
       "    <tr>\n",
       "      <th>3</th>\n",
       "      <td>27</td>\n",
       "      <td>A</td>\n",
       "    </tr>\n",
       "    <tr>\n",
       "      <th>4</th>\n",
       "      <td>29</td>\n",
       "      <td>A</td>\n",
       "    </tr>\n",
       "  </tbody>\n",
       "</table>\n",
       "</div>"
      ],
      "text/plain": [
       "   gelir GRUP\n",
       "0     30    A\n",
       "1     27    A\n",
       "2     21    A\n",
       "3     27    A\n",
       "4     29    A"
      ]
     },
     "execution_count": 87,
     "metadata": {},
     "output_type": "execute_result"
    }
   ],
   "source": [
    "AB.head()"
   ]
  },
  {
   "cell_type": "markdown",
   "id": "5d0ad5ff-b9f5-4f40-b06d-1285170c99d1",
   "metadata": {},
   "source": [
    "### Normallik Varsayimi (Shaprio Testi)"
   ]
  },
  {
   "cell_type": "code",
   "execution_count": 91,
   "id": "0cc4627d-67a5-4293-94d6-edfe65246120",
   "metadata": {},
   "outputs": [
    {
     "data": {
      "text/plain": [
       "ShapiroResult(statistic=0.9789242148399353, pvalue=0.7962799668312073)"
      ]
     },
     "execution_count": 91,
     "metadata": {},
     "output_type": "execute_result"
    }
   ],
   "source": [
    "shapiro(A_B.A)  # A icin P-Value >0.05 old. icin H0 ret edilmez , dagilimlar aynidir"
   ]
  },
  {
   "cell_type": "code",
   "execution_count": 93,
   "id": "fab666a9-d5f0-4214-b8b3-a658ef358ffa",
   "metadata": {},
   "outputs": [
    {
     "data": {
      "text/plain": [
       "ShapiroResult(statistic=0.9561261534690857, pvalue=0.2458445429801941)"
      ]
     },
     "execution_count": 93,
     "metadata": {},
     "output_type": "execute_result"
    }
   ],
   "source": [
    "shapiro(A_B.B)  # B icin P-Value >0.05 old. icin H0 ret edilmez , dagilimlar aynidir"
   ]
  },
  {
   "cell_type": "markdown",
   "id": "557c1419-0612-4834-87eb-2b7bda59dfe8",
   "metadata": {},
   "source": [
    "### Varyans Homojenligi Varsayimi\n",
    "\n",
    "H0: varyanslar Homojendir\n",
    "\n",
    "H1: varyanslar Hom. degildir."
   ]
  },
  {
   "cell_type": "code",
   "execution_count": 94,
   "id": "59463bee-c673-427a-975f-6cf2acf2d99d",
   "metadata": {},
   "outputs": [
    {
     "data": {
      "text/plain": [
       "LeveneResult(statistic=1.1101802757158004, pvalue=0.2964124900636569)"
      ]
     },
     "execution_count": 94,
     "metadata": {},
     "output_type": "execute_result"
    }
   ],
   "source": [
    "stats.levene(A_B.A, A_B.B)  # P-Value >0.05 old. icin H0 ret edilmez, Vary. Homojendir"
   ]
  },
  {
   "cell_type": "markdown",
   "id": "6d8c5d43-73d2-484e-b98f-0075d54749de",
   "metadata": {},
   "source": [
    "# Hipotez Testin Uygulanmasi (A\\B Testi)"
   ]
  },
  {
   "cell_type": "code",
   "execution_count": 174,
   "id": "98266246-00f2-498b-a45f-ebfe01fd15b7",
   "metadata": {},
   "outputs": [
    {
     "data": {
      "text/plain": [
       "Ttest_indResult(statistic=-7.028690967745927, pvalue=2.6233215605475075e-09)"
      ]
     },
     "execution_count": 174,
     "metadata": {},
     "output_type": "execute_result"
    }
   ],
   "source": [
    "stats.ttest_ind(A_B['A'], A_B['B'], equal_var= True)"
   ]
  },
  {
   "cell_type": "code",
   "execution_count": 96,
   "id": "34d18866-a627-4baf-8d30-11381ba88db9",
   "metadata": {},
   "outputs": [
    {
     "name": "stdout",
     "output_type": "stream",
     "text": [
      "Test İstatistiği = -7.0287, p-değeri = 0.0000\n"
     ]
    }
   ],
   "source": [
    "test_istatistigi, pvalue = stats.ttest_ind(A_B[\"A\"], A_B[\"B\"], equal_var=True)\n",
    "print('Test İstatistiği = %.4f, p-değeri = %.4f' % (test_istatistigi, pvalue))"
   ]
  },
  {
   "cell_type": "markdown",
   "id": "989e04e2-9d66-486d-b3bf-53eb0de33c3a",
   "metadata": {},
   "source": [
    "--------------------------- Sonuc -------------------------------------\n",
    "\n",
    "1-  Iki sistemin gelir karsilastirilmasi yapiliyor. (ortalamalari karsilastiriliyor)\n",
    "\n",
    "2 - P-Value degeri < 0.05 old. icin H0 ret edilmez.\n",
    "\n",
    "3-  \n",
    "H0: M1 = M2   (gelir ortalamari esittir)\n",
    "    \n",
    "H1: M1!= M2   (gelir ort. esit degildir.)\n",
    "    \n",
    "4 - iki sistemin gelir ortalamalari esit degildir SONUCUNA ulasiyoruz."
   ]
  },
  {
   "cell_type": "markdown",
   "id": "2b9d563b-e565-4e40-85fe-a311fa31457b",
   "metadata": {},
   "source": [
    "## <font color=red>05.E -  Nonparametrik Bagimsiz iki Orneklem Testi <font>"
   ]
  },
  {
   "cell_type": "markdown",
   "id": "a4f0d859-494f-4774-9484-0e51ac0d3cdd",
   "metadata": {},
   "source": [
    "Ne zaman kullainilir:\n",
    "\n",
    "Hem Normallik varsayimi, hem de Varyans Homejenligi saglanmiyorsa \n",
    "Nonparametrik iki Orneklem Testi yapilir."
   ]
  },
  {
   "cell_type": "code",
   "execution_count": 175,
   "id": "9d72ead3-b047-4221-9fdf-30e7b8c43ca3",
   "metadata": {},
   "outputs": [
    {
     "data": {
      "text/plain": [
       "MannwhitneyuResult(statistic=89.5, pvalue=9.557950378612535e-08)"
      ]
     },
     "execution_count": 175,
     "metadata": {},
     "output_type": "execute_result"
    }
   ],
   "source": [
    "stats.mannwhitneyu(A_B['A'], A_B['B'])"
   ]
  },
  {
   "cell_type": "code",
   "execution_count": 100,
   "id": "18479d95-6b7e-4091-9d46-17ec2bb72c33",
   "metadata": {},
   "outputs": [
    {
     "name": "stdout",
     "output_type": "stream",
     "text": [
      "Test İstatistiği = 89.5000, p-değeri = 0.0000\n"
     ]
    }
   ],
   "source": [
    "test_istatistigi, pvalue = stats.mannwhitneyu(A_B['A'], A_B['B'])\n",
    "print('Test İstatistiği = %.4f, p-değeri = %.4f' % (test_istatistigi, pvalue))"
   ]
  },
  {
   "cell_type": "markdown",
   "id": "3b14246f-4d78-46ff-939a-c6b961e938e2",
   "metadata": {},
   "source": [
    "Sonuc: p < 0.05 oldugu icin \n",
    "m1 = m2 (mu) ret edilir,\n",
    "Hem parametrik yaklasim ile hemde nonparametrik yaklasim ile bu farki ispat ettik."
   ]
  },
  {
   "cell_type": "markdown",
   "id": "bf6f9a32-a8e0-48f1-b88c-16ccff551abb",
   "metadata": {},
   "source": [
    "# <font color=red>05.F - Parametrik Bagimli iki Orneklem Testi <font>"
   ]
  },
  {
   "cell_type": "code",
   "execution_count": null,
   "id": "752581c3-bbca-4ae4-9517-4da43266a827",
   "metadata": {},
   "outputs": [],
   "source": []
  }
 ],
 "metadata": {
  "kernelspec": {
   "display_name": "Python 3 (ipykernel)",
   "language": "python",
   "name": "python3"
  },
  "language_info": {
   "codemirror_mode": {
    "name": "ipython",
    "version": 3
   },
   "file_extension": ".py",
   "mimetype": "text/x-python",
   "name": "python",
   "nbconvert_exporter": "python",
   "pygments_lexer": "ipython3",
   "version": "3.8.8"
  }
 },
 "nbformat": 4,
 "nbformat_minor": 5
}

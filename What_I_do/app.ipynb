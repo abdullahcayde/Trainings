{
 "cells": [
  {
   "cell_type": "code",
   "execution_count": 1,
   "id": "391d76d5-71f0-465a-945b-6614b4739759",
   "metadata": {},
   "outputs": [],
   "source": [
    "import pandas as pd\n",
    "import plotly.express as px\n",
    "import streamlit as st\n",
    "\n",
    "\n",
    "st.set_page_config(page_title='Sales Dashboard' ,page_icon=':bar_chart:', layout='wide')"
   ]
  },
  {
   "cell_type": "code",
   "execution_count": 2,
   "id": "4b5a0540-a391-47b7-bba4-a1d6de72ec4a",
   "metadata": {},
   "outputs": [],
   "source": [
    "# Read Excel\n",
    "\n",
    "#@st.cache\n",
    "\n",
    "def get_data_from_excel():\n",
    "    df = pd.read_excel(\n",
    "        io=\"supermarkt_sales.xlsx\",\n",
    "        engine=\"openpyxl\",\n",
    "        sheet_name=\"Sales\",\n",
    "        skiprows=3,\n",
    "        usecols=\"B:R\",\n",
    "        nrows=1000,\n",
    "    )\n",
    "    df\n",
    "    df['hour'] = pd.to_datetime(df['Time'], format='%H:%M:%S').dt.hour\n",
    "    return df\n",
    "\n",
    "\n",
    "df = get_data_from_excel()"
   ]
  },
  {
   "cell_type": "code",
   "execution_count": 3,
   "id": "adbef14b-5c3a-4844-8c17-34c48a44611a",
   "metadata": {},
   "outputs": [
    {
     "name": "stderr",
     "output_type": "stream",
     "text": [
      "2023-01-22 16:17:58.660 \n",
      "  \u001b[33m\u001b[1mWarning:\u001b[0m to view this Streamlit app on a browser, run it with the following\n",
      "  command:\n",
      "\n",
      "    streamlit run /opt/anaconda3/lib/python3.9/site-packages/ipykernel_launcher.py [ARGUMENTS]\n"
     ]
    }
   ],
   "source": [
    "# ---- Side Bar ----\n",
    "\n",
    "st.sidebar.header('Please Filter Here')\n",
    "\n",
    "city = st.sidebar.multiselect(\n",
    "        'Select City :',\n",
    "        options = df['City'].unique(),\n",
    "        default = df['City'].unique()\n",
    ")"
   ]
  },
  {
   "cell_type": "code",
   "execution_count": 4,
   "id": "0040de18-7496-4a31-b74c-2750fd3bf886",
   "metadata": {},
   "outputs": [
    {
     "data": {
      "text/html": [
       "<div>\n",
       "<style scoped>\n",
       "    .dataframe tbody tr th:only-of-type {\n",
       "        vertical-align: middle;\n",
       "    }\n",
       "\n",
       "    .dataframe tbody tr th {\n",
       "        vertical-align: top;\n",
       "    }\n",
       "\n",
       "    .dataframe thead th {\n",
       "        text-align: right;\n",
       "    }\n",
       "</style>\n",
       "<table border=\"1\" class=\"dataframe\">\n",
       "  <thead>\n",
       "    <tr style=\"text-align: right;\">\n",
       "      <th></th>\n",
       "      <th>Total</th>\n",
       "    </tr>\n",
       "    <tr>\n",
       "      <th>Product line</th>\n",
       "      <th></th>\n",
       "    </tr>\n",
       "  </thead>\n",
       "  <tbody>\n",
       "    <tr>\n",
       "      <th>Health and beauty</th>\n",
       "      <td>49193.7390</td>\n",
       "    </tr>\n",
       "    <tr>\n",
       "      <th>Home and lifestyle</th>\n",
       "      <td>53861.9130</td>\n",
       "    </tr>\n",
       "    <tr>\n",
       "      <th>Fashion accessories</th>\n",
       "      <td>54305.8950</td>\n",
       "    </tr>\n",
       "    <tr>\n",
       "      <th>Electronic accessories</th>\n",
       "      <td>54337.5315</td>\n",
       "    </tr>\n",
       "    <tr>\n",
       "      <th>Sports and travel</th>\n",
       "      <td>55122.8265</td>\n",
       "    </tr>\n",
       "    <tr>\n",
       "      <th>Food and beverages</th>\n",
       "      <td>56144.8440</td>\n",
       "    </tr>\n",
       "  </tbody>\n",
       "</table>\n",
       "</div>"
      ],
      "text/plain": [
       "                             Total\n",
       "Product line                      \n",
       "Health and beauty       49193.7390\n",
       "Home and lifestyle      53861.9130\n",
       "Fashion accessories     54305.8950\n",
       "Electronic accessories  54337.5315\n",
       "Sports and travel       55122.8265\n",
       "Food and beverages      56144.8440"
      ]
     },
     "execution_count": 4,
     "metadata": {},
     "output_type": "execute_result"
    }
   ],
   "source": [
    "df.groupby(by=[\"Product line\"]).sum()[[\"Total\"]].sort_values(by=\"Total\")"
   ]
  },
  {
   "cell_type": "code",
   "execution_count": 5,
   "id": "05583b73-5947-4c87-aebb-f0e0f4a8b2b2",
   "metadata": {},
   "outputs": [
    {
     "data": {
      "text/plain": [
       "'/Users/macbook/Desktop/projects/Github_Repositories/Trainings/What_I_do'"
      ]
     },
     "execution_count": 5,
     "metadata": {},
     "output_type": "execute_result"
    }
   ],
   "source": [
    "pwd"
   ]
  },
  {
   "cell_type": "code",
   "execution_count": 11,
   "id": "aa05e775-9841-4349-930e-0f68282cf219",
   "metadata": {},
   "outputs": [
    {
     "name": "stdout",
     "output_type": "stream",
     "text": [
      "\u001b[33mWARNING: Package(s) not found: python\u001b[0m\n",
      "Note: you may need to restart the kernel to use updated packages.\n"
     ]
    }
   ],
   "source": [
    "pip show "
   ]
  },
  {
   "cell_type": "code",
   "execution_count": 8,
   "id": "c18a4393-1227-46cd-b261-38df0ca69b72",
   "metadata": {},
   "outputs": [
    {
     "name": "stdout",
     "output_type": "stream",
     "text": [
      "Name: pandas\n",
      "Version: 1.4.2\n",
      "Summary: Powerful data structures for data analysis, time series, and statistics\n",
      "Home-page: https://pandas.pydata.org\n",
      "Author: The Pandas Development Team\n",
      "Author-email: pandas-dev@python.org\n",
      "License: BSD-3-Clause\n",
      "Location: /opt/anaconda3/lib/python3.9/site-packages\n",
      "Requires: python-dateutil, pytz, numpy\n",
      "Required-by: yfinance, xarray, streamlit, statsmodels, seaborn, researchpy, mplfinance, mlxtend, mitosheet, hvplot, holoviews, geopandas, datashader, bioinfokit, altair\n",
      "Note: you may need to restart the kernel to use updated packages.\n"
     ]
    }
   ],
   "source": [
    "pip show pandas"
   ]
  },
  {
   "cell_type": "code",
   "execution_count": null,
   "id": "67d92be9-71dc-4df5-94d4-df5cf5ad50ce",
   "metadata": {},
   "outputs": [],
   "source": []
  }
 ],
 "metadata": {
  "kernelspec": {
   "display_name": "Python 3 (ipykernel)",
   "language": "python",
   "name": "python3"
  },
  "language_info": {
   "codemirror_mode": {
    "name": "ipython",
    "version": 3
   },
   "file_extension": ".py",
   "mimetype": "text/x-python",
   "name": "python",
   "nbconvert_exporter": "python",
   "pygments_lexer": "ipython3",
   "version": "3.9.12"
  }
 },
 "nbformat": 4,
 "nbformat_minor": 5
}

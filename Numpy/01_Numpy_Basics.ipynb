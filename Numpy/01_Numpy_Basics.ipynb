{
 "cells": [
  {
   "cell_type": "markdown",
   "id": "ea1ee793-d05f-4eb7-9ffc-33b2f4e2b030",
   "metadata": {},
   "source": [
    "# Neden Numpy ? (One #)"
   ]
  },
  {
   "cell_type": "markdown",
   "id": "04d479c2-20f3-411f-a232-ca9f9cd80f8c",
   "metadata": {},
   "source": [
    "## Alt baslik (Double ##) "
   ]
  },
  {
   "cell_type": "markdown",
   "id": "f1d67cf4-ff53-4348-82a7-ac8abb38278b",
   "metadata": {
    "tags": []
   },
   "source": [
    "## Hucreler bazinda islemler\n",
    "\n",
    "    b alta satir ekler\n",
    "    c kopyalar\n",
    "    x siler \n",
    "    v yapistirir"
   ]
  },
  {
   "cell_type": "code",
   "execution_count": 1,
   "id": "9a45d5ba-862b-413f-abe3-5eb9c9d0e550",
   "metadata": {},
   "outputs": [
    {
     "data": {
      "text/plain": [
       "[5, 6, 7, 8]"
      ]
     },
     "execution_count": 1,
     "metadata": {},
     "output_type": "execute_result"
    }
   ],
   "source": [
    "a = [1,2,3,4]\n",
    "b = [5,6,7,8]\n",
    "a\n",
    "b # sadece en son satir calisir"
   ]
  },
  {
   "cell_type": "code",
   "execution_count": 2,
   "id": "5bff0e5a-9a5a-4636-9ba9-7eccc630fb5b",
   "metadata": {},
   "outputs": [
    {
     "data": {
      "text/plain": [
       "[1, 2, 3, 4]"
      ]
     },
     "execution_count": 2,
     "metadata": {},
     "output_type": "execute_result"
    }
   ],
   "source": [
    "a"
   ]
  },
  {
   "cell_type": "code",
   "execution_count": 3,
   "id": "1d36a173-3a33-4665-87e1-0a48b6911a74",
   "metadata": {},
   "outputs": [],
   "source": [
    "import numpy as np"
   ]
  },
  {
   "cell_type": "code",
   "execution_count": 4,
   "id": "2c04dd66-db44-49e3-a30d-d481ff9cbf92",
   "metadata": {},
   "outputs": [],
   "source": [
    "a = np.array([1,2,3,4])\n",
    "b = np.array([5,3,9,10])"
   ]
  },
  {
   "cell_type": "code",
   "execution_count": 5,
   "id": "871dcdd8-f8c1-44dc-9513-805a92f31989",
   "metadata": {},
   "outputs": [
    {
     "data": {
      "text/plain": [
       "array([ 5,  6, 27, 40])"
      ]
     },
     "execution_count": 5,
     "metadata": {},
     "output_type": "execute_result"
    }
   ],
   "source": [
    "a*b"
   ]
  },
  {
   "cell_type": "code",
   "execution_count": 6,
   "id": "20f12e41-9e58-4a09-b5c2-41fbb4bd810b",
   "metadata": {},
   "outputs": [
    {
     "data": {
      "text/plain": [
       "array([-4, -1, -6, -6])"
      ]
     },
     "execution_count": 6,
     "metadata": {},
     "output_type": "execute_result"
    }
   ],
   "source": [
    "a-b"
   ]
  },
  {
   "cell_type": "code",
   "execution_count": 7,
   "id": "c95db94a-6971-4d26-be27-4da07d95feab",
   "metadata": {},
   "outputs": [
    {
     "data": {
      "text/plain": [
       "array([4, 1, 6, 6])"
      ]
     },
     "execution_count": 7,
     "metadata": {},
     "output_type": "execute_result"
    }
   ],
   "source": [
    "b-a"
   ]
  },
  {
   "cell_type": "code",
   "execution_count": 8,
   "id": "b159bf33-49b1-4d39-89b7-4c6e720b87ea",
   "metadata": {},
   "outputs": [
    {
     "data": {
      "text/plain": [
       "array([0.2       , 0.66666667, 0.33333333, 0.4       ])"
      ]
     },
     "execution_count": 8,
     "metadata": {},
     "output_type": "execute_result"
    }
   ],
   "source": [
    "a/b"
   ]
  },
  {
   "cell_type": "code",
   "execution_count": 9,
   "id": "6b905d8d-8f3a-4f99-896a-ec326b220f9c",
   "metadata": {},
   "outputs": [
    {
     "data": {
      "text/plain": [
       "array([      1,       8,   19683, 1048576])"
      ]
     },
     "execution_count": 9,
     "metadata": {},
     "output_type": "execute_result"
    }
   ],
   "source": [
    "a**b"
   ]
  },
  {
   "cell_type": "code",
   "execution_count": 10,
   "id": "299118cc-f082-4449-9bd6-4a22e038b819",
   "metadata": {},
   "outputs": [
    {
     "data": {
      "text/plain": [
       "numpy.ndarray"
      ]
     },
     "execution_count": 10,
     "metadata": {},
     "output_type": "execute_result"
    }
   ],
   "source": [
    "type(a)"
   ]
  },
  {
   "cell_type": "code",
   "execution_count": 11,
   "id": "7a275a00-2365-482c-ab47-5697866d6763",
   "metadata": {},
   "outputs": [
    {
     "data": {
      "text/plain": [
       "array([ 3.14,  4.  ,  2.  , 13.  ])"
      ]
     },
     "execution_count": 11,
     "metadata": {},
     "output_type": "execute_result"
    }
   ],
   "source": [
    "np.array([3.14, 4, 2, 13])"
   ]
  },
  {
   "cell_type": "markdown",
   "id": "5b77a75a-a7bd-41bc-9ddd-5c9c48aa7f37",
   "metadata": {},
   "source": [
    "## np.array([1,2,3], dtype = 'float32')\n",
    "\n",
    "dtye = 'float32' , dtype = 'int'"
   ]
  },
  {
   "cell_type": "code",
   "execution_count": 12,
   "id": "626b4fe6-bca0-4218-b012-383e4ea94a5d",
   "metadata": {},
   "outputs": [
    {
     "data": {
      "text/plain": [
       "array([ 3.14,  4.  ,  2.  , 13.  ], dtype=float32)"
      ]
     },
     "execution_count": 12,
     "metadata": {},
     "output_type": "execute_result"
    }
   ],
   "source": [
    "np.array([3.14, 4, 2, 13], dtype = 'float32')"
   ]
  },
  {
   "cell_type": "code",
   "execution_count": 13,
   "id": "bede5d32-dd17-4962-a473-60945b84e005",
   "metadata": {},
   "outputs": [
    {
     "data": {
      "text/plain": [
       "array([ 3,  4,  2, 13])"
      ]
     },
     "execution_count": 13,
     "metadata": {},
     "output_type": "execute_result"
    }
   ],
   "source": [
    "np.array([3.14, 4, 2, 13], dtype = int)"
   ]
  },
  {
   "cell_type": "code",
   "execution_count": 14,
   "id": "12689e63-452f-4075-aa5c-2321dd7c562a",
   "metadata": {},
   "outputs": [
    {
     "data": {
      "text/plain": [
       "array(['3.14', '2'], dtype='<U4')"
      ]
     },
     "execution_count": 14,
     "metadata": {},
     "output_type": "execute_result"
    }
   ],
   "source": [
    "np.array([3.14, 2], dtype = str)"
   ]
  },
  {
   "cell_type": "code",
   "execution_count": 15,
   "id": "97136561-73ad-42bb-af01-e502d6458e95",
   "metadata": {},
   "outputs": [],
   "source": [
    "# Sifirdan array olusturma"
   ]
  },
  {
   "cell_type": "code",
   "execution_count": 16,
   "id": "04a6b103-c3d3-4f8f-bfc7-0660372d06c5",
   "metadata": {},
   "outputs": [
    {
     "data": {
      "text/plain": [
       "array([0, 0, 0, 0, 0, 0, 0, 0, 0, 0])"
      ]
     },
     "execution_count": 16,
     "metadata": {},
     "output_type": "execute_result"
    }
   ],
   "source": [
    "np.zeros(10, dtype = int)"
   ]
  },
  {
   "cell_type": "code",
   "execution_count": 17,
   "id": "12abad0d-fc78-40f9-ab96-b5dcddf2ada7",
   "metadata": {},
   "outputs": [
    {
     "data": {
      "text/plain": [
       "array([[1, 1, 1, 1, 1],\n",
       "       [1, 1, 1, 1, 1],\n",
       "       [1, 1, 1, 1, 1]])"
      ]
     },
     "execution_count": 17,
     "metadata": {},
     "output_type": "execute_result"
    }
   ],
   "source": [
    "np.ones((3,5), dtype = int)"
   ]
  },
  {
   "cell_type": "code",
   "execution_count": 18,
   "id": "3292d79c-617a-459d-9d14-95451b1c3239",
   "metadata": {},
   "outputs": [
    {
     "data": {
      "text/plain": [
       "array([[3., 3., 3., 3., 3., 3.],\n",
       "       [3., 3., 3., 3., 3., 3.],\n",
       "       [3., 3., 3., 3., 3., 3.]], dtype=float32)"
      ]
     },
     "execution_count": 18,
     "metadata": {},
     "output_type": "execute_result"
    }
   ],
   "source": [
    "np.full((3,6), 3, dtype = 'float32')"
   ]
  },
  {
   "cell_type": "code",
   "execution_count": 19,
   "id": "06320f6f-c229-4c33-a7ea-6ecece0c8f27",
   "metadata": {},
   "outputs": [
    {
     "data": {
      "text/plain": [
       "array([[3.4, 3.4, 3.4, 3.4, 3.4, 3.4],\n",
       "       [3.4, 3.4, 3.4, 3.4, 3.4, 3.4]])"
      ]
     },
     "execution_count": 19,
     "metadata": {},
     "output_type": "execute_result"
    }
   ],
   "source": [
    "np.full((2,6), 3.4)"
   ]
  },
  {
   "cell_type": "code",
   "execution_count": 20,
   "id": "69e17e75-a828-4729-bb61-15f4182c17c7",
   "metadata": {},
   "outputs": [
    {
     "data": {
      "text/plain": [
       "array([ 0,  4,  8, 12, 16, 20, 24, 28])"
      ]
     },
     "execution_count": 20,
     "metadata": {},
     "output_type": "execute_result"
    }
   ],
   "source": [
    "np.arange(0,30, 4) # 0 dan 30 kadar 4 er 4 er dogrusal dizi olusur"
   ]
  },
  {
   "cell_type": "code",
   "execution_count": 21,
   "id": "34f6e105-4be3-4781-b277-f96729abfdd3",
   "metadata": {},
   "outputs": [
    {
     "data": {
      "text/plain": [
       "array([0.        , 0.11111111, 0.22222222, 0.33333333, 0.44444444,\n",
       "       0.55555556, 0.66666667, 0.77777778, 0.88888889, 1.        ])"
      ]
     },
     "execution_count": 21,
     "metadata": {},
     "output_type": "execute_result"
    }
   ],
   "source": [
    "np.linspace(0,1, 10) #0 ile 1 arasini 10 esit parcaya bolen dograsl dizi"
   ]
  },
  {
   "cell_type": "code",
   "execution_count": 22,
   "id": "8cbc23f5-e34b-4f6a-a9a2-756235ab30cf",
   "metadata": {},
   "outputs": [],
   "source": [
    "ln1 = np.linspace(0,1, 10) #0 ile 1 arasini 10 esit parcaya bolen dograsl dizi"
   ]
  },
  {
   "cell_type": "code",
   "execution_count": 23,
   "id": "3160efb3-0a09-41c2-af37-6559c729c74d",
   "metadata": {},
   "outputs": [
    {
     "data": {
      "text/plain": [
       "numpy.ndarray"
      ]
     },
     "execution_count": 23,
     "metadata": {},
     "output_type": "execute_result"
    }
   ],
   "source": [
    "type(ln1)"
   ]
  },
  {
   "cell_type": "code",
   "execution_count": 24,
   "id": "3a97be67-3612-4ef5-963c-079484b5306f",
   "metadata": {},
   "outputs": [],
   "source": [
    "ar01 = np.ones((3,5), dtype = int)"
   ]
  },
  {
   "cell_type": "code",
   "execution_count": 25,
   "id": "4c2a4543-8e8f-4777-9172-69230a4b73e2",
   "metadata": {},
   "outputs": [
    {
     "data": {
      "text/plain": [
       "array([[1, 1, 1, 1, 1],\n",
       "       [1, 1, 1, 1, 1],\n",
       "       [1, 1, 1, 1, 1]])"
      ]
     },
     "execution_count": 25,
     "metadata": {},
     "output_type": "execute_result"
    }
   ],
   "source": [
    "ar01"
   ]
  },
  {
   "cell_type": "code",
   "execution_count": 26,
   "id": "bdcb8d24-9b49-4609-8015-a6be0e661def",
   "metadata": {},
   "outputs": [
    {
     "data": {
      "text/plain": [
       "numpy.ndarray"
      ]
     },
     "execution_count": 26,
     "metadata": {},
     "output_type": "execute_result"
    }
   ],
   "source": [
    "type(ar01)"
   ]
  },
  {
   "cell_type": "code",
   "execution_count": 27,
   "id": "ef255dcb-d10c-4fb6-a7a5-1a1f3a691607",
   "metadata": {},
   "outputs": [],
   "source": [
    "# tek boyutlu array = Vektor\n",
    "# 2 boyutlu array = matris"
   ]
  },
  {
   "cell_type": "code",
   "execution_count": 28,
   "id": "d3dcdf32-494b-4f0e-a859-f2346dccf500",
   "metadata": {},
   "outputs": [
    {
     "data": {
      "text/plain": [
       "array([[12.97503034,  8.05764032, 11.54311645, 13.8214527 ],\n",
       "       [ 9.08104663, 14.49583952, 11.90081754, 13.09848794],\n",
       "       [15.83159661, 11.78986759, 12.26323223,  4.29579152]])"
      ]
     },
     "execution_count": 28,
     "metadata": {},
     "output_type": "execute_result"
    }
   ],
   "source": [
    "np.random.normal(10, 4, (3,4)) # ortalamasi 10 standart sapmasi 4 olan 3,4 Matris "
   ]
  },
  {
   "cell_type": "code",
   "execution_count": 48,
   "id": "34429463-4411-4117-84c9-14b944a831a8",
   "metadata": {},
   "outputs": [
    {
     "data": {
      "text/plain": [
       "array([[11,  5, 15],\n",
       "       [ 4, 18,  8],\n",
       "       [19,  9,  1]])"
      ]
     },
     "execution_count": 48,
     "metadata": {},
     "output_type": "execute_result"
    }
   ],
   "source": [
    "np.random.randint(0,20, (3,3)) #RandomInteger #0-20 arasindan Random 3,3 Matris olustur"
   ]
  },
  {
   "cell_type": "markdown",
   "id": "7aa26fa9-4dc4-455c-85e8-8a366097eb11",
   "metadata": {},
   "source": [
    "# Ozellikleri"
   ]
  },
  {
   "cell_type": "markdown",
   "id": "238d0688-154e-4291-9bee-cf686afc94b3",
   "metadata": {},
   "source": [
    "* **ndim** : boyut sayisi\n",
    "* **shape** : boyut bilgisi\n",
    "* **size** : toplam eleman sayisi\n",
    "* **dtype** : array veri tipi"
   ]
  },
  {
   "cell_type": "code",
   "execution_count": 32,
   "id": "6a10640f-319c-40a8-be0c-26fd5a72000f",
   "metadata": {},
   "outputs": [
    {
     "data": {
      "text/plain": [
       "array([8, 9, 8, 7, 3])"
      ]
     },
     "execution_count": 32,
     "metadata": {},
     "output_type": "execute_result"
    }
   ],
   "source": [
    "np.random.randint(10, size = 5)"
   ]
  },
  {
   "cell_type": "code",
   "execution_count": 187,
   "id": "34290e43-b31c-4265-9f0c-2259128e2e5a",
   "metadata": {},
   "outputs": [
    {
     "data": {
      "text/plain": [
       "array([[[3, 9, 7, 4],\n",
       "        [2, 0, 3, 9],\n",
       "        [7, 7, 4, 3]],\n",
       "\n",
       "       [[8, 6, 9, 5],\n",
       "        [5, 4, 7, 3],\n",
       "        [3, 7, 0, 3]]])"
      ]
     },
     "execution_count": 187,
     "metadata": {},
     "output_type": "execute_result"
    }
   ],
   "source": [
    "np.random.randint(10, size = (2,3,4))"
   ]
  },
  {
   "cell_type": "code",
   "execution_count": 33,
   "id": "a3d8be72-d136-4c3d-83fc-3ca5a1863b6a",
   "metadata": {},
   "outputs": [],
   "source": [
    "a = np.random.randint(10, size = 5)"
   ]
  },
  {
   "cell_type": "code",
   "execution_count": 34,
   "id": "a04adc13-77c6-4152-ba8a-12552b9f1957",
   "metadata": {},
   "outputs": [
    {
     "data": {
      "text/plain": [
       "1"
      ]
     },
     "execution_count": 34,
     "metadata": {},
     "output_type": "execute_result"
    }
   ],
   "source": [
    "a.ndim "
   ]
  },
  {
   "cell_type": "code",
   "execution_count": 35,
   "id": "95bccde9-d94e-4e9e-91a2-df5c4292369c",
   "metadata": {},
   "outputs": [
    {
     "data": {
      "text/plain": [
       "(5,)"
      ]
     },
     "execution_count": 35,
     "metadata": {},
     "output_type": "execute_result"
    }
   ],
   "source": [
    "a.shape"
   ]
  },
  {
   "cell_type": "code",
   "execution_count": 36,
   "id": "98ac47b9-83bb-4b83-8843-c4660c79779c",
   "metadata": {},
   "outputs": [
    {
     "data": {
      "text/plain": [
       "5"
      ]
     },
     "execution_count": 36,
     "metadata": {},
     "output_type": "execute_result"
    }
   ],
   "source": [
    "a.size"
   ]
  },
  {
   "cell_type": "code",
   "execution_count": 37,
   "id": "71244441-abdb-4c87-b018-834434cd0119",
   "metadata": {},
   "outputs": [
    {
     "data": {
      "text/plain": [
       "dtype('int64')"
      ]
     },
     "execution_count": 37,
     "metadata": {},
     "output_type": "execute_result"
    }
   ],
   "source": [
    "a.dtype"
   ]
  },
  {
   "cell_type": "code",
   "execution_count": 41,
   "id": "f14c7fd1-1b01-4cb0-9f63-ec17c5a169fc",
   "metadata": {},
   "outputs": [
    {
     "data": {
      "text/plain": [
       "array([[2, 0, 6, 2, 4],\n",
       "       [8, 4, 1, 5, 0],\n",
       "       [1, 6, 8, 7, 7]])"
      ]
     },
     "execution_count": 41,
     "metadata": {},
     "output_type": "execute_result"
    }
   ],
   "source": [
    "b = np.random.randint(10, size = (3,5))\n",
    "b"
   ]
  },
  {
   "cell_type": "code",
   "execution_count": 42,
   "id": "6b638652-b379-4e38-80e7-016d2339bd5f",
   "metadata": {},
   "outputs": [
    {
     "data": {
      "text/plain": [
       "2"
      ]
     },
     "execution_count": 42,
     "metadata": {},
     "output_type": "execute_result"
    }
   ],
   "source": [
    "b.ndim"
   ]
  },
  {
   "cell_type": "code",
   "execution_count": 43,
   "id": "1cfcdfe1-0e57-479c-a63f-47d771c690cd",
   "metadata": {},
   "outputs": [
    {
     "data": {
      "text/plain": [
       "(3, 5)"
      ]
     },
     "execution_count": 43,
     "metadata": {},
     "output_type": "execute_result"
    }
   ],
   "source": [
    "b.shape"
   ]
  },
  {
   "cell_type": "code",
   "execution_count": 44,
   "id": "382a860b-d697-431d-93d9-6e55716a6be2",
   "metadata": {},
   "outputs": [
    {
     "data": {
      "text/plain": [
       "15"
      ]
     },
     "execution_count": 44,
     "metadata": {},
     "output_type": "execute_result"
    }
   ],
   "source": [
    "b.size"
   ]
  },
  {
   "cell_type": "code",
   "execution_count": 45,
   "id": "c48f360a-da6c-4272-952f-6f7cf46bcd9c",
   "metadata": {},
   "outputs": [
    {
     "data": {
      "text/plain": [
       "dtype('int64')"
      ]
     },
     "execution_count": 45,
     "metadata": {},
     "output_type": "execute_result"
    }
   ],
   "source": [
    "b.dtype"
   ]
  },
  {
   "cell_type": "code",
   "execution_count": 50,
   "id": "6b027169-3c80-4d1b-8e99-18f8451707a8",
   "metadata": {},
   "outputs": [
    {
     "data": {
      "text/plain": [
       "array([[12,  6,  8],\n",
       "       [10, 14,  1],\n",
       "       [ 2, 15,  9]])"
      ]
     },
     "execution_count": 50,
     "metadata": {},
     "output_type": "execute_result"
    }
   ],
   "source": [
    "np.random.randint(0,20, (3,3))"
   ]
  },
  {
   "cell_type": "markdown",
   "id": "b704e68f-0863-48fc-9e1c-413113bf1972",
   "metadata": {},
   "source": [
    "## Reshape"
   ]
  },
  {
   "cell_type": "code",
   "execution_count": 52,
   "id": "e219c733-e509-4a0c-a81b-57d2a184fe9f",
   "metadata": {},
   "outputs": [
    {
     "data": {
      "text/plain": [
       "array([1, 2, 3, 4, 5, 6, 7, 8, 9])"
      ]
     },
     "execution_count": 52,
     "metadata": {},
     "output_type": "execute_result"
    }
   ],
   "source": [
    "np.arange(1,10)"
   ]
  },
  {
   "cell_type": "code",
   "execution_count": 63,
   "id": "2d77d7d9-3a02-43e1-ad13-a59b4372d948",
   "metadata": {},
   "outputs": [
    {
     "data": {
      "text/plain": [
       "9"
      ]
     },
     "execution_count": 63,
     "metadata": {},
     "output_type": "execute_result"
    }
   ],
   "source": [
    "np.arange(1,10).size"
   ]
  },
  {
   "cell_type": "code",
   "execution_count": 53,
   "id": "0c784906-b58c-430f-bd5e-05883e7e9caf",
   "metadata": {},
   "outputs": [
    {
     "data": {
      "text/plain": [
       "array([[1, 2, 3],\n",
       "       [4, 5, 6],\n",
       "       [7, 8, 9]])"
      ]
     },
     "execution_count": 53,
     "metadata": {},
     "output_type": "execute_result"
    }
   ],
   "source": [
    "np.arange(1,10).reshape((3,3))"
   ]
  },
  {
   "cell_type": "code",
   "execution_count": 60,
   "id": "d8b68d79-579c-445b-a58c-c5df4d6ca309",
   "metadata": {},
   "outputs": [
    {
     "data": {
      "text/plain": [
       "array([ 1,  2,  3,  4,  5,  6,  7,  8,  9, 10, 11, 12, 13, 14, 15, 16, 17,\n",
       "       18])"
      ]
     },
     "execution_count": 60,
     "metadata": {},
     "output_type": "execute_result"
    }
   ],
   "source": [
    "b = np.arange(1,19)\n",
    "b"
   ]
  },
  {
   "cell_type": "code",
   "execution_count": 61,
   "id": "ce250e22-32e2-401a-878c-9569d97c1822",
   "metadata": {},
   "outputs": [
    {
     "data": {
      "text/plain": [
       "18"
      ]
     },
     "execution_count": 61,
     "metadata": {},
     "output_type": "execute_result"
    }
   ],
   "source": [
    "b.size"
   ]
  },
  {
   "cell_type": "code",
   "execution_count": 91,
   "id": "934be9f6-2df9-4418-8501-ea0fca0fe24a",
   "metadata": {},
   "outputs": [
    {
     "data": {
      "text/plain": [
       "array([[ 1,  2,  3],\n",
       "       [ 4,  5,  6],\n",
       "       [ 7,  8,  9],\n",
       "       [10, 11, 12],\n",
       "       [13, 14, 15],\n",
       "       [16, 17, 18]])"
      ]
     },
     "execution_count": 91,
     "metadata": {},
     "output_type": "execute_result"
    }
   ],
   "source": [
    "b.reshape((6,3)) # 3X3 matris yapar ama kaydetmez atama yapmak gerekir !!!"
   ]
  },
  {
   "cell_type": "code",
   "execution_count": 93,
   "id": "7ccd0f61-cb44-416c-b436-4ff8d4b3ad8a",
   "metadata": {},
   "outputs": [
    {
     "data": {
      "text/plain": [
       "array([ 1,  2,  3,  4,  5,  6,  7,  8,  9, 10, 11, 12, 13, 14, 15, 16, 17,\n",
       "       18])"
      ]
     },
     "execution_count": 93,
     "metadata": {},
     "output_type": "execute_result"
    }
   ],
   "source": [
    "b # b gordugun iuzere ayni"
   ]
  },
  {
   "cell_type": "code",
   "execution_count": 79,
   "id": "93b575e1-3605-4a3b-9a68-06f5c71d5475",
   "metadata": {},
   "outputs": [
    {
     "data": {
      "text/plain": [
       "array([0, 1, 2, 3, 4, 5, 6, 7, 8, 9])"
      ]
     },
     "execution_count": 79,
     "metadata": {},
     "output_type": "execute_result"
    }
   ],
   "source": [
    "c = np.arange(10)\n",
    "c"
   ]
  },
  {
   "cell_type": "code",
   "execution_count": 80,
   "id": "cd4c1c4c-f0c2-4f9a-9fd0-db67aaa33455",
   "metadata": {},
   "outputs": [
    {
     "data": {
      "text/plain": [
       "1"
      ]
     },
     "execution_count": 80,
     "metadata": {},
     "output_type": "execute_result"
    }
   ],
   "source": [
    "c.ndim"
   ]
  },
  {
   "cell_type": "code",
   "execution_count": 84,
   "id": "29e03aa3-c725-4466-bf61-7b87df26e4cb",
   "metadata": {},
   "outputs": [
    {
     "data": {
      "text/plain": [
       "2"
      ]
     },
     "execution_count": 84,
     "metadata": {},
     "output_type": "execute_result"
    }
   ],
   "source": [
    "e = c.reshape((1,10))\n",
    "e.ndim"
   ]
  },
  {
   "cell_type": "markdown",
   "id": "5bfa7f5b-cc56-485d-838d-cc7902bc37ec",
   "metadata": {},
   "source": [
    "# Array Birlestirme (Concatenate)"
   ]
  },
  {
   "cell_type": "code",
   "execution_count": 94,
   "id": "90dc1252-4703-4d8f-9257-2db33651ee33",
   "metadata": {},
   "outputs": [],
   "source": [
    "x = np.array([1,2,3])\n",
    "y = np.array([5,6,7])"
   ]
  },
  {
   "cell_type": "code",
   "execution_count": 99,
   "id": "bad6ae0c-100d-428a-8873-3209bed9e4d1",
   "metadata": {},
   "outputs": [
    {
     "data": {
      "text/plain": [
       "array([1, 2, 3, 5, 6, 7])"
      ]
     },
     "execution_count": 99,
     "metadata": {},
     "output_type": "execute_result"
    }
   ],
   "source": [
    "np.concatenate([x,y])"
   ]
  },
  {
   "cell_type": "code",
   "execution_count": 100,
   "id": "74554d8f-17d2-4249-85a3-d0a3a5741480",
   "metadata": {},
   "outputs": [],
   "source": [
    "z = np.array([7,8,9])"
   ]
  },
  {
   "cell_type": "code",
   "execution_count": 101,
   "id": "95302156-09fe-46b8-9967-cce1d20208a9",
   "metadata": {},
   "outputs": [
    {
     "data": {
      "text/plain": [
       "array([1, 2, 3, 5, 6, 7, 7, 8, 9])"
      ]
     },
     "execution_count": 101,
     "metadata": {},
     "output_type": "execute_result"
    }
   ],
   "source": [
    "np.concatenate([x,y,z])"
   ]
  },
  {
   "cell_type": "code",
   "execution_count": 102,
   "id": "16fcaf0b-5f1b-4f8d-ba51-23f4eab92a98",
   "metadata": {},
   "outputs": [
    {
     "data": {
      "text/plain": [
       "array([1, 2, 3, 7, 8, 9, 5, 6, 7])"
      ]
     },
     "execution_count": 102,
     "metadata": {},
     "output_type": "execute_result"
    }
   ],
   "source": [
    "np.concatenate([x,z,y])"
   ]
  },
  {
   "cell_type": "code",
   "execution_count": null,
   "id": "5453f6e5-289c-4b47-a3b8-4e6b7c26e439",
   "metadata": {},
   "outputs": [],
   "source": [
    "# iki boyutta concatenate (birlestirme)"
   ]
  },
  {
   "cell_type": "code",
   "execution_count": 107,
   "id": "5bf08f0a-832c-4838-9495-1a34619d6282",
   "metadata": {},
   "outputs": [],
   "source": [
    "f = np.array([[1,2,3],\n",
    "              [4,5,6]])"
   ]
  },
  {
   "cell_type": "code",
   "execution_count": 112,
   "id": "ae80e869-3f87-4e80-b587-071a8675759b",
   "metadata": {},
   "outputs": [
    {
     "data": {
      "text/plain": [
       "array([[1, 2, 3],\n",
       "       [4, 5, 6],\n",
       "       [1, 2, 3],\n",
       "       [4, 5, 6]])"
      ]
     },
     "execution_count": 112,
     "metadata": {},
     "output_type": "execute_result"
    }
   ],
   "source": [
    "np.concatenate([f,f]) # axis = 0 default bu yuzden ALT ALTA EKLER (satir bazinda ekleme)"
   ]
  },
  {
   "cell_type": "markdown",
   "id": "5d7f5404-f24f-42e8-b5e3-a13e103e2cc3",
   "metadata": {},
   "source": [
    "# **axis = 1**"
   ]
  },
  {
   "cell_type": "code",
   "execution_count": 113,
   "id": "1f38dcb5-e4bc-4c84-80f9-1df6ac97b651",
   "metadata": {},
   "outputs": [
    {
     "data": {
      "text/plain": [
       "array([[1, 2, 3, 1, 2, 3],\n",
       "       [4, 5, 6, 4, 5, 6]])"
      ]
     },
     "execution_count": 113,
     "metadata": {},
     "output_type": "execute_result"
    }
   ],
   "source": [
    "np.concatenate([f,f], axis = 1) # YAN YANA EKLER (sutun bazinda ekleme)"
   ]
  },
  {
   "cell_type": "code",
   "execution_count": 114,
   "id": "2e0646a8-a2ba-4a35-b1a8-d4672e7109f5",
   "metadata": {},
   "outputs": [
    {
     "data": {
      "text/plain": [
       "array([[1, 2, 3],\n",
       "       [4, 5, 6],\n",
       "       [1, 2, 3],\n",
       "       [4, 5, 6],\n",
       "       [1, 2, 3],\n",
       "       [4, 5, 6],\n",
       "       [1, 2, 3],\n",
       "       [4, 5, 6]])"
      ]
     },
     "execution_count": 114,
     "metadata": {},
     "output_type": "execute_result"
    }
   ],
   "source": [
    "np.concatenate([f,f,f,f])"
   ]
  },
  {
   "cell_type": "code",
   "execution_count": 115,
   "id": "a2826cc2-54de-4dbc-b358-75ebbf515915",
   "metadata": {},
   "outputs": [
    {
     "data": {
      "text/plain": [
       "array([[1, 2, 3, 1, 2, 3, 1, 2, 3, 1, 2, 3],\n",
       "       [4, 5, 6, 4, 5, 6, 4, 5, 6, 4, 5, 6]])"
      ]
     },
     "execution_count": 115,
     "metadata": {},
     "output_type": "execute_result"
    }
   ],
   "source": [
    "np.concatenate([f,f,f,f], axis = 1 )"
   ]
  },
  {
   "cell_type": "markdown",
   "id": "4127e75e-f83e-45b1-8e66-c8f1bb6a9ec3",
   "metadata": {},
   "source": [
    "# Array Ayirma (np.split)"
   ]
  },
  {
   "cell_type": "code",
   "execution_count": 117,
   "id": "b23aeabd-09f2-44dd-9897-073817da7472",
   "metadata": {},
   "outputs": [
    {
     "data": {
      "text/plain": [
       "array([ 1,  2,  3, 99, 98,  3,  2,  1])"
      ]
     },
     "execution_count": 117,
     "metadata": {},
     "output_type": "execute_result"
    }
   ],
   "source": [
    "g = np.array([1,2,3,99,98,3,2,1])\n",
    "g"
   ]
  },
  {
   "cell_type": "code",
   "execution_count": 122,
   "id": "ccb75a44-7ea9-482b-b959-f8e72e81495a",
   "metadata": {},
   "outputs": [
    {
     "data": {
      "text/plain": [
       "[array([1, 2, 3]), array([99, 98]), array([3, 2, 1])]"
      ]
     },
     "execution_count": 122,
     "metadata": {},
     "output_type": "execute_result"
    }
   ],
   "source": [
    "np.split(g, [3,5]) # Not iki sayi varsa 3 Parcaya boler dikkat"
   ]
  },
  {
   "cell_type": "code",
   "execution_count": 120,
   "id": "8c0ade7e-fcb2-4774-8362-6fd39c763c13",
   "metadata": {},
   "outputs": [
    {
     "data": {
      "text/plain": [
       "array([1, 2, 3])"
      ]
     },
     "execution_count": 120,
     "metadata": {},
     "output_type": "execute_result"
    }
   ],
   "source": [
    "a,b,c = np.split(g, [3,5])\n",
    "a"
   ]
  },
  {
   "cell_type": "code",
   "execution_count": 121,
   "id": "2186ec47-1186-4c24-a863-31630e338665",
   "metadata": {},
   "outputs": [
    {
     "data": {
      "text/plain": [
       "array([99, 98])"
      ]
     },
     "execution_count": 121,
     "metadata": {},
     "output_type": "execute_result"
    }
   ],
   "source": [
    "b"
   ]
  },
  {
   "cell_type": "code",
   "execution_count": 123,
   "id": "526fbf1b-11cf-4777-a6e5-dd18438991c5",
   "metadata": {},
   "outputs": [
    {
     "data": {
      "text/plain": [
       "array([3, 2, 1])"
      ]
     },
     "execution_count": 123,
     "metadata": {},
     "output_type": "execute_result"
    }
   ],
   "source": [
    "c"
   ]
  },
  {
   "cell_type": "markdown",
   "id": "98ac392f-5a37-4c92-baea-2032348de9fe",
   "metadata": {},
   "source": [
    "## iki boyutlu ayirma (np.vsplit, np.hsplit)"
   ]
  },
  {
   "cell_type": "code",
   "execution_count": 132,
   "id": "fc9fba58-e828-44fc-8296-70e97c7509f7",
   "metadata": {},
   "outputs": [
    {
     "data": {
      "text/plain": [
       "array([[ 0,  1,  2,  3],\n",
       "       [ 4,  5,  6,  7],\n",
       "       [ 8,  9, 10, 11],\n",
       "       [12, 13, 14, 15]])"
      ]
     },
     "execution_count": 132,
     "metadata": {},
     "output_type": "execute_result"
    }
   ],
   "source": [
    "m = np.arange(16).reshape((4,4))\n",
    "m"
   ]
  },
  {
   "cell_type": "code",
   "execution_count": 133,
   "id": "3a072ffb-b043-42ea-86aa-4111d9023adc",
   "metadata": {},
   "outputs": [
    {
     "data": {
      "text/plain": [
       "[array([[0, 1, 2, 3],\n",
       "        [4, 5, 6, 7]]),\n",
       " array([[ 8,  9, 10, 11],\n",
       "        [12, 13, 14, 15]])]"
      ]
     },
     "execution_count": 133,
     "metadata": {},
     "output_type": "execute_result"
    }
   ],
   "source": [
    "np.vsplit(m, [2]) # 2. Indexe kadar ayir 0,1 indexleri alir"
   ]
  },
  {
   "cell_type": "code",
   "execution_count": 134,
   "id": "8d85f6da-7f28-4e50-804b-e6849e293810",
   "metadata": {},
   "outputs": [
    {
     "data": {
      "text/plain": [
       "array([[ 8,  9, 10, 11],\n",
       "       [12, 13, 14, 15]])"
      ]
     },
     "execution_count": 134,
     "metadata": {},
     "output_type": "execute_result"
    }
   ],
   "source": [
    "alt, ust = np.vsplit(m, [2])\n",
    "ust"
   ]
  },
  {
   "cell_type": "code",
   "execution_count": 135,
   "id": "33ec6f36-dfe5-44dd-a311-914abfe44e04",
   "metadata": {},
   "outputs": [
    {
     "data": {
      "text/plain": [
       "array([[0, 1, 2, 3],\n",
       "       [4, 5, 6, 7]])"
      ]
     },
     "execution_count": 135,
     "metadata": {},
     "output_type": "execute_result"
    }
   ],
   "source": [
    "alt"
   ]
  },
  {
   "cell_type": "code",
   "execution_count": 137,
   "id": "e4cd1222-47d0-41da-97fd-0e073e95d709",
   "metadata": {},
   "outputs": [
    {
     "data": {
      "text/plain": [
       "[array([[ 0,  1],\n",
       "        [ 4,  5],\n",
       "        [ 8,  9],\n",
       "        [12, 13]]),\n",
       " array([[ 2,  3],\n",
       "        [ 6,  7],\n",
       "        [10, 11],\n",
       "        [14, 15]])]"
      ]
     },
     "execution_count": 137,
     "metadata": {},
     "output_type": "execute_result"
    }
   ],
   "source": [
    "np.hsplit(m, [2])"
   ]
  },
  {
   "cell_type": "code",
   "execution_count": 141,
   "id": "0934eb23-0995-4793-a09f-80958077c33e",
   "metadata": {},
   "outputs": [],
   "source": [
    "sol, sag = np.hsplit(m, [2])"
   ]
  },
  {
   "cell_type": "code",
   "execution_count": 142,
   "id": "893cdf9c-a048-4e34-887d-2d613b2f1445",
   "metadata": {},
   "outputs": [
    {
     "data": {
      "text/plain": [
       "array([[ 0,  1],\n",
       "       [ 4,  5],\n",
       "       [ 8,  9],\n",
       "       [12, 13]])"
      ]
     },
     "execution_count": 142,
     "metadata": {},
     "output_type": "execute_result"
    }
   ],
   "source": [
    "sol"
   ]
  },
  {
   "cell_type": "code",
   "execution_count": 143,
   "id": "e57d62ce-fa75-4d23-9a0e-bcc044c5dbd4",
   "metadata": {},
   "outputs": [
    {
     "data": {
      "text/plain": [
       "array([[ 2,  3],\n",
       "       [ 6,  7],\n",
       "       [10, 11],\n",
       "       [14, 15]])"
      ]
     },
     "execution_count": 143,
     "metadata": {},
     "output_type": "execute_result"
    }
   ],
   "source": [
    "sag"
   ]
  },
  {
   "cell_type": "markdown",
   "id": "33dd8309-70b3-499d-ba08-72f20a643548",
   "metadata": {},
   "source": [
    "# Array Siralama (Sorting)"
   ]
  },
  {
   "cell_type": "code",
   "execution_count": 145,
   "id": "4a49b954-6263-4953-a421-08e38393a183",
   "metadata": {},
   "outputs": [],
   "source": [
    "v = np.array([2,1,4,4,3])"
   ]
  },
  {
   "cell_type": "code",
   "execution_count": 147,
   "id": "c585f20f-94d5-47ba-a451-8c3c1e245211",
   "metadata": {},
   "outputs": [
    {
     "data": {
      "text/plain": [
       "array([1, 2, 3, 4, 4])"
      ]
     },
     "execution_count": 147,
     "metadata": {},
     "output_type": "execute_result"
    }
   ],
   "source": [
    "np.sort(v)  # v degismez"
   ]
  },
  {
   "cell_type": "code",
   "execution_count": 150,
   "id": "a99e2e04-4502-4dc6-8eea-a1d5f1fc8983",
   "metadata": {},
   "outputs": [
    {
     "data": {
      "text/plain": [
       "array([2, 1, 4, 4, 3])"
      ]
     },
     "execution_count": 150,
     "metadata": {},
     "output_type": "execute_result"
    }
   ],
   "source": [
    "v"
   ]
  },
  {
   "cell_type": "code",
   "execution_count": 151,
   "id": "547e2471-49d6-4edb-9efe-91977a10486e",
   "metadata": {},
   "outputs": [],
   "source": [
    "v.sort() # V degisti !!!!!!!!"
   ]
  },
  {
   "cell_type": "code",
   "execution_count": 152,
   "id": "c56d4d5b-5526-4caa-ac92-b88696052230",
   "metadata": {},
   "outputs": [
    {
     "data": {
      "text/plain": [
       "array([1, 2, 3, 4, 4])"
      ]
     },
     "execution_count": 152,
     "metadata": {},
     "output_type": "execute_result"
    }
   ],
   "source": [
    "v"
   ]
  },
  {
   "cell_type": "markdown",
   "id": "a01f669c-5c62-45ae-8c2b-a4ac47fe86ea",
   "metadata": {},
   "source": [
    "## iki Boyutlu Siralama"
   ]
  },
  {
   "cell_type": "code",
   "execution_count": 176,
   "id": "b761f602-6d2a-41c0-b108-0b88ae2dbeeb",
   "metadata": {},
   "outputs": [
    {
     "data": {
      "text/plain": [
       "array([[ 7,  5, 14],\n",
       "       [21, 20,  3],\n",
       "       [11,  5,  0]])"
      ]
     },
     "execution_count": 176,
     "metadata": {},
     "output_type": "execute_result"
    }
   ],
   "source": [
    "m = np.random.randint(0,30, (3,3))\n",
    "m"
   ]
  },
  {
   "cell_type": "code",
   "execution_count": 177,
   "id": "deee3566-497c-4ef4-a59f-eb541b8f4306",
   "metadata": {},
   "outputs": [
    {
     "data": {
      "text/plain": [
       "array([[ 5,  7, 14],\n",
       "       [ 3, 20, 21],\n",
       "       [ 0,  5, 11]])"
      ]
     },
     "execution_count": 177,
     "metadata": {},
     "output_type": "execute_result"
    }
   ],
   "source": [
    "np.sort(m, axis = 1 ) # Satirlari siralar"
   ]
  },
  {
   "cell_type": "code",
   "execution_count": 178,
   "id": "b0155e3f-db5f-4ab4-82fa-24a605793076",
   "metadata": {},
   "outputs": [
    {
     "data": {
      "text/plain": [
       "array([[ 7,  5,  0],\n",
       "       [11,  5,  3],\n",
       "       [21, 20, 14]])"
      ]
     },
     "execution_count": 178,
     "metadata": {},
     "output_type": "execute_result"
    }
   ],
   "source": [
    "np.sort(m, axis = 0) # Sutunlari siralar"
   ]
  },
  {
   "cell_type": "markdown",
   "id": "e07dc856-ad34-4f3b-90a6-180ea97addb4",
   "metadata": {},
   "source": [
    "# Inde ile Elemanlara Ulasmak"
   ]
  },
  {
   "cell_type": "code",
   "execution_count": 194,
   "id": "08e1b398-cfe3-47d1-b8bb-145ef10bfe9c",
   "metadata": {},
   "outputs": [
    {
     "data": {
      "text/plain": [
       "array([ 8,  6,  1,  3, 23, 13, 11, 21, 26, 23])"
      ]
     },
     "execution_count": 194,
     "metadata": {},
     "output_type": "execute_result"
    }
   ],
   "source": [
    "a = np.random.randint(30, size = 10)\n",
    "a"
   ]
  },
  {
   "cell_type": "code",
   "execution_count": 195,
   "id": "694ff442-855c-4abf-88ae-ac0bea6c1714",
   "metadata": {},
   "outputs": [
    {
     "data": {
      "text/plain": [
       "8"
      ]
     },
     "execution_count": 195,
     "metadata": {},
     "output_type": "execute_result"
    }
   ],
   "source": [
    "a[0]"
   ]
  },
  {
   "cell_type": "code",
   "execution_count": 196,
   "id": "2453d264-763b-4c21-8be4-46179173c2f7",
   "metadata": {},
   "outputs": [
    {
     "data": {
      "text/plain": [
       "23"
      ]
     },
     "execution_count": 196,
     "metadata": {},
     "output_type": "execute_result"
    }
   ],
   "source": [
    "a[-1]"
   ]
  },
  {
   "cell_type": "code",
   "execution_count": 199,
   "id": "69fd16a4-6145-40dd-b0d5-c5cf1d82b40a",
   "metadata": {},
   "outputs": [
    {
     "data": {
      "text/plain": [
       "array([100,   6,   1,   3,  23,  13,  11,  21,  26,  23])"
      ]
     },
     "execution_count": 199,
     "metadata": {},
     "output_type": "execute_result"
    }
   ],
   "source": [
    "a[0] = 100\n",
    "a"
   ]
  },
  {
   "cell_type": "code",
   "execution_count": 202,
   "id": "9abd35cd-7e75-46f9-96a9-1da6fa0de3f6",
   "metadata": {},
   "outputs": [
    {
     "data": {
      "text/plain": [
       "array([[80, 84, 54,  7, 15],\n",
       "       [20, 59, 16, 24, 55],\n",
       "       [91, 62, 76, 48, 54]])"
      ]
     },
     "execution_count": 202,
     "metadata": {},
     "output_type": "execute_result"
    }
   ],
   "source": [
    "m = np.random.randint(100, size = (3,5))\n",
    "m"
   ]
  },
  {
   "cell_type": "code",
   "execution_count": 203,
   "id": "4d4ff85f-3a46-4d41-b911-4b6264064b41",
   "metadata": {},
   "outputs": [
    {
     "data": {
      "text/plain": [
       "84"
      ]
     },
     "execution_count": 203,
     "metadata": {},
     "output_type": "execute_result"
    }
   ],
   "source": [
    "m[0,1]"
   ]
  },
  {
   "cell_type": "code",
   "execution_count": 204,
   "id": "eab7078f-552b-4155-bafb-6fa50b970606",
   "metadata": {},
   "outputs": [
    {
     "data": {
      "text/plain": [
       "91"
      ]
     },
     "execution_count": 204,
     "metadata": {},
     "output_type": "execute_result"
    }
   ],
   "source": [
    "m[2,0]"
   ]
  },
  {
   "cell_type": "markdown",
   "id": "65b9f396-c821-4ac0-9b2b-e9b08bba32dd",
   "metadata": {},
   "source": [
    "## Array'a farkli type de veri eklemeye calismak"
   ]
  },
  {
   "cell_type": "code",
   "execution_count": 205,
   "id": "a89d3c2a-ed37-436a-b77d-23f3b0bde2b8",
   "metadata": {},
   "outputs": [
    {
     "data": {
      "text/plain": [
       "3"
      ]
     },
     "execution_count": 205,
     "metadata": {},
     "output_type": "execute_result"
    }
   ],
   "source": [
    "m[0,0] = 3.14\n",
    "m[0,0]"
   ]
  },
  {
   "cell_type": "code",
   "execution_count": 208,
   "id": "bf95ceb0-4938-438e-9177-abf481e100c5",
   "metadata": {},
   "outputs": [
    {
     "data": {
      "text/plain": [
       "numpy.int64"
      ]
     },
     "execution_count": 208,
     "metadata": {},
     "output_type": "execute_result"
    }
   ],
   "source": [
    "type(m[0,0]) # Integer ekliyor sadece"
   ]
  },
  {
   "cell_type": "markdown",
   "id": "0956a88a-2576-4ac4-a873-dbdbcd6afb3c",
   "metadata": {},
   "source": [
    "# Slicing ile Elemanlara Ulasmak(Array alt kumesine erismek)"
   ]
  },
  {
   "cell_type": "code",
   "execution_count": 210,
   "id": "6dc6ff29-c349-41c0-ae28-5dc8941fca2d",
   "metadata": {},
   "outputs": [
    {
     "data": {
      "text/plain": [
       "array([20, 21, 22, 23, 24, 25, 26, 27, 28, 29])"
      ]
     },
     "execution_count": 210,
     "metadata": {},
     "output_type": "execute_result"
    }
   ],
   "source": [
    "k = np.arange(20,30)\n",
    "k"
   ]
  },
  {
   "cell_type": "code",
   "execution_count": 211,
   "id": "05527f55-82cb-42e5-b713-20891002e09b",
   "metadata": {},
   "outputs": [
    {
     "data": {
      "text/plain": [
       "array([20, 21, 22])"
      ]
     },
     "execution_count": 211,
     "metadata": {},
     "output_type": "execute_result"
    }
   ],
   "source": [
    "k[0:3]"
   ]
  },
  {
   "cell_type": "code",
   "execution_count": 212,
   "id": "65bfe988-aa91-4d46-9eaf-d7e898af91ad",
   "metadata": {},
   "outputs": [
    {
     "data": {
      "text/plain": [
       "array([20, 21, 22])"
      ]
     },
     "execution_count": 212,
     "metadata": {},
     "output_type": "execute_result"
    }
   ],
   "source": [
    "k[:3]"
   ]
  },
  {
   "cell_type": "code",
   "execution_count": 213,
   "id": "a4275501-1c40-4e84-a0c8-5f23bef2d3d0",
   "metadata": {},
   "outputs": [
    {
     "data": {
      "text/plain": [
       "array([23, 24, 25, 26, 27, 28, 29])"
      ]
     },
     "execution_count": 213,
     "metadata": {},
     "output_type": "execute_result"
    }
   ],
   "source": [
    "k[3:]"
   ]
  },
  {
   "cell_type": "code",
   "execution_count": 214,
   "id": "a2a7f995-5b20-4287-9f5e-b4eda19c3394",
   "metadata": {},
   "outputs": [
    {
     "data": {
      "text/plain": [
       "array([21, 23, 25, 27, 29])"
      ]
     },
     "execution_count": 214,
     "metadata": {},
     "output_type": "execute_result"
    }
   ],
   "source": [
    "k[1::2]"
   ]
  },
  {
   "cell_type": "code",
   "execution_count": 215,
   "id": "eccff994-28d8-403f-b6ce-cf1215d74116",
   "metadata": {},
   "outputs": [
    {
     "data": {
      "text/plain": [
       "array([20, 23, 26, 29])"
      ]
     },
     "execution_count": 215,
     "metadata": {},
     "output_type": "execute_result"
    }
   ],
   "source": [
    "k[::3]"
   ]
  },
  {
   "cell_type": "code",
   "execution_count": 216,
   "id": "f332702a-a0bb-4e43-b330-b1836d163524",
   "metadata": {},
   "outputs": [],
   "source": [
    "## iki Boyutlu slice islemleri"
   ]
  },
  {
   "cell_type": "code",
   "execution_count": 218,
   "id": "726e38d4-dbd4-4481-8417-520c0d233ee7",
   "metadata": {},
   "outputs": [
    {
     "data": {
      "text/plain": [
       "array([[6, 8, 6, 2, 5],\n",
       "       [2, 5, 3, 3, 8],\n",
       "       [0, 8, 1, 8, 8],\n",
       "       [5, 2, 7, 1, 2],\n",
       "       [6, 3, 3, 7, 0]])"
      ]
     },
     "execution_count": 218,
     "metadata": {},
     "output_type": "execute_result"
    }
   ],
   "source": [
    "l = np.random.randint(10, size = (5,5))\n",
    "l"
   ]
  },
  {
   "cell_type": "code",
   "execution_count": 219,
   "id": "e33dcb5e-e522-4f2e-b8e7-f273e67dedcd",
   "metadata": {},
   "outputs": [
    {
     "data": {
      "text/plain": [
       "array([6, 2, 0, 5, 6])"
      ]
     },
     "execution_count": 219,
     "metadata": {},
     "output_type": "execute_result"
    }
   ],
   "source": [
    "l[:,0] # Tum satirlari al , birinci sutunu sec demek"
   ]
  },
  {
   "cell_type": "code",
   "execution_count": 224,
   "id": "471d82fa-72f3-4626-b555-c99556b51a6c",
   "metadata": {},
   "outputs": [
    {
     "data": {
      "text/plain": [
       "array([[6, 8],\n",
       "       [2, 5],\n",
       "       [0, 8],\n",
       "       [5, 2],\n",
       "       [6, 3]])"
      ]
     },
     "execution_count": 224,
     "metadata": {},
     "output_type": "execute_result"
    }
   ],
   "source": [
    "l[:,0:2] # Tum satirlari al , 0 ve 1. sutunu sec demek"
   ]
  },
  {
   "cell_type": "code",
   "execution_count": 232,
   "id": "d6fff59c-cae4-4a11-9c41-f1885387211d",
   "metadata": {},
   "outputs": [
    {
     "data": {
      "text/plain": [
       "array([6, 8, 6, 2, 5])"
      ]
     },
     "execution_count": 232,
     "metadata": {},
     "output_type": "execute_result"
    }
   ],
   "source": [
    "l[0,:] # 0. satir Tum Sutunlar"
   ]
  },
  {
   "cell_type": "code",
   "execution_count": 233,
   "id": "932280dc-c2a6-4f9a-bed8-1373cbbe30b1",
   "metadata": {},
   "outputs": [
    {
     "data": {
      "text/plain": [
       "array([6, 8, 6, 2, 5])"
      ]
     },
     "execution_count": 233,
     "metadata": {},
     "output_type": "execute_result"
    }
   ],
   "source": [
    "l[0]"
   ]
  },
  {
   "cell_type": "code",
   "execution_count": 234,
   "id": "237d9253-854f-441d-9461-23b61f4dd89e",
   "metadata": {},
   "outputs": [
    {
     "data": {
      "text/plain": [
       "array([[2, 5],\n",
       "       [0, 8]])"
      ]
     },
     "execution_count": 234,
     "metadata": {},
     "output_type": "execute_result"
    }
   ],
   "source": [
    "l[1:3,0:2]"
   ]
  },
  {
   "cell_type": "code",
   "execution_count": 236,
   "id": "28ecd157-1481-4c2e-ae3d-9e8e8b47cd65",
   "metadata": {},
   "outputs": [
    {
     "data": {
      "text/plain": [
       "5"
      ]
     },
     "execution_count": 236,
     "metadata": {},
     "output_type": "execute_result"
    }
   ],
   "source": [
    "l[3,0]"
   ]
  },
  {
   "cell_type": "markdown",
   "id": "80afe18f-b23f-44bd-b3d2-3150b2023c7a",
   "metadata": {},
   "source": [
    "# Alt Kume  Uzerinde Islmeler"
   ]
  },
  {
   "cell_type": "code",
   "execution_count": 254,
   "id": "499db8eb-25cf-4925-9683-3973a00edfef",
   "metadata": {},
   "outputs": [
    {
     "data": {
      "text/plain": [
       "array([[3, 7, 9, 2, 3],\n",
       "       [2, 7, 5, 4, 4],\n",
       "       [6, 2, 7, 5, 1],\n",
       "       [2, 1, 3, 9, 5],\n",
       "       [6, 4, 3, 1, 0]])"
      ]
     },
     "execution_count": 254,
     "metadata": {},
     "output_type": "execute_result"
    }
   ],
   "source": [
    "a = np.random.randint(0,10, size = (5,5))\n",
    "a"
   ]
  },
  {
   "cell_type": "code",
   "execution_count": 255,
   "id": "f2e54693-9215-41e9-98dc-40fe10a949b5",
   "metadata": {},
   "outputs": [
    {
     "data": {
      "text/plain": [
       "array([[3, 7],\n",
       "       [2, 7],\n",
       "       [6, 2]])"
      ]
     },
     "execution_count": 255,
     "metadata": {},
     "output_type": "execute_result"
    }
   ],
   "source": [
    "alt_kume_a = a[0:3, 0:2]\n",
    "alt_kume_a"
   ]
  },
  {
   "cell_type": "code",
   "execution_count": 256,
   "id": "386d1019-ce1f-40ef-b71d-ab04bf174cb7",
   "metadata": {},
   "outputs": [
    {
     "data": {
      "text/plain": [
       "array([[999,   7],\n",
       "       [  2,   7],\n",
       "       [  6,   2]])"
      ]
     },
     "execution_count": 256,
     "metadata": {},
     "output_type": "execute_result"
    }
   ],
   "source": [
    "alt_kume_a[0,0] = 999 # A nin alt kumesindeki degisiklik A yi etkiliyor Dikkat !!!\n",
    "alt_kume_a"
   ]
  },
  {
   "cell_type": "code",
   "execution_count": 257,
   "id": "57830963-2401-4f2e-b0e3-b6d79de2e2a2",
   "metadata": {},
   "outputs": [
    {
     "data": {
      "text/plain": [
       "array([[999,   7,   9,   2,   3],\n",
       "       [  2,   7,   5,   4,   4],\n",
       "       [  6,   2,   7,   5,   1],\n",
       "       [  2,   1,   3,   9,   5],\n",
       "       [  6,   4,   3,   1,   0]])"
      ]
     },
     "execution_count": 257,
     "metadata": {},
     "output_type": "execute_result"
    }
   ],
   "source": [
    "a # A nin alt kumesindeki degisiklik A yi etkiliyor Dikkat !!!"
   ]
  },
  {
   "cell_type": "code",
   "execution_count": 261,
   "id": "58f2d4e7-333c-4cc4-9747-6aaf8b4c1f49",
   "metadata": {},
   "outputs": [
    {
     "data": {
      "text/plain": [
       "array([[3, 3, 2, 3, 7],\n",
       "       [2, 1, 9, 4, 3],\n",
       "       [4, 8, 2, 5, 5],\n",
       "       [7, 2, 7, 3, 2],\n",
       "       [8, 5, 8, 4, 4]])"
      ]
     },
     "execution_count": 261,
     "metadata": {},
     "output_type": "execute_result"
    }
   ],
   "source": [
    "m = np.random.randint(10, size = (5,5))\n",
    "m"
   ]
  },
  {
   "cell_type": "code",
   "execution_count": 262,
   "id": "9aa56355-8c1a-43f5-b259-8c7d8fc34b86",
   "metadata": {},
   "outputs": [
    {
     "data": {
      "text/plain": [
       "array([[3, 3],\n",
       "       [2, 1],\n",
       "       [4, 8]])"
      ]
     },
     "execution_count": 262,
     "metadata": {},
     "output_type": "execute_result"
    }
   ],
   "source": [
    "b = m[0:3, 0:2].copy()\n",
    "b"
   ]
  },
  {
   "cell_type": "code",
   "execution_count": 263,
   "id": "eb114caf-7648-4f71-88ee-7b379d6371f2",
   "metadata": {},
   "outputs": [
    {
     "data": {
      "text/plain": [
       "array([[1000,    3],\n",
       "       [   2,    1],\n",
       "       [   4,    8]])"
      ]
     },
     "execution_count": 263,
     "metadata": {},
     "output_type": "execute_result"
    }
   ],
   "source": [
    "b[0,0] = 1000\n",
    "b"
   ]
  },
  {
   "cell_type": "code",
   "execution_count": 264,
   "id": "32237ae9-31f0-4411-8de1-de46f472bff8",
   "metadata": {},
   "outputs": [
    {
     "data": {
      "text/plain": [
       "array([[3, 3, 2, 3, 7],\n",
       "       [2, 1, 9, 4, 3],\n",
       "       [4, 8, 2, 5, 5],\n",
       "       [7, 2, 7, 3, 2],\n",
       "       [8, 5, 8, 4, 4]])"
      ]
     },
     "execution_count": 264,
     "metadata": {},
     "output_type": "execute_result"
    }
   ],
   "source": [
    "m # m de degisiklik olmadi "
   ]
  },
  {
   "cell_type": "markdown",
   "id": "7182ecc1-7ac8-4b4c-a25e-13e6109d7319",
   "metadata": {},
   "source": [
    "# Fancy Index ile Elemanlar Erismek "
   ]
  },
  {
   "cell_type": "code",
   "execution_count": 267,
   "id": "a8040b15-d911-4bfc-b6cc-f559957ae8e8",
   "metadata": {},
   "outputs": [
    {
     "data": {
      "text/plain": [
       "array([ 0,  3,  6,  9, 12, 15, 18, 21, 24, 27])"
      ]
     },
     "execution_count": 267,
     "metadata": {},
     "output_type": "execute_result"
    }
   ],
   "source": [
    "v = np.arange(0,30, 3)\n",
    "v"
   ]
  },
  {
   "cell_type": "code",
   "execution_count": 268,
   "id": "1ef10314-927f-43da-a40c-56f8297fb1fe",
   "metadata": {},
   "outputs": [
    {
     "data": {
      "text/plain": [
       "3"
      ]
     },
     "execution_count": 268,
     "metadata": {},
     "output_type": "execute_result"
    }
   ],
   "source": [
    "v[1]"
   ]
  },
  {
   "cell_type": "code",
   "execution_count": 269,
   "id": "8a58e0e1-d87b-4b94-a70c-93f465803f5f",
   "metadata": {},
   "outputs": [
    {
     "data": {
      "text/plain": [
       "9"
      ]
     },
     "execution_count": 269,
     "metadata": {},
     "output_type": "execute_result"
    }
   ],
   "source": [
    "v[3]"
   ]
  },
  {
   "cell_type": "code",
   "execution_count": 270,
   "id": "ef36de4a-03e6-442a-9727-e169ea1146b0",
   "metadata": {},
   "outputs": [
    {
     "data": {
      "text/plain": [
       "15"
      ]
     },
     "execution_count": 270,
     "metadata": {},
     "output_type": "execute_result"
    }
   ],
   "source": [
    "v[5]"
   ]
  },
  {
   "cell_type": "code",
   "execution_count": 272,
   "id": "9ea3b2f8-ba6e-4788-ba1c-83aa20a8fc36",
   "metadata": {},
   "outputs": [
    {
     "data": {
      "text/plain": [
       "[3, 9, 15]"
      ]
     },
     "execution_count": 272,
     "metadata": {},
     "output_type": "execute_result"
    }
   ],
   "source": [
    "[v[1], v[3], v[5]]"
   ]
  },
  {
   "cell_type": "code",
   "execution_count": 273,
   "id": "4ec5188e-abd5-405d-b409-5048bc07b62d",
   "metadata": {},
   "outputs": [
    {
     "data": {
      "text/plain": [
       "array([ 3,  9, 15])"
      ]
     },
     "execution_count": 273,
     "metadata": {},
     "output_type": "execute_result"
    }
   ],
   "source": [
    "al_getir = [1,3,5]\n",
    "\n",
    "v[al_getir]"
   ]
  },
  {
   "cell_type": "markdown",
   "id": "5430442d-f105-450d-8fde-613bfa51756e",
   "metadata": {},
   "source": [
    "## iki boyutta Fancy"
   ]
  },
  {
   "cell_type": "code",
   "execution_count": 277,
   "id": "96f50d8c-6c5a-4edc-a11b-ce944ede58f1",
   "metadata": {},
   "outputs": [
    {
     "data": {
      "text/plain": [
       "array([[0, 1, 2],\n",
       "       [3, 4, 5],\n",
       "       [6, 7, 8]])"
      ]
     },
     "execution_count": 277,
     "metadata": {},
     "output_type": "execute_result"
    }
   ],
   "source": [
    "m = np.arange(9).reshape((3,3))\n",
    "m"
   ]
  },
  {
   "cell_type": "code",
   "execution_count": 278,
   "id": "8ba69a3e-5c5f-42ee-80e3-d3a176331cf9",
   "metadata": {},
   "outputs": [],
   "source": [
    "satir = np.array([0,1])\n",
    "sutun = np.array([1,2])"
   ]
  },
  {
   "cell_type": "code",
   "execution_count": 279,
   "id": "312a3360-03ab-4531-94c0-d5ed0b7d55d7",
   "metadata": {},
   "outputs": [
    {
     "data": {
      "text/plain": [
       "array([1, 5])"
      ]
     },
     "execution_count": 279,
     "metadata": {},
     "output_type": "execute_result"
    }
   ],
   "source": [
    "m[satir, sutun]"
   ]
  },
  {
   "cell_type": "markdown",
   "id": "84b7218a-c9b2-41e6-8374-3750e5fc94c9",
   "metadata": {},
   "source": [
    "## Basit index ile Fancy index"
   ]
  },
  {
   "cell_type": "code",
   "execution_count": 280,
   "id": "6abf96cc-b316-48c7-83aa-68b113b5eef9",
   "metadata": {},
   "outputs": [
    {
     "data": {
      "text/plain": [
       "array([[0, 1, 2],\n",
       "       [3, 4, 5],\n",
       "       [6, 7, 8]])"
      ]
     },
     "execution_count": 280,
     "metadata": {},
     "output_type": "execute_result"
    }
   ],
   "source": [
    "m"
   ]
  },
  {
   "cell_type": "code",
   "execution_count": 282,
   "id": "a5d099f9-f8f1-435f-89c2-ad303ce60035",
   "metadata": {},
   "outputs": [
    {
     "data": {
      "text/plain": [
       "array([1, 2])"
      ]
     },
     "execution_count": 282,
     "metadata": {},
     "output_type": "execute_result"
    }
   ],
   "source": [
    "m[0, [1,2]] # m[satir, sutun] , 0. satirin 1 ve 2. sutunlarini al diyor "
   ]
  },
  {
   "cell_type": "code",
   "execution_count": 283,
   "id": "7bcd88b6-4a65-44fc-b509-fe9aba95cde5",
   "metadata": {},
   "outputs": [
    {
     "data": {
      "text/plain": [
       "array([4, 5])"
      ]
     },
     "execution_count": 283,
     "metadata": {},
     "output_type": "execute_result"
    }
   ],
   "source": [
    "m[1, [1,2]] # m[satir, sutun] , 1. satirin 1 ve 2. sutunlarini al diyor "
   ]
  },
  {
   "cell_type": "markdown",
   "id": "a13b49ad-03b5-4c74-bc8f-19bcd4f84af7",
   "metadata": {},
   "source": [
    "## Slice ile Fancy beraber kullanim"
   ]
  },
  {
   "cell_type": "code",
   "execution_count": 295,
   "id": "9a608d33-7f8c-4faa-84f6-6101eebb583c",
   "metadata": {},
   "outputs": [
    {
     "data": {
      "text/plain": [
       "array([[ 0,  1,  2,  3,  4,  5],\n",
       "       [ 6,  7,  8,  9, 10, 11],\n",
       "       [12, 13, 14, 15, 16, 17]])"
      ]
     },
     "execution_count": 295,
     "metadata": {},
     "output_type": "execute_result"
    }
   ],
   "source": [
    "m = np.arange(18).reshape((3,6))\n",
    "m"
   ]
  },
  {
   "cell_type": "code",
   "execution_count": 296,
   "id": "073c17c6-0863-4448-aee9-0e71883c62ce",
   "metadata": {},
   "outputs": [
    {
     "data": {
      "text/plain": [
       "array([[1, 2],\n",
       "       [7, 8]])"
      ]
     },
     "execution_count": 296,
     "metadata": {},
     "output_type": "execute_result"
    }
   ],
   "source": [
    "m[0:2, [1,2]]  # sifir ve 1. satirlardan, 1 ve 2. stunlari al diyor"
   ]
  },
  {
   "cell_type": "code",
   "execution_count": 297,
   "id": "8f5a53a6-de3b-4c60-b1d4-373540f5f53b",
   "metadata": {},
   "outputs": [
    {
     "data": {
      "text/plain": [
       "array([ 2, 11])"
      ]
     },
     "execution_count": 297,
     "metadata": {},
     "output_type": "execute_result"
    }
   ],
   "source": [
    "m[[0,1],[2,5]] # Enterasan m[0,2] ve m[1,5] aliniyor "
   ]
  },
  {
   "cell_type": "code",
   "execution_count": 298,
   "id": "5e43aab2-f3f6-4663-8948-29f077e1659f",
   "metadata": {},
   "outputs": [
    {
     "data": {
      "text/plain": [
       "11"
      ]
     },
     "execution_count": 298,
     "metadata": {},
     "output_type": "execute_result"
    }
   ],
   "source": [
    "m[1,5]"
   ]
  },
  {
   "cell_type": "markdown",
   "id": "0cebb9a3-2f30-4d9d-a60d-4fcf28d8eb5a",
   "metadata": {},
   "source": [
    "# Kosullu Elemanlar"
   ]
  },
  {
   "cell_type": "code",
   "execution_count": 300,
   "id": "e833008a-47da-4b0a-8c24-aafb68f46d37",
   "metadata": {},
   "outputs": [],
   "source": [
    "v = np.array([1,2,3,4,5])"
   ]
  },
  {
   "cell_type": "code",
   "execution_count": 307,
   "id": "22e30d52-f3d0-45fc-bf30-fbb15bd77a58",
   "metadata": {},
   "outputs": [
    {
     "data": {
      "text/plain": [
       "array([False, False, False,  True,  True])"
      ]
     },
     "execution_count": 307,
     "metadata": {},
     "output_type": "execute_result"
    }
   ],
   "source": [
    "v > 3"
   ]
  },
  {
   "cell_type": "code",
   "execution_count": 302,
   "id": "6269a0d2-6934-4b4e-b885-00465bb68991",
   "metadata": {},
   "outputs": [
    {
     "data": {
      "text/plain": [
       "array([1, 2])"
      ]
     },
     "execution_count": 302,
     "metadata": {},
     "output_type": "execute_result"
    }
   ],
   "source": [
    "v[v < 3]"
   ]
  },
  {
   "cell_type": "code",
   "execution_count": 305,
   "id": "0061564b-2be2-44bc-9cda-582ed5a5a882",
   "metadata": {},
   "outputs": [
    {
     "data": {
      "text/plain": [
       "array([1, 2, 3, 4])"
      ]
     },
     "execution_count": 305,
     "metadata": {},
     "output_type": "execute_result"
    }
   ],
   "source": [
    "v[v <= 4]"
   ]
  },
  {
   "cell_type": "code",
   "execution_count": 306,
   "id": "1baf3eb5-0c27-4c98-88e8-04f09d30b43d",
   "metadata": {},
   "outputs": [
    {
     "data": {
      "text/plain": [
       "array([1, 2, 4, 5])"
      ]
     },
     "execution_count": 306,
     "metadata": {},
     "output_type": "execute_result"
    }
   ],
   "source": [
    "v[v != 3]"
   ]
  },
  {
   "cell_type": "markdown",
   "id": "0cc9f5a2-08f6-475c-958d-fee769af1cbc",
   "metadata": {},
   "source": [
    "# Matematiksel Islemler"
   ]
  },
  {
   "cell_type": "code",
   "execution_count": 316,
   "id": "e679286f-9f6b-4a1f-baa8-bae6159f8bfc",
   "metadata": {},
   "outputs": [
    {
     "data": {
      "text/plain": [
       "array([1, 2, 3, 4, 5])"
      ]
     },
     "execution_count": 316,
     "metadata": {},
     "output_type": "execute_result"
    }
   ],
   "source": [
    "v =  np.array([1,2,3,4,5])\n",
    "v"
   ]
  },
  {
   "cell_type": "code",
   "execution_count": 312,
   "id": "fe2bded2-2136-4184-8eca-e05a216c3ee5",
   "metadata": {},
   "outputs": [
    {
     "name": "stdout",
     "output_type": "stream",
     "text": [
      "[0 1 2 3 4] [ 1  4  9 16 25]\n"
     ]
    }
   ],
   "source": [
    "print(v - 1 , v**2, )"
   ]
  },
  {
   "cell_type": "code",
   "execution_count": 313,
   "id": "cc107881-0f73-4bff-93f2-3325bfb8e5c1",
   "metadata": {},
   "outputs": [],
   "source": [
    "#ufunc"
   ]
  },
  {
   "cell_type": "code",
   "execution_count": 314,
   "id": "305b90b7-1256-4922-a59e-222708bf088f",
   "metadata": {},
   "outputs": [
    {
     "data": {
      "text/plain": [
       "array([0, 1, 2, 3, 4])"
      ]
     },
     "execution_count": 314,
     "metadata": {},
     "output_type": "execute_result"
    }
   ],
   "source": [
    "np.subtract(v, 1) # v-1 yapar"
   ]
  },
  {
   "cell_type": "code",
   "execution_count": 315,
   "id": "51ad2841-df4c-44d3-b680-6a84f7c1af94",
   "metadata": {},
   "outputs": [
    {
     "data": {
      "text/plain": [
       "array([3, 4, 5, 6, 7])"
      ]
     },
     "execution_count": 315,
     "metadata": {},
     "output_type": "execute_result"
    }
   ],
   "source": [
    "np.add(v, 2)"
   ]
  },
  {
   "cell_type": "code",
   "execution_count": 317,
   "id": "18af5b5f-652e-4a2a-91fe-a4be6ada57ba",
   "metadata": {},
   "outputs": [
    {
     "data": {
      "text/plain": [
       "array([10, 20, 30, 40, 50])"
      ]
     },
     "execution_count": 317,
     "metadata": {},
     "output_type": "execute_result"
    }
   ],
   "source": [
    "np.multiply(v, 10)"
   ]
  },
  {
   "cell_type": "code",
   "execution_count": 318,
   "id": "83368e9c-5a0b-491a-ba73-37c4ce65da7d",
   "metadata": {},
   "outputs": [
    {
     "data": {
      "text/plain": [
       "array([0.5, 1. , 1.5, 2. , 2.5])"
      ]
     },
     "execution_count": 318,
     "metadata": {},
     "output_type": "execute_result"
    }
   ],
   "source": [
    "np.divide(v, 2)"
   ]
  },
  {
   "cell_type": "code",
   "execution_count": 319,
   "id": "d2a3d04e-75c1-4626-bbc6-426d6885f4d8",
   "metadata": {},
   "outputs": [
    {
     "data": {
      "text/plain": [
       "array([  1,   8,  27,  64, 125])"
      ]
     },
     "execution_count": 319,
     "metadata": {},
     "output_type": "execute_result"
    }
   ],
   "source": [
    "np.power(v, 3)"
   ]
  },
  {
   "cell_type": "code",
   "execution_count": 320,
   "id": "63932d7a-a169-40d7-afd2-5631e3942560",
   "metadata": {},
   "outputs": [
    {
     "data": {
      "text/plain": [
       "array([1, 0, 1, 0, 1])"
      ]
     },
     "execution_count": 320,
     "metadata": {},
     "output_type": "execute_result"
    }
   ],
   "source": [
    "np.mod(v, 2) # v % 2 "
   ]
  },
  {
   "cell_type": "code",
   "execution_count": 321,
   "id": "d4281ea3-baa4-42f6-a76f-8f677e16f1da",
   "metadata": {},
   "outputs": [
    {
     "data": {
      "text/plain": [
       "array([1, 2, 3, 4, 5])"
      ]
     },
     "execution_count": 321,
     "metadata": {},
     "output_type": "execute_result"
    }
   ],
   "source": [
    "np.absolute(v) # mutlak deger alir"
   ]
  },
  {
   "cell_type": "code",
   "execution_count": 324,
   "id": "3d1b7df9-9e32-462c-945e-2812b89fbece",
   "metadata": {},
   "outputs": [
    {
     "data": {
      "text/plain": [
       "array([99])"
      ]
     },
     "execution_count": 324,
     "metadata": {},
     "output_type": "execute_result"
    }
   ],
   "source": [
    "np.absolute(np.array([-99]))"
   ]
  },
  {
   "cell_type": "code",
   "execution_count": 326,
   "id": "b29e3e2c-9372-42d9-a8a7-0339795f5a0e",
   "metadata": {},
   "outputs": [
    {
     "data": {
      "text/plain": [
       "0.8939966636005579"
      ]
     },
     "execution_count": 326,
     "metadata": {},
     "output_type": "execute_result"
    }
   ],
   "source": [
    "np.sin(90)"
   ]
  },
  {
   "cell_type": "code",
   "execution_count": 327,
   "id": "571aff8a-9632-43a0-a65b-3156d1d51764",
   "metadata": {},
   "outputs": [],
   "source": [
    "q = np.array([1,2,3])"
   ]
  },
  {
   "cell_type": "code",
   "execution_count": 330,
   "id": "c49c6dbd-7216-4b3c-927f-dcc13d8fa7d7",
   "metadata": {},
   "outputs": [
    {
     "data": {
      "text/plain": [
       "array([0.        , 0.69314718, 1.09861229])"
      ]
     },
     "execution_count": 330,
     "metadata": {},
     "output_type": "execute_result"
    }
   ],
   "source": [
    "np.log(q)"
   ]
  },
  {
   "cell_type": "code",
   "execution_count": 331,
   "id": "f3c53ca5-6901-4e19-9809-a40457702b14",
   "metadata": {},
   "outputs": [
    {
     "data": {
      "text/plain": [
       "1.0"
      ]
     },
     "execution_count": 331,
     "metadata": {},
     "output_type": "execute_result"
    }
   ],
   "source": [
    "np.log10(10)"
   ]
  },
  {
   "cell_type": "code",
   "execution_count": 372,
   "id": "eb25ecc9-70dd-4d67-b89c-0c764c1bb78c",
   "metadata": {},
   "outputs": [],
   "source": [
    "#?np # help(np) ===> cok uzun aciklama veriyor"
   ]
  },
  {
   "cell_type": "markdown",
   "id": "4b613050-f6e0-4106-9faa-09b35a99a5ab",
   "metadata": {},
   "source": [
    "# Numpy ile iki bilinmeyenli Denklem Cozumu"
   ]
  },
  {
   "cell_type": "markdown",
   "id": "80fa6aac-1251-4f42-8ad1-337e254285f7",
   "metadata": {},
   "source": [
    "3x + y = 8\n",
    "\n",
    "2x + 4y = 22"
   ]
  },
  {
   "cell_type": "code",
   "execution_count": 340,
   "id": "fc6e4951-463d-4f55-b8ce-4ea1548d0e1b",
   "metadata": {},
   "outputs": [],
   "source": [
    "a = np.array([[3,1],   # katsayilari gir ayri ayri\n",
    "              [2,4]])\n",
    "b = np.array([8, 22]) # sonuclari gir"
   ]
  },
  {
   "cell_type": "code",
   "execution_count": 342,
   "id": "9be4e2b6-06ce-4392-84f7-2017059a6b54",
   "metadata": {},
   "outputs": [
    {
     "data": {
      "text/plain": [
       "array([1., 5.])"
      ]
     },
     "execution_count": 342,
     "metadata": {},
     "output_type": "execute_result"
    }
   ],
   "source": [
    "solution = np.linalg.solve(a,b)\n",
    "solution # x= 1 ,  y = 5"
   ]
  },
  {
   "cell_type": "code",
   "execution_count": 361,
   "id": "5ed994cf-93ab-460b-8d0d-0e4497216947",
   "metadata": {},
   "outputs": [],
   "source": [
    "a = np.array([[3,1,2],   # katsayilari gir ayri ayri\n",
    "              [2,3,7],\n",
    "             [2,2,3]])\n",
    "b = np.array([12, 31, 16]) # sonuclari gir"
   ]
  },
  {
   "cell_type": "code",
   "execution_count": 362,
   "id": "6f8a7de0-0912-4ff6-9e95-6c1bfb87b31a",
   "metadata": {},
   "outputs": [
    {
     "data": {
      "text/plain": [
       "array([1.18181818, 1.90909091, 3.27272727])"
      ]
     },
     "execution_count": 362,
     "metadata": {},
     "output_type": "execute_result"
    }
   ],
   "source": [
    "solution = np.linalg.solve(a,b)\n",
    "solution # x= 1 ,  y = 5"
   ]
  },
  {
   "cell_type": "markdown",
   "id": "8f7b4c69-06a6-41f0-a2ee-cf14c347b3c6",
   "metadata": {},
   "source": [
    "## Uc bilinmeyenli cozumu "
   ]
  },
  {
   "cell_type": "code",
   "execution_count": 370,
   "id": "ede68c68-ada1-45d5-a7c4-fa4a0457ba8c",
   "metadata": {},
   "outputs": [],
   "source": [
    "e = np.array([[3,-2,4],   # katsayilari gir ayri ayri\n",
    "              [2,3,2],\n",
    "             [1,1,1]])\n",
    "f = np.array([5, 7, 3]) # sonuclari gir"
   ]
  },
  {
   "cell_type": "code",
   "execution_count": 371,
   "id": "2981d6ff-b027-45ba-bed2-3715c1b0053d",
   "metadata": {},
   "outputs": [
    {
     "data": {
      "text/plain": [
       "array([1., 1., 1.])"
      ]
     },
     "execution_count": 371,
     "metadata": {},
     "output_type": "execute_result"
    }
   ],
   "source": [
    "cozum = np.linalg.solve(e,f)\n",
    "cozum"
   ]
  },
  {
   "cell_type": "code",
   "execution_count": null,
   "id": "b47ff8f6-70a8-4002-ab9c-149ffd483254",
   "metadata": {},
   "outputs": [],
   "source": []
  }
 ],
 "metadata": {
  "kernelspec": {
   "display_name": "Python 3 (ipykernel)",
   "language": "python",
   "name": "python3"
  },
  "language_info": {
   "codemirror_mode": {
    "name": "ipython",
    "version": 3
   },
   "file_extension": ".py",
   "mimetype": "text/x-python",
   "name": "python",
   "nbconvert_exporter": "python",
   "pygments_lexer": "ipython3",
   "version": "3.8.8"
  }
 },
 "nbformat": 4,
 "nbformat_minor": 5
}

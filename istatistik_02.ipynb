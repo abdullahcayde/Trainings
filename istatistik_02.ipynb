{
 "cells": [
  {
   "cell_type": "markdown",
   "id": "ab9fe557-4e13-4416-b939-7b7a86258880",
   "metadata": {},
   "source": [
    "# Veri Bilimi icin istatistik\n",
    "\n",
    "#### 01- Ornek Teorisi\n",
    "#### 02- Betimsel istatistikler\n",
    "#### 03- Guven Araliklari\n",
    "#### 04- Olasilik Dagilimlari\n",
    "#### 05- Hipotez Testleri\n",
    "#### 06- Varyans Analizi\n",
    "#### 07- Korelasyon Analizi"
   ]
  },
  {
   "cell_type": "markdown",
   "id": "ea71f88b-0c52-4526-8ec8-1d500c6e64dc",
   "metadata": {},
   "source": [
    "Yeni Kutuphaneler\n",
    "\n",
    "01 - researchpy\n",
    "!pip install researchpy\n",
    "import researchpy as rp\n",
    "\n",
    "02 - statsmodels.stats.api\n",
    "import statsmodels.stats.api as sms\n",
    "\n"
   ]
  },
  {
   "cell_type": "markdown",
   "id": "b04df0e0-075d-4eaf-a617-8747924120b8",
   "metadata": {},
   "source": [
    "# <font color=red>01 - Ornek Teorisi<font>"
   ]
  },
  {
   "cell_type": "code",
   "execution_count": 16,
   "id": "42c8501e-bd30-4aff-8cda-0311d2e6cc6c",
   "metadata": {},
   "outputs": [],
   "source": [
    "import numpy as np\n",
    "import pandas as pd\n",
    "import seaborn as sns"
   ]
  },
  {
   "cell_type": "code",
   "execution_count": 2,
   "id": "7bbe1ba1-d721-4ee4-a064-baacc9fdebc8",
   "metadata": {},
   "outputs": [],
   "source": [
    "# Amac 10.000 kisilik bir ilcenin Yas ortalamasini bulmak\n",
    "\n",
    "# 0 - 80 yas arliginda random 10.000 sayi olustur\n",
    "populasyon = np.random.randint(0, 80, 10000)"
   ]
  },
  {
   "cell_type": "code",
   "execution_count": 3,
   "id": "f09538f7-6c5e-4d76-b085-c9ccbaf589e4",
   "metadata": {},
   "outputs": [
    {
     "data": {
      "text/plain": [
       "array([39, 69, 46, 18, 15, 29, 19, 51, 26, 56])"
      ]
     },
     "execution_count": 3,
     "metadata": {},
     "output_type": "execute_result"
    }
   ],
   "source": [
    "populasyon[0:10]"
   ]
  },
  {
   "cell_type": "markdown",
   "id": "9e08ca89-b6ec-451d-9cbd-12831ce395c6",
   "metadata": {},
   "source": [
    "### 1.1. Orneklem Cekimi"
   ]
  },
  {
   "cell_type": "code",
   "execution_count": 4,
   "id": "3cb2e405-7dec-4d80-8f87-d33c7338e915",
   "metadata": {},
   "outputs": [
    {
     "data": {
      "text/plain": [
       "array([20, 45,  6, 70, 32, 41, 28, 15, 51, 63])"
      ]
     },
     "execution_count": 4,
     "metadata": {},
     "output_type": "execute_result"
    }
   ],
   "source": [
    "# Her orneklem cekiminde ayni populasyon ve orneklemi cekecek,bu yuzden seed kullanilir.\n",
    "# Not : 115 onemli degil, istedigin sayi gir\n",
    "\n",
    "np.random.seed(115)\n",
    "orneklem = np.random.choice(a= populasyon, size= 100)\n",
    "orneklem[0:10]"
   ]
  },
  {
   "cell_type": "code",
   "execution_count": 5,
   "id": "f7dd23cc-9452-42d1-be8e-f16a15c850f9",
   "metadata": {},
   "outputs": [
    {
     "data": {
      "text/plain": [
       "40.21"
      ]
     },
     "execution_count": 5,
     "metadata": {},
     "output_type": "execute_result"
    }
   ],
   "source": [
    "#orneklem Ortalama\n",
    "\n",
    "orneklem.mean()"
   ]
  },
  {
   "cell_type": "code",
   "execution_count": 6,
   "id": "b5dbad42-9c27-40c8-94ad-4d8bd4ea8c82",
   "metadata": {},
   "outputs": [
    {
     "data": {
      "text/plain": [
       "39.5362"
      ]
     },
     "execution_count": 6,
     "metadata": {},
     "output_type": "execute_result"
    }
   ],
   "source": [
    "#Populasyon Ortalama ==> Dikkat ikisi ne kadar da yakin !!!!\n",
    "\n",
    "populasyon.mean()"
   ]
  },
  {
   "cell_type": "markdown",
   "id": "4bbd0622-af54-41ab-bacc-c9caeace1b27",
   "metadata": {},
   "source": [
    "### 1.2. Orneklem Dagilimi"
   ]
  },
  {
   "cell_type": "code",
   "execution_count": 7,
   "id": "f7acfc19-0548-44a2-b418-c7dd81ad2b1c",
   "metadata": {},
   "outputs": [],
   "source": [
    "np.random.seed(10)\n",
    "orneklem1 = np.random.choice(a= populasyon, size= 100)\n",
    "orneklem2 = np.random.choice(a= populasyon, size= 100)\n",
    "orneklem3 = np.random.choice(a= populasyon, size= 100)\n",
    "orneklem4 = np.random.choice(a= populasyon, size= 100)\n",
    "orneklem5 = np.random.choice(a= populasyon, size= 100)\n",
    "orneklem6 = np.random.choice(a= populasyon, size= 100)\n",
    "orneklem7 = np.random.choice(a= populasyon, size= 100)\n",
    "orneklem8 = np.random.choice(a= populasyon, size= 100)\n",
    "orneklem9 = np.random.choice(a= populasyon, size= 100)\n",
    "orneklem10 = np.random.choice(a= populasyon, size= 100)"
   ]
  },
  {
   "cell_type": "markdown",
   "id": "2a2a0474-2a6a-4999-b006-d52aa31d6fa1",
   "metadata": {},
   "source": [
    "#### Bu 10 Orneklemenin ortalamasi hesaplanir"
   ]
  },
  {
   "cell_type": "code",
   "execution_count": 8,
   "id": "8677ea1a-e05b-45c9-8677-10af0302de6b",
   "metadata": {},
   "outputs": [
    {
     "name": "stdout",
     "output_type": "stream",
     "text": [
      "40.81\n",
      "41.17\n",
      "41.0\n",
      "39.69\n",
      "40.23\n",
      "38.46\n",
      "36.48\n",
      "37.16\n",
      "40.68\n",
      "40.59\n",
      "Ortalamasi =  39.626999999999995\n"
     ]
    }
   ],
   "source": [
    "list1 = [orneklem1, orneklem2, orneklem3, orneklem4, orneklem5, orneklem6, orneklem7,orneklem8,\n",
    "        orneklem9, orneklem10]\n",
    "toplam  = 0\n",
    "for i in list1:\n",
    "    toplam+= i.mean()\n",
    "    print(i.mean())\n",
    "print('Ortalamasi = ', toplam/10)"
   ]
  },
  {
   "cell_type": "code",
   "execution_count": 9,
   "id": "2c5980ba-3980-4477-b764-d314e268299a",
   "metadata": {},
   "outputs": [
    {
     "data": {
      "text/plain": [
       "40.81"
      ]
     },
     "execution_count": 9,
     "metadata": {},
     "output_type": "execute_result"
    }
   ],
   "source": [
    "orneklem1.mean()"
   ]
  },
  {
   "cell_type": "code",
   "execution_count": 10,
   "id": "7673a82b-c61a-4318-9d2d-16017a673fad",
   "metadata": {},
   "outputs": [
    {
     "data": {
      "text/plain": [
       "41.17"
      ]
     },
     "execution_count": 10,
     "metadata": {},
     "output_type": "execute_result"
    }
   ],
   "source": [
    "orneklem2.mean()"
   ]
  },
  {
   "cell_type": "code",
   "execution_count": 11,
   "id": "b0614006-f25f-41e7-a1c6-16575ca14cc7",
   "metadata": {},
   "outputs": [
    {
     "data": {
      "text/plain": [
       "39.69"
      ]
     },
     "execution_count": 11,
     "metadata": {},
     "output_type": "execute_result"
    }
   ],
   "source": [
    "orneklem4.mean()"
   ]
  },
  {
   "cell_type": "markdown",
   "id": "a4f6cd8c-6bba-4206-b2e7-932d817c964a",
   "metadata": {},
   "source": [
    "# <font color=red>02 - Betimsel istatistikler<font>"
   ]
  },
  {
   "cell_type": "code",
   "execution_count": 12,
   "id": "a6bffd2f-0255-479a-a77c-9993c140f431",
   "metadata": {},
   "outputs": [
    {
     "data": {
      "text/html": [
       "<div>\n",
       "<style scoped>\n",
       "    .dataframe tbody tr th:only-of-type {\n",
       "        vertical-align: middle;\n",
       "    }\n",
       "\n",
       "    .dataframe tbody tr th {\n",
       "        vertical-align: top;\n",
       "    }\n",
       "\n",
       "    .dataframe thead th {\n",
       "        text-align: right;\n",
       "    }\n",
       "</style>\n",
       "<table border=\"1\" class=\"dataframe\">\n",
       "  <thead>\n",
       "    <tr style=\"text-align: right;\">\n",
       "      <th></th>\n",
       "      <th>total_bill</th>\n",
       "      <th>tip</th>\n",
       "      <th>sex</th>\n",
       "      <th>smoker</th>\n",
       "      <th>day</th>\n",
       "      <th>time</th>\n",
       "      <th>size</th>\n",
       "    </tr>\n",
       "  </thead>\n",
       "  <tbody>\n",
       "    <tr>\n",
       "      <th>0</th>\n",
       "      <td>16.99</td>\n",
       "      <td>1.01</td>\n",
       "      <td>Female</td>\n",
       "      <td>No</td>\n",
       "      <td>Sun</td>\n",
       "      <td>Dinner</td>\n",
       "      <td>2</td>\n",
       "    </tr>\n",
       "    <tr>\n",
       "      <th>1</th>\n",
       "      <td>10.34</td>\n",
       "      <td>1.66</td>\n",
       "      <td>Male</td>\n",
       "      <td>No</td>\n",
       "      <td>Sun</td>\n",
       "      <td>Dinner</td>\n",
       "      <td>3</td>\n",
       "    </tr>\n",
       "    <tr>\n",
       "      <th>2</th>\n",
       "      <td>21.01</td>\n",
       "      <td>3.50</td>\n",
       "      <td>Male</td>\n",
       "      <td>No</td>\n",
       "      <td>Sun</td>\n",
       "      <td>Dinner</td>\n",
       "      <td>3</td>\n",
       "    </tr>\n",
       "    <tr>\n",
       "      <th>3</th>\n",
       "      <td>23.68</td>\n",
       "      <td>3.31</td>\n",
       "      <td>Male</td>\n",
       "      <td>No</td>\n",
       "      <td>Sun</td>\n",
       "      <td>Dinner</td>\n",
       "      <td>2</td>\n",
       "    </tr>\n",
       "    <tr>\n",
       "      <th>4</th>\n",
       "      <td>24.59</td>\n",
       "      <td>3.61</td>\n",
       "      <td>Female</td>\n",
       "      <td>No</td>\n",
       "      <td>Sun</td>\n",
       "      <td>Dinner</td>\n",
       "      <td>4</td>\n",
       "    </tr>\n",
       "  </tbody>\n",
       "</table>\n",
       "</div>"
      ],
      "text/plain": [
       "   total_bill   tip     sex smoker  day    time  size\n",
       "0       16.99  1.01  Female     No  Sun  Dinner     2\n",
       "1       10.34  1.66    Male     No  Sun  Dinner     3\n",
       "2       21.01  3.50    Male     No  Sun  Dinner     3\n",
       "3       23.68  3.31    Male     No  Sun  Dinner     2\n",
       "4       24.59  3.61  Female     No  Sun  Dinner     4"
      ]
     },
     "execution_count": 12,
     "metadata": {},
     "output_type": "execute_result"
    }
   ],
   "source": [
    "import seaborn as sns\n",
    "tips = sns.load_dataset('tips')\n",
    "df = tips.copy()\n",
    "df.head()"
   ]
  },
  {
   "cell_type": "code",
   "execution_count": 13,
   "id": "74cc0df4-a0b5-4f4d-a98e-20db29e48098",
   "metadata": {},
   "outputs": [
    {
     "data": {
      "text/html": [
       "<div>\n",
       "<style scoped>\n",
       "    .dataframe tbody tr th:only-of-type {\n",
       "        vertical-align: middle;\n",
       "    }\n",
       "\n",
       "    .dataframe tbody tr th {\n",
       "        vertical-align: top;\n",
       "    }\n",
       "\n",
       "    .dataframe thead th {\n",
       "        text-align: right;\n",
       "    }\n",
       "</style>\n",
       "<table border=\"1\" class=\"dataframe\">\n",
       "  <thead>\n",
       "    <tr style=\"text-align: right;\">\n",
       "      <th></th>\n",
       "      <th>count</th>\n",
       "      <th>mean</th>\n",
       "      <th>std</th>\n",
       "      <th>min</th>\n",
       "      <th>25%</th>\n",
       "      <th>50%</th>\n",
       "      <th>75%</th>\n",
       "      <th>max</th>\n",
       "    </tr>\n",
       "  </thead>\n",
       "  <tbody>\n",
       "    <tr>\n",
       "      <th>total_bill</th>\n",
       "      <td>244.0</td>\n",
       "      <td>19.785943</td>\n",
       "      <td>8.902412</td>\n",
       "      <td>3.07</td>\n",
       "      <td>13.3475</td>\n",
       "      <td>17.795</td>\n",
       "      <td>24.1275</td>\n",
       "      <td>50.81</td>\n",
       "    </tr>\n",
       "    <tr>\n",
       "      <th>tip</th>\n",
       "      <td>244.0</td>\n",
       "      <td>2.998279</td>\n",
       "      <td>1.383638</td>\n",
       "      <td>1.00</td>\n",
       "      <td>2.0000</td>\n",
       "      <td>2.900</td>\n",
       "      <td>3.5625</td>\n",
       "      <td>10.00</td>\n",
       "    </tr>\n",
       "    <tr>\n",
       "      <th>size</th>\n",
       "      <td>244.0</td>\n",
       "      <td>2.569672</td>\n",
       "      <td>0.951100</td>\n",
       "      <td>1.00</td>\n",
       "      <td>2.0000</td>\n",
       "      <td>2.000</td>\n",
       "      <td>3.0000</td>\n",
       "      <td>6.00</td>\n",
       "    </tr>\n",
       "  </tbody>\n",
       "</table>\n",
       "</div>"
      ],
      "text/plain": [
       "            count       mean       std   min      25%     50%      75%    max\n",
       "total_bill  244.0  19.785943  8.902412  3.07  13.3475  17.795  24.1275  50.81\n",
       "tip         244.0   2.998279  1.383638  1.00   2.0000   2.900   3.5625  10.00\n",
       "size        244.0   2.569672  0.951100  1.00   2.0000   2.000   3.0000   6.00"
      ]
     },
     "execution_count": 13,
     "metadata": {},
     "output_type": "execute_result"
    }
   ],
   "source": [
    "df.describe().T"
   ]
  },
  {
   "cell_type": "markdown",
   "id": "3b766e14-b91d-4344-b36e-e4dff1f37d0a",
   "metadata": {},
   "source": [
    "### Yeni Kutuphane inidirdik ===>  !pip install researchpy\n"
   ]
  },
  {
   "cell_type": "code",
   "execution_count": 14,
   "id": "463cbb65-185d-46b2-8892-0a9d93837251",
   "metadata": {
    "collapsed": true,
    "jupyter": {
     "outputs_hidden": true
    },
    "tags": []
   },
   "outputs": [
    {
     "name": "stdout",
     "output_type": "stream",
     "text": [
      "Requirement already satisfied: researchpy in /Users/macbook/opt/anaconda3/lib/python3.8/site-packages (0.3.2)\n",
      "Requirement already satisfied: scipy in /Users/macbook/opt/anaconda3/lib/python3.8/site-packages (from researchpy) (1.7.1)\n",
      "Requirement already satisfied: statsmodels in /Users/macbook/opt/anaconda3/lib/python3.8/site-packages (from researchpy) (0.12.2)\n",
      "Requirement already satisfied: pandas in /Users/macbook/opt/anaconda3/lib/python3.8/site-packages (from researchpy) (1.3.3)\n",
      "Requirement already satisfied: numpy in /Users/macbook/opt/anaconda3/lib/python3.8/site-packages (from researchpy) (1.21.2)\n",
      "Requirement already satisfied: patsy in /Users/macbook/opt/anaconda3/lib/python3.8/site-packages (from researchpy) (0.5.2)\n",
      "Requirement already satisfied: python-dateutil>=2.7.3 in /Users/macbook/opt/anaconda3/lib/python3.8/site-packages (from pandas->researchpy) (2.8.2)\n",
      "Requirement already satisfied: pytz>=2017.3 in /Users/macbook/opt/anaconda3/lib/python3.8/site-packages (from pandas->researchpy) (2021.3)\n",
      "Requirement already satisfied: six>=1.5 in /Users/macbook/opt/anaconda3/lib/python3.8/site-packages (from python-dateutil>=2.7.3->pandas->researchpy) (1.16.0)\n"
     ]
    }
   ],
   "source": [
    "!pip install researchpy\n",
    "import researchpy as rp"
   ]
  },
  {
   "cell_type": "code",
   "execution_count": 15,
   "id": "568bea0a-af38-4685-953b-ece74c99de08",
   "metadata": {
    "tags": []
   },
   "outputs": [
    {
     "name": "stdout",
     "output_type": "stream",
     "text": [
      "\n",
      "\n"
     ]
    },
    {
     "data": {
      "text/html": [
       "<div>\n",
       "<style scoped>\n",
       "    .dataframe tbody tr th:only-of-type {\n",
       "        vertical-align: middle;\n",
       "    }\n",
       "\n",
       "    .dataframe tbody tr th {\n",
       "        vertical-align: top;\n",
       "    }\n",
       "\n",
       "    .dataframe thead th {\n",
       "        text-align: right;\n",
       "    }\n",
       "</style>\n",
       "<table border=\"1\" class=\"dataframe\">\n",
       "  <thead>\n",
       "    <tr style=\"text-align: right;\">\n",
       "      <th></th>\n",
       "      <th>Variable</th>\n",
       "      <th>N</th>\n",
       "      <th>Mean</th>\n",
       "      <th>SD</th>\n",
       "      <th>SE</th>\n",
       "      <th>95% Conf.</th>\n",
       "      <th>Interval</th>\n",
       "    </tr>\n",
       "  </thead>\n",
       "  <tbody>\n",
       "    <tr>\n",
       "      <th>0</th>\n",
       "      <td>total_bill</td>\n",
       "      <td>244.0</td>\n",
       "      <td>19.7859</td>\n",
       "      <td>8.9024</td>\n",
       "      <td>0.5699</td>\n",
       "      <td>18.6633</td>\n",
       "      <td>20.9086</td>\n",
       "    </tr>\n",
       "    <tr>\n",
       "      <th>1</th>\n",
       "      <td>tip</td>\n",
       "      <td>244.0</td>\n",
       "      <td>2.9983</td>\n",
       "      <td>1.3836</td>\n",
       "      <td>0.0886</td>\n",
       "      <td>2.8238</td>\n",
       "      <td>3.1728</td>\n",
       "    </tr>\n",
       "    <tr>\n",
       "      <th>2</th>\n",
       "      <td>size</td>\n",
       "      <td>244.0</td>\n",
       "      <td>2.5697</td>\n",
       "      <td>0.9511</td>\n",
       "      <td>0.0609</td>\n",
       "      <td>2.4497</td>\n",
       "      <td>2.6896</td>\n",
       "    </tr>\n",
       "  </tbody>\n",
       "</table>\n",
       "</div>"
      ],
      "text/plain": [
       "     Variable      N     Mean      SD      SE  95% Conf.  Interval\n",
       "0  total_bill  244.0  19.7859  8.9024  0.5699    18.6633   20.9086\n",
       "1         tip  244.0   2.9983  1.3836  0.0886     2.8238    3.1728\n",
       "2        size  244.0   2.5697  0.9511  0.0609     2.4497    2.6896"
      ]
     },
     "execution_count": 15,
     "metadata": {},
     "output_type": "execute_result"
    }
   ],
   "source": [
    "# Numeric Degiskenler icin summary_cont\n",
    "\n",
    "# -----Default ayarlari-------\n",
    "# summary_cont(group1, conf = 0.95, decimals = 4) ===> decimal = ondalik 4\n",
    "\n",
    "# Variable  = Degiskenler\n",
    "# N         = Gozlem Sayisi\n",
    "# Mean      = Ortalama\n",
    "# SD        = Standart Sapma\n",
    "# SE        = Standart Hatasi\n",
    "# %95 Confindence interval = Guven Araligi ===> (18.6633 - 20.9086)\n",
    "\n",
    "rp.summary_cont(df[['total_bill', 'tip', 'size']])"
   ]
  },
  {
   "cell_type": "code",
   "execution_count": 16,
   "id": "d0e5287d-b06f-4203-9fa5-2fa62be5b34b",
   "metadata": {},
   "outputs": [
    {
     "data": {
      "text/html": [
       "<div>\n",
       "<style scoped>\n",
       "    .dataframe tbody tr th:only-of-type {\n",
       "        vertical-align: middle;\n",
       "    }\n",
       "\n",
       "    .dataframe tbody tr th {\n",
       "        vertical-align: top;\n",
       "    }\n",
       "\n",
       "    .dataframe thead th {\n",
       "        text-align: right;\n",
       "    }\n",
       "</style>\n",
       "<table border=\"1\" class=\"dataframe\">\n",
       "  <thead>\n",
       "    <tr style=\"text-align: right;\">\n",
       "      <th></th>\n",
       "      <th>Variable</th>\n",
       "      <th>Outcome</th>\n",
       "      <th>Count</th>\n",
       "      <th>Percent</th>\n",
       "    </tr>\n",
       "  </thead>\n",
       "  <tbody>\n",
       "    <tr>\n",
       "      <th>0</th>\n",
       "      <td>sex</td>\n",
       "      <td>Male</td>\n",
       "      <td>157</td>\n",
       "      <td>64.34</td>\n",
       "    </tr>\n",
       "    <tr>\n",
       "      <th>1</th>\n",
       "      <td></td>\n",
       "      <td>Female</td>\n",
       "      <td>87</td>\n",
       "      <td>35.66</td>\n",
       "    </tr>\n",
       "    <tr>\n",
       "      <th>2</th>\n",
       "      <td>smoker</td>\n",
       "      <td>No</td>\n",
       "      <td>151</td>\n",
       "      <td>61.89</td>\n",
       "    </tr>\n",
       "    <tr>\n",
       "      <th>3</th>\n",
       "      <td></td>\n",
       "      <td>Yes</td>\n",
       "      <td>93</td>\n",
       "      <td>38.11</td>\n",
       "    </tr>\n",
       "    <tr>\n",
       "      <th>4</th>\n",
       "      <td>day</td>\n",
       "      <td>Sat</td>\n",
       "      <td>87</td>\n",
       "      <td>35.66</td>\n",
       "    </tr>\n",
       "    <tr>\n",
       "      <th>5</th>\n",
       "      <td></td>\n",
       "      <td>Sun</td>\n",
       "      <td>76</td>\n",
       "      <td>31.15</td>\n",
       "    </tr>\n",
       "    <tr>\n",
       "      <th>6</th>\n",
       "      <td></td>\n",
       "      <td>Thur</td>\n",
       "      <td>62</td>\n",
       "      <td>25.41</td>\n",
       "    </tr>\n",
       "    <tr>\n",
       "      <th>7</th>\n",
       "      <td></td>\n",
       "      <td>Fri</td>\n",
       "      <td>19</td>\n",
       "      <td>7.79</td>\n",
       "    </tr>\n",
       "    <tr>\n",
       "      <th>8</th>\n",
       "      <td>time</td>\n",
       "      <td>Dinner</td>\n",
       "      <td>176</td>\n",
       "      <td>72.13</td>\n",
       "    </tr>\n",
       "    <tr>\n",
       "      <th>9</th>\n",
       "      <td></td>\n",
       "      <td>Lunch</td>\n",
       "      <td>68</td>\n",
       "      <td>27.87</td>\n",
       "    </tr>\n",
       "  </tbody>\n",
       "</table>\n",
       "</div>"
      ],
      "text/plain": [
       "  Variable Outcome  Count  Percent\n",
       "0      sex    Male    157    64.34\n",
       "1           Female     87    35.66\n",
       "2   smoker      No    151    61.89\n",
       "3              Yes     93    38.11\n",
       "4      day     Sat     87    35.66\n",
       "5              Sun     76    31.15\n",
       "6             Thur     62    25.41\n",
       "7              Fri     19     7.79\n",
       "8     time  Dinner    176    72.13\n",
       "9            Lunch     68    27.87"
      ]
     },
     "execution_count": 16,
     "metadata": {},
     "output_type": "execute_result"
    }
   ],
   "source": [
    "# Kategorik Degiskenler icin summary_cat\n",
    "\n",
    "# -----Default ayarlari-------\n",
    "#summary_cat(group1, ascending= False)\n",
    "\n",
    "rp.summary_cat(df[['sex', 'smoker', 'day', 'time']])"
   ]
  },
  {
   "cell_type": "markdown",
   "id": "23f84d61-0045-4fe0-9612-dfb4c929c840",
   "metadata": {},
   "source": [
    "## <font color=blue>Kovaryans (Covaryans)<font>"
   ]
  },
  {
   "cell_type": "code",
   "execution_count": 17,
   "id": "119cb85b-d3ef-490e-97be-f72f69dd9156",
   "metadata": {},
   "outputs": [
    {
     "data": {
      "text/html": [
       "<div>\n",
       "<style scoped>\n",
       "    .dataframe tbody tr th:only-of-type {\n",
       "        vertical-align: middle;\n",
       "    }\n",
       "\n",
       "    .dataframe tbody tr th {\n",
       "        vertical-align: top;\n",
       "    }\n",
       "\n",
       "    .dataframe thead th {\n",
       "        text-align: right;\n",
       "    }\n",
       "</style>\n",
       "<table border=\"1\" class=\"dataframe\">\n",
       "  <thead>\n",
       "    <tr style=\"text-align: right;\">\n",
       "      <th></th>\n",
       "      <th>tip</th>\n",
       "      <th>total_bill</th>\n",
       "    </tr>\n",
       "  </thead>\n",
       "  <tbody>\n",
       "    <tr>\n",
       "      <th>tip</th>\n",
       "      <td>1.914455</td>\n",
       "      <td>8.323502</td>\n",
       "    </tr>\n",
       "    <tr>\n",
       "      <th>total_bill</th>\n",
       "      <td>8.323502</td>\n",
       "      <td>79.252939</td>\n",
       "    </tr>\n",
       "  </tbody>\n",
       "</table>\n",
       "</div>"
      ],
      "text/plain": [
       "                 tip  total_bill\n",
       "tip         1.914455    8.323502\n",
       "total_bill  8.323502   79.252939"
      ]
     },
     "execution_count": 17,
     "metadata": {},
     "output_type": "execute_result"
    }
   ],
   "source": [
    "# Kovaryans = iki degiskenin iliskilerinin degisimi\n",
    "\n",
    "df[['tip', 'total_bill']].cov()"
   ]
  },
  {
   "cell_type": "markdown",
   "id": "58fa22aa-cbb3-4468-b560-c3232ff795ec",
   "metadata": {},
   "source": [
    "## <font color=blue>Korelasyon (Corelasyon)<font>"
   ]
  },
  {
   "cell_type": "code",
   "execution_count": 18,
   "id": "f54d162c-673f-4dc3-bd53-7a0328e0aac7",
   "metadata": {},
   "outputs": [
    {
     "data": {
      "text/html": [
       "<div>\n",
       "<style scoped>\n",
       "    .dataframe tbody tr th:only-of-type {\n",
       "        vertical-align: middle;\n",
       "    }\n",
       "\n",
       "    .dataframe tbody tr th {\n",
       "        vertical-align: top;\n",
       "    }\n",
       "\n",
       "    .dataframe thead th {\n",
       "        text-align: right;\n",
       "    }\n",
       "</style>\n",
       "<table border=\"1\" class=\"dataframe\">\n",
       "  <thead>\n",
       "    <tr style=\"text-align: right;\">\n",
       "      <th></th>\n",
       "      <th>tip</th>\n",
       "      <th>total_bill</th>\n",
       "    </tr>\n",
       "  </thead>\n",
       "  <tbody>\n",
       "    <tr>\n",
       "      <th>tip</th>\n",
       "      <td>1.000000</td>\n",
       "      <td>0.675734</td>\n",
       "    </tr>\n",
       "    <tr>\n",
       "      <th>total_bill</th>\n",
       "      <td>0.675734</td>\n",
       "      <td>1.000000</td>\n",
       "    </tr>\n",
       "  </tbody>\n",
       "</table>\n",
       "</div>"
      ],
      "text/plain": [
       "                 tip  total_bill\n",
       "tip         1.000000    0.675734\n",
       "total_bill  0.675734    1.000000"
      ]
     },
     "execution_count": 18,
     "metadata": {},
     "output_type": "execute_result"
    }
   ],
   "source": [
    "# Korelasyon = Degiskenler arasindaki iliski (-1, 0, 1) \n",
    "\n",
    "df[['tip', 'total_bill']].corr()"
   ]
  },
  {
   "cell_type": "code",
   "execution_count": 19,
   "id": "fe2e64f2-213f-4197-b07b-b15543eb68ba",
   "metadata": {},
   "outputs": [],
   "source": [
    "# Not:  Tip ile Total_bill arasinda orta siddete pozitif yonlu Korelasyon var (0.67)"
   ]
  },
  {
   "cell_type": "code",
   "execution_count": 20,
   "id": "17ec507d-6854-4376-94fc-010db4474ad0",
   "metadata": {},
   "outputs": [],
   "source": [
    "### Korelasyon Grafigi"
   ]
  },
  {
   "cell_type": "code",
   "execution_count": 21,
   "id": "1db6e49b-1256-4609-930d-a90431020ed3",
   "metadata": {},
   "outputs": [
    {
     "data": {
      "image/png": "[encoded data removed]",
      "text/plain": [
       "<Figure size 360x360 with 1 Axes>"
      ]
     },
     "metadata": {
      "needs_background": "light"
     },
     "output_type": "display_data"
    }
   ],
   "source": [
    "sns.lmplot(x= 'total_bill', y= 'tip', data= df);"
   ]
  },
  {
   "cell_type": "markdown",
   "id": "828ca846-a8ac-41e5-bcd9-ddf19dcfa558",
   "metadata": {},
   "source": [
    "# <font color=red>03 - Guven Araligi<font>"
   ]
  },
  {
   "cell_type": "code",
   "execution_count": 22,
   "id": "bfa59b87-a0ff-40eb-91d7-fbd0c2af3e3d",
   "metadata": {},
   "outputs": [],
   "source": [
    "# Problem :\n",
    "# CEO fiyat belirleme konusunda bilimsel bir dayanak ve esneklik istiyor\n",
    "\n",
    "# Detaylar:\n",
    "# 1 - Satici , alici ve urun var.\n",
    "# 2 - Alicilara urune ne kadar ucret odersiniz diye soruluyor.\n",
    "# 3 - Optimum fiyat bilimsel ve esnek olarak bulunmak isteniyor."
   ]
  },
  {
   "cell_type": "code",
   "execution_count": 23,
   "id": "4056c94d-a4b0-4f14-9bf3-82978b56bfb3",
   "metadata": {},
   "outputs": [
    {
     "data": {
      "text/plain": [
       "58.492"
      ]
     },
     "execution_count": 23,
     "metadata": {},
     "output_type": "execute_result"
    }
   ],
   "source": [
    "fiyatlar = np.random.randint(10, 110, 1000)\n",
    "fiyatlar.mean()"
   ]
  },
  {
   "cell_type": "markdown",
   "id": "46f72c88-e90b-4074-bfb7-57a1b1198a0d",
   "metadata": {},
   "source": [
    "### Yeni Kutuphane ekledik ====> statsmodels.stats.api"
   ]
  },
  {
   "cell_type": "code",
   "execution_count": 24,
   "id": "f5ef9a79-55cd-400b-aa51-d8ae9db7588a",
   "metadata": {},
   "outputs": [],
   "source": [
    "import statsmodels.stats.api as sms"
   ]
  },
  {
   "cell_type": "code",
   "execution_count": 25,
   "id": "c6a7572a-ab3d-4bb3-b735-007d3861664c",
   "metadata": {},
   "outputs": [
    {
     "data": {
      "text/plain": [
       "(56.67953887736034, 60.30446112263965)"
      ]
     },
     "execution_count": 25,
     "metadata": {},
     "output_type": "execute_result"
    }
   ],
   "source": [
    "# confidence internal \n",
    "\n",
    "sms.DescrStatsW(fiyatlar).tconfint_mean()  "
   ]
  },
  {
   "cell_type": "code",
   "execution_count": 26,
   "id": "07c68fba-ad35-4f3a-96c0-c0057e374189",
   "metadata": {},
   "outputs": [],
   "source": [
    "# Not : Kullanicilarin urunu almak icin odemeyi goze aldigi fiyat;\n",
    "# istatistiksel olalarak %95 guvenilirlik ile 56 - 60 arasindadir demek\n",
    "\n",
    "# alfa ile ilgilenmiyoruz (simdilik), Hata Payin hep %5 alacagiz , sistemde default olarak %95 tanimli zaten"
   ]
  },
  {
   "cell_type": "markdown",
   "id": "21979c0f-c33d-4d9a-9854-ac8778d56eab",
   "metadata": {},
   "source": [
    "# <font color=red>04 - Olasilik Dagilimlari<font>"
   ]
  },
  {
   "cell_type": "markdown",
   "id": "499145fa-f5db-4134-ac85-f1f3898af603",
   "metadata": {},
   "source": [
    "## <font color=blue>4.1. - Bernoulli Dagilimi<font>  "
   ]
  },
  {
   "cell_type": "markdown",
   "id": "7dd0954d-2947-4358-b953-d4b8de96c792",
   "metadata": {
    "tags": []
   },
   "source": [
    "${\\displaystyle f(k;p)=p^{k}(1-p)^{1-k}\\quad {\\text{for }}k\\in \\{0,1\\}}$\n",
    "\n",
    "\n",
    "${\\displaystyle \\operatorname {E} \\left(X\\right)=p}$\n",
    "\n",
    "$\\operatorname {Var} [X]=pq=p(1-p)$"
   ]
  },
  {
   "cell_type": "markdown",
   "id": "24098b56-0507-42f1-a527-eafdd9dc9a9b",
   "metadata": {},
   "source": [
    "#### Yeni Kutuphane ekledik ====> from scipy.stats import bernoulli"
   ]
  },
  {
   "cell_type": "code",
   "execution_count": 2,
   "id": "f0c9214f-a547-4d41-884b-4c5a1828150b",
   "metadata": {},
   "outputs": [],
   "source": [
    "# Olasilik Dagilimi islemleri icin Scipy kullanilir\n",
    "\n",
    "from scipy.stats import bernoulli"
   ]
  },
  {
   "cell_type": "code",
   "execution_count": 7,
   "id": "c64cd1bf-5ce8-4ddf-92c2-a2a4cc284b69",
   "metadata": {},
   "outputs": [],
   "source": [
    "#p=  Tura gelme olasiligi (Biz verdik bunu , sonuca ulasmisiz gibi yaptik)\n",
    "\n",
    "p = 0.6"
   ]
  },
  {
   "cell_type": "code",
   "execution_count": 8,
   "id": "a3a03dba-158c-4a8b-8ee1-35f183ac4592",
   "metadata": {},
   "outputs": [
    {
     "data": {
      "text/plain": [
       "0.6"
      ]
     },
     "execution_count": 8,
     "metadata": {},
     "output_type": "execute_result"
    }
   ],
   "source": [
    "#pmf = probability mass func.(olasilik kutle fonk.)\n",
    "\n",
    "rv = bernoulli(p)\n",
    "rv.pmf(k = 1) # Tura olma olasiligi                "
   ]
  },
  {
   "cell_type": "code",
   "execution_count": 9,
   "id": "e0129704-dea8-482f-a283-d2718e893ada",
   "metadata": {},
   "outputs": [
    {
     "data": {
      "text/plain": [
       "0.4"
      ]
     },
     "execution_count": 9,
     "metadata": {},
     "output_type": "execute_result"
    }
   ],
   "source": [
    "rv.pmf(k = 0)  # Yazi olma olasiligi"
   ]
  },
  {
   "cell_type": "markdown",
   "id": "46c33180-296f-4b24-9e79-ea299b1f28ef",
   "metadata": {},
   "source": [
    "## <font color=blue>4.2. - Buyuk Sayilar Yasasi<font> "
   ]
  },
  {
   "cell_type": "code",
   "execution_count": 35,
   "id": "7ea850c9-690b-4b27-850c-565ac838b184",
   "metadata": {},
   "outputs": [
    {
     "name": "stdout",
     "output_type": "stream",
     "text": [
      "Atis Sayisi:  2 ---- Yazi olasiligi: 50.00\n",
      "Atis Sayisi:  4 ---- Yazi olasiligi: 0.00\n",
      "Atis Sayisi:  8 ---- Yazi olasiligi: 62.50\n",
      "Atis Sayisi:  16 ---- Yazi olasiligi: 43.75\n",
      "Atis Sayisi:  32 ---- Yazi olasiligi: 46.88\n",
      "Atis Sayisi:  64 ---- Yazi olasiligi: 56.25\n",
      "Atis Sayisi:  128 ---- Yazi olasiligi: 50.78\n",
      "Atis Sayisi:  256 ---- Yazi olasiligi: 52.73\n",
      "Atis Sayisi:  512 ---- Yazi olasiligi: 52.93\n",
      "Atis Sayisi:  1024 ---- Yazi olasiligi: 50.20\n",
      "Atis Sayisi:  2048 ---- Yazi olasiligi: 48.58\n",
      "Atis Sayisi:  4096 ---- Yazi olasiligi: 49.49\n",
      "Atis Sayisi:  8192 ---- Yazi olasiligi: 49.58\n",
      "Atis Sayisi:  16384 ---- Yazi olasiligi: 49.96\n",
      "Atis Sayisi:  32768 ---- Yazi olasiligi: 50.00\n",
      "Atis Sayisi:  65536 ---- Yazi olasiligi: 49.68\n",
      "Atis Sayisi:  131072 ---- Yazi olasiligi: 49.97\n",
      "Atis Sayisi:  262144 ---- Yazi olasiligi: 50.13\n",
      "Atis Sayisi:  524288 ---- Yazi olasiligi: 50.01\n",
      "Atis Sayisi:  1048576 ---- Yazi olasiligi: 50.09\n"
     ]
    }
   ],
   "source": [
    "# rng = np.random.RandomState(123)  ===> Random islemlerini sabitlemek icin (np.random.seed(115) ayni)\n",
    "\n",
    "rng = np.random.RandomState(123)\n",
    "for i in range(1,21):\n",
    "    deney_sayisi = 2**i\n",
    "    yazi_turalar = rng.randint(0, 2, size= deney_sayisi)\n",
    "    yazi_olasiliklari = np.mean(yazi_turalar)\n",
    "    print('Atis Sayisi: ', deney_sayisi, '----', 'Yazi olasiligi: %.2f' % (yazi_olasiliklari * 100))"
   ]
  },
  {
   "cell_type": "markdown",
   "id": "134639c0-eb01-4b30-b3d5-2944a45e851d",
   "metadata": {},
   "source": [
    "## <font color=blue>4.3. - Binom Dagilimi<font> "
   ]
  },
  {
   "cell_type": "markdown",
   "id": "afc095f1-ea32-460e-ba1e-4e3d36bee718",
   "metadata": {},
   "source": [
    "${\\displaystyle f(k;n,p)={n \\choose k}p^{k}(1-p)^{n-k}}$, k = 0, 1, 2, ...,n\n",
    "\n",
    "\n",
    "${\\displaystyle \\operatorname {E} (X)=np}$\n",
    "\n",
    "\n",
    "${\\displaystyle \\operatorname {Var} (X)=np(1-p)}$"
   ]
  },
  {
   "cell_type": "markdown",
   "id": "b0ba8b3c-1cc3-4659-8656-412da4c9abae",
   "metadata": {
    "tags": []
   },
   "source": [
    "#### Yeni Kutuphane ekledik ====> from scipy.stats import binom"
   ]
  },
  {
   "cell_type": "code",
   "execution_count": 44,
   "id": "f21e120d-51c1-42b0-87cb-5b78de9468f6",
   "metadata": {},
   "outputs": [],
   "source": [
    "from scipy.stats import binom"
   ]
  },
  {
   "cell_type": "code",
   "execution_count": 46,
   "id": "37ce5501-7311-41d9-b1ed-a9aee6a82fcb",
   "metadata": {},
   "outputs": [
    {
     "name": "stdout",
     "output_type": "stream",
     "text": [
      "0.36972963764972655\n",
      "0.002897787123761478\n",
      "7.006035693977194e-08\n"
     ]
    }
   ],
   "source": [
    "# Problem : bir sirkette verilen 100 Reklami 1,5,10 kisinin gorme olasiligi\n",
    "# Bilinen deger p = 0.01 (binom olasilik degeri biliniyor)\n",
    "\n",
    "# p = BINOM Olasilik degeri\n",
    "# n = Deneme Sayisi\n",
    "# k = rassal degiskenin alacagi degerler (1,5,10)  ===> k veya x ayni seyler\n",
    "\n",
    "p = 0.01\n",
    "n = 100\n",
    "rv = binom(n,p)\n",
    "print(rv.pmf(1))\n",
    "print(rv.pmf(5))\n",
    "print(rv.pmf(10))"
   ]
  },
  {
   "cell_type": "code",
   "execution_count": null,
   "id": "a9409d6c-e341-4718-aaf9-99b8c4334c5a",
   "metadata": {},
   "outputs": [],
   "source": []
  }
 ],
 "metadata": {
  "kernelspec": {
   "display_name": "Python 3 (ipykernel)",
   "language": "python",
   "name": "python3"
  },
  "language_info": {
   "codemirror_mode": {
    "name": "ipython",
    "version": 3
   },
   "file_extension": ".py",
   "mimetype": "text/x-python",
   "name": "python",
   "nbconvert_exporter": "python",
   "pygments_lexer": "ipython3",
   "version": "3.8.8"
  }
 },
 "nbformat": 4,
 "nbformat_minor": 5
}

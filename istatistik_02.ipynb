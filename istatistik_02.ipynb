{
 "cells": [
  {
   "cell_type": "markdown",
   "id": "ab9fe557-4e13-4416-b939-7b7a86258880",
   "metadata": {},
   "source": [
    "# Veri Bilimi icin istatistik\n",
    "\n",
    "#### 01- Ornek Teorisi\n",
    "#### 02- Betimsel istatistikler\n",
    "#### 03- Guven Araliklari\n",
    "#### 04- Olasilik Dagilimlari\n",
    "#### 05- Hipotez Testleri\n",
    "#### 06- Varyans Analizi\n",
    "#### 07- Korelasyon Analizi"
   ]
  },
  {
   "cell_type": "markdown",
   "id": "ea71f88b-0c52-4526-8ec8-1d500c6e64dc",
   "metadata": {},
   "source": [
    "Yeni Kutuphaneler\n",
    "\n",
    "01 - researchpy\n",
    "!pip install researchpy\n",
    "import researchpy as rp\n",
    "\n",
    "02 - statsmodels.stats.api\n",
    "import statsmodels.stats.api as sms\n",
    "\n"
   ]
  },
  {
   "cell_type": "markdown",
   "id": "b04df0e0-075d-4eaf-a617-8747924120b8",
   "metadata": {},
   "source": [
    "# <font color=red>01 - Ornek Teorisi<font>"
   ]
  },
  {
   "cell_type": "code",
   "execution_count": 1,
   "id": "42c8501e-bd30-4aff-8cda-0311d2e6cc6c",
   "metadata": {},
   "outputs": [],
   "source": [
    "import numpy as np\n",
    "import pandas as pd\n",
    "import seaborn as sns\n",
    "\n",
    "# Grafik Ayarlari\n",
    "# Arka tarf cizgili olur\n",
    "sns.set_theme(style=\"whitegrid\")\n",
    "\n",
    "import warnings\n",
    "warnings.simplefilter(action='ignore')"
   ]
  },
  {
   "cell_type": "code",
   "execution_count": 2,
   "id": "7bbe1ba1-d721-4ee4-a064-baacc9fdebc8",
   "metadata": {},
   "outputs": [],
   "source": [
    "# Amac 10.000 kisilik bir ilcenin Yas ortalamasini bulmak\n",
    "\n",
    "# 0 - 80 yas arliginda random 10.000 sayi olustur\n",
    "populasyon = np.random.randint(0, 80, 10000)"
   ]
  },
  {
   "cell_type": "code",
   "execution_count": 3,
   "id": "f09538f7-6c5e-4d76-b085-c9ccbaf589e4",
   "metadata": {},
   "outputs": [
    {
     "data": {
      "text/plain": [
       "array([23, 16, 28, 37,  1, 79, 53, 64,  7,  9])"
      ]
     },
     "execution_count": 3,
     "metadata": {},
     "output_type": "execute_result"
    }
   ],
   "source": [
    "populasyon[0:10]"
   ]
  },
  {
   "cell_type": "markdown",
   "id": "9e08ca89-b6ec-451d-9cbd-12831ce395c6",
   "metadata": {},
   "source": [
    "### 1.1. Orneklem Cekimi"
   ]
  },
  {
   "cell_type": "code",
   "execution_count": 4,
   "id": "3cb2e405-7dec-4d80-8f87-d33c7338e915",
   "metadata": {},
   "outputs": [
    {
     "data": {
      "text/plain": [
       "array([21, 60, 30,  9, 78, 39, 60,  3, 72, 61])"
      ]
     },
     "execution_count": 4,
     "metadata": {},
     "output_type": "execute_result"
    }
   ],
   "source": [
    "# Her orneklem cekiminde ayni populasyon ve orneklemi cekecek,bu yuzden seed kullanilir.\n",
    "# Not : 115 onemli degil, istedigin sayi gir\n",
    "\n",
    "np.random.seed(115)\n",
    "orneklem = np.random.choice(a= populasyon, size= 100)\n",
    "orneklem[0:10]"
   ]
  },
  {
   "cell_type": "code",
   "execution_count": 5,
   "id": "f7dd23cc-9452-42d1-be8e-f16a15c850f9",
   "metadata": {},
   "outputs": [
    {
     "data": {
      "text/plain": [
       "44.79"
      ]
     },
     "execution_count": 5,
     "metadata": {},
     "output_type": "execute_result"
    }
   ],
   "source": [
    "#orneklem Ortalama\n",
    "\n",
    "orneklem.mean()"
   ]
  },
  {
   "cell_type": "code",
   "execution_count": 6,
   "id": "b5dbad42-9c27-40c8-94ad-4d8bd4ea8c82",
   "metadata": {},
   "outputs": [
    {
     "data": {
      "text/plain": [
       "39.755"
      ]
     },
     "execution_count": 6,
     "metadata": {},
     "output_type": "execute_result"
    }
   ],
   "source": [
    "#Populasyon Ortalama ==> Dikkat ikisi ne kadar da yakin !!!!\n",
    "\n",
    "populasyon.mean()"
   ]
  },
  {
   "cell_type": "markdown",
   "id": "4bbd0622-af54-41ab-bacc-c9caeace1b27",
   "metadata": {},
   "source": [
    "### 1.2. Orneklem Dagilimi"
   ]
  },
  {
   "cell_type": "code",
   "execution_count": 7,
   "id": "f7acfc19-0548-44a2-b418-c7dd81ad2b1c",
   "metadata": {},
   "outputs": [],
   "source": [
    "np.random.seed(10)\n",
    "orneklem1 = np.random.choice(a= populasyon, size= 100)\n",
    "orneklem2 = np.random.choice(a= populasyon, size= 100)\n",
    "orneklem3 = np.random.choice(a= populasyon, size= 100)\n",
    "orneklem4 = np.random.choice(a= populasyon, size= 100)\n",
    "orneklem5 = np.random.choice(a= populasyon, size= 100)\n",
    "orneklem6 = np.random.choice(a= populasyon, size= 100)\n",
    "orneklem7 = np.random.choice(a= populasyon, size= 100)\n",
    "orneklem8 = np.random.choice(a= populasyon, size= 100)\n",
    "orneklem9 = np.random.choice(a= populasyon, size= 100)\n",
    "orneklem10 = np.random.choice(a= populasyon, size= 100)"
   ]
  },
  {
   "cell_type": "markdown",
   "id": "2a2a0474-2a6a-4999-b006-d52aa31d6fa1",
   "metadata": {},
   "source": [
    "#### Bu 10 Orneklemenin ortalamasi hesaplanir"
   ]
  },
  {
   "cell_type": "code",
   "execution_count": 8,
   "id": "8677ea1a-e05b-45c9-8677-10af0302de6b",
   "metadata": {},
   "outputs": [
    {
     "name": "stdout",
     "output_type": "stream",
     "text": [
      "42.76\n",
      "38.06\n",
      "38.73\n",
      "37.88\n",
      "39.03\n",
      "40.22\n",
      "34.84\n",
      "40.75\n",
      "33.73\n",
      "37.69\n",
      "Ortalamasi =  38.369\n"
     ]
    }
   ],
   "source": [
    "list1 = [orneklem1, orneklem2, orneklem3, orneklem4, orneklem5, orneklem6, orneklem7,orneklem8,\n",
    "        orneklem9, orneklem10]\n",
    "toplam  = 0\n",
    "for i in list1:\n",
    "    toplam+= i.mean()\n",
    "    print(i.mean())\n",
    "print('Ortalamasi = ', toplam/10)"
   ]
  },
  {
   "cell_type": "code",
   "execution_count": 9,
   "id": "2c5980ba-3980-4477-b764-d314e268299a",
   "metadata": {},
   "outputs": [
    {
     "data": {
      "text/plain": [
       "42.76"
      ]
     },
     "execution_count": 9,
     "metadata": {},
     "output_type": "execute_result"
    }
   ],
   "source": [
    "orneklem1.mean()"
   ]
  },
  {
   "cell_type": "code",
   "execution_count": 10,
   "id": "7673a82b-c61a-4318-9d2d-16017a673fad",
   "metadata": {},
   "outputs": [
    {
     "data": {
      "text/plain": [
       "38.06"
      ]
     },
     "execution_count": 10,
     "metadata": {},
     "output_type": "execute_result"
    }
   ],
   "source": [
    "orneklem2.mean()"
   ]
  },
  {
   "cell_type": "code",
   "execution_count": 11,
   "id": "b0614006-f25f-41e7-a1c6-16575ca14cc7",
   "metadata": {},
   "outputs": [
    {
     "data": {
      "text/plain": [
       "37.88"
      ]
     },
     "execution_count": 11,
     "metadata": {},
     "output_type": "execute_result"
    }
   ],
   "source": [
    "orneklem4.mean()"
   ]
  },
  {
   "cell_type": "markdown",
   "id": "a4f6cd8c-6bba-4206-b2e7-932d817c964a",
   "metadata": {},
   "source": [
    "# <font color=red>02 - Betimsel istatistikler<font>"
   ]
  },
  {
   "cell_type": "code",
   "execution_count": 12,
   "id": "a6bffd2f-0255-479a-a77c-9993c140f431",
   "metadata": {},
   "outputs": [
    {
     "data": {
      "text/html": [
       "<div>\n",
       "<style scoped>\n",
       "    .dataframe tbody tr th:only-of-type {\n",
       "        vertical-align: middle;\n",
       "    }\n",
       "\n",
       "    .dataframe tbody tr th {\n",
       "        vertical-align: top;\n",
       "    }\n",
       "\n",
       "    .dataframe thead th {\n",
       "        text-align: right;\n",
       "    }\n",
       "</style>\n",
       "<table border=\"1\" class=\"dataframe\">\n",
       "  <thead>\n",
       "    <tr style=\"text-align: right;\">\n",
       "      <th></th>\n",
       "      <th>total_bill</th>\n",
       "      <th>tip</th>\n",
       "      <th>sex</th>\n",
       "      <th>smoker</th>\n",
       "      <th>day</th>\n",
       "      <th>time</th>\n",
       "      <th>size</th>\n",
       "    </tr>\n",
       "  </thead>\n",
       "  <tbody>\n",
       "    <tr>\n",
       "      <th>0</th>\n",
       "      <td>16.99</td>\n",
       "      <td>1.01</td>\n",
       "      <td>Female</td>\n",
       "      <td>No</td>\n",
       "      <td>Sun</td>\n",
       "      <td>Dinner</td>\n",
       "      <td>2</td>\n",
       "    </tr>\n",
       "    <tr>\n",
       "      <th>1</th>\n",
       "      <td>10.34</td>\n",
       "      <td>1.66</td>\n",
       "      <td>Male</td>\n",
       "      <td>No</td>\n",
       "      <td>Sun</td>\n",
       "      <td>Dinner</td>\n",
       "      <td>3</td>\n",
       "    </tr>\n",
       "    <tr>\n",
       "      <th>2</th>\n",
       "      <td>21.01</td>\n",
       "      <td>3.50</td>\n",
       "      <td>Male</td>\n",
       "      <td>No</td>\n",
       "      <td>Sun</td>\n",
       "      <td>Dinner</td>\n",
       "      <td>3</td>\n",
       "    </tr>\n",
       "    <tr>\n",
       "      <th>3</th>\n",
       "      <td>23.68</td>\n",
       "      <td>3.31</td>\n",
       "      <td>Male</td>\n",
       "      <td>No</td>\n",
       "      <td>Sun</td>\n",
       "      <td>Dinner</td>\n",
       "      <td>2</td>\n",
       "    </tr>\n",
       "    <tr>\n",
       "      <th>4</th>\n",
       "      <td>24.59</td>\n",
       "      <td>3.61</td>\n",
       "      <td>Female</td>\n",
       "      <td>No</td>\n",
       "      <td>Sun</td>\n",
       "      <td>Dinner</td>\n",
       "      <td>4</td>\n",
       "    </tr>\n",
       "  </tbody>\n",
       "</table>\n",
       "</div>"
      ],
      "text/plain": [
       "   total_bill   tip     sex smoker  day    time  size\n",
       "0       16.99  1.01  Female     No  Sun  Dinner     2\n",
       "1       10.34  1.66    Male     No  Sun  Dinner     3\n",
       "2       21.01  3.50    Male     No  Sun  Dinner     3\n",
       "3       23.68  3.31    Male     No  Sun  Dinner     2\n",
       "4       24.59  3.61  Female     No  Sun  Dinner     4"
      ]
     },
     "execution_count": 12,
     "metadata": {},
     "output_type": "execute_result"
    }
   ],
   "source": [
    "import seaborn as sns\n",
    "tips = sns.load_dataset('tips')\n",
    "df = tips.copy()\n",
    "df.head()"
   ]
  },
  {
   "cell_type": "code",
   "execution_count": 13,
   "id": "74cc0df4-a0b5-4f4d-a98e-20db29e48098",
   "metadata": {},
   "outputs": [
    {
     "data": {
      "text/html": [
       "<div>\n",
       "<style scoped>\n",
       "    .dataframe tbody tr th:only-of-type {\n",
       "        vertical-align: middle;\n",
       "    }\n",
       "\n",
       "    .dataframe tbody tr th {\n",
       "        vertical-align: top;\n",
       "    }\n",
       "\n",
       "    .dataframe thead th {\n",
       "        text-align: right;\n",
       "    }\n",
       "</style>\n",
       "<table border=\"1\" class=\"dataframe\">\n",
       "  <thead>\n",
       "    <tr style=\"text-align: right;\">\n",
       "      <th></th>\n",
       "      <th>count</th>\n",
       "      <th>mean</th>\n",
       "      <th>std</th>\n",
       "      <th>min</th>\n",
       "      <th>25%</th>\n",
       "      <th>50%</th>\n",
       "      <th>75%</th>\n",
       "      <th>max</th>\n",
       "    </tr>\n",
       "  </thead>\n",
       "  <tbody>\n",
       "    <tr>\n",
       "      <th>total_bill</th>\n",
       "      <td>244.0</td>\n",
       "      <td>19.785943</td>\n",
       "      <td>8.902412</td>\n",
       "      <td>3.07</td>\n",
       "      <td>13.3475</td>\n",
       "      <td>17.795</td>\n",
       "      <td>24.1275</td>\n",
       "      <td>50.81</td>\n",
       "    </tr>\n",
       "    <tr>\n",
       "      <th>tip</th>\n",
       "      <td>244.0</td>\n",
       "      <td>2.998279</td>\n",
       "      <td>1.383638</td>\n",
       "      <td>1.00</td>\n",
       "      <td>2.0000</td>\n",
       "      <td>2.900</td>\n",
       "      <td>3.5625</td>\n",
       "      <td>10.00</td>\n",
       "    </tr>\n",
       "    <tr>\n",
       "      <th>size</th>\n",
       "      <td>244.0</td>\n",
       "      <td>2.569672</td>\n",
       "      <td>0.951100</td>\n",
       "      <td>1.00</td>\n",
       "      <td>2.0000</td>\n",
       "      <td>2.000</td>\n",
       "      <td>3.0000</td>\n",
       "      <td>6.00</td>\n",
       "    </tr>\n",
       "  </tbody>\n",
       "</table>\n",
       "</div>"
      ],
      "text/plain": [
       "            count       mean       std   min      25%     50%      75%    max\n",
       "total_bill  244.0  19.785943  8.902412  3.07  13.3475  17.795  24.1275  50.81\n",
       "tip         244.0   2.998279  1.383638  1.00   2.0000   2.900   3.5625  10.00\n",
       "size        244.0   2.569672  0.951100  1.00   2.0000   2.000   3.0000   6.00"
      ]
     },
     "execution_count": 13,
     "metadata": {},
     "output_type": "execute_result"
    }
   ],
   "source": [
    "df.describe().T"
   ]
  },
  {
   "cell_type": "markdown",
   "id": "3b766e14-b91d-4344-b36e-e4dff1f37d0a",
   "metadata": {},
   "source": [
    "### Yeni Kutuphane inidirdik ===>  !pip install researchpy\n"
   ]
  },
  {
   "cell_type": "code",
   "execution_count": 14,
   "id": "463cbb65-185d-46b2-8892-0a9d93837251",
   "metadata": {
    "tags": []
   },
   "outputs": [
    {
     "name": "stdout",
     "output_type": "stream",
     "text": [
      "Requirement already satisfied: researchpy in /Users/macbook/opt/anaconda3/lib/python3.8/site-packages (0.3.2)\n",
      "Requirement already satisfied: scipy in /Users/macbook/opt/anaconda3/lib/python3.8/site-packages (from researchpy) (1.7.1)\n",
      "Requirement already satisfied: patsy in /Users/macbook/opt/anaconda3/lib/python3.8/site-packages (from researchpy) (0.5.2)\n",
      "Requirement already satisfied: pandas in /Users/macbook/opt/anaconda3/lib/python3.8/site-packages (from researchpy) (1.3.3)\n",
      "Requirement already satisfied: statsmodels in /Users/macbook/opt/anaconda3/lib/python3.8/site-packages (from researchpy) (0.12.2)\n",
      "Requirement already satisfied: numpy in /Users/macbook/opt/anaconda3/lib/python3.8/site-packages (from researchpy) (1.21.2)\n",
      "Requirement already satisfied: python-dateutil>=2.7.3 in /Users/macbook/opt/anaconda3/lib/python3.8/site-packages (from pandas->researchpy) (2.8.2)\n",
      "Requirement already satisfied: pytz>=2017.3 in /Users/macbook/opt/anaconda3/lib/python3.8/site-packages (from pandas->researchpy) (2021.3)\n",
      "Requirement already satisfied: six>=1.5 in /Users/macbook/opt/anaconda3/lib/python3.8/site-packages (from python-dateutil>=2.7.3->pandas->researchpy) (1.16.0)\n"
     ]
    }
   ],
   "source": [
    "!pip install researchpy\n",
    "import researchpy as rp"
   ]
  },
  {
   "cell_type": "code",
   "execution_count": 15,
   "id": "568bea0a-af38-4685-953b-ece74c99de08",
   "metadata": {
    "tags": []
   },
   "outputs": [
    {
     "name": "stdout",
     "output_type": "stream",
     "text": [
      "\n",
      "\n"
     ]
    },
    {
     "data": {
      "text/html": [
       "<div>\n",
       "<style scoped>\n",
       "    .dataframe tbody tr th:only-of-type {\n",
       "        vertical-align: middle;\n",
       "    }\n",
       "\n",
       "    .dataframe tbody tr th {\n",
       "        vertical-align: top;\n",
       "    }\n",
       "\n",
       "    .dataframe thead th {\n",
       "        text-align: right;\n",
       "    }\n",
       "</style>\n",
       "<table border=\"1\" class=\"dataframe\">\n",
       "  <thead>\n",
       "    <tr style=\"text-align: right;\">\n",
       "      <th></th>\n",
       "      <th>Variable</th>\n",
       "      <th>N</th>\n",
       "      <th>Mean</th>\n",
       "      <th>SD</th>\n",
       "      <th>SE</th>\n",
       "      <th>95% Conf.</th>\n",
       "      <th>Interval</th>\n",
       "    </tr>\n",
       "  </thead>\n",
       "  <tbody>\n",
       "    <tr>\n",
       "      <th>0</th>\n",
       "      <td>total_bill</td>\n",
       "      <td>244.0</td>\n",
       "      <td>19.7859</td>\n",
       "      <td>8.9024</td>\n",
       "      <td>0.5699</td>\n",
       "      <td>18.6633</td>\n",
       "      <td>20.9086</td>\n",
       "    </tr>\n",
       "    <tr>\n",
       "      <th>1</th>\n",
       "      <td>tip</td>\n",
       "      <td>244.0</td>\n",
       "      <td>2.9983</td>\n",
       "      <td>1.3836</td>\n",
       "      <td>0.0886</td>\n",
       "      <td>2.8238</td>\n",
       "      <td>3.1728</td>\n",
       "    </tr>\n",
       "    <tr>\n",
       "      <th>2</th>\n",
       "      <td>size</td>\n",
       "      <td>244.0</td>\n",
       "      <td>2.5697</td>\n",
       "      <td>0.9511</td>\n",
       "      <td>0.0609</td>\n",
       "      <td>2.4497</td>\n",
       "      <td>2.6896</td>\n",
       "    </tr>\n",
       "  </tbody>\n",
       "</table>\n",
       "</div>"
      ],
      "text/plain": [
       "     Variable      N     Mean      SD      SE  95% Conf.  Interval\n",
       "0  total_bill  244.0  19.7859  8.9024  0.5699    18.6633   20.9086\n",
       "1         tip  244.0   2.9983  1.3836  0.0886     2.8238    3.1728\n",
       "2        size  244.0   2.5697  0.9511  0.0609     2.4497    2.6896"
      ]
     },
     "execution_count": 15,
     "metadata": {},
     "output_type": "execute_result"
    }
   ],
   "source": [
    "# Numeric Degiskenler icin summary_cont\n",
    "\n",
    "# -----Default ayarlari-------\n",
    "# summary_cont(group1, conf = 0.95, decimals = 4) ===> decimal = ondalik 4\n",
    "\n",
    "# Variable  = Degiskenler\n",
    "# N         = Gozlem Sayisi\n",
    "# Mean      = Ortalama\n",
    "# SD        = Standart Sapma\n",
    "# SE        = Standart Hatasi\n",
    "# %95 Confindence interval = Guven Araligi ===> (18.6633 - 20.9086)\n",
    "\n",
    "rp.summary_cont(df[['total_bill', 'tip', 'size']])"
   ]
  },
  {
   "cell_type": "code",
   "execution_count": 16,
   "id": "d0e5287d-b06f-4203-9fa5-2fa62be5b34b",
   "metadata": {},
   "outputs": [
    {
     "data": {
      "text/html": [
       "<div>\n",
       "<style scoped>\n",
       "    .dataframe tbody tr th:only-of-type {\n",
       "        vertical-align: middle;\n",
       "    }\n",
       "\n",
       "    .dataframe tbody tr th {\n",
       "        vertical-align: top;\n",
       "    }\n",
       "\n",
       "    .dataframe thead th {\n",
       "        text-align: right;\n",
       "    }\n",
       "</style>\n",
       "<table border=\"1\" class=\"dataframe\">\n",
       "  <thead>\n",
       "    <tr style=\"text-align: right;\">\n",
       "      <th></th>\n",
       "      <th>Variable</th>\n",
       "      <th>Outcome</th>\n",
       "      <th>Count</th>\n",
       "      <th>Percent</th>\n",
       "    </tr>\n",
       "  </thead>\n",
       "  <tbody>\n",
       "    <tr>\n",
       "      <th>0</th>\n",
       "      <td>sex</td>\n",
       "      <td>Male</td>\n",
       "      <td>157</td>\n",
       "      <td>64.34</td>\n",
       "    </tr>\n",
       "    <tr>\n",
       "      <th>1</th>\n",
       "      <td></td>\n",
       "      <td>Female</td>\n",
       "      <td>87</td>\n",
       "      <td>35.66</td>\n",
       "    </tr>\n",
       "    <tr>\n",
       "      <th>2</th>\n",
       "      <td>smoker</td>\n",
       "      <td>No</td>\n",
       "      <td>151</td>\n",
       "      <td>61.89</td>\n",
       "    </tr>\n",
       "    <tr>\n",
       "      <th>3</th>\n",
       "      <td></td>\n",
       "      <td>Yes</td>\n",
       "      <td>93</td>\n",
       "      <td>38.11</td>\n",
       "    </tr>\n",
       "    <tr>\n",
       "      <th>4</th>\n",
       "      <td>day</td>\n",
       "      <td>Sat</td>\n",
       "      <td>87</td>\n",
       "      <td>35.66</td>\n",
       "    </tr>\n",
       "    <tr>\n",
       "      <th>5</th>\n",
       "      <td></td>\n",
       "      <td>Sun</td>\n",
       "      <td>76</td>\n",
       "      <td>31.15</td>\n",
       "    </tr>\n",
       "    <tr>\n",
       "      <th>6</th>\n",
       "      <td></td>\n",
       "      <td>Thur</td>\n",
       "      <td>62</td>\n",
       "      <td>25.41</td>\n",
       "    </tr>\n",
       "    <tr>\n",
       "      <th>7</th>\n",
       "      <td></td>\n",
       "      <td>Fri</td>\n",
       "      <td>19</td>\n",
       "      <td>7.79</td>\n",
       "    </tr>\n",
       "    <tr>\n",
       "      <th>8</th>\n",
       "      <td>time</td>\n",
       "      <td>Dinner</td>\n",
       "      <td>176</td>\n",
       "      <td>72.13</td>\n",
       "    </tr>\n",
       "    <tr>\n",
       "      <th>9</th>\n",
       "      <td></td>\n",
       "      <td>Lunch</td>\n",
       "      <td>68</td>\n",
       "      <td>27.87</td>\n",
       "    </tr>\n",
       "  </tbody>\n",
       "</table>\n",
       "</div>"
      ],
      "text/plain": [
       "  Variable Outcome  Count  Percent\n",
       "0      sex    Male    157    64.34\n",
       "1           Female     87    35.66\n",
       "2   smoker      No    151    61.89\n",
       "3              Yes     93    38.11\n",
       "4      day     Sat     87    35.66\n",
       "5              Sun     76    31.15\n",
       "6             Thur     62    25.41\n",
       "7              Fri     19     7.79\n",
       "8     time  Dinner    176    72.13\n",
       "9            Lunch     68    27.87"
      ]
     },
     "execution_count": 16,
     "metadata": {},
     "output_type": "execute_result"
    }
   ],
   "source": [
    "# Kategorik Degiskenler icin summary_cat\n",
    "\n",
    "# -----Default ayarlari-------\n",
    "#summary_cat(group1, ascending= False)\n",
    "\n",
    "rp.summary_cat(df[['sex', 'smoker', 'day', 'time']])"
   ]
  },
  {
   "cell_type": "markdown",
   "id": "23f84d61-0045-4fe0-9612-dfb4c929c840",
   "metadata": {},
   "source": [
    "## <font color=blue>Kovaryans (Covaryans)<font>"
   ]
  },
  {
   "cell_type": "code",
   "execution_count": 17,
   "id": "119cb85b-d3ef-490e-97be-f72f69dd9156",
   "metadata": {},
   "outputs": [
    {
     "data": {
      "text/html": [
       "<div>\n",
       "<style scoped>\n",
       "    .dataframe tbody tr th:only-of-type {\n",
       "        vertical-align: middle;\n",
       "    }\n",
       "\n",
       "    .dataframe tbody tr th {\n",
       "        vertical-align: top;\n",
       "    }\n",
       "\n",
       "    .dataframe thead th {\n",
       "        text-align: right;\n",
       "    }\n",
       "</style>\n",
       "<table border=\"1\" class=\"dataframe\">\n",
       "  <thead>\n",
       "    <tr style=\"text-align: right;\">\n",
       "      <th></th>\n",
       "      <th>tip</th>\n",
       "      <th>total_bill</th>\n",
       "    </tr>\n",
       "  </thead>\n",
       "  <tbody>\n",
       "    <tr>\n",
       "      <th>tip</th>\n",
       "      <td>1.914455</td>\n",
       "      <td>8.323502</td>\n",
       "    </tr>\n",
       "    <tr>\n",
       "      <th>total_bill</th>\n",
       "      <td>8.323502</td>\n",
       "      <td>79.252939</td>\n",
       "    </tr>\n",
       "  </tbody>\n",
       "</table>\n",
       "</div>"
      ],
      "text/plain": [
       "                 tip  total_bill\n",
       "tip         1.914455    8.323502\n",
       "total_bill  8.323502   79.252939"
      ]
     },
     "execution_count": 17,
     "metadata": {},
     "output_type": "execute_result"
    }
   ],
   "source": [
    "# Kovaryans = iki degiskenin iliskilerinin degisimi\n",
    "\n",
    "df[['tip', 'total_bill']].cov()"
   ]
  },
  {
   "cell_type": "markdown",
   "id": "58fa22aa-cbb3-4468-b560-c3232ff795ec",
   "metadata": {},
   "source": [
    "## <font color=blue>Korelasyon (Corelasyon)<font>"
   ]
  },
  {
   "cell_type": "code",
   "execution_count": 18,
   "id": "f54d162c-673f-4dc3-bd53-7a0328e0aac7",
   "metadata": {},
   "outputs": [
    {
     "data": {
      "text/html": [
       "<div>\n",
       "<style scoped>\n",
       "    .dataframe tbody tr th:only-of-type {\n",
       "        vertical-align: middle;\n",
       "    }\n",
       "\n",
       "    .dataframe tbody tr th {\n",
       "        vertical-align: top;\n",
       "    }\n",
       "\n",
       "    .dataframe thead th {\n",
       "        text-align: right;\n",
       "    }\n",
       "</style>\n",
       "<table border=\"1\" class=\"dataframe\">\n",
       "  <thead>\n",
       "    <tr style=\"text-align: right;\">\n",
       "      <th></th>\n",
       "      <th>tip</th>\n",
       "      <th>total_bill</th>\n",
       "    </tr>\n",
       "  </thead>\n",
       "  <tbody>\n",
       "    <tr>\n",
       "      <th>tip</th>\n",
       "      <td>1.000000</td>\n",
       "      <td>0.675734</td>\n",
       "    </tr>\n",
       "    <tr>\n",
       "      <th>total_bill</th>\n",
       "      <td>0.675734</td>\n",
       "      <td>1.000000</td>\n",
       "    </tr>\n",
       "  </tbody>\n",
       "</table>\n",
       "</div>"
      ],
      "text/plain": [
       "                 tip  total_bill\n",
       "tip         1.000000    0.675734\n",
       "total_bill  0.675734    1.000000"
      ]
     },
     "execution_count": 18,
     "metadata": {},
     "output_type": "execute_result"
    }
   ],
   "source": [
    "# Korelasyon = Degiskenler arasindaki iliski (-1, 0, 1) \n",
    "\n",
    "df[['tip', 'total_bill']].corr()"
   ]
  },
  {
   "cell_type": "code",
   "execution_count": 19,
   "id": "fe2e64f2-213f-4197-b07b-b15543eb68ba",
   "metadata": {},
   "outputs": [],
   "source": [
    "# Not:  Tip ile Total_bill arasinda orta siddete pozitif yonlu Korelasyon var (0.67)"
   ]
  },
  {
   "cell_type": "code",
   "execution_count": 20,
   "id": "17ec507d-6854-4376-94fc-010db4474ad0",
   "metadata": {},
   "outputs": [],
   "source": [
    "### Korelasyon Grafigi"
   ]
  },
  {
   "cell_type": "code",
   "execution_count": 21,
   "id": "1db6e49b-1256-4609-930d-a90431020ed3",
   "metadata": {},
   "outputs": [
    {
     "data": {
      "image/png": "[encoded data removed]",
      "text/plain": [
       "<Figure size 360x360 with 1 Axes>"
      ]
     },
     "metadata": {},
     "output_type": "display_data"
    }
   ],
   "source": [
    "sns.lmplot(x= 'total_bill', y= 'tip', data= df);"
   ]
  },
  {
   "cell_type": "markdown",
   "id": "828ca846-a8ac-41e5-bcd9-ddf19dcfa558",
   "metadata": {},
   "source": [
    "# <font color=red>03 - Guven Araligi<font>"
   ]
  },
  {
   "cell_type": "code",
   "execution_count": 22,
   "id": "bfa59b87-a0ff-40eb-91d7-fbd0c2af3e3d",
   "metadata": {},
   "outputs": [],
   "source": [
    "# Problem :\n",
    "# CEO fiyat belirleme konusunda bilimsel bir dayanak ve esneklik istiyor\n",
    "\n",
    "# Detaylar:\n",
    "# 1 - Satici , alici ve urun var.\n",
    "# 2 - Alicilara urune ne kadar ucret odersiniz diye soruluyor.\n",
    "# 3 - Optimum fiyat bilimsel ve esnek olarak bulunmak isteniyor."
   ]
  },
  {
   "cell_type": "code",
   "execution_count": 23,
   "id": "4056c94d-a4b0-4f14-9bf3-82978b56bfb3",
   "metadata": {},
   "outputs": [
    {
     "data": {
      "text/plain": [
       "58.492"
      ]
     },
     "execution_count": 23,
     "metadata": {},
     "output_type": "execute_result"
    }
   ],
   "source": [
    "fiyatlar = np.random.randint(10, 110, 1000)\n",
    "fiyatlar.mean()"
   ]
  },
  {
   "cell_type": "markdown",
   "id": "46f72c88-e90b-4074-bfb7-57a1b1198a0d",
   "metadata": {},
   "source": [
    "### Yeni Kutuphane ekledik ====> statsmodels.stats.api"
   ]
  },
  {
   "cell_type": "code",
   "execution_count": 24,
   "id": "f5ef9a79-55cd-400b-aa51-d8ae9db7588a",
   "metadata": {},
   "outputs": [],
   "source": [
    "import statsmodels.stats.api as sms"
   ]
  },
  {
   "cell_type": "code",
   "execution_count": 25,
   "id": "c6a7572a-ab3d-4bb3-b735-007d3861664c",
   "metadata": {},
   "outputs": [
    {
     "data": {
      "text/plain": [
       "(56.67953887736034, 60.30446112263965)"
      ]
     },
     "execution_count": 25,
     "metadata": {},
     "output_type": "execute_result"
    }
   ],
   "source": [
    "# confidence interval (guven araligi)\n",
    "\n",
    "sms.DescrStatsW(fiyatlar).tconfint_mean()  "
   ]
  },
  {
   "cell_type": "code",
   "execution_count": 26,
   "id": "07c68fba-ad35-4f3a-96c0-c0057e374189",
   "metadata": {},
   "outputs": [],
   "source": [
    "# Not : Kullanicilarin urunu almak icin odemeyi goze aldigi fiyat;\n",
    "# istatistiksel olalarak %95 guvenilirlik ile 56 - 60 arasindadir demek\n",
    "\n",
    "# alfa ile ilgilenmiyoruz (simdilik), Hata Payin hep %5 alacagiz , sistemde default olarak %95 tanimli zaten"
   ]
  },
  {
   "cell_type": "markdown",
   "id": "21979c0f-c33d-4d9a-9854-ac8778d56eab",
   "metadata": {},
   "source": [
    "# <font color=red>04 - Olasilik Dagilimlari<font>\n",
    "#### <font color=red>Belirsizlik altinda karar vermeye calisiyoruz ! <font>"
   ]
  },
  {
   "cell_type": "markdown",
   "id": "499145fa-f5db-4134-ac85-f1f3898af603",
   "metadata": {},
   "source": [
    "## <font color=blue>4.1. - Bernoulli Dagilimi<font>  "
   ]
  },
  {
   "cell_type": "markdown",
   "id": "7dd0954d-2947-4358-b953-d4b8de96c792",
   "metadata": {
    "tags": []
   },
   "source": [
    "${\\displaystyle f(k;p)=p^{k}(1-p)^{1-k}\\quad {\\text{for }}k\\in \\{0,1\\}}$\n",
    "\n",
    "\n",
    "${\\displaystyle \\operatorname {E} \\left(X\\right)=p}$\n",
    "\n",
    "$\\operatorname {Var} [X]=pq=p(1-p)$"
   ]
  },
  {
   "cell_type": "markdown",
   "id": "24098b56-0507-42f1-a527-eafdd9dc9a9b",
   "metadata": {},
   "source": [
    "#### Yeni Kutuphane ekledik ====> from scipy.stats import bernoulli"
   ]
  },
  {
   "cell_type": "code",
   "execution_count": 27,
   "id": "f0c9214f-a547-4d41-884b-4c5a1828150b",
   "metadata": {},
   "outputs": [],
   "source": [
    "# Olasilik Dagilimi islemleri icin Scipy kullanilir\n",
    "\n",
    "from scipy.stats import bernoulli"
   ]
  },
  {
   "cell_type": "code",
   "execution_count": 28,
   "id": "c64cd1bf-5ce8-4ddf-92c2-a2a4cc284b69",
   "metadata": {},
   "outputs": [],
   "source": [
    "#p=  Tura gelme olasiligi (Biz verdik bunu , sonuca ulasmisiz gibi yaptik)\n",
    "\n",
    "p = 0.6"
   ]
  },
  {
   "cell_type": "code",
   "execution_count": 29,
   "id": "a3a03dba-158c-4a8b-8ee1-35f183ac4592",
   "metadata": {},
   "outputs": [
    {
     "data": {
      "text/plain": [
       "0.6"
      ]
     },
     "execution_count": 29,
     "metadata": {},
     "output_type": "execute_result"
    }
   ],
   "source": [
    "#pmf = probability mass func.(olasilik kutle fonk.)\n",
    "\n",
    "rv = bernoulli(p)\n",
    "rv.pmf(k = 1) # Tura olma olasiligi                "
   ]
  },
  {
   "cell_type": "code",
   "execution_count": 30,
   "id": "e0129704-dea8-482f-a283-d2718e893ada",
   "metadata": {},
   "outputs": [
    {
     "data": {
      "text/plain": [
       "0.4"
      ]
     },
     "execution_count": 30,
     "metadata": {},
     "output_type": "execute_result"
    }
   ],
   "source": [
    "rv.pmf(k = 0)  # Yazi olma olasiligi"
   ]
  },
  {
   "cell_type": "markdown",
   "id": "46c33180-296f-4b24-9e79-ea299b1f28ef",
   "metadata": {},
   "source": [
    "## <font color=blue>4.2. - Buyuk Sayilar Yasasi<font> "
   ]
  },
  {
   "cell_type": "code",
   "execution_count": 31,
   "id": "7ea850c9-690b-4b27-850c-565ac838b184",
   "metadata": {},
   "outputs": [
    {
     "name": "stdout",
     "output_type": "stream",
     "text": [
      "Atis Sayisi:  2 ---- Yazi olasiligi: 50.00\n",
      "Atis Sayisi:  4 ---- Yazi olasiligi: 0.00\n",
      "Atis Sayisi:  8 ---- Yazi olasiligi: 62.50\n",
      "Atis Sayisi:  16 ---- Yazi olasiligi: 43.75\n",
      "Atis Sayisi:  32 ---- Yazi olasiligi: 46.88\n",
      "Atis Sayisi:  64 ---- Yazi olasiligi: 56.25\n",
      "Atis Sayisi:  128 ---- Yazi olasiligi: 50.78\n",
      "Atis Sayisi:  256 ---- Yazi olasiligi: 52.73\n",
      "Atis Sayisi:  512 ---- Yazi olasiligi: 52.93\n",
      "Atis Sayisi:  1024 ---- Yazi olasiligi: 50.20\n",
      "Atis Sayisi:  2048 ---- Yazi olasiligi: 48.58\n",
      "Atis Sayisi:  4096 ---- Yazi olasiligi: 49.49\n",
      "Atis Sayisi:  8192 ---- Yazi olasiligi: 49.58\n",
      "Atis Sayisi:  16384 ---- Yazi olasiligi: 49.96\n",
      "Atis Sayisi:  32768 ---- Yazi olasiligi: 50.00\n",
      "Atis Sayisi:  65536 ---- Yazi olasiligi: 49.68\n",
      "Atis Sayisi:  131072 ---- Yazi olasiligi: 49.97\n",
      "Atis Sayisi:  262144 ---- Yazi olasiligi: 50.13\n",
      "Atis Sayisi:  524288 ---- Yazi olasiligi: 50.01\n",
      "Atis Sayisi:  1048576 ---- Yazi olasiligi: 50.09\n"
     ]
    }
   ],
   "source": [
    "# rng = np.random.RandomState(123)  ===> Random islemlerini sabitlemek icin (np.random.seed(115) ayni)\n",
    "\n",
    "rng = np.random.RandomState(123)\n",
    "for i in range(1,21):\n",
    "    deney_sayisi = 2**i\n",
    "    yazi_turalar = rng.randint(0, 2, size= deney_sayisi)\n",
    "    yazi_olasiliklari = np.mean(yazi_turalar)\n",
    "    print('Atis Sayisi: ', deney_sayisi, '----', 'Yazi olasiligi: %.2f' % (yazi_olasiliklari * 100))"
   ]
  },
  {
   "cell_type": "markdown",
   "id": "134639c0-eb01-4b30-b3d5-2944a45e851d",
   "metadata": {},
   "source": [
    "## <font color=blue>4.3. - Binom Dagilimi<font> "
   ]
  },
  {
   "cell_type": "markdown",
   "id": "afc095f1-ea32-460e-ba1e-4e3d36bee718",
   "metadata": {},
   "source": [
    "${\\displaystyle f(k;n,p)={n \\choose k}p^{k}(1-p)^{n-k}}$, k = 0, 1, 2, ...,n\n",
    "\n",
    "\n",
    "${\\displaystyle \\operatorname {E} (X)=np}$\n",
    "\n",
    "\n",
    "${\\displaystyle \\operatorname {Var} (X)=np(1-p)}$"
   ]
  },
  {
   "cell_type": "markdown",
   "id": "b0ba8b3c-1cc3-4659-8656-412da4c9abae",
   "metadata": {
    "tags": []
   },
   "source": [
    "#### Yeni Kutuphane ekledik ====> from scipy.stats import binom"
   ]
  },
  {
   "cell_type": "code",
   "execution_count": 32,
   "id": "f21e120d-51c1-42b0-87cb-5b78de9468f6",
   "metadata": {},
   "outputs": [],
   "source": [
    "from scipy.stats import binom"
   ]
  },
  {
   "cell_type": "markdown",
   "id": "c60414d5-81b0-4b67-888c-b591fd51b794",
   "metadata": {
    "tags": []
   },
   "source": [
    "#### Problem : bir sirkette verilen 100 Reklami 1,5,10 kisinin gorme olasiligi\n",
    "#### Bilinen deger p = 0.01 (binom olasilik degeri biliniyor)\n",
    "\n",
    "#### p = BINOM Olasilik degeri\n",
    "#### n = Deneme Sayisi\n",
    "#### k = rassal degiskenin alacagi degerler (1,5,10)  ===> k veya x ayni seyler"
   ]
  },
  {
   "cell_type": "code",
   "execution_count": 33,
   "id": "320d88f5-982f-4b53-bc31-9147c30102a2",
   "metadata": {},
   "outputs": [
    {
     "name": "stdout",
     "output_type": "stream",
     "text": [
      "0.36972963764972655\n",
      "0.002897787123761478\n",
      "7.006035693977194e-08\n"
     ]
    }
   ],
   "source": [
    "p = 0.01\n",
    "n = 100\n",
    "rv = binom(n,p)\n",
    "\n",
    "print(rv.pmf(1))\n",
    "print(rv.pmf(5))\n",
    "print(rv.pmf(10))"
   ]
  },
  {
   "cell_type": "markdown",
   "id": "328b4a9e-010c-4557-b1aa-b3f25c236538",
   "metadata": {},
   "source": [
    "## <font color=blue>4.4. - Poisson Dagilimi<font>"
   ]
  },
  {
   "cell_type": "markdown",
   "id": "bc68eb08-d7bb-4cea-8637-d76d47b25f94",
   "metadata": {},
   "source": [
    "${\\displaystyle f(x,\\lambda )={\\frac {\\lambda ^{x}e^{-\\lambda }}{x!}}\\,\\!}$,  x = 0,1,2,...,n"
   ]
  },
  {
   "cell_type": "markdown",
   "id": "4610d105-9cea-4970-8c4c-f9b7121509ea",
   "metadata": {},
   "source": [
    "#### Yeni Kutuphane ekledik ====> from scipy.stats import poisson"
   ]
  },
  {
   "cell_type": "code",
   "execution_count": 34,
   "id": "954c56b1-a0e1-4443-be04-ed381c2abee0",
   "metadata": {},
   "outputs": [],
   "source": [
    "from scipy.stats import poisson"
   ]
  },
  {
   "cell_type": "code",
   "execution_count": 35,
   "id": "53c03444-afa8-41d0-b999-daa1c5f3f19e",
   "metadata": {},
   "outputs": [],
   "source": [
    "lambda_ = 0.1"
   ]
  },
  {
   "cell_type": "code",
   "execution_count": 36,
   "id": "1b14e287-7073-4b37-a69b-9803da380910",
   "metadata": {},
   "outputs": [
    {
     "name": "stdout",
     "output_type": "stream",
     "text": [
      "0.9048374180359595\n",
      "0.00015080623633932676\n",
      "7.54031181696634e-08\n"
     ]
    }
   ],
   "source": [
    "# Problem : Bir sirkette hatali ilan girisi hesaplanmak isteniyor\n",
    "\n",
    "# Bilinen deger Lamda = 0.1 (ortalama hata sayisi)\n",
    "# x = rassal degerin alacagi deger (0, 3, 5)  ===> Hic hata olmamasi, 3 hata olmasi , 5 hata olasi durumu\n",
    "\n",
    "rv = poisson(mu= lambda_)\n",
    "print(rv.pmf(k= 0))\n",
    "print(rv.pmf(k= 3))\n",
    "print(rv.pmf(k= 5))"
   ]
  },
  {
   "cell_type": "markdown",
   "id": "1adda803-c786-49ec-8ecd-e91f990f07bb",
   "metadata": {},
   "source": [
    "## <font color=blue>4.5. - Normal Dagilim<font>\n",
    "    \n",
    "${\\displaystyle f(x\\mid \\mu ,\\sigma ^{2})={\\frac {1}{\\sqrt {2\\pi \\sigma ^{2}}}}e^{-{\\frac {(x-\\mu )^{2}}{2\\sigma ^{2}}}}}$\n",
    "\n",
    "* $\\mu$  ortalama ya da dağılımın beklenen değeri\n",
    "\n",
    "* ${\\displaystyle \\sigma }$  standart sapma\n",
    "\n",
    "* ${\\displaystyle \\sigma ^{2}}$ varyans"
   ]
  },
  {
   "cell_type": "markdown",
   "id": "669de954-c428-493e-940e-65e4c96ce6ee",
   "metadata": {},
   "source": [
    "#### Yeni Kutuphane ekledik ====> from scipy.stats import norm"
   ]
  },
  {
   "cell_type": "code",
   "execution_count": 37,
   "id": "25e94947-dda3-4a6f-8dd9-71b9ee5a03fd",
   "metadata": {},
   "outputs": [],
   "source": [
    "from scipy.stats import norm"
   ]
  },
  {
   "cell_type": "code",
   "execution_count": 38,
   "id": "853ef960-5c74-4cc0-baa5-196cffdfb7fe",
   "metadata": {},
   "outputs": [
    {
     "data": {
      "text/plain": [
       "0.02275013194817921"
      ]
     },
     "execution_count": 38,
     "metadata": {},
     "output_type": "execute_result"
    }
   ],
   "source": [
    "# Problem : Bir sirkette ortalama satis =  80k, standart sapma = 5k,\n",
    "#Dagilim =  Normal (Hipotez ve benzeri testler sonucu dagilimin normal oldugu bulunur)\n",
    "\n",
    "#90K'dan fazla satis yapma olasiligi\n",
    "\n",
    "1-norm.cdf(90, 80, 5)    # ===> 1- norm.cdf(istenen_deger, ortalama, standart_sapma )"
   ]
  },
  {
   "cell_type": "code",
   "execution_count": 39,
   "id": "75f76ff6-8b7a-441c-a435-68e711e81989",
   "metadata": {},
   "outputs": [
    {
     "data": {
      "text/plain": [
       "0.9772498680518208"
      ]
     },
     "execution_count": 39,
     "metadata": {},
     "output_type": "execute_result"
    }
   ],
   "source": [
    "#70K'dan fazla satis yapma olasiligi\n",
    "\n",
    "1-norm.cdf(70, 80, 5)"
   ]
  },
  {
   "cell_type": "code",
   "execution_count": 40,
   "id": "c3b89770-8ef9-4346-b84f-25f87158b13d",
   "metadata": {},
   "outputs": [
    {
     "data": {
      "text/plain": [
       "0.08075665923377107"
      ]
     },
     "execution_count": 40,
     "metadata": {},
     "output_type": "execute_result"
    }
   ],
   "source": [
    "#73K'den az satis yapma olasiligi  (Dikkat 1 -norm yapmadik !!!!)\n",
    "\n",
    "norm.cdf(73, 80, 5)"
   ]
  },
  {
   "cell_type": "code",
   "execution_count": 41,
   "id": "994255a9-5eb4-49c4-bd0d-92b59f5988a2",
   "metadata": {},
   "outputs": [
    {
     "data": {
      "text/plain": [
       "0.13590512198327787"
      ]
     },
     "execution_count": 41,
     "metadata": {},
     "output_type": "execute_result"
    }
   ],
   "source": [
    "# 85 ile 90 arasinda olma olasiligi\n",
    "\n",
    "(1 - norm.cdf(85, 80, 5)) - (1- norm.cdf(90, 80, 5))"
   ]
  },
  {
   "cell_type": "code",
   "execution_count": 42,
   "id": "9db85b05-ce86-48c3-92c2-fd9cf753b231",
   "metadata": {},
   "outputs": [
    {
     "data": {
      "text/plain": [
       "0.13590512198327787"
      ]
     },
     "execution_count": 42,
     "metadata": {},
     "output_type": "execute_result"
    }
   ],
   "source": [
    "# 85 ile 90 arasinda olma olasiligi (Farkli)\n",
    "\n",
    "norm.cdf(90, 80, 5) - norm.cdf(85, 80, 5)"
   ]
  },
  {
   "cell_type": "markdown",
   "id": "cec91e46-2f12-4716-83b0-d21a06564de9",
   "metadata": {},
   "source": [
    "# <font color=red>05 - Hipotez Testleri<font>\n",
    "\n",
    "## <font color=red>05.A - Tek Orneklem T Testi (Parametric One Sample T Test )<font>"
   ]
  },
  {
   "cell_type": "markdown",
   "id": "224646e1-b365-4a9c-b83d-4a6de2148f96",
   "metadata": {},
   "source": [
    "Örnek ortalamasına ilişkin test yapmak için kullanılır.\n",
    "\n",
    "**Hipotezler:**\n",
    "\n",
    "<d><i>H</i><sub>0</sub>: <i>μ</i> = <i>50</i></d>   \n",
    "<d><i>H</i><sub>1</sub>: <i>μ</i> ≠ <i>50</i></d><br><br>\n",
    "\n",
    "<d><i>H</i><sub>0</sub>: <i>μ</i> <= <i>50</i></d><br>\n",
    "<d><i>H</i><sub>1</sub>: <i>μ</i> > <i>50</i></d><br><br>\n",
    "\n",
    "<d><i>H</i><sub>0</sub>: <i>μ</i> >= <i>50</i></d><br>\n",
    "<d><i>H</i><sub>1</sub>: <i>μ</i> < <i>50</i></d><br><br>\n",
    "\n",
    "\n",
    "\n",
    "\n",
    "<table></table>\n",
    "\n",
    "**Test İstatistiği:**\n",
    "\n",
    "${\\displaystyle t={\\frac {{\\bar {x}}-\\mu _{0}}{\\frac {s}{\\sqrt {n}}}}}$"
   ]
  },
  {
   "cell_type": "markdown",
   "id": "b382861d-f639-4d40-877e-3b17cc639f54",
   "metadata": {},
   "source": [
    "#### Problem : internet sitemizde gecirilen surenin 170 sn fazla mi az mi oldugu kontrol edilmek isteniyor.\n",
    "##### H0  = 170\n",
    "##### H1 != 170"
   ]
  },
  {
   "cell_type": "code",
   "execution_count": 43,
   "id": "53362aa5-04f6-47bc-ba76-7e7dfc324241",
   "metadata": {},
   "outputs": [],
   "source": [
    "olcumler = np.array([17, 160, 234, 149, 145, 107, 197, 75, 201, 225, 211, 119, \n",
    "              157, 145, 127, 244, 163, 114, 145,  65, 112, 185, 202, 146,\n",
    "              203, 224, 203, 114, 188, 156, 187, 154, 177, 95, 165, 50, 110, \n",
    "              216, 138, 151, 166, 135, 155, 84, 251, 173, 131, 207, 121, 120])"
   ]
  },
  {
   "cell_type": "code",
   "execution_count": 44,
   "id": "1c8ff8bc-6633-4506-9806-98a15b57290d",
   "metadata": {},
   "outputs": [
    {
     "data": {
      "text/plain": [
       "array([ 17, 160, 234, 149, 145, 107, 197,  75, 201, 225])"
      ]
     },
     "execution_count": 44,
     "metadata": {},
     "output_type": "execute_result"
    }
   ],
   "source": [
    "olcumler[0:10]"
   ]
  },
  {
   "cell_type": "markdown",
   "id": "9d1405a2-0290-4bec-9e51-c0be331f30f7",
   "metadata": {},
   "source": [
    "#### Yeni Kutuphane ekledik ====> from scipy.stats import stats"
   ]
  },
  {
   "cell_type": "code",
   "execution_count": 45,
   "id": "9807cc52-64aa-4818-a8fe-416d319d5492",
   "metadata": {},
   "outputs": [],
   "source": [
    "import scipy.stats as stats"
   ]
  },
  {
   "cell_type": "code",
   "execution_count": 46,
   "id": "d31e53b7-5326-4015-87ac-76d68f44cd69",
   "metadata": {},
   "outputs": [
    {
     "data": {
      "text/plain": [
       "DescribeResult(nobs=50, minmax=(17, 251), mean=154.38, variance=2578.0363265306123, skewness=-0.32398897278694483, kurtosis=-0.05849823498415985)"
      ]
     },
     "execution_count": 46,
     "metadata": {},
     "output_type": "execute_result"
    }
   ],
   "source": [
    "# Farkli bir Describe Methodu kullandik (DataFrame olmadan describe yapabilmek icin(numpy formatinin describe i))\n",
    "\n",
    "# nobs = gozlem sayisi\n",
    "# skewnes = carpiklik  (sag - sol)\n",
    "# kurtosis = basiklik  (alt - ust)\n",
    "\n",
    "stats.describe(olcumler)"
   ]
  },
  {
   "cell_type": "code",
   "execution_count": 47,
   "id": "6ee654a5-d86d-4981-8e33-53b4b40a533e",
   "metadata": {},
   "outputs": [],
   "source": [
    "# mean = 154 (ortalama gecirilen sure) o zaman neden 170 arastiriyoruz ?\n",
    "# Cevap : Bu olcumler tesadufi olusamaz mi, orneklem yanlis olamaz mi diye."
   ]
  },
  {
   "cell_type": "markdown",
   "id": "1990bba4-39dd-4122-a996-ba5e32909aba",
   "metadata": {},
   "source": [
    "## <font color=blue>5.1 Varsayimlar<font>"
   ]
  },
  {
   "cell_type": "markdown",
   "id": "4e20f7d7-3b4b-4f27-8a31-3dedf1770bd8",
   "metadata": {},
   "source": [
    "### <font color=blue>5.A.1.1 Normallik Varsayimi (Orneklem dagiliminin dagilimi normaldir)<font>"
   ]
  },
  {
   "cell_type": "code",
   "execution_count": 48,
   "id": "972fd2a0-b1f9-48dd-b29a-9ae0d7c59be3",
   "metadata": {},
   "outputs": [
    {
     "data": {
      "image/png": "[encoded data removed]",
      "text/plain": [
       "<Figure size 432x288 with 1 Axes>"
      ]
     },
     "metadata": {},
     "output_type": "display_data"
    }
   ],
   "source": [
    "# histogram\n",
    "\n",
    "pd.DataFrame(olcumler).plot.hist();"
   ]
  },
  {
   "cell_type": "markdown",
   "id": "0bd8cfc6-575f-41fb-aeb9-216f00e84d23",
   "metadata": {},
   "source": [
    "#### Yeni Kutuphane ekledik ====> import pylab"
   ]
  },
  {
   "cell_type": "code",
   "execution_count": 49,
   "id": "4289f7bc-ff40-40a0-afb7-b262978bd561",
   "metadata": {},
   "outputs": [
    {
     "data": {
      "image/png": "[encoded data removed]",
      "text/plain": [
       "<Figure size 432x288 with 1 Axes>"
      ]
     },
     "metadata": {},
     "output_type": "display_data"
    }
   ],
   "source": [
    "#qqplot\n",
    "import pylab\n",
    "stats.probplot(olcumler, dist=\"norm\", plot=pylab)\n",
    "pylab.show()"
   ]
  },
  {
   "cell_type": "markdown",
   "id": "7c101107-e8ce-468c-a3f4-fd8c45aee430",
   "metadata": {},
   "source": [
    "## <font color=blue>Shapiro-Wilks Testi<font>\n",
    "H0: Örnek dağılımı ile teorik normal dağılım arasında istatistiksel olarak anlanmli bir farklilik yoktur\n",
    "\n",
    "H1: ... fark vardır\n",
    "    \n",
    "#### <font color=red>Not : H0 i reddetmek istemiyoruz , bu yuzden pvalue > 0.05 olmali !!!!!<font>"
   ]
  },
  {
   "cell_type": "markdown",
   "id": "7d2e041c-2710-4c14-869d-01b36e7d1a5e",
   "metadata": {},
   "source": [
    "#### Yeni Kutuphane ekledik ====> from scipy.stats import shapiro"
   ]
  },
  {
   "cell_type": "code",
   "execution_count": 50,
   "id": "3f8f0503-09d6-46fb-8c2e-8a9d0364399b",
   "metadata": {},
   "outputs": [],
   "source": [
    "from scipy.stats import shapiro"
   ]
  },
  {
   "cell_type": "code",
   "execution_count": 51,
   "id": "ecfd8905-16cb-44e9-a6ca-5db871dbfa4d",
   "metadata": {},
   "outputs": [
    {
     "data": {
      "text/plain": [
       "ShapiroResult(statistic=0.9853105545043945, pvalue=0.7848747968673706)"
      ]
     },
     "execution_count": 51,
     "metadata": {},
     "output_type": "execute_result"
    }
   ],
   "source": [
    "shapiro(olcumler)"
   ]
  },
  {
   "cell_type": "code",
   "execution_count": 52,
   "id": "715c61e9-9d3f-41ef-93cb-4cda6a0a3b5b",
   "metadata": {},
   "outputs": [
    {
     "name": "stdout",
     "output_type": "stream",
     "text": [
      "Test Hesap istatistigi:  0.9853105545043945\n",
      "Hesaplanan P - Value:  0.7848747968673706\n"
     ]
    }
   ],
   "source": [
    "print('Test Hesap istatistigi: ', shapiro(olcumler)[0])\n",
    "print('Hesaplanan P - Value: ', shapiro(olcumler)[1])"
   ]
  },
  {
   "cell_type": "markdown",
   "id": "3f3d1764-fdce-4c92-a8a4-031b83ba24a5",
   "metadata": {},
   "source": [
    "## Testin Uygulanmasi"
   ]
  },
  {
   "cell_type": "code",
   "execution_count": 53,
   "id": "0ef39a52-f162-44d2-8a03-3c8907862e66",
   "metadata": {},
   "outputs": [
    {
     "data": {
      "text/plain": [
       "Ttest_1sampResult(statistic=-2.1753117985877966, pvalue=0.034460415195071446)"
      ]
     },
     "execution_count": 53,
     "metadata": {},
     "output_type": "execute_result"
    }
   ],
   "source": [
    "stats.ttest_1samp(olcumler, popmean= 170)"
   ]
  },
  {
   "cell_type": "markdown",
   "id": "8d718179-7601-4d83-8f01-c600d8f0de9d",
   "metadata": {},
   "source": [
    "Not: P - Value < 0.05 oldugu icin , internet sitesinde gecirilen sure 170'tir.\n",
    "\n",
    "H0 = 170 dogrudur. (ret edilmez)\n",
    "\n",
    "H1 ≠ 170 yanlistir. (ret edilir)"
   ]
  },
  {
   "cell_type": "markdown",
   "id": "780c0309-1930-44e8-ab12-3e4f6d0b7978",
   "metadata": {},
   "source": [
    "## <font color=red>05.B - Nonparametrik Tek Orneklem Testi <font>"
   ]
  },
  {
   "cell_type": "markdown",
   "id": "c4c24ba7-6dce-4e9f-bc13-54756ac83fcb",
   "metadata": {},
   "source": [
    "#### Yeni Kutuphane ekledik ====> from statsmodels.stats.descriptivestats import sign_test"
   ]
  },
  {
   "cell_type": "code",
   "execution_count": 54,
   "id": "4aa8a7c9-b33c-4583-9cfb-5c795e6bc844",
   "metadata": {},
   "outputs": [],
   "source": [
    "from statsmodels.stats.descriptivestats import sign_test"
   ]
  },
  {
   "cell_type": "code",
   "execution_count": 55,
   "id": "31bb096b-5952-434e-ba9a-7bbcfd008af8",
   "metadata": {},
   "outputs": [
    {
     "data": {
      "text/plain": [
       "(-7.0, 0.06490864707227217)"
      ]
     },
     "execution_count": 55,
     "metadata": {},
     "output_type": "execute_result"
    }
   ],
   "source": [
    "sign_test(olcumler, 170)"
   ]
  },
  {
   "cell_type": "markdown",
   "id": "ad8dccde-7d85-4218-ba57-f4a38cc96108",
   "metadata": {},
   "source": [
    "Not1 : Genellikle solda Test istatistigi , sagdaki de P -Value degeridir.\n",
    "\n",
    "Not2 : Dagilim carpik oldugunda ortalama ve parametrik test kullanilamaz. Eger elimizdeki olcumler paratmetrik varsayimlari saglamasaydi nonparametrik testi yapar ve P-Value degerine gore yorum yapardik.\n",
    "\n",
    "Not3 : P - Value < 0.05 degil ......????? "
   ]
  },
  {
   "cell_type": "markdown",
   "id": "a3be47ef-0a65-4072-ac22-8b2d1b2ef796",
   "metadata": {},
   "source": [
    "## <font color=red>05.C - Tek Orneklem Oran Testi <font>\n",
    "    \n",
    "H0: p = 0.125\n",
    "    \n",
    "H1: p != 0.125"
   ]
  },
  {
   "cell_type": "markdown",
   "id": "bab73235-e76e-42a4-ae37-9ca2bba40f2f",
   "metadata": {},
   "source": [
    "Problem : Bir reklamin donusum orani 0.125 olarak bize bildirilmis. Bunu kontrol etmek istiyoruz\n",
    "\n",
    "Detaylar: 500 kisi dis mecracada reklama tiklamis , 40 tanesi alisveris yapmis.\n",
    "\n",
    "ornek uzerinden donusum orani : 50 / 400 = 0.08 (Yani 0.125 yanlis demek, bunu ispatlayacagiz)"
   ]
  },
  {
   "cell_type": "markdown",
   "id": "22e03ad0-7e18-408c-b247-1a6b83cee5dc",
   "metadata": {},
   "source": [
    "#### Yeni Kutuphane ekledik ====> from statsmodels.stats.proportion import proportions_ztest"
   ]
  },
  {
   "cell_type": "code",
   "execution_count": 56,
   "id": "997fcc6a-c3e5-4e2c-9bb0-ff776baa7510",
   "metadata": {},
   "outputs": [],
   "source": [
    "from statsmodels.stats.proportion import proportions_ztest"
   ]
  },
  {
   "cell_type": "code",
   "execution_count": 57,
   "id": "8460a78a-da14-413f-b01f-9559a610e368",
   "metadata": {},
   "outputs": [],
   "source": [
    "count = 40\n",
    "nobs = 500\n",
    "value = 0.125"
   ]
  },
  {
   "cell_type": "code",
   "execution_count": 58,
   "id": "ed879588-b56e-4a56-9167-5188b5b1e2b1",
   "metadata": {},
   "outputs": [
    {
     "data": {
      "text/plain": [
       "(-3.7090151628513017, 0.0002080669689845979)"
      ]
     },
     "execution_count": 58,
     "metadata": {},
     "output_type": "execute_result"
    }
   ],
   "source": [
    "proportions_ztest(count, nobs, value)"
   ]
  },
  {
   "cell_type": "code",
   "execution_count": 59,
   "id": "ea72771b-ba2c-47ab-9995-3abe3c3f11e3",
   "metadata": {},
   "outputs": [],
   "source": [
    "# Sonuc = P-Value < 0.05 old. icin H0 ret edilir."
   ]
  },
  {
   "cell_type": "markdown",
   "id": "56eb2efe-1c22-4894-b3bb-a0f4697d9220",
   "metadata": {},
   "source": [
    "## <font color=red>05.D - Bagimsiz iki Orneklem  Testi (Parametrik)<font>\n",
    "    \n",
    "H0: M1 = M2\n",
    "    \n",
    "H1: M1!= M2\n",
    "    \n",
    "Problem : Yeni ML uygulanan sistemin geliri artirip artirmadigini kontrol ediyoruz , eski sistem ile elde edilen gelirleri, yeni ML ile elde edilen gelirler ile (ortalama) karsilastiriyoruz."
   ]
  },
  {
   "cell_type": "code",
   "execution_count": 60,
   "id": "f6ac2d1c-eab9-4481-a1f9-9be1518dc34a",
   "metadata": {},
   "outputs": [],
   "source": [
    "# Veri Tipi I"
   ]
  },
  {
   "cell_type": "code",
   "execution_count": 61,
   "id": "7699a6c5-c946-4b8f-8c20-47a7c8b5dac3",
   "metadata": {},
   "outputs": [
    {
     "data": {
      "text/html": [
       "<div>\n",
       "<style scoped>\n",
       "    .dataframe tbody tr th:only-of-type {\n",
       "        vertical-align: middle;\n",
       "    }\n",
       "\n",
       "    .dataframe tbody tr th {\n",
       "        vertical-align: top;\n",
       "    }\n",
       "\n",
       "    .dataframe thead th {\n",
       "        text-align: right;\n",
       "    }\n",
       "</style>\n",
       "<table border=\"1\" class=\"dataframe\">\n",
       "  <thead>\n",
       "    <tr style=\"text-align: right;\">\n",
       "      <th></th>\n",
       "      <th>A</th>\n",
       "      <th>B</th>\n",
       "    </tr>\n",
       "  </thead>\n",
       "  <tbody>\n",
       "    <tr>\n",
       "      <th>0</th>\n",
       "      <td>30</td>\n",
       "      <td>37</td>\n",
       "    </tr>\n",
       "    <tr>\n",
       "      <th>1</th>\n",
       "      <td>27</td>\n",
       "      <td>39</td>\n",
       "    </tr>\n",
       "    <tr>\n",
       "      <th>2</th>\n",
       "      <td>21</td>\n",
       "      <td>31</td>\n",
       "    </tr>\n",
       "    <tr>\n",
       "      <th>3</th>\n",
       "      <td>27</td>\n",
       "      <td>31</td>\n",
       "    </tr>\n",
       "    <tr>\n",
       "      <th>4</th>\n",
       "      <td>29</td>\n",
       "      <td>34</td>\n",
       "    </tr>\n",
       "  </tbody>\n",
       "</table>\n",
       "</div>"
      ],
      "text/plain": [
       "    A   B\n",
       "0  30  37\n",
       "1  27  39\n",
       "2  21  31\n",
       "3  27  31\n",
       "4  29  34"
      ]
     },
     "execution_count": 61,
     "metadata": {},
     "output_type": "execute_result"
    }
   ],
   "source": [
    "A = pd.DataFrame([30,27,21,27,29,30,20,20,27,32,35,22,24,23,25,27,23,27,23,\n",
    "        25,21,18,24,26,33,26,27,28,19,25])\n",
    "\n",
    "B = pd.DataFrame([37,39,31,31,34,38,30,36,29,28,38,28,37,37,30,32,31,31,27,\n",
    "        32,33,33,33,31,32,33,26,32,33,29])\n",
    "\n",
    "\n",
    "A_B = pd.concat([A, B], axis = 1)\n",
    "A_B.columns = [\"A\",\"B\"]\n",
    "\n",
    "A_B.head()"
   ]
  },
  {
   "cell_type": "code",
   "execution_count": 62,
   "id": "a30278e4-ee95-43ae-af7f-6a6558216135",
   "metadata": {},
   "outputs": [],
   "source": [
    "# Veri Tipi II\n",
    "\n",
    "#En zor sekli duzenli sekli ile duzenliyebilirsin"
   ]
  },
  {
   "cell_type": "code",
   "execution_count": 63,
   "id": "3a53fc1b-291a-4dbf-a1e4-6215f72d8883",
   "metadata": {},
   "outputs": [
    {
     "name": "stdout",
     "output_type": "stream",
     "text": [
      "   gelir GRUP\n",
      "0     30    A\n",
      "1     27    A\n",
      "2     21    A\n",
      "3     27    A\n",
      "4     29    A\n",
      "    gelir GRUP\n",
      "25     33    B\n",
      "26     26    B\n",
      "27     32    B\n",
      "28     33    B\n",
      "29     29    B\n"
     ]
    }
   ],
   "source": [
    "A = pd.DataFrame([30,27,21,27,29,30,20,20,27,32,35,22,24,23,25,27,23,27,23,\n",
    "        25,21,18,24,26,33,26,27,28,19,25])\n",
    "\n",
    "B = pd.DataFrame([37,39,31,31,34,38,30,36,29,28,38,28,37,37,30,32,31,31,27,\n",
    "        32,33,33,33,31,32,33,26,32,33,29])\n",
    "\n",
    "#A ve A'nın grubu                     \n",
    "GRUP_A = np.arange(len(A))\n",
    "GRUP_A = pd.DataFrame(GRUP_A)\n",
    "GRUP_A[:] = \"A\"\n",
    "A = pd.concat([A, GRUP_A], axis = 1)\n",
    "\n",
    "#B ve B'nin Grubu\n",
    "GRUP_B = np.arange(len(B))\n",
    "GRUP_B = pd.DataFrame(GRUP_B)\n",
    "GRUP_B[:] = \"B\"\n",
    "B = pd.concat([B, GRUP_B], axis = 1)\n",
    "\n",
    "#Tum veri\n",
    "AB = pd.concat([A,B])\n",
    "AB.columns = [\"gelir\",\"GRUP\"]\n",
    "print(AB.head())\n",
    "print(AB.tail())"
   ]
  },
  {
   "cell_type": "code",
   "execution_count": 64,
   "id": "89076433-24ac-45ff-8873-6c2d00296a22",
   "metadata": {},
   "outputs": [
    {
     "data": {
      "text/html": [
       "<div>\n",
       "<style scoped>\n",
       "    .dataframe tbody tr th:only-of-type {\n",
       "        vertical-align: middle;\n",
       "    }\n",
       "\n",
       "    .dataframe tbody tr th {\n",
       "        vertical-align: top;\n",
       "    }\n",
       "\n",
       "    .dataframe thead th {\n",
       "        text-align: right;\n",
       "    }\n",
       "</style>\n",
       "<table border=\"1\" class=\"dataframe\">\n",
       "  <thead>\n",
       "    <tr style=\"text-align: right;\">\n",
       "      <th></th>\n",
       "      <th>0</th>\n",
       "      <th>0</th>\n",
       "    </tr>\n",
       "  </thead>\n",
       "  <tbody>\n",
       "    <tr>\n",
       "      <th>0</th>\n",
       "      <td>30</td>\n",
       "      <td>A</td>\n",
       "    </tr>\n",
       "    <tr>\n",
       "      <th>1</th>\n",
       "      <td>27</td>\n",
       "      <td>A</td>\n",
       "    </tr>\n",
       "    <tr>\n",
       "      <th>2</th>\n",
       "      <td>21</td>\n",
       "      <td>A</td>\n",
       "    </tr>\n",
       "  </tbody>\n",
       "</table>\n",
       "</div>"
      ],
      "text/plain": [
       "    0  0\n",
       "0  30  A\n",
       "1  27  A\n",
       "2  21  A"
      ]
     },
     "execution_count": 64,
     "metadata": {},
     "output_type": "execute_result"
    }
   ],
   "source": [
    "A.head(3)"
   ]
  },
  {
   "cell_type": "code",
   "execution_count": 65,
   "id": "2dd5ae64-0de0-442f-8f42-fb8573cb55e1",
   "metadata": {},
   "outputs": [
    {
     "data": {
      "text/html": [
       "<div>\n",
       "<style scoped>\n",
       "    .dataframe tbody tr th:only-of-type {\n",
       "        vertical-align: middle;\n",
       "    }\n",
       "\n",
       "    .dataframe tbody tr th {\n",
       "        vertical-align: top;\n",
       "    }\n",
       "\n",
       "    .dataframe thead th {\n",
       "        text-align: right;\n",
       "    }\n",
       "</style>\n",
       "<table border=\"1\" class=\"dataframe\">\n",
       "  <thead>\n",
       "    <tr style=\"text-align: right;\">\n",
       "      <th></th>\n",
       "      <th>0</th>\n",
       "      <th>0</th>\n",
       "    </tr>\n",
       "  </thead>\n",
       "  <tbody>\n",
       "    <tr>\n",
       "      <th>0</th>\n",
       "      <td>37</td>\n",
       "      <td>B</td>\n",
       "    </tr>\n",
       "    <tr>\n",
       "      <th>1</th>\n",
       "      <td>39</td>\n",
       "      <td>B</td>\n",
       "    </tr>\n",
       "    <tr>\n",
       "      <th>2</th>\n",
       "      <td>31</td>\n",
       "      <td>B</td>\n",
       "    </tr>\n",
       "  </tbody>\n",
       "</table>\n",
       "</div>"
      ],
      "text/plain": [
       "    0  0\n",
       "0  37  B\n",
       "1  39  B\n",
       "2  31  B"
      ]
     },
     "execution_count": 65,
     "metadata": {},
     "output_type": "execute_result"
    }
   ],
   "source": [
    "B.head(3)"
   ]
  },
  {
   "cell_type": "code",
   "execution_count": 66,
   "id": "05a515c7-eb4b-4c7e-a27d-07e3f257cb4f",
   "metadata": {},
   "outputs": [
    {
     "data": {
      "image/png": "[encoded data removed]",
      "text/plain": [
       "<Figure size 432x288 with 1 Axes>"
      ]
     },
     "metadata": {},
     "output_type": "display_data"
    }
   ],
   "source": [
    "sns.boxplot(x= 'GRUP', y= 'gelir', data= AB);"
   ]
  },
  {
   "cell_type": "markdown",
   "id": "5ec3cf26-d2d0-437d-9f2f-3072b5ed5655",
   "metadata": {},
   "source": [
    "# Varsayim Kontrolu"
   ]
  },
  {
   "cell_type": "code",
   "execution_count": 67,
   "id": "ced2701c-5cc0-42ff-bd93-6937ff71117d",
   "metadata": {},
   "outputs": [
    {
     "data": {
      "text/html": [
       "<div>\n",
       "<style scoped>\n",
       "    .dataframe tbody tr th:only-of-type {\n",
       "        vertical-align: middle;\n",
       "    }\n",
       "\n",
       "    .dataframe tbody tr th {\n",
       "        vertical-align: top;\n",
       "    }\n",
       "\n",
       "    .dataframe thead th {\n",
       "        text-align: right;\n",
       "    }\n",
       "</style>\n",
       "<table border=\"1\" class=\"dataframe\">\n",
       "  <thead>\n",
       "    <tr style=\"text-align: right;\">\n",
       "      <th></th>\n",
       "      <th>A</th>\n",
       "      <th>B</th>\n",
       "    </tr>\n",
       "  </thead>\n",
       "  <tbody>\n",
       "    <tr>\n",
       "      <th>0</th>\n",
       "      <td>30</td>\n",
       "      <td>37</td>\n",
       "    </tr>\n",
       "    <tr>\n",
       "      <th>1</th>\n",
       "      <td>27</td>\n",
       "      <td>39</td>\n",
       "    </tr>\n",
       "    <tr>\n",
       "      <th>2</th>\n",
       "      <td>21</td>\n",
       "      <td>31</td>\n",
       "    </tr>\n",
       "    <tr>\n",
       "      <th>3</th>\n",
       "      <td>27</td>\n",
       "      <td>31</td>\n",
       "    </tr>\n",
       "    <tr>\n",
       "      <th>4</th>\n",
       "      <td>29</td>\n",
       "      <td>34</td>\n",
       "    </tr>\n",
       "  </tbody>\n",
       "</table>\n",
       "</div>"
      ],
      "text/plain": [
       "    A   B\n",
       "0  30  37\n",
       "1  27  39\n",
       "2  21  31\n",
       "3  27  31\n",
       "4  29  34"
      ]
     },
     "execution_count": 67,
     "metadata": {},
     "output_type": "execute_result"
    }
   ],
   "source": [
    "A_B.head()"
   ]
  },
  {
   "cell_type": "code",
   "execution_count": 68,
   "id": "2a49d1d0-2a3a-4385-80b6-a590de3e70cb",
   "metadata": {},
   "outputs": [
    {
     "data": {
      "text/html": [
       "<div>\n",
       "<style scoped>\n",
       "    .dataframe tbody tr th:only-of-type {\n",
       "        vertical-align: middle;\n",
       "    }\n",
       "\n",
       "    .dataframe tbody tr th {\n",
       "        vertical-align: top;\n",
       "    }\n",
       "\n",
       "    .dataframe thead th {\n",
       "        text-align: right;\n",
       "    }\n",
       "</style>\n",
       "<table border=\"1\" class=\"dataframe\">\n",
       "  <thead>\n",
       "    <tr style=\"text-align: right;\">\n",
       "      <th></th>\n",
       "      <th>gelir</th>\n",
       "      <th>GRUP</th>\n",
       "    </tr>\n",
       "  </thead>\n",
       "  <tbody>\n",
       "    <tr>\n",
       "      <th>0</th>\n",
       "      <td>30</td>\n",
       "      <td>A</td>\n",
       "    </tr>\n",
       "    <tr>\n",
       "      <th>1</th>\n",
       "      <td>27</td>\n",
       "      <td>A</td>\n",
       "    </tr>\n",
       "    <tr>\n",
       "      <th>2</th>\n",
       "      <td>21</td>\n",
       "      <td>A</td>\n",
       "    </tr>\n",
       "    <tr>\n",
       "      <th>3</th>\n",
       "      <td>27</td>\n",
       "      <td>A</td>\n",
       "    </tr>\n",
       "    <tr>\n",
       "      <th>4</th>\n",
       "      <td>29</td>\n",
       "      <td>A</td>\n",
       "    </tr>\n",
       "  </tbody>\n",
       "</table>\n",
       "</div>"
      ],
      "text/plain": [
       "   gelir GRUP\n",
       "0     30    A\n",
       "1     27    A\n",
       "2     21    A\n",
       "3     27    A\n",
       "4     29    A"
      ]
     },
     "execution_count": 68,
     "metadata": {},
     "output_type": "execute_result"
    }
   ],
   "source": [
    "AB.head()"
   ]
  },
  {
   "cell_type": "markdown",
   "id": "5d0ad5ff-b9f5-4f40-b06d-1285170c99d1",
   "metadata": {},
   "source": [
    "### Normallik Varsayimi (Shaprio Testi)"
   ]
  },
  {
   "cell_type": "code",
   "execution_count": 69,
   "id": "0cc4627d-67a5-4293-94d6-edfe65246120",
   "metadata": {},
   "outputs": [
    {
     "data": {
      "text/plain": [
       "ShapiroResult(statistic=0.9789242148399353, pvalue=0.7962799668312073)"
      ]
     },
     "execution_count": 69,
     "metadata": {},
     "output_type": "execute_result"
    }
   ],
   "source": [
    "shapiro(A_B.A)  # A icin P-Value >0.05 old. icin H0 ret edilmez , dagilimlar aynidir"
   ]
  },
  {
   "cell_type": "code",
   "execution_count": 70,
   "id": "fab666a9-d5f0-4214-b8b3-a658ef358ffa",
   "metadata": {},
   "outputs": [
    {
     "data": {
      "text/plain": [
       "ShapiroResult(statistic=0.9561261534690857, pvalue=0.2458445429801941)"
      ]
     },
     "execution_count": 70,
     "metadata": {},
     "output_type": "execute_result"
    }
   ],
   "source": [
    "shapiro(A_B.B)  # B icin P-Value >0.05 old. icin H0 ret edilmez , dagilimlar aynidir"
   ]
  },
  {
   "cell_type": "markdown",
   "id": "557c1419-0612-4834-87eb-2b7bda59dfe8",
   "metadata": {},
   "source": [
    "### Varyans Homojenligi Varsayimi\n",
    "\n",
    "H0: varyanslar Homojendir\n",
    "\n",
    "H1: varyanslar Hom. degildir."
   ]
  },
  {
   "cell_type": "code",
   "execution_count": 71,
   "id": "59463bee-c673-427a-975f-6cf2acf2d99d",
   "metadata": {},
   "outputs": [
    {
     "data": {
      "text/plain": [
       "LeveneResult(statistic=1.1101802757158004, pvalue=0.2964124900636569)"
      ]
     },
     "execution_count": 71,
     "metadata": {},
     "output_type": "execute_result"
    }
   ],
   "source": [
    "stats.levene(A_B.A, A_B.B)  # P-Value >0.05 old. icin H0 ret edilmez, Vary. Homojendir"
   ]
  },
  {
   "cell_type": "markdown",
   "id": "6d8c5d43-73d2-484e-b98f-0075d54749de",
   "metadata": {},
   "source": [
    "## Hipotez Testin Uygulanmasi (A\\B Testi)"
   ]
  },
  {
   "cell_type": "code",
   "execution_count": 72,
   "id": "98266246-00f2-498b-a45f-ebfe01fd15b7",
   "metadata": {},
   "outputs": [
    {
     "data": {
      "text/plain": [
       "Ttest_indResult(statistic=-7.028690967745927, pvalue=2.6233215605475075e-09)"
      ]
     },
     "execution_count": 72,
     "metadata": {},
     "output_type": "execute_result"
    }
   ],
   "source": [
    "stats.ttest_ind(A_B['A'], A_B['B'], equal_var= True)"
   ]
  },
  {
   "cell_type": "code",
   "execution_count": 73,
   "id": "34d18866-a627-4baf-8d30-11381ba88db9",
   "metadata": {},
   "outputs": [
    {
     "name": "stdout",
     "output_type": "stream",
     "text": [
      "Test İstatistiği = -7.0287, p-değeri = 0.0000\n"
     ]
    }
   ],
   "source": [
    "test_istatistigi, pvalue = stats.ttest_ind(A_B[\"A\"], A_B[\"B\"], equal_var=True)\n",
    "print('Test İstatistiği = %.4f, p-değeri = %.4f' % (test_istatistigi, pvalue))"
   ]
  },
  {
   "cell_type": "markdown",
   "id": "989e04e2-9d66-486d-b3bf-53eb0de33c3a",
   "metadata": {},
   "source": [
    "--------------------------- Sonuc -------------------------------------\n",
    "\n",
    "1-  Iki sistemin gelir karsilastirilmasi yapiliyor. (ortalamalari karsilastiriliyor)\n",
    "\n",
    "2 - P-Value degeri < 0.05 old. icin H0 ret edilmez.\n",
    "\n",
    "3-  \n",
    "H0: M1 = M2   (gelir ortalamari esittir)\n",
    "    \n",
    "H1: M1!= M2   (gelir ort. esit degildir.)\n",
    "    \n",
    "4 - iki sistemin gelir ortalamalari esit degildir SONUCUNA ulasiyoruz."
   ]
  },
  {
   "cell_type": "markdown",
   "id": "2b9d563b-e565-4e40-85fe-a311fa31457b",
   "metadata": {},
   "source": [
    "## <font color=red>05.E -  Nonparametrik Bagimsiz iki Orneklem Testi <font>"
   ]
  },
  {
   "cell_type": "markdown",
   "id": "a4f0d859-494f-4774-9484-0e51ac0d3cdd",
   "metadata": {},
   "source": [
    "Ne zaman kullainilir:\n",
    "\n",
    "Hem Normallik varsayimi, hem de Varyans Homejenligi saglanmiyorsa \n",
    "Nonparametrik iki Orneklem Testi yapilir."
   ]
  },
  {
   "cell_type": "code",
   "execution_count": 74,
   "id": "9d72ead3-b047-4221-9fdf-30e7b8c43ca3",
   "metadata": {},
   "outputs": [
    {
     "data": {
      "text/plain": [
       "MannwhitneyuResult(statistic=89.5, pvalue=9.557950378612535e-08)"
      ]
     },
     "execution_count": 74,
     "metadata": {},
     "output_type": "execute_result"
    }
   ],
   "source": [
    "stats.mannwhitneyu(A_B['A'], A_B['B'])"
   ]
  },
  {
   "cell_type": "code",
   "execution_count": 75,
   "id": "18479d95-6b7e-4091-9d46-17ec2bb72c33",
   "metadata": {},
   "outputs": [
    {
     "name": "stdout",
     "output_type": "stream",
     "text": [
      "Test İstatistiği = 89.5000, p-değeri = 0.0000\n"
     ]
    }
   ],
   "source": [
    "test_istatistigi, pvalue = stats.mannwhitneyu(A_B['A'], A_B['B'])\n",
    "print('Test İstatistiği = %.4f, p-değeri = %.4f' % (test_istatistigi, pvalue))"
   ]
  },
  {
   "cell_type": "markdown",
   "id": "3b14246f-4d78-46ff-939a-c6b961e938e2",
   "metadata": {},
   "source": [
    "Sonuc: p < 0.05 oldugu icin \n",
    "m1 = m2 (mu) ret edilir,\n",
    "Hem parametrik yaklasim ile hemde nonparametrik yaklasim ile bu farki ispat ettik."
   ]
  },
  {
   "cell_type": "markdown",
   "id": "bf6f9a32-a8e0-48f1-b88c-16ccff551abb",
   "metadata": {},
   "source": [
    "# <font color=red>05.F - Parametrik Bagimli iki Orneklem Testi <font>"
   ]
  },
  {
   "cell_type": "markdown",
   "id": "2f7bc4c6-75de-4279-9d57-3d336ec0d8bf",
   "metadata": {},
   "source": [
    "Problem : Bir grup calisana egitim veriliyor , oncesi ve sonrasi performans farki karsilastiriliyor.\n",
    "\n",
    "H0 : Mo  = M1  (Performans ort. fark yoktur.) \n",
    "\n",
    "H1 : Mo != M1"
   ]
  },
  {
   "cell_type": "code",
   "execution_count": 76,
   "id": "752581c3-bbca-4ae4-9517-4da43266a827",
   "metadata": {},
   "outputs": [],
   "source": [
    "oncesi = pd.DataFrame([123,119,119,116,123,123,121,120,117,118,121,121,123,119,\n",
    "            121,118,124,121,125,115,115,119,118,121,117,117,120,120,\n",
    "            121,117,118,117,123,118,124,121,115,118,125,115])\n",
    "\n",
    "sonrasi = pd.DataFrame([118,127,122,132,129,123,129,132,128,130,128,138,140,130,\n",
    "             134,134,124,140,134,129,129,138,134,124,122,126,133,127,\n",
    "             130,130,130,132,117,130,125,129,133,120,127,123])"
   ]
  },
  {
   "cell_type": "code",
   "execution_count": 77,
   "id": "d2525c35-e00e-47d2-8726-e52a8be21502",
   "metadata": {},
   "outputs": [
    {
     "data": {
      "text/html": [
       "<div>\n",
       "<style scoped>\n",
       "    .dataframe tbody tr th:only-of-type {\n",
       "        vertical-align: middle;\n",
       "    }\n",
       "\n",
       "    .dataframe tbody tr th {\n",
       "        vertical-align: top;\n",
       "    }\n",
       "\n",
       "    .dataframe thead th {\n",
       "        text-align: right;\n",
       "    }\n",
       "</style>\n",
       "<table border=\"1\" class=\"dataframe\">\n",
       "  <thead>\n",
       "    <tr style=\"text-align: right;\">\n",
       "      <th></th>\n",
       "      <th>0</th>\n",
       "    </tr>\n",
       "  </thead>\n",
       "  <tbody>\n",
       "    <tr>\n",
       "      <th>0</th>\n",
       "      <td>123</td>\n",
       "    </tr>\n",
       "    <tr>\n",
       "      <th>1</th>\n",
       "      <td>119</td>\n",
       "    </tr>\n",
       "    <tr>\n",
       "      <th>2</th>\n",
       "      <td>119</td>\n",
       "    </tr>\n",
       "    <tr>\n",
       "      <th>3</th>\n",
       "      <td>116</td>\n",
       "    </tr>\n",
       "    <tr>\n",
       "      <th>4</th>\n",
       "      <td>123</td>\n",
       "    </tr>\n",
       "  </tbody>\n",
       "</table>\n",
       "</div>"
      ],
      "text/plain": [
       "     0\n",
       "0  123\n",
       "1  119\n",
       "2  119\n",
       "3  116\n",
       "4  123"
      ]
     },
     "execution_count": 77,
     "metadata": {},
     "output_type": "execute_result"
    }
   ],
   "source": [
    "oncesi[0:5]"
   ]
  },
  {
   "cell_type": "code",
   "execution_count": 78,
   "id": "67ff7b3f-c4e2-4218-b809-7597cb2b883c",
   "metadata": {},
   "outputs": [
    {
     "data": {
      "text/html": [
       "<div>\n",
       "<style scoped>\n",
       "    .dataframe tbody tr th:only-of-type {\n",
       "        vertical-align: middle;\n",
       "    }\n",
       "\n",
       "    .dataframe tbody tr th {\n",
       "        vertical-align: top;\n",
       "    }\n",
       "\n",
       "    .dataframe thead th {\n",
       "        text-align: right;\n",
       "    }\n",
       "</style>\n",
       "<table border=\"1\" class=\"dataframe\">\n",
       "  <thead>\n",
       "    <tr style=\"text-align: right;\">\n",
       "      <th></th>\n",
       "      <th>0</th>\n",
       "    </tr>\n",
       "  </thead>\n",
       "  <tbody>\n",
       "    <tr>\n",
       "      <th>0</th>\n",
       "      <td>118</td>\n",
       "    </tr>\n",
       "    <tr>\n",
       "      <th>1</th>\n",
       "      <td>127</td>\n",
       "    </tr>\n",
       "    <tr>\n",
       "      <th>2</th>\n",
       "      <td>122</td>\n",
       "    </tr>\n",
       "    <tr>\n",
       "      <th>3</th>\n",
       "      <td>132</td>\n",
       "    </tr>\n",
       "    <tr>\n",
       "      <th>4</th>\n",
       "      <td>129</td>\n",
       "    </tr>\n",
       "  </tbody>\n",
       "</table>\n",
       "</div>"
      ],
      "text/plain": [
       "     0\n",
       "0  118\n",
       "1  127\n",
       "2  122\n",
       "3  132\n",
       "4  129"
      ]
     },
     "execution_count": 78,
     "metadata": {},
     "output_type": "execute_result"
    }
   ],
   "source": [
    "sonrasi[0:5]"
   ]
  },
  {
   "cell_type": "code",
   "execution_count": 79,
   "id": "3b79b4e7-515b-44d2-8b7c-66c0c4fd6aaa",
   "metadata": {},
   "outputs": [
    {
     "data": {
      "text/plain": [
       "array([ 0,  1,  2,  3,  4,  5,  6,  7,  8,  9, 10, 11, 12, 13, 14, 15, 16,\n",
       "       17, 18, 19, 20, 21, 22, 23, 24, 25, 26, 27, 28, 29, 30, 31, 32, 33,\n",
       "       34, 35, 36, 37, 38, 39])"
      ]
     },
     "execution_count": 79,
     "metadata": {},
     "output_type": "execute_result"
    }
   ],
   "source": [
    "np.arange(len(oncesi))"
   ]
  },
  {
   "cell_type": "code",
   "execution_count": 80,
   "id": "9fb081d1-5bdc-4eaf-a5dd-3d8c986698c5",
   "metadata": {},
   "outputs": [
    {
     "name": "stdout",
     "output_type": "stream",
     "text": [
      "'AYRIK' Veri Seti: \n",
      "\n",
      "     ONCESI  SONRASI\n",
      "0     123      118\n",
      "1     119      127\n",
      "2     119      122\n",
      "3     116      132\n",
      "4     123      129 \n",
      "\n",
      "\n",
      "'BIRLIKTE' Veri Seti: \n",
      "\n",
      "    PERFORMANS ONCESI_SONRASI\n",
      "0         123         ONCESI\n",
      "1         119         ONCESI\n",
      "2         119         ONCESI\n",
      "3         116         ONCESI\n",
      "4         123         ONCESI \n",
      "\n",
      "'BIRLIKTE' Veri Seti: \n",
      "\n",
      "     PERFORMANS ONCESI_SONRASI\n",
      "38         127        SONRASI\n",
      "39         123        SONRASI \n",
      "\n"
     ]
    }
   ],
   "source": [
    "#BIRINCI VERI SETI\n",
    "AYRIK = pd.concat([oncesi, sonrasi], axis = 1)\n",
    "AYRIK.columns = [\"ONCESI\",\"SONRASI\"]\n",
    "print(\"'AYRIK' Veri Seti: \\n\\n \", AYRIK.head(), \"\\n\\n\")\n",
    "\n",
    "\n",
    "#IKINCI VERI SETI\n",
    "#ONCESI FLAG/TAG'INI OLUSTURMA\n",
    "GRUP_ONCESI = np.arange(len(oncesi))\n",
    "GRUP_ONCESI = pd.DataFrame(GRUP_ONCESI)\n",
    "GRUP_ONCESI[:] = \"ONCESI\"\n",
    "#FLAG VE ONCESI DEGERLERINI BIR ARAYA GETIRME\n",
    "A = pd.concat([oncesi, GRUP_ONCESI], axis = 1)\n",
    "#SONRASI FLAG/TAG'INI OLUSTURMA\n",
    "GRUP_SONRASI = np.arange(len(sonrasi))\n",
    "GRUP_SONRASI = pd.DataFrame(GRUP_SONRASI)\n",
    "GRUP_SONRASI[:] = \"SONRASI\"\n",
    "\n",
    "#FLAG VE SONRASI DEGERLERINI BIR ARAYA GETIRME\n",
    "B = pd.concat([sonrasi, GRUP_SONRASI], axis = 1)\n",
    "\n",
    "#TUM VERIYI BIR ARAYA GETIRME\n",
    "BIRLIKTE = pd.concat([A,B])\n",
    "BIRLIKTE\n",
    "\n",
    "#ISIMLENDIRME\n",
    "BIRLIKTE.columns = [\"PERFORMANS\",\"ONCESI_SONRASI\"]\n",
    "print(\"'BIRLIKTE' Veri Seti: \\n\\n\", BIRLIKTE.head(), \"\\n\")\n",
    "print(\"'BIRLIKTE' Veri Seti: \\n\\n\", BIRLIKTE.tail(2), \"\\n\")"
   ]
  },
  {
   "cell_type": "code",
   "execution_count": 81,
   "id": "164883c3-b22b-49b6-9db2-cb745f25a7ed",
   "metadata": {},
   "outputs": [
    {
     "data": {
      "image/png": "[encoded data removed]",
      "text/plain": [
       "<Figure size 432x288 with 1 Axes>"
      ]
     },
     "metadata": {},
     "output_type": "display_data"
    }
   ],
   "source": [
    "sns.boxplot(x= 'ONCESI_SONRASI', y= 'PERFORMANS', data= BIRLIKTE);"
   ]
  },
  {
   "cell_type": "markdown",
   "id": "52f91d08-9b6f-4526-9e8a-df1cf0a9c10b",
   "metadata": {},
   "source": [
    "## Varsayim Kotrolleri\n",
    "\n",
    "### Normallik Varsayimi\n",
    "\n",
    "H0: .... dagilimlar arasinda fark yoktur. (P-Value > 0.05 ise dagilim normaldir.)\n",
    "\n",
    "H1: .... dagilimlar arasinda fark vardir."
   ]
  },
  {
   "cell_type": "code",
   "execution_count": 82,
   "id": "6166378d-844c-4a01-8902-1aab56bc39b5",
   "metadata": {},
   "outputs": [
    {
     "data": {
      "text/plain": [
       "ShapiroResult(statistic=0.9543654918670654, pvalue=0.10722342133522034)"
      ]
     },
     "execution_count": 82,
     "metadata": {},
     "output_type": "execute_result"
    }
   ],
   "source": [
    "shapiro(AYRIK.ONCESI)"
   ]
  },
  {
   "cell_type": "markdown",
   "id": "6dda3f14-7290-47d1-9d83-a09a8ef57337",
   "metadata": {},
   "source": [
    "Sonuc : P-Values > 0.05 old. icin H0 ret edilmez , yani elimizdeki veri setinin dagilimi normaldir denir. "
   ]
  },
  {
   "cell_type": "code",
   "execution_count": 83,
   "id": "56c3de4c-1618-4600-9520-cfb8c2df0480",
   "metadata": {},
   "outputs": [
    {
     "data": {
      "text/plain": [
       "ShapiroResult(statistic=0.9780087471008301, pvalue=0.6159457564353943)"
      ]
     },
     "execution_count": 83,
     "metadata": {},
     "output_type": "execute_result"
    }
   ],
   "source": [
    "shapiro(AYRIK.SONRASI)"
   ]
  },
  {
   "cell_type": "markdown",
   "id": "82a26bf2-2bf4-489b-b864-73c16d1bf926",
   "metadata": {},
   "source": [
    "Sonuc : P-Values > 0.05 old. icin H0 ret edilmez , yani elimizdeki veri setinin dagilimi normaldir denir. "
   ]
  },
  {
   "cell_type": "markdown",
   "id": "a53bff5b-83b0-4d0a-add5-643858108753",
   "metadata": {},
   "source": [
    "## Varyans Homojenligi Varsayimi\n",
    "\n",
    "H0: varyanslar Homojendir. (P-Value > 0.05 ise varyans homojendir)\n",
    "\n",
    "H1: varyanslar Hom. degildir."
   ]
  },
  {
   "cell_type": "code",
   "execution_count": 84,
   "id": "90ad85af-4c5b-4f14-b73c-32a678e9b459",
   "metadata": {},
   "outputs": [
    {
     "data": {
      "text/plain": [
       "LeveneResult(statistic=8.31303288672351, pvalue=0.0050844511807370246)"
      ]
     },
     "execution_count": 84,
     "metadata": {},
     "output_type": "execute_result"
    }
   ],
   "source": [
    "stats.levene(AYRIK.ONCESI, AYRIK.SONRASI)"
   ]
  },
  {
   "cell_type": "markdown",
   "id": "c7b9e477-5bc1-4184-9e1b-716bedfb8955",
   "metadata": {},
   "source": [
    "Sonuc : P-Value < 0.05 old. H0 ret edilir, yani Varyans homojen degilgir. \n",
    "\n",
    "Ne Yapmali :\n",
    "1 - Outlier lar cikarilabilir\n",
    "\n",
    "2 - Goz ardi edilebilinir."
   ]
  },
  {
   "cell_type": "markdown",
   "id": "a68fac75-f5f9-4d02-b5fc-3256f079046f",
   "metadata": {},
   "source": [
    "## Hipotez Testi"
   ]
  },
  {
   "cell_type": "code",
   "execution_count": 85,
   "id": "b6135b68-fc04-4ffc-8906-d00646983046",
   "metadata": {},
   "outputs": [
    {
     "data": {
      "text/plain": [
       "Ttest_relResult(statistic=-9.281533480429937, pvalue=2.0235251764440722e-11)"
      ]
     },
     "execution_count": 85,
     "metadata": {},
     "output_type": "execute_result"
    }
   ],
   "source": [
    "stats.ttest_rel(AYRIK.ONCESI, AYRIK.SONRASI)"
   ]
  },
  {
   "cell_type": "code",
   "execution_count": 86,
   "id": "c8e4d9a7-ce54-4d64-98fd-b127faca94dd",
   "metadata": {},
   "outputs": [
    {
     "name": "stdout",
     "output_type": "stream",
     "text": [
      "Test istatistigi = -9.2815, p-degeri = 0.0000\n"
     ]
    }
   ],
   "source": [
    "test_istatistigi, pvalue = stats.ttest_rel(AYRIK.ONCESI, AYRIK.SONRASI)\n",
    "print('Test istatistigi = %.4f, p-degeri = %.4f' % (test_istatistigi, pvalue))"
   ]
  },
  {
   "cell_type": "markdown",
   "id": "d8788755-d65a-452c-a800-9cf0eb345ac8",
   "metadata": {},
   "source": [
    "# <font color=red>05.G - Nonparametrik Bagimli iki Orneklem Testi <font>"
   ]
  },
  {
   "cell_type": "code",
   "execution_count": 87,
   "id": "61d13385-957c-4d91-b5d1-d8fc60f16946",
   "metadata": {},
   "outputs": [
    {
     "data": {
      "text/plain": [
       "WilcoxonResult(statistic=15.0, pvalue=2.491492033374464e-07)"
      ]
     },
     "execution_count": 87,
     "metadata": {},
     "output_type": "execute_result"
    }
   ],
   "source": [
    "# Varsayimlar saglanmadigi dusunulurse\n",
    "\n",
    "stats.wilcoxon(AYRIK.ONCESI, AYRIK.SONRASI)"
   ]
  },
  {
   "cell_type": "code",
   "execution_count": 88,
   "id": "ba3e2f41-9f54-4ee6-a3ad-cfc8ac4c1e43",
   "metadata": {},
   "outputs": [
    {
     "name": "stdout",
     "output_type": "stream",
     "text": [
      "Test istatistigi = -9.2815\n",
      "P-degeri = 0.0000\n"
     ]
    }
   ],
   "source": [
    "test_istatistigi, pvalue = stats.ttest_rel(AYRIK.ONCESI, AYRIK.SONRASI)\n",
    "print('Test istatistigi = %.4f\\nP-degeri = %.4f' % (test_istatistigi, pvalue))"
   ]
  },
  {
   "cell_type": "markdown",
   "id": "a1e75f3f-7a9a-4908-ad60-2b3d60e0d867",
   "metadata": {},
   "source": [
    "Sonuc : iki grup arasinda ist. olarak anlamli farklilik vardir. Neden ?\n",
    "\n",
    "P-value < 0.05 old. icin H0 ret edilir . Ortalamalar esittir ret edilir. "
   ]
  },
  {
   "cell_type": "markdown",
   "id": "984e415c-c1cf-44f9-8813-6574290c571f",
   "metadata": {},
   "source": [
    "# <font color=red>05.H - iki Orneklem Oran Testi<font>"
   ]
  },
  {
   "cell_type": "markdown",
   "id": "1240768d-45b1-4603-b30e-1d78da661470",
   "metadata": {},
   "source": [
    "#### Yeni Kutuphane ekledik ====> from statsmodels.stats.proportion import proportions_ztest"
   ]
  },
  {
   "cell_type": "code",
   "execution_count": 89,
   "id": "1fa06059-25dc-492f-a2be-468306f7ae72",
   "metadata": {},
   "outputs": [],
   "source": [
    "from statsmodels.stats.proportion import proportions_ztest"
   ]
  },
  {
   "cell_type": "markdown",
   "id": "03bdd2d9-abbc-4bb3-ade6-e04a324815fd",
   "metadata": {},
   "source": [
    "Problem : \n",
    "Yesil Buton = 1000 goruntulenme , 300 tiklama \n",
    "\n",
    "Kirmizi Buton = 1100 goruntulenme , 250 tiklama\n",
    "\n",
    "H0: Tiklama sayilari esittir."
   ]
  },
  {
   "cell_type": "code",
   "execution_count": 90,
   "id": "fb90d225-8d1b-44d9-a0ac-05cb1c7b1e68",
   "metadata": {},
   "outputs": [],
   "source": [
    "basari_sayilari = np.array([300, 250])\n",
    "gozlem_sayilari = np.array([1000, 1100])"
   ]
  },
  {
   "cell_type": "code",
   "execution_count": 91,
   "id": "853bb9c8-c185-43d3-ac40-78496d49999b",
   "metadata": {},
   "outputs": [
    {
     "data": {
      "text/plain": [
       "(3.7857863233209255, 0.0001532232957772221)"
      ]
     },
     "execution_count": 91,
     "metadata": {},
     "output_type": "execute_result"
    }
   ],
   "source": [
    "proportions_ztest(count= basari_sayilari, nobs= gozlem_sayilari)"
   ]
  },
  {
   "cell_type": "markdown",
   "id": "64cf4cd9-217c-47ff-8cce-bd4a5c949e22",
   "metadata": {},
   "source": [
    "Sonuc : P-Value < 0.05 old. icin Ho ret edilir"
   ]
  },
  {
   "cell_type": "markdown",
   "id": "a23eedd0-e3bc-4f7c-88aa-4168f5200059",
   "metadata": {},
   "source": [
    "# <font color=red>06 - Varyans Analizi <font>(ANOVA = ANALYSIS OF VARIANCE"
   ]
  },
  {
   "cell_type": "markdown",
   "id": "830d83aa-b675-4d31-858c-1ba845d59c69",
   "metadata": {},
   "source": [
    "H0: M1 = M2 = M3 (grup ortalamalari arasinda ist anl. farklilik yoktur) \n",
    "\n",
    "H1: Fark vardir."
   ]
  },
  {
   "cell_type": "code",
   "execution_count": 92,
   "id": "283c6ed5-c058-4529-8b99-a91eed5741f7",
   "metadata": {},
   "outputs": [
    {
     "data": {
      "text/html": [
       "<div>\n",
       "<style scoped>\n",
       "    .dataframe tbody tr th:only-of-type {\n",
       "        vertical-align: middle;\n",
       "    }\n",
       "\n",
       "    .dataframe tbody tr th {\n",
       "        vertical-align: top;\n",
       "    }\n",
       "\n",
       "    .dataframe thead th {\n",
       "        text-align: right;\n",
       "    }\n",
       "</style>\n",
       "<table border=\"1\" class=\"dataframe\">\n",
       "  <thead>\n",
       "    <tr style=\"text-align: right;\">\n",
       "      <th></th>\n",
       "      <th>GRUP_A</th>\n",
       "      <th>GRUP_B</th>\n",
       "      <th>GRUP_C</th>\n",
       "    </tr>\n",
       "  </thead>\n",
       "  <tbody>\n",
       "    <tr>\n",
       "      <th>0</th>\n",
       "      <td>28</td>\n",
       "      <td>31</td>\n",
       "      <td>40</td>\n",
       "    </tr>\n",
       "    <tr>\n",
       "      <th>1</th>\n",
       "      <td>33</td>\n",
       "      <td>32</td>\n",
       "      <td>33</td>\n",
       "    </tr>\n",
       "    <tr>\n",
       "      <th>2</th>\n",
       "      <td>30</td>\n",
       "      <td>30</td>\n",
       "      <td>38</td>\n",
       "    </tr>\n",
       "    <tr>\n",
       "      <th>3</th>\n",
       "      <td>29</td>\n",
       "      <td>30</td>\n",
       "      <td>41</td>\n",
       "    </tr>\n",
       "    <tr>\n",
       "      <th>4</th>\n",
       "      <td>28</td>\n",
       "      <td>33</td>\n",
       "      <td>42</td>\n",
       "    </tr>\n",
       "  </tbody>\n",
       "</table>\n",
       "</div>"
      ],
      "text/plain": [
       "   GRUP_A  GRUP_B  GRUP_C\n",
       "0      28      31      40\n",
       "1      33      32      33\n",
       "2      30      30      38\n",
       "3      29      30      41\n",
       "4      28      33      42"
      ]
     },
     "execution_count": 92,
     "metadata": {},
     "output_type": "execute_result"
    }
   ],
   "source": [
    "A = pd.DataFrame([28,33,30,29,28,29,27,31,30,32,28,33,25,29,27,31,31,30,31,34,30,32,31,34,28,32,31,28,33,29])\n",
    "\n",
    "B = pd.DataFrame([31,32,30,30,33,32,34,27,36,30,31,30,38,29,30,34,34,31,35,35,33,30,28,29,26,37,31,28,34,33])\n",
    "\n",
    "C = pd.DataFrame([40,33,38,41,42,43,38,35,39,39,36,34,35,40,38,36,39,36,33,35,38,35,40,40,39,38,38,43,40,42])\n",
    "\n",
    "dfs = [A, B, C]\n",
    "\n",
    "ABC = pd.concat(dfs, axis=1)\n",
    "ABC.columns = ['GRUP_A', 'GRUP_B', 'GRUP_C']\n",
    "ABC.head()"
   ]
  },
  {
   "cell_type": "markdown",
   "id": "902c8862-ce7a-452c-a074-a653c7b5bf8c",
   "metadata": {},
   "source": [
    "## Varsayim Kontrolu"
   ]
  },
  {
   "cell_type": "markdown",
   "id": "bacd4d1c-767a-4e8f-9aab-8d2801e42971",
   "metadata": {},
   "source": [
    "3 Tane Varsayim var:\n",
    "\n",
    "    1. Gruplarin Bagimsizligi\n",
    "    \n",
    "    2. Normallik varsayimi (Shahprio)\n",
    "    \n",
    "    3. Varyans Homejenligi Varsayimi (leven Testi)"
   ]
  },
  {
   "cell_type": "markdown",
   "id": "a3a0571c-1298-47e9-b730-956bcad8a0dc",
   "metadata": {},
   "source": [
    "### Normallik Testi (shaprio)"
   ]
  },
  {
   "cell_type": "code",
   "execution_count": 93,
   "id": "57c56b54-c286-40e5-b8b8-eca96d04687a",
   "metadata": {},
   "outputs": [
    {
     "data": {
      "text/plain": [
       "ShapiroResult(statistic=0.9697431921958923, pvalue=0.5321715474128723)"
      ]
     },
     "execution_count": 93,
     "metadata": {},
     "output_type": "execute_result"
    }
   ],
   "source": [
    "shapiro(ABC.GRUP_A)"
   ]
  },
  {
   "cell_type": "code",
   "execution_count": 94,
   "id": "4795042b-a9ae-412d-932d-f43fb416e0fb",
   "metadata": {},
   "outputs": [
    {
     "data": {
      "text/plain": [
       "ShapiroResult(statistic=0.9789854884147644, pvalue=0.7979801297187805)"
      ]
     },
     "execution_count": 94,
     "metadata": {},
     "output_type": "execute_result"
    }
   ],
   "source": [
    "shapiro(ABC['GRUP_B'])"
   ]
  },
  {
   "cell_type": "code",
   "execution_count": 95,
   "id": "68c61885-a3ca-442b-ac92-45cd6923dd86",
   "metadata": {},
   "outputs": [
    {
     "data": {
      "text/plain": [
       "ShapiroResult(statistic=0.9789854884147644, pvalue=0.7979801297187805)"
      ]
     },
     "execution_count": 95,
     "metadata": {},
     "output_type": "execute_result"
    }
   ],
   "source": [
    "shapiro(ABC.GRUP_B)"
   ]
  },
  {
   "cell_type": "markdown",
   "id": "3e9b8bfe-b537-488b-b165-78151b2d58d7",
   "metadata": {},
   "source": [
    "### Varsayim Homejenligi Testi (levene)"
   ]
  },
  {
   "cell_type": "code",
   "execution_count": 96,
   "id": "bb1f5463-6cf1-4ca5-924d-e521c003fbb0",
   "metadata": {},
   "outputs": [
    {
     "data": {
      "text/plain": [
       "LeveneResult(statistic=1.0267403645055275, pvalue=0.36247110117417064)"
      ]
     },
     "execution_count": 96,
     "metadata": {},
     "output_type": "execute_result"
    }
   ],
   "source": [
    "stats.levene(ABC.GRUP_A, ABC.GRUP_B, ABC.GRUP_C)"
   ]
  },
  {
   "cell_type": "markdown",
   "id": "5ad9e128-ceae-4e59-81ce-51fe328b5cfb",
   "metadata": {},
   "source": [
    "Alt tarafatkileri (levene) ben extra yaptim"
   ]
  },
  {
   "cell_type": "code",
   "execution_count": 97,
   "id": "f90b3ba4-266d-4fcc-9a4c-be325342d7b9",
   "metadata": {},
   "outputs": [
    {
     "data": {
      "text/plain": [
       "LeveneResult(statistic=1.9431949918849991, pvalue=0.16863992706910064)"
      ]
     },
     "execution_count": 97,
     "metadata": {},
     "output_type": "execute_result"
    }
   ],
   "source": [
    "stats.levene(ABC.GRUP_A, ABC.GRUP_B)"
   ]
  },
  {
   "cell_type": "code",
   "execution_count": 98,
   "id": "c1617846-506c-4e47-b117-6b89df7e1a65",
   "metadata": {},
   "outputs": [
    {
     "data": {
      "text/plain": [
       "LeveneResult(statistic=1.2948480845442538, pvalue=0.25983525149338893)"
      ]
     },
     "execution_count": 98,
     "metadata": {},
     "output_type": "execute_result"
    }
   ],
   "source": [
    "stats.levene(ABC.GRUP_A, ABC.GRUP_C)"
   ]
  },
  {
   "cell_type": "code",
   "execution_count": 99,
   "id": "fba9ee99-c0cd-4ede-bbc5-67d2d308bf38",
   "metadata": {},
   "outputs": [
    {
     "data": {
      "text/plain": [
       "LeveneResult(statistic=0.0877126654064272, pvalue=0.7681632833983904)"
      ]
     },
     "execution_count": 99,
     "metadata": {},
     "output_type": "execute_result"
    }
   ],
   "source": [
    "stats.levene(ABC.GRUP_B, ABC.GRUP_C)"
   ]
  },
  {
   "cell_type": "markdown",
   "id": "44b5ddfd-0b79-4a2b-85f6-8479b0890709",
   "metadata": {},
   "source": [
    "## Varyans Analazi Hipotez Testi"
   ]
  },
  {
   "cell_type": "code",
   "execution_count": 100,
   "id": "89f43f21-594f-4a26-b653-6da2cd1b9670",
   "metadata": {},
   "outputs": [],
   "source": [
    "from scipy.stats import f_oneway"
   ]
  },
  {
   "cell_type": "code",
   "execution_count": 101,
   "id": "9de734f0-aac5-4e47-9f53-15e8d458c9a3",
   "metadata": {},
   "outputs": [
    {
     "data": {
      "text/plain": [
       "F_onewayResult(statistic=74.69278140730431, pvalue=1.3079050746811477e-19)"
      ]
     },
     "execution_count": 101,
     "metadata": {},
     "output_type": "execute_result"
    }
   ],
   "source": [
    "f_oneway(ABC.GRUP_A, ABC.GRUP_B, ABC.GRUP_C)"
   ]
  },
  {
   "cell_type": "markdown",
   "id": "fc00a1b3-b311-46a5-b365-81f35da740db",
   "metadata": {},
   "source": [
    "SONUC = P-Value 0.05 den kucuk oldugu icin uc grup da esittir tezi ret edilir."
   ]
  },
  {
   "cell_type": "code",
   "execution_count": 102,
   "id": "d42e4cf6-d078-4597-8753-6f4c520ca174",
   "metadata": {},
   "outputs": [
    {
     "name": "stdout",
     "output_type": "stream",
     "text": [
      "0.00000\n"
     ]
    }
   ],
   "source": [
    "print('{:.5f}'.format(f_oneway(ABC.GRUP_A, ABC.GRUP_B, ABC.GRUP_C)[1]))"
   ]
  },
  {
   "cell_type": "code",
   "execution_count": 103,
   "id": "3d2fe703-934d-4ad9-95fc-ee421b25e845",
   "metadata": {},
   "outputs": [
    {
     "data": {
      "text/html": [
       "<div>\n",
       "<style scoped>\n",
       "    .dataframe tbody tr th:only-of-type {\n",
       "        vertical-align: middle;\n",
       "    }\n",
       "\n",
       "    .dataframe tbody tr th {\n",
       "        vertical-align: top;\n",
       "    }\n",
       "\n",
       "    .dataframe thead th {\n",
       "        text-align: right;\n",
       "    }\n",
       "</style>\n",
       "<table border=\"1\" class=\"dataframe\">\n",
       "  <thead>\n",
       "    <tr style=\"text-align: right;\">\n",
       "      <th></th>\n",
       "      <th>count</th>\n",
       "      <th>mean</th>\n",
       "      <th>std</th>\n",
       "      <th>min</th>\n",
       "      <th>25%</th>\n",
       "      <th>50%</th>\n",
       "      <th>75%</th>\n",
       "      <th>max</th>\n",
       "    </tr>\n",
       "  </thead>\n",
       "  <tbody>\n",
       "    <tr>\n",
       "      <th>GRUP_A</th>\n",
       "      <td>30.0</td>\n",
       "      <td>30.133333</td>\n",
       "      <td>2.224214</td>\n",
       "      <td>25.0</td>\n",
       "      <td>28.25</td>\n",
       "      <td>30.0</td>\n",
       "      <td>31.75</td>\n",
       "      <td>34.0</td>\n",
       "    </tr>\n",
       "    <tr>\n",
       "      <th>GRUP_B</th>\n",
       "      <td>30.0</td>\n",
       "      <td>31.700000</td>\n",
       "      <td>2.937862</td>\n",
       "      <td>26.0</td>\n",
       "      <td>30.00</td>\n",
       "      <td>31.0</td>\n",
       "      <td>34.00</td>\n",
       "      <td>38.0</td>\n",
       "    </tr>\n",
       "    <tr>\n",
       "      <th>GRUP_C</th>\n",
       "      <td>30.0</td>\n",
       "      <td>38.100000</td>\n",
       "      <td>2.808239</td>\n",
       "      <td>33.0</td>\n",
       "      <td>36.00</td>\n",
       "      <td>38.0</td>\n",
       "      <td>40.00</td>\n",
       "      <td>43.0</td>\n",
       "    </tr>\n",
       "  </tbody>\n",
       "</table>\n",
       "</div>"
      ],
      "text/plain": [
       "        count       mean       std   min    25%   50%    75%   max\n",
       "GRUP_A   30.0  30.133333  2.224214  25.0  28.25  30.0  31.75  34.0\n",
       "GRUP_B   30.0  31.700000  2.937862  26.0  30.00  31.0  34.00  38.0\n",
       "GRUP_C   30.0  38.100000  2.808239  33.0  36.00  38.0  40.00  43.0"
      ]
     },
     "execution_count": 103,
     "metadata": {},
     "output_type": "execute_result"
    }
   ],
   "source": [
    "ABC.describe().T"
   ]
  },
  {
   "cell_type": "code",
   "execution_count": 104,
   "id": "9f350379-80be-435b-9d7d-1ef3a7b9747c",
   "metadata": {},
   "outputs": [
    {
     "data": {
      "image/png": "[encoded data removed]",
      "text/plain": [
       "<Figure size 432x288 with 1 Axes>"
      ]
     },
     "metadata": {},
     "output_type": "display_data"
    }
   ],
   "source": [
    "sns.boxplot(data = ABC);"
   ]
  },
  {
   "cell_type": "markdown",
   "id": "c950393a-4ec0-4931-aeb0-2d80fc018eb7",
   "metadata": {},
   "source": [
    "## Nonparametrik Varyans Analiz Hipotiz Testi"
   ]
  },
  {
   "cell_type": "code",
   "execution_count": 105,
   "id": "b2e0dd9e-f85a-428c-96c9-834190c9d4fa",
   "metadata": {},
   "outputs": [],
   "source": [
    "from scipy.stats import kruskal"
   ]
  },
  {
   "cell_type": "code",
   "execution_count": 106,
   "id": "8fe7af2a-ed22-4216-8179-3a0e1b8c8a28",
   "metadata": {},
   "outputs": [
    {
     "data": {
      "text/plain": [
       "KruskalResult(statistic=54.19819735523783, pvalue=1.7022015426175926e-12)"
      ]
     },
     "execution_count": 106,
     "metadata": {},
     "output_type": "execute_result"
    }
   ],
   "source": [
    "kruskal(ABC.GRUP_A, ABC.GRUP_B, ABC.GRUP_C)"
   ]
  },
  {
   "cell_type": "markdown",
   "id": "f79f69cc-12c2-4860-ac7d-9b85e104ac2f",
   "metadata": {},
   "source": [
    "SONUC = P-Value 0.05 den kucuk oldugu icin uc grup da esittir tezi ret edilir.\n",
    "\n",
    "Ama burda varsayimlar saglanmadigi varsayildi ve bu test yapildi."
   ]
  },
  {
   "cell_type": "markdown",
   "id": "30d0b70d-8010-498e-9604-f378f50ff01c",
   "metadata": {},
   "source": [
    "# <font color=red>07 - Korelasyon Analizi <font>"
   ]
  },
  {
   "cell_type": "markdown",
   "id": "d48c9342-3fb4-48de-b46e-bbb95da2dc7f",
   "metadata": {},
   "source": [
    "H0:ro = 0 .... ro esittir sifir, yani iki degisken arasinda iliski yoktur (P-Value < 0.05 ise ret edilir , yani iliski vardir denir.)\n",
    "\n",
    "H1:ro !=0 .... ro esitt degil sifir"
   ]
  },
  {
   "cell_type": "markdown",
   "id": "cd6fe4c8-a46b-4aa8-834a-ea28324f73da",
   "metadata": {},
   "source": [
    "Bahşiş veri seti:\n",
    "\n",
    "total_bill: yemeğin toplam fiyatı (bahşiş ve vergi dahil)\n",
    "\n",
    "tip: bahşiş\n",
    "\n",
    "sex: ücreti ödeyen kişinin cinsiyeti (0=male, 1=female)\n",
    "\n",
    "smoker: grupta sigara içen var mı? (0=No, 1=Yes)\n",
    "\n",
    "day: gün (3=Thur, 4=Fri, 5=Sat, 6=Sun)\n",
    "\n",
    "time: ne zaman? (0=Day, 1=Night)\n",
    "\n",
    "size: grupta kaç kişi var?"
   ]
  },
  {
   "cell_type": "code",
   "execution_count": 107,
   "id": "c277bcaf-06d4-4d7d-91ae-5b7d8752bf0f",
   "metadata": {},
   "outputs": [
    {
     "data": {
      "text/html": [
       "<div>\n",
       "<style scoped>\n",
       "    .dataframe tbody tr th:only-of-type {\n",
       "        vertical-align: middle;\n",
       "    }\n",
       "\n",
       "    .dataframe tbody tr th {\n",
       "        vertical-align: top;\n",
       "    }\n",
       "\n",
       "    .dataframe thead th {\n",
       "        text-align: right;\n",
       "    }\n",
       "</style>\n",
       "<table border=\"1\" class=\"dataframe\">\n",
       "  <thead>\n",
       "    <tr style=\"text-align: right;\">\n",
       "      <th></th>\n",
       "      <th>total_bill</th>\n",
       "      <th>tip</th>\n",
       "      <th>sex</th>\n",
       "      <th>smoker</th>\n",
       "      <th>day</th>\n",
       "      <th>time</th>\n",
       "      <th>size</th>\n",
       "    </tr>\n",
       "  </thead>\n",
       "  <tbody>\n",
       "    <tr>\n",
       "      <th>0</th>\n",
       "      <td>16.99</td>\n",
       "      <td>1.01</td>\n",
       "      <td>Female</td>\n",
       "      <td>No</td>\n",
       "      <td>Sun</td>\n",
       "      <td>Dinner</td>\n",
       "      <td>2</td>\n",
       "    </tr>\n",
       "    <tr>\n",
       "      <th>1</th>\n",
       "      <td>10.34</td>\n",
       "      <td>1.66</td>\n",
       "      <td>Male</td>\n",
       "      <td>No</td>\n",
       "      <td>Sun</td>\n",
       "      <td>Dinner</td>\n",
       "      <td>3</td>\n",
       "    </tr>\n",
       "    <tr>\n",
       "      <th>2</th>\n",
       "      <td>21.01</td>\n",
       "      <td>3.50</td>\n",
       "      <td>Male</td>\n",
       "      <td>No</td>\n",
       "      <td>Sun</td>\n",
       "      <td>Dinner</td>\n",
       "      <td>3</td>\n",
       "    </tr>\n",
       "    <tr>\n",
       "      <th>3</th>\n",
       "      <td>23.68</td>\n",
       "      <td>3.31</td>\n",
       "      <td>Male</td>\n",
       "      <td>No</td>\n",
       "      <td>Sun</td>\n",
       "      <td>Dinner</td>\n",
       "      <td>2</td>\n",
       "    </tr>\n",
       "    <tr>\n",
       "      <th>4</th>\n",
       "      <td>24.59</td>\n",
       "      <td>3.61</td>\n",
       "      <td>Female</td>\n",
       "      <td>No</td>\n",
       "      <td>Sun</td>\n",
       "      <td>Dinner</td>\n",
       "      <td>4</td>\n",
       "    </tr>\n",
       "  </tbody>\n",
       "</table>\n",
       "</div>"
      ],
      "text/plain": [
       "   total_bill   tip     sex smoker  day    time  size\n",
       "0       16.99  1.01  Female     No  Sun  Dinner     2\n",
       "1       10.34  1.66    Male     No  Sun  Dinner     3\n",
       "2       21.01  3.50    Male     No  Sun  Dinner     3\n",
       "3       23.68  3.31    Male     No  Sun  Dinner     2\n",
       "4       24.59  3.61  Female     No  Sun  Dinner     4"
      ]
     },
     "execution_count": 107,
     "metadata": {},
     "output_type": "execute_result"
    }
   ],
   "source": [
    "df = sns.load_dataset('tips')\n",
    "df.head()"
   ]
  },
  {
   "cell_type": "code",
   "execution_count": 108,
   "id": "c650a872-1944-4aba-a37b-643d4a3da28e",
   "metadata": {},
   "outputs": [
    {
     "data": {
      "text/html": [
       "<div>\n",
       "<style scoped>\n",
       "    .dataframe tbody tr th:only-of-type {\n",
       "        vertical-align: middle;\n",
       "    }\n",
       "\n",
       "    .dataframe tbody tr th {\n",
       "        vertical-align: top;\n",
       "    }\n",
       "\n",
       "    .dataframe thead th {\n",
       "        text-align: right;\n",
       "    }\n",
       "</style>\n",
       "<table border=\"1\" class=\"dataframe\">\n",
       "  <thead>\n",
       "    <tr style=\"text-align: right;\">\n",
       "      <th></th>\n",
       "      <th>total_bill</th>\n",
       "      <th>tip</th>\n",
       "      <th>sex</th>\n",
       "      <th>smoker</th>\n",
       "      <th>day</th>\n",
       "      <th>time</th>\n",
       "      <th>size</th>\n",
       "    </tr>\n",
       "  </thead>\n",
       "  <tbody>\n",
       "    <tr>\n",
       "      <th>0</th>\n",
       "      <td>15.98</td>\n",
       "      <td>1.01</td>\n",
       "      <td>Female</td>\n",
       "      <td>No</td>\n",
       "      <td>Sun</td>\n",
       "      <td>Dinner</td>\n",
       "      <td>2</td>\n",
       "    </tr>\n",
       "    <tr>\n",
       "      <th>1</th>\n",
       "      <td>8.68</td>\n",
       "      <td>1.66</td>\n",
       "      <td>Male</td>\n",
       "      <td>No</td>\n",
       "      <td>Sun</td>\n",
       "      <td>Dinner</td>\n",
       "      <td>3</td>\n",
       "    </tr>\n",
       "    <tr>\n",
       "      <th>2</th>\n",
       "      <td>17.51</td>\n",
       "      <td>3.50</td>\n",
       "      <td>Male</td>\n",
       "      <td>No</td>\n",
       "      <td>Sun</td>\n",
       "      <td>Dinner</td>\n",
       "      <td>3</td>\n",
       "    </tr>\n",
       "    <tr>\n",
       "      <th>3</th>\n",
       "      <td>20.37</td>\n",
       "      <td>3.31</td>\n",
       "      <td>Male</td>\n",
       "      <td>No</td>\n",
       "      <td>Sun</td>\n",
       "      <td>Dinner</td>\n",
       "      <td>2</td>\n",
       "    </tr>\n",
       "    <tr>\n",
       "      <th>4</th>\n",
       "      <td>20.98</td>\n",
       "      <td>3.61</td>\n",
       "      <td>Female</td>\n",
       "      <td>No</td>\n",
       "      <td>Sun</td>\n",
       "      <td>Dinner</td>\n",
       "      <td>4</td>\n",
       "    </tr>\n",
       "  </tbody>\n",
       "</table>\n",
       "</div>"
      ],
      "text/plain": [
       "   total_bill   tip     sex smoker  day    time  size\n",
       "0       15.98  1.01  Female     No  Sun  Dinner     2\n",
       "1        8.68  1.66    Male     No  Sun  Dinner     3\n",
       "2       17.51  3.50    Male     No  Sun  Dinner     3\n",
       "3       20.37  3.31    Male     No  Sun  Dinner     2\n",
       "4       20.98  3.61  Female     No  Sun  Dinner     4"
      ]
     },
     "execution_count": 108,
     "metadata": {},
     "output_type": "execute_result"
    }
   ],
   "source": [
    "# Dikkat Total_bill icinde bill oldugu icin,\n",
    "#tip ve total_bill korelasyonunu direkt yaparsak yaniltir.\n",
    "# Bu yuzden total_bill den tip cikarilir\n",
    "\n",
    "df['total_bill'] = df.total_bill - df.tip\n",
    "df.head()"
   ]
  },
  {
   "cell_type": "code",
   "execution_count": 109,
   "id": "594280b6-de45-414a-b66a-96073761dce1",
   "metadata": {
    "tags": []
   },
   "outputs": [],
   "source": [
    "#df.plot.scatter Grafigi\n",
    "\n",
    "#df.plot.scatter(\"tip\", \"total_bill\");"
   ]
  },
  {
   "cell_type": "markdown",
   "id": "0e8e9ddd-9ef5-48ba-b769-e11f927c42de",
   "metadata": {},
   "source": [
    "## Varsayim Kontrolu"
   ]
  },
  {
   "cell_type": "code",
   "execution_count": 110,
   "id": "ff7c7d13-7879-4071-9856-85e91c9a9e5e",
   "metadata": {},
   "outputs": [],
   "source": [
    "# Nromallik Varsayimi"
   ]
  },
  {
   "cell_type": "code",
   "execution_count": 111,
   "id": "96d251b1-218f-4521-bf9b-00870f6ba6b1",
   "metadata": {},
   "outputs": [
    {
     "data": {
      "text/plain": [
       "ShapiroResult(statistic=0.897811233997345, pvalue=8.20057563521992e-12)"
      ]
     },
     "execution_count": 111,
     "metadata": {},
     "output_type": "execute_result"
    }
   ],
   "source": [
    "shapiro(df['tip'])"
   ]
  },
  {
   "cell_type": "code",
   "execution_count": 112,
   "id": "207f1320-50bb-4350-a3a4-f9bae89ec869",
   "metadata": {},
   "outputs": [
    {
     "data": {
      "text/plain": [
       "ShapiroResult(statistic=0.9135652184486389, pvalue=1.1060377613780759e-10)"
      ]
     },
     "execution_count": 112,
     "metadata": {},
     "output_type": "execute_result"
    }
   ],
   "source": [
    "shapiro(df.total_bill)"
   ]
  },
  {
   "cell_type": "markdown",
   "id": "4bd79179-7bca-44ff-a55a-118022aff0c8",
   "metadata": {},
   "source": [
    "Sonuc = Varsayimlar Ret edilir cunku ;\n",
    "\n",
    "Tip ve Total_Bill icin;\n",
    "\n",
    "P_Value < 0.05 oldugu icin normallik ret edilir, dagilim normal degildir.Bu yuzden Nonparametrik test olan spearman testi kullanilir. \n"
   ]
  },
  {
   "cell_type": "markdown",
   "id": "97c8248c-ab0b-42b4-9ea8-cc67aa96e2b2",
   "metadata": {},
   "source": [
    "## Korelasyon Analiz Hipotez Testi (Parametrik)\n",
    "\n",
    "### Korelasyin Kaysayisi "
   ]
  },
  {
   "cell_type": "code",
   "execution_count": 113,
   "id": "321ab2c9-2da9-4e38-83c0-925d6e8c8d6b",
   "metadata": {},
   "outputs": [
    {
     "data": {
      "text/plain": [
       "0.5766634471096374"
      ]
     },
     "execution_count": 113,
     "metadata": {},
     "output_type": "execute_result"
    }
   ],
   "source": [
    "df['tip'].corr(df['total_bill'])"
   ]
  },
  {
   "cell_type": "code",
   "execution_count": 114,
   "id": "d083d996-024d-4f3d-8492-cb0993bd8374",
   "metadata": {},
   "outputs": [
    {
     "data": {
      "text/plain": [
       "0.593691939408997"
      ]
     },
     "execution_count": 114,
     "metadata": {},
     "output_type": "execute_result"
    }
   ],
   "source": [
    "# Dikkat = Varsayim saglanmadigi icin (normallik varsayimi) spearman korelasyon kat sayisi hesaplanir\n",
    "\n",
    "df['tip'].corr(df['total_bill'], method= 'spearman')"
   ]
  },
  {
   "cell_type": "markdown",
   "id": "9e5088a9-a0ad-4f71-9462-a4142542540b",
   "metadata": {},
   "source": [
    "### Korelasyon Anlamlilik Testi"
   ]
  },
  {
   "cell_type": "code",
   "execution_count": 115,
   "id": "6718edef-0672-4d55-90b4-7e8f1d387d1f",
   "metadata": {},
   "outputs": [],
   "source": [
    "from scipy.stats.stats import pearsonr"
   ]
  },
  {
   "cell_type": "code",
   "execution_count": 116,
   "id": "7081c40e-5a27-4819-a01f-fa8f875efbe6",
   "metadata": {},
   "outputs": [
    {
     "data": {
      "text/plain": [
       "(0.5766634471096382, 5.018290084948277e-23)"
      ]
     },
     "execution_count": 116,
     "metadata": {},
     "output_type": "execute_result"
    }
   ],
   "source": [
    "pearsonr(df.tip, df.total_bill)"
   ]
  },
  {
   "cell_type": "markdown",
   "id": "2a22d243-87e0-42a2-9929-61784779312e",
   "metadata": {},
   "source": [
    "Sonuc = Test istatistigi (corr katsayisi) : 0.5766634471096382 , p-value : 5.018290084948277e-23 "
   ]
  },
  {
   "cell_type": "code",
   "execution_count": 117,
   "id": "e40dd459-8d99-42e9-b541-7227f53badd8",
   "metadata": {},
   "outputs": [
    {
     "name": "stdout",
     "output_type": "stream",
     "text": [
      "Korelasyon Katsayısı = 0.5767, p-değeri = 0.0000\n"
     ]
    }
   ],
   "source": [
    "test_istatistigi, pvalue = stats.pearsonr(df[\"tip\"],df[\"total_bill\"])\n",
    "\n",
    "print('Korelasyon Katsayısı = %.4f, p-değeri = %.4f' % (test_istatistigi, pvalue))"
   ]
  },
  {
   "cell_type": "markdown",
   "id": "0f1b302d-bce8-4d73-8ef7-dc3a689b7f86",
   "metadata": {},
   "source": [
    "## Nonparametrik Hipotez Testi"
   ]
  },
  {
   "cell_type": "code",
   "execution_count": 118,
   "id": "4e85faf4-85d1-4593-916f-dc898293e7df",
   "metadata": {},
   "outputs": [
    {
     "data": {
      "text/plain": [
       "SpearmanrResult(correlation=0.593691939408997, pvalue=1.2452285137560276e-24)"
      ]
     },
     "execution_count": 118,
     "metadata": {},
     "output_type": "execute_result"
    }
   ],
   "source": [
    "stats.spearmanr(df.tip, df.total_bill)"
   ]
  },
  {
   "cell_type": "markdown",
   "id": "027ff2be-0e5e-42c1-b8bb-5ff9e8a64aba",
   "metadata": {},
   "source": [
    "Sonuc =\n",
    "\n",
    "1 - Tip ve Totat_bill arasinda orta siddete pozitif iliski vardir.\n",
    "\n",
    "2 - p_value < 0.05 oldugu icin Ho ret edilir, yani iliski yoktur ret edilir."
   ]
  },
  {
   "cell_type": "code",
   "execution_count": 119,
   "id": "6c7ee0a6-ef34-4a6d-a5e0-378e75a887b1",
   "metadata": {},
   "outputs": [
    {
     "data": {
      "text/plain": [
       "KendalltauResult(correlation=0.4400790074919885, pvalue=7.131027725873721e-24)"
      ]
     },
     "execution_count": 119,
     "metadata": {},
     "output_type": "execute_result"
    }
   ],
   "source": [
    "stats.kendalltau(df.tip, df.total_bill)"
   ]
  },
  {
   "cell_type": "markdown",
   "id": "de866144-b58c-4a31-b06c-7b7de81bd024",
   "metadata": {},
   "source": [
    "Sonuc = Kendalltau da corr. katsayisi daha dusuk cikmis, temkinli yaklasmis.\n",
    "\n",
    "Ama burda gerekli varsayim saglanmadigi icin en GUVENILIR olani SPEARMAN testidir."
   ]
  },
  {
   "cell_type": "code",
   "execution_count": null,
   "id": "281ab2db-391d-48dd-a7a8-2095d84606be",
   "metadata": {},
   "outputs": [],
   "source": []
  }
 ],
 "metadata": {
  "kernelspec": {
   "display_name": "Python 3 (ipykernel)",
   "language": "python",
   "name": "python3"
  },
  "language_info": {
   "codemirror_mode": {
    "name": "ipython",
    "version": 3
   },
   "file_extension": ".py",
   "mimetype": "text/x-python",
   "name": "python",
   "nbconvert_exporter": "python",
   "pygments_lexer": "ipython3",
   "version": "3.8.8"
  }
 },
 "nbformat": 4,
 "nbformat_minor": 5
}
